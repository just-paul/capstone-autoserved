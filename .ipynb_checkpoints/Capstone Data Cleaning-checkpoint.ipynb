{
 "cells": [
  {
   "cell_type": "raw",
   "metadata": {},
   "source": []
  },
  {
   "cell_type": "markdown",
   "metadata": {},
   "source": [
    "# Data Cleaning and Exploration"
   ]
  },
  {
   "cell_type": "markdown",
   "metadata": {},
   "source": [
    "## 1.) Problem Definition\r\n",
    "\r\n",
    "> \r\n",
    "* Given historical maintenance and repair transactions of car owners, can we predict the car component that is most likely to fail?\r\n",
    "* Can we predict how many days is the useful life of the component before failure (optional)\r\n",
    "\r\n",
    "\r\n",
    "\r\n",
    "## 2.) Data\r\n",
    "\r\n",
    "## 3.) Features\r\n",
    "\r\n",
    "**Create Data Dictionary**\r\n",
    "\r\n",
    "1. Created\t\r\n",
    "2. Mileage In\r\n",
    "3. Mileage Out\t\r\n",
    "4. Work Order \r\n",
    "5. Year: ***model year** is a method of describing the version of a product which has been produced over multiple years. A vehicle's model year is not necessarily the same as the year it was manufactured.*\r\n",
    "6. Make: *the **brand** of the vehicle*\r\n",
    "7. Model: *refers to the name of a car product and sometimes a range of products*\r\n",
    "8. Submodel: *refers to the specific body type style options of a vehicle *\r\n",
    "   * *For example, the 2018 Honda Civic Sedan have six different trim-level options:\r\n",
    "     * LX*\r\n",
    "     * ET\r\n",
    "     * EX-T\r\n",
    "     * EX-L\r\n",
    "     * Si\r\n",
    "     * Touring\r\n",
    "9. Engine: *a number or code refering to the identification marked on the engine of a vehicle.*\r\n",
    "10. VIN (Vehicle Identification Number): *is the identifying code for a specific automobile. The VIN serves as the car's fingerprint, as no two vehicles in operation have the same VIN.* \r\n",
    "   * We can visit the Vin Decoders [[1](https://vpic.nhtsa.dot.gov/decoder/)], [[2](https://driving-tests.org/vin-decoder/)]\r\n",
    "11. Line Type: general category for the services.\r\n",
    "   * Material\r\n",
    "   * Labor\r\n",
    "   * Sublet (*What is a sublet?*)\r\n",
    "12. Service Category\r\n",
    "   * Oil, Lube & Preventive Maintenance Service\r\n",
    "   * Sublet & Towing\r\n",
    "   * Engine\r\n",
    "   * Electrical (Belts, Lighting, Starting & Charging Systems)\r\n",
    "   * Tires & Wheels\r\n",
    "   * Driveability (Fuel, Ignition & Emission Systems)\r\n",
    "   * Steering & Suspension \r\n",
    "   * Brakes\r\n",
    "   * Cooling System\r\n",
    "   * Transmission & Clutch\r\n",
    "   * Car Detailing Services\r\n",
    "   * Accessories (Gauges, Power Accessories, Vision & Air Bag)\r\n",
    "   * Counter / Cash Sale\r\n",
    "   * HVAC (Heating, Ventilation & Air Conditioning)\r\n",
    "   * Drive Train (Final Drive, Transaxle, Differential & Transfer Case\r\n",
    "   * Batteries\r\n",
    "   * Exhaust\r\n",
    "   * Shop Internal Warranty\r\n",
    "13. Code: (*Is this a unique identifier code in their system?*)\r\n",
    "14. Service Package: *Type of service package offered. How was this data gathered? Manually inputted? Or system defined?* (*There are 4251 unique values that they want to predict. How should we proceed?*)\r\n",
    "15. Line Code\r\n",
    "    * E.ROD\r\n",
    "    * BAN\r\n",
    "    * MIT \r\n",
    "    * FIC\r\n",
    "    * FLE\r\n",
    "    * BEN\r\n",
    "    * SAI\r\n",
    "    * 555\r\n",
    "    * AISIN\r\n",
    "16. Part Number: *Refers to the specific part serviced*(*There are 5396 unique values for Part Number. How should we proceed?*)\r\n",
    "17. Description: **For Clarification** : *Does this column indicate the name of material/product used?*\r\n",
    "18. Manufacturer: *Refers to the manufacturer of the product used during the service.*\r\n",
    "19. Definition: **For Clarification:** *We have 24780 null values here, can we use the description instead? But this is also a good column since it generalizes the type of product used.*\r\n",
    "20. Price\r\n",
    "21. Quantity\r\n",
    "22. Total\r\n",
    "23. Discount\r\n",
    "24. Net Total\r\n",
    "25. Cost\r\n",
    "26. Other Charge Code\r\n",
    "27. ContactID\r\n",
    "28. ServiceItemID\r\n",
    "29. InvoiceID\r\n",
    "30. DefinitionID\r\n",
    "\r\n",
    "\r\n"
   ]
  },
  {
   "cell_type": "markdown",
   "metadata": {},
   "source": [
    "## Import Core Libraries\r\n"
   ]
  },
  {
   "cell_type": "code",
   "execution_count": 9,
   "metadata": {
    "execution": {
     "iopub.execute_input": "2021-03-24T03:34:50.824455Z",
     "iopub.status.busy": "2021-03-24T03:34:50.823143Z",
     "iopub.status.idle": "2021-03-24T03:34:50.844247Z",
     "shell.execute_reply": "2021-03-24T03:34:50.843061Z",
     "shell.execute_reply.started": "2021-03-24T03:34:50.824455Z"
    }
   },
   "outputs": [],
   "source": [
    "import numpy as np\r\n",
    "import pandas as pd\r\n",
    "import matplotlib.pyplot as plt\r\n",
    "import seaborn as sns\r\n",
    "import missingno as msno\r\n",
    "%matplotlib inline\r\n",
    "\r\n",
    "pd.set_option('display.max_columns',50)"
   ]
  },
  {
   "cell_type": "code",
   "execution_count": 10,
   "metadata": {
    "execution": {
     "iopub.execute_input": "2021-03-24T03:34:50.848047Z",
     "iopub.status.busy": "2021-03-24T03:34:50.847052Z",
     "iopub.status.idle": "2021-03-24T03:34:51.816378Z",
     "shell.execute_reply": "2021-03-24T03:34:51.814469Z",
     "shell.execute_reply.started": "2021-03-24T03:34:50.848047Z"
    }
   },
   "outputs": [
    {
     "data": {
      "text/html": [
       "<div>\n",
       "<style scoped>\n",
       "    .dataframe tbody tr th:only-of-type {\n",
       "        vertical-align: middle;\n",
       "    }\n",
       "\n",
       "    .dataframe tbody tr th {\n",
       "        vertical-align: top;\n",
       "    }\n",
       "\n",
       "    .dataframe thead th {\n",
       "        text-align: right;\n",
       "    }\n",
       "</style>\n",
       "<table border=\"1\" class=\"dataframe\">\n",
       "  <thead>\n",
       "    <tr style=\"text-align: right;\">\n",
       "      <th></th>\n",
       "      <th>Created</th>\n",
       "      <th>Mileage In</th>\n",
       "      <th>Mileage Out</th>\n",
       "      <th>Work Order</th>\n",
       "      <th>Year</th>\n",
       "      <th>Make</th>\n",
       "      <th>Model</th>\n",
       "      <th>Submodel</th>\n",
       "      <th>Engine</th>\n",
       "      <th>VIN</th>\n",
       "      <th>Unit</th>\n",
       "      <th>Color</th>\n",
       "      <th>Line Type</th>\n",
       "      <th>Profit Center</th>\n",
       "      <th>Service Category</th>\n",
       "      <th>Code</th>\n",
       "      <th>Service Package</th>\n",
       "      <th>Part Number</th>\n",
       "      <th>Description</th>\n",
       "      <th>Manufacturer</th>\n",
       "      <th>Definition</th>\n",
       "      <th>Price</th>\n",
       "      <th>Quantity</th>\n",
       "      <th>Total</th>\n",
       "      <th>Discount</th>\n",
       "      <th>Net Total</th>\n",
       "      <th>ContactID</th>\n",
       "      <th>ServiceItemID</th>\n",
       "      <th>InvoiceID</th>\n",
       "      <th>DefinitionID</th>\n",
       "    </tr>\n",
       "  </thead>\n",
       "  <tbody>\n",
       "    <tr>\n",
       "      <th>0</th>\n",
       "      <td>2018-12-28 10:18:10</td>\n",
       "      <td>33320</td>\n",
       "      <td>33321</td>\n",
       "      <td>49</td>\n",
       "      <td>2012.0</td>\n",
       "      <td>Honda</td>\n",
       "      <td>Civic</td>\n",
       "      <td>NaN</td>\n",
       "      <td>NaN</td>\n",
       "      <td>JHMFB2650CS201966</td>\n",
       "      <td>NaN</td>\n",
       "      <td>NaN</td>\n",
       "      <td>Material</td>\n",
       "      <td>Automotive Service</td>\n",
       "      <td>Oil, Lube &amp; Preventive Maintenance Service</td>\n",
       "      <td>PMS / 30PMI</td>\n",
       "      <td>MINOR Preventive Maintenance Service (MEDIUM S...</td>\n",
       "      <td>HON-15400-RAF-TO1</td>\n",
       "      <td>OIL FILTER HONDA</td>\n",
       "      <td>HONDA</td>\n",
       "      <td>Engine Oil Filter</td>\n",
       "      <td>696.43</td>\n",
       "      <td>1.0</td>\n",
       "      <td>696.43</td>\n",
       "      <td>0.0</td>\n",
       "      <td>696.43</td>\n",
       "      <td>a271834a-1afc-4e62-8c71-638025174c1f</td>\n",
       "      <td>ff01e2a4-d2d5-48ff-8ccc-d5605a653df4</td>\n",
       "      <td>99833bf9-865b-4e2c-9bd1-a0ed0cebea8e</td>\n",
       "      <td>5340.0</td>\n",
       "    </tr>\n",
       "    <tr>\n",
       "      <th>1</th>\n",
       "      <td>2018-12-28 10:18:10</td>\n",
       "      <td>33320</td>\n",
       "      <td>33321</td>\n",
       "      <td>49</td>\n",
       "      <td>2012.0</td>\n",
       "      <td>Honda</td>\n",
       "      <td>Civic</td>\n",
       "      <td>NaN</td>\n",
       "      <td>NaN</td>\n",
       "      <td>JHMFB2650CS201966</td>\n",
       "      <td>NaN</td>\n",
       "      <td>NaN</td>\n",
       "      <td>Material</td>\n",
       "      <td>Automotive Service</td>\n",
       "      <td>Oil, Lube &amp; Preventive Maintenance Service</td>\n",
       "      <td>PMS / 30PMI</td>\n",
       "      <td>MINOR Preventive Maintenance Service (MEDIUM S...</td>\n",
       "      <td>LUBRI-ENG-FLUSH-500</td>\n",
       "      <td>ENGINE FLUSHING</td>\n",
       "      <td>LUBRIGOLD</td>\n",
       "      <td>NaN</td>\n",
       "      <td>142.86</td>\n",
       "      <td>1.0</td>\n",
       "      <td>142.86</td>\n",
       "      <td>0.0</td>\n",
       "      <td>142.86</td>\n",
       "      <td>a271834a-1afc-4e62-8c71-638025174c1f</td>\n",
       "      <td>ff01e2a4-d2d5-48ff-8ccc-d5605a653df4</td>\n",
       "      <td>99833bf9-865b-4e2c-9bd1-a0ed0cebea8e</td>\n",
       "      <td>NaN</td>\n",
       "    </tr>\n",
       "    <tr>\n",
       "      <th>2</th>\n",
       "      <td>2018-12-28 10:18:10</td>\n",
       "      <td>33320</td>\n",
       "      <td>33321</td>\n",
       "      <td>49</td>\n",
       "      <td>2012.0</td>\n",
       "      <td>Honda</td>\n",
       "      <td>Civic</td>\n",
       "      <td>NaN</td>\n",
       "      <td>NaN</td>\n",
       "      <td>JHMFB2650CS201966</td>\n",
       "      <td>NaN</td>\n",
       "      <td>NaN</td>\n",
       "      <td>Material</td>\n",
       "      <td>Automotive Service</td>\n",
       "      <td>Oil, Lube &amp; Preventive Maintenance Service</td>\n",
       "      <td>PMS / 30PMI</td>\n",
       "      <td>MINOR Preventive Maintenance Service (MEDIUM S...</td>\n",
       "      <td>JOH-2413-14oz</td>\n",
       "      <td>BRAKE CLEANER 14oz</td>\n",
       "      <td>JOHNSENS</td>\n",
       "      <td>NaN</td>\n",
       "      <td>227.68</td>\n",
       "      <td>1.0</td>\n",
       "      <td>227.68</td>\n",
       "      <td>0.0</td>\n",
       "      <td>227.68</td>\n",
       "      <td>a271834a-1afc-4e62-8c71-638025174c1f</td>\n",
       "      <td>ff01e2a4-d2d5-48ff-8ccc-d5605a653df4</td>\n",
       "      <td>99833bf9-865b-4e2c-9bd1-a0ed0cebea8e</td>\n",
       "      <td>NaN</td>\n",
       "    </tr>\n",
       "    <tr>\n",
       "      <th>3</th>\n",
       "      <td>2018-12-28 10:18:10</td>\n",
       "      <td>33320</td>\n",
       "      <td>33321</td>\n",
       "      <td>49</td>\n",
       "      <td>2012.0</td>\n",
       "      <td>Honda</td>\n",
       "      <td>Civic</td>\n",
       "      <td>NaN</td>\n",
       "      <td>NaN</td>\n",
       "      <td>JHMFB2650CS201966</td>\n",
       "      <td>NaN</td>\n",
       "      <td>NaN</td>\n",
       "      <td>Labor</td>\n",
       "      <td>Automotive Service</td>\n",
       "      <td>Oil, Lube &amp; Preventive Maintenance Service</td>\n",
       "      <td>PMS / 30PMI</td>\n",
       "      <td>MINOR Preventive Maintenance Service (MEDIUM S...</td>\n",
       "      <td>NaN</td>\n",
       "      <td>Labor</td>\n",
       "      <td>NaN</td>\n",
       "      <td>NaN</td>\n",
       "      <td>446.43</td>\n",
       "      <td>3.0</td>\n",
       "      <td>1339.29</td>\n",
       "      <td>0.0</td>\n",
       "      <td>1339.29</td>\n",
       "      <td>a271834a-1afc-4e62-8c71-638025174c1f</td>\n",
       "      <td>ff01e2a4-d2d5-48ff-8ccc-d5605a653df4</td>\n",
       "      <td>99833bf9-865b-4e2c-9bd1-a0ed0cebea8e</td>\n",
       "      <td>NaN</td>\n",
       "    </tr>\n",
       "    <tr>\n",
       "      <th>4</th>\n",
       "      <td>2018-12-28 10:18:10</td>\n",
       "      <td>33320</td>\n",
       "      <td>33321</td>\n",
       "      <td>49</td>\n",
       "      <td>2012.0</td>\n",
       "      <td>Honda</td>\n",
       "      <td>Civic</td>\n",
       "      <td>NaN</td>\n",
       "      <td>NaN</td>\n",
       "      <td>JHMFB2650CS201966</td>\n",
       "      <td>NaN</td>\n",
       "      <td>NaN</td>\n",
       "      <td>Material</td>\n",
       "      <td>Automotive Service</td>\n",
       "      <td>Oil, Lube &amp; Preventive Maintenance Service</td>\n",
       "      <td>PMS / 30PMI</td>\n",
       "      <td>MINOR Preventive Maintenance Service (MEDIUM S...</td>\n",
       "      <td>RP139X51</td>\n",
       "      <td>REPSOL ELITE INJECTION 10W40 1L - GAS/DIESEL</td>\n",
       "      <td>REPSOL</td>\n",
       "      <td>Engine Oil</td>\n",
       "      <td>294.64</td>\n",
       "      <td>4.0</td>\n",
       "      <td>1178.56</td>\n",
       "      <td>0.0</td>\n",
       "      <td>1178.56</td>\n",
       "      <td>a271834a-1afc-4e62-8c71-638025174c1f</td>\n",
       "      <td>ff01e2a4-d2d5-48ff-8ccc-d5605a653df4</td>\n",
       "      <td>99833bf9-865b-4e2c-9bd1-a0ed0cebea8e</td>\n",
       "      <td>12138.0</td>\n",
       "    </tr>\n",
       "  </tbody>\n",
       "</table>\n",
       "</div>"
      ],
      "text/plain": [
       "               Created  Mileage In  Mileage Out  Work Order    Year   Make  \\\n",
       "0  2018-12-28 10:18:10       33320        33321          49  2012.0  Honda   \n",
       "1  2018-12-28 10:18:10       33320        33321          49  2012.0  Honda   \n",
       "2  2018-12-28 10:18:10       33320        33321          49  2012.0  Honda   \n",
       "3  2018-12-28 10:18:10       33320        33321          49  2012.0  Honda   \n",
       "4  2018-12-28 10:18:10       33320        33321          49  2012.0  Honda   \n",
       "\n",
       "   Model Submodel Engine                VIN Unit Color Line Type  \\\n",
       "0  Civic      NaN    NaN  JHMFB2650CS201966  NaN   NaN  Material   \n",
       "1  Civic      NaN    NaN  JHMFB2650CS201966  NaN   NaN  Material   \n",
       "2  Civic      NaN    NaN  JHMFB2650CS201966  NaN   NaN  Material   \n",
       "3  Civic      NaN    NaN  JHMFB2650CS201966  NaN   NaN     Labor   \n",
       "4  Civic      NaN    NaN  JHMFB2650CS201966  NaN   NaN  Material   \n",
       "\n",
       "        Profit Center                            Service Category  \\\n",
       "0  Automotive Service  Oil, Lube & Preventive Maintenance Service   \n",
       "1  Automotive Service  Oil, Lube & Preventive Maintenance Service   \n",
       "2  Automotive Service  Oil, Lube & Preventive Maintenance Service   \n",
       "3  Automotive Service  Oil, Lube & Preventive Maintenance Service   \n",
       "4  Automotive Service  Oil, Lube & Preventive Maintenance Service   \n",
       "\n",
       "          Code                                    Service Package  \\\n",
       "0  PMS / 30PMI  MINOR Preventive Maintenance Service (MEDIUM S...   \n",
       "1  PMS / 30PMI  MINOR Preventive Maintenance Service (MEDIUM S...   \n",
       "2  PMS / 30PMI  MINOR Preventive Maintenance Service (MEDIUM S...   \n",
       "3  PMS / 30PMI  MINOR Preventive Maintenance Service (MEDIUM S...   \n",
       "4  PMS / 30PMI  MINOR Preventive Maintenance Service (MEDIUM S...   \n",
       "\n",
       "           Part Number                                   Description  \\\n",
       "0    HON-15400-RAF-TO1                              OIL FILTER HONDA   \n",
       "1  LUBRI-ENG-FLUSH-500                               ENGINE FLUSHING   \n",
       "2        JOH-2413-14oz                            BRAKE CLEANER 14oz   \n",
       "3                  NaN                                         Labor   \n",
       "4             RP139X51  REPSOL ELITE INJECTION 10W40 1L - GAS/DIESEL   \n",
       "\n",
       "  Manufacturer         Definition   Price  Quantity    Total  Discount  \\\n",
       "0        HONDA  Engine Oil Filter  696.43       1.0   696.43       0.0   \n",
       "1    LUBRIGOLD                NaN  142.86       1.0   142.86       0.0   \n",
       "2     JOHNSENS                NaN  227.68       1.0   227.68       0.0   \n",
       "3          NaN                NaN  446.43       3.0  1339.29       0.0   \n",
       "4       REPSOL         Engine Oil  294.64       4.0  1178.56       0.0   \n",
       "\n",
       "   Net Total                             ContactID  \\\n",
       "0     696.43  a271834a-1afc-4e62-8c71-638025174c1f   \n",
       "1     142.86  a271834a-1afc-4e62-8c71-638025174c1f   \n",
       "2     227.68  a271834a-1afc-4e62-8c71-638025174c1f   \n",
       "3    1339.29  a271834a-1afc-4e62-8c71-638025174c1f   \n",
       "4    1178.56  a271834a-1afc-4e62-8c71-638025174c1f   \n",
       "\n",
       "                          ServiceItemID                             InvoiceID  \\\n",
       "0  ff01e2a4-d2d5-48ff-8ccc-d5605a653df4  99833bf9-865b-4e2c-9bd1-a0ed0cebea8e   \n",
       "1  ff01e2a4-d2d5-48ff-8ccc-d5605a653df4  99833bf9-865b-4e2c-9bd1-a0ed0cebea8e   \n",
       "2  ff01e2a4-d2d5-48ff-8ccc-d5605a653df4  99833bf9-865b-4e2c-9bd1-a0ed0cebea8e   \n",
       "3  ff01e2a4-d2d5-48ff-8ccc-d5605a653df4  99833bf9-865b-4e2c-9bd1-a0ed0cebea8e   \n",
       "4  ff01e2a4-d2d5-48ff-8ccc-d5605a653df4  99833bf9-865b-4e2c-9bd1-a0ed0cebea8e   \n",
       "\n",
       "   DefinitionID  \n",
       "0        5340.0  \n",
       "1           NaN  \n",
       "2           NaN  \n",
       "3           NaN  \n",
       "4       12138.0  "
      ]
     },
     "execution_count": 10,
     "metadata": {},
     "output_type": "execute_result"
    }
   ],
   "source": [
    "df_original = pd.read_csv(\"Dataset/Latest Autoserved Dataset (Compiled but not cleaned).csv\", low_memory= False).drop('Unnamed: 0',axis = 1)\r\n",
    "df_original.head()"
   ]
  },
  {
   "cell_type": "code",
   "execution_count": 11,
   "metadata": {
    "execution": {
     "iopub.execute_input": "2021-03-24T03:34:51.820366Z",
     "iopub.status.busy": "2021-03-24T03:34:51.819565Z",
     "iopub.status.idle": "2021-03-24T03:34:51.864029Z",
     "shell.execute_reply": "2021-03-24T03:34:51.862030Z",
     "shell.execute_reply.started": "2021-03-24T03:34:51.820366Z"
    }
   },
   "outputs": [
    {
     "data": {
      "text/plain": [
       "5416"
      ]
     },
     "execution_count": 11,
     "metadata": {},
     "output_type": "execute_result"
    }
   ],
   "source": [
    "# There are 5416 unique transactions\r\n",
    "df_original['Work Order'].nunique()"
   ]
  },
  {
   "cell_type": "code",
   "execution_count": 12,
   "metadata": {
    "execution": {
     "iopub.execute_input": "2021-03-24T03:34:51.868632Z",
     "iopub.status.busy": "2021-03-24T03:34:51.868015Z",
     "iopub.status.idle": "2021-03-24T03:34:51.911842Z",
     "shell.execute_reply": "2021-03-24T03:34:51.909868Z",
     "shell.execute_reply.started": "2021-03-24T03:34:51.868632Z"
    }
   },
   "outputs": [
    {
     "data": {
      "text/plain": [
       "7788"
      ]
     },
     "execution_count": 12,
     "metadata": {},
     "output_type": "execute_result"
    }
   ],
   "source": [
    "df_original['InvoiceID'].nunique()"
   ]
  },
  {
   "cell_type": "markdown",
   "metadata": {},
   "source": [
    "## General Data"
   ]
  },
  {
   "cell_type": "code",
   "execution_count": 13,
   "metadata": {
    "execution": {
     "iopub.execute_input": "2021-03-24T03:34:51.915068Z",
     "iopub.status.busy": "2021-03-24T03:34:51.915068Z",
     "iopub.status.idle": "2021-03-24T03:34:52.098526Z",
     "shell.execute_reply": "2021-03-24T03:34:52.094535Z",
     "shell.execute_reply.started": "2021-03-24T03:34:51.915068Z"
    }
   },
   "outputs": [
    {
     "name": "stdout",
     "output_type": "stream",
     "text": [
      "<class 'pandas.core.frame.DataFrame'>\n",
      "RangeIndex: 43020 entries, 0 to 43019\n",
      "Data columns (total 30 columns):\n",
      " #   Column            Non-Null Count  Dtype  \n",
      "---  ------            --------------  -----  \n",
      " 0   Created           43020 non-null  object \n",
      " 1   Mileage In        43020 non-null  int64  \n",
      " 2   Mileage Out       43020 non-null  int64  \n",
      " 3   Work Order        43020 non-null  int64  \n",
      " 4   Year              41182 non-null  float64\n",
      " 5   Make              41115 non-null  object \n",
      " 6   Model             41028 non-null  object \n",
      " 7   Submodel          4504 non-null   object \n",
      " 8   Engine            25186 non-null  object \n",
      " 9   VIN               36603 non-null  object \n",
      " 10  Unit              125 non-null    object \n",
      " 11  Color             18146 non-null  object \n",
      " 12  Line Type         43020 non-null  object \n",
      " 13  Profit Center     43020 non-null  object \n",
      " 14  Service Category  43020 non-null  object \n",
      " 15  Code              26211 non-null  object \n",
      " 16  Service Package   43020 non-null  object \n",
      " 17  Part Number       31081 non-null  object \n",
      " 18  Description       43020 non-null  object \n",
      " 19  Manufacturer      29468 non-null  object \n",
      " 20  Definition        17234 non-null  object \n",
      " 21  Price             43020 non-null  float64\n",
      " 22  Quantity          43020 non-null  float64\n",
      " 23  Total             43020 non-null  float64\n",
      " 24  Discount          43020 non-null  float64\n",
      " 25  Net Total         43020 non-null  float64\n",
      " 26  ContactID         43020 non-null  object \n",
      " 27  ServiceItemID     43020 non-null  object \n",
      " 28  InvoiceID         43020 non-null  object \n",
      " 29  DefinitionID      17234 non-null  float64\n",
      "dtypes: float64(7), int64(3), object(20)\n",
      "memory usage: 9.8+ MB\n"
     ]
    }
   ],
   "source": [
    "df_original.info()"
   ]
  },
  {
   "cell_type": "markdown",
   "metadata": {},
   "source": [
    "## Cleaned Dataset"
   ]
  },
  {
   "cell_type": "code",
   "execution_count": 14,
   "metadata": {
    "execution": {
     "iopub.execute_input": "2021-03-24T03:34:52.104512Z",
     "iopub.status.busy": "2021-03-24T03:34:52.103786Z",
     "iopub.status.idle": "2021-03-24T03:34:52.861463Z",
     "shell.execute_reply": "2021-03-24T03:34:52.857814Z",
     "shell.execute_reply.started": "2021-03-24T03:34:52.104512Z"
    }
   },
   "outputs": [],
   "source": [
    "df = pd.read_csv(\"Dataset\\master_clean_car_make_latest.csv\").drop(['Unnamed: 0','Unnamed: 0.1'], axis = 1)"
   ]
  },
  {
   "cell_type": "code",
   "execution_count": 15,
   "metadata": {
    "execution": {
     "iopub.execute_input": "2021-03-24T03:34:52.866327Z",
     "iopub.status.busy": "2021-03-24T03:34:52.865380Z",
     "iopub.status.idle": "2021-03-24T03:34:53.003146Z",
     "shell.execute_reply": "2021-03-24T03:34:52.998888Z",
     "shell.execute_reply.started": "2021-03-24T03:34:52.866103Z"
    }
   },
   "outputs": [
    {
     "name": "stdout",
     "output_type": "stream",
     "text": [
      "<class 'pandas.core.frame.DataFrame'>\n",
      "RangeIndex: 41028 entries, 0 to 41027\n",
      "Data columns (total 14 columns):\n",
      " #   Column            Non-Null Count  Dtype  \n",
      "---  ------            --------------  -----  \n",
      " 0   Created           41028 non-null  object \n",
      " 1   Year              41028 non-null  float64\n",
      " 2   Work Order        41028 non-null  int64  \n",
      " 3   Mileage In        41028 non-null  int64  \n",
      " 4   Make              41028 non-null  object \n",
      " 5   Model             41028 non-null  object \n",
      " 6   Service Category  41028 non-null  object \n",
      " 7   Service Package   41028 non-null  object \n",
      " 8   Description       41028 non-null  object \n",
      " 9   Net Total         41028 non-null  float64\n",
      " 10  ServiceItemID     41028 non-null  object \n",
      " 11  ContactID         41028 non-null  object \n",
      " 12  InvoiceID         41028 non-null  object \n",
      " 13  Line Type         41028 non-null  object \n",
      "dtypes: float64(2), int64(2), object(10)\n",
      "memory usage: 4.4+ MB\n"
     ]
    }
   ],
   "source": [
    "df.info()"
   ]
  },
  {
   "cell_type": "code",
   "execution_count": 16,
   "metadata": {
    "execution": {
     "iopub.execute_input": "2021-03-24T03:34:53.016825Z",
     "iopub.status.busy": "2021-03-24T03:34:53.014789Z",
     "iopub.status.idle": "2021-03-24T03:34:53.188847Z",
     "shell.execute_reply": "2021-03-24T03:34:53.185855Z",
     "shell.execute_reply.started": "2021-03-24T03:34:53.016786Z"
    }
   },
   "outputs": [],
   "source": [
    "# We use errors = `coerce` to force an out-of-bounds date to NaT\r\n",
    "df['Created'] = pd.to_datetime(df['Created'],errors = 'coerce')"
   ]
  },
  {
   "cell_type": "code",
   "execution_count": 17,
   "metadata": {
    "execution": {
     "iopub.execute_input": "2021-03-24T03:34:53.199052Z",
     "iopub.status.busy": "2021-03-24T03:34:53.197779Z",
     "iopub.status.idle": "2021-03-24T03:34:53.392727Z",
     "shell.execute_reply": "2021-03-24T03:34:53.390226Z",
     "shell.execute_reply.started": "2021-03-24T03:34:53.199052Z"
    }
   },
   "outputs": [],
   "source": [
    "# Let us drop the NaT values for the column created\r\n",
    "df = df.dropna()"
   ]
  },
  {
   "cell_type": "code",
   "execution_count": 18,
   "metadata": {
    "execution": {
     "iopub.execute_input": "2021-03-24T03:34:53.398713Z",
     "iopub.status.busy": "2021-03-24T03:34:53.397822Z",
     "iopub.status.idle": "2021-03-24T03:34:53.536416Z",
     "shell.execute_reply": "2021-03-24T03:34:53.532520Z",
     "shell.execute_reply.started": "2021-03-24T03:34:53.398713Z"
    }
   },
   "outputs": [
    {
     "name": "stdout",
     "output_type": "stream",
     "text": [
      "<class 'pandas.core.frame.DataFrame'>\n",
      "Int64Index: 41028 entries, 0 to 41027\n",
      "Data columns (total 14 columns):\n",
      " #   Column            Non-Null Count  Dtype         \n",
      "---  ------            --------------  -----         \n",
      " 0   Created           41028 non-null  datetime64[ns]\n",
      " 1   Year              41028 non-null  float64       \n",
      " 2   Work Order        41028 non-null  int64         \n",
      " 3   Mileage In        41028 non-null  int64         \n",
      " 4   Make              41028 non-null  object        \n",
      " 5   Model             41028 non-null  object        \n",
      " 6   Service Category  41028 non-null  object        \n",
      " 7   Service Package   41028 non-null  object        \n",
      " 8   Description       41028 non-null  object        \n",
      " 9   Net Total         41028 non-null  float64       \n",
      " 10  ServiceItemID     41028 non-null  object        \n",
      " 11  ContactID         41028 non-null  object        \n",
      " 12  InvoiceID         41028 non-null  object        \n",
      " 13  Line Type         41028 non-null  object        \n",
      "dtypes: datetime64[ns](1), float64(2), int64(2), object(9)\n",
      "memory usage: 4.7+ MB\n"
     ]
    }
   ],
   "source": [
    "# The new values for our dataframe\r\n",
    "df.info()"
   ]
  },
  {
   "cell_type": "code",
   "execution_count": 19,
   "metadata": {
    "execution": {
     "iopub.execute_input": "2021-03-24T03:34:53.541574Z",
     "iopub.status.busy": "2021-03-24T03:34:53.540404Z",
     "iopub.status.idle": "2021-03-24T03:34:53.956340Z",
     "shell.execute_reply": "2021-03-24T03:34:53.954625Z",
     "shell.execute_reply.started": "2021-03-24T03:34:53.541574Z"
    }
   },
   "outputs": [
    {
     "data": {
      "text/html": [
       "<div>\n",
       "<style scoped>\n",
       "    .dataframe tbody tr th:only-of-type {\n",
       "        vertical-align: middle;\n",
       "    }\n",
       "\n",
       "    .dataframe tbody tr th {\n",
       "        vertical-align: top;\n",
       "    }\n",
       "\n",
       "    .dataframe thead th {\n",
       "        text-align: right;\n",
       "    }\n",
       "</style>\n",
       "<table border=\"1\" class=\"dataframe\">\n",
       "  <thead>\n",
       "    <tr style=\"text-align: right;\">\n",
       "      <th></th>\n",
       "      <th>Make</th>\n",
       "      <th>Model</th>\n",
       "      <th>Service Category</th>\n",
       "      <th>Service Package</th>\n",
       "      <th>Description</th>\n",
       "      <th>ServiceItemID</th>\n",
       "      <th>ContactID</th>\n",
       "      <th>InvoiceID</th>\n",
       "      <th>Line Type</th>\n",
       "    </tr>\n",
       "  </thead>\n",
       "  <tbody>\n",
       "    <tr>\n",
       "      <th>count</th>\n",
       "      <td>41028</td>\n",
       "      <td>41028</td>\n",
       "      <td>41028</td>\n",
       "      <td>41028</td>\n",
       "      <td>41028</td>\n",
       "      <td>41028</td>\n",
       "      <td>41028</td>\n",
       "      <td>41028</td>\n",
       "      <td>41028</td>\n",
       "    </tr>\n",
       "    <tr>\n",
       "      <th>unique</th>\n",
       "      <td>27</td>\n",
       "      <td>2191</td>\n",
       "      <td>17</td>\n",
       "      <td>4303</td>\n",
       "      <td>6381</td>\n",
       "      <td>4003</td>\n",
       "      <td>3405</td>\n",
       "      <td>7001</td>\n",
       "      <td>3</td>\n",
       "    </tr>\n",
       "    <tr>\n",
       "      <th>top</th>\n",
       "      <td>toyota</td>\n",
       "      <td>Vios 1.3J - MT/GAS</td>\n",
       "      <td>Oil, Lube &amp; Preventive Maintenance Service</td>\n",
       "      <td>MINOR Preventive Maintenance Service</td>\n",
       "      <td>Labor</td>\n",
       "      <td>8365e8e0-1c89-439e-a463-64a9a8bc492c</td>\n",
       "      <td>2ada24ba-be69-4efd-a07b-309c2244803d</td>\n",
       "      <td>2d877d25-d1cb-4a2f-9881-b544f76cc2c5</td>\n",
       "      <td>Material</td>\n",
       "    </tr>\n",
       "    <tr>\n",
       "      <th>freq</th>\n",
       "      <td>15055</td>\n",
       "      <td>1686</td>\n",
       "      <td>25181</td>\n",
       "      <td>1075</td>\n",
       "      <td>9980</td>\n",
       "      <td>112</td>\n",
       "      <td>905</td>\n",
       "      <td>83</td>\n",
       "      <td>29889</td>\n",
       "    </tr>\n",
       "  </tbody>\n",
       "</table>\n",
       "</div>"
      ],
      "text/plain": [
       "          Make               Model  \\\n",
       "count    41028               41028   \n",
       "unique      27                2191   \n",
       "top     toyota  Vios 1.3J - MT/GAS   \n",
       "freq     15055                1686   \n",
       "\n",
       "                                  Service Category  \\\n",
       "count                                        41028   \n",
       "unique                                          17   \n",
       "top     Oil, Lube & Preventive Maintenance Service   \n",
       "freq                                         25181   \n",
       "\n",
       "                              Service Package Description  \\\n",
       "count                                   41028       41028   \n",
       "unique                                   4303        6381   \n",
       "top     MINOR Preventive Maintenance Service        Labor   \n",
       "freq                                     1075        9980   \n",
       "\n",
       "                               ServiceItemID  \\\n",
       "count                                  41028   \n",
       "unique                                  4003   \n",
       "top     8365e8e0-1c89-439e-a463-64a9a8bc492c   \n",
       "freq                                     112   \n",
       "\n",
       "                                   ContactID  \\\n",
       "count                                  41028   \n",
       "unique                                  3405   \n",
       "top     2ada24ba-be69-4efd-a07b-309c2244803d   \n",
       "freq                                     905   \n",
       "\n",
       "                                   InvoiceID Line Type  \n",
       "count                                  41028     41028  \n",
       "unique                                  7001         3  \n",
       "top     2d877d25-d1cb-4a2f-9881-b544f76cc2c5  Material  \n",
       "freq                                      83     29889  "
      ]
     },
     "execution_count": 19,
     "metadata": {},
     "output_type": "execute_result"
    }
   ],
   "source": [
    "df.describe(include =[object])"
   ]
  },
  {
   "cell_type": "markdown",
   "metadata": {},
   "source": [
    "### What are the Car Brands most frequently appearing in the maintenance and repair?"
   ]
  },
  {
   "cell_type": "code",
   "execution_count": 20,
   "metadata": {
    "execution": {
     "iopub.execute_input": "2021-03-24T03:34:53.963356Z",
     "iopub.status.busy": "2021-03-24T03:34:53.962322Z",
     "iopub.status.idle": "2021-03-24T03:34:55.088153Z",
     "shell.execute_reply": "2021-03-24T03:34:55.086762Z",
     "shell.execute_reply.started": "2021-03-24T03:34:53.963356Z"
    }
   },
   "outputs": [
    {
     "data": {
      "text/plain": [
       "(array([0, 1, 2, 3, 4, 5, 6, 7, 8, 9]),\n",
       " [Text(0, 0, 'toyota'),\n",
       "  Text(0, 1, 'mitsubishi'),\n",
       "  Text(0, 2, 'honda'),\n",
       "  Text(0, 3, 'ford'),\n",
       "  Text(0, 4, 'hyundai'),\n",
       "  Text(0, 5, 'chevrolet'),\n",
       "  Text(0, 6, 'nissan'),\n",
       "  Text(0, 7, 'mazda'),\n",
       "  Text(0, 8, 'isuzu'),\n",
       "  Text(0, 9, 'suzuki')])"
      ]
     },
     "execution_count": 20,
     "metadata": {},
     "output_type": "execute_result"
    },
    {
     "data": {
      "image/png": "[encoded data removed]",
      "text/plain": [
       "<Figure size 1008x864 with 1 Axes>"
      ]
     },
     "metadata": {},
     "output_type": "display_data"
    }
   ],
   "source": [
    "sns.set_style('darkgrid')\r\n",
    "plt.figure(figsize = (14,12))\r\n",
    "ax = sns.countplot(data = df, y = 'Make', order =df['Make'].value_counts().iloc[:10].index, color ='#42b7bd')\r\n",
    "\r\n",
    "# Setting the annotations\r\n",
    "\r\n",
    "# Setting the the largest value\r\n",
    "patch_h = []    \r\n",
    "for patch in ax.patches:\r\n",
    "    reading = patch.get_height()\r\n",
    "    patch_h.append(reading)\r\n",
    "idx_tallest = np.argmax(patch_h) ## patch_h contains the heights of all the patches now\r\n",
    "ax.patches[idx_tallest].set_facecolor('#a834a8') ## np.argmax return the index of largest value of the list \r\n",
    "\r\n",
    "for i in ax.patches:\r\n",
    "    # get_width pulls left or right; get_y pushes up or down\r\n",
    "    ax.text(i.get_width()+150, i.get_y()+.5, \\\r\n",
    "            str(round((i.get_width()), 2)), fontsize=13, color='darkslategray')\r\n",
    "\r\n",
    "# Setting the labels and titles\r\n",
    "plt.title('Top 10 Car Make with the Highest Number of Transactions', fontsize = 15, pad = 10)\r\n",
    "plt.xlabel('Number of Transactions', fontsize = 13, labelpad = 10)\r\n",
    "plt.ylabel('Car Make', fontsize = 13, labelpad = 25, rotation = 0)\r\n",
    "plt.xticks(fontsize = 12)\r\n",
    "plt.yticks(fontsize = 12)"
   ]
  },
  {
   "cell_type": "code",
   "execution_count": 21,
   "metadata": {
    "execution": {
     "iopub.execute_input": "2021-03-24T03:34:55.091286Z",
     "iopub.status.busy": "2021-03-24T03:34:55.090148Z",
     "iopub.status.idle": "2021-03-24T03:34:55.166942Z",
     "shell.execute_reply": "2021-03-24T03:34:55.165987Z",
     "shell.execute_reply.started": "2021-03-24T03:34:55.091286Z"
    }
   },
   "outputs": [
    {
     "data": {
      "text/html": [
       "<div>\n",
       "<style scoped>\n",
       "    .dataframe tbody tr th:only-of-type {\n",
       "        vertical-align: middle;\n",
       "    }\n",
       "\n",
       "    .dataframe tbody tr th {\n",
       "        vertical-align: top;\n",
       "    }\n",
       "\n",
       "    .dataframe thead th {\n",
       "        text-align: right;\n",
       "    }\n",
       "</style>\n",
       "<table border=\"1\" class=\"dataframe\">\n",
       "  <thead>\n",
       "    <tr style=\"text-align: right;\">\n",
       "      <th></th>\n",
       "      <th>Created</th>\n",
       "      <th>Year</th>\n",
       "      <th>Work Order</th>\n",
       "      <th>Mileage In</th>\n",
       "      <th>Make</th>\n",
       "      <th>Model</th>\n",
       "      <th>Service Category</th>\n",
       "      <th>Service Package</th>\n",
       "      <th>Description</th>\n",
       "      <th>Net Total</th>\n",
       "      <th>ServiceItemID</th>\n",
       "      <th>ContactID</th>\n",
       "      <th>InvoiceID</th>\n",
       "      <th>Line Type</th>\n",
       "    </tr>\n",
       "  </thead>\n",
       "  <tbody>\n",
       "    <tr>\n",
       "      <th>0</th>\n",
       "      <td>2018-12-28 10:18:10</td>\n",
       "      <td>2012.0</td>\n",
       "      <td>49</td>\n",
       "      <td>33320</td>\n",
       "      <td>honda</td>\n",
       "      <td>Civic</td>\n",
       "      <td>Oil, Lube &amp; Preventive Maintenance Service</td>\n",
       "      <td>MINOR Preventive Maintenance Service (MEDIUM S...</td>\n",
       "      <td>OIL FILTER HONDA</td>\n",
       "      <td>696.43</td>\n",
       "      <td>ff01e2a4-d2d5-48ff-8ccc-d5605a653df4</td>\n",
       "      <td>a271834a-1afc-4e62-8c71-638025174c1f</td>\n",
       "      <td>99833bf9-865b-4e2c-9bd1-a0ed0cebea8e</td>\n",
       "      <td>Material</td>\n",
       "    </tr>\n",
       "    <tr>\n",
       "      <th>1</th>\n",
       "      <td>2018-12-28 10:18:10</td>\n",
       "      <td>2012.0</td>\n",
       "      <td>49</td>\n",
       "      <td>33320</td>\n",
       "      <td>honda</td>\n",
       "      <td>Civic</td>\n",
       "      <td>Oil, Lube &amp; Preventive Maintenance Service</td>\n",
       "      <td>MINOR Preventive Maintenance Service (MEDIUM S...</td>\n",
       "      <td>ENGINE FLUSHING</td>\n",
       "      <td>142.86</td>\n",
       "      <td>ff01e2a4-d2d5-48ff-8ccc-d5605a653df4</td>\n",
       "      <td>a271834a-1afc-4e62-8c71-638025174c1f</td>\n",
       "      <td>99833bf9-865b-4e2c-9bd1-a0ed0cebea8e</td>\n",
       "      <td>Material</td>\n",
       "    </tr>\n",
       "    <tr>\n",
       "      <th>2</th>\n",
       "      <td>2018-12-28 10:18:10</td>\n",
       "      <td>2012.0</td>\n",
       "      <td>49</td>\n",
       "      <td>33320</td>\n",
       "      <td>honda</td>\n",
       "      <td>Civic</td>\n",
       "      <td>Oil, Lube &amp; Preventive Maintenance Service</td>\n",
       "      <td>MINOR Preventive Maintenance Service (MEDIUM S...</td>\n",
       "      <td>BRAKE CLEANER 14oz</td>\n",
       "      <td>227.68</td>\n",
       "      <td>ff01e2a4-d2d5-48ff-8ccc-d5605a653df4</td>\n",
       "      <td>a271834a-1afc-4e62-8c71-638025174c1f</td>\n",
       "      <td>99833bf9-865b-4e2c-9bd1-a0ed0cebea8e</td>\n",
       "      <td>Material</td>\n",
       "    </tr>\n",
       "    <tr>\n",
       "      <th>3</th>\n",
       "      <td>2018-12-28 10:18:10</td>\n",
       "      <td>2012.0</td>\n",
       "      <td>49</td>\n",
       "      <td>33320</td>\n",
       "      <td>honda</td>\n",
       "      <td>Civic</td>\n",
       "      <td>Oil, Lube &amp; Preventive Maintenance Service</td>\n",
       "      <td>MINOR Preventive Maintenance Service (MEDIUM S...</td>\n",
       "      <td>Labor</td>\n",
       "      <td>1339.29</td>\n",
       "      <td>ff01e2a4-d2d5-48ff-8ccc-d5605a653df4</td>\n",
       "      <td>a271834a-1afc-4e62-8c71-638025174c1f</td>\n",
       "      <td>99833bf9-865b-4e2c-9bd1-a0ed0cebea8e</td>\n",
       "      <td>Labor</td>\n",
       "    </tr>\n",
       "    <tr>\n",
       "      <th>4</th>\n",
       "      <td>2018-12-28 10:18:10</td>\n",
       "      <td>2012.0</td>\n",
       "      <td>49</td>\n",
       "      <td>33320</td>\n",
       "      <td>honda</td>\n",
       "      <td>Civic</td>\n",
       "      <td>Oil, Lube &amp; Preventive Maintenance Service</td>\n",
       "      <td>MINOR Preventive Maintenance Service (MEDIUM S...</td>\n",
       "      <td>REPSOL ELITE INJECTION 10W40 1L - GAS/DIESEL</td>\n",
       "      <td>1178.56</td>\n",
       "      <td>ff01e2a4-d2d5-48ff-8ccc-d5605a653df4</td>\n",
       "      <td>a271834a-1afc-4e62-8c71-638025174c1f</td>\n",
       "      <td>99833bf9-865b-4e2c-9bd1-a0ed0cebea8e</td>\n",
       "      <td>Material</td>\n",
       "    </tr>\n",
       "    <tr>\n",
       "      <th>...</th>\n",
       "      <td>...</td>\n",
       "      <td>...</td>\n",
       "      <td>...</td>\n",
       "      <td>...</td>\n",
       "      <td>...</td>\n",
       "      <td>...</td>\n",
       "      <td>...</td>\n",
       "      <td>...</td>\n",
       "      <td>...</td>\n",
       "      <td>...</td>\n",
       "      <td>...</td>\n",
       "      <td>...</td>\n",
       "      <td>...</td>\n",
       "      <td>...</td>\n",
       "    </tr>\n",
       "    <tr>\n",
       "      <th>41022</th>\n",
       "      <td>2021-08-02 11:36:00</td>\n",
       "      <td>2020.0</td>\n",
       "      <td>2069</td>\n",
       "      <td>17900</td>\n",
       "      <td>mitsubishi</td>\n",
       "      <td>STRADA GLS 2.40</td>\n",
       "      <td>Oil, Lube &amp; Preventive Maintenance Service</td>\n",
       "      <td>Change Oil Package - SEMI Synthetic (8L)</td>\n",
       "      <td>OIL FILTER</td>\n",
       "      <td>544.68</td>\n",
       "      <td>df0dc121-8015-4fc0-a865-9de2bbbc6778</td>\n",
       "      <td>fe5ff740-e6d6-4796-99b1-e727ab3b1cce</td>\n",
       "      <td>2200bd9d-70bd-4738-97ce-c8c19d20db31</td>\n",
       "      <td>Material</td>\n",
       "    </tr>\n",
       "    <tr>\n",
       "      <th>41024</th>\n",
       "      <td>2021-02-18 10:11:00</td>\n",
       "      <td>2009.0</td>\n",
       "      <td>2124</td>\n",
       "      <td>230201</td>\n",
       "      <td>mitsubishi</td>\n",
       "      <td>LANCER GLX 1.6</td>\n",
       "      <td>Oil, Lube &amp; Preventive Maintenance Service</td>\n",
       "      <td>CVI Complete Vehicle Inspection</td>\n",
       "      <td>Labor</td>\n",
       "      <td>446.43</td>\n",
       "      <td>063a40f9-8407-4903-8116-a24a408aa2ae</td>\n",
       "      <td>3c25ed67-a25e-4f2b-9b27-0203252c8b47</td>\n",
       "      <td>23c767ac-47e9-43d7-9c24-08c354024407</td>\n",
       "      <td>Labor</td>\n",
       "    </tr>\n",
       "    <tr>\n",
       "      <th>41025</th>\n",
       "      <td>2021-02-20 13:00:00</td>\n",
       "      <td>2015.0</td>\n",
       "      <td>2151</td>\n",
       "      <td>33842</td>\n",
       "      <td>mitsubishi</td>\n",
       "      <td>MIRAGE</td>\n",
       "      <td>Steering &amp; Suspension</td>\n",
       "      <td>Complete Computerized Wheel Alignment (SEDAN)</td>\n",
       "      <td>Labor</td>\n",
       "      <td>1339.29</td>\n",
       "      <td>e7de2b57-feca-48a9-9f4c-acd99785052d</td>\n",
       "      <td>1df471f1-c64d-40ff-82ac-9c6cd8aa8230</td>\n",
       "      <td>f669896f-8075-45e2-9a95-81091e67eafb</td>\n",
       "      <td>Labor</td>\n",
       "    </tr>\n",
       "    <tr>\n",
       "      <th>41026</th>\n",
       "      <td>2021-03-03 13:04:00</td>\n",
       "      <td>2014.0</td>\n",
       "      <td>2231</td>\n",
       "      <td>170588</td>\n",
       "      <td>toyota</td>\n",
       "      <td>VIOS</td>\n",
       "      <td>Oil, Lube &amp; Preventive Maintenance Service</td>\n",
       "      <td>COMPLETE VEHICLE INSPECTION</td>\n",
       "      <td>Labor</td>\n",
       "      <td>669.64</td>\n",
       "      <td>daf511d3-7db4-49b0-9c27-64ca0400a10d</td>\n",
       "      <td>49832654-8201-46a1-8332-b020426842c1</td>\n",
       "      <td>0fca6843-1fae-48b7-a4f8-537cf51e948e</td>\n",
       "      <td>Labor</td>\n",
       "    </tr>\n",
       "    <tr>\n",
       "      <th>41027</th>\n",
       "      <td>2021-05-03 10:02:00</td>\n",
       "      <td>2015.0</td>\n",
       "      <td>2240</td>\n",
       "      <td>48108</td>\n",
       "      <td>mitsubishi</td>\n",
       "      <td>STRADA GLX V.2</td>\n",
       "      <td>Steering &amp; Suspension</td>\n",
       "      <td>CHECK UNDER CHASIS ( SUSPENSION/ STEERING)</td>\n",
       "      <td>Labor</td>\n",
       "      <td>446.43</td>\n",
       "      <td>12f290d7-1dd2-4b82-b7bb-64b9145dcc5e</td>\n",
       "      <td>2603f411-b107-412a-b3a3-6c1bb78b0369</td>\n",
       "      <td>ddd6310b-a46b-4621-b0e2-e070abdc6467</td>\n",
       "      <td>Labor</td>\n",
       "    </tr>\n",
       "  </tbody>\n",
       "</table>\n",
       "<p>39392 rows × 14 columns</p>\n",
       "</div>"
      ],
      "text/plain": [
       "                  Created    Year  Work Order  Mileage In        Make  \\\n",
       "0     2018-12-28 10:18:10  2012.0          49       33320       honda   \n",
       "1     2018-12-28 10:18:10  2012.0          49       33320       honda   \n",
       "2     2018-12-28 10:18:10  2012.0          49       33320       honda   \n",
       "3     2018-12-28 10:18:10  2012.0          49       33320       honda   \n",
       "4     2018-12-28 10:18:10  2012.0          49       33320       honda   \n",
       "...                   ...     ...         ...         ...         ...   \n",
       "41022 2021-08-02 11:36:00  2020.0        2069       17900  mitsubishi   \n",
       "41024 2021-02-18 10:11:00  2009.0        2124      230201  mitsubishi   \n",
       "41025 2021-02-20 13:00:00  2015.0        2151       33842  mitsubishi   \n",
       "41026 2021-03-03 13:04:00  2014.0        2231      170588      toyota   \n",
       "41027 2021-05-03 10:02:00  2015.0        2240       48108  mitsubishi   \n",
       "\n",
       "                 Model                            Service Category  \\\n",
       "0                Civic  Oil, Lube & Preventive Maintenance Service   \n",
       "1                Civic  Oil, Lube & Preventive Maintenance Service   \n",
       "2                Civic  Oil, Lube & Preventive Maintenance Service   \n",
       "3                Civic  Oil, Lube & Preventive Maintenance Service   \n",
       "4                Civic  Oil, Lube & Preventive Maintenance Service   \n",
       "...                ...                                         ...   \n",
       "41022  STRADA GLS 2.40  Oil, Lube & Preventive Maintenance Service   \n",
       "41024   LANCER GLX 1.6  Oil, Lube & Preventive Maintenance Service   \n",
       "41025           MIRAGE                       Steering & Suspension   \n",
       "41026             VIOS  Oil, Lube & Preventive Maintenance Service   \n",
       "41027   STRADA GLX V.2                       Steering & Suspension   \n",
       "\n",
       "                                         Service Package  \\\n",
       "0      MINOR Preventive Maintenance Service (MEDIUM S...   \n",
       "1      MINOR Preventive Maintenance Service (MEDIUM S...   \n",
       "2      MINOR Preventive Maintenance Service (MEDIUM S...   \n",
       "3      MINOR Preventive Maintenance Service (MEDIUM S...   \n",
       "4      MINOR Preventive Maintenance Service (MEDIUM S...   \n",
       "...                                                  ...   \n",
       "41022           Change Oil Package - SEMI Synthetic (8L)   \n",
       "41024                    CVI Complete Vehicle Inspection   \n",
       "41025      Complete Computerized Wheel Alignment (SEDAN)   \n",
       "41026                        COMPLETE VEHICLE INSPECTION   \n",
       "41027         CHECK UNDER CHASIS ( SUSPENSION/ STEERING)   \n",
       "\n",
       "                                        Description  Net Total  \\\n",
       "0                                  OIL FILTER HONDA     696.43   \n",
       "1                                   ENGINE FLUSHING     142.86   \n",
       "2                                BRAKE CLEANER 14oz     227.68   \n",
       "3                                             Labor    1339.29   \n",
       "4      REPSOL ELITE INJECTION 10W40 1L - GAS/DIESEL    1178.56   \n",
       "...                                             ...        ...   \n",
       "41022                                    OIL FILTER     544.68   \n",
       "41024                                         Labor     446.43   \n",
       "41025                                         Labor    1339.29   \n",
       "41026                                         Labor     669.64   \n",
       "41027                                         Labor     446.43   \n",
       "\n",
       "                              ServiceItemID  \\\n",
       "0      ff01e2a4-d2d5-48ff-8ccc-d5605a653df4   \n",
       "1      ff01e2a4-d2d5-48ff-8ccc-d5605a653df4   \n",
       "2      ff01e2a4-d2d5-48ff-8ccc-d5605a653df4   \n",
       "3      ff01e2a4-d2d5-48ff-8ccc-d5605a653df4   \n",
       "4      ff01e2a4-d2d5-48ff-8ccc-d5605a653df4   \n",
       "...                                     ...   \n",
       "41022  df0dc121-8015-4fc0-a865-9de2bbbc6778   \n",
       "41024  063a40f9-8407-4903-8116-a24a408aa2ae   \n",
       "41025  e7de2b57-feca-48a9-9f4c-acd99785052d   \n",
       "41026  daf511d3-7db4-49b0-9c27-64ca0400a10d   \n",
       "41027  12f290d7-1dd2-4b82-b7bb-64b9145dcc5e   \n",
       "\n",
       "                                  ContactID  \\\n",
       "0      a271834a-1afc-4e62-8c71-638025174c1f   \n",
       "1      a271834a-1afc-4e62-8c71-638025174c1f   \n",
       "2      a271834a-1afc-4e62-8c71-638025174c1f   \n",
       "3      a271834a-1afc-4e62-8c71-638025174c1f   \n",
       "4      a271834a-1afc-4e62-8c71-638025174c1f   \n",
       "...                                     ...   \n",
       "41022  fe5ff740-e6d6-4796-99b1-e727ab3b1cce   \n",
       "41024  3c25ed67-a25e-4f2b-9b27-0203252c8b47   \n",
       "41025  1df471f1-c64d-40ff-82ac-9c6cd8aa8230   \n",
       "41026  49832654-8201-46a1-8332-b020426842c1   \n",
       "41027  2603f411-b107-412a-b3a3-6c1bb78b0369   \n",
       "\n",
       "                                  InvoiceID Line Type  \n",
       "0      99833bf9-865b-4e2c-9bd1-a0ed0cebea8e  Material  \n",
       "1      99833bf9-865b-4e2c-9bd1-a0ed0cebea8e  Material  \n",
       "2      99833bf9-865b-4e2c-9bd1-a0ed0cebea8e  Material  \n",
       "3      99833bf9-865b-4e2c-9bd1-a0ed0cebea8e     Labor  \n",
       "4      99833bf9-865b-4e2c-9bd1-a0ed0cebea8e  Material  \n",
       "...                                     ...       ...  \n",
       "41022  2200bd9d-70bd-4738-97ce-c8c19d20db31  Material  \n",
       "41024  23c767ac-47e9-43d7-9c24-08c354024407     Labor  \n",
       "41025  f669896f-8075-45e2-9a95-81091e67eafb     Labor  \n",
       "41026  0fca6843-1fae-48b7-a4f8-537cf51e948e     Labor  \n",
       "41027  ddd6310b-a46b-4621-b0e2-e070abdc6467     Labor  \n",
       "\n",
       "[39392 rows x 14 columns]"
      ]
     },
     "execution_count": 21,
     "metadata": {},
     "output_type": "execute_result"
    }
   ],
   "source": [
    "df_top_10_transactions = df[df['Make'].isin(['toyota','mitsubishi','honda','ford','hyundai','chevrolet','nissan','mazda','isuzu','suzuki'])]\r\n",
    "df_top_10_transactions"
   ]
  },
  {
   "cell_type": "markdown",
   "metadata": {},
   "source": [
    "### On average, how much does a car owner spend on maintenance and repair?"
   ]
  },
  {
   "cell_type": "code",
   "execution_count": 22,
   "metadata": {
    "execution": {
     "iopub.execute_input": "2021-03-24T03:34:55.168970Z",
     "iopub.status.busy": "2021-03-24T03:34:55.168970Z",
     "iopub.status.idle": "2021-03-24T03:34:55.771784Z",
     "shell.execute_reply": "2021-03-24T03:34:55.769854Z",
     "shell.execute_reply.started": "2021-03-24T03:34:55.168970Z"
    }
   },
   "outputs": [
    {
     "data": {
      "text/plain": [
       "(array([0, 1, 2, 3, 4, 5, 6, 7, 8, 9]),\n",
       " [Text(0, 0, 'ford'),\n",
       "  Text(0, 1, 'chevrolet'),\n",
       "  Text(0, 2, 'hyundai'),\n",
       "  Text(0, 3, 'nissan'),\n",
       "  Text(0, 4, 'toyota'),\n",
       "  Text(0, 5, 'isuzu'),\n",
       "  Text(0, 6, 'mazda'),\n",
       "  Text(0, 7, 'mitsubishi'),\n",
       "  Text(0, 8, 'honda'),\n",
       "  Text(0, 9, 'suzuki')])"
      ]
     },
     "execution_count": 22,
     "metadata": {},
     "output_type": "execute_result"
    },
    {
     "data": {
      "text/plain": [
       "<Figure size 1008x864 with 0 Axes>"
      ]
     },
     "metadata": {},
     "output_type": "display_data"
    },
    {
     "data": {
      "image/png": "[encoded data removed]",
      "text/plain": [
       "<Figure size 864x720 with 1 Axes>"
      ]
     },
     "metadata": {},
     "output_type": "display_data"
    }
   ],
   "source": [
    "sns.set_style('darkgrid')\r\n",
    "plt.figure(figsize = (14,12))\r\n",
    "\r\n",
    "plt.figure(figsize = (12,10))\r\n",
    "df_average_spend = df_top_10_transactions.groupby(['Make'])[['Net Total']].mean().sort_values(by ='Net Total', ascending = False).reset_index()\r\n",
    "ax = sns.barplot(data = df_average_spend, y = 'Make', x = 'Net Total', color ='#42b7bd')\r\n",
    "\r\n",
    "# Setting the annotations\r\n",
    "\r\n",
    "# Setting the the largest value\r\n",
    "patch_h = []    \r\n",
    "for patch in ax.patches:\r\n",
    "    reading = patch.get_height()\r\n",
    "    patch_h.append(reading)\r\n",
    "idx_tallest = np.argmax(patch_h) ## patch_h contains the heights of all the patches now\r\n",
    "ax.patches[idx_tallest].set_facecolor('#a834a8') ## np.argmax return the index of largest value of the list\r\n",
    "\r\n",
    "for i in ax.patches:\r\n",
    "    # get_width pulls left or right; get_y pushes up or down\r\n",
    "    ax.text(i.get_width()+10, i.get_y()+.5, \\\r\n",
    "            str(round((i.get_width()), 2)), fontsize=13, color='darkslategray')\r\n",
    "\r\n",
    "# Setting the labels and titles\r\n",
    "plt.title('Average Repair and Maintenance Cost per Car Make', fontsize = 15, pad = 10)\r\n",
    "plt.xlabel('Average Cost of Services', fontsize = 13, labelpad = 10)\r\n",
    "plt.ylabel('Car Make', fontsize = 13, labelpad = 25, rotation = 0)\r\n",
    "plt.xticks(fontsize = 12)\r\n",
    "plt.yticks(fontsize = 12)"
   ]
  },
  {
   "cell_type": "markdown",
   "metadata": {},
   "source": [
    "### What are the usual transactions of every car owner?"
   ]
  },
  {
   "cell_type": "code",
   "execution_count": 23,
   "metadata": {
    "execution": {
     "iopub.execute_input": "2021-03-24T03:34:55.777767Z",
     "iopub.status.busy": "2021-03-24T03:34:55.776770Z",
     "iopub.status.idle": "2021-03-24T03:34:56.573187Z",
     "shell.execute_reply": "2021-03-24T03:34:56.571914Z",
     "shell.execute_reply.started": "2021-03-24T03:34:55.777767Z"
    }
   },
   "outputs": [
    {
     "data": {
      "text/plain": [
       "(array([ 0,  1,  2,  3,  4,  5,  6,  7,  8,  9, 10, 11, 12, 13, 14, 15, 16]),\n",
       " [Text(0, 0, 'Oil, Lube & Preventive Maintenance Service'),\n",
       "  Text(0, 1, 'Steering & Suspension'),\n",
       "  Text(0, 2, 'Brakes'),\n",
       "  Text(0, 3, 'HVAC (Heating, Ventilation & Air Conditioning)'),\n",
       "  Text(0, 4, 'Engine'),\n",
       "  Text(0, 5, 'Transmission & Clutch'),\n",
       "  Text(0, 6, 'Car Detailing Services'),\n",
       "  Text(0, 7, 'Driveability (Fuel, Ignition & Emission Systems)'),\n",
       "  Text(0, 8, 'Tires & Wheels'),\n",
       "  Text(0, 9, 'Cooling System'),\n",
       "  Text(0, 10, 'Electrical (Belts, Lighting, Starting & Charging Systems)'),\n",
       "  Text(0, 11, 'Accessories (Gauges, Power Accessories, Vision & Air Bag)'),\n",
       "  Text(0, 12, 'Drive Train (Final Drive, Transaxle, Differential & Transfer Case)'),\n",
       "  Text(0, 13, 'Batteries'),\n",
       "  Text(0, 14, 'Sublet & Towing'),\n",
       "  Text(0, 15, 'Counter / Cash Sale'),\n",
       "  Text(0, 16, 'Exhaust')])"
      ]
     },
     "execution_count": 23,
     "metadata": {},
     "output_type": "execute_result"
    },
    {
     "data": {
      "image/png": "[encoded data removed]",
      "text/plain": [
       "<Figure size 864x720 with 1 Axes>"
      ]
     },
     "metadata": {},
     "output_type": "display_data"
    }
   ],
   "source": [
    "sns.set_style('darkgrid')\r\n",
    "plt.figure(figsize = (12,10))\r\n",
    "ax = sns.countplot(data = df, y = 'Service Category', order =df['Service Category'].value_counts().iloc[::].index, color ='#42b7bd')\r\n",
    "\r\n",
    "# Setting the annotations\r\n",
    "\r\n",
    "# Setting the the largest value\r\n",
    "patch_h = []    \r\n",
    "for patch in ax.patches:\r\n",
    "    reading = patch.get_height()\r\n",
    "    patch_h.append(reading)\r\n",
    "idx_tallest = np.argmax(patch_h) ## patch_h contains the heights of all the patches now\r\n",
    "ax.patches[idx_tallest].set_facecolor('#a834a8') ## np.argmax return the index of largest value of the list\r\n",
    "\r\n",
    "for i in ax.patches:\r\n",
    "    # get_width pulls left or right; get_y pushes up or down\r\n",
    "    ax.text(i.get_width()+70, i.get_y()+.5, \\\r\n",
    "            str(round((i.get_width()), 2)), fontsize=11, color='darkslategray')\r\n",
    "\r\n",
    "# Setting the labels and titles\r\n",
    "plt.title('Most Popular Repair and Maintenance Services', fontsize = 15, pad = 10)\r\n",
    "plt.xlabel('Number of Transactions', fontsize = 13, labelpad = 10)\r\n",
    "plt.ylabel('Service Category', fontsize = 13, labelpad = 25, rotation = 0)\r\n",
    "plt.xticks(fontsize = 12)\r\n",
    "plt.yticks(fontsize = 12)"
   ]
  },
  {
   "cell_type": "code",
   "execution_count": 24,
   "metadata": {
    "execution": {
     "iopub.execute_input": "2021-03-24T03:34:56.574883Z",
     "iopub.status.busy": "2021-03-24T03:34:56.574883Z",
     "iopub.status.idle": "2021-03-24T03:34:57.434497Z",
     "shell.execute_reply": "2021-03-24T03:34:57.432563Z",
     "shell.execute_reply.started": "2021-03-24T03:34:56.574883Z"
    }
   },
   "outputs": [
    {
     "data": {
      "text/plain": [
       "(array([ 0,  1,  2,  3,  4,  5,  6,  7,  8,  9, 10, 11, 12, 13, 14, 15, 16]),\n",
       " [Text(0, 0, 'Oil, Lube & Preventive Maintenance Service'),\n",
       "  Text(0, 1, 'Steering & Suspension'),\n",
       "  Text(0, 2, 'Brakes'),\n",
       "  Text(0, 3, 'Transmission & Clutch'),\n",
       "  Text(0, 4, 'Engine'),\n",
       "  Text(0, 5, 'HVAC (Heating, Ventilation & Air Conditioning)'),\n",
       "  Text(0, 6, 'Tires & Wheels'),\n",
       "  Text(0, 7, 'Electrical (Belts, Lighting, Starting & Charging Systems)'),\n",
       "  Text(0, 8, 'Driveability (Fuel, Ignition & Emission Systems)'),\n",
       "  Text(0, 9, 'Cooling System'),\n",
       "  Text(0, 10, 'Accessories (Gauges, Power Accessories, Vision & Air Bag)'),\n",
       "  Text(0, 11, 'Batteries'),\n",
       "  Text(0, 12, 'Car Detailing Services'),\n",
       "  Text(0, 13, 'Sublet & Towing'),\n",
       "  Text(0, 14, 'Drive Train (Final Drive, Transaxle, Differential & Transfer Case)'),\n",
       "  Text(0, 15, 'Counter / Cash Sale'),\n",
       "  Text(0, 16, 'Exhaust')])"
      ]
     },
     "execution_count": 24,
     "metadata": {},
     "output_type": "execute_result"
    },
    {
     "data": {
      "image/png": "[encoded data removed]",
      "text/plain": [
       "<Figure size 864x720 with 1 Axes>"
      ]
     },
     "metadata": {},
     "output_type": "display_data"
    }
   ],
   "source": [
    "sns.set_style('darkgrid')\r\n",
    "\r\n",
    "plt.figure(figsize = (12,10))\r\n",
    "df_service_cost = df.groupby(['Service Category'])[['Net Total']].sum().sort_values(by ='Net Total', ascending = False).reset_index()\r\n",
    "ax = sns.barplot(data = df_service_cost, y = 'Service Category', x = 'Net Total', color ='#42b7bd')\r\n",
    "\r\n",
    "# Setting the annotations\r\n",
    "\r\n",
    "# Setting the the largest value\r\n",
    "patch_h = []    \r\n",
    "for patch in ax.patches:\r\n",
    "    reading = patch.get_height()\r\n",
    "    patch_h.append(reading)\r\n",
    "idx_tallest = np.argmax(patch_h) ## patch_h contains the heights of all the patches now\r\n",
    "ax.patches[idx_tallest].set_facecolor('#a834a8') ## np.argmax return the index of largest value of the list\r\n",
    "\r\n",
    "for i in ax.patches:\r\n",
    "    # get_width pulls left or right; get_y pushes up or down\r\n",
    "    ax.text(i.get_width()+100000, i.get_y()+.5, \\\r\n",
    "            str(round((i.get_width()), 2)), fontsize=11, color='darkslategray')\r\n",
    "\r\n",
    "# Setting the labels and titles\r\n",
    "plt.title('Average Repair and Maintenance Cost per Car Make', fontsize = 15, pad = 10)\r\n",
    "plt.xlabel('Average Cost of Services', fontsize = 13, labelpad = 10)\r\n",
    "plt.ylabel('Car Make', fontsize = 13, labelpad = 25, rotation = 0)\r\n",
    "plt.xticks(fontsize = 12)\r\n",
    "plt.yticks(fontsize = 12)"
   ]
  },
  {
   "cell_type": "markdown",
   "metadata": {},
   "source": [
    "## Feature Engineering"
   ]
  },
  {
   "cell_type": "code",
   "execution_count": 25,
   "metadata": {
    "execution": {
     "iopub.execute_input": "2021-03-24T03:34:57.436449Z",
     "iopub.status.busy": "2021-03-24T03:34:57.436449Z",
     "iopub.status.idle": "2021-03-24T03:34:57.481328Z",
     "shell.execute_reply": "2021-03-24T03:34:57.479780Z",
     "shell.execute_reply.started": "2021-03-24T03:34:57.436449Z"
    }
   },
   "outputs": [],
   "source": [
    "# Create time component columns to further investigate\r\n",
    "\r\n",
    "df['Year'] = df['Created'].dt.year # Year column\r\n",
    "# Month column\r\n",
    "df['Month'] = df['Created'].dt.month \r\n",
    "df['Hour'] = df['Created'].dt.hour # Hour column\r\n",
    "\r\n",
    "# Day column\r\n",
    "df['Day'] = df['Created'].dt.dayofweek"
   ]
  },
  {
   "cell_type": "code",
   "execution_count": 26,
   "metadata": {
    "execution": {
     "iopub.execute_input": "2021-03-24T03:34:57.483356Z",
     "iopub.status.busy": "2021-03-24T03:34:57.483356Z",
     "iopub.status.idle": "2021-03-24T03:34:57.528203Z",
     "shell.execute_reply": "2021-03-24T03:34:57.526212Z",
     "shell.execute_reply.started": "2021-03-24T03:34:57.483356Z"
    }
   },
   "outputs": [
    {
     "data": {
      "text/html": [
       "<div>\n",
       "<style scoped>\n",
       "    .dataframe tbody tr th:only-of-type {\n",
       "        vertical-align: middle;\n",
       "    }\n",
       "\n",
       "    .dataframe tbody tr th {\n",
       "        vertical-align: top;\n",
       "    }\n",
       "\n",
       "    .dataframe thead th {\n",
       "        text-align: right;\n",
       "    }\n",
       "</style>\n",
       "<table border=\"1\" class=\"dataframe\">\n",
       "  <thead>\n",
       "    <tr style=\"text-align: right;\">\n",
       "      <th></th>\n",
       "      <th>Created</th>\n",
       "      <th>Year</th>\n",
       "      <th>Work Order</th>\n",
       "      <th>Mileage In</th>\n",
       "      <th>Make</th>\n",
       "      <th>Model</th>\n",
       "      <th>Service Category</th>\n",
       "      <th>Service Package</th>\n",
       "      <th>Description</th>\n",
       "      <th>Net Total</th>\n",
       "      <th>ServiceItemID</th>\n",
       "      <th>ContactID</th>\n",
       "      <th>InvoiceID</th>\n",
       "      <th>Line Type</th>\n",
       "      <th>Month</th>\n",
       "      <th>Hour</th>\n",
       "      <th>Day</th>\n",
       "    </tr>\n",
       "  </thead>\n",
       "  <tbody>\n",
       "    <tr>\n",
       "      <th>0</th>\n",
       "      <td>2018-12-28 10:18:10</td>\n",
       "      <td>2018</td>\n",
       "      <td>49</td>\n",
       "      <td>33320</td>\n",
       "      <td>honda</td>\n",
       "      <td>Civic</td>\n",
       "      <td>Oil, Lube &amp; Preventive Maintenance Service</td>\n",
       "      <td>MINOR Preventive Maintenance Service (MEDIUM S...</td>\n",
       "      <td>OIL FILTER HONDA</td>\n",
       "      <td>696.43</td>\n",
       "      <td>ff01e2a4-d2d5-48ff-8ccc-d5605a653df4</td>\n",
       "      <td>a271834a-1afc-4e62-8c71-638025174c1f</td>\n",
       "      <td>99833bf9-865b-4e2c-9bd1-a0ed0cebea8e</td>\n",
       "      <td>Material</td>\n",
       "      <td>12</td>\n",
       "      <td>10</td>\n",
       "      <td>4</td>\n",
       "    </tr>\n",
       "    <tr>\n",
       "      <th>1</th>\n",
       "      <td>2018-12-28 10:18:10</td>\n",
       "      <td>2018</td>\n",
       "      <td>49</td>\n",
       "      <td>33320</td>\n",
       "      <td>honda</td>\n",
       "      <td>Civic</td>\n",
       "      <td>Oil, Lube &amp; Preventive Maintenance Service</td>\n",
       "      <td>MINOR Preventive Maintenance Service (MEDIUM S...</td>\n",
       "      <td>ENGINE FLUSHING</td>\n",
       "      <td>142.86</td>\n",
       "      <td>ff01e2a4-d2d5-48ff-8ccc-d5605a653df4</td>\n",
       "      <td>a271834a-1afc-4e62-8c71-638025174c1f</td>\n",
       "      <td>99833bf9-865b-4e2c-9bd1-a0ed0cebea8e</td>\n",
       "      <td>Material</td>\n",
       "      <td>12</td>\n",
       "      <td>10</td>\n",
       "      <td>4</td>\n",
       "    </tr>\n",
       "    <tr>\n",
       "      <th>2</th>\n",
       "      <td>2018-12-28 10:18:10</td>\n",
       "      <td>2018</td>\n",
       "      <td>49</td>\n",
       "      <td>33320</td>\n",
       "      <td>honda</td>\n",
       "      <td>Civic</td>\n",
       "      <td>Oil, Lube &amp; Preventive Maintenance Service</td>\n",
       "      <td>MINOR Preventive Maintenance Service (MEDIUM S...</td>\n",
       "      <td>BRAKE CLEANER 14oz</td>\n",
       "      <td>227.68</td>\n",
       "      <td>ff01e2a4-d2d5-48ff-8ccc-d5605a653df4</td>\n",
       "      <td>a271834a-1afc-4e62-8c71-638025174c1f</td>\n",
       "      <td>99833bf9-865b-4e2c-9bd1-a0ed0cebea8e</td>\n",
       "      <td>Material</td>\n",
       "      <td>12</td>\n",
       "      <td>10</td>\n",
       "      <td>4</td>\n",
       "    </tr>\n",
       "    <tr>\n",
       "      <th>3</th>\n",
       "      <td>2018-12-28 10:18:10</td>\n",
       "      <td>2018</td>\n",
       "      <td>49</td>\n",
       "      <td>33320</td>\n",
       "      <td>honda</td>\n",
       "      <td>Civic</td>\n",
       "      <td>Oil, Lube &amp; Preventive Maintenance Service</td>\n",
       "      <td>MINOR Preventive Maintenance Service (MEDIUM S...</td>\n",
       "      <td>Labor</td>\n",
       "      <td>1339.29</td>\n",
       "      <td>ff01e2a4-d2d5-48ff-8ccc-d5605a653df4</td>\n",
       "      <td>a271834a-1afc-4e62-8c71-638025174c1f</td>\n",
       "      <td>99833bf9-865b-4e2c-9bd1-a0ed0cebea8e</td>\n",
       "      <td>Labor</td>\n",
       "      <td>12</td>\n",
       "      <td>10</td>\n",
       "      <td>4</td>\n",
       "    </tr>\n",
       "    <tr>\n",
       "      <th>4</th>\n",
       "      <td>2018-12-28 10:18:10</td>\n",
       "      <td>2018</td>\n",
       "      <td>49</td>\n",
       "      <td>33320</td>\n",
       "      <td>honda</td>\n",
       "      <td>Civic</td>\n",
       "      <td>Oil, Lube &amp; Preventive Maintenance Service</td>\n",
       "      <td>MINOR Preventive Maintenance Service (MEDIUM S...</td>\n",
       "      <td>REPSOL ELITE INJECTION 10W40 1L - GAS/DIESEL</td>\n",
       "      <td>1178.56</td>\n",
       "      <td>ff01e2a4-d2d5-48ff-8ccc-d5605a653df4</td>\n",
       "      <td>a271834a-1afc-4e62-8c71-638025174c1f</td>\n",
       "      <td>99833bf9-865b-4e2c-9bd1-a0ed0cebea8e</td>\n",
       "      <td>Material</td>\n",
       "      <td>12</td>\n",
       "      <td>10</td>\n",
       "      <td>4</td>\n",
       "    </tr>\n",
       "  </tbody>\n",
       "</table>\n",
       "</div>"
      ],
      "text/plain": [
       "              Created  Year  Work Order  Mileage In   Make  Model  \\\n",
       "0 2018-12-28 10:18:10  2018          49       33320  honda  Civic   \n",
       "1 2018-12-28 10:18:10  2018          49       33320  honda  Civic   \n",
       "2 2018-12-28 10:18:10  2018          49       33320  honda  Civic   \n",
       "3 2018-12-28 10:18:10  2018          49       33320  honda  Civic   \n",
       "4 2018-12-28 10:18:10  2018          49       33320  honda  Civic   \n",
       "\n",
       "                             Service Category  \\\n",
       "0  Oil, Lube & Preventive Maintenance Service   \n",
       "1  Oil, Lube & Preventive Maintenance Service   \n",
       "2  Oil, Lube & Preventive Maintenance Service   \n",
       "3  Oil, Lube & Preventive Maintenance Service   \n",
       "4  Oil, Lube & Preventive Maintenance Service   \n",
       "\n",
       "                                     Service Package  \\\n",
       "0  MINOR Preventive Maintenance Service (MEDIUM S...   \n",
       "1  MINOR Preventive Maintenance Service (MEDIUM S...   \n",
       "2  MINOR Preventive Maintenance Service (MEDIUM S...   \n",
       "3  MINOR Preventive Maintenance Service (MEDIUM S...   \n",
       "4  MINOR Preventive Maintenance Service (MEDIUM S...   \n",
       "\n",
       "                                    Description  Net Total  \\\n",
       "0                              OIL FILTER HONDA     696.43   \n",
       "1                               ENGINE FLUSHING     142.86   \n",
       "2                            BRAKE CLEANER 14oz     227.68   \n",
       "3                                         Labor    1339.29   \n",
       "4  REPSOL ELITE INJECTION 10W40 1L - GAS/DIESEL    1178.56   \n",
       "\n",
       "                          ServiceItemID                             ContactID  \\\n",
       "0  ff01e2a4-d2d5-48ff-8ccc-d5605a653df4  a271834a-1afc-4e62-8c71-638025174c1f   \n",
       "1  ff01e2a4-d2d5-48ff-8ccc-d5605a653df4  a271834a-1afc-4e62-8c71-638025174c1f   \n",
       "2  ff01e2a4-d2d5-48ff-8ccc-d5605a653df4  a271834a-1afc-4e62-8c71-638025174c1f   \n",
       "3  ff01e2a4-d2d5-48ff-8ccc-d5605a653df4  a271834a-1afc-4e62-8c71-638025174c1f   \n",
       "4  ff01e2a4-d2d5-48ff-8ccc-d5605a653df4  a271834a-1afc-4e62-8c71-638025174c1f   \n",
       "\n",
       "                              InvoiceID Line Type  Month  Hour  Day  \n",
       "0  99833bf9-865b-4e2c-9bd1-a0ed0cebea8e  Material     12    10    4  \n",
       "1  99833bf9-865b-4e2c-9bd1-a0ed0cebea8e  Material     12    10    4  \n",
       "2  99833bf9-865b-4e2c-9bd1-a0ed0cebea8e  Material     12    10    4  \n",
       "3  99833bf9-865b-4e2c-9bd1-a0ed0cebea8e     Labor     12    10    4  \n",
       "4  99833bf9-865b-4e2c-9bd1-a0ed0cebea8e  Material     12    10    4  "
      ]
     },
     "execution_count": 26,
     "metadata": {},
     "output_type": "execute_result"
    }
   ],
   "source": [
    "df.head()"
   ]
  },
  {
   "cell_type": "code",
   "execution_count": 27,
   "metadata": {
    "execution": {
     "iopub.execute_input": "2021-03-24T03:34:57.531431Z",
     "iopub.status.busy": "2021-03-24T03:34:57.530197Z",
     "iopub.status.idle": "2021-03-24T03:34:57.573082Z",
     "shell.execute_reply": "2021-03-24T03:34:57.572088Z",
     "shell.execute_reply.started": "2021-03-24T03:34:57.531431Z"
    }
   },
   "outputs": [
    {
     "data": {
      "text/html": [
       "<div>\n",
       "<style scoped>\n",
       "    .dataframe tbody tr th:only-of-type {\n",
       "        vertical-align: middle;\n",
       "    }\n",
       "\n",
       "    .dataframe tbody tr th {\n",
       "        vertical-align: top;\n",
       "    }\n",
       "\n",
       "    .dataframe thead th {\n",
       "        text-align: right;\n",
       "    }\n",
       "</style>\n",
       "<table border=\"1\" class=\"dataframe\">\n",
       "  <thead>\n",
       "    <tr style=\"text-align: right;\">\n",
       "      <th></th>\n",
       "      <th>Day</th>\n",
       "      <th>Counts</th>\n",
       "    </tr>\n",
       "  </thead>\n",
       "  <tbody>\n",
       "    <tr>\n",
       "      <th>0</th>\n",
       "      <td>Monday</td>\n",
       "      <td>5705</td>\n",
       "    </tr>\n",
       "    <tr>\n",
       "      <th>1</th>\n",
       "      <td>Tuesday</td>\n",
       "      <td>6260</td>\n",
       "    </tr>\n",
       "    <tr>\n",
       "      <th>2</th>\n",
       "      <td>Wednesday</td>\n",
       "      <td>6158</td>\n",
       "    </tr>\n",
       "    <tr>\n",
       "      <th>3</th>\n",
       "      <td>Thursday</td>\n",
       "      <td>5924</td>\n",
       "    </tr>\n",
       "    <tr>\n",
       "      <th>4</th>\n",
       "      <td>Friday</td>\n",
       "      <td>6328</td>\n",
       "    </tr>\n",
       "    <tr>\n",
       "      <th>5</th>\n",
       "      <td>Saturday</td>\n",
       "      <td>7763</td>\n",
       "    </tr>\n",
       "    <tr>\n",
       "      <th>6</th>\n",
       "      <td>Sunday</td>\n",
       "      <td>2890</td>\n",
       "    </tr>\n",
       "  </tbody>\n",
       "</table>\n",
       "</div>"
      ],
      "text/plain": [
       "         Day  Counts\n",
       "0     Monday    5705\n",
       "1    Tuesday    6260\n",
       "2  Wednesday    6158\n",
       "3   Thursday    5924\n",
       "4     Friday    6328\n",
       "5   Saturday    7763\n",
       "6     Sunday    2890"
      ]
     },
     "execution_count": 27,
     "metadata": {},
     "output_type": "execute_result"
    }
   ],
   "source": [
    "df_day = df.groupby(['Day']).size().reset_index(name = 'Counts').sort_values(by = 'Day')\r\n",
    "days = {0:'Monday',1:'Tuesday',2:'Wednesday',3:'Thursday',4:'Friday',5:'Saturday',6:'Sunday'}\r\n",
    "df_day['Day'] = df_day['Day'].apply(lambda x: days[x])\r\n",
    "df_day"
   ]
  },
  {
   "cell_type": "code",
   "execution_count": 28,
   "metadata": {
    "execution": {
     "iopub.execute_input": "2021-03-24T03:34:57.575077Z",
     "iopub.status.busy": "2021-03-24T03:34:57.575077Z",
     "iopub.status.idle": "2021-03-24T03:34:57.964349Z",
     "shell.execute_reply": "2021-03-24T03:34:57.962680Z",
     "shell.execute_reply.started": "2021-03-24T03:34:57.575077Z"
    }
   },
   "outputs": [
    {
     "data": {
      "text/plain": [
       "(array([2000., 3000., 4000., 5000., 6000., 7000., 8000., 9000.]),\n",
       " [Text(0, 0, ''),\n",
       "  Text(0, 0, ''),\n",
       "  Text(0, 0, ''),\n",
       "  Text(0, 0, ''),\n",
       "  Text(0, 0, ''),\n",
       "  Text(0, 0, ''),\n",
       "  Text(0, 0, ''),\n",
       "  Text(0, 0, '')])"
      ]
     },
     "execution_count": 28,
     "metadata": {},
     "output_type": "execute_result"
    },
    {
     "data": {
      "image/png": "[encoded data removed]",
      "text/plain": [
       "<Figure size 864x720 with 1 Axes>"
      ]
     },
     "metadata": {},
     "output_type": "display_data"
    }
   ],
   "source": [
    "## Daily Pattern\r\n",
    "\r\n",
    "plt.figure(figsize = (12,10))\r\n",
    "ax = sns.lineplot(data = df_day, x = 'Day' , y = 'Counts', color = 'darkslategray', marker ='o')\r\n",
    "plt.title('Car Repair and Maintenance Daily Pattern', fontsize = 15, pad = 10)\r\n",
    "plt.xlabel('Day', fontsize = 13, labelpad = 10)\r\n",
    "plt.ylabel('Number of Transactions', fontsize = 13, labelpad = 25)\r\n",
    "plt.xticks(fontsize = 12)\r\n",
    "plt.yticks(fontsize = 12)"
   ]
  },
  {
   "cell_type": "code",
   "execution_count": 29,
   "metadata": {
    "execution": {
     "iopub.execute_input": "2021-03-24T03:34:57.966581Z",
     "iopub.status.busy": "2021-03-24T03:34:57.965347Z",
     "iopub.status.idle": "2021-03-24T03:34:58.605196Z",
     "shell.execute_reply": "2021-03-24T03:34:58.604181Z",
     "shell.execute_reply.started": "2021-03-24T03:34:57.966581Z"
    }
   },
   "outputs": [
    {
     "data": {
      "text/plain": [
       "(array([-1000.,     0.,  1000.,  2000.,  3000.,  4000.,  5000.,  6000.,\n",
       "         7000.,  8000.]),\n",
       " [Text(0, 0, ''),\n",
       "  Text(0, 0, ''),\n",
       "  Text(0, 0, ''),\n",
       "  Text(0, 0, ''),\n",
       "  Text(0, 0, ''),\n",
       "  Text(0, 0, ''),\n",
       "  Text(0, 0, ''),\n",
       "  Text(0, 0, ''),\n",
       "  Text(0, 0, ''),\n",
       "  Text(0, 0, '')])"
      ]
     },
     "execution_count": 29,
     "metadata": {},
     "output_type": "execute_result"
    },
    {
     "data": {
      "image/png": "[encoded data removed]",
      "text/plain": [
       "<Figure size 720x576 with 1 Axes>"
      ]
     },
     "metadata": {},
     "output_type": "display_data"
    }
   ],
   "source": [
    "## Hourly Pattern\r\n",
    "\r\n",
    "# Setting the data to hours\r\n",
    "df_hour = df.groupby(['Hour']).size().reset_index(name = 'Counts')\r\n",
    "\r\n",
    "#Setting the general information\r\n",
    "plt.figure(figsize = (10,8))\r\n",
    "ax = sns.lineplot(data = df_hour, x = 'Hour' , y = 'Counts',color = 'darkslategray',marker ='o')\r\n",
    "plt.title('Car Repair and Maintenance Hourly Pattern', fontsize = 15, pad = 10)\r\n",
    "plt.xlabel('Hour', fontsize = 13, labelpad = 10)\r\n",
    "plt.ylabel('Number of Transactions', fontsize = 13, labelpad = 25)\r\n",
    "plt.xticks(np.arange(0,24,2),fontsize = 12)\r\n",
    "plt.yticks(fontsize = 12)"
   ]
  },
  {
   "cell_type": "code",
   "execution_count": 30,
   "metadata": {
    "execution": {
     "iopub.execute_input": "2021-03-24T03:34:58.607118Z",
     "iopub.status.busy": "2021-03-24T03:34:58.606120Z",
     "iopub.status.idle": "2021-03-24T03:34:58.635040Z",
     "shell.execute_reply": "2021-03-24T03:34:58.634150Z",
     "shell.execute_reply.started": "2021-03-24T03:34:58.607118Z"
    }
   },
   "outputs": [
    {
     "data": {
      "text/html": [
       "<div>\n",
       "<style scoped>\n",
       "    .dataframe tbody tr th:only-of-type {\n",
       "        vertical-align: middle;\n",
       "    }\n",
       "\n",
       "    .dataframe tbody tr th {\n",
       "        vertical-align: top;\n",
       "    }\n",
       "\n",
       "    .dataframe thead th {\n",
       "        text-align: right;\n",
       "    }\n",
       "</style>\n",
       "<table border=\"1\" class=\"dataframe\">\n",
       "  <thead>\n",
       "    <tr style=\"text-align: right;\">\n",
       "      <th></th>\n",
       "      <th>Month</th>\n",
       "      <th>Counts</th>\n",
       "    </tr>\n",
       "  </thead>\n",
       "  <tbody>\n",
       "    <tr>\n",
       "      <th>0</th>\n",
       "      <td>January</td>\n",
       "      <td>5432</td>\n",
       "    </tr>\n",
       "    <tr>\n",
       "      <th>1</th>\n",
       "      <td>February</td>\n",
       "      <td>3931</td>\n",
       "    </tr>\n",
       "    <tr>\n",
       "      <th>2</th>\n",
       "      <td>March</td>\n",
       "      <td>3379</td>\n",
       "    </tr>\n",
       "    <tr>\n",
       "      <th>3</th>\n",
       "      <td>April</td>\n",
       "      <td>1875</td>\n",
       "    </tr>\n",
       "    <tr>\n",
       "      <th>4</th>\n",
       "      <td>May</td>\n",
       "      <td>2765</td>\n",
       "    </tr>\n",
       "    <tr>\n",
       "      <th>5</th>\n",
       "      <td>June</td>\n",
       "      <td>2856</td>\n",
       "    </tr>\n",
       "    <tr>\n",
       "      <th>6</th>\n",
       "      <td>July</td>\n",
       "      <td>4069</td>\n",
       "    </tr>\n",
       "    <tr>\n",
       "      <th>7</th>\n",
       "      <td>August</td>\n",
       "      <td>3126</td>\n",
       "    </tr>\n",
       "    <tr>\n",
       "      <th>8</th>\n",
       "      <td>September</td>\n",
       "      <td>3244</td>\n",
       "    </tr>\n",
       "    <tr>\n",
       "      <th>9</th>\n",
       "      <td>October</td>\n",
       "      <td>3472</td>\n",
       "    </tr>\n",
       "    <tr>\n",
       "      <th>10</th>\n",
       "      <td>November</td>\n",
       "      <td>3444</td>\n",
       "    </tr>\n",
       "    <tr>\n",
       "      <th>11</th>\n",
       "      <td>December</td>\n",
       "      <td>3435</td>\n",
       "    </tr>\n",
       "  </tbody>\n",
       "</table>\n",
       "</div>"
      ],
      "text/plain": [
       "        Month  Counts\n",
       "0     January    5432\n",
       "1    February    3931\n",
       "2       March    3379\n",
       "3       April    1875\n",
       "4         May    2765\n",
       "5        June    2856\n",
       "6        July    4069\n",
       "7      August    3126\n",
       "8   September    3244\n",
       "9     October    3472\n",
       "10   November    3444\n",
       "11   December    3435"
      ]
     },
     "execution_count": 30,
     "metadata": {},
     "output_type": "execute_result"
    }
   ],
   "source": [
    "months = {1:'January',2:'February',3:'March',4:'April',5:'May',6:'June',7:'July',8:'August',9:'September',10:'October',11:'November',12:'December'}\r\n",
    "df_month = df.groupby(['Month']).size().reset_index(name = 'Counts')\r\n",
    "df_month['Month'] = df_month['Month'].apply(lambda x: months[x])\r\n",
    "df_month"
   ]
  },
  {
   "cell_type": "code",
   "execution_count": 31,
   "metadata": {
    "execution": {
     "iopub.execute_input": "2021-03-24T03:34:58.641024Z",
     "iopub.status.busy": "2021-03-24T03:34:58.641024Z",
     "iopub.status.idle": "2021-03-24T03:34:59.294968Z",
     "shell.execute_reply": "2021-03-24T03:34:59.293936Z",
     "shell.execute_reply.started": "2021-03-24T03:34:58.641024Z"
    }
   },
   "outputs": [
    {
     "data": {
      "text/plain": [
       "(array([1500., 2000., 2500., 3000., 3500., 4000., 4500., 5000., 5500.,\n",
       "        6000.]),\n",
       " [Text(0, 0, ''),\n",
       "  Text(0, 0, ''),\n",
       "  Text(0, 0, ''),\n",
       "  Text(0, 0, ''),\n",
       "  Text(0, 0, ''),\n",
       "  Text(0, 0, ''),\n",
       "  Text(0, 0, ''),\n",
       "  Text(0, 0, ''),\n",
       "  Text(0, 0, ''),\n",
       "  Text(0, 0, '')])"
      ]
     },
     "execution_count": 31,
     "metadata": {},
     "output_type": "execute_result"
    },
    {
     "data": {
      "image/png": "[encoded data removed]",
      "text/plain": [
       "<Figure size 864x720 with 1 Axes>"
      ]
     },
     "metadata": {},
     "output_type": "display_data"
    }
   ],
   "source": [
    "## Monthly Pattern\r\n",
    "\r\n",
    "plt.figure(figsize = (12,10))\r\n",
    "ax = sns.lineplot(data = df_month, x = 'Month' , y = 'Counts', color = 'darkslategray',marker = 'o')\r\n",
    "\r\n",
    "#Setting the the labels on the plot\r\n",
    "for x, y in zip(df_month['Month'], df_month['Counts']):\r\n",
    " # the position of the data label relative to the data point can be adjusted by adding/subtracting a value from the x &/ y coordinates\r\n",
    " plt.text(x = x, # x-coordinate position of data label\r\n",
    " y = y+50, # y-coordinate position of data label, adjusted to be 150 below the data point\r\n",
    " s = '{:.0f}'.format(y), # data label, formatted to ignore decimals\r\n",
    " color = 'navy') # set colour of line\r\n",
    "\r\n",
    "#Setting the general information\r\n",
    "plt.title('Car Repair and Maintenance Monthly Pattern', fontsize = 15, pad = 10)\r\n",
    "plt.xlabel('Month', fontsize = 13, labelpad = 10)\r\n",
    "plt.ylabel('Number of Transactions', fontsize = 15, labelpad = 20)\r\n",
    "plt.xticks(fontsize = 12)\r\n",
    "plt.yticks(fontsize = 12)"
   ]
  },
  {
   "cell_type": "markdown",
   "metadata": {},
   "source": [
    "### Label Clustering: We will use the original dataframe to include all possible categories"
   ]
  },
  {
   "cell_type": "code",
   "execution_count": 35,
   "metadata": {
    "execution": {
     "iopub.execute_input": "2021-03-24T03:36:49.389147Z",
     "iopub.status.busy": "2021-03-24T03:36:49.388053Z",
     "iopub.status.idle": "2021-03-24T03:36:49.414409Z",
     "shell.execute_reply": "2021-03-24T03:36:49.413465Z",
     "shell.execute_reply.started": "2021-03-24T03:36:49.389147Z"
    }
   },
   "outputs": [
    {
     "data": {
      "text/plain": [
       "array(['Oil, Lube & Preventive Maintenance Service', 'Sublet & Towing',\n",
       "       'Engine',\n",
       "       'Electrical (Belts, Lighting, Starting & Charging Systems)',\n",
       "       'Tires & Wheels',\n",
       "       'Driveability (Fuel, Ignition & Emission Systems)',\n",
       "       'Steering & Suspension', 'Brakes', 'Cooling System',\n",
       "       'Car Detailing Services', 'Transmission & Clutch',\n",
       "       'Accessories (Gauges, Power Accessories, Vision & Air Bag)',\n",
       "       'Counter / Cash Sale',\n",
       "       'HVAC (Heating, Ventilation & Air Conditioning)',\n",
       "       'Drive Train (Final Drive, Transaxle, Differential & Transfer Case)',\n",
       "       'Batteries', 'Exhaust', 'Shop Internal Warranty'], dtype=object)"
      ]
     },
     "execution_count": 35,
     "metadata": {},
     "output_type": "execute_result"
    }
   ],
   "source": [
    "df_original['Service Category'].unique()"
   ]
  },
  {
   "cell_type": "markdown",
   "metadata": {},
   "source": [
    "### Tires & Wheels"
   ]
  },
  {
   "cell_type": "code",
   "execution_count": 135,
   "metadata": {
    "execution": {
     "iopub.execute_input": "2021-03-24T04:24:16.345460Z",
     "iopub.status.busy": "2021-03-24T04:24:16.345460Z",
     "iopub.status.idle": "2021-03-24T04:24:16.376211Z",
     "shell.execute_reply": "2021-03-24T04:24:16.374955Z",
     "shell.execute_reply.started": "2021-03-24T04:24:16.345460Z"
    }
   },
   "outputs": [],
   "source": [
    "# Tires and Wheels\n",
    "\n",
    "df_tw = df_original.loc[(df_original['Service Category'] == 'Tires & Wheels'),:]"
   ]
  },
  {
   "cell_type": "code",
   "execution_count": 142,
   "metadata": {
    "execution": {
     "iopub.execute_input": "2021-03-24T04:26:02.842662Z",
     "iopub.status.busy": "2021-03-24T04:26:02.842662Z",
     "iopub.status.idle": "2021-03-24T04:26:02.883253Z",
     "shell.execute_reply": "2021-03-24T04:26:02.882255Z",
     "shell.execute_reply.started": "2021-03-24T04:26:02.842662Z"
    }
   },
   "outputs": [],
   "source": [
    "# # Code for Reproduceability\n",
    "\n",
    "# def tires_wheels_clustering(dataset):\n",
    "#   df_tw = dataset.loc[(dataset['Service Category'] == 'Tires & Wheels'),:]\n",
    "\n",
    "#   # Replace Mount to Mount, Install, & Balance\n",
    "#   df_tw.loc[df_tw['Service Package'].str.contains('Mount', case = False),'Service Package'] = 'Mount, Install, & Balance'\n",
    "#   df_tw.loc[df_tw['Service Package'].str.contains('Balance'),'Service Package'] = 'Mount, Install, & Balance'\n",
    "#   df_tw.loc[df_tw['Service Package'].str.contains('Balancing', case = False),'Service Package'] = 'Mount, Install, & Balance'\n",
    "\n",
    "#   # Map Tire Replacement to all values that contain replacement\n",
    "#   df_tw.loc[df_tw['Service Package'].str.contains('Replace'),'Service Package'] = 'Tire Replacement'\n",
    "#   df_tw.loc[df_tw['Service Package'].str.contains('REPLACEMENT', case = False),'Service Package'] = 'Tire Replacement'\n",
    "\n",
    "#   # Tire Vulcanizing\n",
    "#   df_tw.loc[df_tw['Service Package'].str.contains('Vulcan'),'Service Package'] = 'Tire Vulcanizing'\n",
    "\n",
    "#   # Tire Rotation\n",
    "#   df_tw.loc[df_tw['Service Package'].str.contains('Rotat'),'Service Package'] = 'Tire Rotation'\n",
    "\n",
    "#   # Other General Services\n",
    "#   df_tw.loc[~df_tw['Service Package'].isin(['Mount, Install, & Balance','Tire Rotation','Tire Vulcanizing','Tire Replacement']),'Service Package'] = 'Other General Services'\n",
    "\n",
    "# tires_wheels_clustering"
   ]
  },
  {
   "cell_type": "code",
   "execution_count": 234,
   "metadata": {
    "execution": {
     "iopub.execute_input": "2021-03-24T05:38:35.192399Z",
     "iopub.status.busy": "2021-03-24T05:38:35.192001Z",
     "iopub.status.idle": "2021-03-24T05:38:35.213948Z",
     "shell.execute_reply": "2021-03-24T05:38:35.212949Z",
     "shell.execute_reply.started": "2021-03-24T05:38:35.192399Z"
    }
   },
   "outputs": [
    {
     "data": {
      "text/plain": [
       "Mount, Install, & Balance    793\n",
       "Other General Services        61\n",
       "Tire Vulcanizing              52\n",
       "Tire Replacement              45\n",
       "Tire Rotation                 30\n",
       "Name: Service Package, dtype: int64"
      ]
     },
     "execution_count": 234,
     "metadata": {},
     "output_type": "execute_result"
    }
   ],
   "source": [
    "df_tw['Service Package'].value_counts()"
   ]
  },
  {
   "cell_type": "code",
   "execution_count": null,
   "metadata": {},
   "outputs": [],
   "source": []
  },
  {
   "cell_type": "markdown",
   "metadata": {},
   "source": [
    "### Accessories"
   ]
  },
  {
   "cell_type": "code",
   "execution_count": 159,
   "metadata": {
    "execution": {
     "iopub.execute_input": "2021-03-24T05:09:04.540565Z",
     "iopub.status.busy": "2021-03-24T05:09:04.540565Z",
     "iopub.status.idle": "2021-03-24T05:09:04.559422Z",
     "shell.execute_reply": "2021-03-24T05:09:04.558368Z",
     "shell.execute_reply.started": "2021-03-24T05:09:04.540565Z"
    }
   },
   "outputs": [],
   "source": [
    "## This is for accessories\n",
    "df_acc = df_original.loc[(df_original['Service Category'] == 'Accessories (Gauges, Power Accessories, Vision & Air Bag)'),:]"
   ]
  },
  {
   "cell_type": "code",
   "execution_count": 374,
   "metadata": {
    "execution": {
     "iopub.execute_input": "2021-03-24T06:55:56.427026Z",
     "iopub.status.busy": "2021-03-24T06:55:56.427026Z",
     "iopub.status.idle": "2021-03-24T06:55:56.451993Z",
     "shell.execute_reply": "2021-03-24T06:55:56.451993Z",
     "shell.execute_reply.started": "2021-03-24T06:55:56.427026Z"
    }
   },
   "outputs": [],
   "source": [
    "# df_acc.loc[df_acc['Service Package'].str.contains('wiper', case = False),'Service Package'] = 'Windshield Wiper Servicing'\n",
    "# df_acc.loc[df_acc['Service Package'].str.contains('wind', case = False),'Service Package'] = 'Windshield Wiper Servicing'\n",
    "# df_acc.loc[df_acc['Service Package'].str.contains('door', case = False),'Service Package'] = 'Door Servicing'\n",
    "# df_acc.loc[df_acc['Service Package'].str.contains('window', case = False),'Service Package'] = 'Power Window Servicing'\n",
    "# df_acc.loc[df_acc['Service Package'].str.contains('power accessories', case = False),'Service Package'] = 'Power Accessories General Service'\n",
    "# df_acc.loc[df_acc['Service Package'].str.contains('general', case = False),'Service Package'] = 'Accessories General Service'\n",
    "# df_acc.loc[df_acc['Service Package'].str.contains('horn', case = False),'Service Package'] = 'Car Horn Repair & Services'\n",
    "# df_acc.loc[df_acc['Service Package'].str.contains('seat', case = False),'Service Package'] = 'Car Seat Services'\n",
    "# df_acc.loc[df_acc['Service Package'].str.contains('Hood', case = False),'Service Package'] = 'Car Hood Services'\n",
    "# df_acc.loc[~df_acc['Service Package'].isin(['Windshield Wiper Servicing','Door Servicing','Power Window Servicing','Power Accessories General Service'\n",
    "#                                            ,'Accessories General Service','Car Horn Repair & Services',\n",
    "#                                            'Car Seat Services','Car Hood Services']),'Service Package'] = 'Other Accessories Services'\n"
   ]
  },
  {
   "cell_type": "code",
   "execution_count": 372,
   "metadata": {
    "execution": {
     "iopub.execute_input": "2021-03-24T06:55:42.002018Z",
     "iopub.status.busy": "2021-03-24T06:55:42.002018Z",
     "iopub.status.idle": "2021-03-24T06:55:42.022947Z",
     "shell.execute_reply": "2021-03-24T06:55:42.021949Z",
     "shell.execute_reply.started": "2021-03-24T06:55:42.002018Z"
    }
   },
   "outputs": [],
   "source": [
    "df_acc.loc[~df_acc['Service Package'].isin(['Windshield Wiper Servicing','Door Servicing','Power Window Servicing','Power Accessories General Service'\n",
    "                                           ,'Accessories General Service','Car Horn Repair & Services',\n",
    "                                           'Car Seat Services','Car Hood Services']),'Service Package'] = 'Other Accessories Services'"
   ]
  },
  {
   "cell_type": "code",
   "execution_count": 368,
   "metadata": {
    "execution": {
     "iopub.execute_input": "2021-03-24T06:53:37.323277Z",
     "iopub.status.busy": "2021-03-24T06:53:37.323277Z",
     "iopub.status.idle": "2021-03-24T06:53:37.335243Z",
     "shell.execute_reply": "2021-03-24T06:53:37.335243Z",
     "shell.execute_reply.started": "2021-03-24T06:53:37.323277Z"
    }
   },
   "outputs": [
    {
     "data": {
      "text/plain": [
       "Car Hood Services    24\n",
       "Name: Service Package, dtype: int64"
      ]
     },
     "execution_count": 368,
     "metadata": {},
     "output_type": "execute_result"
    }
   ],
   "source": [
    "df_acc.loc[df_acc['Service Package'].str.contains('hood', case = False),'Service Package'].value_counts()"
   ]
  },
  {
   "cell_type": "code",
   "execution_count": 375,
   "metadata": {
    "execution": {
     "iopub.execute_input": "2021-03-24T06:55:58.363721Z",
     "iopub.status.busy": "2021-03-24T06:55:58.363721Z",
     "iopub.status.idle": "2021-03-24T06:55:58.372695Z",
     "shell.execute_reply": "2021-03-24T06:55:58.372695Z",
     "shell.execute_reply.started": "2021-03-24T06:55:58.363721Z"
    }
   },
   "outputs": [
    {
     "data": {
      "text/plain": [
       "Windshield Wiper Servicing     177\n",
       "Other Accessories Services     128\n",
       "Door Servicing                  79\n",
       "Accessories General Service     34\n",
       "Car Horn Repair & Services      27\n",
       "Car Hood Services               24\n",
       "Car Seat Services                3\n",
       "Name: Service Package, dtype: int64"
      ]
     },
     "execution_count": 375,
     "metadata": {},
     "output_type": "execute_result"
    }
   ],
   "source": [
    "df_acc['Service Package'].value_counts()"
   ]
  },
  {
   "cell_type": "code",
   "execution_count": null,
   "metadata": {},
   "outputs": [],
   "source": []
  },
  {
   "cell_type": "markdown",
   "metadata": {},
   "source": [
    "### Counter / Cash Sale"
   ]
  },
  {
   "cell_type": "code",
   "execution_count": 376,
   "metadata": {
    "execution": {
     "iopub.execute_input": "2021-03-24T07:02:26.249759Z",
     "iopub.status.busy": "2021-03-24T07:02:26.249759Z",
     "iopub.status.idle": "2021-03-24T07:02:26.267712Z",
     "shell.execute_reply": "2021-03-24T07:02:26.266716Z",
     "shell.execute_reply.started": "2021-03-24T07:02:26.249759Z"
    }
   },
   "outputs": [],
   "source": [
    "df_ccs = df_original.loc[(df_original['Service Category'] == 'Counter / Cash Sale'),:]"
   ]
  },
  {
   "cell_type": "code",
   "execution_count": null,
   "metadata": {},
   "outputs": [],
   "source": [
    "# df_ccs.loc[df_ccs['Service Package'].str.contains('Counter', case = False),'Service Package'] = 'Counter / Cash Sale'\n",
    "# df_ccs.loc[df_ccs['Service Package'].str.contains('Tools', case = False),'Service Package'] = 'Tools and Equipment'\n",
    "# df_ccs.loc[~df_ccs['Service Package'].isin(['Counter / Cash Sale','Tools and Equipment']),'Service Package'] = 'Other Requests'"
   ]
  },
  {
   "cell_type": "code",
   "execution_count": 382,
   "metadata": {
    "execution": {
     "iopub.execute_input": "2021-03-24T07:04:41.247190Z",
     "iopub.status.busy": "2021-03-24T07:04:41.247190Z",
     "iopub.status.idle": "2021-03-24T07:04:41.260054Z",
     "shell.execute_reply": "2021-03-24T07:04:41.260054Z",
     "shell.execute_reply.started": "2021-03-24T07:04:41.247190Z"
    }
   },
   "outputs": [],
   "source": [
    "df_ccs.loc[~df_ccs['Service Package'].isin(['Counter / Cash Sale','Tools and Equipment']),'Service Package'] = 'Other Requests'"
   ]
  },
  {
   "cell_type": "code",
   "execution_count": 383,
   "metadata": {
    "execution": {
     "iopub.execute_input": "2021-03-24T07:04:45.599147Z",
     "iopub.status.busy": "2021-03-24T07:04:45.599147Z",
     "iopub.status.idle": "2021-03-24T07:04:45.609120Z",
     "shell.execute_reply": "2021-03-24T07:04:45.608123Z",
     "shell.execute_reply.started": "2021-03-24T07:04:45.599147Z"
    }
   },
   "outputs": [
    {
     "data": {
      "text/plain": [
       "Counter / Cash Sale    1449\n",
       "Other Requests           65\n",
       "Tools and Equipment      38\n",
       "Name: Service Package, dtype: int64"
      ]
     },
     "execution_count": 383,
     "metadata": {},
     "output_type": "execute_result"
    }
   ],
   "source": [
    "df_ccs['Service Package'].value_counts()"
   ]
  },
  {
   "cell_type": "markdown",
   "metadata": {},
   "source": [
    "### HVAC"
   ]
  },
  {
   "cell_type": "code",
   "execution_count": 167,
   "metadata": {
    "execution": {
     "iopub.execute_input": "2021-03-24T05:12:47.673889Z",
     "iopub.status.busy": "2021-03-24T05:12:47.672892Z",
     "iopub.status.idle": "2021-03-24T05:12:47.697962Z",
     "shell.execute_reply": "2021-03-24T05:12:47.696933Z",
     "shell.execute_reply.started": "2021-03-24T05:12:47.673889Z"
    }
   },
   "outputs": [],
   "source": [
    "## This is for HVAC\n",
    "df_hvac = df_original.loc[(df_original['Service Category'] == 'HVAC (Heating, Ventilation & Air Conditioning)'),:]"
   ]
  },
  {
   "cell_type": "code",
   "execution_count": 306,
   "metadata": {
    "execution": {
     "iopub.execute_input": "2021-03-24T06:10:39.546691Z",
     "iopub.status.busy": "2021-03-24T06:10:39.545694Z",
     "iopub.status.idle": "2021-03-24T06:10:39.611582Z",
     "shell.execute_reply": "2021-03-24T06:10:39.610778Z",
     "shell.execute_reply.started": "2021-03-24T06:10:39.546691Z"
    }
   },
   "outputs": [],
   "source": [
    "## General Services\n",
    "\n",
    "# df_hvac.loc[df_hvac['Service Package'].str.contains('general', case = False),'Service Package'] = 'Air Conditioner General Cleaning Service'\n",
    "# df_hvac.loc[df_hvac['Service Package'].str.contains('vacuum', case = False),'Service Package'] = 'Vacuum/Charging Service'\n",
    "# df_hvac.loc[df_hvac['Service Package'].str.contains('repair', case = False),'Service Package'] = 'Air Conditioner General Repair Service'\n",
    "\n",
    "## Specific Services\n",
    "\n",
    "# df_hvac.loc[df_hvac['Service Package'].str.contains('filter', case = False),'Service Package'] = 'Cabin Air Filter'\n",
    "# df_hvac.loc[df_hvac['Service Package'].str.contains('compressor', case = False),'Service Package'] = 'Air Conditioning Compressor'\n",
    "# df_hvac.loc[df_hvac['Service Package'].str.contains('evaporator', case = False),'Service Package'] = 'Air Conditioner Evaporator'\n",
    "# df_hvac.loc[df_hvac['Service Package'].str.contains('blower', case = False),'Service Package'] = 'Blower Motor Assembly'\n",
    "# df_hvac.loc[df_hvac['Service Package'].str.contains('fan', case = False),'Service Package'] = 'Air Conditioner Fan Motor'\n",
    "\n",
    "## Other Services\n",
    "\n",
    "# df_hvac.loc[~df_hvac['Service Package'].isin(['Air Conditioner General Cleaning Service','Vacuum/Charging Service','Air Conditioning Compressor'\n",
    "#                                              ,'Cabin Air Filter','Air Conditioner General Repair Service',\n",
    "#                                              'Air Conditioner Evaporator','Blower Motor Assembly','Air Conditioner Fan Motor']\n",
    "#                                             ),'Service Package'] = 'Other Air Conditioning Concerns'"
   ]
  },
  {
   "cell_type": "code",
   "execution_count": 309,
   "metadata": {
    "execution": {
     "iopub.execute_input": "2021-03-24T06:13:04.270054Z",
     "iopub.status.busy": "2021-03-24T06:13:04.268921Z",
     "iopub.status.idle": "2021-03-24T06:13:04.292937Z",
     "shell.execute_reply": "2021-03-24T06:13:04.291026Z",
     "shell.execute_reply.started": "2021-03-24T06:13:04.270054Z"
    }
   },
   "outputs": [
    {
     "data": {
      "text/plain": [
       "Air Conditioner General Cleaning Service    863\n",
       "Vacuum/Charging Service                     389\n",
       "Air Conditioning Compressor                  76\n",
       "Other Air Conditioning Concerns              74\n",
       "Cabin Air Filter                             57\n",
       "Blower Motor Assembly                        43\n",
       "Air Conditioner General Repair Service       39\n",
       "Air Conditioner Fan Motor                    26\n",
       "Air Conditioner Evaporator                   13\n",
       "Name: Service Package, dtype: int64"
      ]
     },
     "execution_count": 309,
     "metadata": {},
     "output_type": "execute_result"
    }
   ],
   "source": [
    "df_hvac['Service Package'].value_counts()"
   ]
  },
  {
   "cell_type": "markdown",
   "metadata": {},
   "source": [
    "### Drive Train"
   ]
  },
  {
   "cell_type": "code",
   "execution_count": 229,
   "metadata": {
    "execution": {
     "iopub.execute_input": "2021-03-24T05:37:04.056861Z",
     "iopub.status.busy": "2021-03-24T05:37:04.055864Z",
     "iopub.status.idle": "2021-03-24T05:37:04.080774Z",
     "shell.execute_reply": "2021-03-24T05:37:04.079794Z",
     "shell.execute_reply.started": "2021-03-24T05:37:04.056861Z"
    }
   },
   "outputs": [],
   "source": [
    "## This is for drive train\n",
    "df_dt = df_original.loc[(df_original['Service Category'] == 'Drive Train (Final Drive, Transaxle, Differential & Transfer Case)'),:]"
   ]
  },
  {
   "cell_type": "code",
   "execution_count": 230,
   "metadata": {
    "execution": {
     "iopub.execute_input": "2021-03-24T05:37:05.314592Z",
     "iopub.status.busy": "2021-03-24T05:37:05.314592Z",
     "iopub.status.idle": "2021-03-24T05:37:05.361468Z",
     "shell.execute_reply": "2021-03-24T05:37:05.357480Z",
     "shell.execute_reply.started": "2021-03-24T05:37:05.314592Z"
    }
   },
   "outputs": [],
   "source": [
    "# # Clustering of Drive Shaft\n",
    "\n",
    "# df_dt.loc[df_dt['Service Package'].str.contains('Drive Shaft', case = False),'Service Package'] = 'Servicing of Drive Shaft'\n",
    "# df_dt.loc[df_dt['Service Package'].str.contains('DriveShaft', case = False),'Service Package'] = 'Servicing of Drive Shaft'\n",
    "# df_dt.loc[df_dt['Service Package'].str.contains('Oil Seal', case = False),'Service Package'] = 'Servicing of Drive Shaft'\n",
    "# df_dt.loc[df_dt['Service Package'].str.contains('oilseal', case = False),'Service Package'] = 'Servicing of Drive Shaft'\n",
    "\n",
    "# # Clustering of Differential Fluid Exchange\n",
    "\n",
    "# df_dt.loc[df_dt['Service Package'].str.contains('fluid', case = False),'Service Package'] = 'Differential Fluid Exchange'\n",
    "\n",
    "# # Clustering of Axle Shaft\n",
    "# df_dt.loc[df_dt['Service Package'].str.contains('Axle', case = False),'Service Package'] = 'Servicing of Axle Shaft'\n",
    "\n",
    "# # Other Drive Train Services\n",
    "# df_dt.loc[~df_dt['Service Package'].isin(['Servicing of Drive Shaft','Servicing of Axle Shaft','Differential Fluid Exchange']),'Service Package'] = 'Other General Drive Train Services'"
   ]
  },
  {
   "cell_type": "code",
   "execution_count": 231,
   "metadata": {
    "execution": {
     "iopub.execute_input": "2021-03-24T05:37:06.436298Z",
     "iopub.status.busy": "2021-03-24T05:37:06.436298Z",
     "iopub.status.idle": "2021-03-24T05:37:06.449312Z",
     "shell.execute_reply": "2021-03-24T05:37:06.448265Z",
     "shell.execute_reply.started": "2021-03-24T05:37:06.436298Z"
    }
   },
   "outputs": [
    {
     "data": {
      "text/plain": [
       "Servicing of Drive Shaft              130\n",
       "Servicing of Axle Shaft                38\n",
       "Differential Fluid Exchange            34\n",
       "Other General Drive Train Services     32\n",
       "Name: Service Package, dtype: int64"
      ]
     },
     "execution_count": 231,
     "metadata": {},
     "output_type": "execute_result"
    }
   ],
   "source": [
    "df_dt['Service Package'].value_counts()"
   ]
  },
  {
   "cell_type": "markdown",
   "metadata": {},
   "source": [
    "### Batteries"
   ]
  },
  {
   "cell_type": "code",
   "execution_count": 266,
   "metadata": {
    "execution": {
     "iopub.execute_input": "2021-03-24T05:53:18.156443Z",
     "iopub.status.busy": "2021-03-24T05:53:18.155446Z",
     "iopub.status.idle": "2021-03-24T05:53:18.186363Z",
     "shell.execute_reply": "2021-03-24T05:53:18.185427Z",
     "shell.execute_reply.started": "2021-03-24T05:53:18.156443Z"
    }
   },
   "outputs": [],
   "source": [
    "## This is for drive train\n",
    "df_batt = df_original.loc[(df_original['Service Category'] == 'Batteries'),:]"
   ]
  },
  {
   "cell_type": "code",
   "execution_count": 268,
   "metadata": {
    "execution": {
     "iopub.execute_input": "2021-03-24T05:53:23.272217Z",
     "iopub.status.busy": "2021-03-24T05:53:23.271817Z",
     "iopub.status.idle": "2021-03-24T05:53:23.311712Z",
     "shell.execute_reply": "2021-03-24T05:53:23.310766Z",
     "shell.execute_reply.started": "2021-03-24T05:53:23.272217Z"
    }
   },
   "outputs": [],
   "source": [
    "## Clustering of Battery Replacement\n",
    "# df_batt.loc[df_batt['Service Package'].str.contains('replace', case = False),'Service Package'] = 'Battery Replacement'\n",
    "# df_batt.loc[df_batt['Service Package'].str.contains('change', case = False),'Service Package'] = 'Battery Replacement'\n",
    "\n",
    "## Clustering of General Battery Services\n",
    "# df_batt.loc[df_batt['Service Package'].str.contains('jump', case = False),'Service Package'] = 'Battery General Services (Charge, Test, Start)'\n",
    "# df_batt.loc[df_batt['Service Package'].str.contains('charge', case = False),'Service Package'] = 'Battery General Services (Charge, Test, Start)'\n",
    "# df_batt.loc[df_batt['Service Package'].str.contains('start', case = False),'Service Package'] = 'Battery General Services (Charge, Test, Start)'\n",
    "# df_batt.loc[df_batt['Service Package'].str.contains('test', case = False),'Service Package'] = 'Battery General Services (Charge, Test, Start)'\n",
    "# df_batt.loc[df_batt['Service Package'].str.contains('general', case = False),'Service Package'] = 'Battery General Services (Charge, Test, Start)'\n",
    "# df_batt.loc[df_batt['Service Package'].str.contains('service', case = False),'Service Package'] = 'Battery General Services (Charge, Test, Start)'\n",
    "\n",
    "## Clustering of Other Services as recommended by the Preventive Maintenance Schedule\n",
    "# df_batt.loc[~df_batt['Service Package'].isin(['Battery Replacement','Battery General Services (Charge, Test, Start)']),'Service Package'] = 'Other Services (PMS Recommendaton)'"
   ]
  },
  {
   "cell_type": "code",
   "execution_count": 269,
   "metadata": {
    "execution": {
     "iopub.execute_input": "2021-03-24T05:53:24.884448Z",
     "iopub.status.busy": "2021-03-24T05:53:24.884448Z",
     "iopub.status.idle": "2021-03-24T05:53:24.905473Z",
     "shell.execute_reply": "2021-03-24T05:53:24.904212Z",
     "shell.execute_reply.started": "2021-03-24T05:53:24.884448Z"
    }
   },
   "outputs": [
    {
     "data": {
      "text/plain": [
       "Battery Replacement                               151\n",
       "Battery General Services (Charge, Test, Start)     37\n",
       "Other Services (PMS Recommendaton)                 25\n",
       "Name: Service Package, dtype: int64"
      ]
     },
     "execution_count": 269,
     "metadata": {},
     "output_type": "execute_result"
    }
   ],
   "source": [
    "df_batt['Service Package'].value_counts()"
   ]
  },
  {
   "cell_type": "markdown",
   "metadata": {},
   "source": [
    "### Sublet & Towing"
   ]
  },
  {
   "cell_type": "code",
   "execution_count": 322,
   "metadata": {
    "execution": {
     "iopub.execute_input": "2021-03-24T06:32:03.629592Z",
     "iopub.status.busy": "2021-03-24T06:32:03.628564Z",
     "iopub.status.idle": "2021-03-24T06:32:03.652471Z",
     "shell.execute_reply": "2021-03-24T06:32:03.651615Z",
     "shell.execute_reply.started": "2021-03-24T06:32:03.629592Z"
    }
   },
   "outputs": [],
   "source": [
    "## This is for drive train\n",
    "df_sublet = df_original.loc[(df_original['Service Category'] == 'Sublet & Towing'),:]"
   ]
  },
  {
   "cell_type": "code",
   "execution_count": 326,
   "metadata": {
    "execution": {
     "iopub.execute_input": "2021-03-24T06:32:28.332031Z",
     "iopub.status.busy": "2021-03-24T06:32:28.330797Z",
     "iopub.status.idle": "2021-03-24T06:32:28.348343Z",
     "shell.execute_reply": "2021-03-24T06:32:28.347336Z",
     "shell.execute_reply.started": "2021-03-24T06:32:28.332031Z"
    }
   },
   "outputs": [],
   "source": [
    "df_sublet.loc[df_sublet['Service Package'].str.contains('repair', case = False),'Service Package'] = 'Body Repair and Paint Works'\n",
    "df_sublet.loc[df_sublet['Service Package'].str.contains('towing', case = False),'Service Package'] = 'Towing'\n",
    "df_sublet.loc[~df_sublet['Service Package'].isin(['Body Repair and Paint Works','Towing']),'Service Package'] = 'Other Sublet Services (Machine Shop)'"
   ]
  },
  {
   "cell_type": "code",
   "execution_count": 327,
   "metadata": {
    "execution": {
     "iopub.execute_input": "2021-03-24T06:32:38.344032Z",
     "iopub.status.busy": "2021-03-24T06:32:38.344032Z",
     "iopub.status.idle": "2021-03-24T06:32:38.371016Z",
     "shell.execute_reply": "2021-03-24T06:32:38.370009Z",
     "shell.execute_reply.started": "2021-03-24T06:32:38.344032Z"
    }
   },
   "outputs": [
    {
     "data": {
      "text/plain": [
       "Body Repair and Paint Works             35\n",
       "Other Sublet Services (Machine Shop)    30\n",
       "Towing                                  19\n",
       "Name: Service Package, dtype: int64"
      ]
     },
     "execution_count": 327,
     "metadata": {},
     "output_type": "execute_result"
    }
   ],
   "source": [
    "df_sublet['Service Package'].value_counts()"
   ]
  },
  {
   "cell_type": "code",
   "execution_count": null,
   "metadata": {},
   "outputs": [],
   "source": []
  }
 ],
 "metadata": {
  "kernelspec": {
   "display_name": "Python 3",
   "language": "python",
   "name": "python3"
  },
  "language_info": {
   "codemirror_mode": {
    "name": "ipython",
    "version": 3
   },
   "file_extension": ".py",
   "mimetype": "text/x-python",
   "name": "python",
   "nbconvert_exporter": "python",
   "pygments_lexer": "ipython3",
   "version": "3.8.5"
  }
 },
 "nbformat": 4,
 "nbformat_minor": 4
}
