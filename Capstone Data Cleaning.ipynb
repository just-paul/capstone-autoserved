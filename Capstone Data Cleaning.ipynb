{
 "cells": [
  {
   "cell_type": "raw",
   "metadata": {},
   "source": []
  },
  {
   "cell_type": "markdown",
   "metadata": {},
   "source": [
    "# Data Cleaning and Exploration"
   ]
  },
  {
   "cell_type": "markdown",
   "metadata": {},
   "source": [
    "## 1.) Problem Definition\r\n",
    "\r\n",
    "> \r\n",
    "* Given historical maintenance and repair transactions of car owners, can we predict the car component that is most likely to fail?\r\n",
    "* Can we predict how many days is the useful life of the component before failure (optional)\r\n",
    "\r\n",
    "\r\n",
    "\r\n",
    "## 2.) Data\r\n",
    "\r\n",
    "## 3.) Features\r\n",
    "\r\n",
    "**Create Data Dictionary**\r\n",
    "\r\n",
    "1. Created\t\r\n",
    "2. Mileage In\r\n",
    "3. Mileage Out\t\r\n",
    "4. Work Order \r\n",
    "5. Year: ***model year** is a method of describing the version of a product which has been produced over multiple years. A vehicle's model year is not necessarily the same as the year it was manufactured.*\r\n",
    "6. Make: *the **brand** of the vehicle*\r\n",
    "7. Model: *refers to the name of a car product and sometimes a range of products*\r\n",
    "8. Submodel: *refers to the specific body type style options of a vehicle *\r\n",
    "   * *For example, the 2018 Honda Civic Sedan have six different trim-level options:\r\n",
    "     * LX*\r\n",
    "     * ET\r\n",
    "     * EX-T\r\n",
    "     * EX-L\r\n",
    "     * Si\r\n",
    "     * Touring\r\n",
    "9. Engine: *a number or code refering to the identification marked on the engine of a vehicle.*\r\n",
    "10. VIN (Vehicle Identification Number): *is the identifying code for a specific automobile. The VIN serves as the car's fingerprint, as no two vehicles in operation have the same VIN.* \r\n",
    "   * We can visit the Vin Decoders [[1](https://vpic.nhtsa.dot.gov/decoder/)], [[2](https://driving-tests.org/vin-decoder/)]\r\n",
    "11. Line Type: general category for the services.\r\n",
    "   * Material\r\n",
    "   * Labor\r\n",
    "   * Sublet (*What is a sublet?*)\r\n",
    "12. Service Category\r\n",
    "   * Oil, Lube & Preventive Maintenance Service\r\n",
    "   * Sublet & Towing\r\n",
    "   * Engine\r\n",
    "   * Electrical (Belts, Lighting, Starting & Charging Systems)\r\n",
    "   * Tires & Wheels\r\n",
    "   * Driveability (Fuel, Ignition & Emission Systems)\r\n",
    "   * Steering & Suspension \r\n",
    "   * Brakes\r\n",
    "   * Cooling System\r\n",
    "   * Transmission & Clutch\r\n",
    "   * Car Detailing Services\r\n",
    "   * Accessories (Gauges, Power Accessories, Vision & Air Bag)\r\n",
    "   * Counter / Cash Sale\r\n",
    "   * HVAC (Heating, Ventilation & Air Conditioning)\r\n",
    "   * Drive Train (Final Drive, Transaxle, Differential & Transfer Case\r\n",
    "   * Batteries\r\n",
    "   * Exhaust\r\n",
    "   * Shop Internal Warranty\r\n",
    "13. Code: (*Is this a unique identifier code in their system?*)\r\n",
    "14. Service Package: *Type of service package offered. How was this data gathered? Manually inputted? Or system defined?* (*There are 4251 unique values that they want to predict. How should we proceed?*)\r\n",
    "15. Line Code\r\n",
    "    * E.ROD\r\n",
    "    * BAN\r\n",
    "    * MIT \r\n",
    "    * FIC\r\n",
    "    * FLE\r\n",
    "    * BEN\r\n",
    "    * SAI\r\n",
    "    * 555\r\n",
    "    * AISIN\r\n",
    "16. Part Number: *Refers to the specific part serviced*(*There are 5396 unique values for Part Number. How should we proceed?*)\r\n",
    "17. Description: **For Clarification** : *Does this column indicate the name of material/product used?*\r\n",
    "18. Manufacturer: *Refers to the manufacturer of the product used during the service.*\r\n",
    "19. Definition: **For Clarification:** *We have 24780 null values here, can we use the description instead? But this is also a good column since it generalizes the type of product used.*\r\n",
    "20. Price\r\n",
    "21. Quantity\r\n",
    "22. Total\r\n",
    "23. Discount\r\n",
    "24. Net Total\r\n",
    "25. Cost\r\n",
    "26. Other Charge Code\r\n",
    "27. ContactID\r\n",
    "28. ServiceItemID\r\n",
    "29. InvoiceID\r\n",
    "30. DefinitionID\r\n",
    "\r\n",
    "\r\n"
   ]
  },
  {
   "cell_type": "markdown",
   "metadata": {},
   "source": [
    "## Import Core Libraries\r\n"
   ]
  },
  {
   "cell_type": "code",
   "execution_count": 13,
   "metadata": {
    "execution": {
     "iopub.execute_input": "2021-04-02T03:54:46.730402Z",
     "iopub.status.busy": "2021-04-02T03:54:46.730402Z",
     "iopub.status.idle": "2021-04-02T03:54:46.753009Z",
     "shell.execute_reply": "2021-04-02T03:54:46.750312Z",
     "shell.execute_reply.started": "2021-04-02T03:54:46.730402Z"
    }
   },
   "outputs": [],
   "source": [
    "import numpy as np\r\n",
    "import pandas as pd\r\n",
    "import matplotlib.pyplot as plt\r\n",
    "import seaborn as sns\r\n",
    "import missingno as msno\r\n",
    "%matplotlib inline\r\n",
    "\r\n",
    "pd.set_option('display.max_columns',50)"
   ]
  },
  {
   "cell_type": "code",
   "execution_count": 14,
   "metadata": {
    "execution": {
     "iopub.execute_input": "2021-04-02T03:54:46.757748Z",
     "iopub.status.busy": "2021-04-02T03:54:46.756752Z",
     "iopub.status.idle": "2021-04-02T03:54:47.327705Z",
     "shell.execute_reply": "2021-04-02T03:54:47.326340Z",
     "shell.execute_reply.started": "2021-04-02T03:54:46.757748Z"
    },
    "tags": []
   },
   "outputs": [
    {
     "data": {
      "text/html": [
       "<div>\n",
       "<style scoped>\n",
       "    .dataframe tbody tr th:only-of-type {\n",
       "        vertical-align: middle;\n",
       "    }\n",
       "\n",
       "    .dataframe tbody tr th {\n",
       "        vertical-align: top;\n",
       "    }\n",
       "\n",
       "    .dataframe thead th {\n",
       "        text-align: right;\n",
       "    }\n",
       "</style>\n",
       "<table border=\"1\" class=\"dataframe\">\n",
       "  <thead>\n",
       "    <tr style=\"text-align: right;\">\n",
       "      <th></th>\n",
       "      <th>Primary Key</th>\n",
       "      <th>Created</th>\n",
       "      <th>Mileage In</th>\n",
       "      <th>Work Order</th>\n",
       "      <th>Model</th>\n",
       "      <th>Line Type</th>\n",
       "      <th>Service Category</th>\n",
       "      <th>Service Package</th>\n",
       "      <th>Description</th>\n",
       "      <th>Definition</th>\n",
       "      <th>Price</th>\n",
       "      <th>Quantity</th>\n",
       "      <th>Total</th>\n",
       "      <th>Discount</th>\n",
       "      <th>Net Total</th>\n",
       "      <th>ContactID</th>\n",
       "      <th>ServiceItemID</th>\n",
       "      <th>InvoiceID</th>\n",
       "      <th>labels</th>\n",
       "      <th>Make</th>\n",
       "      <th>Year</th>\n",
       "    </tr>\n",
       "  </thead>\n",
       "  <tbody>\n",
       "    <tr>\n",
       "      <th>0</th>\n",
       "      <td>1</td>\n",
       "      <td>12/28/2018 10:18</td>\n",
       "      <td>33320</td>\n",
       "      <td>49</td>\n",
       "      <td>civic</td>\n",
       "      <td>Material</td>\n",
       "      <td>Oil, Lube &amp; Preventive Maintenance Service</td>\n",
       "      <td>MINOR Preventive Maintenance Service (MEDIUM S...</td>\n",
       "      <td>OIL FILTER HONDA</td>\n",
       "      <td>Engine Oil Filter</td>\n",
       "      <td>696.43</td>\n",
       "      <td>1.0</td>\n",
       "      <td>696.43</td>\n",
       "      <td>0.0</td>\n",
       "      <td>696.43</td>\n",
       "      <td>a271834a-1afc-4e62-8c71-638025174c1f</td>\n",
       "      <td>ff01e2a4-d2d5-48ff-8ccc-d5605a653df4</td>\n",
       "      <td>99833bf9-865b-4e2c-9bd1-a0ed0cebea8e</td>\n",
       "      <td>preventive maintenance</td>\n",
       "      <td>honda</td>\n",
       "      <td>2012</td>\n",
       "    </tr>\n",
       "    <tr>\n",
       "      <th>1</th>\n",
       "      <td>2</td>\n",
       "      <td>12/28/2018 10:18</td>\n",
       "      <td>33320</td>\n",
       "      <td>49</td>\n",
       "      <td>civic</td>\n",
       "      <td>Material</td>\n",
       "      <td>Oil, Lube &amp; Preventive Maintenance Service</td>\n",
       "      <td>MINOR Preventive Maintenance Service (MEDIUM S...</td>\n",
       "      <td>ENGINE FLUSHING</td>\n",
       "      <td>NaN</td>\n",
       "      <td>142.86</td>\n",
       "      <td>1.0</td>\n",
       "      <td>142.86</td>\n",
       "      <td>0.0</td>\n",
       "      <td>142.86</td>\n",
       "      <td>a271834a-1afc-4e62-8c71-638025174c1f</td>\n",
       "      <td>ff01e2a4-d2d5-48ff-8ccc-d5605a653df4</td>\n",
       "      <td>99833bf9-865b-4e2c-9bd1-a0ed0cebea8e</td>\n",
       "      <td>preventive maintenance</td>\n",
       "      <td>honda</td>\n",
       "      <td>2012</td>\n",
       "    </tr>\n",
       "    <tr>\n",
       "      <th>2</th>\n",
       "      <td>3</td>\n",
       "      <td>12/28/2018 10:18</td>\n",
       "      <td>33320</td>\n",
       "      <td>49</td>\n",
       "      <td>civic</td>\n",
       "      <td>Material</td>\n",
       "      <td>Oil, Lube &amp; Preventive Maintenance Service</td>\n",
       "      <td>MINOR Preventive Maintenance Service (MEDIUM S...</td>\n",
       "      <td>BRAKE CLEANER 14oz</td>\n",
       "      <td>NaN</td>\n",
       "      <td>227.68</td>\n",
       "      <td>1.0</td>\n",
       "      <td>227.68</td>\n",
       "      <td>0.0</td>\n",
       "      <td>227.68</td>\n",
       "      <td>a271834a-1afc-4e62-8c71-638025174c1f</td>\n",
       "      <td>ff01e2a4-d2d5-48ff-8ccc-d5605a653df4</td>\n",
       "      <td>99833bf9-865b-4e2c-9bd1-a0ed0cebea8e</td>\n",
       "      <td>preventive maintenance</td>\n",
       "      <td>honda</td>\n",
       "      <td>2012</td>\n",
       "    </tr>\n",
       "    <tr>\n",
       "      <th>3</th>\n",
       "      <td>4</td>\n",
       "      <td>12/28/2018 10:18</td>\n",
       "      <td>33320</td>\n",
       "      <td>49</td>\n",
       "      <td>civic</td>\n",
       "      <td>Labor</td>\n",
       "      <td>Oil, Lube &amp; Preventive Maintenance Service</td>\n",
       "      <td>MINOR Preventive Maintenance Service (MEDIUM S...</td>\n",
       "      <td>Labor</td>\n",
       "      <td>NaN</td>\n",
       "      <td>446.43</td>\n",
       "      <td>3.0</td>\n",
       "      <td>1339.29</td>\n",
       "      <td>0.0</td>\n",
       "      <td>1339.29</td>\n",
       "      <td>a271834a-1afc-4e62-8c71-638025174c1f</td>\n",
       "      <td>ff01e2a4-d2d5-48ff-8ccc-d5605a653df4</td>\n",
       "      <td>99833bf9-865b-4e2c-9bd1-a0ed0cebea8e</td>\n",
       "      <td>preventive maintenance</td>\n",
       "      <td>honda</td>\n",
       "      <td>2012</td>\n",
       "    </tr>\n",
       "    <tr>\n",
       "      <th>4</th>\n",
       "      <td>5</td>\n",
       "      <td>12/28/2018 10:18</td>\n",
       "      <td>33320</td>\n",
       "      <td>49</td>\n",
       "      <td>civic</td>\n",
       "      <td>Material</td>\n",
       "      <td>Oil, Lube &amp; Preventive Maintenance Service</td>\n",
       "      <td>MINOR Preventive Maintenance Service (MEDIUM S...</td>\n",
       "      <td>REPSOL ELITE INJECTION 10W40 1L - GAS/DIESEL</td>\n",
       "      <td>Engine Oil</td>\n",
       "      <td>294.64</td>\n",
       "      <td>4.0</td>\n",
       "      <td>1178.56</td>\n",
       "      <td>0.0</td>\n",
       "      <td>1178.56</td>\n",
       "      <td>a271834a-1afc-4e62-8c71-638025174c1f</td>\n",
       "      <td>ff01e2a4-d2d5-48ff-8ccc-d5605a653df4</td>\n",
       "      <td>99833bf9-865b-4e2c-9bd1-a0ed0cebea8e</td>\n",
       "      <td>preventive maintenance</td>\n",
       "      <td>honda</td>\n",
       "      <td>2012</td>\n",
       "    </tr>\n",
       "  </tbody>\n",
       "</table>\n",
       "</div>"
      ],
      "text/plain": [
       "   Primary Key           Created  Mileage In  Work Order  Model Line Type  \\\n",
       "0            1  12/28/2018 10:18       33320          49  civic  Material   \n",
       "1            2  12/28/2018 10:18       33320          49  civic  Material   \n",
       "2            3  12/28/2018 10:18       33320          49  civic  Material   \n",
       "3            4  12/28/2018 10:18       33320          49  civic     Labor   \n",
       "4            5  12/28/2018 10:18       33320          49  civic  Material   \n",
       "\n",
       "                             Service Category  \\\n",
       "0  Oil, Lube & Preventive Maintenance Service   \n",
       "1  Oil, Lube & Preventive Maintenance Service   \n",
       "2  Oil, Lube & Preventive Maintenance Service   \n",
       "3  Oil, Lube & Preventive Maintenance Service   \n",
       "4  Oil, Lube & Preventive Maintenance Service   \n",
       "\n",
       "                                     Service Package  \\\n",
       "0  MINOR Preventive Maintenance Service (MEDIUM S...   \n",
       "1  MINOR Preventive Maintenance Service (MEDIUM S...   \n",
       "2  MINOR Preventive Maintenance Service (MEDIUM S...   \n",
       "3  MINOR Preventive Maintenance Service (MEDIUM S...   \n",
       "4  MINOR Preventive Maintenance Service (MEDIUM S...   \n",
       "\n",
       "                                    Description         Definition   Price  \\\n",
       "0                              OIL FILTER HONDA  Engine Oil Filter  696.43   \n",
       "1                               ENGINE FLUSHING                NaN  142.86   \n",
       "2                            BRAKE CLEANER 14oz                NaN  227.68   \n",
       "3                                         Labor                NaN  446.43   \n",
       "4  REPSOL ELITE INJECTION 10W40 1L - GAS/DIESEL         Engine Oil  294.64   \n",
       "\n",
       "   Quantity    Total  Discount  Net Total  \\\n",
       "0       1.0   696.43       0.0     696.43   \n",
       "1       1.0   142.86       0.0     142.86   \n",
       "2       1.0   227.68       0.0     227.68   \n",
       "3       3.0  1339.29       0.0    1339.29   \n",
       "4       4.0  1178.56       0.0    1178.56   \n",
       "\n",
       "                              ContactID                         ServiceItemID  \\\n",
       "0  a271834a-1afc-4e62-8c71-638025174c1f  ff01e2a4-d2d5-48ff-8ccc-d5605a653df4   \n",
       "1  a271834a-1afc-4e62-8c71-638025174c1f  ff01e2a4-d2d5-48ff-8ccc-d5605a653df4   \n",
       "2  a271834a-1afc-4e62-8c71-638025174c1f  ff01e2a4-d2d5-48ff-8ccc-d5605a653df4   \n",
       "3  a271834a-1afc-4e62-8c71-638025174c1f  ff01e2a4-d2d5-48ff-8ccc-d5605a653df4   \n",
       "4  a271834a-1afc-4e62-8c71-638025174c1f  ff01e2a4-d2d5-48ff-8ccc-d5605a653df4   \n",
       "\n",
       "                              InvoiceID                  labels   Make  Year  \n",
       "0  99833bf9-865b-4e2c-9bd1-a0ed0cebea8e  preventive maintenance  honda  2012  \n",
       "1  99833bf9-865b-4e2c-9bd1-a0ed0cebea8e  preventive maintenance  honda  2012  \n",
       "2  99833bf9-865b-4e2c-9bd1-a0ed0cebea8e  preventive maintenance  honda  2012  \n",
       "3  99833bf9-865b-4e2c-9bd1-a0ed0cebea8e  preventive maintenance  honda  2012  \n",
       "4  99833bf9-865b-4e2c-9bd1-a0ed0cebea8e  preventive maintenance  honda  2012  "
      ]
     },
     "execution_count": 14,
     "metadata": {},
     "output_type": "execute_result"
    }
   ],
   "source": [
    "df_original = pd.read_csv(r\"C:\\Users\\justine.padayao\\Documents\\GitHub\\capstone-autoserved\\Dataset\\FINAL3.csv\", low_memory= False)\r\n",
    "df_original.head()"
   ]
  },
  {
   "cell_type": "code",
   "execution_count": 15,
   "metadata": {
    "execution": {
     "iopub.execute_input": "2021-04-02T03:54:47.330864Z",
     "iopub.status.busy": "2021-04-02T03:54:47.330864Z",
     "iopub.status.idle": "2021-04-02T03:54:47.349472Z",
     "shell.execute_reply": "2021-04-02T03:54:47.348347Z",
     "shell.execute_reply.started": "2021-04-02T03:54:47.330864Z"
    }
   },
   "outputs": [
    {
     "data": {
      "text/plain": [
       "4561"
      ]
     },
     "execution_count": 15,
     "metadata": {},
     "output_type": "execute_result"
    }
   ],
   "source": [
    "# There are 5416 unique transactions\r\n",
    "df_original['Work Order'].nunique()"
   ]
  },
  {
   "cell_type": "code",
   "execution_count": 16,
   "metadata": {
    "execution": {
     "iopub.execute_input": "2021-04-02T03:54:47.352539Z",
     "iopub.status.busy": "2021-04-02T03:54:47.352539Z",
     "iopub.status.idle": "2021-04-02T03:54:47.381809Z",
     "shell.execute_reply": "2021-04-02T03:54:47.378816Z",
     "shell.execute_reply.started": "2021-04-02T03:54:47.352539Z"
    }
   },
   "outputs": [
    {
     "data": {
      "text/plain": [
       "5940"
      ]
     },
     "execution_count": 16,
     "metadata": {},
     "output_type": "execute_result"
    }
   ],
   "source": [
    "df_original['InvoiceID'].nunique()"
   ]
  },
  {
   "cell_type": "markdown",
   "metadata": {},
   "source": [
    "## General Data"
   ]
  },
  {
   "cell_type": "code",
   "execution_count": 17,
   "metadata": {
    "execution": {
     "iopub.execute_input": "2021-04-02T03:54:47.384306Z",
     "iopub.status.busy": "2021-04-02T03:54:47.383804Z",
     "iopub.status.idle": "2021-04-02T03:54:47.475871Z",
     "shell.execute_reply": "2021-04-02T03:54:47.473877Z",
     "shell.execute_reply.started": "2021-04-02T03:54:47.384306Z"
    }
   },
   "outputs": [
    {
     "name": "stdout",
     "output_type": "stream",
     "text": [
      "<class 'pandas.core.frame.DataFrame'>\n",
      "RangeIndex: 37548 entries, 0 to 37547\n",
      "Data columns (total 21 columns):\n",
      " #   Column            Non-Null Count  Dtype  \n",
      "---  ------            --------------  -----  \n",
      " 0   Primary Key       37548 non-null  int64  \n",
      " 1   Created           37548 non-null  object \n",
      " 2   Mileage In        37548 non-null  int64  \n",
      " 3   Work Order        37548 non-null  int64  \n",
      " 4   Model             37548 non-null  object \n",
      " 5   Line Type         37548 non-null  object \n",
      " 6   Service Category  37548 non-null  object \n",
      " 7   Service Package   37525 non-null  object \n",
      " 8   Description       37548 non-null  object \n",
      " 9   Definition        15582 non-null  object \n",
      " 10  Price             37548 non-null  float64\n",
      " 11  Quantity          37548 non-null  float64\n",
      " 12  Total             37548 non-null  float64\n",
      " 13  Discount          37548 non-null  float64\n",
      " 14  Net Total         37548 non-null  float64\n",
      " 15  ContactID         37548 non-null  object \n",
      " 16  ServiceItemID     37548 non-null  object \n",
      " 17  InvoiceID         37548 non-null  object \n",
      " 18  labels            37548 non-null  object \n",
      " 19  Make              37548 non-null  object \n",
      " 20  Year              37548 non-null  int64  \n",
      "dtypes: float64(5), int64(4), object(12)\n",
      "memory usage: 6.0+ MB\n"
     ]
    }
   ],
   "source": [
    "df_original.info()"
   ]
  },
  {
   "cell_type": "markdown",
   "metadata": {},
   "source": [
    "## Cleaned Dataset"
   ]
  },
  {
   "cell_type": "code",
   "execution_count": 18,
   "metadata": {
    "execution": {
     "iopub.execute_input": "2021-04-02T03:54:47.478050Z",
     "iopub.status.busy": "2021-04-02T03:54:47.476867Z",
     "iopub.status.idle": "2021-04-02T03:54:47.875935Z",
     "shell.execute_reply": "2021-04-02T03:54:47.874675Z",
     "shell.execute_reply.started": "2021-04-02T03:54:47.478050Z"
    },
    "tags": []
   },
   "outputs": [],
   "source": [
    "df = pd.read_csv(r\"C:\\Users\\justine.padayao\\Documents\\GitHub\\capstone-autoserved\\Dataset\\FINAL3.csv\")"
   ]
  },
  {
   "cell_type": "code",
   "execution_count": 19,
   "metadata": {
    "execution": {
     "iopub.execute_input": "2021-04-02T03:54:47.878113Z",
     "iopub.status.busy": "2021-04-02T03:54:47.878113Z",
     "iopub.status.idle": "2021-04-02T03:54:47.954435Z",
     "shell.execute_reply": "2021-04-02T03:54:47.952480Z",
     "shell.execute_reply.started": "2021-04-02T03:54:47.878113Z"
    },
    "tags": []
   },
   "outputs": [
    {
     "name": "stdout",
     "output_type": "stream",
     "text": [
      "<class 'pandas.core.frame.DataFrame'>\n",
      "RangeIndex: 37548 entries, 0 to 37547\n",
      "Data columns (total 21 columns):\n",
      " #   Column            Non-Null Count  Dtype  \n",
      "---  ------            --------------  -----  \n",
      " 0   Primary Key       37548 non-null  int64  \n",
      " 1   Created           37548 non-null  object \n",
      " 2   Mileage In        37548 non-null  int64  \n",
      " 3   Work Order        37548 non-null  int64  \n",
      " 4   Model             37548 non-null  object \n",
      " 5   Line Type         37548 non-null  object \n",
      " 6   Service Category  37548 non-null  object \n",
      " 7   Service Package   37525 non-null  object \n",
      " 8   Description       37548 non-null  object \n",
      " 9   Definition        15582 non-null  object \n",
      " 10  Price             37548 non-null  float64\n",
      " 11  Quantity          37548 non-null  float64\n",
      " 12  Total             37548 non-null  float64\n",
      " 13  Discount          37548 non-null  float64\n",
      " 14  Net Total         37548 non-null  float64\n",
      " 15  ContactID         37548 non-null  object \n",
      " 16  ServiceItemID     37548 non-null  object \n",
      " 17  InvoiceID         37548 non-null  object \n",
      " 18  labels            37548 non-null  object \n",
      " 19  Make              37548 non-null  object \n",
      " 20  Year              37548 non-null  int64  \n",
      "dtypes: float64(5), int64(4), object(12)\n",
      "memory usage: 6.0+ MB\n"
     ]
    }
   ],
   "source": [
    "df.info()"
   ]
  },
  {
   "cell_type": "code",
   "execution_count": 20,
   "metadata": {
    "execution": {
     "iopub.execute_input": "2021-04-02T03:54:47.958179Z",
     "iopub.status.busy": "2021-04-02T03:54:47.958179Z",
     "iopub.status.idle": "2021-04-02T03:54:49.168496Z",
     "shell.execute_reply": "2021-04-02T03:54:49.166920Z",
     "shell.execute_reply.started": "2021-04-02T03:54:47.958179Z"
    }
   },
   "outputs": [],
   "source": [
    "# We use errors = `coerce` to force an out-of-bounds date to NaT\r\n",
    "df['Created'] = pd.to_datetime(df['Created'],errors = 'coerce')"
   ]
  },
  {
   "cell_type": "code",
   "execution_count": 21,
   "metadata": {
    "execution": {
     "iopub.execute_input": "2021-04-02T03:54:49.171852Z",
     "iopub.status.busy": "2021-04-02T03:54:49.171852Z",
     "iopub.status.idle": "2021-04-02T03:54:49.281542Z",
     "shell.execute_reply": "2021-04-02T03:54:49.280104Z",
     "shell.execute_reply.started": "2021-04-02T03:54:49.171852Z"
    }
   },
   "outputs": [],
   "source": [
    "# Let us drop the NaT values for the column created\r\n",
    "df = df.dropna()"
   ]
  },
  {
   "cell_type": "code",
   "execution_count": 22,
   "metadata": {
    "execution": {
     "iopub.execute_input": "2021-04-02T03:54:49.285351Z",
     "iopub.status.busy": "2021-04-02T03:54:49.285213Z",
     "iopub.status.idle": "2021-04-02T03:54:49.352778Z",
     "shell.execute_reply": "2021-04-02T03:54:49.350700Z",
     "shell.execute_reply.started": "2021-04-02T03:54:49.285351Z"
    }
   },
   "outputs": [
    {
     "name": "stdout",
     "output_type": "stream",
     "text": [
      "<class 'pandas.core.frame.DataFrame'>\n",
      "Int64Index: 15577 entries, 0 to 37547\n",
      "Data columns (total 21 columns):\n",
      " #   Column            Non-Null Count  Dtype         \n",
      "---  ------            --------------  -----         \n",
      " 0   Primary Key       15577 non-null  int64         \n",
      " 1   Created           15577 non-null  datetime64[ns]\n",
      " 2   Mileage In        15577 non-null  int64         \n",
      " 3   Work Order        15577 non-null  int64         \n",
      " 4   Model             15577 non-null  object        \n",
      " 5   Line Type         15577 non-null  object        \n",
      " 6   Service Category  15577 non-null  object        \n",
      " 7   Service Package   15577 non-null  object        \n",
      " 8   Description       15577 non-null  object        \n",
      " 9   Definition        15577 non-null  object        \n",
      " 10  Price             15577 non-null  float64       \n",
      " 11  Quantity          15577 non-null  float64       \n",
      " 12  Total             15577 non-null  float64       \n",
      " 13  Discount          15577 non-null  float64       \n",
      " 14  Net Total         15577 non-null  float64       \n",
      " 15  ContactID         15577 non-null  object        \n",
      " 16  ServiceItemID     15577 non-null  object        \n",
      " 17  InvoiceID         15577 non-null  object        \n",
      " 18  labels            15577 non-null  object        \n",
      " 19  Make              15577 non-null  object        \n",
      " 20  Year              15577 non-null  int64         \n",
      "dtypes: datetime64[ns](1), float64(5), int64(4), object(11)\n",
      "memory usage: 2.6+ MB\n"
     ]
    }
   ],
   "source": [
    "# The new values for our dataframe\r\n",
    "df.info()"
   ]
  },
  {
   "cell_type": "code",
   "execution_count": 23,
   "metadata": {
    "execution": {
     "iopub.execute_input": "2021-04-02T03:54:49.356038Z",
     "iopub.status.busy": "2021-04-02T03:54:49.354772Z",
     "iopub.status.idle": "2021-04-02T03:54:49.552790Z",
     "shell.execute_reply": "2021-04-02T03:54:49.550245Z",
     "shell.execute_reply.started": "2021-04-02T03:54:49.355769Z"
    }
   },
   "outputs": [
    {
     "data": {
      "text/html": [
       "<div>\n",
       "<style scoped>\n",
       "    .dataframe tbody tr th:only-of-type {\n",
       "        vertical-align: middle;\n",
       "    }\n",
       "\n",
       "    .dataframe tbody tr th {\n",
       "        vertical-align: top;\n",
       "    }\n",
       "\n",
       "    .dataframe thead th {\n",
       "        text-align: right;\n",
       "    }\n",
       "</style>\n",
       "<table border=\"1\" class=\"dataframe\">\n",
       "  <thead>\n",
       "    <tr style=\"text-align: right;\">\n",
       "      <th></th>\n",
       "      <th>Model</th>\n",
       "      <th>Line Type</th>\n",
       "      <th>Service Category</th>\n",
       "      <th>Service Package</th>\n",
       "      <th>Description</th>\n",
       "      <th>Definition</th>\n",
       "      <th>ContactID</th>\n",
       "      <th>ServiceItemID</th>\n",
       "      <th>InvoiceID</th>\n",
       "      <th>labels</th>\n",
       "      <th>Make</th>\n",
       "    </tr>\n",
       "  </thead>\n",
       "  <tbody>\n",
       "    <tr>\n",
       "      <th>count</th>\n",
       "      <td>15577</td>\n",
       "      <td>15577</td>\n",
       "      <td>15577</td>\n",
       "      <td>15577</td>\n",
       "      <td>15577</td>\n",
       "      <td>15577</td>\n",
       "      <td>15577</td>\n",
       "      <td>15577</td>\n",
       "      <td>15577</td>\n",
       "      <td>15577</td>\n",
       "      <td>15577</td>\n",
       "    </tr>\n",
       "    <tr>\n",
       "      <th>unique</th>\n",
       "      <td>206</td>\n",
       "      <td>1</td>\n",
       "      <td>15</td>\n",
       "      <td>2875</td>\n",
       "      <td>3614</td>\n",
       "      <td>526</td>\n",
       "      <td>2210</td>\n",
       "      <td>2604</td>\n",
       "      <td>4332</td>\n",
       "      <td>67</td>\n",
       "      <td>23</td>\n",
       "    </tr>\n",
       "    <tr>\n",
       "      <th>top</th>\n",
       "      <td>vios</td>\n",
       "      <td>Material</td>\n",
       "      <td>Oil, Lube &amp; Preventive Maintenance Service</td>\n",
       "      <td>MINOR Preventive Maintenance Service</td>\n",
       "      <td>ENGINE FLUSHING</td>\n",
       "      <td>Engine Oil</td>\n",
       "      <td>b0389171-37fd-4817-ae24-d383378b5c25</td>\n",
       "      <td>f6fef4bf-2f1d-4fc5-88a3-0101465186a7</td>\n",
       "      <td>1187fb69-4d33-4434-bcba-a3a9789db83f</td>\n",
       "      <td>preventive maintenance</td>\n",
       "      <td>toyota</td>\n",
       "    </tr>\n",
       "    <tr>\n",
       "      <th>freq</th>\n",
       "      <td>2348</td>\n",
       "      <td>15577</td>\n",
       "      <td>10147</td>\n",
       "      <td>532</td>\n",
       "      <td>1010</td>\n",
       "      <td>2786</td>\n",
       "      <td>472</td>\n",
       "      <td>54</td>\n",
       "      <td>24</td>\n",
       "      <td>7242</td>\n",
       "      <td>5572</td>\n",
       "    </tr>\n",
       "  </tbody>\n",
       "</table>\n",
       "</div>"
      ],
      "text/plain": [
       "        Model Line Type                            Service Category  \\\n",
       "count   15577     15577                                       15577   \n",
       "unique    206         1                                          15   \n",
       "top      vios  Material  Oil, Lube & Preventive Maintenance Service   \n",
       "freq     2348     15577                                       10147   \n",
       "\n",
       "                              Service Package      Description  Definition  \\\n",
       "count                                   15577            15577       15577   \n",
       "unique                                   2875             3614         526   \n",
       "top     MINOR Preventive Maintenance Service   ENGINE FLUSHING  Engine Oil   \n",
       "freq                                      532             1010        2786   \n",
       "\n",
       "                                   ContactID  \\\n",
       "count                                  15577   \n",
       "unique                                  2210   \n",
       "top     b0389171-37fd-4817-ae24-d383378b5c25   \n",
       "freq                                     472   \n",
       "\n",
       "                               ServiceItemID  \\\n",
       "count                                  15577   \n",
       "unique                                  2604   \n",
       "top     f6fef4bf-2f1d-4fc5-88a3-0101465186a7   \n",
       "freq                                      54   \n",
       "\n",
       "                                   InvoiceID                  labels    Make  \n",
       "count                                  15577                   15577   15577  \n",
       "unique                                  4332                      67      23  \n",
       "top     1187fb69-4d33-4434-bcba-a3a9789db83f  preventive maintenance  toyota  \n",
       "freq                                      24                    7242    5572  "
      ]
     },
     "execution_count": 23,
     "metadata": {},
     "output_type": "execute_result"
    }
   ],
   "source": [
    "df.describe(include =[object])"
   ]
  },
  {
   "cell_type": "markdown",
   "metadata": {},
   "source": [
    "### What are the Car Brands most frequently appearing in the maintenance and repair?"
   ]
  },
  {
   "cell_type": "code",
   "execution_count": 24,
   "metadata": {
    "execution": {
     "iopub.execute_input": "2021-04-02T03:54:49.556908Z",
     "iopub.status.busy": "2021-04-02T03:54:49.555777Z",
     "iopub.status.idle": "2021-04-02T03:54:50.351606Z",
     "shell.execute_reply": "2021-04-02T03:54:50.349614Z",
     "shell.execute_reply.started": "2021-04-02T03:54:49.556908Z"
    }
   },
   "outputs": [
    {
     "data": {
      "text/plain": [
       "(array([0, 1, 2, 3, 4, 5, 6, 7, 8, 9]),\n",
       " [Text(0, 0, 'toyota'),\n",
       "  Text(0, 1, 'mitsubishi'),\n",
       "  Text(0, 2, 'honda'),\n",
       "  Text(0, 3, 'ford'),\n",
       "  Text(0, 4, 'hyundai'),\n",
       "  Text(0, 5, 'chevrolet'),\n",
       "  Text(0, 6, 'mazda'),\n",
       "  Text(0, 7, 'nissan'),\n",
       "  Text(0, 8, 'suzuki'),\n",
       "  Text(0, 9, 'isuzu')])"
      ]
     },
     "execution_count": 24,
     "metadata": {},
     "output_type": "execute_result"
    },
    {
     "data": {
      "image/png": "[encoded data removed]",
      "text/plain": [
       "<Figure size 1008x864 with 1 Axes>"
      ]
     },
     "metadata": {},
     "output_type": "display_data"
    }
   ],
   "source": [
    "sns.set_style('darkgrid')\r\n",
    "plt.figure(figsize = (14,12))\r\n",
    "ax = sns.countplot(data = df, y = 'Make', order =df['Make'].value_counts().iloc[:10].index, color ='#42b7bd')\r\n",
    "\r\n",
    "# Setting the annotations\r\n",
    "\r\n",
    "# Setting the the largest value\r\n",
    "patch_h = []    \r\n",
    "for patch in ax.patches:\r\n",
    "    reading = patch.get_height()\r\n",
    "    patch_h.append(reading)\r\n",
    "idx_tallest = np.argmax(patch_h) ## patch_h contains the heights of all the patches now\r\n",
    "ax.patches[idx_tallest].set_facecolor('#a834a8') ## np.argmax return the index of largest value of the list \r\n",
    "\r\n",
    "for i in ax.patches:\r\n",
    "    # get_width pulls left or right; get_y pushes up or down\r\n",
    "    ax.text(i.get_width()+150, i.get_y()+.5, \\\r\n",
    "            str(round((i.get_width()), 2)), fontsize=13, color='darkslategray')\r\n",
    "\r\n",
    "# Setting the labels and titles\r\n",
    "plt.title('Top 10 Car Make with the Highest Number of Transactions', fontsize = 15, pad = 10)\r\n",
    "plt.xlabel('Number of Transactions', fontsize = 13, labelpad = 10)\r\n",
    "plt.ylabel('Car Make', fontsize = 13, labelpad = 25, rotation = 0)\r\n",
    "plt.xticks(fontsize = 12)\r\n",
    "plt.yticks(fontsize = 12)"
   ]
  },
  {
   "cell_type": "code",
   "execution_count": 25,
   "metadata": {
    "execution": {
     "iopub.execute_input": "2021-04-02T03:54:50.353958Z",
     "iopub.status.busy": "2021-04-02T03:54:50.353602Z",
     "iopub.status.idle": "2021-04-02T03:54:50.443206Z",
     "shell.execute_reply": "2021-04-02T03:54:50.441213Z",
     "shell.execute_reply.started": "2021-04-02T03:54:50.353958Z"
    }
   },
   "outputs": [
    {
     "data": {
      "text/html": [
       "<div>\n",
       "<style scoped>\n",
       "    .dataframe tbody tr th:only-of-type {\n",
       "        vertical-align: middle;\n",
       "    }\n",
       "\n",
       "    .dataframe tbody tr th {\n",
       "        vertical-align: top;\n",
       "    }\n",
       "\n",
       "    .dataframe thead th {\n",
       "        text-align: right;\n",
       "    }\n",
       "</style>\n",
       "<table border=\"1\" class=\"dataframe\">\n",
       "  <thead>\n",
       "    <tr style=\"text-align: right;\">\n",
       "      <th></th>\n",
       "      <th>Primary Key</th>\n",
       "      <th>Created</th>\n",
       "      <th>Mileage In</th>\n",
       "      <th>Work Order</th>\n",
       "      <th>Model</th>\n",
       "      <th>Line Type</th>\n",
       "      <th>Service Category</th>\n",
       "      <th>Service Package</th>\n",
       "      <th>Description</th>\n",
       "      <th>Definition</th>\n",
       "      <th>Price</th>\n",
       "      <th>Quantity</th>\n",
       "      <th>Total</th>\n",
       "      <th>Discount</th>\n",
       "      <th>Net Total</th>\n",
       "      <th>ContactID</th>\n",
       "      <th>ServiceItemID</th>\n",
       "      <th>InvoiceID</th>\n",
       "      <th>labels</th>\n",
       "      <th>Make</th>\n",
       "      <th>Year</th>\n",
       "    </tr>\n",
       "  </thead>\n",
       "  <tbody>\n",
       "    <tr>\n",
       "      <th>0</th>\n",
       "      <td>1</td>\n",
       "      <td>2018-12-28 10:18:00</td>\n",
       "      <td>33320</td>\n",
       "      <td>49</td>\n",
       "      <td>civic</td>\n",
       "      <td>Material</td>\n",
       "      <td>Oil, Lube &amp; Preventive Maintenance Service</td>\n",
       "      <td>MINOR Preventive Maintenance Service (MEDIUM S...</td>\n",
       "      <td>OIL FILTER HONDA</td>\n",
       "      <td>Engine Oil Filter</td>\n",
       "      <td>696.43</td>\n",
       "      <td>1.0</td>\n",
       "      <td>696.43</td>\n",
       "      <td>0.0</td>\n",
       "      <td>696.43</td>\n",
       "      <td>a271834a-1afc-4e62-8c71-638025174c1f</td>\n",
       "      <td>ff01e2a4-d2d5-48ff-8ccc-d5605a653df4</td>\n",
       "      <td>99833bf9-865b-4e2c-9bd1-a0ed0cebea8e</td>\n",
       "      <td>preventive maintenance</td>\n",
       "      <td>honda</td>\n",
       "      <td>2012</td>\n",
       "    </tr>\n",
       "    <tr>\n",
       "      <th>4</th>\n",
       "      <td>5</td>\n",
       "      <td>2018-12-28 10:18:00</td>\n",
       "      <td>33320</td>\n",
       "      <td>49</td>\n",
       "      <td>civic</td>\n",
       "      <td>Material</td>\n",
       "      <td>Oil, Lube &amp; Preventive Maintenance Service</td>\n",
       "      <td>MINOR Preventive Maintenance Service (MEDIUM S...</td>\n",
       "      <td>REPSOL ELITE INJECTION 10W40 1L - GAS/DIESEL</td>\n",
       "      <td>Engine Oil</td>\n",
       "      <td>294.64</td>\n",
       "      <td>4.0</td>\n",
       "      <td>1178.56</td>\n",
       "      <td>0.0</td>\n",
       "      <td>1178.56</td>\n",
       "      <td>a271834a-1afc-4e62-8c71-638025174c1f</td>\n",
       "      <td>ff01e2a4-d2d5-48ff-8ccc-d5605a653df4</td>\n",
       "      <td>99833bf9-865b-4e2c-9bd1-a0ed0cebea8e</td>\n",
       "      <td>preventive maintenance</td>\n",
       "      <td>honda</td>\n",
       "      <td>2012</td>\n",
       "    </tr>\n",
       "    <tr>\n",
       "      <th>9</th>\n",
       "      <td>10</td>\n",
       "      <td>2018-12-28 14:38:00</td>\n",
       "      <td>68598</td>\n",
       "      <td>63</td>\n",
       "      <td>city</td>\n",
       "      <td>Material</td>\n",
       "      <td>Oil, Lube &amp; Preventive Maintenance Service</td>\n",
       "      <td>MINOR Preventive Maintenance Service (COMPACT/...</td>\n",
       "      <td>REPSOL ELITE INJECTION 10W40 1L - GAS/DIESEL</td>\n",
       "      <td>Engine Oil</td>\n",
       "      <td>294.64</td>\n",
       "      <td>4.0</td>\n",
       "      <td>1178.56</td>\n",
       "      <td>0.0</td>\n",
       "      <td>1178.56</td>\n",
       "      <td>0b038ac1-2e24-4a7b-bcba-c0d14d7e3ab0</td>\n",
       "      <td>632fd79a-58ff-4f67-a5d8-154f98b316a4</td>\n",
       "      <td>7601ba6c-004b-481b-ac32-ec815edc9b0d</td>\n",
       "      <td>preventive maintenance</td>\n",
       "      <td>honda</td>\n",
       "      <td>2012</td>\n",
       "    </tr>\n",
       "    <tr>\n",
       "      <th>13</th>\n",
       "      <td>17</td>\n",
       "      <td>2018-12-26 10:37:00</td>\n",
       "      <td>68624</td>\n",
       "      <td>33</td>\n",
       "      <td>getz</td>\n",
       "      <td>Material</td>\n",
       "      <td>Engine</td>\n",
       "      <td>PRIMARY CONCERN RECOMMENDATION - Cutch Repair ...</td>\n",
       "      <td>Rear Crankshaft Oil Seal</td>\n",
       "      <td>Engine Crankshaft Seal Kit</td>\n",
       "      <td>1119.40</td>\n",
       "      <td>1.0</td>\n",
       "      <td>1119.40</td>\n",
       "      <td>0.0</td>\n",
       "      <td>1119.40</td>\n",
       "      <td>4aef74d9-54e9-49cb-a19d-ea4b0f176f38</td>\n",
       "      <td>b48f8026-ee33-4c68-9ee1-753f2d8efba0</td>\n",
       "      <td>fa8339e2-c1e0-4635-936c-fc075eaa5e15</td>\n",
       "      <td>Engine</td>\n",
       "      <td>hyundai</td>\n",
       "      <td>2010</td>\n",
       "    </tr>\n",
       "    <tr>\n",
       "      <th>17</th>\n",
       "      <td>21</td>\n",
       "      <td>2018-12-26 10:37:00</td>\n",
       "      <td>68624</td>\n",
       "      <td>33</td>\n",
       "      <td>getz</td>\n",
       "      <td>Material</td>\n",
       "      <td>Engine</td>\n",
       "      <td>PRIMARY CONCERN RECOMMENDATION - Cutch Repair ...</td>\n",
       "      <td>GEARMASTER SAE 90</td>\n",
       "      <td>Automatic Transmission Fluid</td>\n",
       "      <td>186.57</td>\n",
       "      <td>3.0</td>\n",
       "      <td>559.71</td>\n",
       "      <td>0.0</td>\n",
       "      <td>559.71</td>\n",
       "      <td>4aef74d9-54e9-49cb-a19d-ea4b0f176f38</td>\n",
       "      <td>b48f8026-ee33-4c68-9ee1-753f2d8efba0</td>\n",
       "      <td>fa8339e2-c1e0-4635-936c-fc075eaa5e15</td>\n",
       "      <td>Engine</td>\n",
       "      <td>hyundai</td>\n",
       "      <td>2010</td>\n",
       "    </tr>\n",
       "    <tr>\n",
       "      <th>...</th>\n",
       "      <td>...</td>\n",
       "      <td>...</td>\n",
       "      <td>...</td>\n",
       "      <td>...</td>\n",
       "      <td>...</td>\n",
       "      <td>...</td>\n",
       "      <td>...</td>\n",
       "      <td>...</td>\n",
       "      <td>...</td>\n",
       "      <td>...</td>\n",
       "      <td>...</td>\n",
       "      <td>...</td>\n",
       "      <td>...</td>\n",
       "      <td>...</td>\n",
       "      <td>...</td>\n",
       "      <td>...</td>\n",
       "      <td>...</td>\n",
       "      <td>...</td>\n",
       "      <td>...</td>\n",
       "      <td>...</td>\n",
       "      <td>...</td>\n",
       "    </tr>\n",
       "    <tr>\n",
       "      <th>37540</th>\n",
       "      <td>43011</td>\n",
       "      <td>2021-03-17 08:35:00</td>\n",
       "      <td>104214</td>\n",
       "      <td>2308</td>\n",
       "      <td>montero</td>\n",
       "      <td>Material</td>\n",
       "      <td>Brakes</td>\n",
       "      <td>Disc Brake Pads (Front)</td>\n",
       "      <td>BRAKE PADS(FR)-MITS MONTERO 2016 ORIGINAL</td>\n",
       "      <td>Disc Brake Pad</td>\n",
       "      <td>6250.00</td>\n",
       "      <td>1.0</td>\n",
       "      <td>6250.00</td>\n",
       "      <td>0.0</td>\n",
       "      <td>6250.00</td>\n",
       "      <td>1766b3a3-4c50-41ee-915e-cf474c3a0b1a</td>\n",
       "      <td>c1c3bc1d-46ca-4df0-a8cc-652e1d9563b8</td>\n",
       "      <td>440d2a50-7c40-4d68-add6-6968b2050d92</td>\n",
       "      <td>Brakes</td>\n",
       "      <td>mitsubishi</td>\n",
       "      <td>2015</td>\n",
       "    </tr>\n",
       "    <tr>\n",
       "      <th>37544</th>\n",
       "      <td>43017</td>\n",
       "      <td>2021-02-19 13:17:00</td>\n",
       "      <td>145542</td>\n",
       "      <td>2141</td>\n",
       "      <td>rav4</td>\n",
       "      <td>Material</td>\n",
       "      <td>HVAC (Heating, Ventilation &amp; Air Conditioning)</td>\n",
       "      <td>GENERAL A/C CLEANING (PULL-DOWN DASHBOARD - SU...</td>\n",
       "      <td>COMPRESSOR OIL WITH AIRCON</td>\n",
       "      <td>A/C Compressor Oil Additive</td>\n",
       "      <td>713.83</td>\n",
       "      <td>1.0</td>\n",
       "      <td>713.83</td>\n",
       "      <td>0.0</td>\n",
       "      <td>713.83</td>\n",
       "      <td>3cd27a47-978b-49e4-b260-46c4498fcced</td>\n",
       "      <td>8b187c08-673a-4d8e-bf02-0f20a67406c2</td>\n",
       "      <td>c05cb527-7648-4575-acdc-36f17546577c</td>\n",
       "      <td>Air Conditioner General Cleaning Service</td>\n",
       "      <td>toyota</td>\n",
       "      <td>2004</td>\n",
       "    </tr>\n",
       "    <tr>\n",
       "      <th>37545</th>\n",
       "      <td>43018</td>\n",
       "      <td>2021-02-19 13:17:00</td>\n",
       "      <td>145542</td>\n",
       "      <td>2141</td>\n",
       "      <td>rav4</td>\n",
       "      <td>Material</td>\n",
       "      <td>HVAC (Heating, Ventilation &amp; Air Conditioning)</td>\n",
       "      <td>GENERAL A/C CLEANING (PULL-DOWN DASHBOARD - SU...</td>\n",
       "      <td>O-Ring LARGE</td>\n",
       "      <td>A/C O-Ring</td>\n",
       "      <td>35.71</td>\n",
       "      <td>2.0</td>\n",
       "      <td>71.42</td>\n",
       "      <td>0.0</td>\n",
       "      <td>71.42</td>\n",
       "      <td>3cd27a47-978b-49e4-b260-46c4498fcced</td>\n",
       "      <td>8b187c08-673a-4d8e-bf02-0f20a67406c2</td>\n",
       "      <td>c05cb527-7648-4575-acdc-36f17546577c</td>\n",
       "      <td>Air Conditioner General Cleaning Service</td>\n",
       "      <td>toyota</td>\n",
       "      <td>2004</td>\n",
       "    </tr>\n",
       "    <tr>\n",
       "      <th>37546</th>\n",
       "      <td>43019</td>\n",
       "      <td>2021-02-19 13:17:00</td>\n",
       "      <td>145542</td>\n",
       "      <td>2141</td>\n",
       "      <td>rav4</td>\n",
       "      <td>Material</td>\n",
       "      <td>HVAC (Heating, Ventilation &amp; Air Conditioning)</td>\n",
       "      <td>GENERAL A/C CLEANING (PULL-DOWN DASHBOARD - SU...</td>\n",
       "      <td>O-RING MEDIUM</td>\n",
       "      <td>A/C O-Ring</td>\n",
       "      <td>26.79</td>\n",
       "      <td>2.0</td>\n",
       "      <td>53.58</td>\n",
       "      <td>0.0</td>\n",
       "      <td>53.58</td>\n",
       "      <td>3cd27a47-978b-49e4-b260-46c4498fcced</td>\n",
       "      <td>8b187c08-673a-4d8e-bf02-0f20a67406c2</td>\n",
       "      <td>c05cb527-7648-4575-acdc-36f17546577c</td>\n",
       "      <td>Air Conditioner General Cleaning Service</td>\n",
       "      <td>toyota</td>\n",
       "      <td>2004</td>\n",
       "    </tr>\n",
       "    <tr>\n",
       "      <th>37547</th>\n",
       "      <td>43020</td>\n",
       "      <td>2021-02-19 13:17:00</td>\n",
       "      <td>145542</td>\n",
       "      <td>2141</td>\n",
       "      <td>rav4</td>\n",
       "      <td>Material</td>\n",
       "      <td>HVAC (Heating, Ventilation &amp; Air Conditioning)</td>\n",
       "      <td>GENERAL A/C CLEANING (PULL-DOWN DASHBOARD - SU...</td>\n",
       "      <td>O-Ring SMALL</td>\n",
       "      <td>A/C O-Ring</td>\n",
       "      <td>17.86</td>\n",
       "      <td>2.0</td>\n",
       "      <td>35.72</td>\n",
       "      <td>0.0</td>\n",
       "      <td>35.72</td>\n",
       "      <td>3cd27a47-978b-49e4-b260-46c4498fcced</td>\n",
       "      <td>8b187c08-673a-4d8e-bf02-0f20a67406c2</td>\n",
       "      <td>c05cb527-7648-4575-acdc-36f17546577c</td>\n",
       "      <td>Air Conditioner General Cleaning Service</td>\n",
       "      <td>toyota</td>\n",
       "      <td>2004</td>\n",
       "    </tr>\n",
       "  </tbody>\n",
       "</table>\n",
       "<p>15003 rows × 21 columns</p>\n",
       "</div>"
      ],
      "text/plain": [
       "       Primary Key             Created  Mileage In  Work Order    Model  \\\n",
       "0                1 2018-12-28 10:18:00       33320          49    civic   \n",
       "4                5 2018-12-28 10:18:00       33320          49    civic   \n",
       "9               10 2018-12-28 14:38:00       68598          63     city   \n",
       "13              17 2018-12-26 10:37:00       68624          33     getz   \n",
       "17              21 2018-12-26 10:37:00       68624          33     getz   \n",
       "...            ...                 ...         ...         ...      ...   \n",
       "37540        43011 2021-03-17 08:35:00      104214        2308  montero   \n",
       "37544        43017 2021-02-19 13:17:00      145542        2141     rav4   \n",
       "37545        43018 2021-02-19 13:17:00      145542        2141     rav4   \n",
       "37546        43019 2021-02-19 13:17:00      145542        2141     rav4   \n",
       "37547        43020 2021-02-19 13:17:00      145542        2141     rav4   \n",
       "\n",
       "      Line Type                                Service Category  \\\n",
       "0      Material      Oil, Lube & Preventive Maintenance Service   \n",
       "4      Material      Oil, Lube & Preventive Maintenance Service   \n",
       "9      Material      Oil, Lube & Preventive Maintenance Service   \n",
       "13     Material                                          Engine   \n",
       "17     Material                                          Engine   \n",
       "...         ...                                             ...   \n",
       "37540  Material                                          Brakes   \n",
       "37544  Material  HVAC (Heating, Ventilation & Air Conditioning)   \n",
       "37545  Material  HVAC (Heating, Ventilation & Air Conditioning)   \n",
       "37546  Material  HVAC (Heating, Ventilation & Air Conditioning)   \n",
       "37547  Material  HVAC (Heating, Ventilation & Air Conditioning)   \n",
       "\n",
       "                                         Service Package  \\\n",
       "0      MINOR Preventive Maintenance Service (MEDIUM S...   \n",
       "4      MINOR Preventive Maintenance Service (MEDIUM S...   \n",
       "9      MINOR Preventive Maintenance Service (COMPACT/...   \n",
       "13     PRIMARY CONCERN RECOMMENDATION - Cutch Repair ...   \n",
       "17     PRIMARY CONCERN RECOMMENDATION - Cutch Repair ...   \n",
       "...                                                  ...   \n",
       "37540                            Disc Brake Pads (Front)   \n",
       "37544  GENERAL A/C CLEANING (PULL-DOWN DASHBOARD - SU...   \n",
       "37545  GENERAL A/C CLEANING (PULL-DOWN DASHBOARD - SU...   \n",
       "37546  GENERAL A/C CLEANING (PULL-DOWN DASHBOARD - SU...   \n",
       "37547  GENERAL A/C CLEANING (PULL-DOWN DASHBOARD - SU...   \n",
       "\n",
       "                                        Description  \\\n",
       "0                                  OIL FILTER HONDA   \n",
       "4      REPSOL ELITE INJECTION 10W40 1L - GAS/DIESEL   \n",
       "9      REPSOL ELITE INJECTION 10W40 1L - GAS/DIESEL   \n",
       "13                         Rear Crankshaft Oil Seal   \n",
       "17                                GEARMASTER SAE 90   \n",
       "...                                             ...   \n",
       "37540     BRAKE PADS(FR)-MITS MONTERO 2016 ORIGINAL   \n",
       "37544                    COMPRESSOR OIL WITH AIRCON   \n",
       "37545                                  O-Ring LARGE   \n",
       "37546                                 O-RING MEDIUM   \n",
       "37547                                  O-Ring SMALL   \n",
       "\n",
       "                         Definition    Price  Quantity    Total  Discount  \\\n",
       "0                 Engine Oil Filter   696.43       1.0   696.43       0.0   \n",
       "4                        Engine Oil   294.64       4.0  1178.56       0.0   \n",
       "9                        Engine Oil   294.64       4.0  1178.56       0.0   \n",
       "13       Engine Crankshaft Seal Kit  1119.40       1.0  1119.40       0.0   \n",
       "17     Automatic Transmission Fluid   186.57       3.0   559.71       0.0   \n",
       "...                             ...      ...       ...      ...       ...   \n",
       "37540                Disc Brake Pad  6250.00       1.0  6250.00       0.0   \n",
       "37544   A/C Compressor Oil Additive   713.83       1.0   713.83       0.0   \n",
       "37545                    A/C O-Ring    35.71       2.0    71.42       0.0   \n",
       "37546                    A/C O-Ring    26.79       2.0    53.58       0.0   \n",
       "37547                    A/C O-Ring    17.86       2.0    35.72       0.0   \n",
       "\n",
       "       Net Total                             ContactID  \\\n",
       "0         696.43  a271834a-1afc-4e62-8c71-638025174c1f   \n",
       "4        1178.56  a271834a-1afc-4e62-8c71-638025174c1f   \n",
       "9        1178.56  0b038ac1-2e24-4a7b-bcba-c0d14d7e3ab0   \n",
       "13       1119.40  4aef74d9-54e9-49cb-a19d-ea4b0f176f38   \n",
       "17        559.71  4aef74d9-54e9-49cb-a19d-ea4b0f176f38   \n",
       "...          ...                                   ...   \n",
       "37540    6250.00  1766b3a3-4c50-41ee-915e-cf474c3a0b1a   \n",
       "37544     713.83  3cd27a47-978b-49e4-b260-46c4498fcced   \n",
       "37545      71.42  3cd27a47-978b-49e4-b260-46c4498fcced   \n",
       "37546      53.58  3cd27a47-978b-49e4-b260-46c4498fcced   \n",
       "37547      35.72  3cd27a47-978b-49e4-b260-46c4498fcced   \n",
       "\n",
       "                              ServiceItemID  \\\n",
       "0      ff01e2a4-d2d5-48ff-8ccc-d5605a653df4   \n",
       "4      ff01e2a4-d2d5-48ff-8ccc-d5605a653df4   \n",
       "9      632fd79a-58ff-4f67-a5d8-154f98b316a4   \n",
       "13     b48f8026-ee33-4c68-9ee1-753f2d8efba0   \n",
       "17     b48f8026-ee33-4c68-9ee1-753f2d8efba0   \n",
       "...                                     ...   \n",
       "37540  c1c3bc1d-46ca-4df0-a8cc-652e1d9563b8   \n",
       "37544  8b187c08-673a-4d8e-bf02-0f20a67406c2   \n",
       "37545  8b187c08-673a-4d8e-bf02-0f20a67406c2   \n",
       "37546  8b187c08-673a-4d8e-bf02-0f20a67406c2   \n",
       "37547  8b187c08-673a-4d8e-bf02-0f20a67406c2   \n",
       "\n",
       "                                  InvoiceID  \\\n",
       "0      99833bf9-865b-4e2c-9bd1-a0ed0cebea8e   \n",
       "4      99833bf9-865b-4e2c-9bd1-a0ed0cebea8e   \n",
       "9      7601ba6c-004b-481b-ac32-ec815edc9b0d   \n",
       "13     fa8339e2-c1e0-4635-936c-fc075eaa5e15   \n",
       "17     fa8339e2-c1e0-4635-936c-fc075eaa5e15   \n",
       "...                                     ...   \n",
       "37540  440d2a50-7c40-4d68-add6-6968b2050d92   \n",
       "37544  c05cb527-7648-4575-acdc-36f17546577c   \n",
       "37545  c05cb527-7648-4575-acdc-36f17546577c   \n",
       "37546  c05cb527-7648-4575-acdc-36f17546577c   \n",
       "37547  c05cb527-7648-4575-acdc-36f17546577c   \n",
       "\n",
       "                                         labels        Make  Year  \n",
       "0                        preventive maintenance       honda  2012  \n",
       "4                        preventive maintenance       honda  2012  \n",
       "9                        preventive maintenance       honda  2012  \n",
       "13                                       Engine     hyundai  2010  \n",
       "17                                       Engine     hyundai  2010  \n",
       "...                                         ...         ...   ...  \n",
       "37540                                    Brakes  mitsubishi  2015  \n",
       "37544  Air Conditioner General Cleaning Service      toyota  2004  \n",
       "37545  Air Conditioner General Cleaning Service      toyota  2004  \n",
       "37546  Air Conditioner General Cleaning Service      toyota  2004  \n",
       "37547  Air Conditioner General Cleaning Service      toyota  2004  \n",
       "\n",
       "[15003 rows x 21 columns]"
      ]
     },
     "execution_count": 25,
     "metadata": {},
     "output_type": "execute_result"
    }
   ],
   "source": [
    "df_top_10_transactions = df[df['Make'].isin(['toyota','mitsubishi','honda','ford','hyundai','chevrolet','nissan','mazda','isuzu','suzuki'])]\r\n",
    "df_top_10_transactions"
   ]
  },
  {
   "cell_type": "markdown",
   "metadata": {},
   "source": [
    "### On average, how much does a car owner spend on maintenance and repair?"
   ]
  },
  {
   "cell_type": "code",
   "execution_count": 26,
   "metadata": {
    "execution": {
     "iopub.execute_input": "2021-04-02T03:54:50.445914Z",
     "iopub.status.busy": "2021-04-02T03:54:50.444914Z",
     "iopub.status.idle": "2021-04-02T03:54:50.983958Z",
     "shell.execute_reply": "2021-04-02T03:54:50.981012Z",
     "shell.execute_reply.started": "2021-04-02T03:54:50.445914Z"
    }
   },
   "outputs": [
    {
     "data": {
      "text/plain": [
       "(array([0, 1, 2, 3, 4, 5, 6, 7, 8, 9]),\n",
       " [Text(0, 0, 'ford'),\n",
       "  Text(0, 1, 'chevrolet'),\n",
       "  Text(0, 2, 'nissan'),\n",
       "  Text(0, 3, 'hyundai'),\n",
       "  Text(0, 4, 'toyota'),\n",
       "  Text(0, 5, 'mazda'),\n",
       "  Text(0, 6, 'isuzu'),\n",
       "  Text(0, 7, 'mitsubishi'),\n",
       "  Text(0, 8, 'honda'),\n",
       "  Text(0, 9, 'suzuki')])"
      ]
     },
     "execution_count": 26,
     "metadata": {},
     "output_type": "execute_result"
    },
    {
     "data": {
      "text/plain": [
       "<Figure size 1008x864 with 0 Axes>"
      ]
     },
     "metadata": {},
     "output_type": "display_data"
    },
    {
     "data": {
      "image/png": "[encoded data removed]",
      "text/plain": [
       "<Figure size 864x720 with 1 Axes>"
      ]
     },
     "metadata": {},
     "output_type": "display_data"
    }
   ],
   "source": [
    "sns.set_style('darkgrid')\r\n",
    "plt.figure(figsize = (14,12))\r\n",
    "\r\n",
    "plt.figure(figsize = (12,10))\r\n",
    "df_average_spend = df_top_10_transactions.groupby(['Make'])[['Net Total']].mean().sort_values(by ='Net Total', ascending = False).reset_index()\r\n",
    "ax = sns.barplot(data = df_average_spend, y = 'Make', x = 'Net Total', color ='#42b7bd')\r\n",
    "\r\n",
    "# Setting the annotations\r\n",
    "\r\n",
    "# Setting the the largest value\r\n",
    "patch_h = []    \r\n",
    "for patch in ax.patches:\r\n",
    "    reading = patch.get_height()\r\n",
    "    patch_h.append(reading)\r\n",
    "idx_tallest = np.argmax(patch_h) ## patch_h contains the heights of all the patches now\r\n",
    "ax.patches[idx_tallest].set_facecolor('#a834a8') ## np.argmax return the index of largest value of the list\r\n",
    "\r\n",
    "for i in ax.patches:\r\n",
    "    # get_width pulls left or right; get_y pushes up or down\r\n",
    "    ax.text(i.get_width()+10, i.get_y()+.5, \\\r\n",
    "            str(round((i.get_width()), 2)), fontsize=13, color='darkslategray')\r\n",
    "\r\n",
    "# Setting the labels and titles\r\n",
    "plt.title('Average Repair and Maintenance Cost per Car Make', fontsize = 15, pad = 10)\r\n",
    "plt.xlabel('Average Cost of Services', fontsize = 13, labelpad = 10)\r\n",
    "plt.ylabel('Car Make', fontsize = 13, labelpad = 25, rotation = 0)\r\n",
    "plt.xticks(fontsize = 12)\r\n",
    "plt.yticks(fontsize = 12)"
   ]
  },
  {
   "cell_type": "markdown",
   "metadata": {},
   "source": [
    "### What are the usual transactions of every car owner?"
   ]
  },
  {
   "cell_type": "code",
   "execution_count": 27,
   "metadata": {
    "execution": {
     "iopub.execute_input": "2021-04-02T03:54:50.989129Z",
     "iopub.status.busy": "2021-04-02T03:54:50.988130Z",
     "iopub.status.idle": "2021-04-02T03:54:51.761603Z",
     "shell.execute_reply": "2021-04-02T03:54:51.760606Z",
     "shell.execute_reply.started": "2021-04-02T03:54:50.989129Z"
    }
   },
   "outputs": [
    {
     "data": {
      "text/plain": [
       "(array([ 0,  1,  2,  3,  4,  5,  6,  7,  8,  9, 10, 11, 12, 13, 14]),\n",
       " [Text(0, 0, 'Oil, Lube & Preventive Maintenance Service'),\n",
       "  Text(0, 1, 'Steering & Suspension'),\n",
       "  Text(0, 2, 'Brakes'),\n",
       "  Text(0, 3, 'Engine'),\n",
       "  Text(0, 4, 'Transmission & Clutch'),\n",
       "  Text(0, 5, 'HVAC (Heating, Ventilation & Air Conditioning)'),\n",
       "  Text(0, 6, 'Cooling System'),\n",
       "  Text(0, 7, 'Tires & Wheels'),\n",
       "  Text(0, 8, 'Electrical (Belts, Lighting, Starting & Charging Systems)'),\n",
       "  Text(0, 9, 'Driveability (Fuel, Ignition & Emission Systems)'),\n",
       "  Text(0, 10, 'Accessories (Gauges, Power Accessories, Vision & Air Bag)'),\n",
       "  Text(0, 11, 'Batteries'),\n",
       "  Text(0, 12, 'Drive Train (Final Drive, Transaxle, Differential & Transfer Case)'),\n",
       "  Text(0, 13, 'Counter / Cash Sale'),\n",
       "  Text(0, 14, 'Sublet & Towing')])"
      ]
     },
     "execution_count": 27,
     "metadata": {},
     "output_type": "execute_result"
    },
    {
     "data": {
      "image/png": "[encoded data removed]",
      "text/plain": [
       "<Figure size 864x720 with 1 Axes>"
      ]
     },
     "metadata": {},
     "output_type": "display_data"
    }
   ],
   "source": [
    "sns.set_style('darkgrid')\r\n",
    "plt.figure(figsize = (12,10))\r\n",
    "ax = sns.countplot(data = df, y = 'Service Category', order =df['Service Category'].value_counts().iloc[::].index, color ='#42b7bd')\r\n",
    "\r\n",
    "# Setting the annotations\r\n",
    "\r\n",
    "# Setting the the largest value\r\n",
    "patch_h = []    \r\n",
    "for patch in ax.patches:\r\n",
    "    reading = patch.get_height()\r\n",
    "    patch_h.append(reading)\r\n",
    "idx_tallest = np.argmax(patch_h) ## patch_h contains the heights of all the patches now\r\n",
    "ax.patches[idx_tallest].set_facecolor('#a834a8') ## np.argmax return the index of largest value of the list\r\n",
    "\r\n",
    "for i in ax.patches:\r\n",
    "    # get_width pulls left or right; get_y pushes up or down\r\n",
    "    ax.text(i.get_width()+70, i.get_y()+.5, \\\r\n",
    "            str(round((i.get_width()), 2)), fontsize=11, color='darkslategray')\r\n",
    "\r\n",
    "# Setting the labels and titles\r\n",
    "plt.title('Most Popular Repair and Maintenance Services', fontsize = 15, pad = 10)\r\n",
    "plt.xlabel('Number of Transactions', fontsize = 13, labelpad = 10)\r\n",
    "plt.ylabel('Service Category', fontsize = 13, labelpad = 25, rotation = 0)\r\n",
    "plt.xticks(fontsize = 12)\r\n",
    "plt.yticks(fontsize = 12)"
   ]
  },
  {
   "cell_type": "markdown",
   "metadata": {},
   "source": [
    "### What are the distribution of services for the Top 10 Car Make"
   ]
  },
  {
   "cell_type": "code",
   "execution_count": 42,
   "metadata": {
    "execution": {
     "iopub.execute_input": "2021-04-02T04:42:57.271548Z",
     "iopub.status.busy": "2021-04-02T04:42:57.271548Z",
     "iopub.status.idle": "2021-04-02T04:42:57.315144Z",
     "shell.execute_reply": "2021-04-02T04:42:57.313792Z",
     "shell.execute_reply.started": "2021-04-02T04:42:57.271548Z"
    },
    "tags": []
   },
   "outputs": [],
   "source": [
    "df_top_10_transactions.groupby(['Make','Service Category']).size().reset_index().to_csv('Service Category Stacked.csv')"
   ]
  },
  {
   "cell_type": "code",
   "execution_count": null,
   "metadata": {},
   "outputs": [],
   "source": []
  },
  {
   "cell_type": "markdown",
   "metadata": {},
   "source": [
    "### What is the distribution of mileage?"
   ]
  },
  {
   "cell_type": "code",
   "execution_count": 29,
   "metadata": {
    "execution": {
     "iopub.execute_input": "2021-04-02T03:54:52.448494Z",
     "iopub.status.busy": "2021-04-02T03:54:52.448106Z",
     "iopub.status.idle": "2021-04-02T03:54:52.665844Z",
     "shell.execute_reply": "2021-04-02T03:54:52.663850Z",
     "shell.execute_reply.started": "2021-04-02T03:54:52.448494Z"
    }
   },
   "outputs": [
    {
     "data": {
      "text/plain": [
       "<AxesSubplot:ylabel='Mileage In'>"
      ]
     },
     "execution_count": 29,
     "metadata": {},
     "output_type": "execute_result"
    },
    {
     "data": {
      "image/png": "[encoded data removed]",
      "text/plain": [
       "<Figure size 432x288 with 1 Axes>"
      ]
     },
     "metadata": {},
     "output_type": "display_data"
    }
   ],
   "source": [
    "sns.boxplot(data = df, y = 'Mileage In')"
   ]
  },
  {
   "cell_type": "code",
   "execution_count": 30,
   "metadata": {
    "execution": {
     "iopub.execute_input": "2021-04-02T03:54:52.669363Z",
     "iopub.status.busy": "2021-04-02T03:54:52.669363Z",
     "iopub.status.idle": "2021-04-02T03:54:52.696669Z",
     "shell.execute_reply": "2021-04-02T03:54:52.695672Z",
     "shell.execute_reply.started": "2021-04-02T03:54:52.669363Z"
    }
   },
   "outputs": [
    {
     "data": {
      "text/plain": [
       "558      0\n",
       "567      0\n",
       "2893     0\n",
       "8133     0\n",
       "19392    0\n",
       "19395    0\n",
       "19396    0\n",
       "19397    0\n",
       "19399    0\n",
       "19663    0\n",
       "19665    0\n",
       "19666    0\n",
       "916      1\n",
       "1452     1\n",
       "2447     1\n",
       "2448     1\n",
       "2449     1\n",
       "13308    1\n",
       "13310    1\n",
       "14478    1\n",
       "Name: Mileage In, dtype: int64"
      ]
     },
     "execution_count": 30,
     "metadata": {},
     "output_type": "execute_result"
    }
   ],
   "source": [
    "df['Mileage In'].nsmallest(20)"
   ]
  },
  {
   "cell_type": "code",
   "execution_count": 31,
   "metadata": {
    "execution": {
     "iopub.execute_input": "2021-04-02T03:54:52.700898Z",
     "iopub.status.busy": "2021-04-02T03:54:52.699906Z",
     "iopub.status.idle": "2021-04-02T03:54:52.728912Z",
     "shell.execute_reply": "2021-04-02T03:54:52.726919Z",
     "shell.execute_reply.started": "2021-04-02T03:54:52.699906Z"
    }
   },
   "outputs": [
    {
     "data": {
      "text/plain": [
       "1      97\n",
       "0      12\n",
       "10      9\n",
       "660     8\n",
       "153     6\n",
       "4       1\n",
       "5       1\n",
       "Name: Mileage In, dtype: int64"
      ]
     },
     "execution_count": 31,
     "metadata": {},
     "output_type": "execute_result"
    }
   ],
   "source": [
    "df.loc[df['Mileage In'] < 1000,'Mileage In'].value_counts()"
   ]
  },
  {
   "cell_type": "code",
   "execution_count": 32,
   "metadata": {
    "execution": {
     "iopub.execute_input": "2021-04-02T03:54:52.731905Z",
     "iopub.status.busy": "2021-04-02T03:54:52.730941Z",
     "iopub.status.idle": "2021-04-02T03:54:55.328866Z",
     "shell.execute_reply": "2021-04-02T03:54:55.327575Z",
     "shell.execute_reply.started": "2021-04-02T03:54:52.730941Z"
    },
    "tags": []
   },
   "outputs": [
    {
     "data": {
      "text/plain": [
       "<seaborn.axisgrid.FacetGrid at 0x1dd89dc1550>"
      ]
     },
     "execution_count": 32,
     "metadata": {},
     "output_type": "execute_result"
    },
    {
     "data": {
      "image/png": "[encoded data removed]",
      "text/plain": [
       "<Figure size 864x576 with 1 Axes>"
      ]
     },
     "metadata": {},
     "output_type": "display_data"
    }
   ],
   "source": [
    "sns.displot(data = df[np.isfinite(df['Mileage In'])], x = 'Mileage In', kde = True, height = 8, aspect = 1.5)"
   ]
  },
  {
   "cell_type": "markdown",
   "metadata": {},
   "source": [
    "## Feature Engineering"
   ]
  },
  {
   "cell_type": "code",
   "execution_count": 33,
   "metadata": {
    "execution": {
     "iopub.execute_input": "2021-04-02T03:54:55.331449Z",
     "iopub.status.busy": "2021-04-02T03:54:55.330892Z",
     "iopub.status.idle": "2021-04-02T03:54:55.361907Z",
     "shell.execute_reply": "2021-04-02T03:54:55.360876Z",
     "shell.execute_reply.started": "2021-04-02T03:54:55.331449Z"
    }
   },
   "outputs": [],
   "source": [
    "# Create time component columns to further investigate\r\n",
    "\r\n",
    "df['Year'] = df['Created'].dt.year # Year column\r\n",
    "# Month column\r\n",
    "df['Month'] = df['Created'].dt.month \r\n",
    "df['Hour'] = df['Created'].dt.hour # Hour column\r\n",
    "\r\n",
    "# Day column\r\n",
    "df['Day'] = df['Created'].dt.dayofweek"
   ]
  },
  {
   "cell_type": "code",
   "execution_count": 34,
   "metadata": {
    "execution": {
     "iopub.execute_input": "2021-04-02T03:54:55.365977Z",
     "iopub.status.busy": "2021-04-02T03:54:55.364901Z",
     "iopub.status.idle": "2021-04-02T03:54:55.427696Z",
     "shell.execute_reply": "2021-04-02T03:54:55.426740Z",
     "shell.execute_reply.started": "2021-04-02T03:54:55.365977Z"
    }
   },
   "outputs": [
    {
     "data": {
      "text/html": [
       "<div>\n",
       "<style scoped>\n",
       "    .dataframe tbody tr th:only-of-type {\n",
       "        vertical-align: middle;\n",
       "    }\n",
       "\n",
       "    .dataframe tbody tr th {\n",
       "        vertical-align: top;\n",
       "    }\n",
       "\n",
       "    .dataframe thead th {\n",
       "        text-align: right;\n",
       "    }\n",
       "</style>\n",
       "<table border=\"1\" class=\"dataframe\">\n",
       "  <thead>\n",
       "    <tr style=\"text-align: right;\">\n",
       "      <th></th>\n",
       "      <th>Primary Key</th>\n",
       "      <th>Created</th>\n",
       "      <th>Mileage In</th>\n",
       "      <th>Work Order</th>\n",
       "      <th>Model</th>\n",
       "      <th>Line Type</th>\n",
       "      <th>Service Category</th>\n",
       "      <th>Service Package</th>\n",
       "      <th>Description</th>\n",
       "      <th>Definition</th>\n",
       "      <th>Price</th>\n",
       "      <th>Quantity</th>\n",
       "      <th>Total</th>\n",
       "      <th>Discount</th>\n",
       "      <th>Net Total</th>\n",
       "      <th>ContactID</th>\n",
       "      <th>ServiceItemID</th>\n",
       "      <th>InvoiceID</th>\n",
       "      <th>labels</th>\n",
       "      <th>Make</th>\n",
       "      <th>Year</th>\n",
       "      <th>Month</th>\n",
       "      <th>Hour</th>\n",
       "      <th>Day</th>\n",
       "    </tr>\n",
       "  </thead>\n",
       "  <tbody>\n",
       "    <tr>\n",
       "      <th>0</th>\n",
       "      <td>1</td>\n",
       "      <td>2018-12-28 10:18:00</td>\n",
       "      <td>33320</td>\n",
       "      <td>49</td>\n",
       "      <td>civic</td>\n",
       "      <td>Material</td>\n",
       "      <td>Oil, Lube &amp; Preventive Maintenance Service</td>\n",
       "      <td>MINOR Preventive Maintenance Service (MEDIUM S...</td>\n",
       "      <td>OIL FILTER HONDA</td>\n",
       "      <td>Engine Oil Filter</td>\n",
       "      <td>696.43</td>\n",
       "      <td>1.0</td>\n",
       "      <td>696.43</td>\n",
       "      <td>0.0</td>\n",
       "      <td>696.43</td>\n",
       "      <td>a271834a-1afc-4e62-8c71-638025174c1f</td>\n",
       "      <td>ff01e2a4-d2d5-48ff-8ccc-d5605a653df4</td>\n",
       "      <td>99833bf9-865b-4e2c-9bd1-a0ed0cebea8e</td>\n",
       "      <td>preventive maintenance</td>\n",
       "      <td>honda</td>\n",
       "      <td>2018</td>\n",
       "      <td>12</td>\n",
       "      <td>10</td>\n",
       "      <td>4</td>\n",
       "    </tr>\n",
       "    <tr>\n",
       "      <th>4</th>\n",
       "      <td>5</td>\n",
       "      <td>2018-12-28 10:18:00</td>\n",
       "      <td>33320</td>\n",
       "      <td>49</td>\n",
       "      <td>civic</td>\n",
       "      <td>Material</td>\n",
       "      <td>Oil, Lube &amp; Preventive Maintenance Service</td>\n",
       "      <td>MINOR Preventive Maintenance Service (MEDIUM S...</td>\n",
       "      <td>REPSOL ELITE INJECTION 10W40 1L - GAS/DIESEL</td>\n",
       "      <td>Engine Oil</td>\n",
       "      <td>294.64</td>\n",
       "      <td>4.0</td>\n",
       "      <td>1178.56</td>\n",
       "      <td>0.0</td>\n",
       "      <td>1178.56</td>\n",
       "      <td>a271834a-1afc-4e62-8c71-638025174c1f</td>\n",
       "      <td>ff01e2a4-d2d5-48ff-8ccc-d5605a653df4</td>\n",
       "      <td>99833bf9-865b-4e2c-9bd1-a0ed0cebea8e</td>\n",
       "      <td>preventive maintenance</td>\n",
       "      <td>honda</td>\n",
       "      <td>2018</td>\n",
       "      <td>12</td>\n",
       "      <td>10</td>\n",
       "      <td>4</td>\n",
       "    </tr>\n",
       "    <tr>\n",
       "      <th>9</th>\n",
       "      <td>10</td>\n",
       "      <td>2018-12-28 14:38:00</td>\n",
       "      <td>68598</td>\n",
       "      <td>63</td>\n",
       "      <td>city</td>\n",
       "      <td>Material</td>\n",
       "      <td>Oil, Lube &amp; Preventive Maintenance Service</td>\n",
       "      <td>MINOR Preventive Maintenance Service (COMPACT/...</td>\n",
       "      <td>REPSOL ELITE INJECTION 10W40 1L - GAS/DIESEL</td>\n",
       "      <td>Engine Oil</td>\n",
       "      <td>294.64</td>\n",
       "      <td>4.0</td>\n",
       "      <td>1178.56</td>\n",
       "      <td>0.0</td>\n",
       "      <td>1178.56</td>\n",
       "      <td>0b038ac1-2e24-4a7b-bcba-c0d14d7e3ab0</td>\n",
       "      <td>632fd79a-58ff-4f67-a5d8-154f98b316a4</td>\n",
       "      <td>7601ba6c-004b-481b-ac32-ec815edc9b0d</td>\n",
       "      <td>preventive maintenance</td>\n",
       "      <td>honda</td>\n",
       "      <td>2018</td>\n",
       "      <td>12</td>\n",
       "      <td>14</td>\n",
       "      <td>4</td>\n",
       "    </tr>\n",
       "    <tr>\n",
       "      <th>13</th>\n",
       "      <td>17</td>\n",
       "      <td>2018-12-26 10:37:00</td>\n",
       "      <td>68624</td>\n",
       "      <td>33</td>\n",
       "      <td>getz</td>\n",
       "      <td>Material</td>\n",
       "      <td>Engine</td>\n",
       "      <td>PRIMARY CONCERN RECOMMENDATION - Cutch Repair ...</td>\n",
       "      <td>Rear Crankshaft Oil Seal</td>\n",
       "      <td>Engine Crankshaft Seal Kit</td>\n",
       "      <td>1119.40</td>\n",
       "      <td>1.0</td>\n",
       "      <td>1119.40</td>\n",
       "      <td>0.0</td>\n",
       "      <td>1119.40</td>\n",
       "      <td>4aef74d9-54e9-49cb-a19d-ea4b0f176f38</td>\n",
       "      <td>b48f8026-ee33-4c68-9ee1-753f2d8efba0</td>\n",
       "      <td>fa8339e2-c1e0-4635-936c-fc075eaa5e15</td>\n",
       "      <td>Engine</td>\n",
       "      <td>hyundai</td>\n",
       "      <td>2018</td>\n",
       "      <td>12</td>\n",
       "      <td>10</td>\n",
       "      <td>2</td>\n",
       "    </tr>\n",
       "    <tr>\n",
       "      <th>17</th>\n",
       "      <td>21</td>\n",
       "      <td>2018-12-26 10:37:00</td>\n",
       "      <td>68624</td>\n",
       "      <td>33</td>\n",
       "      <td>getz</td>\n",
       "      <td>Material</td>\n",
       "      <td>Engine</td>\n",
       "      <td>PRIMARY CONCERN RECOMMENDATION - Cutch Repair ...</td>\n",
       "      <td>GEARMASTER SAE 90</td>\n",
       "      <td>Automatic Transmission Fluid</td>\n",
       "      <td>186.57</td>\n",
       "      <td>3.0</td>\n",
       "      <td>559.71</td>\n",
       "      <td>0.0</td>\n",
       "      <td>559.71</td>\n",
       "      <td>4aef74d9-54e9-49cb-a19d-ea4b0f176f38</td>\n",
       "      <td>b48f8026-ee33-4c68-9ee1-753f2d8efba0</td>\n",
       "      <td>fa8339e2-c1e0-4635-936c-fc075eaa5e15</td>\n",
       "      <td>Engine</td>\n",
       "      <td>hyundai</td>\n",
       "      <td>2018</td>\n",
       "      <td>12</td>\n",
       "      <td>10</td>\n",
       "      <td>2</td>\n",
       "    </tr>\n",
       "  </tbody>\n",
       "</table>\n",
       "</div>"
      ],
      "text/plain": [
       "    Primary Key             Created  Mileage In  Work Order  Model Line Type  \\\n",
       "0             1 2018-12-28 10:18:00       33320          49  civic  Material   \n",
       "4             5 2018-12-28 10:18:00       33320          49  civic  Material   \n",
       "9            10 2018-12-28 14:38:00       68598          63   city  Material   \n",
       "13           17 2018-12-26 10:37:00       68624          33   getz  Material   \n",
       "17           21 2018-12-26 10:37:00       68624          33   getz  Material   \n",
       "\n",
       "                              Service Category  \\\n",
       "0   Oil, Lube & Preventive Maintenance Service   \n",
       "4   Oil, Lube & Preventive Maintenance Service   \n",
       "9   Oil, Lube & Preventive Maintenance Service   \n",
       "13                                      Engine   \n",
       "17                                      Engine   \n",
       "\n",
       "                                      Service Package  \\\n",
       "0   MINOR Preventive Maintenance Service (MEDIUM S...   \n",
       "4   MINOR Preventive Maintenance Service (MEDIUM S...   \n",
       "9   MINOR Preventive Maintenance Service (COMPACT/...   \n",
       "13  PRIMARY CONCERN RECOMMENDATION - Cutch Repair ...   \n",
       "17  PRIMARY CONCERN RECOMMENDATION - Cutch Repair ...   \n",
       "\n",
       "                                     Description  \\\n",
       "0                               OIL FILTER HONDA   \n",
       "4   REPSOL ELITE INJECTION 10W40 1L - GAS/DIESEL   \n",
       "9   REPSOL ELITE INJECTION 10W40 1L - GAS/DIESEL   \n",
       "13                      Rear Crankshaft Oil Seal   \n",
       "17                             GEARMASTER SAE 90   \n",
       "\n",
       "                      Definition    Price  Quantity    Total  Discount  \\\n",
       "0              Engine Oil Filter   696.43       1.0   696.43       0.0   \n",
       "4                     Engine Oil   294.64       4.0  1178.56       0.0   \n",
       "9                     Engine Oil   294.64       4.0  1178.56       0.0   \n",
       "13    Engine Crankshaft Seal Kit  1119.40       1.0  1119.40       0.0   \n",
       "17  Automatic Transmission Fluid   186.57       3.0   559.71       0.0   \n",
       "\n",
       "    Net Total                             ContactID  \\\n",
       "0      696.43  a271834a-1afc-4e62-8c71-638025174c1f   \n",
       "4     1178.56  a271834a-1afc-4e62-8c71-638025174c1f   \n",
       "9     1178.56  0b038ac1-2e24-4a7b-bcba-c0d14d7e3ab0   \n",
       "13    1119.40  4aef74d9-54e9-49cb-a19d-ea4b0f176f38   \n",
       "17     559.71  4aef74d9-54e9-49cb-a19d-ea4b0f176f38   \n",
       "\n",
       "                           ServiceItemID  \\\n",
       "0   ff01e2a4-d2d5-48ff-8ccc-d5605a653df4   \n",
       "4   ff01e2a4-d2d5-48ff-8ccc-d5605a653df4   \n",
       "9   632fd79a-58ff-4f67-a5d8-154f98b316a4   \n",
       "13  b48f8026-ee33-4c68-9ee1-753f2d8efba0   \n",
       "17  b48f8026-ee33-4c68-9ee1-753f2d8efba0   \n",
       "\n",
       "                               InvoiceID                  labels     Make  \\\n",
       "0   99833bf9-865b-4e2c-9bd1-a0ed0cebea8e  preventive maintenance    honda   \n",
       "4   99833bf9-865b-4e2c-9bd1-a0ed0cebea8e  preventive maintenance    honda   \n",
       "9   7601ba6c-004b-481b-ac32-ec815edc9b0d  preventive maintenance    honda   \n",
       "13  fa8339e2-c1e0-4635-936c-fc075eaa5e15                  Engine  hyundai   \n",
       "17  fa8339e2-c1e0-4635-936c-fc075eaa5e15                  Engine  hyundai   \n",
       "\n",
       "    Year  Month  Hour  Day  \n",
       "0   2018     12    10    4  \n",
       "4   2018     12    10    4  \n",
       "9   2018     12    14    4  \n",
       "13  2018     12    10    2  \n",
       "17  2018     12    10    2  "
      ]
     },
     "execution_count": 34,
     "metadata": {},
     "output_type": "execute_result"
    }
   ],
   "source": [
    "df.head()"
   ]
  },
  {
   "cell_type": "code",
   "execution_count": 35,
   "metadata": {
    "execution": {
     "iopub.execute_input": "2021-04-02T03:54:55.435491Z",
     "iopub.status.busy": "2021-04-02T03:54:55.434911Z",
     "iopub.status.idle": "2021-04-02T03:54:55.513230Z",
     "shell.execute_reply": "2021-04-02T03:54:55.511225Z",
     "shell.execute_reply.started": "2021-04-02T03:54:55.434911Z"
    },
    "tags": []
   },
   "outputs": [
    {
     "data": {
      "text/html": [
       "<div>\n",
       "<style scoped>\n",
       "    .dataframe tbody tr th:only-of-type {\n",
       "        vertical-align: middle;\n",
       "    }\n",
       "\n",
       "    .dataframe tbody tr th {\n",
       "        vertical-align: top;\n",
       "    }\n",
       "\n",
       "    .dataframe thead th {\n",
       "        text-align: right;\n",
       "    }\n",
       "</style>\n",
       "<table border=\"1\" class=\"dataframe\">\n",
       "  <thead>\n",
       "    <tr style=\"text-align: right;\">\n",
       "      <th></th>\n",
       "      <th>Primary Key</th>\n",
       "      <th>Created</th>\n",
       "      <th>Mileage In</th>\n",
       "      <th>Work Order</th>\n",
       "      <th>Model</th>\n",
       "      <th>Line Type</th>\n",
       "      <th>Service Category</th>\n",
       "      <th>Service Package</th>\n",
       "      <th>Description</th>\n",
       "      <th>Definition</th>\n",
       "      <th>Price</th>\n",
       "      <th>Quantity</th>\n",
       "      <th>Total</th>\n",
       "      <th>Discount</th>\n",
       "      <th>Net Total</th>\n",
       "      <th>ContactID</th>\n",
       "      <th>ServiceItemID</th>\n",
       "      <th>InvoiceID</th>\n",
       "      <th>labels</th>\n",
       "      <th>Make</th>\n",
       "      <th>Year</th>\n",
       "      <th>Month</th>\n",
       "      <th>Hour</th>\n",
       "      <th>Day</th>\n",
       "    </tr>\n",
       "  </thead>\n",
       "  <tbody>\n",
       "    <tr>\n",
       "      <th>0</th>\n",
       "      <td>1</td>\n",
       "      <td>2018-12-28 10:18:00</td>\n",
       "      <td>33320</td>\n",
       "      <td>49</td>\n",
       "      <td>civic</td>\n",
       "      <td>Material</td>\n",
       "      <td>Oil, Lube &amp; Preventive Maintenance Service</td>\n",
       "      <td>MINOR Preventive Maintenance Service (MEDIUM S...</td>\n",
       "      <td>OIL FILTER HONDA</td>\n",
       "      <td>Engine Oil Filter</td>\n",
       "      <td>696.43</td>\n",
       "      <td>1.0</td>\n",
       "      <td>696.43</td>\n",
       "      <td>0.0</td>\n",
       "      <td>696.43</td>\n",
       "      <td>a271834a-1afc-4e62-8c71-638025174c1f</td>\n",
       "      <td>ff01e2a4-d2d5-48ff-8ccc-d5605a653df4</td>\n",
       "      <td>99833bf9-865b-4e2c-9bd1-a0ed0cebea8e</td>\n",
       "      <td>preventive maintenance</td>\n",
       "      <td>honda</td>\n",
       "      <td>2018</td>\n",
       "      <td>12</td>\n",
       "      <td>10</td>\n",
       "      <td>Friday</td>\n",
       "    </tr>\n",
       "    <tr>\n",
       "      <th>4</th>\n",
       "      <td>5</td>\n",
       "      <td>2018-12-28 10:18:00</td>\n",
       "      <td>33320</td>\n",
       "      <td>49</td>\n",
       "      <td>civic</td>\n",
       "      <td>Material</td>\n",
       "      <td>Oil, Lube &amp; Preventive Maintenance Service</td>\n",
       "      <td>MINOR Preventive Maintenance Service (MEDIUM S...</td>\n",
       "      <td>REPSOL ELITE INJECTION 10W40 1L - GAS/DIESEL</td>\n",
       "      <td>Engine Oil</td>\n",
       "      <td>294.64</td>\n",
       "      <td>4.0</td>\n",
       "      <td>1178.56</td>\n",
       "      <td>0.0</td>\n",
       "      <td>1178.56</td>\n",
       "      <td>a271834a-1afc-4e62-8c71-638025174c1f</td>\n",
       "      <td>ff01e2a4-d2d5-48ff-8ccc-d5605a653df4</td>\n",
       "      <td>99833bf9-865b-4e2c-9bd1-a0ed0cebea8e</td>\n",
       "      <td>preventive maintenance</td>\n",
       "      <td>honda</td>\n",
       "      <td>2018</td>\n",
       "      <td>12</td>\n",
       "      <td>10</td>\n",
       "      <td>Friday</td>\n",
       "    </tr>\n",
       "    <tr>\n",
       "      <th>9</th>\n",
       "      <td>10</td>\n",
       "      <td>2018-12-28 14:38:00</td>\n",
       "      <td>68598</td>\n",
       "      <td>63</td>\n",
       "      <td>city</td>\n",
       "      <td>Material</td>\n",
       "      <td>Oil, Lube &amp; Preventive Maintenance Service</td>\n",
       "      <td>MINOR Preventive Maintenance Service (COMPACT/...</td>\n",
       "      <td>REPSOL ELITE INJECTION 10W40 1L - GAS/DIESEL</td>\n",
       "      <td>Engine Oil</td>\n",
       "      <td>294.64</td>\n",
       "      <td>4.0</td>\n",
       "      <td>1178.56</td>\n",
       "      <td>0.0</td>\n",
       "      <td>1178.56</td>\n",
       "      <td>0b038ac1-2e24-4a7b-bcba-c0d14d7e3ab0</td>\n",
       "      <td>632fd79a-58ff-4f67-a5d8-154f98b316a4</td>\n",
       "      <td>7601ba6c-004b-481b-ac32-ec815edc9b0d</td>\n",
       "      <td>preventive maintenance</td>\n",
       "      <td>honda</td>\n",
       "      <td>2018</td>\n",
       "      <td>12</td>\n",
       "      <td>14</td>\n",
       "      <td>Friday</td>\n",
       "    </tr>\n",
       "    <tr>\n",
       "      <th>13</th>\n",
       "      <td>17</td>\n",
       "      <td>2018-12-26 10:37:00</td>\n",
       "      <td>68624</td>\n",
       "      <td>33</td>\n",
       "      <td>getz</td>\n",
       "      <td>Material</td>\n",
       "      <td>Engine</td>\n",
       "      <td>PRIMARY CONCERN RECOMMENDATION - Cutch Repair ...</td>\n",
       "      <td>Rear Crankshaft Oil Seal</td>\n",
       "      <td>Engine Crankshaft Seal Kit</td>\n",
       "      <td>1119.40</td>\n",
       "      <td>1.0</td>\n",
       "      <td>1119.40</td>\n",
       "      <td>0.0</td>\n",
       "      <td>1119.40</td>\n",
       "      <td>4aef74d9-54e9-49cb-a19d-ea4b0f176f38</td>\n",
       "      <td>b48f8026-ee33-4c68-9ee1-753f2d8efba0</td>\n",
       "      <td>fa8339e2-c1e0-4635-936c-fc075eaa5e15</td>\n",
       "      <td>Engine</td>\n",
       "      <td>hyundai</td>\n",
       "      <td>2018</td>\n",
       "      <td>12</td>\n",
       "      <td>10</td>\n",
       "      <td>Wednesday</td>\n",
       "    </tr>\n",
       "    <tr>\n",
       "      <th>17</th>\n",
       "      <td>21</td>\n",
       "      <td>2018-12-26 10:37:00</td>\n",
       "      <td>68624</td>\n",
       "      <td>33</td>\n",
       "      <td>getz</td>\n",
       "      <td>Material</td>\n",
       "      <td>Engine</td>\n",
       "      <td>PRIMARY CONCERN RECOMMENDATION - Cutch Repair ...</td>\n",
       "      <td>GEARMASTER SAE 90</td>\n",
       "      <td>Automatic Transmission Fluid</td>\n",
       "      <td>186.57</td>\n",
       "      <td>3.0</td>\n",
       "      <td>559.71</td>\n",
       "      <td>0.0</td>\n",
       "      <td>559.71</td>\n",
       "      <td>4aef74d9-54e9-49cb-a19d-ea4b0f176f38</td>\n",
       "      <td>b48f8026-ee33-4c68-9ee1-753f2d8efba0</td>\n",
       "      <td>fa8339e2-c1e0-4635-936c-fc075eaa5e15</td>\n",
       "      <td>Engine</td>\n",
       "      <td>hyundai</td>\n",
       "      <td>2018</td>\n",
       "      <td>12</td>\n",
       "      <td>10</td>\n",
       "      <td>Wednesday</td>\n",
       "    </tr>\n",
       "  </tbody>\n",
       "</table>\n",
       "</div>"
      ],
      "text/plain": [
       "    Primary Key             Created  Mileage In  Work Order  Model Line Type  \\\n",
       "0             1 2018-12-28 10:18:00       33320          49  civic  Material   \n",
       "4             5 2018-12-28 10:18:00       33320          49  civic  Material   \n",
       "9            10 2018-12-28 14:38:00       68598          63   city  Material   \n",
       "13           17 2018-12-26 10:37:00       68624          33   getz  Material   \n",
       "17           21 2018-12-26 10:37:00       68624          33   getz  Material   \n",
       "\n",
       "                              Service Category  \\\n",
       "0   Oil, Lube & Preventive Maintenance Service   \n",
       "4   Oil, Lube & Preventive Maintenance Service   \n",
       "9   Oil, Lube & Preventive Maintenance Service   \n",
       "13                                      Engine   \n",
       "17                                      Engine   \n",
       "\n",
       "                                      Service Package  \\\n",
       "0   MINOR Preventive Maintenance Service (MEDIUM S...   \n",
       "4   MINOR Preventive Maintenance Service (MEDIUM S...   \n",
       "9   MINOR Preventive Maintenance Service (COMPACT/...   \n",
       "13  PRIMARY CONCERN RECOMMENDATION - Cutch Repair ...   \n",
       "17  PRIMARY CONCERN RECOMMENDATION - Cutch Repair ...   \n",
       "\n",
       "                                     Description  \\\n",
       "0                               OIL FILTER HONDA   \n",
       "4   REPSOL ELITE INJECTION 10W40 1L - GAS/DIESEL   \n",
       "9   REPSOL ELITE INJECTION 10W40 1L - GAS/DIESEL   \n",
       "13                      Rear Crankshaft Oil Seal   \n",
       "17                             GEARMASTER SAE 90   \n",
       "\n",
       "                      Definition    Price  Quantity    Total  Discount  \\\n",
       "0              Engine Oil Filter   696.43       1.0   696.43       0.0   \n",
       "4                     Engine Oil   294.64       4.0  1178.56       0.0   \n",
       "9                     Engine Oil   294.64       4.0  1178.56       0.0   \n",
       "13    Engine Crankshaft Seal Kit  1119.40       1.0  1119.40       0.0   \n",
       "17  Automatic Transmission Fluid   186.57       3.0   559.71       0.0   \n",
       "\n",
       "    Net Total                             ContactID  \\\n",
       "0      696.43  a271834a-1afc-4e62-8c71-638025174c1f   \n",
       "4     1178.56  a271834a-1afc-4e62-8c71-638025174c1f   \n",
       "9     1178.56  0b038ac1-2e24-4a7b-bcba-c0d14d7e3ab0   \n",
       "13    1119.40  4aef74d9-54e9-49cb-a19d-ea4b0f176f38   \n",
       "17     559.71  4aef74d9-54e9-49cb-a19d-ea4b0f176f38   \n",
       "\n",
       "                           ServiceItemID  \\\n",
       "0   ff01e2a4-d2d5-48ff-8ccc-d5605a653df4   \n",
       "4   ff01e2a4-d2d5-48ff-8ccc-d5605a653df4   \n",
       "9   632fd79a-58ff-4f67-a5d8-154f98b316a4   \n",
       "13  b48f8026-ee33-4c68-9ee1-753f2d8efba0   \n",
       "17  b48f8026-ee33-4c68-9ee1-753f2d8efba0   \n",
       "\n",
       "                               InvoiceID                  labels     Make  \\\n",
       "0   99833bf9-865b-4e2c-9bd1-a0ed0cebea8e  preventive maintenance    honda   \n",
       "4   99833bf9-865b-4e2c-9bd1-a0ed0cebea8e  preventive maintenance    honda   \n",
       "9   7601ba6c-004b-481b-ac32-ec815edc9b0d  preventive maintenance    honda   \n",
       "13  fa8339e2-c1e0-4635-936c-fc075eaa5e15                  Engine  hyundai   \n",
       "17  fa8339e2-c1e0-4635-936c-fc075eaa5e15                  Engine  hyundai   \n",
       "\n",
       "    Year  Month  Hour        Day  \n",
       "0   2018     12    10     Friday  \n",
       "4   2018     12    10     Friday  \n",
       "9   2018     12    14     Friday  \n",
       "13  2018     12    10  Wednesday  \n",
       "17  2018     12    10  Wednesday  "
      ]
     },
     "execution_count": 35,
     "metadata": {},
     "output_type": "execute_result"
    }
   ],
   "source": [
    "df_trial = df.copy()\n",
    "days = {0:'Monday',1:'Tuesday',2:'Wednesday',3:'Thursday',4:'Friday',5:'Saturday',6:'Sunday'}\n",
    "df_trial['Day'] = df_trial['Day'].apply(lambda x: days[x])\n",
    "df_trial.head()"
   ]
  },
  {
   "cell_type": "code",
   "execution_count": 36,
   "metadata": {
    "execution": {
     "iopub.execute_input": "2021-04-02T03:54:55.522014Z",
     "iopub.status.busy": "2021-04-02T03:54:55.521504Z",
     "iopub.status.idle": "2021-04-02T03:54:55.680373Z",
     "shell.execute_reply": "2021-04-02T03:54:55.678429Z",
     "shell.execute_reply.started": "2021-04-02T03:54:55.522014Z"
    },
    "tags": []
   },
   "outputs": [
    {
     "data": {
      "text/html": [
       "<div>\n",
       "<style scoped>\n",
       "    .dataframe tbody tr th:only-of-type {\n",
       "        vertical-align: middle;\n",
       "    }\n",
       "\n",
       "    .dataframe tbody tr th {\n",
       "        vertical-align: top;\n",
       "    }\n",
       "\n",
       "    .dataframe thead th {\n",
       "        text-align: right;\n",
       "    }\n",
       "</style>\n",
       "<table border=\"1\" class=\"dataframe\">\n",
       "  <thead>\n",
       "    <tr style=\"text-align: right;\">\n",
       "      <th></th>\n",
       "      <th>Primary Key</th>\n",
       "      <th>Created</th>\n",
       "      <th>Mileage In</th>\n",
       "      <th>Work Order</th>\n",
       "      <th>Model</th>\n",
       "      <th>Line Type</th>\n",
       "      <th>Service Category</th>\n",
       "      <th>Service Package</th>\n",
       "      <th>Description</th>\n",
       "      <th>Definition</th>\n",
       "      <th>Price</th>\n",
       "      <th>Quantity</th>\n",
       "      <th>Total</th>\n",
       "      <th>Discount</th>\n",
       "      <th>Net Total</th>\n",
       "      <th>ContactID</th>\n",
       "      <th>ServiceItemID</th>\n",
       "      <th>InvoiceID</th>\n",
       "      <th>labels</th>\n",
       "      <th>Make</th>\n",
       "      <th>Year</th>\n",
       "      <th>Month</th>\n",
       "      <th>Hour</th>\n",
       "      <th>Day</th>\n",
       "    </tr>\n",
       "  </thead>\n",
       "  <tbody>\n",
       "    <tr>\n",
       "      <th>104</th>\n",
       "      <td>109</td>\n",
       "      <td>2019-01-05 08:42:00</td>\n",
       "      <td>56789</td>\n",
       "      <td>134</td>\n",
       "      <td>suzuki</td>\n",
       "      <td>Material</td>\n",
       "      <td>Oil, Lube &amp; Preventive Maintenance Service</td>\n",
       "      <td>MINOR Preventive Maintenance Service : Concern...</td>\n",
       "      <td>REPSOL ELITE COMMON RAIL SAE 5W30 1L</td>\n",
       "      <td>Engine Oil</td>\n",
       "      <td>607.14</td>\n",
       "      <td>4.0</td>\n",
       "      <td>2428.56</td>\n",
       "      <td>0.0</td>\n",
       "      <td>2428.56</td>\n",
       "      <td>f0b2ff4b-f2a2-459b-ace5-b9bb5fccdde4</td>\n",
       "      <td>dd9b1325-1f5f-4535-96b1-aa1d6c4a3af0</td>\n",
       "      <td>6cceebc3-2608-4ce8-9fe4-7ab3a0b7a8d5</td>\n",
       "      <td>preventive maintenance</td>\n",
       "      <td>suzuki</td>\n",
       "      <td>2019</td>\n",
       "      <td>1</td>\n",
       "      <td>8</td>\n",
       "      <td>Saturday</td>\n",
       "    </tr>\n",
       "    <tr>\n",
       "      <th>111</th>\n",
       "      <td>116</td>\n",
       "      <td>2019-01-05 09:02:00</td>\n",
       "      <td>109894</td>\n",
       "      <td>136</td>\n",
       "      <td>toyota</td>\n",
       "      <td>Material</td>\n",
       "      <td>Oil, Lube &amp; Preventive Maintenance Service</td>\n",
       "      <td>Change Oil - Fully Synthetic (DIESEL - LANDCRU...</td>\n",
       "      <td>OIL FILTER ELEMENT - LAND CRUISER</td>\n",
       "      <td>Engine Oil Filter</td>\n",
       "      <td>1116.07</td>\n",
       "      <td>1.0</td>\n",
       "      <td>1116.07</td>\n",
       "      <td>0.0</td>\n",
       "      <td>1116.07</td>\n",
       "      <td>0708052a-d278-4b7b-90f1-4cf86df489ba</td>\n",
       "      <td>e92b154b-69eb-4d1d-bbf7-1c33350ca357</td>\n",
       "      <td>b8c04359-a3ec-4d71-a850-0f2b9e986a04</td>\n",
       "      <td>change oil, lube and flushing</td>\n",
       "      <td>toyota</td>\n",
       "      <td>2019</td>\n",
       "      <td>1</td>\n",
       "      <td>9</td>\n",
       "      <td>Saturday</td>\n",
       "    </tr>\n",
       "    <tr>\n",
       "      <th>112</th>\n",
       "      <td>117</td>\n",
       "      <td>2019-01-05 09:02:00</td>\n",
       "      <td>109894</td>\n",
       "      <td>136</td>\n",
       "      <td>toyota</td>\n",
       "      <td>Material</td>\n",
       "      <td>Oil, Lube &amp; Preventive Maintenance Service</td>\n",
       "      <td>Change Oil - Fully Synthetic (DIESEL - LANDCRU...</td>\n",
       "      <td>REPSOL ELITE COMMON RAIL SAE 5W30 1L - DIESEL</td>\n",
       "      <td>Engine Oil</td>\n",
       "      <td>607.14</td>\n",
       "      <td>8.0</td>\n",
       "      <td>4857.12</td>\n",
       "      <td>0.0</td>\n",
       "      <td>4857.12</td>\n",
       "      <td>0708052a-d278-4b7b-90f1-4cf86df489ba</td>\n",
       "      <td>e92b154b-69eb-4d1d-bbf7-1c33350ca357</td>\n",
       "      <td>b8c04359-a3ec-4d71-a850-0f2b9e986a04</td>\n",
       "      <td>change oil, lube and flushing</td>\n",
       "      <td>toyota</td>\n",
       "      <td>2019</td>\n",
       "      <td>1</td>\n",
       "      <td>9</td>\n",
       "      <td>Saturday</td>\n",
       "    </tr>\n",
       "    <tr>\n",
       "      <th>113</th>\n",
       "      <td>118</td>\n",
       "      <td>2019-01-05 09:02:00</td>\n",
       "      <td>109894</td>\n",
       "      <td>136</td>\n",
       "      <td>toyota</td>\n",
       "      <td>Material</td>\n",
       "      <td>Oil, Lube &amp; Preventive Maintenance Service</td>\n",
       "      <td>Change Oil - Fully Synthetic (DIESEL - LANDCRU...</td>\n",
       "      <td>ENGINE FLUSHING</td>\n",
       "      <td>Engine Flush</td>\n",
       "      <td>142.86</td>\n",
       "      <td>1.0</td>\n",
       "      <td>142.86</td>\n",
       "      <td>0.0</td>\n",
       "      <td>142.86</td>\n",
       "      <td>0708052a-d278-4b7b-90f1-4cf86df489ba</td>\n",
       "      <td>e92b154b-69eb-4d1d-bbf7-1c33350ca357</td>\n",
       "      <td>b8c04359-a3ec-4d71-a850-0f2b9e986a04</td>\n",
       "      <td>change oil, lube and flushing</td>\n",
       "      <td>toyota</td>\n",
       "      <td>2019</td>\n",
       "      <td>1</td>\n",
       "      <td>9</td>\n",
       "      <td>Saturday</td>\n",
       "    </tr>\n",
       "    <tr>\n",
       "      <th>118</th>\n",
       "      <td>123</td>\n",
       "      <td>2019-01-05 09:33:00</td>\n",
       "      <td>43117</td>\n",
       "      <td>137</td>\n",
       "      <td>rav4</td>\n",
       "      <td>Material</td>\n",
       "      <td>Oil, Lube &amp; Preventive Maintenance Service</td>\n",
       "      <td>MAJOR Preventive Maintenance Service / COMPLET...</td>\n",
       "      <td>REPSOL ELITE COMMON RAIL SAE 5W30 1L G/D</td>\n",
       "      <td>Engine Oil</td>\n",
       "      <td>607.14</td>\n",
       "      <td>5.0</td>\n",
       "      <td>3035.70</td>\n",
       "      <td>0.0</td>\n",
       "      <td>3035.70</td>\n",
       "      <td>474197f1-cd3c-47ae-a598-624de6d34abd</td>\n",
       "      <td>b2b4a671-ce0c-4d4b-9685-f0bc2aff7733</td>\n",
       "      <td>1747b68f-b069-4f80-ba42-1af6d9e2e143</td>\n",
       "      <td>complete vehicle inspection</td>\n",
       "      <td>toyota</td>\n",
       "      <td>2019</td>\n",
       "      <td>1</td>\n",
       "      <td>9</td>\n",
       "      <td>Saturday</td>\n",
       "    </tr>\n",
       "    <tr>\n",
       "      <th>...</th>\n",
       "      <td>...</td>\n",
       "      <td>...</td>\n",
       "      <td>...</td>\n",
       "      <td>...</td>\n",
       "      <td>...</td>\n",
       "      <td>...</td>\n",
       "      <td>...</td>\n",
       "      <td>...</td>\n",
       "      <td>...</td>\n",
       "      <td>...</td>\n",
       "      <td>...</td>\n",
       "      <td>...</td>\n",
       "      <td>...</td>\n",
       "      <td>...</td>\n",
       "      <td>...</td>\n",
       "      <td>...</td>\n",
       "      <td>...</td>\n",
       "      <td>...</td>\n",
       "      <td>...</td>\n",
       "      <td>...</td>\n",
       "      <td>...</td>\n",
       "      <td>...</td>\n",
       "      <td>...</td>\n",
       "      <td>...</td>\n",
       "    </tr>\n",
       "    <tr>\n",
       "      <th>37410</th>\n",
       "      <td>42857</td>\n",
       "      <td>2021-02-20 12:03:00</td>\n",
       "      <td>42815</td>\n",
       "      <td>2150</td>\n",
       "      <td>montero</td>\n",
       "      <td>Material</td>\n",
       "      <td>Brakes</td>\n",
       "      <td>Disc Brake Caliper(s) - Front</td>\n",
       "      <td>CALIPER KIT FRONT  - MITSUBISHI MONTERO ORIG</td>\n",
       "      <td>Disc Brake Caliper</td>\n",
       "      <td>1187.51</td>\n",
       "      <td>2.0</td>\n",
       "      <td>2375.02</td>\n",
       "      <td>0.0</td>\n",
       "      <td>2375.02</td>\n",
       "      <td>9ee7761f-025c-4253-85c2-d573b614fc29</td>\n",
       "      <td>fec1e72d-de90-48b7-abb8-cbd778fabb38</td>\n",
       "      <td>c6e1bd8a-d7f8-4521-b1ee-8511ff5852ac</td>\n",
       "      <td>Brakes</td>\n",
       "      <td>mitsubishi</td>\n",
       "      <td>2021</td>\n",
       "      <td>2</td>\n",
       "      <td>12</td>\n",
       "      <td>Saturday</td>\n",
       "    </tr>\n",
       "    <tr>\n",
       "      <th>37425</th>\n",
       "      <td>42874</td>\n",
       "      <td>2021-03-06 10:08:00</td>\n",
       "      <td>200740</td>\n",
       "      <td>2245</td>\n",
       "      <td>vios</td>\n",
       "      <td>Material</td>\n",
       "      <td>Steering &amp; Suspension</td>\n",
       "      <td>REMOVE AND REPLACE SHOCK MOUNTING</td>\n",
       "      <td>SHOCK MOUNTING TYT-VIOS</td>\n",
       "      <td>Shock Absorber</td>\n",
       "      <td>1674.10</td>\n",
       "      <td>2.0</td>\n",
       "      <td>3348.20</td>\n",
       "      <td>0.0</td>\n",
       "      <td>3348.20</td>\n",
       "      <td>a0def57c-2d23-4362-90d3-30b6c3698ab6</td>\n",
       "      <td>2c8ec1db-9b32-4ddc-9831-957dbf1d93ba</td>\n",
       "      <td>0e94c27e-fe8e-406f-9264-42b6fe898636</td>\n",
       "      <td>suspension</td>\n",
       "      <td>toyota</td>\n",
       "      <td>2021</td>\n",
       "      <td>3</td>\n",
       "      <td>10</td>\n",
       "      <td>Saturday</td>\n",
       "    </tr>\n",
       "    <tr>\n",
       "      <th>37428</th>\n",
       "      <td>42877</td>\n",
       "      <td>2021-03-06 10:08:00</td>\n",
       "      <td>200740</td>\n",
       "      <td>2245</td>\n",
       "      <td>vios</td>\n",
       "      <td>Material</td>\n",
       "      <td>Oil, Lube &amp; Preventive Maintenance Service</td>\n",
       "      <td>Change Oil Package - REGULAR (4L)</td>\n",
       "      <td>REPSOL ELITE SUPER 20W50 1L</td>\n",
       "      <td>Engine Oil</td>\n",
       "      <td>241.07</td>\n",
       "      <td>4.0</td>\n",
       "      <td>964.28</td>\n",
       "      <td>0.0</td>\n",
       "      <td>964.28</td>\n",
       "      <td>a0def57c-2d23-4362-90d3-30b6c3698ab6</td>\n",
       "      <td>2c8ec1db-9b32-4ddc-9831-957dbf1d93ba</td>\n",
       "      <td>0e94c27e-fe8e-406f-9264-42b6fe898636</td>\n",
       "      <td>change oil, lube and flushing</td>\n",
       "      <td>toyota</td>\n",
       "      <td>2021</td>\n",
       "      <td>3</td>\n",
       "      <td>10</td>\n",
       "      <td>Saturday</td>\n",
       "    </tr>\n",
       "    <tr>\n",
       "      <th>37431</th>\n",
       "      <td>42883</td>\n",
       "      <td>2021-02-13 11:01:00</td>\n",
       "      <td>162245</td>\n",
       "      <td>2093</td>\n",
       "      <td>adventure</td>\n",
       "      <td>Material</td>\n",
       "      <td>Brakes</td>\n",
       "      <td>Disc Brake Caliper(s) - Front</td>\n",
       "      <td>FRONT CALIPER KIT (LH,RH)-ADVENTURE</td>\n",
       "      <td>Disc Brake Caliper</td>\n",
       "      <td>1500.01</td>\n",
       "      <td>2.0</td>\n",
       "      <td>3000.02</td>\n",
       "      <td>0.0</td>\n",
       "      <td>3000.02</td>\n",
       "      <td>17094436-e5ac-4657-a758-ea8e51635126</td>\n",
       "      <td>42c89a4f-c13d-49f8-a17a-cb04555e1e38</td>\n",
       "      <td>cdbc9e9f-2ad2-4fc9-8ff6-14102bd152c4</td>\n",
       "      <td>Brakes</td>\n",
       "      <td>mitsubishi</td>\n",
       "      <td>2021</td>\n",
       "      <td>2</td>\n",
       "      <td>11</td>\n",
       "      <td>Saturday</td>\n",
       "    </tr>\n",
       "    <tr>\n",
       "      <th>37498</th>\n",
       "      <td>42958</td>\n",
       "      <td>2021-03-13 08:58:00</td>\n",
       "      <td>112828</td>\n",
       "      <td>2282</td>\n",
       "      <td>mux</td>\n",
       "      <td>Material</td>\n",
       "      <td>Oil, Lube &amp; Preventive Maintenance Service</td>\n",
       "      <td>MAJOR PMS - LARGE SUV / PICK-UP / VAN</td>\n",
       "      <td>REPSOL ELITE SUPER 20W50 1L</td>\n",
       "      <td>Engine Oil</td>\n",
       "      <td>241.07</td>\n",
       "      <td>3.0</td>\n",
       "      <td>723.21</td>\n",
       "      <td>0.0</td>\n",
       "      <td>723.21</td>\n",
       "      <td>373eb35b-ede9-44e7-b76b-76c969465106</td>\n",
       "      <td>a1e12614-592e-4bfc-8b93-54f3c9476f47</td>\n",
       "      <td>2c9c299e-deb5-4c95-9591-731c36179d55</td>\n",
       "      <td>preventive maintenance</td>\n",
       "      <td>isuzu</td>\n",
       "      <td>2021</td>\n",
       "      <td>3</td>\n",
       "      <td>8</td>\n",
       "      <td>Saturday</td>\n",
       "    </tr>\n",
       "  </tbody>\n",
       "</table>\n",
       "<p>3014 rows × 24 columns</p>\n",
       "</div>"
      ],
      "text/plain": [
       "       Primary Key             Created  Mileage In  Work Order      Model  \\\n",
       "104            109 2019-01-05 08:42:00       56789         134     suzuki   \n",
       "111            116 2019-01-05 09:02:00      109894         136     toyota   \n",
       "112            117 2019-01-05 09:02:00      109894         136     toyota   \n",
       "113            118 2019-01-05 09:02:00      109894         136     toyota   \n",
       "118            123 2019-01-05 09:33:00       43117         137       rav4   \n",
       "...            ...                 ...         ...         ...        ...   \n",
       "37410        42857 2021-02-20 12:03:00       42815        2150    montero   \n",
       "37425        42874 2021-03-06 10:08:00      200740        2245       vios   \n",
       "37428        42877 2021-03-06 10:08:00      200740        2245       vios   \n",
       "37431        42883 2021-02-13 11:01:00      162245        2093  adventure   \n",
       "37498        42958 2021-03-13 08:58:00      112828        2282        mux   \n",
       "\n",
       "      Line Type                            Service Category  \\\n",
       "104    Material  Oil, Lube & Preventive Maintenance Service   \n",
       "111    Material  Oil, Lube & Preventive Maintenance Service   \n",
       "112    Material  Oil, Lube & Preventive Maintenance Service   \n",
       "113    Material  Oil, Lube & Preventive Maintenance Service   \n",
       "118    Material  Oil, Lube & Preventive Maintenance Service   \n",
       "...         ...                                         ...   \n",
       "37410  Material                                      Brakes   \n",
       "37425  Material                       Steering & Suspension   \n",
       "37428  Material  Oil, Lube & Preventive Maintenance Service   \n",
       "37431  Material                                      Brakes   \n",
       "37498  Material  Oil, Lube & Preventive Maintenance Service   \n",
       "\n",
       "                                         Service Package  \\\n",
       "104    MINOR Preventive Maintenance Service : Concern...   \n",
       "111    Change Oil - Fully Synthetic (DIESEL - LANDCRU...   \n",
       "112    Change Oil - Fully Synthetic (DIESEL - LANDCRU...   \n",
       "113    Change Oil - Fully Synthetic (DIESEL - LANDCRU...   \n",
       "118    MAJOR Preventive Maintenance Service / COMPLET...   \n",
       "...                                                  ...   \n",
       "37410                      Disc Brake Caliper(s) - Front   \n",
       "37425                  REMOVE AND REPLACE SHOCK MOUNTING   \n",
       "37428                  Change Oil Package - REGULAR (4L)   \n",
       "37431                      Disc Brake Caliper(s) - Front   \n",
       "37498              MAJOR PMS - LARGE SUV / PICK-UP / VAN   \n",
       "\n",
       "                                         Description          Definition  \\\n",
       "104             REPSOL ELITE COMMON RAIL SAE 5W30 1L          Engine Oil   \n",
       "111                OIL FILTER ELEMENT - LAND CRUISER   Engine Oil Filter   \n",
       "112    REPSOL ELITE COMMON RAIL SAE 5W30 1L - DIESEL          Engine Oil   \n",
       "113                                  ENGINE FLUSHING        Engine Flush   \n",
       "118         REPSOL ELITE COMMON RAIL SAE 5W30 1L G/D          Engine Oil   \n",
       "...                                              ...                 ...   \n",
       "37410   CALIPER KIT FRONT  - MITSUBISHI MONTERO ORIG  Disc Brake Caliper   \n",
       "37425                        SHOCK MOUNTING TYT-VIOS      Shock Absorber   \n",
       "37428                    REPSOL ELITE SUPER 20W50 1L          Engine Oil   \n",
       "37431            FRONT CALIPER KIT (LH,RH)-ADVENTURE  Disc Brake Caliper   \n",
       "37498                    REPSOL ELITE SUPER 20W50 1L          Engine Oil   \n",
       "\n",
       "         Price  Quantity    Total  Discount  Net Total  \\\n",
       "104     607.14       4.0  2428.56       0.0    2428.56   \n",
       "111    1116.07       1.0  1116.07       0.0    1116.07   \n",
       "112     607.14       8.0  4857.12       0.0    4857.12   \n",
       "113     142.86       1.0   142.86       0.0     142.86   \n",
       "118     607.14       5.0  3035.70       0.0    3035.70   \n",
       "...        ...       ...      ...       ...        ...   \n",
       "37410  1187.51       2.0  2375.02       0.0    2375.02   \n",
       "37425  1674.10       2.0  3348.20       0.0    3348.20   \n",
       "37428   241.07       4.0   964.28       0.0     964.28   \n",
       "37431  1500.01       2.0  3000.02       0.0    3000.02   \n",
       "37498   241.07       3.0   723.21       0.0     723.21   \n",
       "\n",
       "                                  ContactID  \\\n",
       "104    f0b2ff4b-f2a2-459b-ace5-b9bb5fccdde4   \n",
       "111    0708052a-d278-4b7b-90f1-4cf86df489ba   \n",
       "112    0708052a-d278-4b7b-90f1-4cf86df489ba   \n",
       "113    0708052a-d278-4b7b-90f1-4cf86df489ba   \n",
       "118    474197f1-cd3c-47ae-a598-624de6d34abd   \n",
       "...                                     ...   \n",
       "37410  9ee7761f-025c-4253-85c2-d573b614fc29   \n",
       "37425  a0def57c-2d23-4362-90d3-30b6c3698ab6   \n",
       "37428  a0def57c-2d23-4362-90d3-30b6c3698ab6   \n",
       "37431  17094436-e5ac-4657-a758-ea8e51635126   \n",
       "37498  373eb35b-ede9-44e7-b76b-76c969465106   \n",
       "\n",
       "                              ServiceItemID  \\\n",
       "104    dd9b1325-1f5f-4535-96b1-aa1d6c4a3af0   \n",
       "111    e92b154b-69eb-4d1d-bbf7-1c33350ca357   \n",
       "112    e92b154b-69eb-4d1d-bbf7-1c33350ca357   \n",
       "113    e92b154b-69eb-4d1d-bbf7-1c33350ca357   \n",
       "118    b2b4a671-ce0c-4d4b-9685-f0bc2aff7733   \n",
       "...                                     ...   \n",
       "37410  fec1e72d-de90-48b7-abb8-cbd778fabb38   \n",
       "37425  2c8ec1db-9b32-4ddc-9831-957dbf1d93ba   \n",
       "37428  2c8ec1db-9b32-4ddc-9831-957dbf1d93ba   \n",
       "37431  42c89a4f-c13d-49f8-a17a-cb04555e1e38   \n",
       "37498  a1e12614-592e-4bfc-8b93-54f3c9476f47   \n",
       "\n",
       "                                  InvoiceID                         labels  \\\n",
       "104    6cceebc3-2608-4ce8-9fe4-7ab3a0b7a8d5         preventive maintenance   \n",
       "111    b8c04359-a3ec-4d71-a850-0f2b9e986a04  change oil, lube and flushing   \n",
       "112    b8c04359-a3ec-4d71-a850-0f2b9e986a04  change oil, lube and flushing   \n",
       "113    b8c04359-a3ec-4d71-a850-0f2b9e986a04  change oil, lube and flushing   \n",
       "118    1747b68f-b069-4f80-ba42-1af6d9e2e143    complete vehicle inspection   \n",
       "...                                     ...                            ...   \n",
       "37410  c6e1bd8a-d7f8-4521-b1ee-8511ff5852ac                         Brakes   \n",
       "37425  0e94c27e-fe8e-406f-9264-42b6fe898636                     suspension   \n",
       "37428  0e94c27e-fe8e-406f-9264-42b6fe898636  change oil, lube and flushing   \n",
       "37431  cdbc9e9f-2ad2-4fc9-8ff6-14102bd152c4                         Brakes   \n",
       "37498  2c9c299e-deb5-4c95-9591-731c36179d55         preventive maintenance   \n",
       "\n",
       "             Make  Year  Month  Hour       Day  \n",
       "104        suzuki  2019      1     8  Saturday  \n",
       "111        toyota  2019      1     9  Saturday  \n",
       "112        toyota  2019      1     9  Saturday  \n",
       "113        toyota  2019      1     9  Saturday  \n",
       "118        toyota  2019      1     9  Saturday  \n",
       "...           ...   ...    ...   ...       ...  \n",
       "37410  mitsubishi  2021      2    12  Saturday  \n",
       "37425      toyota  2021      3    10  Saturday  \n",
       "37428      toyota  2021      3    10  Saturday  \n",
       "37431  mitsubishi  2021      2    11  Saturday  \n",
       "37498       isuzu  2021      3     8  Saturday  \n",
       "\n",
       "[3014 rows x 24 columns]"
      ]
     },
     "execution_count": 36,
     "metadata": {},
     "output_type": "execute_result"
    }
   ],
   "source": [
    "df_trial.loc[(df_trial['Day'] == 'Saturday'),:]"
   ]
  },
  {
   "cell_type": "code",
   "execution_count": 37,
   "metadata": {
    "execution": {
     "iopub.execute_input": "2021-04-02T03:54:55.684722Z",
     "iopub.status.busy": "2021-04-02T03:54:55.683400Z",
     "iopub.status.idle": "2021-04-02T03:54:55.697385Z",
     "shell.execute_reply": "2021-04-02T03:54:55.694376Z",
     "shell.execute_reply.started": "2021-04-02T03:54:55.684722Z"
    }
   },
   "outputs": [],
   "source": [
    "# df_day_mean = df.groupby(['Day']).mean().reset_index(name = 'Counts').sort_values(by = 'Day')"
   ]
  },
  {
   "cell_type": "code",
   "execution_count": 38,
   "metadata": {
    "execution": {
     "iopub.execute_input": "2021-04-02T03:54:55.700209Z",
     "iopub.status.busy": "2021-04-02T03:54:55.700209Z",
     "iopub.status.idle": "2021-04-02T03:54:55.756580Z",
     "shell.execute_reply": "2021-04-02T03:54:55.752592Z",
     "shell.execute_reply.started": "2021-04-02T03:54:55.700209Z"
    },
    "tags": []
   },
   "outputs": [
    {
     "ename": "NameError",
     "evalue": "name 'df_day' is not defined",
     "output_type": "error",
     "traceback": [
      "\u001b[1;31m---------------------------------------------------------------------------\u001b[0m",
      "\u001b[1;31mNameError\u001b[0m                                 Traceback (most recent call last)",
      "\u001b[1;32m<ipython-input-38-828efe77d1b0>\u001b[0m in \u001b[0;36m<module>\u001b[1;34m\u001b[0m\n\u001b[1;32m----> 1\u001b[1;33m \u001b[0mdf_day\u001b[0m\u001b[1;33m.\u001b[0m\u001b[0mdescribe\u001b[0m\u001b[1;33m(\u001b[0m\u001b[0minclude\u001b[0m \u001b[1;33m=\u001b[0m \u001b[1;33m[\u001b[0m\u001b[0mobject\u001b[0m\u001b[1;33m]\u001b[0m\u001b[1;33m)\u001b[0m\u001b[1;33m\u001b[0m\u001b[1;33m\u001b[0m\u001b[0m\n\u001b[0m",
      "\u001b[1;31mNameError\u001b[0m: name 'df_day' is not defined"
     ]
    }
   ],
   "source": [
    "df_day.describe(include = [object])"
   ]
  },
  {
   "cell_type": "code",
   "execution_count": null,
   "metadata": {
    "execution": {
     "iopub.status.busy": "2021-04-02T03:54:55.758840Z",
     "iopub.status.idle": "2021-04-02T03:54:55.760833Z",
     "shell.execute_reply": "2021-04-02T03:54:55.759836Z"
    }
   },
   "outputs": [],
   "source": [
    "df_day = df.groupby(['Day']).size().reset_index(name = 'Counts').sort_values(by = 'Day')\r\n",
    "days = {0:'Monday',1:'Tuesday',2:'Wednesday',3:'Thursday',4:'Friday',5:'Saturday',6:'Sunday'}\r\n",
    "df_day['Day'] = df_day['Day'].apply(lambda x: days[x])\r\n",
    "df_day"
   ]
  },
  {
   "cell_type": "code",
   "execution_count": null,
   "metadata": {
    "execution": {
     "iopub.status.busy": "2021-04-02T03:54:55.765688Z",
     "iopub.status.idle": "2021-04-02T03:54:55.766901Z",
     "shell.execute_reply": "2021-04-02T03:54:55.765688Z"
    }
   },
   "outputs": [],
   "source": [
    "## Daily Pattern\r\n",
    "\r\n",
    "plt.figure(figsize = (12,10))\r\n",
    "ax = sns.lineplot(data = df_day, x = 'Day' , y = 'Counts', color = 'darkslategray', marker ='o')\r\n",
    "plt.title('Car Repair and Maintenance Daily Pattern', fontsize = 15, pad = 10)\r\n",
    "plt.xlabel('Day', fontsize = 13, labelpad = 10)\r\n",
    "plt.ylabel('Number of Transactions', fontsize = 13, labelpad = 25)\r\n",
    "plt.xticks(fontsize = 12)\r\n",
    "plt.yticks(fontsize = 12)"
   ]
  },
  {
   "cell_type": "code",
   "execution_count": null,
   "metadata": {
    "execution": {
     "iopub.status.busy": "2021-04-02T03:54:55.769897Z",
     "iopub.status.idle": "2021-04-02T03:54:55.771113Z",
     "shell.execute_reply": "2021-04-02T03:54:55.771113Z"
    }
   },
   "outputs": [],
   "source": [
    "## Hourly Pattern\r\n",
    "\r\n",
    "# Setting the data to hours\r\n",
    "df_hour = df.groupby(['Hour']).size().reset_index(name = 'Counts')\r\n",
    "\r\n",
    "#Setting the general information\r\n",
    "plt.figure(figsize = (10,8))\r\n",
    "ax = sns.lineplot(data = df_hour, x = 'Hour' , y = 'Counts',color = 'darkslategray',marker ='o')\r\n",
    "plt.title('Car Repair and Maintenance Hourly Pattern', fontsize = 15, pad = 10)\r\n",
    "plt.xlabel('Hour', fontsize = 13, labelpad = 10)\r\n",
    "plt.ylabel('Number of Transactions', fontsize = 13, labelpad = 25)\r\n",
    "plt.xticks(np.arange(0,24,2),fontsize = 12)\r\n",
    "plt.yticks(fontsize = 12)"
   ]
  },
  {
   "cell_type": "code",
   "execution_count": null,
   "metadata": {
    "execution": {
     "iopub.status.busy": "2021-04-02T03:54:55.774154Z",
     "iopub.status.idle": "2021-04-02T03:54:55.775254Z",
     "shell.execute_reply": "2021-04-02T03:54:55.775254Z"
    }
   },
   "outputs": [],
   "source": [
    "months = {1:'January',2:'February',3:'March',4:'April',5:'May',6:'June',7:'July',8:'August',9:'September',10:'October',11:'November',12:'December'}\r\n",
    "df_month = df.groupby(['Month']).size().reset_index(name = 'Counts')\r\n",
    "df_month['Month'] = df_month['Month'].apply(lambda x: months[x])\r\n",
    "df_month"
   ]
  },
  {
   "cell_type": "code",
   "execution_count": null,
   "metadata": {
    "execution": {
     "iopub.status.busy": "2021-04-02T03:54:55.778483Z",
     "iopub.status.idle": "2021-04-02T03:54:55.779553Z",
     "shell.execute_reply": "2021-04-02T03:54:55.779553Z"
    }
   },
   "outputs": [],
   "source": [
    "## Monthly Pattern\r\n",
    "\r\n",
    "plt.figure(figsize = (12,10))\r\n",
    "ax = sns.lineplot(data = df_month, x = 'Month' , y = 'Counts', color = 'darkslategray',marker = 'o')\r\n",
    "\r\n",
    "#Setting the the labels on the plot\r\n",
    "for x, y in zip(df_month['Month'], df_month['Counts']):\r\n",
    " # the position of the data label relative to the data point can be adjusted by adding/subtracting a value from the x &/ y coordinates\r\n",
    " plt.text(x = x, # x-coordinate position of data label\r\n",
    " y = y+50, # y-coordinate position of data label, adjusted to be 150 below the data point\r\n",
    " s = '{:.0f}'.format(y), # data label, formatted to ignore decimals\r\n",
    " color = 'navy') # set colour of line\r\n",
    "\r\n",
    "#Setting the general information\r\n",
    "plt.title('Car Repair and Maintenance Monthly Pattern', fontsize = 15, pad = 10)\r\n",
    "plt.xlabel('Month', fontsize = 13, labelpad = 10)\r\n",
    "plt.ylabel('Number of Transactions', fontsize = 15, labelpad = 20)\r\n",
    "plt.xticks(fontsize = 12)\r\n",
    "plt.yticks(fontsize = 12)"
   ]
  },
  {
   "cell_type": "markdown",
   "metadata": {},
   "source": [
    "### Label Clustering: We will use the original dataframe to include all possible categories"
   ]
  },
  {
   "cell_type": "code",
   "execution_count": null,
   "metadata": {
    "execution": {
     "iopub.status.busy": "2021-04-02T03:54:55.782647Z",
     "iopub.status.idle": "2021-04-02T03:54:55.784946Z",
     "shell.execute_reply": "2021-04-02T03:54:55.783826Z"
    }
   },
   "outputs": [],
   "source": [
    "df_original['Service Category'].unique()"
   ]
  },
  {
   "cell_type": "markdown",
   "metadata": {},
   "source": [
    "### Tires & Wheels"
   ]
  },
  {
   "cell_type": "code",
   "execution_count": null,
   "metadata": {
    "execution": {
     "iopub.status.busy": "2021-04-02T03:54:55.788658Z",
     "iopub.status.idle": "2021-04-02T03:54:55.789654Z",
     "shell.execute_reply": "2021-04-02T03:54:55.789654Z"
    }
   },
   "outputs": [],
   "source": [
    "# Tires and Wheels\n",
    "\n",
    "df_tw = df_original.loc[(df_original['Service Category'] == 'Tires & Wheels'),:]"
   ]
  },
  {
   "cell_type": "code",
   "execution_count": null,
   "metadata": {
    "execution": {
     "iopub.status.busy": "2021-04-02T03:54:55.794808Z",
     "iopub.status.idle": "2021-04-02T03:54:55.796659Z",
     "shell.execute_reply": "2021-04-02T03:54:55.795655Z"
    }
   },
   "outputs": [],
   "source": [
    "# # Code for Reproduceability\n",
    "\n",
    "# def tires_wheels_clustering(dataset):\n",
    "#   df_tw = dataset.loc[(dataset['Service Category'] == 'Tires & Wheels'),:]\n",
    "\n",
    "#   # Replace Mount to Mount, Install, & Balance\n",
    "#   df_tw.loc[df_tw['Service Package'].str.contains('Mount', case = False),'Service Package'] = 'Mount, Install, & Balance'\n",
    "#   df_tw.loc[df_tw['Service Package'].str.contains('Balance'),'Service Package'] = 'Mount, Install, & Balance'\n",
    "#   df_tw.loc[df_tw['Service Package'].str.contains('Balancing', case = False),'Service Package'] = 'Mount, Install, & Balance'\n",
    "\n",
    "#   # Map Tire Replacement to all values that contain replacement\n",
    "#   df_tw.loc[df_tw['Service Package'].str.contains('Replace'),'Service Package'] = 'Tire Replacement'\n",
    "#   df_tw.loc[df_tw['Service Package'].str.contains('REPLACEMENT', case = False),'Service Package'] = 'Tire Replacement'\n",
    "\n",
    "#   # Tire Vulcanizing\n",
    "#   df_tw.loc[df_tw['Service Package'].str.contains('Vulcan'),'Service Package'] = 'Tire Vulcanizing'\n",
    "\n",
    "#   # Tire Rotation\n",
    "#   df_tw.loc[df_tw['Service Package'].str.contains('Rotat'),'Service Package'] = 'Tire Rotation'\n",
    "\n",
    "#   # Other General Services\n",
    "#   df_tw.loc[~df_tw['Service Package'].isin(['Mount, Install, & Balance','Tire Rotation','Tire Vulcanizing','Tire Replacement']),'Service Package'] = 'Other General Services'\n",
    "\n",
    "# tires_wheels_clustering"
   ]
  },
  {
   "cell_type": "code",
   "execution_count": null,
   "metadata": {
    "execution": {
     "iopub.status.busy": "2021-04-02T03:54:55.800699Z",
     "iopub.status.idle": "2021-04-02T03:54:55.801872Z",
     "shell.execute_reply": "2021-04-02T03:54:55.801726Z"
    }
   },
   "outputs": [],
   "source": [
    "df_tw['Service Package'].value_counts()"
   ]
  },
  {
   "cell_type": "code",
   "execution_count": null,
   "metadata": {},
   "outputs": [],
   "source": []
  },
  {
   "cell_type": "markdown",
   "metadata": {},
   "source": [
    "### Accessories"
   ]
  },
  {
   "cell_type": "code",
   "execution_count": null,
   "metadata": {
    "execution": {
     "iopub.status.busy": "2021-04-02T03:54:55.804864Z",
     "iopub.status.idle": "2021-04-02T03:54:55.806419Z",
     "shell.execute_reply": "2021-04-02T03:54:55.806419Z"
    }
   },
   "outputs": [],
   "source": [
    "## This is for accessories\n",
    "df_acc = df_original.loc[(df_original['Service Category'] == 'Accessories (Gauges, Power Accessories, Vision & Air Bag)'),:]"
   ]
  },
  {
   "cell_type": "code",
   "execution_count": null,
   "metadata": {
    "execution": {
     "iopub.status.busy": "2021-04-02T03:54:55.811570Z",
     "iopub.status.idle": "2021-04-02T03:54:55.813496Z",
     "shell.execute_reply": "2021-04-02T03:54:55.813496Z"
    }
   },
   "outputs": [],
   "source": [
    "# df_acc.loc[df_acc['Service Package'].str.contains('wiper', case = False),'Service Package'] = 'Windshield Wiper Servicing'\n",
    "# df_acc.loc[df_acc['Service Package'].str.contains('wind', case = False),'Service Package'] = 'Windshield Wiper Servicing'\n",
    "# df_acc.loc[df_acc['Service Package'].str.contains('door', case = False),'Service Package'] = 'Door Servicing'\n",
    "# df_acc.loc[df_acc['Service Package'].str.contains('window', case = False),'Service Package'] = 'Power Window Servicing'\n",
    "# df_acc.loc[df_acc['Service Package'].str.contains('power accessories', case = False),'Service Package'] = 'Power Accessories General Service'\n",
    "# df_acc.loc[df_acc['Service Package'].str.contains('general', case = False),'Service Package'] = 'Accessories General Service'\n",
    "# df_acc.loc[df_acc['Service Package'].str.contains('horn', case = False),'Service Package'] = 'Car Horn Repair & Services'\n",
    "# df_acc.loc[df_acc['Service Package'].str.contains('seat', case = False),'Service Package'] = 'Car Seat Services'\n",
    "# df_acc.loc[df_acc['Service Package'].str.contains('Hood', case = False),'Service Package'] = 'Car Hood Services'\n",
    "# df_acc.loc[~df_acc['Service Package'].isin(['Windshield Wiper Servicing','Door Servicing','Power Window Servicing','Power Accessories General Service'\n",
    "#                                            ,'Accessories General Service','Car Horn Repair & Services',\n",
    "#                                            'Car Seat Services','Car Hood Services']),'Service Package'] = 'Other Accessories Services'\n"
   ]
  },
  {
   "cell_type": "code",
   "execution_count": null,
   "metadata": {
    "execution": {
     "iopub.status.busy": "2021-04-02T03:54:55.817964Z",
     "iopub.status.idle": "2021-04-02T03:54:55.818963Z",
     "shell.execute_reply": "2021-04-02T03:54:55.818963Z"
    }
   },
   "outputs": [],
   "source": [
    "df_acc.loc[~df_acc['Service Package'].isin(['Windshield Wiper Servicing','Door Servicing','Power Window Servicing','Power Accessories General Service'\n",
    "                                           ,'Accessories General Service','Car Horn Repair & Services',\n",
    "                                           'Car Seat Services','Car Hood Services']),'Service Package'] = 'Other Accessories Services'"
   ]
  },
  {
   "cell_type": "code",
   "execution_count": null,
   "metadata": {
    "execution": {
     "iopub.status.busy": "2021-04-02T03:54:55.823355Z",
     "iopub.status.idle": "2021-04-02T03:54:55.824355Z",
     "shell.execute_reply": "2021-04-02T03:54:55.823355Z"
    }
   },
   "outputs": [],
   "source": [
    "df_acc.loc[df_acc['Service Package'].str.contains('hood', case = False),'Service Package'].value_counts()"
   ]
  },
  {
   "cell_type": "code",
   "execution_count": null,
   "metadata": {
    "execution": {
     "iopub.status.busy": "2021-04-02T03:54:55.828377Z",
     "iopub.status.idle": "2021-04-02T03:54:55.829372Z",
     "shell.execute_reply": "2021-04-02T03:54:55.828377Z"
    }
   },
   "outputs": [],
   "source": [
    "df_acc['Service Package'].value_counts()"
   ]
  },
  {
   "cell_type": "code",
   "execution_count": null,
   "metadata": {},
   "outputs": [],
   "source": []
  },
  {
   "cell_type": "markdown",
   "metadata": {},
   "source": [
    "### Counter / Cash Sale"
   ]
  },
  {
   "cell_type": "code",
   "execution_count": null,
   "metadata": {
    "execution": {
     "iopub.status.busy": "2021-04-02T03:54:55.833784Z",
     "iopub.status.idle": "2021-04-02T03:54:55.834780Z",
     "shell.execute_reply": "2021-04-02T03:54:55.834780Z"
    }
   },
   "outputs": [],
   "source": [
    "df_ccs = df_original.loc[(df_original['Service Category'] == 'Counter / Cash Sale'),:]"
   ]
  },
  {
   "cell_type": "code",
   "execution_count": null,
   "metadata": {
    "execution": {
     "iopub.status.busy": "2021-04-02T03:54:55.839262Z",
     "iopub.status.idle": "2021-04-02T03:54:55.840439Z",
     "shell.execute_reply": "2021-04-02T03:54:55.840439Z"
    }
   },
   "outputs": [],
   "source": [
    "# df_ccs.loc[df_ccs['Service Package'].str.contains('Counter', case = False),'Service Package'] = 'Counter / Cash Sale'\n",
    "# df_ccs.loc[df_ccs['Service Package'].str.contains('Tools', case = False),'Service Package'] = 'Tools and Equipment'\n",
    "# df_ccs.loc[~df_ccs['Service Package'].isin(['Counter / Cash Sale','Tools and Equipment']),'Service Package'] = 'Other Requests'"
   ]
  },
  {
   "cell_type": "code",
   "execution_count": null,
   "metadata": {
    "execution": {
     "iopub.status.busy": "2021-04-02T03:54:55.844429Z",
     "iopub.status.idle": "2021-04-02T03:54:55.845426Z",
     "shell.execute_reply": "2021-04-02T03:54:55.844429Z"
    }
   },
   "outputs": [],
   "source": [
    "df_ccs.loc[~df_ccs['Service Package'].isin(['Counter / Cash Sale','Tools and Equipment']),'Service Package'] = 'Other Requests'"
   ]
  },
  {
   "cell_type": "code",
   "execution_count": null,
   "metadata": {
    "execution": {
     "iopub.status.busy": "2021-04-02T03:54:55.849082Z",
     "iopub.status.idle": "2021-04-02T03:54:55.851300Z",
     "shell.execute_reply": "2021-04-02T03:54:55.850086Z"
    }
   },
   "outputs": [],
   "source": [
    "df_ccs['Service Package'].value_counts()"
   ]
  },
  {
   "cell_type": "markdown",
   "metadata": {},
   "source": [
    "### HVAC"
   ]
  },
  {
   "cell_type": "code",
   "execution_count": null,
   "metadata": {
    "execution": {
     "iopub.status.busy": "2021-04-02T03:54:55.853670Z",
     "iopub.status.idle": "2021-04-02T03:54:55.854320Z",
     "shell.execute_reply": "2021-04-02T03:54:55.854320Z"
    }
   },
   "outputs": [],
   "source": [
    "## This is for HVAC\n",
    "df_hvac = df_original.loc[(df_original['Service Category'] == 'HVAC (Heating, Ventilation & Air Conditioning)'),:]"
   ]
  },
  {
   "cell_type": "code",
   "execution_count": null,
   "metadata": {
    "execution": {
     "iopub.status.busy": "2021-04-02T03:54:55.858773Z",
     "iopub.status.idle": "2021-04-02T03:54:55.858773Z",
     "shell.execute_reply": "2021-04-02T03:54:55.858773Z"
    }
   },
   "outputs": [],
   "source": [
    "## General Services\n",
    "\n",
    "# df_hvac.loc[df_hvac['Service Package'].str.contains('general', case = False),'Service Package'] = 'Air Conditioner General Cleaning Service'\n",
    "# df_hvac.loc[df_hvac['Service Package'].str.contains('vacuum', case = False),'Service Package'] = 'Vacuum/Charging Service'\n",
    "# df_hvac.loc[df_hvac['Service Package'].str.contains('repair', case = False),'Service Package'] = 'Air Conditioner General Repair Service'\n",
    "\n",
    "## Specific Services\n",
    "\n",
    "# df_hvac.loc[df_hvac['Service Package'].str.contains('filter', case = False),'Service Package'] = 'Cabin Air Filter'\n",
    "# df_hvac.loc[df_hvac['Service Package'].str.contains('compressor', case = False),'Service Package'] = 'Air Conditioning Compressor'\n",
    "# df_hvac.loc[df_hvac['Service Package'].str.contains('evaporator', case = False),'Service Package'] = 'Air Conditioner Evaporator'\n",
    "# df_hvac.loc[df_hvac['Service Package'].str.contains('blower', case = False),'Service Package'] = 'Blower Motor Assembly'\n",
    "# df_hvac.loc[df_hvac['Service Package'].str.contains('fan', case = False),'Service Package'] = 'Air Conditioner Fan Motor'\n",
    "\n",
    "## Other Services\n",
    "\n",
    "# df_hvac.loc[~df_hvac['Service Package'].isin(['Air Conditioner General Cleaning Service','Vacuum/Charging Service','Air Conditioning Compressor'\n",
    "#                                              ,'Cabin Air Filter','Air Conditioner General Repair Service',\n",
    "#                                              'Air Conditioner Evaporator','Blower Motor Assembly','Air Conditioner Fan Motor']\n",
    "#                                             ),'Service Package'] = 'Other Air Conditioning Concerns'"
   ]
  },
  {
   "cell_type": "code",
   "execution_count": null,
   "metadata": {
    "execution": {
     "iopub.status.busy": "2021-04-02T03:54:55.863852Z",
     "iopub.status.idle": "2021-04-02T03:54:55.864990Z",
     "shell.execute_reply": "2021-04-02T03:54:55.864990Z"
    }
   },
   "outputs": [],
   "source": [
    "df_hvac['Service Package'].value_counts()"
   ]
  },
  {
   "cell_type": "markdown",
   "metadata": {},
   "source": [
    "### Drive Train"
   ]
  },
  {
   "cell_type": "code",
   "execution_count": null,
   "metadata": {
    "execution": {
     "iopub.status.busy": "2021-04-02T03:54:55.868483Z",
     "iopub.status.idle": "2021-04-02T03:54:55.869769Z",
     "shell.execute_reply": "2021-04-02T03:54:55.869769Z"
    }
   },
   "outputs": [],
   "source": [
    "## This is for drive train\n",
    "df_dt = df_original.loc[(df_original['Service Category'] == 'Drive Train (Final Drive, Transaxle, Differential & Transfer Case)'),:]"
   ]
  },
  {
   "cell_type": "code",
   "execution_count": null,
   "metadata": {
    "execution": {
     "iopub.status.busy": "2021-04-02T03:54:55.873256Z",
     "iopub.status.idle": "2021-04-02T03:54:55.874554Z",
     "shell.execute_reply": "2021-04-02T03:54:55.874554Z"
    }
   },
   "outputs": [],
   "source": [
    "# # Clustering of Drive Shaft\n",
    "\n",
    "# df_dt.loc[df_dt['Service Package'].str.contains('Drive Shaft', case = False),'Service Package'] = 'Servicing of Drive Shaft'\n",
    "# df_dt.loc[df_dt['Service Package'].str.contains('DriveShaft', case = False),'Service Package'] = 'Servicing of Drive Shaft'\n",
    "# df_dt.loc[df_dt['Service Package'].str.contains('Oil Seal', case = False),'Service Package'] = 'Servicing of Drive Shaft'\n",
    "# df_dt.loc[df_dt['Service Package'].str.contains('oilseal', case = False),'Service Package'] = 'Servicing of Drive Shaft'\n",
    "\n",
    "# # Clustering of Differential Fluid Exchange\n",
    "\n",
    "# df_dt.loc[df_dt['Service Package'].str.contains('fluid', case = False),'Service Package'] = 'Differential Fluid Exchange'\n",
    "\n",
    "# # Clustering of Axle Shaft\n",
    "# df_dt.loc[df_dt['Service Package'].str.contains('Axle', case = False),'Service Package'] = 'Servicing of Axle Shaft'\n",
    "\n",
    "# # Other Drive Train Services\n",
    "# df_dt.loc[~df_dt['Service Package'].isin(['Servicing of Drive Shaft','Servicing of Axle Shaft','Differential Fluid Exchange']),'Service Package'] = 'Other General Drive Train Services'"
   ]
  },
  {
   "cell_type": "code",
   "execution_count": null,
   "metadata": {
    "execution": {
     "iopub.status.busy": "2021-04-02T03:54:55.879561Z",
     "iopub.status.idle": "2021-04-02T03:54:55.880570Z",
     "shell.execute_reply": "2021-04-02T03:54:55.879561Z"
    }
   },
   "outputs": [],
   "source": [
    "df_dt['Service Package'].value_counts()"
   ]
  },
  {
   "cell_type": "markdown",
   "metadata": {},
   "source": [
    "### Batteries"
   ]
  },
  {
   "cell_type": "code",
   "execution_count": null,
   "metadata": {
    "execution": {
     "iopub.status.busy": "2021-04-02T03:54:55.884579Z",
     "iopub.status.idle": "2021-04-02T03:54:55.886452Z",
     "shell.execute_reply": "2021-04-02T03:54:55.885450Z"
    }
   },
   "outputs": [],
   "source": [
    "## This is for drive train\n",
    "df_batt = df_original.loc[(df_original['Service Category'] == 'Batteries'),:]"
   ]
  },
  {
   "cell_type": "code",
   "execution_count": null,
   "metadata": {
    "execution": {
     "iopub.status.busy": "2021-04-02T03:54:55.889418Z",
     "iopub.status.idle": "2021-04-02T03:54:55.890415Z",
     "shell.execute_reply": "2021-04-02T03:54:55.890415Z"
    }
   },
   "outputs": [],
   "source": [
    "# Clustering of Battery Replacement\n",
    "df_batt.loc[df_batt['Service Package'].str.contains('replace', case = False),'Service Package'] = 'Battery Replacement'\n",
    "df_batt.loc[df_batt['Service Package'].str.contains('change', case = False),'Service Package'] = 'Battery Replacement'\n",
    "\n",
    "# Clustering of General Battery Services\n",
    "df_batt.loc[df_batt['Service Package'].str.contains('jump', case = False),'Service Package'] = 'Battery General Services (Charge, Test, Start)'\n",
    "df_batt.loc[df_batt['Service Package'].str.contains('charge', case = False),'Service Package'] = 'Battery General Services (Charge, Test, Start)'\n",
    "df_batt.loc[df_batt['Service Package'].str.contains('start', case = False),'Service Package'] = 'Battery General Services (Charge, Test, Start)'\n",
    "df_batt.loc[df_batt['Service Package'].str.contains('test', case = False),'Service Package'] = 'Battery General Services (Charge, Test, Start)'\n",
    "df_batt.loc[df_batt['Service Package'].str.contains('general', case = False),'Service Package'] = 'Battery General Services (Charge, Test, Start)'\n",
    "df_batt.loc[df_batt['Service Package'].str.contains('service', case = False),'Service Package'] = 'Battery General Services (Charge, Test, Start)'\n",
    "\n",
    "# Clustering of Other Services as recommended by the Preventive Maintenance Schedule\n",
    "df_batt.loc[~df_batt['Service Package'].isin(['Battery Replacement','Battery General Services (Charge, Test, Start)']),'Service Package'] = 'Other Services (PMS Recommendaton)'"
   ]
  },
  {
   "cell_type": "code",
   "execution_count": null,
   "metadata": {
    "execution": {
     "iopub.status.busy": "2021-04-02T03:54:55.894852Z",
     "iopub.status.idle": "2021-04-02T03:54:55.927606Z",
     "shell.execute_reply": "2021-04-02T03:54:55.927606Z"
    }
   },
   "outputs": [],
   "source": [
    "df_batt['Service Package'].value_counts()"
   ]
  },
  {
   "cell_type": "markdown",
   "metadata": {},
   "source": [
    "### Sublet & Towing"
   ]
  },
  {
   "cell_type": "code",
   "execution_count": null,
   "metadata": {
    "execution": {
     "iopub.status.busy": "2021-04-02T03:54:55.927606Z",
     "iopub.status.idle": "2021-04-02T03:54:55.927606Z",
     "shell.execute_reply": "2021-04-02T03:54:55.927606Z"
    }
   },
   "outputs": [],
   "source": [
    "## This is for drive train\n",
    "df_sublet = df_original.loc[(df_original['Service Category'] == 'Sublet & Towing'),:]"
   ]
  },
  {
   "cell_type": "code",
   "execution_count": null,
   "metadata": {
    "execution": {
     "iopub.status.busy": "2021-04-02T03:54:55.935646Z",
     "iopub.status.idle": "2021-04-02T03:54:55.935646Z",
     "shell.execute_reply": "2021-04-02T03:54:55.935646Z"
    }
   },
   "outputs": [],
   "source": [
    "df_sublet.loc[df_sublet['Service Package'].str.contains('repair', case = False),'Service Package'] = 'Body Repair and Paint Works'\n",
    "df_sublet.loc[df_sublet['Service Package'].str.contains('towing', case = False),'Service Package'] = 'Towing'\n",
    "df_sublet.loc[~df_sublet['Service Package'].isin(['Body Repair and Paint Works','Towing']),'Service Package'] = 'Other Sublet Services (Machine Shop)'"
   ]
  },
  {
   "cell_type": "code",
   "execution_count": null,
   "metadata": {
    "execution": {
     "iopub.status.busy": "2021-04-02T03:54:55.935646Z",
     "iopub.status.idle": "2021-04-02T03:54:55.935646Z",
     "shell.execute_reply": "2021-04-02T03:54:55.935646Z"
    }
   },
   "outputs": [],
   "source": [
    "df_sublet['Service Package'].value_counts()"
   ]
  },
  {
   "cell_type": "code",
   "execution_count": null,
   "metadata": {},
   "outputs": [],
   "source": []
  },
  {
   "cell_type": "markdown",
   "metadata": {},
   "source": [
    "### Break Function"
   ]
  },
  {
   "cell_type": "code",
   "execution_count": null,
   "metadata": {
    "execution": {
     "iopub.status.busy": "2021-04-02T03:54:55.935646Z",
     "iopub.status.idle": "2021-04-02T03:54:55.935646Z",
     "shell.execute_reply": "2021-04-02T03:54:55.935646Z"
    }
   },
   "outputs": [],
   "source": [
    "df_break = df_original.loc[(df_original['Service Category'] == 'Brakes'),:]"
   ]
  },
  {
   "cell_type": "code",
   "execution_count": null,
   "metadata": {
    "execution": {
     "iopub.status.busy": "2021-04-02T03:54:55.942655Z",
     "iopub.status.idle": "2021-04-02T03:54:55.943654Z",
     "shell.execute_reply": "2021-04-02T03:54:55.943654Z"
    }
   },
   "outputs": [],
   "source": [
    "df_break.loc[df_break['Service Package'].str.contains('pad', case = False),'Service Package'] = 'Disc Brake Pad'\n",
    "df_break.loc[df_break['Service Package'].str.contains('general', case = False),'Service Package'] = 'Brake System General Service'\n",
    "df_break.loc[df_break['Service Package'].str.contains('disc brake rotors', case = False),'Service Package'] = 'Disc Brake Rotors'\n",
    "df_break.loc[df_break['Service Package'].str.contains('disc brake caliper', case = False),'Service Package'] = 'Disc Brake Caliper'\n",
    "df_break.loc[df_break['Service Package'].str.contains('disc brake hardware kit', case = False),'Service Package'] = 'Disc Brake Hardware'\n",
    "df_break.loc[df_break['Service Package'].str.contains('disc brake service', case = False),'Service Package'] = 'Disc Brake Hardware'\n",
    "df_break.loc[df_break['Service Package'].str.contains('brake wheel', case = False),'Service Package'] = 'Drum Brake Wheel'\n",
    "df_break.loc[df_break['Service Package'].str.contains('caliper', case = False),'Service Package'] = 'Disc Brake Caliper'\n",
    "df_break.loc[df_break['Service Package'].str.contains('bearing', case = False),'Service Package'] = 'Wheel Bearing'\n",
    "df_break.loc[df_break['Service Package'].str.contains('fluid', case = False),'Service Package'] = 'Brake Fluid Service (Exchange, System Flush, Bleeding)'\n",
    "df_break.loc[df_break['Service Package'].str.contains('clean', case = False),'Service Package'] = 'Brake Cleaning Service'\n",
    "df_break.loc[df_break['Service Package'].str.contains('shoes', case = False),'Service Package'] = 'Drum Brake Shoes'\n",
    "df_break.loc[df_break['Service Package'].str.contains('cylinder', case = False),'Service Package'] = 'Brake Master Cylinder'\n",
    "df_break.loc[df_break['Service Package'].str.contains('light', case = False),'Service Package'] = 'Brake Light System'\n",
    "df_break.loc[df_break['Service Package'].str.contains('recommend', case = False),'Service Package'] = 'Preventive Maintenance System Recommendation'\n",
    "df_break.loc[df_break['Service Package'].str.contains('bleed', case = False),'Service Package'] = 'Brake Fluid Service (Exchange, System Flush, Bleeding)'\n",
    "df_break.loc[df_break['Service Package'].str.contains('brake system', case = False),'Service Package'] = 'Brake System General Service'\n",
    "df_break.loc[df_break['Service Package'].str.contains('sensor', case = False),'Service Package'] = 'ABS Wheel Speed Sensor'\n",
    "df_break.loc[~df_break['Service Package'].isin(['Disc Brake Pad','Brake System General Service','Disc Brake Rotors',\n",
    "                                                 'Disc Brake Caliper','Drum Brake Wheel',\n",
    "                                                 'Wheel Bearing','Brake Fluid Service (Exchange, System Flush, Bleeding)',\n",
    "                                                 'Brake Cleaning Service','Drum Brake Shoes','Brake Master Cylinder',\n",
    "                                                 'Brake Light System','Preventive Maintenance System Recommendation',\n",
    "                                                 ]),'Service Package'] = 'Other Brake Services'"
   ]
  },
  {
   "cell_type": "code",
   "execution_count": null,
   "metadata": {
    "execution": {
     "iopub.status.busy": "2021-04-02T03:54:55.943654Z",
     "iopub.status.idle": "2021-04-02T03:54:55.947170Z",
     "shell.execute_reply": "2021-04-02T03:54:55.943654Z"
    }
   },
   "outputs": [],
   "source": [
    "df_break.loc[df_break['Service Package'].str.contains('cylinder', case = False),'Service Package'] = 'Brake System General Service'"
   ]
  },
  {
   "cell_type": "code",
   "execution_count": null,
   "metadata": {
    "execution": {
     "iopub.status.busy": "2021-04-02T03:54:55.947170Z",
     "iopub.status.idle": "2021-04-02T03:54:55.947170Z",
     "shell.execute_reply": "2021-04-02T03:54:55.947170Z"
    }
   },
   "outputs": [],
   "source": [
    "df_break.loc[df_break['Service Package'].str.contains('sensor', case = False),'Service Package'].value_counts()"
   ]
  },
  {
   "cell_type": "code",
   "execution_count": null,
   "metadata": {
    "execution": {
     "iopub.status.busy": "2021-04-02T03:54:55.951743Z",
     "iopub.status.idle": "2021-04-02T03:54:55.951743Z",
     "shell.execute_reply": "2021-04-02T03:54:55.951743Z"
    }
   },
   "outputs": [],
   "source": [
    "df_break['Service Package'].value_counts().head(50)"
   ]
  },
  {
   "cell_type": "code",
   "execution_count": null,
   "metadata": {},
   "outputs": [],
   "source": []
  },
  {
   "cell_type": "markdown",
   "metadata": {},
   "source": [
    "## Cleaning the year value"
   ]
  },
  {
   "cell_type": "code",
   "execution_count": null,
   "metadata": {
    "execution": {
     "iopub.status.busy": "2021-04-02T03:54:55.951743Z",
     "iopub.status.idle": "2021-04-02T03:54:55.951743Z",
     "shell.execute_reply": "2021-04-02T03:54:55.951743Z"
    }
   },
   "outputs": [],
   "source": [
    "df_original['Year'].value_counts()"
   ]
  },
  {
   "cell_type": "code",
   "execution_count": null,
   "metadata": {
    "execution": {
     "iopub.status.busy": "2021-04-02T03:54:55.951743Z",
     "iopub.status.idle": "2021-04-02T03:54:55.951743Z",
     "shell.execute_reply": "2021-04-02T03:54:55.951743Z"
    }
   },
   "outputs": [],
   "source": [
    "df_year_zero = df_original.loc[df_original['Year'] == 0,:]"
   ]
  },
  {
   "cell_type": "code",
   "execution_count": null,
   "metadata": {
    "execution": {
     "iopub.status.busy": "2021-04-02T03:54:55.959698Z",
     "iopub.status.idle": "2021-04-02T03:54:55.961394Z",
     "shell.execute_reply": "2021-04-02T03:54:55.959698Z"
    }
   },
   "outputs": [],
   "source": [
    "# Drop the null values for VIN\n",
    "df_year_zero.dropna(subset = ['VIN'], inplace = True)"
   ]
  },
  {
   "cell_type": "code",
   "execution_count": null,
   "metadata": {
    "execution": {
     "iopub.status.busy": "2021-04-02T03:54:55.963386Z",
     "iopub.status.idle": "2021-04-02T03:54:55.964384Z",
     "shell.execute_reply": "2021-04-02T03:54:55.964384Z"
    }
   },
   "outputs": [],
   "source": [
    "df_year_zero.head()"
   ]
  },
  {
   "cell_type": "code",
   "execution_count": null,
   "metadata": {},
   "outputs": [],
   "source": []
  },
  {
   "cell_type": "code",
   "execution_count": null,
   "metadata": {
    "execution": {
     "iopub.status.busy": "2021-04-02T03:54:55.966378Z",
     "iopub.status.idle": "2021-04-02T03:54:55.967417Z",
     "shell.execute_reply": "2021-04-02T03:54:55.967417Z"
    }
   },
   "outputs": [],
   "source": [
    "# KMFZBX7BAEU009739 is 2013 Hyundai H100\n",
    "df_year_zero.loc[df_year_zero['VIN'] == 'KMFZBX7BAEU009739','Year'] = 2013\n",
    "\n",
    "# MR053HY4109007212 is 2005 Toyota Suluna Vios\n",
    "df_year_zero.loc[df_year_zero['VIN'] == 'MR053HY4109007212','Year'] = 2005\n",
    "\n",
    "# MMBGRKG40BF020071 is 2011 Mitsubishi Vativa/ Paj Sport\n",
    "df_year_zero.loc[df_year_zero['VIN'] == 'MMBGRKG40BF020071','Year'] = 2011\n",
    "\n",
    "# MRHCP26209P020051 is 2009 Honda\n",
    "df_year_zero.loc[df_year_zero['VIN'] == 'MRHCP26209P020051','Year'] = 2009\n",
    "\n",
    "# JF1SHSLS59G019887 is 2009 Subaru\n",
    "df_year_zero.loc[df_year_zero['VIN'] == 'JF1SHSLS59G019887','Year'] = 2009\n",
    "\n",
    "# MMMA69B1EH7054733 is 1987\n",
    "df_year_zero.loc[df_year_zero['VIN'] == 'MMMA69B1EH7054733','Year'] = 1987\n",
    "\n",
    "# JMYLYV98WDJ000492 is 2013 Pajero\n",
    "df_year_zero.loc[df_year_zero['VIN'] == 'JMYLYV98WDJ000492','Year'] = 2013\n",
    "\n",
    "# JTMZD31V405085757 is 2008 Toyota Rav 4\n",
    "df_year_zero.loc[df_year_zero['VIN'] == 'JMYLYV98WDJ000492','Year'] = 2008\n",
    "\n",
    "#PAEL65MYEDB010311 is 2013 Mitsubishi\n",
    "df_year_zero.loc[df_year_zero['VIN'] == 'PAEL65MYEDB010311','Year'] = 2013\n",
    "\n",
    "#KMHBT51DP8U838103 is 2008 Hyundai Getz\n",
    "df_year_zero.loc[df_year_zero['VIN'] == 'KMHBT51DP8U838103','Year'] = 2008\n",
    "\n",
    "#PADGM663OEV002809 is 2014 Honda\n",
    "df_year_zero.loc[df_year_zero['VIN'] == 'PADGM663OEV002809','Year'] = 2014\n",
    "\n",
    "# MR0ES12G003041038 is 2012 Hilux\n",
    "df_year_zero.loc[df_year_zero['VIN'] == 'MR0ES12G003041038','Year'] = 2012\n",
    "\n",
    "# MPBSXXMXKSEB87874 - 1995 Ford Ecosport\n",
    "df_year_zero.loc[df_year_zero['VIN'] == 'MPBSXXMXKSEB87874','Year'] = 1995\n",
    "\n",
    "# MPAUCR85H81100056 - 2008 Chevrolet\n",
    "df_year_zero.loc[df_year_zero['VIN'] == 'MPAUCR85H81100056','Year'] = 2008\n",
    "\n",
    "# MPBSXXMXKSGR39030 - 1995 Ford Ecosport\n",
    "df_year_zero.loc[df_year_zero['VIN'] == 'MPBSXXMXKSGR39030','Year'] = 1995\n",
    "\n",
    "# MMBXTA03AGH007599 - 2016 Mitsubishi Mirage\n",
    "df_year_zero.loc[df_year_zero['VIN'] == 'MMBXTA03AGH007599','Year'] = 2016\n",
    "\n",
    "# MMBJNKA40AD000947 - 2000 Mitsubishi \n",
    "df_year_zero.loc[df_year_zero['VIN'] == 'MMBJNKA40AD000947','Year'] = 2000\n",
    "\n",
    "# PAEL35MYFFB024336 - 2015 Mitsubishi\n",
    "df_year_zero.loc[df_year_zero['VIN'] == 'PAEL35MYFFB024336','Year'] = 2015\n",
    "\n",
    "# MHKA4D4E3F05002474 - 2015 Daihatsu\n",
    "df_year_zero.loc[df_year_zero['VIN'] == 'MHKA4D4E3F05002474','Year'] = 2015\n",
    "\n",
    "# PADGM26509V002527 - 2009 Honda\n",
    "df_year_zero.loc[df_year_zero['VIN'] == 'PADGM26509V002527','Year'] = 2009\n",
    "\n",
    "# MHFMICF3F8K002745 - 2008 Toyota Avanze\n",
    "df_year_zero.loc[df_year_zero['VIN'] == 'MHFMICF3F8K002745','Year'] = 2008\n",
    "\n",
    "# MR0RER32G506012818 - 2005 Toyota\n",
    "df_year_zero.loc[df_year_zero['VIN'] == 'MR0RER32G506012818','Year'] = 2005\n",
    "\n",
    "# KL1SF6971AH200854 - 2010 Chevrolet\n",
    "df_year_zero.loc[df_year_zero['VIN'] == 'KL1SF6971AH200854','Year'] = 2010\n",
    "\n",
    "\n",
    "# MNCUMFF50FW452634 - 2015 Ford Ranger\n",
    "df_year_zero.loc[df_year_zero['VIN'] == 'MNCUMFF50FW452634','Year'] = 2015\n",
    "\n",
    "# MMM156MH0DHB63080 - 2013 Chevrolet\n",
    "df_year_zero.loc[df_year_zero['VIN'] == 'MMM156MH0DHB63080','Year'] = 2013\n",
    "\n",
    "# MPBSXXMXKSES62788 - 1995 Ford Ecosport\n",
    "df_year_zero.loc[df_year_zero['VIN'] == 'MPBSXXMXKSES62788','Year'] = 1995\n",
    "\n",
    "\n"
   ]
  },
  {
   "cell_type": "code",
   "execution_count": null,
   "metadata": {
    "execution": {
     "iopub.status.busy": "2021-04-02T03:54:55.969440Z",
     "iopub.status.idle": "2021-04-02T03:54:55.969440Z",
     "shell.execute_reply": "2021-04-02T03:54:55.969440Z"
    }
   },
   "outputs": [],
   "source": [
    "df_year_zero.loc[df_year_zero['VIN'] == 'MRHCP26209P020051','Year'] = 2005"
   ]
  },
  {
   "cell_type": "code",
   "execution_count": null,
   "metadata": {},
   "outputs": [],
   "source": []
  },
  {
   "cell_type": "code",
   "execution_count": null,
   "metadata": {
    "execution": {
     "iopub.status.busy": "2021-04-02T03:54:55.972473Z",
     "iopub.status.idle": "2021-04-02T03:54:55.972473Z",
     "shell.execute_reply": "2021-04-02T03:54:55.972473Z"
    }
   },
   "outputs": [],
   "source": [
    "df_year_zero['VIN'].value_counts().head(50)"
   ]
  },
  {
   "cell_type": "code",
   "execution_count": null,
   "metadata": {},
   "outputs": [],
   "source": []
  },
  {
   "cell_type": "markdown",
   "metadata": {},
   "source": [
    "## Cleaning the Mileage Value"
   ]
  },
  {
   "cell_type": "code",
   "execution_count": null,
   "metadata": {},
   "outputs": [],
   "source": []
  },
  {
   "cell_type": "code",
   "execution_count": null,
   "metadata": {
    "execution": {
     "iopub.status.busy": "2021-04-02T03:54:55.974693Z",
     "iopub.status.idle": "2021-04-02T03:54:55.975691Z",
     "shell.execute_reply": "2021-04-02T03:54:55.975691Z"
    }
   },
   "outputs": [],
   "source": [
    "df['Mileage In'].value_counts().to_frame().head(20)\n",
    "\n",
    "# Should I drop the values with 0,1,10? "
   ]
  },
  {
   "cell_type": "code",
   "execution_count": null,
   "metadata": {
    "execution": {
     "iopub.status.busy": "2021-04-02T03:54:55.975691Z",
     "iopub.status.idle": "2021-04-02T03:54:55.975691Z",
     "shell.execute_reply": "2021-04-02T03:54:55.975691Z"
    }
   },
   "outputs": [],
   "source": [
    "df[df['Mileage In'].between(100,1000)]"
   ]
  },
  {
   "cell_type": "code",
   "execution_count": null,
   "metadata": {},
   "outputs": [],
   "source": []
  }
 ],
 "metadata": {
  "kernelspec": {
   "display_name": "Python 3",
   "language": "python",
   "name": "python3"
  },
  "language_info": {
   "codemirror_mode": {
    "name": "ipython",
    "version": 3
   },
   "file_extension": ".py",
   "mimetype": "text/x-python",
   "name": "python",
   "nbconvert_exporter": "python",
   "pygments_lexer": "ipython3",
   "version": "3.8.8"
  }
 },
 "nbformat": 4,
 "nbformat_minor": 4
}
