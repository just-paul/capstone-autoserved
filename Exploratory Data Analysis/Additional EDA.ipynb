{
 "cells": [
  {
   "cell_type": "code",
   "execution_count": 2,
   "metadata": {},
   "outputs": [],
   "source": [
    "import pandas as pd\r\n",
    "import numpy as np \r\n",
    "import matplotlib.pyplot as plt\r\n",
    "import seaborn as sns"
   ]
  },
  {
   "cell_type": "code",
   "execution_count": 3,
   "metadata": {},
   "outputs": [],
   "source": [
    "df = pd.read_csv(\"D:\\Documents\\Github\\capstone-autoserved\\Dataset\\FINAL3.csv\")"
   ]
  },
  {
   "cell_type": "code",
   "execution_count": 4,
   "metadata": {},
   "outputs": [
    {
     "data": {
      "text/html": "<div>\n<style scoped>\n    .dataframe tbody tr th:only-of-type {\n        vertical-align: middle;\n    }\n\n    .dataframe tbody tr th {\n        vertical-align: top;\n    }\n\n    .dataframe thead th {\n        text-align: right;\n    }\n</style>\n<table border=\"1\" class=\"dataframe\">\n  <thead>\n    <tr style=\"text-align: right;\">\n      <th></th>\n      <th>Primary Key</th>\n      <th>Created</th>\n      <th>Mileage In</th>\n      <th>Work Order</th>\n      <th>Model</th>\n      <th>Line Type</th>\n      <th>Service Category</th>\n      <th>Service Package</th>\n      <th>Description</th>\n      <th>Definition</th>\n      <th>...</th>\n      <th>Quantity</th>\n      <th>Total</th>\n      <th>Discount</th>\n      <th>Net Total</th>\n      <th>ContactID</th>\n      <th>ServiceItemID</th>\n      <th>InvoiceID</th>\n      <th>labels</th>\n      <th>Make</th>\n      <th>Year</th>\n    </tr>\n  </thead>\n  <tbody>\n    <tr>\n      <th>0</th>\n      <td>1</td>\n      <td>12/28/2018 10:18</td>\n      <td>33320</td>\n      <td>49</td>\n      <td>civic</td>\n      <td>Material</td>\n      <td>Oil, Lube &amp; Preventive Maintenance Service</td>\n      <td>MINOR Preventive Maintenance Service (MEDIUM S...</td>\n      <td>OIL FILTER HONDA</td>\n      <td>Engine Oil Filter</td>\n      <td>...</td>\n      <td>1.0</td>\n      <td>696.43</td>\n      <td>0.0</td>\n      <td>696.43</td>\n      <td>a271834a-1afc-4e62-8c71-638025174c1f</td>\n      <td>ff01e2a4-d2d5-48ff-8ccc-d5605a653df4</td>\n      <td>99833bf9-865b-4e2c-9bd1-a0ed0cebea8e</td>\n      <td>preventive maintenance</td>\n      <td>honda</td>\n      <td>2012</td>\n    </tr>\n    <tr>\n      <th>1</th>\n      <td>2</td>\n      <td>12/28/2018 10:18</td>\n      <td>33320</td>\n      <td>49</td>\n      <td>civic</td>\n      <td>Material</td>\n      <td>Oil, Lube &amp; Preventive Maintenance Service</td>\n      <td>MINOR Preventive Maintenance Service (MEDIUM S...</td>\n      <td>ENGINE FLUSHING</td>\n      <td>NaN</td>\n      <td>...</td>\n      <td>1.0</td>\n      <td>142.86</td>\n      <td>0.0</td>\n      <td>142.86</td>\n      <td>a271834a-1afc-4e62-8c71-638025174c1f</td>\n      <td>ff01e2a4-d2d5-48ff-8ccc-d5605a653df4</td>\n      <td>99833bf9-865b-4e2c-9bd1-a0ed0cebea8e</td>\n      <td>preventive maintenance</td>\n      <td>honda</td>\n      <td>2012</td>\n    </tr>\n    <tr>\n      <th>2</th>\n      <td>3</td>\n      <td>12/28/2018 10:18</td>\n      <td>33320</td>\n      <td>49</td>\n      <td>civic</td>\n      <td>Material</td>\n      <td>Oil, Lube &amp; Preventive Maintenance Service</td>\n      <td>MINOR Preventive Maintenance Service (MEDIUM S...</td>\n      <td>BRAKE CLEANER 14oz</td>\n      <td>NaN</td>\n      <td>...</td>\n      <td>1.0</td>\n      <td>227.68</td>\n      <td>0.0</td>\n      <td>227.68</td>\n      <td>a271834a-1afc-4e62-8c71-638025174c1f</td>\n      <td>ff01e2a4-d2d5-48ff-8ccc-d5605a653df4</td>\n      <td>99833bf9-865b-4e2c-9bd1-a0ed0cebea8e</td>\n      <td>preventive maintenance</td>\n      <td>honda</td>\n      <td>2012</td>\n    </tr>\n    <tr>\n      <th>3</th>\n      <td>4</td>\n      <td>12/28/2018 10:18</td>\n      <td>33320</td>\n      <td>49</td>\n      <td>civic</td>\n      <td>Labor</td>\n      <td>Oil, Lube &amp; Preventive Maintenance Service</td>\n      <td>MINOR Preventive Maintenance Service (MEDIUM S...</td>\n      <td>Labor</td>\n      <td>NaN</td>\n      <td>...</td>\n      <td>3.0</td>\n      <td>1339.29</td>\n      <td>0.0</td>\n      <td>1339.29</td>\n      <td>a271834a-1afc-4e62-8c71-638025174c1f</td>\n      <td>ff01e2a4-d2d5-48ff-8ccc-d5605a653df4</td>\n      <td>99833bf9-865b-4e2c-9bd1-a0ed0cebea8e</td>\n      <td>preventive maintenance</td>\n      <td>honda</td>\n      <td>2012</td>\n    </tr>\n    <tr>\n      <th>4</th>\n      <td>5</td>\n      <td>12/28/2018 10:18</td>\n      <td>33320</td>\n      <td>49</td>\n      <td>civic</td>\n      <td>Material</td>\n      <td>Oil, Lube &amp; Preventive Maintenance Service</td>\n      <td>MINOR Preventive Maintenance Service (MEDIUM S...</td>\n      <td>REPSOL ELITE INJECTION 10W40 1L - GAS/DIESEL</td>\n      <td>Engine Oil</td>\n      <td>...</td>\n      <td>4.0</td>\n      <td>1178.56</td>\n      <td>0.0</td>\n      <td>1178.56</td>\n      <td>a271834a-1afc-4e62-8c71-638025174c1f</td>\n      <td>ff01e2a4-d2d5-48ff-8ccc-d5605a653df4</td>\n      <td>99833bf9-865b-4e2c-9bd1-a0ed0cebea8e</td>\n      <td>preventive maintenance</td>\n      <td>honda</td>\n      <td>2012</td>\n    </tr>\n  </tbody>\n</table>\n<p>5 rows × 21 columns</p>\n</div>",
      "text/plain": "   Primary Key           Created  Mileage In  Work Order  Model Line Type  \\\n0            1  12/28/2018 10:18       33320          49  civic  Material   \n1            2  12/28/2018 10:18       33320          49  civic  Material   \n2            3  12/28/2018 10:18       33320          49  civic  Material   \n3            4  12/28/2018 10:18       33320          49  civic     Labor   \n4            5  12/28/2018 10:18       33320          49  civic  Material   \n\n                             Service Category  \\\n0  Oil, Lube & Preventive Maintenance Service   \n1  Oil, Lube & Preventive Maintenance Service   \n2  Oil, Lube & Preventive Maintenance Service   \n3  Oil, Lube & Preventive Maintenance Service   \n4  Oil, Lube & Preventive Maintenance Service   \n\n                                     Service Package  \\\n0  MINOR Preventive Maintenance Service (MEDIUM S...   \n1  MINOR Preventive Maintenance Service (MEDIUM S...   \n2  MINOR Preventive Maintenance Service (MEDIUM S...   \n3  MINOR Preventive Maintenance Service (MEDIUM S...   \n4  MINOR Preventive Maintenance Service (MEDIUM S...   \n\n                                    Description         Definition  ...  \\\n0                              OIL FILTER HONDA  Engine Oil Filter  ...   \n1                               ENGINE FLUSHING                NaN  ...   \n2                            BRAKE CLEANER 14oz                NaN  ...   \n3                                         Labor                NaN  ...   \n4  REPSOL ELITE INJECTION 10W40 1L - GAS/DIESEL         Engine Oil  ...   \n\n   Quantity    Total  Discount  Net Total  \\\n0       1.0   696.43       0.0     696.43   \n1       1.0   142.86       0.0     142.86   \n2       1.0   227.68       0.0     227.68   \n3       3.0  1339.29       0.0    1339.29   \n4       4.0  1178.56       0.0    1178.56   \n\n                              ContactID                         ServiceItemID  \\\n0  a271834a-1afc-4e62-8c71-638025174c1f  ff01e2a4-d2d5-48ff-8ccc-d5605a653df4   \n1  a271834a-1afc-4e62-8c71-638025174c1f  ff01e2a4-d2d5-48ff-8ccc-d5605a653df4   \n2  a271834a-1afc-4e62-8c71-638025174c1f  ff01e2a4-d2d5-48ff-8ccc-d5605a653df4   \n3  a271834a-1afc-4e62-8c71-638025174c1f  ff01e2a4-d2d5-48ff-8ccc-d5605a653df4   \n4  a271834a-1afc-4e62-8c71-638025174c1f  ff01e2a4-d2d5-48ff-8ccc-d5605a653df4   \n\n                              InvoiceID                  labels   Make  Year  \n0  99833bf9-865b-4e2c-9bd1-a0ed0cebea8e  preventive maintenance  honda  2012  \n1  99833bf9-865b-4e2c-9bd1-a0ed0cebea8e  preventive maintenance  honda  2012  \n2  99833bf9-865b-4e2c-9bd1-a0ed0cebea8e  preventive maintenance  honda  2012  \n3  99833bf9-865b-4e2c-9bd1-a0ed0cebea8e  preventive maintenance  honda  2012  \n4  99833bf9-865b-4e2c-9bd1-a0ed0cebea8e  preventive maintenance  honda  2012  \n\n[5 rows x 21 columns]"
     },
     "execution_count": 4,
     "metadata": {},
     "output_type": "execute_result"
    }
   ],
   "source": [
    "df.head()"
   ]
  },
  {
   "cell_type": "code",
   "execution_count": 5,
   "metadata": {},
   "outputs": [
    {
     "data": {
      "text/plain": "Index(['Primary Key', 'Created', 'Mileage In', 'Work Order', 'Model',\n       'Line Type', 'Service Category', 'Service Package', 'Description',\n       'Definition', 'Price', 'Quantity', 'Total', 'Discount', 'Net Total',\n       'ContactID', 'ServiceItemID', 'InvoiceID', 'labels', 'Make', 'Year'],\n      dtype='object')"
     },
     "execution_count": 5,
     "metadata": {},
     "output_type": "execute_result"
    }
   ],
   "source": [
    "df.columns"
   ]
  },
  {
   "cell_type": "code",
   "execution_count": 36,
   "metadata": {},
   "outputs": [
    {
     "name": "stderr",
     "output_type": "stream",
     "text": [
      "<ipython-input-36-b7bb442b1663>:2: SettingWithCopyWarning: \n",
      "A value is trying to be set on a copy of a slice from a DataFrame.\n",
      "Try using .loc[row_indexer,col_indexer] = value instead\n",
      "\n",
      "See the caveats in the documentation: https://pandas.pydata.org/pandas-docs/stable/user_guide/indexing.html#returning-a-view-versus-a-copy\n",
      "  df_eda['Unique Identifier'] = str(df['Work Order']) + df['Make'] + df['Model']\n"
     ]
    }
   ],
   "source": [
    "df_eda = df[['Mileage In', 'Work Order', 'Make', 'Model','Year','Service Category','labels','Net Total']]\r\n",
    "df_eda['Unique Identifier'] = str(df['Work Order']) + df['Make'] + df['Model']"
   ]
  },
  {
   "cell_type": "code",
   "execution_count": 39,
   "metadata": {},
   "outputs": [
    {
     "data": {
      "text/html": "<div>\n<style scoped>\n    .dataframe tbody tr th:only-of-type {\n        vertical-align: middle;\n    }\n\n    .dataframe tbody tr th {\n        vertical-align: top;\n    }\n\n    .dataframe thead th {\n        text-align: right;\n    }\n</style>\n<table border=\"1\" class=\"dataframe\">\n  <thead>\n    <tr style=\"text-align: right;\">\n      <th></th>\n      <th>Mileage In</th>\n      <th>Work Order</th>\n      <th>Make</th>\n      <th>Model</th>\n      <th>Year</th>\n      <th>Service Category</th>\n      <th>labels</th>\n      <th>Net Total</th>\n      <th>Unique Identifier</th>\n    </tr>\n  </thead>\n  <tbody>\n    <tr>\n      <th>0</th>\n      <td>33320</td>\n      <td>49</td>\n      <td>honda</td>\n      <td>civic</td>\n      <td>2012</td>\n      <td>Oil, Lube &amp; Preventive Maintenance Service</td>\n      <td>preventive maintenance</td>\n      <td>696.43</td>\n      <td>0          49\\n1          49\\n2          49\\n3...</td>\n    </tr>\n    <tr>\n      <th>1</th>\n      <td>33320</td>\n      <td>49</td>\n      <td>honda</td>\n      <td>civic</td>\n      <td>2012</td>\n      <td>Oil, Lube &amp; Preventive Maintenance Service</td>\n      <td>preventive maintenance</td>\n      <td>142.86</td>\n      <td>0          49\\n1          49\\n2          49\\n3...</td>\n    </tr>\n    <tr>\n      <th>2</th>\n      <td>33320</td>\n      <td>49</td>\n      <td>honda</td>\n      <td>civic</td>\n      <td>2012</td>\n      <td>Oil, Lube &amp; Preventive Maintenance Service</td>\n      <td>preventive maintenance</td>\n      <td>227.68</td>\n      <td>0          49\\n1          49\\n2          49\\n3...</td>\n    </tr>\n    <tr>\n      <th>3</th>\n      <td>33320</td>\n      <td>49</td>\n      <td>honda</td>\n      <td>civic</td>\n      <td>2012</td>\n      <td>Oil, Lube &amp; Preventive Maintenance Service</td>\n      <td>preventive maintenance</td>\n      <td>1339.29</td>\n      <td>0          49\\n1          49\\n2          49\\n3...</td>\n    </tr>\n    <tr>\n      <th>4</th>\n      <td>33320</td>\n      <td>49</td>\n      <td>honda</td>\n      <td>civic</td>\n      <td>2012</td>\n      <td>Oil, Lube &amp; Preventive Maintenance Service</td>\n      <td>preventive maintenance</td>\n      <td>1178.56</td>\n      <td>0          49\\n1          49\\n2          49\\n3...</td>\n    </tr>\n  </tbody>\n</table>\n</div>",
      "text/plain": "   Mileage In  Work Order   Make  Model  Year  \\\n0       33320          49  honda  civic  2012   \n1       33320          49  honda  civic  2012   \n2       33320          49  honda  civic  2012   \n3       33320          49  honda  civic  2012   \n4       33320          49  honda  civic  2012   \n\n                             Service Category                  labels  \\\n0  Oil, Lube & Preventive Maintenance Service  preventive maintenance   \n1  Oil, Lube & Preventive Maintenance Service  preventive maintenance   \n2  Oil, Lube & Preventive Maintenance Service  preventive maintenance   \n3  Oil, Lube & Preventive Maintenance Service  preventive maintenance   \n4  Oil, Lube & Preventive Maintenance Service  preventive maintenance   \n\n   Net Total                                  Unique Identifier  \n0     696.43  0          49\\n1          49\\n2          49\\n3...  \n1     142.86  0          49\\n1          49\\n2          49\\n3...  \n2     227.68  0          49\\n1          49\\n2          49\\n3...  \n3    1339.29  0          49\\n1          49\\n2          49\\n3...  \n4    1178.56  0          49\\n1          49\\n2          49\\n3...  "
     },
     "execution_count": 39,
     "metadata": {},
     "output_type": "execute_result"
    }
   ],
   "source": [
    "df_eda.head()"
   ]
  },
  {
   "cell_type": "markdown",
   "metadata": {},
   "source": [
    "### Mileage In Analysis"
   ]
  },
  {
   "cell_type": "code",
   "execution_count": 45,
   "metadata": {},
   "outputs": [],
   "source": [
    "import scipy\r\n",
    "shape, location, scale = scipy.stats.lognorm.fit(df['Mileage In'])\r\n",
    "mu, sigma = np.log(scale), shape"
   ]
  },
  {
   "cell_type": "code",
   "execution_count": 20,
   "metadata": {},
   "outputs": [
    {
     "data": {
      "text/plain": "<seaborn.axisgrid.FacetGrid at 0x1d8cc4d9040>"
     },
     "execution_count": 20,
     "metadata": {},
     "output_type": "execute_result"
    },
    {
     "data": {
      "text/plain": "<Figure size 864x720 with 0 Axes>"
     },
     "metadata": {},
     "output_type": "display_data"
    },
    {
     "data": {
      "image/png": "[encoded data removed]",
      "text/plain": "<Figure size 864x576 with 1 Axes>"
     },
     "metadata": {},
     "output_type": "display_data"
    }
   ],
   "source": [
    "sns.set_style('darkgrid')\r\n",
    "plt.figure(figsize = (12,10))\r\n",
    "sns.displot(data = df, x = 'Mileage In', aspect= 1.5, height= 8)"
   ]
  },
  {
   "cell_type": "code",
   "execution_count": 53,
   "metadata": {},
   "outputs": [],
   "source": [
    "def mileage_func(x):\r\n",
    "    if x <= 10000:\r\n",
    "        return '10k'\r\n",
    "    if 10001 <= x < 20000:\r\n",
    "        return '20k'\r\n",
    "    if 20001 <= x < 30000:\r\n",
    "        return '30k'\r\n",
    "    if 30001 <= x < 40000:\r\n",
    "        return '40k'\r\n",
    "    if 40001 <= x < 50000:\r\n",
    "        return '50k'\r\n",
    "    if 50001 <= x < 60000:\r\n",
    "        return '60k'\r\n",
    "    if 60001 <= x < 70000:\r\n",
    "        return '70k'\r\n",
    "    if 70001 <= x < 80000:\r\n",
    "        return '80k'\r\n",
    "    if 80001 <= x < 90000:\r\n",
    "        return '90k'\r\n",
    "    if 90001 <= x < 100000:\r\n",
    "        return '100k'\r\n",
    "    if 100001 <= x < 110000:\r\n",
    "        return '110k'\r\n",
    "    if 110001 <= x < 120000:\r\n",
    "        return '120k'\r\n",
    "    if 120001 <= x < 130000:\r\n",
    "        return '130k'\r\n",
    "    if 130001 <= x < 140000:\r\n",
    "        return '140k'\r\n",
    "    if 140001 <= x < 150000:\r\n",
    "        return '150k'\r\n",
    "    if 150001 <= x < 160000:\r\n",
    "        return '160k'\r\n",
    "    if 160001 <= x < 170000:\r\n",
    "        return '170k'\r\n",
    "    if 170001 <= x < 180000:\r\n",
    "        return '180k'\r\n",
    "    if 180001 <= x < 190000:\r\n",
    "        return '190k'\r\n",
    "    if 190001 <= x < 200000:\r\n",
    "        return '200k'\r\n",
    "    else:\r\n",
    "        return 'above 200k'"
   ]
  },
  {
   "cell_type": "code",
   "execution_count": 54,
   "metadata": {},
   "outputs": [
    {
     "name": "stderr",
     "output_type": "stream",
     "text": [
      "<ipython-input-54-8a888ca787c8>:1: SettingWithCopyWarning: \n",
      "A value is trying to be set on a copy of a slice from a DataFrame.\n",
      "Try using .loc[row_indexer,col_indexer] = value instead\n",
      "\n",
      "See the caveats in the documentation: https://pandas.pydata.org/pandas-docs/stable/user_guide/indexing.html#returning-a-view-versus-a-copy\n",
      "  df_eda['Mileage_Category'] = df_eda['Mileage In'].apply(mileage_func)\n"
     ]
    },
    {
     "data": {
      "text/html": "<div>\n<style scoped>\n    .dataframe tbody tr th:only-of-type {\n        vertical-align: middle;\n    }\n\n    .dataframe tbody tr th {\n        vertical-align: top;\n    }\n\n    .dataframe thead th {\n        text-align: right;\n    }\n</style>\n<table border=\"1\" class=\"dataframe\">\n  <thead>\n    <tr style=\"text-align: right;\">\n      <th></th>\n      <th>Count</th>\n    </tr>\n  </thead>\n  <tbody>\n    <tr>\n      <th>50k</th>\n      <td>4040</td>\n    </tr>\n    <tr>\n      <th>40k</th>\n      <td>3525</td>\n    </tr>\n    <tr>\n      <th>60k</th>\n      <td>3411</td>\n    </tr>\n    <tr>\n      <th>70k</th>\n      <td>3310</td>\n    </tr>\n    <tr>\n      <th>80k</th>\n      <td>2983</td>\n    </tr>\n    <tr>\n      <th>30k</th>\n      <td>2862</td>\n    </tr>\n    <tr>\n      <th>100k</th>\n      <td>2114</td>\n    </tr>\n    <tr>\n      <th>110k</th>\n      <td>2090</td>\n    </tr>\n    <tr>\n      <th>90k</th>\n      <td>2080</td>\n    </tr>\n    <tr>\n      <th>20k</th>\n      <td>1713</td>\n    </tr>\n    <tr>\n      <th>above 200k</th>\n      <td>1601</td>\n    </tr>\n    <tr>\n      <th>120k</th>\n      <td>1483</td>\n    </tr>\n    <tr>\n      <th>10k</th>\n      <td>1206</td>\n    </tr>\n    <tr>\n      <th>130k</th>\n      <td>1065</td>\n    </tr>\n    <tr>\n      <th>140k</th>\n      <td>841</td>\n    </tr>\n    <tr>\n      <th>150k</th>\n      <td>788</td>\n    </tr>\n    <tr>\n      <th>160k</th>\n      <td>722</td>\n    </tr>\n    <tr>\n      <th>180k</th>\n      <td>520</td>\n    </tr>\n    <tr>\n      <th>170k</th>\n      <td>481</td>\n    </tr>\n    <tr>\n      <th>190k</th>\n      <td>383</td>\n    </tr>\n    <tr>\n      <th>200k</th>\n      <td>330</td>\n    </tr>\n  </tbody>\n</table>\n</div>",
      "text/plain": "            Count\n50k          4040\n40k          3525\n60k          3411\n70k          3310\n80k          2983\n30k          2862\n100k         2114\n110k         2090\n90k          2080\n20k          1713\nabove 200k   1601\n120k         1483\n10k          1206\n130k         1065\n140k          841\n150k          788\n160k          722\n180k          520\n170k          481\n190k          383\n200k          330"
     },
     "execution_count": 54,
     "metadata": {},
     "output_type": "execute_result"
    }
   ],
   "source": [
    "\r\n",
    "df_eda['Mileage_Category'] = df_eda['Mileage In'].apply(mileage_func)\r\n",
    "df_eda['Mileage_Category'].value_counts().to_frame(name = 'Count')"
   ]
  },
  {
   "cell_type": "code",
   "execution_count": 63,
   "metadata": {},
   "outputs": [],
   "source": [
    "df_service = df_eda.groupby(['Mileage_Category','Service Category'])[['Service Category']].count().sort_values(by='Mileage_Category', ascending = False)\r\n",
    "df_service.to_csv('Service Category per Mileage.csv')"
   ]
  },
  {
   "cell_type": "markdown",
   "metadata": {},
   "source": []
  },
  {
   "cell_type": "code",
   "execution_count": 41,
   "metadata": {},
   "outputs": [
    {
     "data": {
      "text/plain": "<AxesSubplot:xlabel='Mileage In'>"
     },
     "execution_count": 41,
     "metadata": {},
     "output_type": "execute_result"
    },
    {
     "data": {
      "image/png": "[encoded data removed]",
      "text/plain": "<Figure size 864x720 with 1 Axes>"
     },
     "metadata": {},
     "output_type": "display_data"
    }
   ],
   "source": [
    "sns.set_style('darkgrid')\r\n",
    "plt.figure(figsize = (12,10))\r\n",
    "sns.boxplot(data = df, x = 'Mileage In')"
   ]
  },
  {
   "cell_type": "code",
   "execution_count": 19,
   "metadata": {},
   "outputs": [
    {
     "name": "stderr",
     "output_type": "stream",
     "text": [
      "C:\\Users\\Padayao\\Anaconda3\\envs\\Data Science\\lib\\site-packages\\scipy\\stats\\morestats.py:1681: UserWarning: p-value may not be accurate for N > 5000.\n",
      "  warnings.warn(\"p-value may not be accurate for N > 5000.\")\n"
     ]
    },
    {
     "data": {
      "text/plain": "ShapiroResult(statistic=0.6443907618522644, pvalue=0.0)"
     },
     "execution_count": 19,
     "metadata": {},
     "output_type": "execute_result"
    }
   ],
   "source": [
    "from scipy import stats\r\n",
    "\r\n",
    "shapiro_test = stats.shapiro(df['Mileage In'])\r\n",
    "shapiro_test"
   ]
  },
  {
   "cell_type": "markdown",
   "metadata": {},
   "source": [
    "### Work Order Analysis"
   ]
  },
  {
   "cell_type": "code",
   "execution_count": 32,
   "metadata": {},
   "outputs": [
    {
     "data": {
      "text/html": "<div>\n<style scoped>\n    .dataframe tbody tr th:only-of-type {\n        vertical-align: middle;\n    }\n\n    .dataframe tbody tr th {\n        vertical-align: top;\n    }\n\n    .dataframe thead th {\n        text-align: right;\n    }\n</style>\n<table border=\"1\" class=\"dataframe\">\n  <thead>\n    <tr style=\"text-align: right;\">\n      <th></th>\n      <th></th>\n      <th>labels</th>\n    </tr>\n    <tr>\n      <th>Work Order</th>\n      <th>Make</th>\n      <th></th>\n    </tr>\n  </thead>\n  <tbody>\n    <tr>\n      <th>3</th>\n      <th>honda</th>\n      <td>7</td>\n    </tr>\n    <tr>\n      <th>5</th>\n      <th>toyota</th>\n      <td>1</td>\n    </tr>\n    <tr>\n      <th>6</th>\n      <th>chevrolet</th>\n      <td>2</td>\n    </tr>\n    <tr>\n      <th>7</th>\n      <th>hyundai</th>\n      <td>3</td>\n    </tr>\n    <tr>\n      <th>8</th>\n      <th>toyota</th>\n      <td>7</td>\n    </tr>\n    <tr>\n      <th>9</th>\n      <th>mitsubishi</th>\n      <td>2</td>\n    </tr>\n    <tr>\n      <th rowspan=\"2\" valign=\"top\">10</th>\n      <th>mitsubishi</th>\n      <td>15</td>\n    </tr>\n    <tr>\n      <th>toyota</th>\n      <td>14</td>\n    </tr>\n    <tr>\n      <th rowspan=\"2\" valign=\"top\">11</th>\n      <th>ford</th>\n      <td>6</td>\n    </tr>\n    <tr>\n      <th>toyota</th>\n      <td>6</td>\n    </tr>\n    <tr>\n      <th>13</th>\n      <th>volvo</th>\n      <td>8</td>\n    </tr>\n    <tr>\n      <th>17</th>\n      <th>honda</th>\n      <td>8</td>\n    </tr>\n    <tr>\n      <th>18</th>\n      <th>toyota</th>\n      <td>12</td>\n    </tr>\n    <tr>\n      <th>19</th>\n      <th>mitsubishi</th>\n      <td>15</td>\n    </tr>\n    <tr>\n      <th rowspan=\"2\" valign=\"top\">20</th>\n      <th>hyundai</th>\n      <td>8</td>\n    </tr>\n    <tr>\n      <th>mazda</th>\n      <td>37</td>\n    </tr>\n    <tr>\n      <th>21</th>\n      <th>toyota</th>\n      <td>5</td>\n    </tr>\n    <tr>\n      <th>25</th>\n      <th>ford</th>\n      <td>1</td>\n    </tr>\n    <tr>\n      <th>26</th>\n      <th>nissan</th>\n      <td>10</td>\n    </tr>\n    <tr>\n      <th>27</th>\n      <th>nissan</th>\n      <td>9</td>\n    </tr>\n    <tr>\n      <th rowspan=\"2\" valign=\"top\">28</th>\n      <th>honda</th>\n      <td>12</td>\n    </tr>\n    <tr>\n      <th>isuzu</th>\n      <td>1</td>\n    </tr>\n    <tr>\n      <th>30</th>\n      <th>mitsubishi</th>\n      <td>6</td>\n    </tr>\n    <tr>\n      <th rowspan=\"2\" valign=\"top\">31</th>\n      <th>chevrolet</th>\n      <td>10</td>\n    </tr>\n    <tr>\n      <th>ford</th>\n      <td>1</td>\n    </tr>\n  </tbody>\n</table>\n</div>",
      "text/plain": "                       labels\nWork Order Make              \n3          honda            7\n5          toyota           1\n6          chevrolet        2\n7          hyundai          3\n8          toyota           7\n9          mitsubishi       2\n10         mitsubishi      15\n           toyota          14\n11         ford             6\n           toyota           6\n13         volvo            8\n17         honda            8\n18         toyota          12\n19         mitsubishi      15\n20         hyundai          8\n           mazda           37\n21         toyota           5\n25         ford             1\n26         nissan          10\n27         nissan           9\n28         honda           12\n           isuzu            1\n30         mitsubishi       6\n31         chevrolet       10\n           ford             1"
     },
     "execution_count": 32,
     "metadata": {},
     "output_type": "execute_result"
    }
   ],
   "source": [
    "df_wo = df.groupby(['Work Order','Make'])[['labels']].count()\r\n",
    "df_wo.head(25)"
   ]
  }
 ],
 "metadata": {
  "kernelspec": {
   "display_name": "Python 3.8.8 64-bit ('Data Science': conda)",
   "name": "python388jvsc74a57bd02507b16df69bb0946c8f130b54e562ea64422c15ec31ce138c110606140bdc1a"
  },
  "language_info": {
   "codemirror_mode": {
    "name": "ipython",
    "version": 3
   },
   "file_extension": ".py",
   "mimetype": "text/x-python",
   "name": "python",
   "nbconvert_exporter": "python",
   "pygments_lexer": "ipython3",
   "version": "3.8.8"
  }
 },
 "nbformat": 4,
 "nbformat_minor": 5
}