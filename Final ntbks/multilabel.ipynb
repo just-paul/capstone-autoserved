{
 "cells": [
  {
   "cell_type": "code",
   "execution_count": 1,
   "metadata": {
    "ExecuteTime": {
     "end_time": "2021-04-09T16:34:26.130878Z",
     "start_time": "2021-04-09T16:34:22.527164Z"
    }
   },
   "outputs": [],
   "source": [
    "import category_encoders as ce\n",
    "from category_encoders.wrapper import PolynomialWrapper\n",
    "from sklearn.model_selection import train_test_split, cross_val_score, GridSearchCV\n",
    "from sklearn.ensemble import RandomForestClassifier, AdaBoostClassifier, GradientBoostingClassifier\n",
    "from sklearn.tree import DecisionTreeClassifier\n",
    "from sklearn.metrics import confusion_matrix, balanced_accuracy_score, make_scorer\n",
    "from sklearn.svm import SVC\n",
    "from sklearn.preprocessing import MinMaxScaler, MultiLabelBinarizer\n",
    "from imblearn.over_sampling import SMOTE, SMOTEN, SMOTENC\n",
    "from sklearn.preprocessing import LabelEncoder, normalize\n",
    "from sklearn.model_selection import KFold, StratifiedKFold\n",
    "from sklearn.metrics import f1_score, classification_report, confusion_matrix, plot_confusion_matrix, jaccard_score, accuracy_score, hamming_loss\n",
    "from xgboost import XGBClassifier\n",
    "from sklearn.neighbors import KNeighborsClassifier\n",
    "from sklearn.neighbors import KNeighborsClassifier\n",
    "from sklearn.neighbors import RadiusNeighborsClassifier\n",
    "from sklearn.naive_bayes import GaussianNB\n",
    "\n",
    "from sklearn.pipeline import Pipeline\n",
    "\n",
    "from imblearn.ensemble import EasyEnsembleClassifier, BalancedBaggingClassifier, BalancedRandomForestClassifier\n",
    "from imblearn.under_sampling import RandomUnderSampler\n",
    "from imblearn.over_sampling import RandomOverSampler\n",
    "from sklearn.multioutput import ClassifierChain\n",
    "\n",
    "from sklearn.multiclass import OneVsRestClassifier\n",
    "from sklearn.multiclass import OutputCodeClassifier\n",
    "from sklearn.multiclass import OneVsOneClassifier\n",
    "\n",
    "from skmultilearn.problem_transform import LabelPowerset\n",
    "from skmultilearn.adapt import MLkNN\n",
    "from skmultilearn.ensemble import RakelD, LabelSpacePartitioningClassifier\n",
    "from skmultilearn.model_selection.measures import get_combination_wise_output_matrix\n",
    "from collections import Counter\n",
    "from skmultilearn.model_selection import iterative_train_test_split\n",
    "from skmultilearn.ext import download_meka, Meka\n",
    "\n",
    "import statistics\n",
    "from zipfile import BadZipFile"
   ]
  },
  {
   "cell_type": "code",
   "execution_count": 2,
   "metadata": {
    "ExecuteTime": {
     "end_time": "2021-04-09T16:34:26.146800Z",
     "start_time": "2021-04-09T16:34:26.132873Z"
    }
   },
   "outputs": [
    {
     "name": "stdout",
     "output_type": "stream",
     "text": [
      "MEKA 1.9.2 found, not downloading\n"
     ]
    }
   ],
   "source": [
    "meka_classpath = download_meka()"
   ]
  },
  {
   "cell_type": "code",
   "execution_count": 3,
   "metadata": {
    "ExecuteTime": {
     "end_time": "2021-04-09T16:34:26.177714Z",
     "start_time": "2021-04-09T16:34:26.149792Z"
    }
   },
   "outputs": [
    {
     "data": {
      "text/plain": [
       "'C:\\\\Users\\\\Nico\\\\scikit_ml_learn_data\\\\meka\\\\meka-release-1.9.2\\\\lib\\\\'"
      ]
     },
     "execution_count": 3,
     "metadata": {},
     "output_type": "execute_result"
    }
   ],
   "source": [
    "meka_classpath"
   ]
  },
  {
   "cell_type": "code",
   "execution_count": 4,
   "metadata": {
    "ExecuteTime": {
     "end_time": "2021-04-09T16:34:35.458890Z",
     "start_time": "2021-04-09T16:34:26.180707Z"
    }
   },
   "outputs": [],
   "source": [
    "df = pd.read_excel('FINAL_FINAL 2.xlsx', index_col='Primary Key')"
   ]
  },
  {
   "cell_type": "code",
   "execution_count": 5,
   "metadata": {
    "ExecuteTime": {
     "end_time": "2021-04-09T16:34:35.474847Z",
     "start_time": "2021-04-09T16:34:35.460885Z"
    },
    "scrolled": true
   },
   "outputs": [
    {
     "data": {
      "text/plain": [
       "Index(['Created', 'Mileage In', 'Work Order', 'Model', 'Line Type',\n",
       "       'Service Category', 'Service Package', 'Description', 'Definition',\n",
       "       'Price', 'Quantity', 'Total', 'Discount', 'Net Total', 'ContactID',\n",
       "       'ServiceItemID', 'InvoiceID', 'Make', 'Year', 'labels', 'is_same_label',\n",
       "       'body type'],\n",
       "      dtype='object')"
      ]
     },
     "execution_count": 5,
     "metadata": {},
     "output_type": "execute_result"
    }
   ],
   "source": [
    "df.columns"
   ]
  },
  {
   "cell_type": "code",
   "execution_count": 6,
   "metadata": {
    "ExecuteTime": {
     "end_time": "2021-04-09T16:34:35.490806Z",
     "start_time": "2021-04-09T16:34:35.476844Z"
    }
   },
   "outputs": [],
   "source": [
    "df2 = df[['Mileage In', 'Make', 'Model', 'Year', 'Service Category']]"
   ]
  },
  {
   "cell_type": "code",
   "execution_count": 7,
   "metadata": {
    "ExecuteTime": {
     "end_time": "2021-04-09T16:34:35.522719Z",
     "start_time": "2021-04-09T16:34:35.494795Z"
    }
   },
   "outputs": [],
   "source": [
    "X = df2[['Make', 'Year','Model', 'Mileage In']]"
   ]
  },
  {
   "cell_type": "code",
   "execution_count": 8,
   "metadata": {
    "ExecuteTime": {
     "end_time": "2021-04-09T16:34:35.538677Z",
     "start_time": "2021-04-09T16:34:35.525712Z"
    }
   },
   "outputs": [],
   "source": [
    "Y = df2['Service Category']"
   ]
  },
  {
   "cell_type": "code",
   "execution_count": 9,
   "metadata": {
    "ExecuteTime": {
     "end_time": "2021-04-09T16:34:35.554635Z",
     "start_time": "2021-04-09T16:34:35.541669Z"
    }
   },
   "outputs": [],
   "source": [
    "# instantiate encoder\n",
    "\n",
    "encoder = ce.count.CountEncoder(cols=['Make', 'Year', 'Model'])"
   ]
  },
  {
   "cell_type": "code",
   "execution_count": 10,
   "metadata": {
    "ExecuteTime": {
     "end_time": "2021-04-09T16:34:35.570592Z",
     "start_time": "2021-04-09T16:34:35.556632Z"
    }
   },
   "outputs": [],
   "source": [
    "# encoder = PolynomialWrapper(encoder)"
   ]
  },
  {
   "cell_type": "code",
   "execution_count": 11,
   "metadata": {
    "ExecuteTime": {
     "end_time": "2021-04-09T16:34:35.617467Z",
     "start_time": "2021-04-09T16:34:35.573584Z"
    }
   },
   "outputs": [
    {
     "name": "stderr",
     "output_type": "stream",
     "text": [
      "C:\\Users\\Nico\\anaconda3\\lib\\site-packages\\category_encoders\\utils.py:21: FutureWarning: is_categorical is deprecated and will be removed in a future version.  Use is_categorical_dtype instead\n",
      "  elif pd.api.types.is_categorical(cols):\n"
     ]
    },
    {
     "data": {
      "text/plain": [
       "CountEncoder(cols=['Make', 'Year', 'Model'], combine_min_nan_groups=True)"
      ]
     },
     "execution_count": 11,
     "metadata": {},
     "output_type": "execute_result"
    }
   ],
   "source": [
    "encoder.fit(X, Y)"
   ]
  },
  {
   "cell_type": "code",
   "execution_count": 12,
   "metadata": {
    "ExecuteTime": {
     "end_time": "2021-04-09T16:34:35.663343Z",
     "start_time": "2021-04-09T16:34:35.621458Z"
    }
   },
   "outputs": [],
   "source": [
    "# encode features\n",
    "\n",
    "X_encoded = encoder.transform(X)"
   ]
  },
  {
   "cell_type": "code",
   "execution_count": 13,
   "metadata": {
    "ExecuteTime": {
     "end_time": "2021-04-09T16:34:35.695258Z",
     "start_time": "2021-04-09T16:34:35.665339Z"
    }
   },
   "outputs": [
    {
     "data": {
      "text/html": [
       "<div>\n",
       "<style scoped>\n",
       "    .dataframe tbody tr th:only-of-type {\n",
       "        vertical-align: middle;\n",
       "    }\n",
       "\n",
       "    .dataframe tbody tr th {\n",
       "        vertical-align: top;\n",
       "    }\n",
       "\n",
       "    .dataframe thead th {\n",
       "        text-align: right;\n",
       "    }\n",
       "</style>\n",
       "<table border=\"1\" class=\"dataframe\">\n",
       "  <thead>\n",
       "    <tr style=\"text-align: right;\">\n",
       "      <th></th>\n",
       "      <th>Make</th>\n",
       "      <th>Year</th>\n",
       "      <th>Model</th>\n",
       "      <th>Mileage In</th>\n",
       "    </tr>\n",
       "  </thead>\n",
       "  <tbody>\n",
       "    <tr>\n",
       "      <th>count</th>\n",
       "      <td>30585.000000</td>\n",
       "      <td>30585.000000</td>\n",
       "      <td>30585.000000</td>\n",
       "      <td>3.058500e+04</td>\n",
       "    </tr>\n",
       "    <tr>\n",
       "      <th>mean</th>\n",
       "      <td>5783.878143</td>\n",
       "      <td>2491.103973</td>\n",
       "      <td>1204.914141</td>\n",
       "      <td>7.776626e+04</td>\n",
       "    </tr>\n",
       "    <tr>\n",
       "      <th>std</th>\n",
       "      <td>3934.406442</td>\n",
       "      <td>1197.734534</td>\n",
       "      <td>1324.951151</td>\n",
       "      <td>7.057198e+04</td>\n",
       "    </tr>\n",
       "    <tr>\n",
       "      <th>min</th>\n",
       "      <td>10.000000</td>\n",
       "      <td>18.000000</td>\n",
       "      <td>1.000000</td>\n",
       "      <td>0.000000e+00</td>\n",
       "    </tr>\n",
       "    <tr>\n",
       "      <th>25%</th>\n",
       "      <td>2748.000000</td>\n",
       "      <td>1464.000000</td>\n",
       "      <td>265.000000</td>\n",
       "      <td>3.940500e+04</td>\n",
       "    </tr>\n",
       "    <tr>\n",
       "      <th>50%</th>\n",
       "      <td>4944.000000</td>\n",
       "      <td>2719.000000</td>\n",
       "      <td>616.000000</td>\n",
       "      <td>6.435900e+04</td>\n",
       "    </tr>\n",
       "    <tr>\n",
       "      <th>75%</th>\n",
       "      <td>10820.000000</td>\n",
       "      <td>3898.000000</td>\n",
       "      <td>1716.000000</td>\n",
       "      <td>1.013470e+05</td>\n",
       "    </tr>\n",
       "    <tr>\n",
       "      <th>max</th>\n",
       "      <td>10820.000000</td>\n",
       "      <td>4061.000000</td>\n",
       "      <td>4217.000000</td>\n",
       "      <td>3.021518e+06</td>\n",
       "    </tr>\n",
       "  </tbody>\n",
       "</table>\n",
       "</div>"
      ],
      "text/plain": [
       "               Make          Year         Model    Mileage In\n",
       "count  30585.000000  30585.000000  30585.000000  3.058500e+04\n",
       "mean    5783.878143   2491.103973   1204.914141  7.776626e+04\n",
       "std     3934.406442   1197.734534   1324.951151  7.057198e+04\n",
       "min       10.000000     18.000000      1.000000  0.000000e+00\n",
       "25%     2748.000000   1464.000000    265.000000  3.940500e+04\n",
       "50%     4944.000000   2719.000000    616.000000  6.435900e+04\n",
       "75%    10820.000000   3898.000000   1716.000000  1.013470e+05\n",
       "max    10820.000000   4061.000000   4217.000000  3.021518e+06"
      ]
     },
     "execution_count": 13,
     "metadata": {},
     "output_type": "execute_result"
    }
   ],
   "source": [
    "X_encoded.describe()"
   ]
  },
  {
   "cell_type": "code",
   "execution_count": 14,
   "metadata": {
    "ExecuteTime": {
     "end_time": "2021-04-09T16:34:35.710219Z",
     "start_time": "2021-04-09T16:34:35.698250Z"
    }
   },
   "outputs": [],
   "source": [
    "df2 = pd.concat([X_encoded, Y], axis=1)"
   ]
  },
  {
   "cell_type": "code",
   "execution_count": 15,
   "metadata": {
    "ExecuteTime": {
     "end_time": "2021-04-09T16:34:35.756094Z",
     "start_time": "2021-04-09T16:34:35.714209Z"
    }
   },
   "outputs": [
    {
     "data": {
      "text/html": [
       "<div>\n",
       "<style scoped>\n",
       "    .dataframe tbody tr th:only-of-type {\n",
       "        vertical-align: middle;\n",
       "    }\n",
       "\n",
       "    .dataframe tbody tr th {\n",
       "        vertical-align: top;\n",
       "    }\n",
       "\n",
       "    .dataframe thead th {\n",
       "        text-align: right;\n",
       "    }\n",
       "</style>\n",
       "<table border=\"1\" class=\"dataframe\">\n",
       "  <thead>\n",
       "    <tr style=\"text-align: right;\">\n",
       "      <th></th>\n",
       "      <th>Make</th>\n",
       "      <th>Year</th>\n",
       "      <th>Model</th>\n",
       "      <th>Mileage In</th>\n",
       "    </tr>\n",
       "  </thead>\n",
       "  <tbody>\n",
       "    <tr>\n",
       "      <th>count</th>\n",
       "      <td>30585.000000</td>\n",
       "      <td>30585.000000</td>\n",
       "      <td>30585.000000</td>\n",
       "      <td>3.058500e+04</td>\n",
       "    </tr>\n",
       "    <tr>\n",
       "      <th>mean</th>\n",
       "      <td>5783.878143</td>\n",
       "      <td>2491.103973</td>\n",
       "      <td>1204.914141</td>\n",
       "      <td>7.776626e+04</td>\n",
       "    </tr>\n",
       "    <tr>\n",
       "      <th>std</th>\n",
       "      <td>3934.406442</td>\n",
       "      <td>1197.734534</td>\n",
       "      <td>1324.951151</td>\n",
       "      <td>7.057198e+04</td>\n",
       "    </tr>\n",
       "    <tr>\n",
       "      <th>min</th>\n",
       "      <td>10.000000</td>\n",
       "      <td>18.000000</td>\n",
       "      <td>1.000000</td>\n",
       "      <td>0.000000e+00</td>\n",
       "    </tr>\n",
       "    <tr>\n",
       "      <th>25%</th>\n",
       "      <td>2748.000000</td>\n",
       "      <td>1464.000000</td>\n",
       "      <td>265.000000</td>\n",
       "      <td>3.940500e+04</td>\n",
       "    </tr>\n",
       "    <tr>\n",
       "      <th>50%</th>\n",
       "      <td>4944.000000</td>\n",
       "      <td>2719.000000</td>\n",
       "      <td>616.000000</td>\n",
       "      <td>6.435900e+04</td>\n",
       "    </tr>\n",
       "    <tr>\n",
       "      <th>75%</th>\n",
       "      <td>10820.000000</td>\n",
       "      <td>3898.000000</td>\n",
       "      <td>1716.000000</td>\n",
       "      <td>1.013470e+05</td>\n",
       "    </tr>\n",
       "    <tr>\n",
       "      <th>max</th>\n",
       "      <td>10820.000000</td>\n",
       "      <td>4061.000000</td>\n",
       "      <td>4217.000000</td>\n",
       "      <td>3.021518e+06</td>\n",
       "    </tr>\n",
       "  </tbody>\n",
       "</table>\n",
       "</div>"
      ],
      "text/plain": [
       "               Make          Year         Model    Mileage In\n",
       "count  30585.000000  30585.000000  30585.000000  3.058500e+04\n",
       "mean    5783.878143   2491.103973   1204.914141  7.776626e+04\n",
       "std     3934.406442   1197.734534   1324.951151  7.057198e+04\n",
       "min       10.000000     18.000000      1.000000  0.000000e+00\n",
       "25%     2748.000000   1464.000000    265.000000  3.940500e+04\n",
       "50%     4944.000000   2719.000000    616.000000  6.435900e+04\n",
       "75%    10820.000000   3898.000000   1716.000000  1.013470e+05\n",
       "max    10820.000000   4061.000000   4217.000000  3.021518e+06"
      ]
     },
     "execution_count": 15,
     "metadata": {},
     "output_type": "execute_result"
    }
   ],
   "source": [
    "df2.describe()"
   ]
  },
  {
   "cell_type": "code",
   "execution_count": 16,
   "metadata": {
    "ExecuteTime": {
     "end_time": "2021-04-09T16:34:35.772053Z",
     "start_time": "2021-04-09T16:34:35.758091Z"
    }
   },
   "outputs": [
    {
     "data": {
      "text/html": [
       "<div>\n",
       "<style scoped>\n",
       "    .dataframe tbody tr th:only-of-type {\n",
       "        vertical-align: middle;\n",
       "    }\n",
       "\n",
       "    .dataframe tbody tr th {\n",
       "        vertical-align: top;\n",
       "    }\n",
       "\n",
       "    .dataframe thead th {\n",
       "        text-align: right;\n",
       "    }\n",
       "</style>\n",
       "<table border=\"1\" class=\"dataframe\">\n",
       "  <thead>\n",
       "    <tr style=\"text-align: right;\">\n",
       "      <th></th>\n",
       "      <th>Make</th>\n",
       "      <th>Year</th>\n",
       "      <th>Model</th>\n",
       "      <th>Mileage In</th>\n",
       "      <th>Service Category</th>\n",
       "    </tr>\n",
       "    <tr>\n",
       "      <th>Primary Key</th>\n",
       "      <th></th>\n",
       "      <th></th>\n",
       "      <th></th>\n",
       "      <th></th>\n",
       "      <th></th>\n",
       "    </tr>\n",
       "  </thead>\n",
       "  <tbody>\n",
       "    <tr>\n",
       "      <th>17</th>\n",
       "      <td>2748</td>\n",
       "      <td>2009</td>\n",
       "      <td>246</td>\n",
       "      <td>68624</td>\n",
       "      <td>Engine</td>\n",
       "    </tr>\n",
       "    <tr>\n",
       "      <th>18</th>\n",
       "      <td>2748</td>\n",
       "      <td>2009</td>\n",
       "      <td>246</td>\n",
       "      <td>68624</td>\n",
       "      <td>Engine</td>\n",
       "    </tr>\n",
       "    <tr>\n",
       "      <th>19</th>\n",
       "      <td>2748</td>\n",
       "      <td>2009</td>\n",
       "      <td>246</td>\n",
       "      <td>68624</td>\n",
       "      <td>Engine</td>\n",
       "    </tr>\n",
       "    <tr>\n",
       "      <th>20</th>\n",
       "      <td>2748</td>\n",
       "      <td>2009</td>\n",
       "      <td>246</td>\n",
       "      <td>68624</td>\n",
       "      <td>Engine</td>\n",
       "    </tr>\n",
       "    <tr>\n",
       "      <th>21</th>\n",
       "      <td>2748</td>\n",
       "      <td>2009</td>\n",
       "      <td>246</td>\n",
       "      <td>68624</td>\n",
       "      <td>Engine</td>\n",
       "    </tr>\n",
       "    <tr>\n",
       "      <th>...</th>\n",
       "      <td>...</td>\n",
       "      <td>...</td>\n",
       "      <td>...</td>\n",
       "      <td>...</td>\n",
       "      <td>...</td>\n",
       "    </tr>\n",
       "    <tr>\n",
       "      <th>43003</th>\n",
       "      <td>10820</td>\n",
       "      <td>436</td>\n",
       "      <td>685</td>\n",
       "      <td>24616</td>\n",
       "      <td>Change Oil</td>\n",
       "    </tr>\n",
       "    <tr>\n",
       "      <th>43004</th>\n",
       "      <td>10820</td>\n",
       "      <td>436</td>\n",
       "      <td>685</td>\n",
       "      <td>24616</td>\n",
       "      <td>Change Oil</td>\n",
       "    </tr>\n",
       "    <tr>\n",
       "      <th>43005</th>\n",
       "      <td>10820</td>\n",
       "      <td>436</td>\n",
       "      <td>685</td>\n",
       "      <td>24616</td>\n",
       "      <td>Change Oil</td>\n",
       "    </tr>\n",
       "    <tr>\n",
       "      <th>43006</th>\n",
       "      <td>10820</td>\n",
       "      <td>436</td>\n",
       "      <td>685</td>\n",
       "      <td>24616</td>\n",
       "      <td>Change Oil</td>\n",
       "    </tr>\n",
       "    <tr>\n",
       "      <th>43007</th>\n",
       "      <td>10820</td>\n",
       "      <td>436</td>\n",
       "      <td>685</td>\n",
       "      <td>24616</td>\n",
       "      <td>Change Oil</td>\n",
       "    </tr>\n",
       "  </tbody>\n",
       "</table>\n",
       "<p>30585 rows × 5 columns</p>\n",
       "</div>"
      ],
      "text/plain": [
       "              Make  Year  Model  Mileage In Service Category\n",
       "Primary Key                                                 \n",
       "17            2748  2009    246       68624           Engine\n",
       "18            2748  2009    246       68624           Engine\n",
       "19            2748  2009    246       68624           Engine\n",
       "20            2748  2009    246       68624           Engine\n",
       "21            2748  2009    246       68624           Engine\n",
       "...            ...   ...    ...         ...              ...\n",
       "43003        10820   436    685       24616       Change Oil\n",
       "43004        10820   436    685       24616       Change Oil\n",
       "43005        10820   436    685       24616       Change Oil\n",
       "43006        10820   436    685       24616       Change Oil\n",
       "43007        10820   436    685       24616       Change Oil\n",
       "\n",
       "[30585 rows x 5 columns]"
      ]
     },
     "execution_count": 16,
     "metadata": {},
     "output_type": "execute_result"
    }
   ],
   "source": [
    "df2"
   ]
  },
  {
   "cell_type": "code",
   "execution_count": 17,
   "metadata": {
    "ExecuteTime": {
     "end_time": "2021-04-09T16:34:35.993460Z",
     "start_time": "2021-04-09T16:34:35.775045Z"
    }
   },
   "outputs": [],
   "source": [
    "df3 = df2.groupby(list(X_encoded.columns)).agg(list)"
   ]
  },
  {
   "cell_type": "code",
   "execution_count": 18,
   "metadata": {
    "ExecuteTime": {
     "end_time": "2021-04-09T16:34:36.025375Z",
     "start_time": "2021-04-09T16:34:35.995455Z"
    }
   },
   "outputs": [
    {
     "data": {
      "text/html": [
       "<div>\n",
       "<style scoped>\n",
       "    .dataframe tbody tr th:only-of-type {\n",
       "        vertical-align: middle;\n",
       "    }\n",
       "\n",
       "    .dataframe tbody tr th {\n",
       "        vertical-align: top;\n",
       "    }\n",
       "\n",
       "    .dataframe thead th {\n",
       "        text-align: right;\n",
       "    }\n",
       "</style>\n",
       "<table border=\"1\" class=\"dataframe\">\n",
       "  <thead>\n",
       "    <tr style=\"text-align: right;\">\n",
       "      <th></th>\n",
       "      <th></th>\n",
       "      <th></th>\n",
       "      <th></th>\n",
       "      <th>Service Category</th>\n",
       "    </tr>\n",
       "    <tr>\n",
       "      <th>Make</th>\n",
       "      <th>Year</th>\n",
       "      <th>Model</th>\n",
       "      <th>Mileage In</th>\n",
       "      <th></th>\n",
       "    </tr>\n",
       "  </thead>\n",
       "  <tbody>\n",
       "    <tr>\n",
       "      <th rowspan=\"2\" valign=\"top\">10</th>\n",
       "      <th>2009</th>\n",
       "      <th>1</th>\n",
       "      <th>89156</th>\n",
       "      <td>[Complete Vehicle Inspection]</td>\n",
       "    </tr>\n",
       "    <tr>\n",
       "      <th>2767</th>\n",
       "      <th>9</th>\n",
       "      <th>48479</th>\n",
       "      <td>[Change Oil, Change Oil, Change Oil, Change Oi...</td>\n",
       "    </tr>\n",
       "    <tr>\n",
       "      <th>13</th>\n",
       "      <th>713</th>\n",
       "      <th>13</th>\n",
       "      <th>17028</th>\n",
       "      <td>[Engine Oil / Oil Filter, Minor Preventive Mai...</td>\n",
       "    </tr>\n",
       "    <tr>\n",
       "      <th rowspan=\"2\" valign=\"top\">18</th>\n",
       "      <th rowspan=\"2\" valign=\"top\">2009</th>\n",
       "      <th rowspan=\"2\" valign=\"top\">18</th>\n",
       "      <th>25889</th>\n",
       "      <td>[Minor Preventive Maintenance Service, Minor P...</td>\n",
       "    </tr>\n",
       "    <tr>\n",
       "      <th>85889</th>\n",
       "      <td>[HVAC (Heating, Ventilation &amp; Air Conditioning...</td>\n",
       "    </tr>\n",
       "    <tr>\n",
       "      <th>...</th>\n",
       "      <th>...</th>\n",
       "      <th>...</th>\n",
       "      <th>...</th>\n",
       "      <td>...</td>\n",
       "    </tr>\n",
       "    <tr>\n",
       "      <th rowspan=\"5\" valign=\"top\">10820</th>\n",
       "      <th rowspan=\"5\" valign=\"top\">4061</th>\n",
       "      <th rowspan=\"5\" valign=\"top\">4217</th>\n",
       "      <th>170588</th>\n",
       "      <td>[Complete Vehicle Inspection]</td>\n",
       "    </tr>\n",
       "    <tr>\n",
       "      <th>170894</th>\n",
       "      <td>[Engine, Engine]</td>\n",
       "    </tr>\n",
       "    <tr>\n",
       "      <th>185270</th>\n",
       "      <td>[Brakes, Minor Preventive Maintenance Service,...</td>\n",
       "    </tr>\n",
       "    <tr>\n",
       "      <th>188430</th>\n",
       "      <td>[Engine, Engine]</td>\n",
       "    </tr>\n",
       "    <tr>\n",
       "      <th>404550</th>\n",
       "      <td>[Batteries]</td>\n",
       "    </tr>\n",
       "  </tbody>\n",
       "</table>\n",
       "<p>4986 rows × 1 columns</p>\n",
       "</div>"
      ],
      "text/plain": [
       "                                                              Service Category\n",
       "Make  Year Model Mileage In                                                   \n",
       "10    2009 1     89156                           [Complete Vehicle Inspection]\n",
       "      2767 9     48479       [Change Oil, Change Oil, Change Oil, Change Oi...\n",
       "13    713  13    17028       [Engine Oil / Oil Filter, Minor Preventive Mai...\n",
       "18    2009 18    25889       [Minor Preventive Maintenance Service, Minor P...\n",
       "                 85889       [HVAC (Heating, Ventilation & Air Conditioning...\n",
       "...                                                                        ...\n",
       "10820 4061 4217  170588                          [Complete Vehicle Inspection]\n",
       "                 170894                                       [Engine, Engine]\n",
       "                 185270      [Brakes, Minor Preventive Maintenance Service,...\n",
       "                 188430                                       [Engine, Engine]\n",
       "                 404550                                            [Batteries]\n",
       "\n",
       "[4986 rows x 1 columns]"
      ]
     },
     "execution_count": 18,
     "metadata": {},
     "output_type": "execute_result"
    }
   ],
   "source": [
    "df3"
   ]
  },
  {
   "cell_type": "code",
   "execution_count": 19,
   "metadata": {
    "ExecuteTime": {
     "end_time": "2021-04-09T16:34:36.041333Z",
     "start_time": "2021-04-09T16:34:36.028371Z"
    }
   },
   "outputs": [],
   "source": [
    "df3 = df3.reset_index()"
   ]
  },
  {
   "cell_type": "code",
   "execution_count": 20,
   "metadata": {
    "ExecuteTime": {
     "end_time": "2021-04-09T16:34:36.153034Z",
     "start_time": "2021-04-09T16:34:36.044326Z"
    }
   },
   "outputs": [],
   "source": [
    "df3['Service Category'] = df3['Service Category'].apply(np.unique)"
   ]
  },
  {
   "cell_type": "code",
   "execution_count": 21,
   "metadata": {
    "ExecuteTime": {
     "end_time": "2021-04-09T16:34:36.168993Z",
     "start_time": "2021-04-09T16:34:36.156027Z"
    }
   },
   "outputs": [],
   "source": [
    "mlb = MultiLabelBinarizer()"
   ]
  },
  {
   "cell_type": "code",
   "execution_count": 22,
   "metadata": {
    "ExecuteTime": {
     "end_time": "2021-04-09T16:34:36.232820Z",
     "start_time": "2021-04-09T16:34:36.172981Z"
    }
   },
   "outputs": [],
   "source": [
    "df4 = df3.join(pd.DataFrame(mlb.fit_transform(df3.pop('Service Category')),\n",
    "                          columns=mlb.classes_,\n",
    "                          index=df3.index))"
   ]
  },
  {
   "cell_type": "code",
   "execution_count": 23,
   "metadata": {
    "ExecuteTime": {
     "end_time": "2021-04-09T16:34:36.248778Z",
     "start_time": "2021-04-09T16:34:36.238805Z"
    }
   },
   "outputs": [],
   "source": [
    "X = df4[list(X_encoded.columns)]"
   ]
  },
  {
   "cell_type": "code",
   "execution_count": 24,
   "metadata": {
    "ExecuteTime": {
     "end_time": "2021-04-09T16:34:36.264735Z",
     "start_time": "2021-04-09T16:34:36.252768Z"
    }
   },
   "outputs": [],
   "source": [
    "Y = df4.iloc[:,-17:]"
   ]
  },
  {
   "cell_type": "code",
   "execution_count": 25,
   "metadata": {
    "ExecuteTime": {
     "end_time": "2021-04-09T16:34:36.373444Z",
     "start_time": "2021-04-09T16:34:36.268724Z"
    }
   },
   "outputs": [
    {
     "data": {
      "text/plain": [
       "Counter({(4, 4): 1111,\n",
       "         (3, 3): 791,\n",
       "         (5, 10): 90,\n",
       "         (2, 2): 2054,\n",
       "         (2, 5): 116,\n",
       "         (2, 11): 614,\n",
       "         (11, 14): 390,\n",
       "         (11, 11): 665,\n",
       "         (2, 8): 279,\n",
       "         (2, 14): 1164,\n",
       "         (8, 11): 130,\n",
       "         (8, 8): 508,\n",
       "         (8, 14): 145,\n",
       "         (10, 11): 549,\n",
       "         (10, 14): 1053,\n",
       "         (2, 10): 1466,\n",
       "         (5, 5): 291,\n",
       "         (5, 11): 59,\n",
       "         (14, 14): 1181,\n",
       "         (5, 8): 39,\n",
       "         (5, 14): 86,\n",
       "         (8, 10): 210,\n",
       "         (10, 10): 1487,\n",
       "         (12, 12): 322,\n",
       "         (9, 13): 26,\n",
       "         (4, 13): 46,\n",
       "         (9, 9): 304,\n",
       "         (4, 9): 72,\n",
       "         (13, 13): 444,\n",
       "         (7, 7): 358,\n",
       "         (15, 15): 263,\n",
       "         (0, 0): 216,\n",
       "         (0, 10): 68,\n",
       "         (0, 2): 93,\n",
       "         (0, 14): 72,\n",
       "         (0, 12): 16,\n",
       "         (2, 12): 131,\n",
       "         (3, 4): 52,\n",
       "         (3, 7): 28,\n",
       "         (1, 1): 143,\n",
       "         (1, 4): 11,\n",
       "         (1, 7): 4,\n",
       "         (1, 3): 3,\n",
       "         (4, 7): 65,\n",
       "         (4, 10): 79,\n",
       "         (2, 4): 190,\n",
       "         (4, 8): 96,\n",
       "         (9, 12): 25,\n",
       "         (4, 12): 61,\n",
       "         (8, 9): 49,\n",
       "         (8, 12): 40,\n",
       "         (4, 6): 17,\n",
       "         (3, 16): 17,\n",
       "         (16, 16): 277,\n",
       "         (7, 16): 26,\n",
       "         (3, 6): 7,\n",
       "         (0, 7): 17,\n",
       "         (0, 4): 24,\n",
       "         (0, 16): 13,\n",
       "         (2, 7): 115,\n",
       "         (2, 16): 87,\n",
       "         (6, 7): 8,\n",
       "         (6, 16): 8,\n",
       "         (4, 16): 44,\n",
       "         (0, 3): 17,\n",
       "         (0, 6): 2,\n",
       "         (2, 3): 113,\n",
       "         (2, 6): 21,\n",
       "         (6, 6): 62,\n",
       "         (10, 12): 94,\n",
       "         (12, 14): 79,\n",
       "         (9, 14): 49,\n",
       "         (7, 10): 77,\n",
       "         (9, 10): 62,\n",
       "         (7, 9): 32,\n",
       "         (0, 9): 20,\n",
       "         (2, 9): 106,\n",
       "         (7, 14): 65,\n",
       "         (10, 15): 29,\n",
       "         (2, 15): 43,\n",
       "         (14, 15): 28,\n",
       "         (3, 10): 8,\n",
       "         (3, 9): 28,\n",
       "         (3, 12): 16,\n",
       "         (3, 14): 69,\n",
       "         (12, 13): 19,\n",
       "         (0, 8): 36,\n",
       "         (11, 12): 55,\n",
       "         (8, 16): 26,\n",
       "         (7, 8): 44,\n",
       "         (9, 11): 49,\n",
       "         (4, 14): 69,\n",
       "         (4, 11): 74,\n",
       "         (7, 11): 26,\n",
       "         (4, 5): 74,\n",
       "         (5, 12): 33,\n",
       "         (3, 8): 39,\n",
       "         (3, 11): 27,\n",
       "         (0, 15): 5,\n",
       "         (11, 16): 38,\n",
       "         (5, 16): 31,\n",
       "         (10, 16): 51,\n",
       "         (5, 7): 22,\n",
       "         (14, 16): 49,\n",
       "         (15, 16): 9,\n",
       "         (0, 11): 46,\n",
       "         (1, 13): 6,\n",
       "         (2, 13): 60,\n",
       "         (0, 5): 17,\n",
       "         (3, 15): 11,\n",
       "         (6, 9): 16,\n",
       "         (5, 15): 3,\n",
       "         (8, 15): 8,\n",
       "         (9, 16): 35,\n",
       "         (13, 16): 19,\n",
       "         (11, 13): 40,\n",
       "         (8, 13): 25,\n",
       "         (6, 8): 10,\n",
       "         (6, 14): 7,\n",
       "         (6, 10): 10,\n",
       "         (9, 15): 7,\n",
       "         (7, 12): 41,\n",
       "         (7, 13): 26,\n",
       "         (6, 11): 6,\n",
       "         (3, 13): 8,\n",
       "         (3, 5): 16,\n",
       "         (0, 13): 12,\n",
       "         (4, 15): 12,\n",
       "         (1, 16): 5,\n",
       "         (0, 1): 3,\n",
       "         (6, 12): 6,\n",
       "         (5, 6): 7,\n",
       "         (11, 15): 13,\n",
       "         (12, 16): 19,\n",
       "         (5, 9): 36,\n",
       "         (1, 8): 9,\n",
       "         (6, 15): 2,\n",
       "         (6, 13): 6,\n",
       "         (12, 15): 3,\n",
       "         (1, 2): 8,\n",
       "         (5, 13): 15,\n",
       "         (1, 9): 7,\n",
       "         (1, 12): 2,\n",
       "         (1, 11): 3,\n",
       "         (1, 14): 3,\n",
       "         (1, 10): 5,\n",
       "         (1, 5): 3,\n",
       "         (1, 15): 17,\n",
       "         (13, 15): 4,\n",
       "         (1, 6): 1})"
      ]
     },
     "execution_count": 25,
     "metadata": {},
     "output_type": "execute_result"
    }
   ],
   "source": [
    "Counter(combination for row in get_combination_wise_output_matrix(Y.to_numpy(), order=2) for combination in row)"
   ]
  },
  {
   "cell_type": "code",
   "execution_count": 26,
   "metadata": {
    "ExecuteTime": {
     "end_time": "2021-04-09T16:34:36.754424Z",
     "start_time": "2021-04-09T16:34:36.376437Z"
    },
    "scrolled": true
   },
   "outputs": [],
   "source": [
    "X_train, Y_train, X_test, Y_test = iterative_train_test_split(X.to_numpy(), Y.to_numpy(), test_size = 0.2)"
   ]
  },
  {
   "cell_type": "code",
   "execution_count": 27,
   "metadata": {
    "ExecuteTime": {
     "end_time": "2021-04-09T16:34:36.992787Z",
     "start_time": "2021-04-09T16:34:36.756420Z"
    },
    "scrolled": true
   },
   "outputs": [
    {
     "data": {
      "text/html": [
       "<div>\n",
       "<style scoped>\n",
       "    .dataframe tbody tr th:only-of-type {\n",
       "        vertical-align: middle;\n",
       "    }\n",
       "\n",
       "    .dataframe tbody tr th {\n",
       "        vertical-align: top;\n",
       "    }\n",
       "\n",
       "    .dataframe thead th {\n",
       "        text-align: right;\n",
       "    }\n",
       "</style>\n",
       "<table border=\"1\" class=\"dataframe\">\n",
       "  <thead>\n",
       "    <tr style=\"text-align: right;\">\n",
       "      <th></th>\n",
       "      <th>(4, 4)</th>\n",
       "      <th>(3, 3)</th>\n",
       "      <th>(5, 10)</th>\n",
       "      <th>(2, 2)</th>\n",
       "      <th>(2, 5)</th>\n",
       "      <th>(2, 11)</th>\n",
       "      <th>(11, 14)</th>\n",
       "      <th>(11, 11)</th>\n",
       "      <th>(2, 8)</th>\n",
       "      <th>(2, 14)</th>\n",
       "      <th>...</th>\n",
       "      <th>(3, 13)</th>\n",
       "      <th>(0, 15)</th>\n",
       "      <th>(1, 5)</th>\n",
       "      <th>(1, 15)</th>\n",
       "      <th>(13, 16)</th>\n",
       "      <th>(12, 15)</th>\n",
       "      <th>(13, 15)</th>\n",
       "      <th>(1, 7)</th>\n",
       "      <th>(0, 1)</th>\n",
       "      <th>(1, 6)</th>\n",
       "    </tr>\n",
       "  </thead>\n",
       "  <tbody>\n",
       "    <tr>\n",
       "      <th>train</th>\n",
       "      <td>889.0</td>\n",
       "      <td>633.0</td>\n",
       "      <td>73.0</td>\n",
       "      <td>1643.0</td>\n",
       "      <td>93.0</td>\n",
       "      <td>491.0</td>\n",
       "      <td>315.0</td>\n",
       "      <td>526.0</td>\n",
       "      <td>223.0</td>\n",
       "      <td>931.0</td>\n",
       "      <td>...</td>\n",
       "      <td>6.0</td>\n",
       "      <td>4.0</td>\n",
       "      <td>3.0</td>\n",
       "      <td>14.0</td>\n",
       "      <td>15.0</td>\n",
       "      <td>2.0</td>\n",
       "      <td>3.0</td>\n",
       "      <td>3.0</td>\n",
       "      <td>2.0</td>\n",
       "      <td>1.0</td>\n",
       "    </tr>\n",
       "    <tr>\n",
       "      <th>test</th>\n",
       "      <td>222.0</td>\n",
       "      <td>158.0</td>\n",
       "      <td>17.0</td>\n",
       "      <td>411.0</td>\n",
       "      <td>23.0</td>\n",
       "      <td>123.0</td>\n",
       "      <td>75.0</td>\n",
       "      <td>139.0</td>\n",
       "      <td>56.0</td>\n",
       "      <td>233.0</td>\n",
       "      <td>...</td>\n",
       "      <td>2.0</td>\n",
       "      <td>1.0</td>\n",
       "      <td>0.0</td>\n",
       "      <td>3.0</td>\n",
       "      <td>4.0</td>\n",
       "      <td>1.0</td>\n",
       "      <td>1.0</td>\n",
       "      <td>1.0</td>\n",
       "      <td>1.0</td>\n",
       "      <td>0.0</td>\n",
       "    </tr>\n",
       "  </tbody>\n",
       "</table>\n",
       "<p>2 rows × 150 columns</p>\n",
       "</div>"
      ],
      "text/plain": [
       "       (4, 4)  (3, 3)  (5, 10)  (2, 2)  (2, 5)  (2, 11)  (11, 14)  (11, 11)  \\\n",
       "train   889.0   633.0     73.0  1643.0    93.0    491.0     315.0     526.0   \n",
       "test    222.0   158.0     17.0   411.0    23.0    123.0      75.0     139.0   \n",
       "\n",
       "       (2, 8)  (2, 14)  ...  (3, 13)  (0, 15)  (1, 5)  (1, 15)  (13, 16)  \\\n",
       "train   223.0    931.0  ...      6.0      4.0     3.0     14.0      15.0   \n",
       "test     56.0    233.0  ...      2.0      1.0     0.0      3.0       4.0   \n",
       "\n",
       "       (12, 15)  (13, 15)  (1, 7)  (0, 1)  (1, 6)  \n",
       "train       2.0       3.0     3.0     2.0     1.0  \n",
       "test        1.0       1.0     1.0     1.0     0.0  \n",
       "\n",
       "[2 rows x 150 columns]"
      ]
     },
     "execution_count": 27,
     "metadata": {},
     "output_type": "execute_result"
    }
   ],
   "source": [
    "split = pd.DataFrame({\n",
    "    'train': Counter(str(combination) for row in get_combination_wise_output_matrix(Y_train, order=2) for combination in row),\n",
    "    'test' : Counter(str(combination) for row in get_combination_wise_output_matrix(Y_test, order=2) for combination in row)\n",
    "}).T.fillna(0.0)\n",
    "\n",
    "split"
   ]
  },
  {
   "cell_type": "code",
   "execution_count": 28,
   "metadata": {
    "ExecuteTime": {
     "end_time": "2021-04-09T16:34:37.008745Z",
     "start_time": "2021-04-09T16:34:36.994783Z"
    }
   },
   "outputs": [
    {
     "name": "stdout",
     "output_type": "stream",
     "text": [
      "(4004, 4) (982, 4) (4004, 17) (982, 17)\n"
     ]
    }
   ],
   "source": [
    "print(X_train.shape, X_test.shape, Y_train.shape, Y_test.shape)"
   ]
  },
  {
   "cell_type": "code",
   "execution_count": 29,
   "metadata": {
    "ExecuteTime": {
     "end_time": "2021-04-09T16:34:37.024702Z",
     "start_time": "2021-04-09T16:34:37.010740Z"
    }
   },
   "outputs": [],
   "source": [
    "X_train = pd.DataFrame(X_train ,columns=X.columns)\n",
    "X_test = pd.DataFrame(X_test, columns=X.columns)\n",
    "\n",
    "Y_train = pd.DataFrame(Y_train, columns=Y.columns)\n",
    "Y_test = pd.DataFrame(Y_test, columns=Y.columns)"
   ]
  },
  {
   "cell_type": "code",
   "execution_count": 30,
   "metadata": {
    "ExecuteTime": {
     "end_time": "2021-04-09T16:34:37.040659Z",
     "start_time": "2021-04-09T16:34:37.026697Z"
    }
   },
   "outputs": [],
   "source": [
    "jaccard = make_scorer(jaccard_score, average='samples')"
   ]
  },
  {
   "cell_type": "code",
   "execution_count": null,
   "metadata": {},
   "outputs": [],
   "source": []
  },
  {
   "cell_type": "code",
   "execution_count": null,
   "metadata": {},
   "outputs": [],
   "source": []
  },
  {
   "cell_type": "code",
   "execution_count": 100,
   "metadata": {
    "ExecuteTime": {
     "end_time": "2021-04-09T11:07:06.835733Z",
     "start_time": "2021-04-09T11:07:06.830708Z"
    }
   },
   "outputs": [],
   "source": [
    "model = RandomForestClassifier(random_state=13)"
   ]
  },
  {
   "cell_type": "code",
   "execution_count": 101,
   "metadata": {
    "ExecuteTime": {
     "end_time": "2021-04-09T11:07:15.338521Z",
     "start_time": "2021-04-09T11:07:07.793698Z"
    }
   },
   "outputs": [
    {
     "data": {
      "text/plain": [
       "0.12409489774686404"
      ]
     },
     "execution_count": 101,
     "metadata": {},
     "output_type": "execute_result"
    }
   ],
   "source": [
    "cv_score = cross_val_score(model, X_train, Y_train, cv=5, scoring=jaccard)\n",
    "cv_score.mean()"
   ]
  },
  {
   "cell_type": "code",
   "execution_count": 102,
   "metadata": {
    "ExecuteTime": {
     "end_time": "2021-04-09T11:07:17.273457Z",
     "start_time": "2021-04-09T11:07:15.341507Z"
    }
   },
   "outputs": [
    {
     "data": {
      "text/plain": [
       "RandomForestClassifier(random_state=13)"
      ]
     },
     "execution_count": 102,
     "metadata": {},
     "output_type": "execute_result"
    }
   ],
   "source": [
    "model.fit(X_train, Y_train)"
   ]
  },
  {
   "cell_type": "code",
   "execution_count": 103,
   "metadata": {
    "ExecuteTime": {
     "end_time": "2021-04-09T11:07:17.431886Z",
     "start_time": "2021-04-09T11:07:17.275392Z"
    }
   },
   "outputs": [],
   "source": [
    "y_pred = model.predict(X_test)"
   ]
  },
  {
   "cell_type": "code",
   "execution_count": 104,
   "metadata": {
    "ExecuteTime": {
     "end_time": "2021-04-09T11:07:17.447172Z",
     "start_time": "2021-04-09T11:07:17.434209Z"
    }
   },
   "outputs": [
    {
     "data": {
      "text/plain": [
       "0.17994961972581505"
      ]
     },
     "execution_count": 104,
     "metadata": {},
     "output_type": "execute_result"
    }
   ],
   "source": [
    "jaccard_score(Y_test, y_pred, average='samples')"
   ]
  },
  {
   "cell_type": "code",
   "execution_count": null,
   "metadata": {},
   "outputs": [],
   "source": []
  },
  {
   "cell_type": "code",
   "execution_count": null,
   "metadata": {},
   "outputs": [],
   "source": []
  },
  {
   "cell_type": "code",
   "execution_count": 71,
   "metadata": {
    "ExecuteTime": {
     "end_time": "2021-04-09T13:52:09.827205Z",
     "start_time": "2021-04-09T13:52:09.815233Z"
    }
   },
   "outputs": [
    {
     "data": {
      "text/plain": [
       "Meka(java_command='C:/Program Files (x86)/Java/jre1.8.0_281/bin/java',\n",
       "     meka_classifier='meka.classifiers.multilabel.BR',\n",
       "     meka_classpath='C:\\\\Users\\\\Nico\\\\scikit_ml_learn_data\\\\meka\\\\meka-release-1.9.2\\\\lib\\\\',\n",
       "     weka_classifier='weka.classifiers.trees.RandomForest')"
      ]
     },
     "execution_count": 71,
     "metadata": {},
     "output_type": "execute_result"
    }
   ],
   "source": [
    "meka = Meka(\n",
    "        meka_classifier = \"meka.classifiers.multilabel.BR\", # Binary Relevance\n",
    "        weka_classifier = \"weka.classifiers.trees.RandomForest\", # with Naive Bayes single-label classifier\n",
    "        meka_classpath = meka_classpath, #obtained via download_meka\n",
    "        java_command = 'C:/Program Files (x86)/Java/jre1.8.0_281/bin/java' # path to java executable\n",
    ")\n",
    "meka"
   ]
  },
  {
   "cell_type": "code",
   "execution_count": 72,
   "metadata": {
    "ExecuteTime": {
     "end_time": "2021-04-09T13:55:02.739912Z",
     "start_time": "2021-04-09T13:52:09.830196Z"
    },
    "scrolled": true
   },
   "outputs": [
    {
     "data": {
      "text/plain": [
       "0.2114228225382954"
      ]
     },
     "execution_count": 72,
     "metadata": {},
     "output_type": "execute_result"
    }
   ],
   "source": [
    "cv_score = cross_val_score(meka, X_train, Y_train, cv=5, scoring=jaccard)\n",
    "cv_score.mean()"
   ]
  },
  {
   "cell_type": "code",
   "execution_count": 73,
   "metadata": {
    "ExecuteTime": {
     "end_time": "2021-04-09T13:55:40.371687Z",
     "start_time": "2021-04-09T13:55:02.741910Z"
    }
   },
   "outputs": [
    {
     "data": {
      "text/plain": [
       "Meka(java_command='C:/Program Files (x86)/Java/jre1.8.0_281/bin/java',\n",
       "     meka_classifier='meka.classifiers.multilabel.BR',\n",
       "     meka_classpath='C:\\\\Users\\\\Nico\\\\scikit_ml_learn_data\\\\meka\\\\meka-release-1.9.2\\\\lib\\\\',\n",
       "     weka_classifier='weka.classifiers.trees.RandomForest')"
      ]
     },
     "execution_count": 73,
     "metadata": {},
     "output_type": "execute_result"
    }
   ],
   "source": [
    "meka.fit(X_train, Y_train)"
   ]
  },
  {
   "cell_type": "code",
   "execution_count": 74,
   "metadata": {
    "ExecuteTime": {
     "end_time": "2021-04-09T13:55:48.847672Z",
     "start_time": "2021-04-09T13:55:40.373359Z"
    }
   },
   "outputs": [],
   "source": [
    "y_pred = meka.predict(X_test)"
   ]
  },
  {
   "cell_type": "code",
   "execution_count": 75,
   "metadata": {
    "ExecuteTime": {
     "end_time": "2021-04-09T13:55:48.863070Z",
     "start_time": "2021-04-09T13:55:48.849103Z"
    }
   },
   "outputs": [
    {
     "data": {
      "text/plain": [
       "0.2717826058873871"
      ]
     },
     "execution_count": 75,
     "metadata": {},
     "output_type": "execute_result"
    }
   ],
   "source": [
    "jaccard_score(Y_test, y_pred, average='samples')"
   ]
  },
  {
   "cell_type": "code",
   "execution_count": null,
   "metadata": {},
   "outputs": [],
   "source": []
  },
  {
   "cell_type": "code",
   "execution_count": null,
   "metadata": {},
   "outputs": [],
   "source": []
  },
  {
   "cell_type": "code",
   "execution_count": 61,
   "metadata": {
    "ExecuteTime": {
     "end_time": "2021-04-09T13:20:25.529869Z",
     "start_time": "2021-04-09T13:20:25.520853Z"
    }
   },
   "outputs": [
    {
     "data": {
      "text/plain": [
       "Meka(java_command='C:/Program Files (x86)/Java/jre1.8.0_281/bin/java',\n",
       "     meka_classifier='meka.classifiers.multilabel.CC',\n",
       "     meka_classpath='C:\\\\Users\\\\Nico\\\\scikit_ml_learn_data\\\\meka\\\\meka-release-1.9.2\\\\lib\\\\',\n",
       "     weka_classifier='weka.classifiers.trees.RandomForest')"
      ]
     },
     "execution_count": 61,
     "metadata": {},
     "output_type": "execute_result"
    }
   ],
   "source": [
    "meka = Meka(\n",
    "        meka_classifier = \"meka.classifiers.multilabel.CC\", # Binary Relevance\n",
    "        weka_classifier = \"weka.classifiers.trees.RandomForest\", # with Naive Bayes single-label classifier\n",
    "        meka_classpath = meka_classpath, #obtained via download_meka\n",
    "        java_command = 'C:/Program Files (x86)/Java/jre1.8.0_281/bin/java' # path to java executable\n",
    ")\n",
    "meka"
   ]
  },
  {
   "cell_type": "code",
   "execution_count": 62,
   "metadata": {
    "ExecuteTime": {
     "end_time": "2021-04-09T13:23:08.056364Z",
     "start_time": "2021-04-09T13:20:31.341763Z"
    },
    "scrolled": true
   },
   "outputs": [
    {
     "data": {
      "text/plain": [
       "0.20511373654955117"
      ]
     },
     "execution_count": 62,
     "metadata": {},
     "output_type": "execute_result"
    }
   ],
   "source": [
    "cv_score = cross_val_score(meka, X_train, Y_train, cv=5, scoring=jaccard)\n",
    "cv_score.mean()"
   ]
  },
  {
   "cell_type": "code",
   "execution_count": 63,
   "metadata": {
    "ExecuteTime": {
     "end_time": "2021-04-09T13:23:40.430426Z",
     "start_time": "2021-04-09T13:23:08.058319Z"
    }
   },
   "outputs": [
    {
     "data": {
      "text/plain": [
       "Meka(java_command='C:/Program Files (x86)/Java/jre1.8.0_281/bin/java',\n",
       "     meka_classifier='meka.classifiers.multilabel.CC',\n",
       "     meka_classpath='C:\\\\Users\\\\Nico\\\\scikit_ml_learn_data\\\\meka\\\\meka-release-1.9.2\\\\lib\\\\',\n",
       "     weka_classifier='weka.classifiers.trees.RandomForest')"
      ]
     },
     "execution_count": 63,
     "metadata": {},
     "output_type": "execute_result"
    }
   ],
   "source": [
    "meka.fit(X_train, Y_train)"
   ]
  },
  {
   "cell_type": "code",
   "execution_count": 64,
   "metadata": {
    "ExecuteTime": {
     "end_time": "2021-04-09T13:23:48.192841Z",
     "start_time": "2021-04-09T13:23:40.432400Z"
    }
   },
   "outputs": [],
   "source": [
    "y_pred = meka.predict(X_test)"
   ]
  },
  {
   "cell_type": "code",
   "execution_count": 65,
   "metadata": {
    "ExecuteTime": {
     "end_time": "2021-04-09T13:23:48.208031Z",
     "start_time": "2021-04-09T13:23:48.194066Z"
    }
   },
   "outputs": [
    {
     "data": {
      "text/plain": [
       "0.2536283485927433"
      ]
     },
     "execution_count": 65,
     "metadata": {},
     "output_type": "execute_result"
    }
   ],
   "source": [
    "jaccard_score(Y_test, y_pred, average='samples')"
   ]
  },
  {
   "cell_type": "code",
   "execution_count": null,
   "metadata": {},
   "outputs": [],
   "source": []
  },
  {
   "cell_type": "code",
   "execution_count": null,
   "metadata": {},
   "outputs": [],
   "source": []
  },
  {
   "cell_type": "code",
   "execution_count": 66,
   "metadata": {
    "ExecuteTime": {
     "end_time": "2021-04-09T15:21:36.622154Z",
     "start_time": "2021-04-09T15:21:36.609189Z"
    }
   },
   "outputs": [
    {
     "data": {
      "text/plain": [
       "Meka(java_command='C:/Program Files (x86)/Java/jre1.8.0_281/bin/java',\n",
       "     meka_classifier='meka.classifiers.multilabel.CT',\n",
       "     meka_classpath='C:\\\\Users\\\\Nico\\\\scikit_ml_learn_data\\\\meka\\\\meka-release-1.9.2\\\\lib\\\\',\n",
       "     weka_classifier='weka.classifiers.trees.RandomForest')"
      ]
     },
     "execution_count": 66,
     "metadata": {},
     "output_type": "execute_result"
    }
   ],
   "source": [
    "meka = Meka(\n",
    "        meka_classifier = \"meka.classifiers.multilabel.CT\", # Binary Relevance\n",
    "        weka_classifier = \"weka.classifiers.trees.RandomForest\", # with Naive Bayes single-label classifier\n",
    "        meka_classpath = meka_classpath, #obtained via download_meka\n",
    "        java_command = 'C:/Program Files (x86)/Java/jre1.8.0_281/bin/java' # path to java executable\n",
    ")\n",
    "meka"
   ]
  },
  {
   "cell_type": "code",
   "execution_count": 67,
   "metadata": {
    "ExecuteTime": {
     "end_time": "2021-04-09T15:23:40.599585Z",
     "start_time": "2021-04-09T15:22:13.748849Z"
    },
    "scrolled": true
   },
   "outputs": [
    {
     "data": {
      "text/plain": [
       "0.14697472752313576"
      ]
     },
     "execution_count": 67,
     "metadata": {},
     "output_type": "execute_result"
    }
   ],
   "source": [
    "cv_score = cross_val_score(meka, X_train, Y_train, cv=5, scoring=jaccard)\n",
    "cv_score.mean()"
   ]
  },
  {
   "cell_type": "code",
   "execution_count": 68,
   "metadata": {
    "ExecuteTime": {
     "end_time": "2021-04-09T15:22:01.538508Z",
     "start_time": "2021-04-09T15:21:37.477864Z"
    }
   },
   "outputs": [
    {
     "data": {
      "text/plain": [
       "Meka(java_command='C:/Program Files (x86)/Java/jre1.8.0_281/bin/java',\n",
       "     meka_classifier='meka.classifiers.multilabel.CT',\n",
       "     meka_classpath='C:\\\\Users\\\\Nico\\\\scikit_ml_learn_data\\\\meka\\\\meka-release-1.9.2\\\\lib\\\\',\n",
       "     weka_classifier='weka.classifiers.trees.RandomForest')"
      ]
     },
     "execution_count": 68,
     "metadata": {},
     "output_type": "execute_result"
    }
   ],
   "source": [
    "meka.fit(X_train, Y_train)"
   ]
  },
  {
   "cell_type": "code",
   "execution_count": 69,
   "metadata": {
    "ExecuteTime": {
     "end_time": "2021-04-09T15:22:03.314759Z",
     "start_time": "2021-04-09T15:22:01.542499Z"
    }
   },
   "outputs": [],
   "source": [
    "y_pred = meka.predict(X_test)"
   ]
  },
  {
   "cell_type": "code",
   "execution_count": 70,
   "metadata": {
    "ExecuteTime": {
     "end_time": "2021-04-09T14:58:40.434486Z",
     "start_time": "2021-04-09T14:58:40.419525Z"
    }
   },
   "outputs": [
    {
     "data": {
      "text/plain": [
       "0.20182870706777115"
      ]
     },
     "execution_count": 70,
     "metadata": {},
     "output_type": "execute_result"
    }
   ],
   "source": [
    "jaccard_score(Y_test, y_pred, average='samples')"
   ]
  },
  {
   "cell_type": "code",
   "execution_count": null,
   "metadata": {},
   "outputs": [],
   "source": []
  },
  {
   "cell_type": "code",
   "execution_count": null,
   "metadata": {},
   "outputs": [],
   "source": []
  },
  {
   "cell_type": "code",
   "execution_count": 106,
   "metadata": {
    "ExecuteTime": {
     "end_time": "2021-04-09T15:21:36.622154Z",
     "start_time": "2021-04-09T15:21:36.609189Z"
    }
   },
   "outputs": [
    {
     "data": {
      "text/plain": [
       "Meka(java_command='C:/Program Files (x86)/Java/jre1.8.0_281/bin/java',\n",
       "     meka_classifier='meka.classifiers.multilabel.meta.BaggingML -I 10 -P 100',\n",
       "     meka_classpath='C:\\\\Users\\\\Nico\\\\scikit_ml_learn_data\\\\meka\\\\meka-release-1.9.2\\\\lib\\\\')"
      ]
     },
     "execution_count": 106,
     "metadata": {},
     "output_type": "execute_result"
    }
   ],
   "source": [
    "meka = Meka(\n",
    "        meka_classifier = \"meka.classifiers.multilabel.meta.BaggingML -I 10 -P 100\", # Binary Relevance\n",
    "#         weka_classifier = \"weka.classifiers.bayes.NaiveBayesMultinomial\",\n",
    "        meka_classpath = meka_classpath, #obtained via download_meka\n",
    "        java_command = 'C:/Program Files (x86)/Java/jre1.8.0_281/bin/java' # path to java executable\n",
    ")\n",
    "meka"
   ]
  },
  {
   "cell_type": "code",
   "execution_count": 111,
   "metadata": {
    "ExecuteTime": {
     "end_time": "2021-04-09T15:23:40.599585Z",
     "start_time": "2021-04-09T15:22:13.748849Z"
    },
    "scrolled": true
   },
   "outputs": [
    {
     "data": {
      "text/plain": [
       "0.24540418041436296"
      ]
     },
     "execution_count": 111,
     "metadata": {},
     "output_type": "execute_result"
    }
   ],
   "source": [
    "cv_score = cross_val_score(meka, X_train, Y_train, cv=5, scoring=jaccard)\n",
    "cv_score.mean()"
   ]
  },
  {
   "cell_type": "code",
   "execution_count": 108,
   "metadata": {
    "ExecuteTime": {
     "end_time": "2021-04-09T15:22:01.538508Z",
     "start_time": "2021-04-09T15:21:37.477864Z"
    }
   },
   "outputs": [
    {
     "data": {
      "text/plain": [
       "Meka(java_command='C:/Program Files (x86)/Java/jre1.8.0_281/bin/java',\n",
       "     meka_classifier='meka.classifiers.multilabel.meta.BaggingML -I 10 -P 100',\n",
       "     meka_classpath='C:\\\\Users\\\\Nico\\\\scikit_ml_learn_data\\\\meka\\\\meka-release-1.9.2\\\\lib\\\\')"
      ]
     },
     "execution_count": 108,
     "metadata": {},
     "output_type": "execute_result"
    }
   ],
   "source": [
    "meka.fit(X_train, Y_train)"
   ]
  },
  {
   "cell_type": "code",
   "execution_count": 109,
   "metadata": {
    "ExecuteTime": {
     "end_time": "2021-04-09T15:22:03.314759Z",
     "start_time": "2021-04-09T15:22:01.542499Z"
    }
   },
   "outputs": [],
   "source": [
    "y_pred = meka.predict(X_test)"
   ]
  },
  {
   "cell_type": "code",
   "execution_count": 110,
   "metadata": {
    "ExecuteTime": {
     "end_time": "2021-04-09T15:22:03.330715Z",
     "start_time": "2021-04-09T15:22:03.316755Z"
    }
   },
   "outputs": [
    {
     "data": {
      "text/plain": [
       "0.2848359465737515"
      ]
     },
     "execution_count": 110,
     "metadata": {},
     "output_type": "execute_result"
    }
   ],
   "source": [
    "jaccard_score(Y_test, y_pred, average='samples')"
   ]
  },
  {
   "cell_type": "code",
   "execution_count": null,
   "metadata": {},
   "outputs": [],
   "source": []
  },
  {
   "cell_type": "code",
   "execution_count": null,
   "metadata": {},
   "outputs": [],
   "source": []
  },
  {
   "cell_type": "code",
   "execution_count": 150,
   "metadata": {
    "ExecuteTime": {
     "end_time": "2021-04-09T16:22:41.631649Z",
     "start_time": "2021-04-09T16:22:41.612700Z"
    }
   },
   "outputs": [
    {
     "data": {
      "text/plain": [
       "Meka(java_command='C:/Program Files (x86)/Java/jre1.8.0_281/bin/java',\n",
       "     meka_classifier='meka.classifiers.multilabel.meta.EnsembleML',\n",
       "     meka_classpath='C:\\\\Users\\\\Nico\\\\scikit_ml_learn_data\\\\meka\\\\meka-release-1.9.2\\\\lib\\\\')"
      ]
     },
     "execution_count": 150,
     "metadata": {},
     "output_type": "execute_result"
    }
   ],
   "source": [
    "meka = Meka(\n",
    "        meka_classifier = \"meka.classifiers.multilabel.meta.EnsembleML\",\n",
    "#         weka_classifier = \"weka.classifiers.trees.RandomForest\",\n",
    "        meka_classpath = meka_classpath, #obtained via download_meka\n",
    "        java_command = 'C:/Program Files (x86)/Java/jre1.8.0_281/bin/java' # path to java executable\n",
    ")\n",
    "meka"
   ]
  },
  {
   "cell_type": "code",
   "execution_count": 155,
   "metadata": {
    "ExecuteTime": {
     "end_time": "2021-04-09T16:23:54.512907Z",
     "start_time": "2021-04-09T16:23:03.634182Z"
    },
    "scrolled": true
   },
   "outputs": [
    {
     "data": {
      "text/plain": [
       "0.24192546492209416"
      ]
     },
     "execution_count": 155,
     "metadata": {},
     "output_type": "execute_result"
    }
   ],
   "source": [
    "cv_score = cross_val_score(meka, np.matrix(X_train), np.matrix(Y_train), cv=5, scoring=jaccard)\n",
    "cv_score.mean()"
   ]
  },
  {
   "cell_type": "code",
   "execution_count": 152,
   "metadata": {
    "ExecuteTime": {
     "end_time": "2021-04-09T16:22:54.847330Z",
     "start_time": "2021-04-09T16:22:42.975740Z"
    }
   },
   "outputs": [
    {
     "data": {
      "text/plain": [
       "Meka(java_command='C:/Program Files (x86)/Java/jre1.8.0_281/bin/java',\n",
       "     meka_classifier='meka.classifiers.multilabel.meta.EnsembleML',\n",
       "     meka_classpath='C:\\\\Users\\\\Nico\\\\scikit_ml_learn_data\\\\meka\\\\meka-release-1.9.2\\\\lib\\\\')"
      ]
     },
     "execution_count": 152,
     "metadata": {},
     "output_type": "execute_result"
    }
   ],
   "source": [
    "meka.fit(np.matrix(X_train), np.matrix(Y_train))"
   ]
  },
  {
   "cell_type": "code",
   "execution_count": 153,
   "metadata": {
    "ExecuteTime": {
     "end_time": "2021-04-09T16:22:55.923493Z",
     "start_time": "2021-04-09T16:22:54.849326Z"
    }
   },
   "outputs": [],
   "source": [
    "y_pred = meka.predict(np.matrix(X_test))"
   ]
  },
  {
   "cell_type": "code",
   "execution_count": 154,
   "metadata": {
    "ExecuteTime": {
     "end_time": "2021-04-09T16:22:55.939408Z",
     "start_time": "2021-04-09T16:22:55.926443Z"
    }
   },
   "outputs": [
    {
     "data": {
      "text/plain": [
       "0.26070339721254354"
      ]
     },
     "execution_count": 154,
     "metadata": {},
     "output_type": "execute_result"
    }
   ],
   "source": [
    "jaccard_score(Y_test, y_pred, average='samples')"
   ]
  },
  {
   "cell_type": "code",
   "execution_count": null,
   "metadata": {},
   "outputs": [],
   "source": []
  },
  {
   "cell_type": "code",
   "execution_count": null,
   "metadata": {},
   "outputs": [],
   "source": []
  },
  {
   "cell_type": "code",
   "execution_count": 89,
   "metadata": {
    "ExecuteTime": {
     "end_time": "2021-04-09T16:44:54.629213Z",
     "start_time": "2021-04-09T16:44:54.610264Z"
    }
   },
   "outputs": [
    {
     "data": {
      "text/plain": [
       "Meka(java_command='C:/Program Files (x86)/Java/jre1.8.0_281/bin/java',\n",
       "     meka_classifier='meka.classifiers.multilabel.meta.RandomSubspaceML -I 10 '\n",
       "                     '-P 60 -A 50',\n",
       "     meka_classpath='C:\\\\Users\\\\Nico\\\\scikit_ml_learn_data\\\\meka\\\\meka-release-1.9.2\\\\lib\\\\',\n",
       "     weka_classifier='weka.classifiers.trees.RandomForest')"
      ]
     },
     "execution_count": 89,
     "metadata": {},
     "output_type": "execute_result"
    }
   ],
   "source": [
    "meka = Meka(\n",
    "        meka_classifier = \"meka.classifiers.multilabel.meta.RandomSubspaceML -I 10 -P 60 -A 50\",\n",
    "#         weka_classifier = \"weka.classifiers.trees.RandomForest\",\n",
    "        meka_classpath = meka_classpath, #obtained via download_meka\n",
    "        java_command = 'C:/Program Files (x86)/Java/jre1.8.0_281/bin/java' # path to java executable\n",
    ")\n",
    "meka"
   ]
  },
  {
   "cell_type": "code",
   "execution_count": 90,
   "metadata": {
    "ExecuteTime": {
     "end_time": "2021-04-09T16:44:55.549783Z",
     "start_time": "2021-04-09T16:44:55.536815Z"
    },
    "scrolled": true
   },
   "outputs": [],
   "source": [
    "# cv_score = cross_val_score(meka, np.matrix(X_train), np.matrix(Y_train), cv=5, scoring=jaccard)\n",
    "# cv_score.mean()"
   ]
  },
  {
   "cell_type": "code",
   "execution_count": 91,
   "metadata": {
    "ExecuteTime": {
     "end_time": "2021-04-09T16:44:57.671108Z",
     "start_time": "2021-04-09T16:44:55.871920Z"
    }
   },
   "outputs": [
    {
     "ename": "Exception",
     "evalue": "\n\nEvaluation Options:\n\n-h\n\tOutput help information.\n-t <name of training file>\n\tSets training file.\n-T <name of test file>\n\tSets test file (will be used for making predictions).\n-predictions <name of output file for predictions>\n\tSets the file to store the predictions in (does not work with cross-validation).\n-x <number of folds>\n\tDo cross-validation with this many folds.\n-no-eval\n\tSkips evaluation, e.g., used when test set contains no class labels.\n-R\n\tRandomize the order of instances in the dataset.\n-split-percentage <percentage>\n\tSets the percentage for the train/test set split, e.g., 66.\n-split-number <number>\n\tSets the number of training examples, e.g., 800\n-i\n\tInvert the specified train/test split.\n-s <random number seed>\n\tSets random number seed (use with -R, for different CV or train/test splits).\n-threshold <threshold>\n\tSets the type of thresholding; where\n\t\t'PCut1' automatically calibrates a threshold (the default);\n\t\t'PCutL' automatically calibrates one threshold for each label;\n\t\tany number, e.g. '0.5', specifies that threshold.\n-C <number of labels>\n\tSets the number of target variables (labels) to assume (indexed from the beginning).\n-d <classifier_file>\n\tSpecify a file to dump classifier into.\n-l <classifier_file>\n\tSpecify a file to load classifier from.\n-verbosity <verbosity level>\n\tSpecify more/less evaluation output\n\n\nClassifier Options:\n\n-A\n\tSize of attribute space, as a percentage of total attribute space size (must be between 1 and 100, default: 50)\n-I\n\tSets the number of models (default 10)\n-P\n\tSize of each bag, as a percentage of total training size (default 67)\n-S\n\tRandom number seed for sampling (default 1)\n-W\n\tFull name of base classifier.\n\t(default: meka.classifiers.multilabel.CC)\n-output-debug-info\n\tIf set, classifier is run in debug mode and\n\tmay output additional info to the console\n--do-not-check-capabilities\n\tIf set, classifier capabilities are not checked before classifier is built\n\t(use with caution).\n-num-decimal-places\n\tThe number of decimal places for the output of numbers in the model (default 2).\n-batch-size\n\tThe desired batch size for batch prediction  (default 100).\n-\n\n-P\n\tSize of each bag, as a percentage of the\n\ttraining set size. (default 100)\n-O\n\tCalculate the out of bag error.\n-store-out-of-bag-predictions\n\tWhether to store out of bag predictions in internal evaluation object.\n-output-out-of-bag-complexity-statistics\n\tWhether to output complexity-based statistics when out-of-bag evaluation is performed.\n-print\n\tPrint the individual classifiers in the output\n-attribute-importance\n\tCompute and output attribute importance (mean impurity decrease method)\n-I\n\tNumber of iterations.\n\t(current value 100)\n-num-slots\n\tNumber of execution slots.\n\t(default 1 - i.e. no parallelism)\n\t(use 0 to auto-detect number of cores)\n-K\n\tNumber of attributes to randomly investigate.\t(default 0)\n\t(<1 = int(log_2(#predictors)+1)).\n-M\n\tSet minimum number of instances per leaf.\n\t(default 1)\n-V\n\tSet minimum numeric class variance proportion\n\tof train variance for split (default 1e-3).\n-S\n\tSeed for random number generator.\n\t(default 1)\n-depth\n\tThe maximum depth of the tree, 0 for unlimited.\n\t(default 0)\n-N\n\tNumber of folds for backfitting (default 0, no backfitting).\n-U\n\tAllow unclassified instances.\n-B\n\tBreak ties randomly when several attributes look equally good.\n-output-debug-info\n\tIf set, classifier is run in debug mode and\n\tmay output additional info to the console\n--do-not-check-capabilities\n\tIf set, classifier capabilities are not checked before classifier is built\n\t(use with caution).\n-num-decimal-places\n\tThe number of decimal places for the output of numbers in the model (default 2).\n-batch-size\n\tThe desired batch size for batch prediction  (default 100).\n\nApr 10, 2021 12:44:57 AM com.github.fommil.netlib.ARPACK <clinit>\nWARNING: Failed to load implementation from: com.github.fommil.netlib.NativeSystemARPACK\nApr 10, 2021 12:44:57 AM com.github.fommil.jni.JniLoader liberalLoad\nINFO: successfully loaded C:\\Users\\Nico\\AppData\\Local\\Temp\\jniloader4378835530977543383netlib-native_ref-win-i686.dll\njava.lang.ClassCastException: weka.classifiers.trees.RandomForest cannot be cast to meka.classifiers.multilabel.ProblemTransformationMethod\n\tat meka.classifiers.multilabel.meta.RandomSubspaceML.buildClassifier(RandomSubspaceML.java:63)\n\tat meka.classifiers.multilabel.Evaluation.runExperiment(Evaluation.java:229)\n\tat meka.classifiers.multilabel.ProblemTransformationMethod.runClassifier(ProblemTransformationMethod.java:172)\n\tat meka.classifiers.multilabel.ProblemTransformationMethod.evaluation(ProblemTransformationMethod.java:152)\n\tat meka.classifiers.multilabel.meta.RandomSubspaceML.main(RandomSubspaceML.java:157)\n",
     "output_type": "error",
     "traceback": [
      "\u001b[1;31m-------------------------------------------------------\u001b[0m",
      "\u001b[1;31mException\u001b[0m             Traceback (most recent call last)",
      "\u001b[1;32m<ipython-input-91-a900ddc30246>\u001b[0m in \u001b[0;36m<module>\u001b[1;34m\u001b[0m\n\u001b[1;32m----> 1\u001b[1;33m \u001b[0mmeka\u001b[0m\u001b[1;33m.\u001b[0m\u001b[0mfit\u001b[0m\u001b[1;33m(\u001b[0m\u001b[0mnp\u001b[0m\u001b[1;33m.\u001b[0m\u001b[0mmatrix\u001b[0m\u001b[1;33m(\u001b[0m\u001b[0mX_train\u001b[0m\u001b[1;33m)\u001b[0m\u001b[1;33m,\u001b[0m \u001b[0mnp\u001b[0m\u001b[1;33m.\u001b[0m\u001b[0mmatrix\u001b[0m\u001b[1;33m(\u001b[0m\u001b[0mY_train\u001b[0m\u001b[1;33m)\u001b[0m\u001b[1;33m)\u001b[0m\u001b[1;33m\u001b[0m\u001b[1;33m\u001b[0m\u001b[0m\n\u001b[0m",
      "\u001b[1;32m~\\anaconda3\\lib\\site-packages\\skmultilearn\\ext\\meka.py\u001b[0m in \u001b[0;36mfit\u001b[1;34m(self, X, y)\u001b[0m\n\u001b[0;32m    257\u001b[0m             ]\n\u001b[0;32m    258\u001b[0m \u001b[1;33m\u001b[0m\u001b[0m\n\u001b[1;32m--> 259\u001b[1;33m             \u001b[0mself\u001b[0m\u001b[1;33m.\u001b[0m\u001b[0m_run_meka_command\u001b[0m\u001b[1;33m(\u001b[0m\u001b[0minput_args\u001b[0m\u001b[1;33m)\u001b[0m\u001b[1;33m\u001b[0m\u001b[1;33m\u001b[0m\u001b[0m\n\u001b[0m\u001b[0;32m    260\u001b[0m             \u001b[0mself\u001b[0m\u001b[1;33m.\u001b[0m\u001b[0mclassifier_dump\u001b[0m \u001b[1;33m=\u001b[0m \u001b[1;32mNone\u001b[0m\u001b[1;33m\u001b[0m\u001b[1;33m\u001b[0m\u001b[0m\n\u001b[0;32m    261\u001b[0m             \u001b[1;32mwith\u001b[0m \u001b[0mopen\u001b[0m\u001b[1;33m(\u001b[0m\u001b[0mclassifier_dump_file\u001b[0m\u001b[1;33m.\u001b[0m\u001b[0mname\u001b[0m\u001b[1;33m,\u001b[0m \u001b[1;34m'rb'\u001b[0m\u001b[1;33m)\u001b[0m \u001b[1;32mas\u001b[0m \u001b[0mfp\u001b[0m\u001b[1;33m:\u001b[0m\u001b[1;33m\u001b[0m\u001b[1;33m\u001b[0m\u001b[0m\n",
      "\u001b[1;32m~\\anaconda3\\lib\\site-packages\\skmultilearn\\ext\\meka.py\u001b[0m in \u001b[0;36m_run_meka_command\u001b[1;34m(self, args)\u001b[0m\n\u001b[0;32m    446\u001b[0m \u001b[1;33m\u001b[0m\u001b[0m\n\u001b[0;32m    447\u001b[0m         \u001b[1;32mif\u001b[0m \u001b[0mpipes\u001b[0m\u001b[1;33m.\u001b[0m\u001b[0mreturncode\u001b[0m \u001b[1;33m!=\u001b[0m \u001b[1;36m0\u001b[0m\u001b[1;33m:\u001b[0m\u001b[1;33m\u001b[0m\u001b[1;33m\u001b[0m\u001b[0m\n\u001b[1;32m--> 448\u001b[1;33m             \u001b[1;32mraise\u001b[0m \u001b[0mException\u001b[0m\u001b[1;33m(\u001b[0m\u001b[0mself\u001b[0m\u001b[1;33m.\u001b[0m\u001b[0moutput_\u001b[0m \u001b[1;33m+\u001b[0m \u001b[0mself\u001b[0m\u001b[1;33m.\u001b[0m\u001b[0m_error\u001b[0m\u001b[1;33m)\u001b[0m\u001b[1;33m\u001b[0m\u001b[1;33m\u001b[0m\u001b[0m\n\u001b[0m",
      "\u001b[1;31mException\u001b[0m: \n\nEvaluation Options:\n\n-h\n\tOutput help information.\n-t <name of training file>\n\tSets training file.\n-T <name of test file>\n\tSets test file (will be used for making predictions).\n-predictions <name of output file for predictions>\n\tSets the file to store the predictions in (does not work with cross-validation).\n-x <number of folds>\n\tDo cross-validation with this many folds.\n-no-eval\n\tSkips evaluation, e.g., used when test set contains no class labels.\n-R\n\tRandomize the order of instances in the dataset.\n-split-percentage <percentage>\n\tSets the percentage for the train/test set split, e.g., 66.\n-split-number <number>\n\tSets the number of training examples, e.g., 800\n-i\n\tInvert the specified train/test split.\n-s <random number seed>\n\tSets random number seed (use with -R, for different CV or train/test splits).\n-threshold <threshold>\n\tSets the type of thresholding; where\n\t\t'PCut1' automatically calibrates a threshold (the default);\n\t\t'PCutL' automatically calibrates one threshold for each label;\n\t\tany number, e.g. '0.5', specifies that threshold.\n-C <number of labels>\n\tSets the number of target variables (labels) to assume (indexed from the beginning).\n-d <classifier_file>\n\tSpecify a file to dump classifier into.\n-l <classifier_file>\n\tSpecify a file to load classifier from.\n-verbosity <verbosity level>\n\tSpecify more/less evaluation output\n\n\nClassifier Options:\n\n-A\n\tSize of attribute space, as a percentage of total attribute space size (must be between 1 and 100, default: 50)\n-I\n\tSets the number of models (default 10)\n-P\n\tSize of each bag, as a percentage of total training size (default 67)\n-S\n\tRandom number seed for sampling (default 1)\n-W\n\tFull name of base classifier.\n\t(default: meka.classifiers.multilabel.CC)\n-output-debug-info\n\tIf set, classifier is run in debug mode and\n\tmay output additional info to the console\n--do-not-check-capabilities\n\tIf set, classifier capabilities are not checked before classifier is built\n\t(use with caution).\n-num-decimal-places\n\tThe number of decimal places for the output of numbers in the model (default 2).\n-batch-size\n\tThe desired batch size for batch prediction  (default 100).\n-\n\n-P\n\tSize of each bag, as a percentage of the\n\ttraining set size. (default 100)\n-O\n\tCalculate the out of bag error.\n-store-out-of-bag-predictions\n\tWhether to store out of bag predictions in internal evaluation object.\n-output-out-of-bag-complexity-statistics\n\tWhether to output complexity-based statistics when out-of-bag evaluation is performed.\n-print\n\tPrint the individual classifiers in the output\n-attribute-importance\n\tCompute and output attribute importance (mean impurity decrease method)\n-I\n\tNumber of iterations.\n\t(current value 100)\n-num-slots\n\tNumber of execution slots.\n\t(default 1 - i.e. no parallelism)\n\t(use 0 to auto-detect number of cores)\n-K\n\tNumber of attributes to randomly investigate.\t(default 0)\n\t(<1 = int(log_2(#predictors)+1)).\n-M\n\tSet minimum number of instances per leaf.\n\t(default 1)\n-V\n\tSet minimum numeric class variance proportion\n\tof train variance for split (default 1e-3).\n-S\n\tSeed for random number generator.\n\t(default 1)\n-depth\n\tThe maximum depth of the tree, 0 for unlimited.\n\t(default 0)\n-N\n\tNumber of folds for backfitting (default 0, no backfitting).\n-U\n\tAllow unclassified instances.\n-B\n\tBreak ties randomly when several attributes look equally good.\n-output-debug-info\n\tIf set, classifier is run in debug mode and\n\tmay output additional info to the console\n--do-not-check-capabilities\n\tIf set, classifier capabilities are not checked before classifier is built\n\t(use with caution).\n-num-decimal-places\n\tThe number of decimal places for the output of numbers in the model (default 2).\n-batch-size\n\tThe desired batch size for batch prediction  (default 100).\n\nApr 10, 2021 12:44:57 AM com.github.fommil.netlib.ARPACK <clinit>\nWARNING: Failed to load implementation from: com.github.fommil.netlib.NativeSystemARPACK\nApr 10, 2021 12:44:57 AM com.github.fommil.jni.JniLoader liberalLoad\nINFO: successfully loaded C:\\Users\\Nico\\AppData\\Local\\Temp\\jniloader4378835530977543383netlib-native_ref-win-i686.dll\njava.lang.ClassCastException: weka.classifiers.trees.RandomForest cannot be cast to meka.classifiers.multilabel.ProblemTransformationMethod\n\tat meka.classifiers.multilabel.meta.RandomSubspaceML.buildClassifier(RandomSubspaceML.java:63)\n\tat meka.classifiers.multilabel.Evaluation.runExperiment(Evaluation.java:229)\n\tat meka.classifiers.multilabel.ProblemTransformationMethod.runClassifier(ProblemTransformationMethod.java:172)\n\tat meka.classifiers.multilabel.ProblemTransformationMethod.evaluation(ProblemTransformationMethod.java:152)\n\tat meka.classifiers.multilabel.meta.RandomSubspaceML.main(RandomSubspaceML.java:157)\n"
     ]
    }
   ],
   "source": [
    "meka.fit(np.matrix(X_train), np.matrix(Y_train))"
   ]
  },
  {
   "cell_type": "code",
   "execution_count": 86,
   "metadata": {
    "ExecuteTime": {
     "end_time": "2021-04-09T16:44:21.916351Z",
     "start_time": "2021-04-09T16:44:21.493445Z"
    }
   },
   "outputs": [
    {
     "ename": "IndexError",
     "evalue": "list index out of range",
     "output_type": "error",
     "traceback": [
      "\u001b[1;31m-------------------------------------------------------\u001b[0m",
      "\u001b[1;31mIndexError\u001b[0m            Traceback (most recent call last)",
      "\u001b[1;32m<ipython-input-86-42e4e236b5dd>\u001b[0m in \u001b[0;36m<module>\u001b[1;34m\u001b[0m\n\u001b[1;32m----> 1\u001b[1;33m \u001b[0my_pred\u001b[0m \u001b[1;33m=\u001b[0m \u001b[0mmeka\u001b[0m\u001b[1;33m.\u001b[0m\u001b[0mpredict\u001b[0m\u001b[1;33m(\u001b[0m\u001b[0mnp\u001b[0m\u001b[1;33m.\u001b[0m\u001b[0mmatrix\u001b[0m\u001b[1;33m(\u001b[0m\u001b[0mX_test\u001b[0m\u001b[1;33m)\u001b[0m\u001b[1;33m)\u001b[0m\u001b[1;33m\u001b[0m\u001b[1;33m\u001b[0m\u001b[0m\n\u001b[0m",
      "\u001b[1;32m~\\anaconda3\\lib\\site-packages\\skmultilearn\\ext\\meka.py\u001b[0m in \u001b[0;36mpredict\u001b[1;34m(self, X)\u001b[0m\n\u001b[0;32m    312\u001b[0m \u001b[1;33m\u001b[0m\u001b[0m\n\u001b[0;32m    313\u001b[0m             \u001b[0mself\u001b[0m\u001b[1;33m.\u001b[0m\u001b[0m_run\u001b[0m\u001b[1;33m(\u001b[0m\u001b[0mtrain_arff\u001b[0m\u001b[1;33m.\u001b[0m\u001b[0mname\u001b[0m \u001b[1;33m+\u001b[0m \u001b[1;34m'.arff'\u001b[0m\u001b[1;33m,\u001b[0m \u001b[0mtest_arff\u001b[0m\u001b[1;33m.\u001b[0m\u001b[0mname\u001b[0m \u001b[1;33m+\u001b[0m \u001b[1;34m'.arff'\u001b[0m\u001b[1;33m,\u001b[0m \u001b[0margs\u001b[0m\u001b[1;33m)\u001b[0m\u001b[1;33m\u001b[0m\u001b[1;33m\u001b[0m\u001b[0m\n\u001b[1;32m--> 314\u001b[1;33m             \u001b[0mself\u001b[0m\u001b[1;33m.\u001b[0m\u001b[0m_parse_output\u001b[0m\u001b[1;33m(\u001b[0m\u001b[1;33m)\u001b[0m\u001b[1;33m\u001b[0m\u001b[1;33m\u001b[0m\u001b[0m\n\u001b[0m\u001b[0;32m    315\u001b[0m \u001b[1;33m\u001b[0m\u001b[0m\n\u001b[0;32m    316\u001b[0m         \u001b[1;32mfinally\u001b[0m\u001b[1;33m:\u001b[0m\u001b[1;33m\u001b[0m\u001b[1;33m\u001b[0m\u001b[0m\n",
      "\u001b[1;32m~\\anaconda3\\lib\\site-packages\\skmultilearn\\ext\\meka.py\u001b[0m in \u001b[0;36m_parse_output\u001b[1;34m(self)\u001b[0m\n\u001b[0;32m    372\u001b[0m             self._instance_count = int(float(filter(lambda x: '==== PREDICTIONS (N=' in x, self.output_.split(\n\u001b[0;32m    373\u001b[0m                 '\\n'))[0].split('(')[1].split('=')[1].split(')')[0]))\n\u001b[1;32m--> 374\u001b[1;33m         predictions = self.output_.split(predictions_split_head)[1].split(\n\u001b[0m\u001b[0;32m    375\u001b[0m             predictions_split_foot)[0].split('\\n')[1:-1]\n\u001b[0;32m    376\u001b[0m \u001b[1;33m\u001b[0m\u001b[0m\n",
      "\u001b[1;31mIndexError\u001b[0m: list index out of range"
     ]
    }
   ],
   "source": [
    "y_pred = meka.predict(np.matrix(X_test))"
   ]
  },
  {
   "cell_type": "code",
   "execution_count": 82,
   "metadata": {
    "ExecuteTime": {
     "end_time": "2021-04-09T16:43:20.346212Z",
     "start_time": "2021-04-09T16:43:20.332211Z"
    }
   },
   "outputs": [
    {
     "data": {
      "text/plain": [
       "0.20823756182717484"
      ]
     },
     "execution_count": 82,
     "metadata": {},
     "output_type": "execute_result"
    }
   ],
   "source": [
    "jaccard_score(Y_test, y_pred, average='samples')"
   ]
  },
  {
   "cell_type": "code",
   "execution_count": null,
   "metadata": {},
   "outputs": [],
   "source": []
  },
  {
   "cell_type": "code",
   "execution_count": null,
   "metadata": {},
   "outputs": [],
   "source": []
  },
  {
   "cell_type": "code",
   "execution_count": 105,
   "metadata": {
    "ExecuteTime": {
     "end_time": "2021-04-09T11:08:43.845774Z",
     "start_time": "2021-04-09T11:08:43.832810Z"
    }
   },
   "outputs": [],
   "source": [
    "classifier = LabelPowerset(RandomForestClassifier(random_state=13))"
   ]
  },
  {
   "cell_type": "code",
   "execution_count": 106,
   "metadata": {
    "ExecuteTime": {
     "end_time": "2021-04-09T11:09:00.324276Z",
     "start_time": "2021-04-09T11:08:44.779310Z"
    }
   },
   "outputs": [
    {
     "data": {
      "text/plain": [
       "0.19768287767770445"
      ]
     },
     "execution_count": 106,
     "metadata": {},
     "output_type": "execute_result"
    }
   ],
   "source": [
    "cv_score = cross_val_score(classifier, X_train, Y_train, cv=5, scoring=jaccard)\n",
    "cv_score.mean()"
   ]
  },
  {
   "cell_type": "code",
   "execution_count": 107,
   "metadata": {
    "ExecuteTime": {
     "end_time": "2021-04-09T11:09:04.949860Z",
     "start_time": "2021-04-09T11:09:00.326228Z"
    }
   },
   "outputs": [
    {
     "data": {
      "text/plain": [
       "LabelPowerset(classifier=RandomForestClassifier(random_state=13),\n",
       "              require_dense=[True, True])"
      ]
     },
     "execution_count": 107,
     "metadata": {},
     "output_type": "execute_result"
    }
   ],
   "source": [
    "classifier.fit(X_train, Y_train)"
   ]
  },
  {
   "cell_type": "code",
   "execution_count": 108,
   "metadata": {
    "ExecuteTime": {
     "end_time": "2021-04-09T11:09:05.475420Z",
     "start_time": "2021-04-09T11:09:04.957838Z"
    }
   },
   "outputs": [],
   "source": [
    "y_pred = classifier.predict(X_test)"
   ]
  },
  {
   "cell_type": "code",
   "execution_count": 109,
   "metadata": {
    "ExecuteTime": {
     "end_time": "2021-04-09T11:09:05.505348Z",
     "start_time": "2021-04-09T11:09:05.480459Z"
    }
   },
   "outputs": [
    {
     "data": {
      "text/plain": [
       "0.2705953592016664"
      ]
     },
     "execution_count": 109,
     "metadata": {},
     "output_type": "execute_result"
    }
   ],
   "source": [
    "jaccard_score(Y_test, y_pred, average='samples')"
   ]
  },
  {
   "cell_type": "code",
   "execution_count": null,
   "metadata": {},
   "outputs": [],
   "source": []
  },
  {
   "cell_type": "code",
   "execution_count": null,
   "metadata": {},
   "outputs": [],
   "source": []
  },
  {
   "cell_type": "code",
   "execution_count": 110,
   "metadata": {
    "ExecuteTime": {
     "end_time": "2021-04-09T11:09:15.901615Z",
     "start_time": "2021-04-09T11:09:15.894674Z"
    }
   },
   "outputs": [],
   "source": [
    "classifier = MLkNN(k=1)"
   ]
  },
  {
   "cell_type": "code",
   "execution_count": 111,
   "metadata": {
    "ExecuteTime": {
     "end_time": "2021-04-09T11:09:28.164743Z",
     "start_time": "2021-04-09T11:09:16.252780Z"
    }
   },
   "outputs": [
    {
     "name": "stderr",
     "output_type": "stream",
     "text": [
      "C:\\Users\\Nico\\anaconda3\\lib\\site-packages\\sklearn\\utils\\validation.py:70: FutureWarning: Pass n_neighbors=1 as keyword args. From version 1.0 (renaming of 0.25) passing these as positional arguments will result in an error\n",
      "  warnings.warn(f\"Pass {args_msg} as keyword args. From version \"\n",
      "C:\\Users\\Nico\\anaconda3\\lib\\site-packages\\sklearn\\utils\\validation.py:70: FutureWarning: Pass n_neighbors=1 as keyword args. From version 1.0 (renaming of 0.25) passing these as positional arguments will result in an error\n",
      "  warnings.warn(f\"Pass {args_msg} as keyword args. From version \"\n",
      "C:\\Users\\Nico\\anaconda3\\lib\\site-packages\\sklearn\\utils\\validation.py:70: FutureWarning: Pass n_neighbors=1 as keyword args. From version 1.0 (renaming of 0.25) passing these as positional arguments will result in an error\n",
      "  warnings.warn(f\"Pass {args_msg} as keyword args. From version \"\n",
      "C:\\Users\\Nico\\anaconda3\\lib\\site-packages\\sklearn\\utils\\validation.py:70: FutureWarning: Pass n_neighbors=1 as keyword args. From version 1.0 (renaming of 0.25) passing these as positional arguments will result in an error\n",
      "  warnings.warn(f\"Pass {args_msg} as keyword args. From version \"\n",
      "C:\\Users\\Nico\\anaconda3\\lib\\site-packages\\sklearn\\utils\\validation.py:70: FutureWarning: Pass n_neighbors=1 as keyword args. From version 1.0 (renaming of 0.25) passing these as positional arguments will result in an error\n",
      "  warnings.warn(f\"Pass {args_msg} as keyword args. From version \"\n"
     ]
    },
    {
     "data": {
      "text/plain": [
       "0.1708881536967679"
      ]
     },
     "execution_count": 111,
     "metadata": {},
     "output_type": "execute_result"
    }
   ],
   "source": [
    "cv_score = cross_val_score(classifier, X_train.to_numpy(), Y_train.to_numpy(), cv=5, scoring=jaccard)\n",
    "cv_score.mean()"
   ]
  },
  {
   "cell_type": "code",
   "execution_count": 112,
   "metadata": {
    "ExecuteTime": {
     "end_time": "2021-04-09T11:09:30.563583Z",
     "start_time": "2021-04-09T11:09:28.166693Z"
    }
   },
   "outputs": [
    {
     "name": "stderr",
     "output_type": "stream",
     "text": [
      "C:\\Users\\Nico\\anaconda3\\lib\\site-packages\\sklearn\\utils\\validation.py:70: FutureWarning: Pass n_neighbors=1 as keyword args. From version 1.0 (renaming of 0.25) passing these as positional arguments will result in an error\n",
      "  warnings.warn(f\"Pass {args_msg} as keyword args. From version \"\n"
     ]
    },
    {
     "data": {
      "text/plain": [
       "MLkNN(k=1)"
      ]
     },
     "execution_count": 112,
     "metadata": {},
     "output_type": "execute_result"
    }
   ],
   "source": [
    "classifier.fit(X_train.to_numpy(), Y_train.to_numpy())"
   ]
  },
  {
   "cell_type": "code",
   "execution_count": 113,
   "metadata": {
    "ExecuteTime": {
     "end_time": "2021-04-09T11:09:31.260519Z",
     "start_time": "2021-04-09T11:09:30.565578Z"
    }
   },
   "outputs": [],
   "source": [
    "y_pred = classifier.predict(X_test.to_numpy())"
   ]
  },
  {
   "cell_type": "code",
   "execution_count": 114,
   "metadata": {
    "ExecuteTime": {
     "end_time": "2021-04-09T11:09:31.276540Z",
     "start_time": "2021-04-09T11:09:31.262517Z"
    }
   },
   "outputs": [
    {
     "data": {
      "text/plain": [
       "0.19058881945453662"
      ]
     },
     "execution_count": 114,
     "metadata": {},
     "output_type": "execute_result"
    }
   ],
   "source": [
    "jaccard_score(Y_test, y_pred, average='samples')"
   ]
  },
  {
   "cell_type": "code",
   "execution_count": null,
   "metadata": {},
   "outputs": [],
   "source": []
  },
  {
   "cell_type": "code",
   "execution_count": null,
   "metadata": {},
   "outputs": [],
   "source": []
  },
  {
   "cell_type": "code",
   "execution_count": 115,
   "metadata": {
    "ExecuteTime": {
     "end_time": "2021-04-09T11:09:49.657334Z",
     "start_time": "2021-04-09T11:09:49.638384Z"
    }
   },
   "outputs": [],
   "source": [
    "classifier = RakelD(\n",
    "    base_classifier=RandomForestClassifier(random_state=13),\n",
    "    base_classifier_require_dense=[True, True],\n",
    "    labelset_size=3\n",
    ")"
   ]
  },
  {
   "cell_type": "code",
   "execution_count": 116,
   "metadata": {
    "ExecuteTime": {
     "end_time": "2021-04-09T11:10:07.182025Z",
     "start_time": "2021-04-09T11:09:50.948681Z"
    }
   },
   "outputs": [
    {
     "name": "stderr",
     "output_type": "stream",
     "text": [
      "C:\\Users\\Nico\\anaconda3\\lib\\site-packages\\skmultilearn\\cluster\\random.py:129: VisibleDeprecationWarning: Creating an ndarray from ragged nested sequences (which is a list-or-tuple of lists-or-tuples-or ndarrays with different lengths or shapes) is deprecated. If you meant to do this, you must specify 'dtype=object' when creating the ndarray\n",
      "  return np.array(label_sets)\n",
      "C:\\Users\\Nico\\anaconda3\\lib\\site-packages\\skmultilearn\\cluster\\random.py:129: VisibleDeprecationWarning: Creating an ndarray from ragged nested sequences (which is a list-or-tuple of lists-or-tuples-or ndarrays with different lengths or shapes) is deprecated. If you meant to do this, you must specify 'dtype=object' when creating the ndarray\n",
      "  return np.array(label_sets)\n",
      "C:\\Users\\Nico\\anaconda3\\lib\\site-packages\\skmultilearn\\cluster\\random.py:129: VisibleDeprecationWarning: Creating an ndarray from ragged nested sequences (which is a list-or-tuple of lists-or-tuples-or ndarrays with different lengths or shapes) is deprecated. If you meant to do this, you must specify 'dtype=object' when creating the ndarray\n",
      "  return np.array(label_sets)\n",
      "C:\\Users\\Nico\\anaconda3\\lib\\site-packages\\skmultilearn\\cluster\\random.py:129: VisibleDeprecationWarning: Creating an ndarray from ragged nested sequences (which is a list-or-tuple of lists-or-tuples-or ndarrays with different lengths or shapes) is deprecated. If you meant to do this, you must specify 'dtype=object' when creating the ndarray\n",
      "  return np.array(label_sets)\n",
      "C:\\Users\\Nico\\anaconda3\\lib\\site-packages\\skmultilearn\\cluster\\random.py:129: VisibleDeprecationWarning: Creating an ndarray from ragged nested sequences (which is a list-or-tuple of lists-or-tuples-or ndarrays with different lengths or shapes) is deprecated. If you meant to do this, you must specify 'dtype=object' when creating the ndarray\n",
      "  return np.array(label_sets)\n"
     ]
    },
    {
     "data": {
      "text/plain": [
       "0.14131372837524522"
      ]
     },
     "execution_count": 116,
     "metadata": {},
     "output_type": "execute_result"
    }
   ],
   "source": [
    "cv_score = cross_val_score(classifier, X_train, Y_train, cv=5, scoring=jaccard)\n",
    "cv_score.mean()"
   ]
  },
  {
   "cell_type": "code",
   "execution_count": 117,
   "metadata": {
    "ExecuteTime": {
     "end_time": "2021-04-09T11:10:10.391630Z",
     "start_time": "2021-04-09T11:10:07.184019Z"
    }
   },
   "outputs": [
    {
     "name": "stderr",
     "output_type": "stream",
     "text": [
      "C:\\Users\\Nico\\anaconda3\\lib\\site-packages\\skmultilearn\\cluster\\random.py:129: VisibleDeprecationWarning: Creating an ndarray from ragged nested sequences (which is a list-or-tuple of lists-or-tuples-or ndarrays with different lengths or shapes) is deprecated. If you meant to do this, you must specify 'dtype=object' when creating the ndarray\n",
      "  return np.array(label_sets)\n"
     ]
    },
    {
     "data": {
      "text/plain": [
       "LabelSpacePartitioningClassifier(classifier=LabelPowerset(classifier=RandomForestClassifier(random_state=13),\n",
       "                                                          require_dense=[True,\n",
       "                                                                         True]),\n",
       "                                 clusterer=RandomLabelSpaceClusterer(allow_overlap=False,\n",
       "                                                                     cluster_count=6,\n",
       "                                                                     cluster_size=3),\n",
       "                                 require_dense=[False, False])"
      ]
     },
     "execution_count": 117,
     "metadata": {},
     "output_type": "execute_result"
    }
   ],
   "source": [
    "classifier.fit(X_train.to_numpy(), Y_train.to_numpy())"
   ]
  },
  {
   "cell_type": "code",
   "execution_count": 118,
   "metadata": {
    "ExecuteTime": {
     "end_time": "2021-04-09T11:10:11.043431Z",
     "start_time": "2021-04-09T11:10:10.394623Z"
    }
   },
   "outputs": [],
   "source": [
    "y_pred = classifier.predict(X_test.to_numpy())"
   ]
  },
  {
   "cell_type": "code",
   "execution_count": 119,
   "metadata": {
    "ExecuteTime": {
     "end_time": "2021-04-09T11:10:11.059392Z",
     "start_time": "2021-04-09T11:10:11.045428Z"
    }
   },
   "outputs": [
    {
     "data": {
      "text/plain": [
       "0.22735552003100323"
      ]
     },
     "execution_count": 119,
     "metadata": {},
     "output_type": "execute_result"
    }
   ],
   "source": [
    "jaccard_score(Y_test, y_pred, average='samples')"
   ]
  },
  {
   "cell_type": "code",
   "execution_count": null,
   "metadata": {},
   "outputs": [],
   "source": []
  },
  {
   "cell_type": "code",
   "execution_count": null,
   "metadata": {},
   "outputs": [],
   "source": []
  },
  {
   "cell_type": "code",
   "execution_count": 763,
   "metadata": {
    "ExecuteTime": {
     "end_time": "2021-04-09T06:38:47.590114Z",
     "start_time": "2021-04-09T06:38:47.573160Z"
    }
   },
   "outputs": [],
   "source": [
    "model = KNeighborsClassifier(n_neighbors=1)"
   ]
  },
  {
   "cell_type": "code",
   "execution_count": 764,
   "metadata": {
    "ExecuteTime": {
     "end_time": "2021-04-09T06:38:47.937557Z",
     "start_time": "2021-04-09T06:38:47.882685Z"
    }
   },
   "outputs": [
    {
     "data": {
      "text/plain": [
       "KNeighborsClassifier(n_neighbors=1)"
      ]
     },
     "execution_count": 764,
     "metadata": {},
     "output_type": "execute_result"
    }
   ],
   "source": [
    "model.fit(X_train, Y_train)"
   ]
  },
  {
   "cell_type": "code",
   "execution_count": 765,
   "metadata": {
    "ExecuteTime": {
     "end_time": "2021-04-09T06:38:48.748267Z",
     "start_time": "2021-04-09T06:38:48.187420Z"
    }
   },
   "outputs": [],
   "source": [
    "y_pred = model.predict(X_test)"
   ]
  },
  {
   "cell_type": "code",
   "execution_count": 766,
   "metadata": {
    "ExecuteTime": {
     "end_time": "2021-04-09T06:38:48.795736Z",
     "start_time": "2021-04-09T06:38:48.754903Z"
    }
   },
   "outputs": [
    {
     "data": {
      "text/plain": [
       "0.22734180002936424"
      ]
     },
     "execution_count": 766,
     "metadata": {},
     "output_type": "execute_result"
    }
   ],
   "source": [
    "jaccard_score(Y_test, y_pred, average='samples')"
   ]
  },
  {
   "cell_type": "code",
   "execution_count": null,
   "metadata": {},
   "outputs": [],
   "source": []
  },
  {
   "cell_type": "code",
   "execution_count": 767,
   "metadata": {
    "ExecuteTime": {
     "end_time": "2021-04-09T06:39:00.881401Z",
     "start_time": "2021-04-09T06:39:00.852437Z"
    }
   },
   "outputs": [],
   "source": [
    "base_rf = RandomForestClassifier(random_state=13)"
   ]
  },
  {
   "cell_type": "code",
   "execution_count": 768,
   "metadata": {
    "ExecuteTime": {
     "end_time": "2021-04-09T06:39:01.229484Z",
     "start_time": "2021-04-09T06:39:01.208493Z"
    }
   },
   "outputs": [],
   "source": [
    "ovr = OneVsRestClassifier(base_rf)"
   ]
  },
  {
   "cell_type": "code",
   "execution_count": 769,
   "metadata": {
    "ExecuteTime": {
     "end_time": "2021-04-09T06:39:20.935897Z",
     "start_time": "2021-04-09T06:39:01.505684Z"
    }
   },
   "outputs": [
    {
     "data": {
      "text/plain": [
       "OneVsRestClassifier(estimator=RandomForestClassifier(random_state=13))"
      ]
     },
     "execution_count": 769,
     "metadata": {},
     "output_type": "execute_result"
    }
   ],
   "source": [
    "ovr.fit(X_train, Y_train)"
   ]
  },
  {
   "cell_type": "code",
   "execution_count": 770,
   "metadata": {
    "ExecuteTime": {
     "end_time": "2021-04-09T06:39:21.472507Z",
     "start_time": "2021-04-09T06:39:20.942879Z"
    }
   },
   "outputs": [],
   "source": [
    "Y_pred_ovr = ovr.predict(X_test)"
   ]
  },
  {
   "cell_type": "code",
   "execution_count": 771,
   "metadata": {
    "ExecuteTime": {
     "end_time": "2021-04-09T06:39:21.519339Z",
     "start_time": "2021-04-09T06:39:21.483436Z"
    }
   },
   "outputs": [
    {
     "data": {
      "text/plain": [
       "0.21490481084520138"
      ]
     },
     "execution_count": 771,
     "metadata": {},
     "output_type": "execute_result"
    }
   ],
   "source": [
    "ovr_jaccard_score = jaccard_score(Y_test, Y_pred_ovr, average='samples')\n",
    "ovr_jaccard_score"
   ]
  },
  {
   "cell_type": "code",
   "execution_count": 624,
   "metadata": {
    "ExecuteTime": {
     "end_time": "2021-04-09T05:28:35.747042Z",
     "start_time": "2021-04-09T05:28:35.722897Z"
    }
   },
   "outputs": [],
   "source": [
    "# Fit an ensemble of RF classifier chains and take the\n",
    "# take the average prediction of all the chains.\n",
    "chains = [ClassifierChain(base_rf, order='random', random_state=i) for i in range(10)]"
   ]
  },
  {
   "cell_type": "code",
   "execution_count": 625,
   "metadata": {
    "ExecuteTime": {
     "end_time": "2021-04-09T05:31:06.840163Z",
     "start_time": "2021-04-09T05:28:35.758012Z"
    }
   },
   "outputs": [],
   "source": [
    "for chain in chains:\n",
    "    chain.fit(X_train, Y_train)"
   ]
  },
  {
   "cell_type": "code",
   "execution_count": 626,
   "metadata": {
    "ExecuteTime": {
     "end_time": "2021-04-09T05:31:11.329473Z",
     "start_time": "2021-04-09T05:31:06.857117Z"
    }
   },
   "outputs": [],
   "source": [
    "Y_pred_chains = np.array([chain.predict(X_test) for chain in chains])"
   ]
  },
  {
   "cell_type": "code",
   "execution_count": 627,
   "metadata": {
    "ExecuteTime": {
     "end_time": "2021-04-09T05:31:11.456301Z",
     "start_time": "2021-04-09T05:31:11.339489Z"
    }
   },
   "outputs": [],
   "source": [
    "chain_jaccard_scores = [jaccard_score(Y_test, Y_pred_chain >= .5,\n",
    "                                      average='samples')\n",
    "                        for Y_pred_chain in Y_pred_chains]"
   ]
  },
  {
   "cell_type": "code",
   "execution_count": 628,
   "metadata": {
    "ExecuteTime": {
     "end_time": "2021-04-09T05:31:11.504654Z",
     "start_time": "2021-04-09T05:31:11.468273Z"
    }
   },
   "outputs": [],
   "source": [
    "Y_pred_ensemble = Y_pred_chains.mean(axis=0)\n",
    "ensemble_jaccard_score = jaccard_score(Y_test,\n",
    "                                       Y_pred_ensemble >= .5,\n",
    "                                       average='samples')"
   ]
  },
  {
   "cell_type": "code",
   "execution_count": 629,
   "metadata": {
    "ExecuteTime": {
     "end_time": "2021-04-09T05:31:11.536947Z",
     "start_time": "2021-04-09T05:31:11.515627Z"
    }
   },
   "outputs": [],
   "source": [
    "model_scores = [ovr_jaccard_score] + chain_jaccard_scores\n",
    "model_scores.append(ensemble_jaccard_score)"
   ]
  },
  {
   "cell_type": "code",
   "execution_count": 630,
   "metadata": {
    "ExecuteTime": {
     "end_time": "2021-04-09T05:31:11.584064Z",
     "start_time": "2021-04-09T05:31:11.555566Z"
    }
   },
   "outputs": [],
   "source": [
    "model_names = ('Independent',\n",
    "               'Chain 1',\n",
    "               'Chain 2',\n",
    "               'Chain 3',\n",
    "               'Chain 4',\n",
    "               'Chain 5',\n",
    "               'Chain 6',\n",
    "               'Chain 7',\n",
    "               'Chain 8',\n",
    "               'Chain 9',\n",
    "               'Chain 10',\n",
    "               'Ensemble')"
   ]
  },
  {
   "cell_type": "code",
   "execution_count": 631,
   "metadata": {
    "ExecuteTime": {
     "end_time": "2021-04-09T05:31:11.646897Z",
     "start_time": "2021-04-09T05:31:11.603051Z"
    }
   },
   "outputs": [],
   "source": [
    "x_pos = np.arange(len(model_names))"
   ]
  },
  {
   "cell_type": "code",
   "execution_count": 632,
   "metadata": {
    "ExecuteTime": {
     "end_time": "2021-04-09T05:31:11.978892Z",
     "start_time": "2021-04-09T05:31:11.656870Z"
    }
   },
   "outputs": [
    {
     "data": {
      "image/png": "[encoded data removed]",
      "text/plain": [
       "<Figure size 720x504 with 1 Axes>"
      ]
     },
     "metadata": {
      "needs_background": "light"
     },
     "output_type": "display_data"
    }
   ],
   "source": [
    "# Plot the Jaccard similarity scores for the independent model, each of the\n",
    "# chains, and the ensemble (note that the vertical axis on this plot does\n",
    "# not begin at 0).\n",
    "\n",
    "fig, ax = plt.subplots(figsize=(10, 7))\n",
    "ax.grid(True)\n",
    "ax.set_title('Classifier Chain Ensemble Performance Comparison')\n",
    "ax.set_xticks(x_pos)\n",
    "ax.set_xticklabels(model_names, rotation='vertical')\n",
    "ax.set_ylabel('Jaccard Similarity Score')\n",
    "ax.set_ylim([min(model_scores) * .9, max(model_scores) * 1.1])\n",
    "colors = ['r'] + ['b'] * len(chain_jaccard_scores) + ['g']\n",
    "ax.bar(x_pos, model_scores, alpha=0.5, color=colors)\n",
    "plt.tight_layout()\n",
    "plt.show()"
   ]
  },
  {
   "cell_type": "code",
   "execution_count": 359,
   "metadata": {
    "ExecuteTime": {
     "end_time": "2021-04-09T04:10:02.632565Z",
     "start_time": "2021-04-09T04:10:02.597658Z"
    }
   },
   "outputs": [
    {
     "data": {
      "text/plain": [
       "Int64Index([], dtype='int64')"
      ]
     },
     "execution_count": 359,
     "metadata": {},
     "output_type": "execute_result"
    }
   ],
   "source": [
    "# X_test_encoded[ (X_test_encoded['Make_0']==0) & \\\n",
    "#               (X_test_encoded['Make_1']==0) & \\\n",
    "#               (X_test_encoded['Make_2']==0) & \\\n",
    "#               (X_test_encoded['Make_3']==0) & \\\n",
    "#               (X_test_encoded['Make_4']==0) & \\\n",
    "#               (X_test_encoded['Make_5']==0) ].index"
   ]
  },
  {
   "cell_type": "code",
   "execution_count": 360,
   "metadata": {
    "ExecuteTime": {
     "end_time": "2021-04-09T04:10:03.489028Z",
     "start_time": "2021-04-09T04:10:03.464054Z"
    }
   },
   "outputs": [
    {
     "data": {
      "text/plain": [
       "Int64Index([], dtype='int64')"
      ]
     },
     "execution_count": 360,
     "metadata": {},
     "output_type": "execute_result"
    }
   ],
   "source": [
    "# X_train_encoded[ (X_train_encoded['Make_0']==0) & \\\n",
    "#               (X_train_encoded['Make_1']==0) & \\\n",
    "#               (X_train_encoded['Make_2']==0) & \\\n",
    "#               (X_train_encoded['Make_3']==0) & \\\n",
    "#               (X_train_encoded['Make_4']==0) & \\\n",
    "#               (X_train_encoded['Make_5']==0) ].index"
   ]
  },
  {
   "cell_type": "code",
   "execution_count": 361,
   "metadata": {
    "ExecuteTime": {
     "end_time": "2021-04-09T04:10:05.277832Z",
     "start_time": "2021-04-09T04:10:05.243894Z"
    }
   },
   "outputs": [
    {
     "data": {
      "text/plain": [
       "Int64Index([], dtype='int64')"
      ]
     },
     "execution_count": 361,
     "metadata": {},
     "output_type": "execute_result"
    }
   ],
   "source": [
    "# X_test_encoded[ (X_test_encoded['Year_0']==0) & \\\n",
    "#               (X_test_encoded['Year_1']==0) & \\\n",
    "#               (X_test_encoded['Year_2']==0) & \\\n",
    "#               (X_test_encoded['Year_3']==0) & \\\n",
    "#               (X_test_encoded['Year_4']==0) & \\\n",
    "#               (X_test_encoded['Year_5']==0) ].index"
   ]
  },
  {
   "cell_type": "code",
   "execution_count": 362,
   "metadata": {
    "ExecuteTime": {
     "end_time": "2021-04-09T04:10:06.151590Z",
     "start_time": "2021-04-09T04:10:06.117640Z"
    }
   },
   "outputs": [
    {
     "data": {
      "text/plain": [
       "Int64Index([], dtype='int64')"
      ]
     },
     "execution_count": 362,
     "metadata": {},
     "output_type": "execute_result"
    }
   ],
   "source": [
    "# X_train_encoded[ (X_train_encoded['Year_0']==0) & \\\n",
    "#               (X_train_encoded['Year_1']==0) & \\\n",
    "#               (X_train_encoded['Year_2']==0) & \\\n",
    "#               (X_train_encoded['Year_3']==0) & \\\n",
    "#               (X_train_encoded['Year_4']==0) & \\\n",
    "#               (X_train_encoded['Year_5']==0) ].index"
   ]
  },
  {
   "cell_type": "code",
   "execution_count": 363,
   "metadata": {
    "ExecuteTime": {
     "end_time": "2021-04-09T04:10:08.517893Z",
     "start_time": "2021-04-09T04:10:08.487974Z"
    }
   },
   "outputs": [
    {
     "data": {
      "text/plain": [
       "Int64Index([29, 91, 146, 147, 243, 326, 374, 588], dtype='int64')"
      ]
     },
     "execution_count": 363,
     "metadata": {},
     "output_type": "execute_result"
    }
   ],
   "source": [
    "# X_test_encoded[ (X_test_encoded['Model_0']==0) & \\\n",
    "#               (X_test_encoded['Model_1']==0) & \\\n",
    "#               (X_test_encoded['Model_2']==0) & \\\n",
    "#               (X_test_encoded['Model_3']==0) & \\\n",
    "#               (X_test_encoded['Model_4']==0) & \\\n",
    "#               (X_test_encoded['Model_5']==0) & \\\n",
    "#                 (X_test_encoded['Model_6']==0) & \\\n",
    "#                (X_test_encoded['Model_7']==0) & \\\n",
    "#               (X_test_encoded['Model_8']==0) ].index"
   ]
  },
  {
   "cell_type": "code",
   "execution_count": 364,
   "metadata": {
    "ExecuteTime": {
     "end_time": "2021-04-09T04:10:21.635861Z",
     "start_time": "2021-04-09T04:10:21.612961Z"
    }
   },
   "outputs": [
    {
     "data": {
      "text/plain": [
       "Int64Index([], dtype='int64')"
      ]
     },
     "execution_count": 364,
     "metadata": {},
     "output_type": "execute_result"
    }
   ],
   "source": [
    "# X_train_encoded[ (X_train_encoded['Model_0']==0) & \\\n",
    "#               (X_train_encoded['Model_1']==0) & \\\n",
    "#               (X_train_encoded['Model_2']==0) & \\\n",
    "#               (X_train_encoded['Model_3']==0) & \\\n",
    "#               (X_train_encoded['Model_4']==0) & \\\n",
    "#               (X_train_encoded['Model_5']==0) & \\\n",
    "#                 (X_train_encoded['Model_6']==0) & \\\n",
    "#                (X_train_encoded['Model_7']==0) & \\\n",
    "#               (X_train_encoded['Model_8']==0) ].index"
   ]
  }
 ],
 "metadata": {
  "kernelspec": {
   "display_name": "Python 3",
   "language": "python",
   "name": "python3"
  },
  "language_info": {
   "codemirror_mode": {
    "name": "ipython",
    "version": 3
   },
   "file_extension": ".py",
   "mimetype": "text/x-python",
   "name": "python",
   "nbconvert_exporter": "python",
   "pygments_lexer": "ipython3",
   "version": "3.8.5"
  },
  "toc": {
   "base_numbering": 1,
   "nav_menu": {},
   "number_sections": true,
   "sideBar": true,
   "skip_h1_title": false,
   "title_cell": "Table of Contents",
   "title_sidebar": "Contents",
   "toc_cell": false,
   "toc_position": {},
   "toc_section_display": true,
   "toc_window_display": false
  }
 },
 "nbformat": 4,
 "nbformat_minor": 4
}
