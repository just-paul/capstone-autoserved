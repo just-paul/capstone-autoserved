{
 "cells": [
  {
   "cell_type": "markdown",
   "id": "9a60c5c9",
   "metadata": {},
   "source": [
    "# Title: DigiTalyer: Online Mekaniko for your Auto"
   ]
  },
  {
   "cell_type": "markdown",
   "id": "65a25820",
   "metadata": {},
   "source": [
    "## Executive Summary"
   ]
  },
  {
   "cell_type": "markdown",
   "id": "94b837e0",
   "metadata": {
    "execution": {
     "iopub.execute_input": "2021-04-16T03:15:35.109247Z",
     "iopub.status.busy": "2021-04-16T03:15:35.107252Z",
     "iopub.status.idle": "2021-04-16T03:15:35.125203Z",
     "shell.execute_reply": "2021-04-16T03:15:35.123209Z",
     "shell.execute_reply.started": "2021-04-16T03:15:35.109247Z"
    }
   },
   "source": [
    "Autoserved is a tech start-up with the aim to automating automotive maintenance. Their software has a predictive maintenance feature that can figure out when a vehicle's next maintenance is due and what needs to be done. It also functions as an online forum where car owners and their maintenance and repair providers (shops, garages) can meet and negotiate about what needs to be done and how much the work will cost. **Autoserved decided to improve their maintenance scheduling algorithm**, so the Data Science Cohort 6 Fellows of Eskwelabs worked with them to solve their current requirements. This project aims to **develop a recommender engine that can predict potential car maintenance services based on a set of input variables.**\n",
    "\n",
    "The history of customer transactions from Autoserved's database was examined in this project, which spanned the years 2018 to 2021.\n",
    "\n",
    "---- Model -----\n",
    "\n",
    "---- Conclusion ----\n",
    "\n",
    "[Reference Technical Report](https://courses.eskwelabs.com/courses/18/files/6065)"
   ]
  },
  {
   "cell_type": "markdown",
   "id": "6fc597fa",
   "metadata": {},
   "source": [
    "## Table of Contents\n",
    "\n",
    "#### 1. Introduction\n",
    "\n",
    "#### 2. Business Objective\n",
    "* 2.1 Limitation\n",
    "\n",
    "#### 3. Dataset\n",
    "* 3.1 Schema (Columns)\n",
    "* 3.2 Data Preview\n",
    "* 3.3 Statistical Summary\n",
    "* 3.4 Final Features\n",
    "\n",
    "#### 4. Data Cleaning and Preparation\n",
    "\n",
    "#### 5. Exploratory Data Analysis\n",
    "\n",
    "#### 6. Data Preprocessing\n",
    "* 6.1 Encoding\n",
    "\n",
    "#### 7. Modelling\n",
    "* 7.1 Model Fitting\n",
    "* 7.2 Model Optimization and Hyperparameter Tuning\n",
    "* 7.3 Metric and Result Interpretation\n",
    "* 7.4 Test Prediction\n",
    "* 7.5 Recommender Engine\n",
    "\n",
    "#### 8. Final Result and Recommendation\n"
   ]
  },
  {
   "cell_type": "markdown",
   "id": "26ae142e",
   "metadata": {},
   "source": [
    "##  1. Introduction "
   ]
  },
  {
   "cell_type": "markdown",
   "id": "d593971e",
   "metadata": {
    "execution": {
     "iopub.execute_input": "2021-04-15T05:59:34.641701Z",
     "iopub.status.busy": "2021-04-15T05:59:34.641701Z",
     "iopub.status.idle": "2021-04-15T05:59:34.655665Z",
     "shell.execute_reply": "2021-04-15T05:59:34.655665Z",
     "shell.execute_reply.started": "2021-04-15T05:59:34.641701Z"
    }
   },
   "source": [
    "Autoserved is a tech start-up with the aim to automating automotive maintenance. Their software has a predictive maintenance feature that can figure out when a vehicle's next maintenance is due and what needs to be done. It also functions as an online forum where car owners and their maintenance and repair providers (shops, garages) can meet and negotiate about what needs to be done and how much the work will cost.\n",
    "\n",
    "Autoserved decided to improve their maintenance scheduling algorithm, so the Data Science Cohort 6 Fellows of Eskwelabs worked with them to solve their current requirements."
   ]
  },
  {
   "cell_type": "markdown",
   "id": "8cac923e",
   "metadata": {},
   "source": [
    "## 2. Business Objective"
   ]
  },
  {
   "cell_type": "markdown",
   "id": "e90a40eb",
   "metadata": {
    "execution": {
     "iopub.execute_input": "2021-04-15T05:59:34.657660Z",
     "iopub.status.busy": "2021-04-15T05:59:34.657660Z",
     "iopub.status.idle": "2021-04-15T05:59:34.671624Z",
     "shell.execute_reply": "2021-04-15T05:59:34.671624Z",
     "shell.execute_reply.started": "2021-04-15T05:59:34.657660Z"
    }
   },
   "source": [
    "The main goal is to develop a recommender engine that can predict potential car maintenance services based on a set of input variables."
   ]
  },
  {
   "cell_type": "markdown",
   "id": "bcd551f0",
   "metadata": {},
   "source": [
    "### 2.1 Limitation\n",
    "\n",
    "* For any Recommender Engine one of the limitation that it faces is the term 'Cold Start' where there is nothing to recommend for users that doesn't have any transaction history within the system. This also applies to our model, where the issue is that the recommeder engine will have a hard time recommending newer or latest car make, model and year because their data is non existent within the data set. This can be addressed by making another model which caters to all cars in general, a rather crude approach compared to the original recommender engine.\n"
   ]
  },
  {
   "cell_type": "markdown",
   "id": "d6201d2e",
   "metadata": {},
   "source": [
    "## 3. Dataset"
   ]
  },
  {
   "cell_type": "markdown",
   "id": "1b8557a8",
   "metadata": {},
   "source": [
    "The data came from  Autoserved's database, which contains the history of their customers' transactions in their repair shops from 2018 to 2021."
   ]
  },
  {
   "cell_type": "markdown",
   "id": "81790e60",
   "metadata": {},
   "source": [
    "### 3.1 Data Schema\n",
    "###    The Original dataset was comprised of the following columns:\n",
    "    \n",
    "* Created - Input data date Creation.\n",
    "\n",
    "* Mileage In - Total Mileage of the vehicle when brought into the repair shop.\n",
    "\n",
    "* Mileage Out - Total Mileage of the vehicle when coming out of the repair shop.\n",
    "\n",
    "* Work Order - Value to indicate the job/work order. Unique for every transactions.\n",
    "\n",
    "* Model - Vehicle Model/Type.\n",
    "\n",
    "* Engine - Engine Identification Number.\n",
    "\n",
    "* Line Type - Kind of Services done; Can either be Labor or Material\n",
    "\n",
    "* Service Category - Main Service package availed.\n",
    "\n",
    "* Service Package - Service Category breakdown.\n",
    "\n",
    "* Description - Work order brief description.\n",
    "\n",
    "* Price - Price of the material or labor done.\n",
    "\n",
    "* Quantity - Total number of materials purchased.\n",
    "\n",
    "* Cost - Total cost of the materials purchased.\n",
    "\n",
    "* Total - Total price of the material and labor done to the vehicle (discount exclusive).\n",
    "\n",
    "* Part Number - Part ID that was replaced or serviced on.\n",
    "\n",
    "* Manufacturer - Replacement part manufacture.\n",
    "\n",
    "* Discount - Discounted amount from the total price.\n",
    "\n",
    "* Net Total - Total price of the material and labor done to the vehicle (discount inclusive).\n",
    "\n",
    "* VIN - Vehicle Identification Number.\n",
    "\n",
    "* ContactID - Unique Identifier for the Vehicle owner.\n",
    "\n",
    "* ServiceItemID - Unique Identifier for the Material/Parts. (local system)\n",
    "\n",
    "* InvoiceID - Input data date Creation.\n",
    "\n",
    "* Make - Vehicle Make/Brand (i.e. Honda, Mitsubishi, Hyundai, etc.)\n",
    "\n",
    "* Year - Vehicle release year."
   ]
  },
  {
   "cell_type": "markdown",
   "id": "e77e5ff2",
   "metadata": {},
   "source": [
    "### 3.2 Dataset Preview\n",
    "    "
   ]
  },
  {
   "cell_type": "markdown",
   "id": "efed3a95",
   "metadata": {},
   "source": [
    "#### Importing the core packages"
   ]
  },
  {
   "cell_type": "code",
   "execution_count": 2,
   "id": "b855f3dc",
   "metadata": {
    "execution": {
     "iopub.execute_input": "2021-04-16T03:27:12.677366Z",
     "iopub.status.busy": "2021-04-16T03:27:12.677366Z",
     "iopub.status.idle": "2021-04-16T03:27:15.513158Z",
     "shell.execute_reply": "2021-04-16T03:27:15.512248Z",
     "shell.execute_reply.started": "2021-04-16T03:27:12.677366Z"
    }
   },
   "outputs": [],
   "source": [
    "import pandas as pd\r\n",
    "import numpy as np\r\n",
    "import matplotlib.pyplot as plt\r\n",
    "import seaborn as sns\r\n",
    "%matplotlib inline\r\n",
    "pd.set_option('display.max_column',50)"
   ]
  },
  {
   "cell_type": "code",
   "execution_count": 3,
   "id": "7ef07b13",
   "metadata": {
    "execution": {
     "iopub.execute_input": "2021-04-16T03:27:15.516151Z",
     "iopub.status.busy": "2021-04-16T03:27:15.516151Z",
     "iopub.status.idle": "2021-04-16T03:27:15.827072Z",
     "shell.execute_reply": "2021-04-16T03:27:15.826071Z",
     "shell.execute_reply.started": "2021-04-16T03:27:15.516151Z"
    }
   },
   "outputs": [],
   "source": [
    "# reading the original CSV file\n",
    "master_df = pd.read_csv('Final_Final 2.csv')"
   ]
  },
  {
   "cell_type": "markdown",
   "id": "258a89e4",
   "metadata": {},
   "source": [
    "#### Total Number of Columns and Rows in the Data Set. "
   ]
  },
  {
   "cell_type": "code",
   "execution_count": 4,
   "id": "3518a179",
   "metadata": {
    "execution": {
     "iopub.execute_input": "2021-04-16T03:27:15.829069Z",
     "iopub.status.busy": "2021-04-16T03:27:15.828069Z",
     "iopub.status.idle": "2021-04-16T03:27:15.845025Z",
     "shell.execute_reply": "2021-04-16T03:27:15.842032Z",
     "shell.execute_reply.started": "2021-04-16T03:27:15.829069Z"
    }
   },
   "outputs": [
    {
     "data": {
      "text/plain": [
       "(30585, 23)"
      ]
     },
     "execution_count": 4,
     "metadata": {},
     "output_type": "execute_result"
    }
   ],
   "source": [
    "# Shape of the Data set\n",
    "master_df.shape"
   ]
  },
  {
   "cell_type": "markdown",
   "id": "ca84d86e",
   "metadata": {},
   "source": [
    "#### Previewing the Top and Last 5 entries of the Data set"
   ]
  },
  {
   "cell_type": "code",
   "execution_count": 5,
   "id": "3916366b",
   "metadata": {
    "execution": {
     "iopub.execute_input": "2021-04-16T03:27:15.850011Z",
     "iopub.status.busy": "2021-04-16T03:27:15.849013Z",
     "iopub.status.idle": "2021-04-16T03:27:15.904864Z",
     "shell.execute_reply": "2021-04-16T03:27:15.903869Z",
     "shell.execute_reply.started": "2021-04-16T03:27:15.850011Z"
    }
   },
   "outputs": [
    {
     "data": {
      "text/html": [
       "<div>\n",
       "<style scoped>\n",
       "    .dataframe tbody tr th:only-of-type {\n",
       "        vertical-align: middle;\n",
       "    }\n",
       "\n",
       "    .dataframe tbody tr th {\n",
       "        vertical-align: top;\n",
       "    }\n",
       "\n",
       "    .dataframe thead th {\n",
       "        text-align: right;\n",
       "    }\n",
       "</style>\n",
       "<table border=\"1\" class=\"dataframe\">\n",
       "  <thead>\n",
       "    <tr style=\"text-align: right;\">\n",
       "      <th></th>\n",
       "      <th>Primary Key</th>\n",
       "      <th>Created</th>\n",
       "      <th>Mileage In</th>\n",
       "      <th>Work Order</th>\n",
       "      <th>Model</th>\n",
       "      <th>Line Type</th>\n",
       "      <th>Service Category</th>\n",
       "      <th>Service Package</th>\n",
       "      <th>Description</th>\n",
       "      <th>Definition</th>\n",
       "      <th>Price</th>\n",
       "      <th>Quantity</th>\n",
       "      <th>Total</th>\n",
       "      <th>Discount</th>\n",
       "      <th>Net Total</th>\n",
       "      <th>ContactID</th>\n",
       "      <th>ServiceItemID</th>\n",
       "      <th>InvoiceID</th>\n",
       "      <th>Make</th>\n",
       "      <th>Year</th>\n",
       "      <th>labels</th>\n",
       "      <th>is_same_label</th>\n",
       "      <th>body type</th>\n",
       "    </tr>\n",
       "  </thead>\n",
       "  <tbody>\n",
       "    <tr>\n",
       "      <th>0</th>\n",
       "      <td>17</td>\n",
       "      <td>2018-12-26 10:37:00</td>\n",
       "      <td>68624</td>\n",
       "      <td>33</td>\n",
       "      <td>getz</td>\n",
       "      <td>Material</td>\n",
       "      <td>Engine</td>\n",
       "      <td>PRIMARY CONCERN RECOMMENDATION - Cutch Repair ...</td>\n",
       "      <td>Rear Crankshaft Oil Seal</td>\n",
       "      <td>Engine Crankshaft Seal Kit</td>\n",
       "      <td>1119.40</td>\n",
       "      <td>1.00</td>\n",
       "      <td>1119.40</td>\n",
       "      <td>0.0</td>\n",
       "      <td>1119.40</td>\n",
       "      <td>4aef74d9-54e9-49cb-a19d-ea4b0f176f38</td>\n",
       "      <td>b48f8026-ee33-4c68-9ee1-753f2d8efba0</td>\n",
       "      <td>fa8339e2-c1e0-4635-936c-fc075eaa5e15</td>\n",
       "      <td>hyundai</td>\n",
       "      <td>2010</td>\n",
       "      <td>Clutch General Service (Replacement of Clutch ...</td>\n",
       "      <td>False</td>\n",
       "      <td>HATCHBACK</td>\n",
       "    </tr>\n",
       "    <tr>\n",
       "      <th>1</th>\n",
       "      <td>18</td>\n",
       "      <td>2018-12-26 10:37:00</td>\n",
       "      <td>68624</td>\n",
       "      <td>33</td>\n",
       "      <td>getz</td>\n",
       "      <td>Labor</td>\n",
       "      <td>Engine</td>\n",
       "      <td>PRIMARY CONCERN RECOMMENDATION - Cutch Repair ...</td>\n",
       "      <td>Labor</td>\n",
       "      <td>NaN</td>\n",
       "      <td>446.43</td>\n",
       "      <td>12.71</td>\n",
       "      <td>5674.13</td>\n",
       "      <td>0.0</td>\n",
       "      <td>5674.13</td>\n",
       "      <td>4aef74d9-54e9-49cb-a19d-ea4b0f176f38</td>\n",
       "      <td>b48f8026-ee33-4c68-9ee1-753f2d8efba0</td>\n",
       "      <td>fa8339e2-c1e0-4635-936c-fc075eaa5e15</td>\n",
       "      <td>hyundai</td>\n",
       "      <td>2010</td>\n",
       "      <td>Clutch General Service (Replacement of Clutch ...</td>\n",
       "      <td>False</td>\n",
       "      <td>HATCHBACK</td>\n",
       "    </tr>\n",
       "    <tr>\n",
       "      <th>2</th>\n",
       "      <td>19</td>\n",
       "      <td>2018-12-26 10:37:00</td>\n",
       "      <td>68624</td>\n",
       "      <td>33</td>\n",
       "      <td>getz</td>\n",
       "      <td>Labor</td>\n",
       "      <td>Engine</td>\n",
       "      <td>PRIMARY CONCERN RECOMMENDATION - Re-seal Oil P...</td>\n",
       "      <td>Labor</td>\n",
       "      <td>NaN</td>\n",
       "      <td>446.43</td>\n",
       "      <td>3.00</td>\n",
       "      <td>1339.29</td>\n",
       "      <td>0.0</td>\n",
       "      <td>1339.29</td>\n",
       "      <td>4aef74d9-54e9-49cb-a19d-ea4b0f176f38</td>\n",
       "      <td>b48f8026-ee33-4c68-9ee1-753f2d8efba0</td>\n",
       "      <td>fa8339e2-c1e0-4635-936c-fc075eaa5e15</td>\n",
       "      <td>hyundai</td>\n",
       "      <td>2010</td>\n",
       "      <td>Engine Oil / Oil Filter</td>\n",
       "      <td>False</td>\n",
       "      <td>HATCHBACK</td>\n",
       "    </tr>\n",
       "    <tr>\n",
       "      <th>3</th>\n",
       "      <td>20</td>\n",
       "      <td>2018-12-26 10:37:00</td>\n",
       "      <td>68624</td>\n",
       "      <td>33</td>\n",
       "      <td>getz</td>\n",
       "      <td>Material</td>\n",
       "      <td>Engine</td>\n",
       "      <td>PRIMARY CONCERN RECOMMENDATION - Cutch Repair ...</td>\n",
       "      <td>Clutch Cover</td>\n",
       "      <td>NaN</td>\n",
       "      <td>2462.69</td>\n",
       "      <td>1.00</td>\n",
       "      <td>2462.69</td>\n",
       "      <td>0.0</td>\n",
       "      <td>2462.69</td>\n",
       "      <td>4aef74d9-54e9-49cb-a19d-ea4b0f176f38</td>\n",
       "      <td>b48f8026-ee33-4c68-9ee1-753f2d8efba0</td>\n",
       "      <td>fa8339e2-c1e0-4635-936c-fc075eaa5e15</td>\n",
       "      <td>hyundai</td>\n",
       "      <td>2010</td>\n",
       "      <td>Clutch General Service (Replacement of Clutch ...</td>\n",
       "      <td>False</td>\n",
       "      <td>HATCHBACK</td>\n",
       "    </tr>\n",
       "    <tr>\n",
       "      <th>4</th>\n",
       "      <td>21</td>\n",
       "      <td>2018-12-26 10:37:00</td>\n",
       "      <td>68624</td>\n",
       "      <td>33</td>\n",
       "      <td>getz</td>\n",
       "      <td>Material</td>\n",
       "      <td>Engine</td>\n",
       "      <td>PRIMARY CONCERN RECOMMENDATION - Cutch Repair ...</td>\n",
       "      <td>GEARMASTER SAE 90</td>\n",
       "      <td>Automatic Transmission Fluid</td>\n",
       "      <td>186.57</td>\n",
       "      <td>3.00</td>\n",
       "      <td>559.71</td>\n",
       "      <td>0.0</td>\n",
       "      <td>559.71</td>\n",
       "      <td>4aef74d9-54e9-49cb-a19d-ea4b0f176f38</td>\n",
       "      <td>b48f8026-ee33-4c68-9ee1-753f2d8efba0</td>\n",
       "      <td>fa8339e2-c1e0-4635-936c-fc075eaa5e15</td>\n",
       "      <td>hyundai</td>\n",
       "      <td>2010</td>\n",
       "      <td>Transmission Fluid Replacement &amp; Filter Service</td>\n",
       "      <td>False</td>\n",
       "      <td>HATCHBACK</td>\n",
       "    </tr>\n",
       "  </tbody>\n",
       "</table>\n",
       "</div>"
      ],
      "text/plain": [
       "   Primary Key              Created  Mileage In  Work Order Model Line Type  \\\n",
       "0           17  2018-12-26 10:37:00       68624          33  getz  Material   \n",
       "1           18  2018-12-26 10:37:00       68624          33  getz     Labor   \n",
       "2           19  2018-12-26 10:37:00       68624          33  getz     Labor   \n",
       "3           20  2018-12-26 10:37:00       68624          33  getz  Material   \n",
       "4           21  2018-12-26 10:37:00       68624          33  getz  Material   \n",
       "\n",
       "  Service Category                                    Service Package  \\\n",
       "0           Engine  PRIMARY CONCERN RECOMMENDATION - Cutch Repair ...   \n",
       "1           Engine  PRIMARY CONCERN RECOMMENDATION - Cutch Repair ...   \n",
       "2           Engine  PRIMARY CONCERN RECOMMENDATION - Re-seal Oil P...   \n",
       "3           Engine  PRIMARY CONCERN RECOMMENDATION - Cutch Repair ...   \n",
       "4           Engine  PRIMARY CONCERN RECOMMENDATION - Cutch Repair ...   \n",
       "\n",
       "                Description                    Definition    Price  Quantity  \\\n",
       "0  Rear Crankshaft Oil Seal    Engine Crankshaft Seal Kit  1119.40      1.00   \n",
       "1                     Labor                           NaN   446.43     12.71   \n",
       "2                     Labor                           NaN   446.43      3.00   \n",
       "3              Clutch Cover                           NaN  2462.69      1.00   \n",
       "4         GEARMASTER SAE 90  Automatic Transmission Fluid   186.57      3.00   \n",
       "\n",
       "     Total  Discount  Net Total                             ContactID  \\\n",
       "0  1119.40       0.0    1119.40  4aef74d9-54e9-49cb-a19d-ea4b0f176f38   \n",
       "1  5674.13       0.0    5674.13  4aef74d9-54e9-49cb-a19d-ea4b0f176f38   \n",
       "2  1339.29       0.0    1339.29  4aef74d9-54e9-49cb-a19d-ea4b0f176f38   \n",
       "3  2462.69       0.0    2462.69  4aef74d9-54e9-49cb-a19d-ea4b0f176f38   \n",
       "4   559.71       0.0     559.71  4aef74d9-54e9-49cb-a19d-ea4b0f176f38   \n",
       "\n",
       "                          ServiceItemID                             InvoiceID  \\\n",
       "0  b48f8026-ee33-4c68-9ee1-753f2d8efba0  fa8339e2-c1e0-4635-936c-fc075eaa5e15   \n",
       "1  b48f8026-ee33-4c68-9ee1-753f2d8efba0  fa8339e2-c1e0-4635-936c-fc075eaa5e15   \n",
       "2  b48f8026-ee33-4c68-9ee1-753f2d8efba0  fa8339e2-c1e0-4635-936c-fc075eaa5e15   \n",
       "3  b48f8026-ee33-4c68-9ee1-753f2d8efba0  fa8339e2-c1e0-4635-936c-fc075eaa5e15   \n",
       "4  b48f8026-ee33-4c68-9ee1-753f2d8efba0  fa8339e2-c1e0-4635-936c-fc075eaa5e15   \n",
       "\n",
       "      Make  Year                                             labels  \\\n",
       "0  hyundai  2010  Clutch General Service (Replacement of Clutch ...   \n",
       "1  hyundai  2010  Clutch General Service (Replacement of Clutch ...   \n",
       "2  hyundai  2010                            Engine Oil / Oil Filter   \n",
       "3  hyundai  2010  Clutch General Service (Replacement of Clutch ...   \n",
       "4  hyundai  2010    Transmission Fluid Replacement & Filter Service   \n",
       "\n",
       "   is_same_label  body type  \n",
       "0          False  HATCHBACK  \n",
       "1          False  HATCHBACK  \n",
       "2          False  HATCHBACK  \n",
       "3          False  HATCHBACK  \n",
       "4          False  HATCHBACK  "
      ]
     },
     "execution_count": 5,
     "metadata": {},
     "output_type": "execute_result"
    }
   ],
   "source": [
    "master_df.head()"
   ]
  },
  {
   "cell_type": "code",
   "execution_count": 6,
   "id": "40bf387b",
   "metadata": {
    "execution": {
     "iopub.execute_input": "2021-04-16T03:27:15.906860Z",
     "iopub.status.busy": "2021-04-16T03:27:15.905863Z",
     "iopub.status.idle": "2021-04-16T03:27:15.952736Z",
     "shell.execute_reply": "2021-04-16T03:27:15.951739Z",
     "shell.execute_reply.started": "2021-04-16T03:27:15.906860Z"
    }
   },
   "outputs": [
    {
     "data": {
      "text/html": [
       "<div>\n",
       "<style scoped>\n",
       "    .dataframe tbody tr th:only-of-type {\n",
       "        vertical-align: middle;\n",
       "    }\n",
       "\n",
       "    .dataframe tbody tr th {\n",
       "        vertical-align: top;\n",
       "    }\n",
       "\n",
       "    .dataframe thead th {\n",
       "        text-align: right;\n",
       "    }\n",
       "</style>\n",
       "<table border=\"1\" class=\"dataframe\">\n",
       "  <thead>\n",
       "    <tr style=\"text-align: right;\">\n",
       "      <th></th>\n",
       "      <th>Primary Key</th>\n",
       "      <th>Created</th>\n",
       "      <th>Mileage In</th>\n",
       "      <th>Work Order</th>\n",
       "      <th>Model</th>\n",
       "      <th>Line Type</th>\n",
       "      <th>Service Category</th>\n",
       "      <th>Service Package</th>\n",
       "      <th>Description</th>\n",
       "      <th>Definition</th>\n",
       "      <th>Price</th>\n",
       "      <th>Quantity</th>\n",
       "      <th>Total</th>\n",
       "      <th>Discount</th>\n",
       "      <th>Net Total</th>\n",
       "      <th>ContactID</th>\n",
       "      <th>ServiceItemID</th>\n",
       "      <th>InvoiceID</th>\n",
       "      <th>Make</th>\n",
       "      <th>Year</th>\n",
       "      <th>labels</th>\n",
       "      <th>is_same_label</th>\n",
       "      <th>body type</th>\n",
       "    </tr>\n",
       "  </thead>\n",
       "  <tbody>\n",
       "    <tr>\n",
       "      <th>30580</th>\n",
       "      <td>43003</td>\n",
       "      <td>2021-03-16 15:16:00</td>\n",
       "      <td>24616</td>\n",
       "      <td>2306</td>\n",
       "      <td>wigo</td>\n",
       "      <td>Labor</td>\n",
       "      <td>Change Oil</td>\n",
       "      <td>Change Oil Package - FULLY Synthetic (3L)</td>\n",
       "      <td>Labor</td>\n",
       "      <td>NaN</td>\n",
       "      <td>446.43</td>\n",
       "      <td>1.0</td>\n",
       "      <td>446.43</td>\n",
       "      <td>0.0</td>\n",
       "      <td>446.43</td>\n",
       "      <td>fe2e472c-f023-4e6d-99a7-7a7f62507c29</td>\n",
       "      <td>f2acbad0-5080-4eb7-b8df-8b3d91cc3c24</td>\n",
       "      <td>47e97fa8-6590-4264-a0f4-3a7b58c5126f</td>\n",
       "      <td>toyota</td>\n",
       "      <td>2019</td>\n",
       "      <td>Change oil, Lube and Flushing</td>\n",
       "      <td>True</td>\n",
       "      <td>HATCHBACK</td>\n",
       "    </tr>\n",
       "    <tr>\n",
       "      <th>30581</th>\n",
       "      <td>43004</td>\n",
       "      <td>2021-03-16 15:16:00</td>\n",
       "      <td>24616</td>\n",
       "      <td>2306</td>\n",
       "      <td>wigo</td>\n",
       "      <td>Material</td>\n",
       "      <td>Change Oil</td>\n",
       "      <td>Change Oil Package - FULLY Synthetic (3L)</td>\n",
       "      <td>ENGINE FLUSHING</td>\n",
       "      <td>NaN</td>\n",
       "      <td>267.87</td>\n",
       "      <td>1.0</td>\n",
       "      <td>267.87</td>\n",
       "      <td>0.0</td>\n",
       "      <td>267.87</td>\n",
       "      <td>fe2e472c-f023-4e6d-99a7-7a7f62507c29</td>\n",
       "      <td>f2acbad0-5080-4eb7-b8df-8b3d91cc3c24</td>\n",
       "      <td>47e97fa8-6590-4264-a0f4-3a7b58c5126f</td>\n",
       "      <td>toyota</td>\n",
       "      <td>2019</td>\n",
       "      <td>Change oil, Lube and Flushing</td>\n",
       "      <td>True</td>\n",
       "      <td>HATCHBACK</td>\n",
       "    </tr>\n",
       "    <tr>\n",
       "      <th>30582</th>\n",
       "      <td>43005</td>\n",
       "      <td>2021-03-16 15:16:00</td>\n",
       "      <td>24616</td>\n",
       "      <td>2306</td>\n",
       "      <td>wigo</td>\n",
       "      <td>Material</td>\n",
       "      <td>Change Oil</td>\n",
       "      <td>Change Oil Package - FULLY Synthetic (3L)</td>\n",
       "      <td>REPSOL ELITE MULTIVALVULAS 10W40 - 1L</td>\n",
       "      <td>Engine Oil</td>\n",
       "      <td>607.14</td>\n",
       "      <td>3.0</td>\n",
       "      <td>1821.42</td>\n",
       "      <td>0.0</td>\n",
       "      <td>1821.42</td>\n",
       "      <td>fe2e472c-f023-4e6d-99a7-7a7f62507c29</td>\n",
       "      <td>f2acbad0-5080-4eb7-b8df-8b3d91cc3c24</td>\n",
       "      <td>47e97fa8-6590-4264-a0f4-3a7b58c5126f</td>\n",
       "      <td>toyota</td>\n",
       "      <td>2019</td>\n",
       "      <td>Change oil, Lube and Flushing</td>\n",
       "      <td>True</td>\n",
       "      <td>HATCHBACK</td>\n",
       "    </tr>\n",
       "    <tr>\n",
       "      <th>30583</th>\n",
       "      <td>43006</td>\n",
       "      <td>2021-03-16 15:16:00</td>\n",
       "      <td>24616</td>\n",
       "      <td>2306</td>\n",
       "      <td>wigo</td>\n",
       "      <td>Material</td>\n",
       "      <td>Change Oil</td>\n",
       "      <td>Change Oil Package - FULLY Synthetic (3L)</td>\n",
       "      <td>OIL FILTER</td>\n",
       "      <td>NaN</td>\n",
       "      <td>428.57</td>\n",
       "      <td>1.0</td>\n",
       "      <td>428.57</td>\n",
       "      <td>0.0</td>\n",
       "      <td>428.57</td>\n",
       "      <td>fe2e472c-f023-4e6d-99a7-7a7f62507c29</td>\n",
       "      <td>f2acbad0-5080-4eb7-b8df-8b3d91cc3c24</td>\n",
       "      <td>47e97fa8-6590-4264-a0f4-3a7b58c5126f</td>\n",
       "      <td>toyota</td>\n",
       "      <td>2019</td>\n",
       "      <td>Change oil, Lube and Flushing</td>\n",
       "      <td>True</td>\n",
       "      <td>HATCHBACK</td>\n",
       "    </tr>\n",
       "    <tr>\n",
       "      <th>30584</th>\n",
       "      <td>43007</td>\n",
       "      <td>2021-03-16 15:16:00</td>\n",
       "      <td>24616</td>\n",
       "      <td>2306</td>\n",
       "      <td>wigo</td>\n",
       "      <td>Material</td>\n",
       "      <td>Change Oil</td>\n",
       "      <td>Change Oil Package - FULLY Synthetic (3L)</td>\n",
       "      <td>POWER COOLANT</td>\n",
       "      <td>NaN</td>\n",
       "      <td>178.57</td>\n",
       "      <td>1.0</td>\n",
       "      <td>178.57</td>\n",
       "      <td>0.0</td>\n",
       "      <td>178.57</td>\n",
       "      <td>fe2e472c-f023-4e6d-99a7-7a7f62507c29</td>\n",
       "      <td>f2acbad0-5080-4eb7-b8df-8b3d91cc3c24</td>\n",
       "      <td>47e97fa8-6590-4264-a0f4-3a7b58c5126f</td>\n",
       "      <td>toyota</td>\n",
       "      <td>2019</td>\n",
       "      <td>Change oil, Lube and Flushing</td>\n",
       "      <td>True</td>\n",
       "      <td>HATCHBACK</td>\n",
       "    </tr>\n",
       "  </tbody>\n",
       "</table>\n",
       "</div>"
      ],
      "text/plain": [
       "       Primary Key              Created  Mileage In  Work Order Model  \\\n",
       "30580        43003  2021-03-16 15:16:00       24616        2306  wigo   \n",
       "30581        43004  2021-03-16 15:16:00       24616        2306  wigo   \n",
       "30582        43005  2021-03-16 15:16:00       24616        2306  wigo   \n",
       "30583        43006  2021-03-16 15:16:00       24616        2306  wigo   \n",
       "30584        43007  2021-03-16 15:16:00       24616        2306  wigo   \n",
       "\n",
       "      Line Type Service Category                            Service Package  \\\n",
       "30580     Labor       Change Oil  Change Oil Package - FULLY Synthetic (3L)   \n",
       "30581  Material       Change Oil  Change Oil Package - FULLY Synthetic (3L)   \n",
       "30582  Material       Change Oil  Change Oil Package - FULLY Synthetic (3L)   \n",
       "30583  Material       Change Oil  Change Oil Package - FULLY Synthetic (3L)   \n",
       "30584  Material       Change Oil  Change Oil Package - FULLY Synthetic (3L)   \n",
       "\n",
       "                                 Description  Definition   Price  Quantity  \\\n",
       "30580                                  Labor         NaN  446.43       1.0   \n",
       "30581                        ENGINE FLUSHING         NaN  267.87       1.0   \n",
       "30582  REPSOL ELITE MULTIVALVULAS 10W40 - 1L  Engine Oil  607.14       3.0   \n",
       "30583                             OIL FILTER         NaN  428.57       1.0   \n",
       "30584                          POWER COOLANT         NaN  178.57       1.0   \n",
       "\n",
       "         Total  Discount  Net Total                             ContactID  \\\n",
       "30580   446.43       0.0     446.43  fe2e472c-f023-4e6d-99a7-7a7f62507c29   \n",
       "30581   267.87       0.0     267.87  fe2e472c-f023-4e6d-99a7-7a7f62507c29   \n",
       "30582  1821.42       0.0    1821.42  fe2e472c-f023-4e6d-99a7-7a7f62507c29   \n",
       "30583   428.57       0.0     428.57  fe2e472c-f023-4e6d-99a7-7a7f62507c29   \n",
       "30584   178.57       0.0     178.57  fe2e472c-f023-4e6d-99a7-7a7f62507c29   \n",
       "\n",
       "                              ServiceItemID  \\\n",
       "30580  f2acbad0-5080-4eb7-b8df-8b3d91cc3c24   \n",
       "30581  f2acbad0-5080-4eb7-b8df-8b3d91cc3c24   \n",
       "30582  f2acbad0-5080-4eb7-b8df-8b3d91cc3c24   \n",
       "30583  f2acbad0-5080-4eb7-b8df-8b3d91cc3c24   \n",
       "30584  f2acbad0-5080-4eb7-b8df-8b3d91cc3c24   \n",
       "\n",
       "                                  InvoiceID    Make  Year  \\\n",
       "30580  47e97fa8-6590-4264-a0f4-3a7b58c5126f  toyota  2019   \n",
       "30581  47e97fa8-6590-4264-a0f4-3a7b58c5126f  toyota  2019   \n",
       "30582  47e97fa8-6590-4264-a0f4-3a7b58c5126f  toyota  2019   \n",
       "30583  47e97fa8-6590-4264-a0f4-3a7b58c5126f  toyota  2019   \n",
       "30584  47e97fa8-6590-4264-a0f4-3a7b58c5126f  toyota  2019   \n",
       "\n",
       "                              labels  is_same_label  body type  \n",
       "30580  Change oil, Lube and Flushing           True  HATCHBACK  \n",
       "30581  Change oil, Lube and Flushing           True  HATCHBACK  \n",
       "30582  Change oil, Lube and Flushing           True  HATCHBACK  \n",
       "30583  Change oil, Lube and Flushing           True  HATCHBACK  \n",
       "30584  Change oil, Lube and Flushing           True  HATCHBACK  "
      ]
     },
     "execution_count": 6,
     "metadata": {},
     "output_type": "execute_result"
    }
   ],
   "source": [
    "master_df.tail()"
   ]
  },
  {
   "cell_type": "markdown",
   "id": "2cc5bfc5",
   "metadata": {},
   "source": [
    "#### Checking data types of the data"
   ]
  },
  {
   "cell_type": "code",
   "execution_count": 7,
   "id": "9577d70b",
   "metadata": {
    "execution": {
     "iopub.execute_input": "2021-04-16T03:27:15.953733Z",
     "iopub.status.busy": "2021-04-16T03:27:15.953733Z",
     "iopub.status.idle": "2021-04-16T03:27:16.015905Z",
     "shell.execute_reply": "2021-04-16T03:27:16.014908Z",
     "shell.execute_reply.started": "2021-04-16T03:27:15.953733Z"
    }
   },
   "outputs": [
    {
     "name": "stdout",
     "output_type": "stream",
     "text": [
      "<class 'pandas.core.frame.DataFrame'>\n",
      "RangeIndex: 30585 entries, 0 to 30584\n",
      "Data columns (total 23 columns):\n",
      " #   Column            Non-Null Count  Dtype  \n",
      "---  ------            --------------  -----  \n",
      " 0   Primary Key       30585 non-null  int64  \n",
      " 1   Created           30585 non-null  object \n",
      " 2   Mileage In        30585 non-null  int64  \n",
      " 3   Work Order        30585 non-null  int64  \n",
      " 4   Model             30585 non-null  object \n",
      " 5   Line Type         30585 non-null  object \n",
      " 6   Service Category  30585 non-null  object \n",
      " 7   Service Package   30563 non-null  object \n",
      " 8   Description       30585 non-null  object \n",
      " 9   Definition        13496 non-null  object \n",
      " 10  Price             30585 non-null  float64\n",
      " 11  Quantity          30585 non-null  float64\n",
      " 12  Total             30585 non-null  float64\n",
      " 13  Discount          30585 non-null  float64\n",
      " 14  Net Total         30585 non-null  float64\n",
      " 15  ContactID         30585 non-null  object \n",
      " 16  ServiceItemID     30585 non-null  object \n",
      " 17  InvoiceID         30585 non-null  object \n",
      " 18  Make              30585 non-null  object \n",
      " 19  Year              30585 non-null  int64  \n",
      " 20  labels            30585 non-null  object \n",
      " 21  is_same_label     30585 non-null  bool   \n",
      " 22  body type         30585 non-null  object \n",
      "dtypes: bool(1), float64(5), int64(4), object(13)\n",
      "memory usage: 5.2+ MB\n"
     ]
    }
   ],
   "source": [
    "master_df.info()"
   ]
  },
  {
   "cell_type": "markdown",
   "id": "baa94031",
   "metadata": {},
   "source": [
    "#### Total Number of Null Values in the dataset.\n",
    "It can be seen that half of the features in the dataset have some null values in them."
   ]
  },
  {
   "cell_type": "code",
   "execution_count": 8,
   "id": "1c461bbd",
   "metadata": {
    "execution": {
     "iopub.execute_input": "2021-04-16T03:27:16.016902Z",
     "iopub.status.busy": "2021-04-16T03:27:16.016902Z",
     "iopub.status.idle": "2021-04-16T03:27:16.061781Z",
     "shell.execute_reply": "2021-04-16T03:27:16.060784Z",
     "shell.execute_reply.started": "2021-04-16T03:27:16.016902Z"
    }
   },
   "outputs": [
    {
     "data": {
      "text/plain": [
       "Primary Key             0\n",
       "Created                 0\n",
       "Mileage In              0\n",
       "Work Order              0\n",
       "Model                   0\n",
       "Line Type               0\n",
       "Service Category        0\n",
       "Service Package        22\n",
       "Description             0\n",
       "Definition          17089\n",
       "Price                   0\n",
       "Quantity                0\n",
       "Total                   0\n",
       "Discount                0\n",
       "Net Total               0\n",
       "ContactID               0\n",
       "ServiceItemID           0\n",
       "InvoiceID               0\n",
       "Make                    0\n",
       "Year                    0\n",
       "labels                  0\n",
       "is_same_label           0\n",
       "body type               0\n",
       "dtype: int64"
      ]
     },
     "execution_count": 8,
     "metadata": {},
     "output_type": "execute_result"
    }
   ],
   "source": [
    "master_df.isna().sum()"
   ]
  },
  {
   "cell_type": "markdown",
   "id": "5d7ca638",
   "metadata": {},
   "source": [
    "## 4. Data Cleaning and Preparation"
   ]
  },
  {
   "cell_type": "markdown",
   "id": "bd08d2e5",
   "metadata": {},
   "source": [
    "#### The following steps was done for the Data Cleaning and Manipulation.\n",
    "\n",
    "\n",
    "* The Make Column was first cleaned, multiple spelling errors was observed, replaced and the characters was converted to lowercase. \n",
    "\n",
    "* The Model Column was checked for input errors mainly on the spelling. The Make and Model was cleaned simulataneously because some of the row, if model is given the vehicle make can be provided but can't be done in reverse. all the null values are dropped.\n",
    "\n",
    "* The Year Column also was cleaned, since some of the entry is blank the Vehicle Indentification Number (VIN) was used to decode when the vehicle was released. All the null values are dropped.\n",
    "\n",
    "* The Mileage In was preserved, since there are no null values present.\n",
    "\n",
    "* The Service Category has been split into three the 'Minor Preventive Maintenance', 'Major Preventive Maintenance' and the 'Change Oil' in preparation for the modelling process. "
   ]
  },
  {
   "cell_type": "markdown",
   "id": "d6319dfa",
   "metadata": {},
   "source": [
    "### 4.1 Basic Statistical Summary"
   ]
  },
  {
   "cell_type": "code",
   "execution_count": 9,
   "id": "cd460246",
   "metadata": {
    "execution": {
     "iopub.execute_input": "2021-04-16T03:27:16.066769Z",
     "iopub.status.busy": "2021-04-16T03:27:16.066769Z",
     "iopub.status.idle": "2021-04-16T03:27:16.204170Z",
     "shell.execute_reply": "2021-04-16T03:27:16.204170Z",
     "shell.execute_reply.started": "2021-04-16T03:27:16.066769Z"
    }
   },
   "outputs": [
    {
     "data": {
      "text/html": [
       "<div>\n",
       "<style scoped>\n",
       "    .dataframe tbody tr th:only-of-type {\n",
       "        vertical-align: middle;\n",
       "    }\n",
       "\n",
       "    .dataframe tbody tr th {\n",
       "        vertical-align: top;\n",
       "    }\n",
       "\n",
       "    .dataframe thead th {\n",
       "        text-align: right;\n",
       "    }\n",
       "</style>\n",
       "<table border=\"1\" class=\"dataframe\">\n",
       "  <thead>\n",
       "    <tr style=\"text-align: right;\">\n",
       "      <th></th>\n",
       "      <th>Primary Key</th>\n",
       "      <th>Created</th>\n",
       "      <th>Mileage In</th>\n",
       "      <th>Work Order</th>\n",
       "      <th>Model</th>\n",
       "      <th>Line Type</th>\n",
       "      <th>Service Category</th>\n",
       "      <th>Service Package</th>\n",
       "      <th>Description</th>\n",
       "      <th>Definition</th>\n",
       "      <th>Price</th>\n",
       "      <th>Quantity</th>\n",
       "      <th>Total</th>\n",
       "      <th>Discount</th>\n",
       "      <th>Net Total</th>\n",
       "      <th>ContactID</th>\n",
       "      <th>ServiceItemID</th>\n",
       "      <th>InvoiceID</th>\n",
       "      <th>Make</th>\n",
       "      <th>Year</th>\n",
       "      <th>labels</th>\n",
       "      <th>is_same_label</th>\n",
       "      <th>body type</th>\n",
       "    </tr>\n",
       "  </thead>\n",
       "  <tbody>\n",
       "    <tr>\n",
       "      <th>count</th>\n",
       "      <td>30585.000000</td>\n",
       "      <td>30585</td>\n",
       "      <td>3.058500e+04</td>\n",
       "      <td>30585.000000</td>\n",
       "      <td>30585</td>\n",
       "      <td>30585</td>\n",
       "      <td>30585</td>\n",
       "      <td>30563</td>\n",
       "      <td>30585</td>\n",
       "      <td>13496</td>\n",
       "      <td>30585.000000</td>\n",
       "      <td>30585.000000</td>\n",
       "      <td>30585.000000</td>\n",
       "      <td>30585.000000</td>\n",
       "      <td>30585.000000</td>\n",
       "      <td>30585</td>\n",
       "      <td>30585</td>\n",
       "      <td>30585</td>\n",
       "      <td>30585</td>\n",
       "      <td>30585.000000</td>\n",
       "      <td>30585</td>\n",
       "      <td>30585</td>\n",
       "      <td>30585</td>\n",
       "    </tr>\n",
       "    <tr>\n",
       "      <th>unique</th>\n",
       "      <td>NaN</td>\n",
       "      <td>5166</td>\n",
       "      <td>NaN</td>\n",
       "      <td>NaN</td>\n",
       "      <td>176</td>\n",
       "      <td>3</td>\n",
       "      <td>17</td>\n",
       "      <td>3128</td>\n",
       "      <td>4757</td>\n",
       "      <td>431</td>\n",
       "      <td>NaN</td>\n",
       "      <td>NaN</td>\n",
       "      <td>NaN</td>\n",
       "      <td>NaN</td>\n",
       "      <td>NaN</td>\n",
       "      <td>2679</td>\n",
       "      <td>3117</td>\n",
       "      <td>5194</td>\n",
       "      <td>21</td>\n",
       "      <td>NaN</td>\n",
       "      <td>59</td>\n",
       "      <td>2</td>\n",
       "      <td>9</td>\n",
       "    </tr>\n",
       "    <tr>\n",
       "      <th>top</th>\n",
       "      <td>NaN</td>\n",
       "      <td>2019-07-17 09:33:00</td>\n",
       "      <td>NaN</td>\n",
       "      <td>NaN</td>\n",
       "      <td>vios</td>\n",
       "      <td>Material</td>\n",
       "      <td>Minor Preventive Maintenance Service</td>\n",
       "      <td>MINOR Preventive Maintenance Service</td>\n",
       "      <td>Labor</td>\n",
       "      <td>Engine Oil</td>\n",
       "      <td>NaN</td>\n",
       "      <td>NaN</td>\n",
       "      <td>NaN</td>\n",
       "      <td>NaN</td>\n",
       "      <td>NaN</td>\n",
       "      <td>2ada24ba-be69-4efd-a07b-309c2244803d</td>\n",
       "      <td>5269c830-5c47-4085-a097-dbdda0627059</td>\n",
       "      <td>2d877d25-d1cb-4a2f-9881-b544f76cc2c5</td>\n",
       "      <td>toyota</td>\n",
       "      <td>NaN</td>\n",
       "      <td>Minor Preventive Maintenance Service</td>\n",
       "      <td>True</td>\n",
       "      <td>SEDAN</td>\n",
       "    </tr>\n",
       "    <tr>\n",
       "      <th>freq</th>\n",
       "      <td>NaN</td>\n",
       "      <td>78</td>\n",
       "      <td>NaN</td>\n",
       "      <td>NaN</td>\n",
       "      <td>4217</td>\n",
       "      <td>23864</td>\n",
       "      <td>4757</td>\n",
       "      <td>1053</td>\n",
       "      <td>6060</td>\n",
       "      <td>2748</td>\n",
       "      <td>NaN</td>\n",
       "      <td>NaN</td>\n",
       "      <td>NaN</td>\n",
       "      <td>NaN</td>\n",
       "      <td>NaN</td>\n",
       "      <td>696</td>\n",
       "      <td>109</td>\n",
       "      <td>58</td>\n",
       "      <td>10820</td>\n",
       "      <td>NaN</td>\n",
       "      <td>8865</td>\n",
       "      <td>18638</td>\n",
       "      <td>10733</td>\n",
       "    </tr>\n",
       "    <tr>\n",
       "      <th>mean</th>\n",
       "      <td>21566.472748</td>\n",
       "      <td>NaN</td>\n",
       "      <td>7.776626e+04</td>\n",
       "      <td>3005.772209</td>\n",
       "      <td>NaN</td>\n",
       "      <td>NaN</td>\n",
       "      <td>NaN</td>\n",
       "      <td>NaN</td>\n",
       "      <td>NaN</td>\n",
       "      <td>NaN</td>\n",
       "      <td>858.293435</td>\n",
       "      <td>1.963795</td>\n",
       "      <td>1332.104155</td>\n",
       "      <td>42.670415</td>\n",
       "      <td>1288.884966</td>\n",
       "      <td>NaN</td>\n",
       "      <td>NaN</td>\n",
       "      <td>NaN</td>\n",
       "      <td>NaN</td>\n",
       "      <td>2012.661828</td>\n",
       "      <td>NaN</td>\n",
       "      <td>NaN</td>\n",
       "      <td>NaN</td>\n",
       "    </tr>\n",
       "    <tr>\n",
       "      <th>std</th>\n",
       "      <td>12338.950221</td>\n",
       "      <td>NaN</td>\n",
       "      <td>7.057198e+04</td>\n",
       "      <td>1807.436802</td>\n",
       "      <td>NaN</td>\n",
       "      <td>NaN</td>\n",
       "      <td>NaN</td>\n",
       "      <td>NaN</td>\n",
       "      <td>NaN</td>\n",
       "      <td>NaN</td>\n",
       "      <td>2418.405794</td>\n",
       "      <td>2.227988</td>\n",
       "      <td>2814.933643</td>\n",
       "      <td>270.553205</td>\n",
       "      <td>2748.736023</td>\n",
       "      <td>NaN</td>\n",
       "      <td>NaN</td>\n",
       "      <td>NaN</td>\n",
       "      <td>NaN</td>\n",
       "      <td>4.033818</td>\n",
       "      <td>NaN</td>\n",
       "      <td>NaN</td>\n",
       "      <td>NaN</td>\n",
       "    </tr>\n",
       "    <tr>\n",
       "      <th>min</th>\n",
       "      <td>1.000000</td>\n",
       "      <td>NaN</td>\n",
       "      <td>0.000000e+00</td>\n",
       "      <td>3.000000</td>\n",
       "      <td>NaN</td>\n",
       "      <td>NaN</td>\n",
       "      <td>NaN</td>\n",
       "      <td>NaN</td>\n",
       "      <td>NaN</td>\n",
       "      <td>NaN</td>\n",
       "      <td>0.000000</td>\n",
       "      <td>0.000000</td>\n",
       "      <td>0.000000</td>\n",
       "      <td>0.000000</td>\n",
       "      <td>0.000000</td>\n",
       "      <td>NaN</td>\n",
       "      <td>NaN</td>\n",
       "      <td>NaN</td>\n",
       "      <td>NaN</td>\n",
       "      <td>2000.000000</td>\n",
       "      <td>NaN</td>\n",
       "      <td>NaN</td>\n",
       "      <td>NaN</td>\n",
       "    </tr>\n",
       "    <tr>\n",
       "      <th>25%</th>\n",
       "      <td>11041.000000</td>\n",
       "      <td>NaN</td>\n",
       "      <td>3.940500e+04</td>\n",
       "      <td>1520.000000</td>\n",
       "      <td>NaN</td>\n",
       "      <td>NaN</td>\n",
       "      <td>NaN</td>\n",
       "      <td>NaN</td>\n",
       "      <td>NaN</td>\n",
       "      <td>NaN</td>\n",
       "      <td>142.860000</td>\n",
       "      <td>1.000000</td>\n",
       "      <td>174.100000</td>\n",
       "      <td>0.000000</td>\n",
       "      <td>142.870000</td>\n",
       "      <td>NaN</td>\n",
       "      <td>NaN</td>\n",
       "      <td>NaN</td>\n",
       "      <td>NaN</td>\n",
       "      <td>2010.000000</td>\n",
       "      <td>NaN</td>\n",
       "      <td>NaN</td>\n",
       "      <td>NaN</td>\n",
       "    </tr>\n",
       "    <tr>\n",
       "      <th>50%</th>\n",
       "      <td>22237.000000</td>\n",
       "      <td>NaN</td>\n",
       "      <td>6.435900e+04</td>\n",
       "      <td>2869.000000</td>\n",
       "      <td>NaN</td>\n",
       "      <td>NaN</td>\n",
       "      <td>NaN</td>\n",
       "      <td>NaN</td>\n",
       "      <td>NaN</td>\n",
       "      <td>NaN</td>\n",
       "      <td>417.910000</td>\n",
       "      <td>1.000000</td>\n",
       "      <td>625.000000</td>\n",
       "      <td>0.000000</td>\n",
       "      <td>607.140000</td>\n",
       "      <td>NaN</td>\n",
       "      <td>NaN</td>\n",
       "      <td>NaN</td>\n",
       "      <td>NaN</td>\n",
       "      <td>2014.000000</td>\n",
       "      <td>NaN</td>\n",
       "      <td>NaN</td>\n",
       "      <td>NaN</td>\n",
       "    </tr>\n",
       "    <tr>\n",
       "      <th>75%</th>\n",
       "      <td>32058.000000</td>\n",
       "      <td>NaN</td>\n",
       "      <td>1.013470e+05</td>\n",
       "      <td>4412.000000</td>\n",
       "      <td>NaN</td>\n",
       "      <td>NaN</td>\n",
       "      <td>NaN</td>\n",
       "      <td>NaN</td>\n",
       "      <td>NaN</td>\n",
       "      <td>NaN</td>\n",
       "      <td>666.670000</td>\n",
       "      <td>2.700000</td>\n",
       "      <td>1517.860000</td>\n",
       "      <td>0.000000</td>\n",
       "      <td>1428.570000</td>\n",
       "      <td>NaN</td>\n",
       "      <td>NaN</td>\n",
       "      <td>NaN</td>\n",
       "      <td>NaN</td>\n",
       "      <td>2016.000000</td>\n",
       "      <td>NaN</td>\n",
       "      <td>NaN</td>\n",
       "      <td>NaN</td>\n",
       "    </tr>\n",
       "    <tr>\n",
       "      <th>max</th>\n",
       "      <td>43020.000000</td>\n",
       "      <td>NaN</td>\n",
       "      <td>3.021518e+06</td>\n",
       "      <td>7154.000000</td>\n",
       "      <td>NaN</td>\n",
       "      <td>NaN</td>\n",
       "      <td>NaN</td>\n",
       "      <td>NaN</td>\n",
       "      <td>NaN</td>\n",
       "      <td>NaN</td>\n",
       "      <td>83582.090000</td>\n",
       "      <td>59.000000</td>\n",
       "      <td>83582.090000</td>\n",
       "      <td>13333.330000</td>\n",
       "      <td>74666.670000</td>\n",
       "      <td>NaN</td>\n",
       "      <td>NaN</td>\n",
       "      <td>NaN</td>\n",
       "      <td>NaN</td>\n",
       "      <td>2021.000000</td>\n",
       "      <td>NaN</td>\n",
       "      <td>NaN</td>\n",
       "      <td>NaN</td>\n",
       "    </tr>\n",
       "  </tbody>\n",
       "</table>\n",
       "</div>"
      ],
      "text/plain": [
       "         Primary Key              Created    Mileage In    Work Order  Model  \\\n",
       "count   30585.000000                30585  3.058500e+04  30585.000000  30585   \n",
       "unique           NaN                 5166           NaN           NaN    176   \n",
       "top              NaN  2019-07-17 09:33:00           NaN           NaN   vios   \n",
       "freq             NaN                   78           NaN           NaN   4217   \n",
       "mean    21566.472748                  NaN  7.776626e+04   3005.772209    NaN   \n",
       "std     12338.950221                  NaN  7.057198e+04   1807.436802    NaN   \n",
       "min         1.000000                  NaN  0.000000e+00      3.000000    NaN   \n",
       "25%     11041.000000                  NaN  3.940500e+04   1520.000000    NaN   \n",
       "50%     22237.000000                  NaN  6.435900e+04   2869.000000    NaN   \n",
       "75%     32058.000000                  NaN  1.013470e+05   4412.000000    NaN   \n",
       "max     43020.000000                  NaN  3.021518e+06   7154.000000    NaN   \n",
       "\n",
       "       Line Type                      Service Category  \\\n",
       "count      30585                                 30585   \n",
       "unique         3                                    17   \n",
       "top     Material  Minor Preventive Maintenance Service   \n",
       "freq       23864                                  4757   \n",
       "mean         NaN                                   NaN   \n",
       "std          NaN                                   NaN   \n",
       "min          NaN                                   NaN   \n",
       "25%          NaN                                   NaN   \n",
       "50%          NaN                                   NaN   \n",
       "75%          NaN                                   NaN   \n",
       "max          NaN                                   NaN   \n",
       "\n",
       "                              Service Package Description  Definition  \\\n",
       "count                                   30563       30585       13496   \n",
       "unique                                   3128        4757         431   \n",
       "top     MINOR Preventive Maintenance Service        Labor  Engine Oil   \n",
       "freq                                     1053        6060        2748   \n",
       "mean                                      NaN         NaN         NaN   \n",
       "std                                       NaN         NaN         NaN   \n",
       "min                                       NaN         NaN         NaN   \n",
       "25%                                       NaN         NaN         NaN   \n",
       "50%                                       NaN         NaN         NaN   \n",
       "75%                                       NaN         NaN         NaN   \n",
       "max                                       NaN         NaN         NaN   \n",
       "\n",
       "               Price      Quantity         Total      Discount     Net Total  \\\n",
       "count   30585.000000  30585.000000  30585.000000  30585.000000  30585.000000   \n",
       "unique           NaN           NaN           NaN           NaN           NaN   \n",
       "top              NaN           NaN           NaN           NaN           NaN   \n",
       "freq             NaN           NaN           NaN           NaN           NaN   \n",
       "mean      858.293435      1.963795   1332.104155     42.670415   1288.884966   \n",
       "std      2418.405794      2.227988   2814.933643    270.553205   2748.736023   \n",
       "min         0.000000      0.000000      0.000000      0.000000      0.000000   \n",
       "25%       142.860000      1.000000    174.100000      0.000000    142.870000   \n",
       "50%       417.910000      1.000000    625.000000      0.000000    607.140000   \n",
       "75%       666.670000      2.700000   1517.860000      0.000000   1428.570000   \n",
       "max     83582.090000     59.000000  83582.090000  13333.330000  74666.670000   \n",
       "\n",
       "                                   ContactID  \\\n",
       "count                                  30585   \n",
       "unique                                  2679   \n",
       "top     2ada24ba-be69-4efd-a07b-309c2244803d   \n",
       "freq                                     696   \n",
       "mean                                     NaN   \n",
       "std                                      NaN   \n",
       "min                                      NaN   \n",
       "25%                                      NaN   \n",
       "50%                                      NaN   \n",
       "75%                                      NaN   \n",
       "max                                      NaN   \n",
       "\n",
       "                               ServiceItemID  \\\n",
       "count                                  30585   \n",
       "unique                                  3117   \n",
       "top     5269c830-5c47-4085-a097-dbdda0627059   \n",
       "freq                                     109   \n",
       "mean                                     NaN   \n",
       "std                                      NaN   \n",
       "min                                      NaN   \n",
       "25%                                      NaN   \n",
       "50%                                      NaN   \n",
       "75%                                      NaN   \n",
       "max                                      NaN   \n",
       "\n",
       "                                   InvoiceID    Make          Year  \\\n",
       "count                                  30585   30585  30585.000000   \n",
       "unique                                  5194      21           NaN   \n",
       "top     2d877d25-d1cb-4a2f-9881-b544f76cc2c5  toyota           NaN   \n",
       "freq                                      58   10820           NaN   \n",
       "mean                                     NaN     NaN   2012.661828   \n",
       "std                                      NaN     NaN      4.033818   \n",
       "min                                      NaN     NaN   2000.000000   \n",
       "25%                                      NaN     NaN   2010.000000   \n",
       "50%                                      NaN     NaN   2014.000000   \n",
       "75%                                      NaN     NaN   2016.000000   \n",
       "max                                      NaN     NaN   2021.000000   \n",
       "\n",
       "                                      labels is_same_label body type  \n",
       "count                                  30585         30585     30585  \n",
       "unique                                    59             2         9  \n",
       "top     Minor Preventive Maintenance Service          True     SEDAN  \n",
       "freq                                    8865         18638     10733  \n",
       "mean                                     NaN           NaN       NaN  \n",
       "std                                      NaN           NaN       NaN  \n",
       "min                                      NaN           NaN       NaN  \n",
       "25%                                      NaN           NaN       NaN  \n",
       "50%                                      NaN           NaN       NaN  \n",
       "75%                                      NaN           NaN       NaN  \n",
       "max                                      NaN           NaN       NaN  "
      ]
     },
     "execution_count": 9,
     "metadata": {},
     "output_type": "execute_result"
    }
   ],
   "source": [
    "master_df.describe(include = 'all')"
   ]
  },
  {
   "cell_type": "markdown",
   "id": "2cc250dd",
   "metadata": {},
   "source": [
    "> ### Summary Description\r\n",
    ">From the basic statistical summary above, we have observed that: \r\n",
    ">* Toyota has the most number of vehicles in the dataset, with Vios being the most common model.\r\n",
    ">* The highest entry in the service category is 'minor preventive maintenance'.\r\n"
   ]
  },
  {
   "cell_type": "markdown",
   "id": "0c0f4e68",
   "metadata": {},
   "source": [
    "## 5. Exploratory Data Analysis"
   ]
  },
  {
   "cell_type": "markdown",
   "id": "943288f0",
   "metadata": {},
   "source": [
    "### Which car manufacturer has the most transactions?"
   ]
  },
  {
   "cell_type": "code",
   "execution_count": 10,
   "id": "caee148b",
   "metadata": {
    "execution": {
     "iopub.execute_input": "2021-04-16T03:27:16.206166Z",
     "iopub.status.busy": "2021-04-16T03:27:16.206166Z",
     "iopub.status.idle": "2021-04-16T03:27:16.581945Z",
     "shell.execute_reply": "2021-04-16T03:27:16.581945Z",
     "shell.execute_reply.started": "2021-04-16T03:27:16.206166Z"
    }
   },
   "outputs": [
    {
     "data": {
      "text/plain": [
       "(array([0, 1, 2, 3, 4, 5, 6, 7, 8, 9]),\n",
       " [Text(0, 0, 'toyota'),\n",
       "  Text(0, 1, 'mitsubishi'),\n",
       "  Text(0, 2, 'honda'),\n",
       "  Text(0, 3, 'ford'),\n",
       "  Text(0, 4, 'hyundai'),\n",
       "  Text(0, 5, 'chevrolet'),\n",
       "  Text(0, 6, 'nissan'),\n",
       "  Text(0, 7, 'mazda'),\n",
       "  Text(0, 8, 'isuzu'),\n",
       "  Text(0, 9, 'suzuki')])"
      ]
     },
     "execution_count": 10,
     "metadata": {},
     "output_type": "execute_result"
    },
    {
     "data": {
      "image/png": "[encoded data removed]",
      "text/plain": [
       "<Figure size 1008x864 with 1 Axes>"
      ]
     },
     "metadata": {
      "needs_background": "light"
     },
     "output_type": "display_data"
    }
   ],
   "source": [
    "vehicle_make = master_df['Make'].value_counts().sort_values(ascending=False).to_frame()[:10]\r\n",
    "plt.figure(figsize = (14,12))\r\n",
    "ax = sns.barplot(y=vehicle_make.index, x=vehicle_make['Make'], orient='h', palette='rocket')\r\n",
    "\r\n",
    "# Setting the annotation\r\n",
    "for i in ax.patches:\r\n",
    "    # get_width pulls left or right; get_y pushes up or down\r\n",
    "    ax.text(i.get_width()+150, i.get_y()+.45, \\\r\n",
    "            str(round((i.get_width()), 2)), fontsize=13, color='black')\r\n",
    "\r\n",
    "# Setting the labels and titles\r\n",
    "plt.title('Top 10 Car Make with the Highest Number of Transactions', fontsize = 14, pad = 10)\r\n",
    "plt.xlabel('Number of Vehicles', size = 15, labelpad = 10)\r\n",
    "plt.ylabel('Car Make', size = 15, labelpad = 40, rotation = 0)\r\n",
    "plt.xticks(fontsize = 12)\r\n",
    "plt.yticks(fontsize = 12)"
   ]
  },
  {
   "cell_type": "markdown",
   "id": "dd2a5b07",
   "metadata": {},
   "source": [
    ">  Insights: \r\n",
    "><br>  Toyota topped the list of car manufacturers with the most service transactions. It is reflective of Toyota’s almost 39% market share of total automotive sales in the Philippines and their parts availability in the market [Source: Statista.com](https://www.statista.com/statistics/1070097/philippines-market-share-leading-automotive-companies/)\r\n"
   ]
  },
  {
   "cell_type": "markdown",
   "id": "f85ca73b",
   "metadata": {},
   "source": [
    "### What are the most popular maintenance or repair services?"
   ]
  },
  {
   "cell_type": "code",
   "execution_count": 11,
   "id": "5c965b98",
   "metadata": {
    "execution": {
     "iopub.execute_input": "2021-04-16T03:27:16.583912Z",
     "iopub.status.busy": "2021-04-16T03:27:16.582916Z",
     "iopub.status.idle": "2021-04-16T03:27:17.049092Z",
     "shell.execute_reply": "2021-04-16T03:27:17.048098Z",
     "shell.execute_reply.started": "2021-04-16T03:27:16.583912Z"
    }
   },
   "outputs": [
    {
     "data": {
      "text/plain": [
       "(array([ 0,  1,  2,  3,  4,  5,  6,  7,  8,  9, 10, 11, 12, 13, 14, 15, 16]),\n",
       " [Text(0, 0, 'Minor Preventive Maintenance Service'),\n",
       "  Text(0, 1, 'Change Oil'),\n",
       "  Text(0, 2, 'Major Preventive Maintenance Service'),\n",
       "  Text(0, 3, 'Brakes'),\n",
       "  Text(0, 4, 'Engine Oil / Oil Filter'),\n",
       "  Text(0, 5, 'HVAC (Heating, Ventilation & Air Conditioning)'),\n",
       "  Text(0, 6, 'Engine'),\n",
       "  Text(0, 7, 'Transmission & Clutch'),\n",
       "  Text(0, 8, 'Complete Vehicle Inspection'),\n",
       "  Text(0, 9, 'Fuel Filter / Air Filter'),\n",
       "  Text(0, 10, 'Electrical (Belts, Lighting, Starting & Charging Systems)'),\n",
       "  Text(0, 11, 'Cooling System'),\n",
       "  Text(0, 12, 'Tires & Wheels'),\n",
       "  Text(0, 13, 'Driveability (Fuel, Ignition & Emission Systems)'),\n",
       "  Text(0, 14, 'Accessories (Gauges, Power Accessories, Vision & Air Bag)'),\n",
       "  Text(0, 15, 'Drive Train (Final Drive, Transaxle, Differential & Transfer Case)'),\n",
       "  Text(0, 16, 'Batteries')])"
      ]
     },
     "execution_count": 11,
     "metadata": {},
     "output_type": "execute_result"
    },
    {
     "data": {
      "image/png": "[encoded data removed]",
      "text/plain": [
       "<Figure size 1008x864 with 1 Axes>"
      ]
     },
     "metadata": {
      "needs_background": "light"
     },
     "output_type": "display_data"
    }
   ],
   "source": [
    "# Top 10 Car Make with the Highest Number of Transactions\r\n",
    "\r\n",
    "vehicle_make = master_df['Service Category'].value_counts().sort_values(ascending=False).to_frame()\r\n",
    "plt.figure(figsize = (14,12))\r\n",
    "ax = sns.barplot(y=vehicle_make.index, x=vehicle_make['Service Category'], orient='h', palette='rocket')\r\n",
    "\r\n",
    "# Setting the annotation\r\n",
    "for i in ax.patches:\r\n",
    "    # get_width pulls left or right; get_y pushes up or down\r\n",
    "    ax.text(i.get_width()+70, i.get_y()+.45, \\\r\n",
    "            str(round((i.get_width()), 2)), fontsize=13, color='black')\r\n",
    "\r\n",
    "# Setting the labels and titles\r\n",
    "plt.title('Most Popular Vehicle Repair and Maintenance Services', fontsize = 14, pad = 10)\r\n",
    "plt.xlabel('Number of Vehicles', size = 15)\r\n",
    "plt.ylabel('Service Packages', size = 15)\r\n",
    "plt.xticks(fontsize = 12)\r\n",
    "plt.yticks(fontsize = 12)"
   ]
  },
  {
   "cell_type": "markdown",
   "id": "6086ecb9",
   "metadata": {
    "execution": {
     "iopub.execute_input": "2021-04-15T06:07:31.440575Z",
     "iopub.status.busy": "2021-04-15T06:07:31.440575Z",
     "iopub.status.idle": "2021-04-15T06:07:31.462515Z",
     "shell.execute_reply": "2021-04-15T06:07:31.461520Z",
     "shell.execute_reply.started": "2021-04-15T06:07:31.440575Z"
    }
   },
   "source": [
    "> ### Insights: \n",
    "> On average, 3 out of every 5 car owners go visit the car service centers for an Oil, Lube, & Preventive Maintenance Service.\n",
    "> <br>Oil change services is very common because the recommended intervals for using mineral oil are at 3000 km, 5000 km, or six months (whichever comes first). [Source: Top Gear Philippines](https://www.topgear.com.ph/features/tip-sheet/change-oil-for-weekend-car-a57-20180728#:~:text=Ordinarily%2C%20the%20recommended%20oil%2Dchange,year%20(whichever%20comes%20first).)\n"
   ]
  },
  {
   "cell_type": "markdown",
   "id": "480e0724",
   "metadata": {},
   "source": [
    "### Since most of the customers are toyota owners, how much do they spend on their maintenance services?"
   ]
  },
  {
   "cell_type": "code",
   "execution_count": 12,
   "id": "c6fe49d0",
   "metadata": {
    "execution": {
     "iopub.execute_input": "2021-04-16T03:27:17.051086Z",
     "iopub.status.busy": "2021-04-16T03:27:17.050119Z",
     "iopub.status.idle": "2021-04-16T03:27:17.502869Z",
     "shell.execute_reply": "2021-04-16T03:27:17.502869Z",
     "shell.execute_reply.started": "2021-04-16T03:27:17.051086Z"
    }
   },
   "outputs": [
    {
     "data": {
      "text/plain": [
       "(array([ 0,  1,  2,  3,  4,  5,  6,  7,  8,  9, 10, 11, 12, 13, 14, 15, 16]),\n",
       " [Text(0, 0, 'Batteries'),\n",
       "  Text(0, 1, 'Tires & Wheels'),\n",
       "  Text(0, 2, 'Cooling System'),\n",
       "  Text(0, 3, 'Engine'),\n",
       "  Text(0, 4, 'Transmission & Clutch'),\n",
       "  Text(0, 5, 'Driveability (Fuel, Ignition & Emission Systems)'),\n",
       "  Text(0, 6, 'Electrical (Belts, Lighting, Starting & Charging Systems)'),\n",
       "  Text(0, 7, 'HVAC (Heating, Ventilation & Air Conditioning)'),\n",
       "  Text(0, 8, 'Accessories (Gauges, Power Accessories, Vision & Air Bag)'),\n",
       "  Text(0, 9, 'Engine Oil / Oil Filter'),\n",
       "  Text(0, 10, 'Brakes'),\n",
       "  Text(0, 11, 'Drive Train (Final Drive, Transaxle, Differential & Transfer Case)'),\n",
       "  Text(0, 12, 'Fuel Filter / Air Filter'),\n",
       "  Text(0, 13, 'Major Preventive Maintenance Service'),\n",
       "  Text(0, 14, 'Change Oil'),\n",
       "  Text(0, 15, 'Complete Vehicle Inspection'),\n",
       "  Text(0, 16, 'Minor Preventive Maintenance Service')])"
      ]
     },
     "execution_count": 12,
     "metadata": {},
     "output_type": "execute_result"
    },
    {
     "data": {
      "image/png": "[encoded data removed]",
      "text/plain": [
       "<Figure size 1008x864 with 1 Axes>"
      ]
     },
     "metadata": {
      "needs_background": "light"
     },
     "output_type": "display_data"
    }
   ],
   "source": [
    "# Further Exploratory Data Analysis on the Toyota Brand\r\n",
    "toyota_ = master_df[master_df['Make'] == 'toyota']\r\n",
    "\r\n",
    "# Mean value for each service category\r\n",
    "toyota_cost_ownership = toyota_.groupby('Service Category')[['Net Total']].mean().sort_values(by = 'Net Total', ascending = False)\r\n",
    "\r\n",
    "\r\n",
    "# Visualizations\r\n",
    "plt.figure(figsize = (14,12))\r\n",
    "ax = sns.barplot(y = toyota_cost_ownership.index, x = toyota_cost_ownership['Net Total'], orient = 'h', palette='rocket')\r\n",
    "\r\n",
    "# Setting the annotation\r\n",
    "for i in ax.patches:\r\n",
    "    # get_width pulls left or right; get_y pushes up or down\r\n",
    "    ax.text(i.get_width()+30, i.get_y()+.45, \\\r\n",
    "            str(round((i.get_width()), 2)), fontsize=13, color='black')\r\n",
    "\r\n",
    "# Setting the labels and titles\r\n",
    "plt.title(\"Mean Cost of Maintenance for Toyota cars per Service Category\", fontsize = 15, pad = 10)\r\n",
    "plt.xlabel('Maintenance Expenses', size = 15)\r\n",
    "plt.ylabel('Service Category', size = 15)\r\n",
    "plt.xticks(fontsize = 12)\r\n",
    "plt.yticks(fontsize = 12)"
   ]
  },
  {
   "cell_type": "code",
   "execution_count": 13,
   "id": "55cf3a64",
   "metadata": {
    "execution": {
     "iopub.execute_input": "2021-04-16T03:27:17.504837Z",
     "iopub.status.busy": "2021-04-16T03:27:17.504837Z",
     "iopub.status.idle": "2021-04-16T03:27:18.952937Z",
     "shell.execute_reply": "2021-04-16T03:27:18.952937Z",
     "shell.execute_reply.started": "2021-04-16T03:27:17.504837Z"
    }
   },
   "outputs": [
    {
     "data": {
      "text/plain": [
       "(array([-500000.,       0.,  500000., 1000000., 1500000., 2000000.,\n",
       "        2500000., 3000000., 3500000.]),\n",
       " [Text(-500000.0, 0, '−0.5'),\n",
       "  Text(0.0, 0, '0.0'),\n",
       "  Text(500000.0, 0, '0.5'),\n",
       "  Text(1000000.0, 0, '1.0'),\n",
       "  Text(1500000.0, 0, '1.5'),\n",
       "  Text(2000000.0, 0, '2.0'),\n",
       "  Text(2500000.0, 0, '2.5'),\n",
       "  Text(3000000.0, 0, '3.0'),\n",
       "  Text(3500000.0, 0, '3.5')])"
      ]
     },
     "execution_count": 13,
     "metadata": {},
     "output_type": "execute_result"
    },
    {
     "data": {
      "image/png": "[encoded data removed]",
      "text/plain": [
       "<Figure size 748.8x576 with 1 Axes>"
      ]
     },
     "metadata": {},
     "output_type": "display_data"
    }
   ],
   "source": [
    "sns.set_style('darkgrid')\n",
    "sns.displot(data = master_df, x = 'Mileage In', aspect= 1.3, height=8, color = 'darkslategray')\n",
    "plt.title('Distribution of Mileage', fontsize = 15)\n",
    "plt.xlabel('Mileage (In Ten Thousands)', fontsize = 13, labelpad = 10)\n",
    "plt.ylabel('Count', fontsize = 13)\n",
    "plt.yticks(fontsize = 11)\n",
    "plt.xticks(fontsize = 11)"
   ]
  },
  {
   "cell_type": "code",
   "execution_count": 14,
   "id": "92d0118e",
   "metadata": {
    "execution": {
     "iopub.execute_input": "2021-04-16T03:27:18.954930Z",
     "iopub.status.busy": "2021-04-16T03:27:18.954930Z",
     "iopub.status.idle": "2021-04-16T03:27:18.985849Z",
     "shell.execute_reply": "2021-04-16T03:27:18.984852Z",
     "shell.execute_reply.started": "2021-04-16T03:27:18.954930Z"
    }
   },
   "outputs": [
    {
     "name": "stdout",
     "output_type": "stream",
     "text": [
      "Skewness of variable Mileage : 15.65 (right-tailed)\n",
      "Kurtosis of variable Mileage : 605.59 (heavy-tailed)\n"
     ]
    }
   ],
   "source": [
    "from scipy.stats import skew, kurtosis\n",
    "\n",
    "def skew_type(skewval, skewthres):\n",
    "    test_skew_value = abs(skewval)-skewthres    \n",
    "    if (test_skew_value > 0) & (np.sign(skewval)>0):\n",
    "        return \"right-tailed\"\n",
    "    elif  (test_skew_value > 0) & (np.sign(skewval)<0):\n",
    "        return \"left-tailed\"\n",
    "    else:\n",
    "        return \"approximately symmetric\"\n",
    "    \n",
    "print(\"Skewness of variable %s : %0.2f (%s)\" %('Mileage', skew(master_df['Mileage In']), skew_type(skew(master_df['Mileage In']),0.1)))\n",
    "\n",
    "def kurtosis_type(kurtval, kurtthres):\n",
    "    test_kurtosis_value = abs(kurtval-kurtthres)\n",
    "    #in scipy's implementation, 3 is subtracted from the original definition of kurtosis\n",
    "    \n",
    "    if (test_kurtosis_value > 0) & (np.sign(kurtval)>0):\n",
    "        return \"heavy-tailed\"\n",
    "    elif  (test_kurtosis_value  > 0) & (np.sign(kurtval)<0):\n",
    "        return \"light-tailed\"\n",
    "    else:\n",
    "        return \"approximately normal\"\n",
    "print(\"Kurtosis of variable %s : %0.2f (%s)\" %('Mileage', kurtosis(master_df['Mileage In']), kurtosis_type(kurtosis(master_df['Mileage In']),0.1)))   "
   ]
  },
  {
   "cell_type": "code",
   "execution_count": 15,
   "id": "03832b6e",
   "metadata": {
    "execution": {
     "iopub.execute_input": "2021-04-16T03:27:18.987842Z",
     "iopub.status.busy": "2021-04-16T03:27:18.987842Z",
     "iopub.status.idle": "2021-04-16T03:27:19.018759Z",
     "shell.execute_reply": "2021-04-16T03:27:19.016766Z",
     "shell.execute_reply.started": "2021-04-16T03:27:18.987842Z"
    }
   },
   "outputs": [
    {
     "name": "stderr",
     "output_type": "stream",
     "text": [
      "C:\\Users\\Padayao\\Anaconda3\\envs\\Data Science\\lib\\site-packages\\scipy\\stats\\morestats.py:1681: UserWarning: p-value may not be accurate for N > 5000.\n",
      "  warnings.warn(\"p-value may not be accurate for N > 5000.\")\n"
     ]
    },
    {
     "data": {
      "text/plain": [
       "ShapiroResult(statistic=0.600611686706543, pvalue=0.0)"
      ]
     },
     "execution_count": 15,
     "metadata": {},
     "output_type": "execute_result"
    }
   ],
   "source": [
    "from scipy import stats\n",
    "shapiro_test = stats.shapiro(master_df['Mileage In'])\n",
    "shapiro_test"
   ]
  },
  {
   "cell_type": "code",
   "execution_count": 16,
   "id": "3e47e1ec",
   "metadata": {
    "execution": {
     "iopub.execute_input": "2021-04-16T03:27:19.020756Z",
     "iopub.status.busy": "2021-04-16T03:27:19.019757Z",
     "iopub.status.idle": "2021-04-16T03:27:19.048681Z",
     "shell.execute_reply": "2021-04-16T03:27:19.048681Z",
     "shell.execute_reply.started": "2021-04-16T03:27:19.020756Z"
    }
   },
   "outputs": [],
   "source": [
    "master_df = master_df[master_df['Mileage In'] > 1000]\r\n",
    "master_df['Log Mileage In'] = np.log(master_df['Mileage In'])"
   ]
  },
  {
   "cell_type": "code",
   "execution_count": 17,
   "id": "4060c6b0",
   "metadata": {
    "execution": {
     "iopub.execute_input": "2021-04-16T03:27:19.050676Z",
     "iopub.status.busy": "2021-04-16T03:27:19.050676Z",
     "iopub.status.idle": "2021-04-16T03:27:19.893052Z",
     "shell.execute_reply": "2021-04-16T03:27:19.893052Z",
     "shell.execute_reply.started": "2021-04-16T03:27:19.050676Z"
    }
   },
   "outputs": [
    {
     "data": {
      "text/plain": [
       "(array([ 6.,  7.,  8.,  9., 10., 11., 12., 13., 14., 15., 16.]),\n",
       " [Text(6.0, 0, '6'),\n",
       "  Text(7.0, 0, '7'),\n",
       "  Text(8.0, 0, '8'),\n",
       "  Text(9.0, 0, '9'),\n",
       "  Text(10.0, 0, '10'),\n",
       "  Text(11.0, 0, '11'),\n",
       "  Text(12.0, 0, '12'),\n",
       "  Text(13.0, 0, '13'),\n",
       "  Text(14.0, 0, '14'),\n",
       "  Text(15.0, 0, '15'),\n",
       "  Text(16.0, 0, '16')])"
      ]
     },
     "execution_count": 17,
     "metadata": {},
     "output_type": "execute_result"
    },
    {
     "data": {
      "text/plain": [
       "<Figure size 864x720 with 0 Axes>"
      ]
     },
     "metadata": {},
     "output_type": "display_data"
    },
    {
     "data": {
      "image/png": "[encoded data removed]",
      "text/plain": [
       "<Figure size 748.8x576 with 1 Axes>"
      ]
     },
     "metadata": {},
     "output_type": "display_data"
    }
   ],
   "source": [
    "sns.set_style('darkgrid')\n",
    "plt.figure(figsize = (12,10))\n",
    "sns.displot(data = master_df, x = 'Log Mileage In', aspect= 1.3, height= 8, color = 'darkslategray', kde = True)\n",
    "plt.title('Logarithmic Distribution of Mileage', fontsize = 15, pad = 10)\n",
    "plt.xlabel('Logarithmic Mileage', fontsize = 13, labelpad = 10)\n",
    "plt.ylabel('Count', fontsize = 13, labelpad = 10)\n",
    "plt.yticks(fontsize = 11)\n",
    "plt.xticks(fontsize = 11)"
   ]
  },
  {
   "cell_type": "code",
   "execution_count": 18,
   "id": "00b2119c",
   "metadata": {
    "execution": {
     "iopub.execute_input": "2021-04-16T03:27:19.895047Z",
     "iopub.status.busy": "2021-04-16T03:27:19.895047Z",
     "iopub.status.idle": "2021-04-16T03:27:19.925964Z",
     "shell.execute_reply": "2021-04-16T03:27:19.923971Z",
     "shell.execute_reply.started": "2021-04-16T03:27:19.895047Z"
    }
   },
   "outputs": [
    {
     "name": "stdout",
     "output_type": "stream",
     "text": [
      "Skewness of variable Mileage : -0.49 (left-tailed)\n",
      "Kurtosis of variable Mileage : 1.02 (heavy-tailed)\n"
     ]
    }
   ],
   "source": [
    "from scipy.stats import skew, kurtosis\n",
    "\n",
    "def skew_type(skewval, skewthres):\n",
    "    test_skew_value = abs(skewval)-skewthres    \n",
    "    if (test_skew_value > 0) & (np.sign(skewval)>0):\n",
    "        return \"right-tailed\"\n",
    "    elif  (test_skew_value > 0) & (np.sign(skewval)<0):\n",
    "        return \"left-tailed\"\n",
    "    else:\n",
    "        return \"approximately symmetric\"\n",
    "    \n",
    "print(\"Skewness of variable %s : %0.2f (%s)\" %('Mileage', skew(master_df['Log Mileage In']), skew_type(skew(master_df['Log Mileage In']),0.1)))\n",
    "\n",
    "def kurtosis_type(kurtval, kurtthres):\n",
    "    test_kurtosis_value = abs(kurtval-kurtthres)\n",
    "    #in scipy's implementation, 3 is subtracted from the original definition of kurtosis\n",
    "    \n",
    "    if (test_kurtosis_value > 0) & (np.sign(kurtval)>0):\n",
    "        return \"heavy-tailed\"\n",
    "    elif  (test_kurtosis_value  > 0) & (np.sign(kurtval)<0):\n",
    "        return \"light-tailed\"\n",
    "    else:\n",
    "        return \"approximately normal\"\n",
    "print(\"Kurtosis of variable %s : %0.2f (%s)\" %('Mileage', kurtosis(master_df['Log Mileage In']), kurtosis_type(kurtosis(master_df['Log Mileage In']),0.1)))   "
   ]
  },
  {
   "cell_type": "code",
   "execution_count": 19,
   "id": "76cc1479",
   "metadata": {
    "execution": {
     "iopub.execute_input": "2021-04-16T03:27:19.927958Z",
     "iopub.status.busy": "2021-04-16T03:27:19.926961Z",
     "iopub.status.idle": "2021-04-16T03:27:19.955884Z",
     "shell.execute_reply": "2021-04-16T03:27:19.954887Z",
     "shell.execute_reply.started": "2021-04-16T03:27:19.927958Z"
    }
   },
   "outputs": [
    {
     "name": "stderr",
     "output_type": "stream",
     "text": [
      "C:\\Users\\Padayao\\Anaconda3\\envs\\Data Science\\lib\\site-packages\\scipy\\stats\\morestats.py:1681: UserWarning: p-value may not be accurate for N > 5000.\n",
      "  warnings.warn(\"p-value may not be accurate for N > 5000.\")\n"
     ]
    },
    {
     "data": {
      "text/plain": [
       "ShapiroResult(statistic=0.9852855205535889, pvalue=0.0)"
      ]
     },
     "execution_count": 19,
     "metadata": {},
     "output_type": "execute_result"
    }
   ],
   "source": [
    "from scipy import stats\n",
    "shapiro_test = stats.shapiro(master_df['Log Mileage In'])\n",
    "shapiro_test"
   ]
  }
 ],
 "metadata": {
  "kernelspec": {
   "display_name": "Python 3",
   "language": "python",
   "name": "python3"
  },
  "language_info": {
   "codemirror_mode": {
    "name": "ipython",
    "version": 3
   },
   "file_extension": ".py",
   "mimetype": "text/x-python",
   "name": "python",
   "nbconvert_exporter": "python",
   "pygments_lexer": "ipython3",
   "version": "3.8.8"
  }
 },
 "nbformat": 4,
 "nbformat_minor": 5
}
