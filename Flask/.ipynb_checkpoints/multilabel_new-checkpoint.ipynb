{
 "cells": [
  {
   "cell_type": "markdown",
   "metadata": {},
   "source": [
    "## Import libraries"
   ]
  },
  {
   "cell_type": "code",
   "execution_count": 1,
   "metadata": {
    "ExecuteTime": {
     "end_time": "2021-04-17T03:09:41.663058Z",
     "start_time": "2021-04-17T03:09:36.349567Z"
    }
   },
   "outputs": [],
   "source": [
    "import category_encoders as ce\n",
    "from category_encoders.wrapper import PolynomialWrapper\n",
    "from sklearn.model_selection import train_test_split, cross_val_score, GridSearchCV\n",
    "from sklearn.ensemble import RandomForestClassifier, AdaBoostClassifier, GradientBoostingClassifier\n",
    "from sklearn.tree import DecisionTreeClassifier\n",
    "from sklearn.metrics import confusion_matrix, balanced_accuracy_score, make_scorer, multilabel_confusion_matrix\n",
    "from sklearn.svm import SVC\n",
    "from sklearn.preprocessing import MinMaxScaler, MultiLabelBinarizer\n",
    "from imblearn.over_sampling import SMOTE, SMOTEN, SMOTENC\n",
    "from sklearn.preprocessing import LabelEncoder, normalize\n",
    "from sklearn.model_selection import KFold, StratifiedKFold\n",
    "from sklearn.metrics import f1_score, classification_report, confusion_matrix, plot_confusion_matrix, jaccard_score, accuracy_score, hamming_loss\n",
    "from xgboost import XGBClassifier\n",
    "from sklearn.neighbors import KNeighborsClassifier\n",
    "from sklearn.neighbors import KNeighborsClassifier\n",
    "from sklearn.neighbors import RadiusNeighborsClassifier\n",
    "from sklearn.naive_bayes import GaussianNB\n",
    "\n",
    "from sklearn.pipeline import Pipeline\n",
    "\n",
    "from imblearn.ensemble import EasyEnsembleClassifier, BalancedBaggingClassifier, BalancedRandomForestClassifier\n",
    "from imblearn.under_sampling import RandomUnderSampler\n",
    "from imblearn.over_sampling import RandomOverSampler\n",
    "from sklearn.multioutput import ClassifierChain\n",
    "\n",
    "from sklearn.multiclass import OneVsRestClassifier\n",
    "from sklearn.multiclass import OutputCodeClassifier\n",
    "from sklearn.multiclass import OneVsOneClassifier\n",
    "\n",
    "from skmultilearn.problem_transform import LabelPowerset\n",
    "from skmultilearn.adapt import MLkNN\n",
    "from skmultilearn.ensemble import RakelD, LabelSpacePartitioningClassifier\n",
    "from skmultilearn.model_selection.measures import get_combination_wise_output_matrix\n",
    "from collections import Counter\n",
    "from skmultilearn.model_selection import iterative_train_test_split\n",
    "from skmultilearn.ext import download_meka, Meka\n",
    "\n",
    "import statistics\n",
    "from zipfile import BadZipFile"
   ]
  },
  {
   "cell_type": "code",
   "execution_count": 2,
   "metadata": {
    "ExecuteTime": {
     "end_time": "2021-04-17T03:09:41.679015Z",
     "start_time": "2021-04-17T03:09:41.666054Z"
    }
   },
   "outputs": [
    {
     "name": "stdout",
     "output_type": "stream",
     "text": [
      "MEKA 1.9.2 found, not downloading\n"
     ]
    }
   ],
   "source": [
    "meka_classpath = download_meka()"
   ]
  },
  {
   "cell_type": "code",
   "execution_count": 3,
   "metadata": {
    "ExecuteTime": {
     "end_time": "2021-04-17T03:09:41.710929Z",
     "start_time": "2021-04-17T03:09:41.682008Z"
    }
   },
   "outputs": [
    {
     "data": {
      "text/plain": [
       "'C:\\\\Users\\\\Nico\\\\scikit_ml_learn_data\\\\meka\\\\meka-release-1.9.2\\\\lib\\\\'"
      ]
     },
     "execution_count": 3,
     "metadata": {},
     "output_type": "execute_result"
    }
   ],
   "source": [
    "meka_classpath"
   ]
  },
  {
   "cell_type": "markdown",
   "metadata": {},
   "source": [
    "## Load dataset"
   ]
  },
  {
   "cell_type": "code",
   "execution_count": 4,
   "metadata": {
    "ExecuteTime": {
     "end_time": "2021-04-17T03:09:48.823742Z",
     "start_time": "2021-04-17T03:09:41.713922Z"
    }
   },
   "outputs": [],
   "source": [
    "df = pd.read_excel('FINAL_FINAL 2.xlsx', index_col='Primary Key')"
   ]
  },
  {
   "cell_type": "code",
   "execution_count": 5,
   "metadata": {
    "ExecuteTime": {
     "end_time": "2021-04-17T03:09:48.871382Z",
     "start_time": "2021-04-17T03:09:48.825440Z"
    }
   },
   "outputs": [
    {
     "name": "stdout",
     "output_type": "stream",
     "text": [
      "<class 'pandas.core.frame.DataFrame'>\n",
      "Int64Index: 30585 entries, 17 to 43007\n",
      "Data columns (total 22 columns):\n",
      " #   Column            Non-Null Count  Dtype         \n",
      "---  ------            --------------  -----         \n",
      " 0   Created           30585 non-null  datetime64[ns]\n",
      " 1   Mileage In        30585 non-null  int64         \n",
      " 2   Work Order        30585 non-null  int64         \n",
      " 3   Model             30585 non-null  object        \n",
      " 4   Line Type         30585 non-null  object        \n",
      " 5   Service Category  30585 non-null  object        \n",
      " 6   Service Package   30563 non-null  object        \n",
      " 7   Description       30585 non-null  object        \n",
      " 8   Definition        13496 non-null  object        \n",
      " 9   Price             30585 non-null  float64       \n",
      " 10  Quantity          30585 non-null  float64       \n",
      " 11  Total             30585 non-null  float64       \n",
      " 12  Discount          30585 non-null  float64       \n",
      " 13  Net Total         30585 non-null  float64       \n",
      " 14  ContactID         30585 non-null  object        \n",
      " 15  ServiceItemID     30585 non-null  object        \n",
      " 16  InvoiceID         30585 non-null  object        \n",
      " 17  Make              30585 non-null  object        \n",
      " 18  Year              30585 non-null  int64         \n",
      " 19  labels            30585 non-null  object        \n",
      " 20  is_same_label     30585 non-null  bool          \n",
      " 21  body type         30585 non-null  object        \n",
      "dtypes: bool(1), datetime64[ns](1), float64(5), int64(3), object(12)\n",
      "memory usage: 5.2+ MB\n"
     ]
    }
   ],
   "source": [
    "df.info()"
   ]
  },
  {
   "cell_type": "code",
   "execution_count": 6,
   "metadata": {
    "ExecuteTime": {
     "end_time": "2021-04-17T03:09:48.886278Z",
     "start_time": "2021-04-17T03:09:48.873315Z"
    }
   },
   "outputs": [
    {
     "data": {
      "text/plain": [
       "Minor Preventive Maintenance Service                                  4757\n",
       "Change Oil                                                            4173\n",
       "Major Preventive Maintenance Service                                  3992\n",
       "Brakes                                                                3765\n",
       "Engine Oil / Oil Filter                                               2860\n",
       "HVAC (Heating, Ventilation & Air Conditioning)                        1498\n",
       "Engine                                                                1433\n",
       "Transmission & Clutch                                                 1411\n",
       "Complete Vehicle Inspection                                           1273\n",
       "Fuel Filter / Air Filter                                              1065\n",
       "Electrical (Belts, Lighting, Starting & Charging Systems)             1040\n",
       "Cooling System                                                         890\n",
       "Tires & Wheels                                                         803\n",
       "Driveability (Fuel, Ignition & Emission Systems)                       796\n",
       "Accessories (Gauges, Power Accessories, Vision & Air Bag)              422\n",
       "Drive Train (Final Drive, Transaxle, Differential & Transfer Case)     214\n",
       "Batteries                                                              193\n",
       "Name: Service Category, dtype: int64"
      ]
     },
     "execution_count": 6,
     "metadata": {},
     "output_type": "execute_result"
    }
   ],
   "source": [
    "df['Service Category'].value_counts()"
   ]
  },
  {
   "cell_type": "code",
   "execution_count": 7,
   "metadata": {
    "ExecuteTime": {
     "end_time": "2021-04-17T03:09:48.934149Z",
     "start_time": "2021-04-17T03:09:48.888272Z"
    }
   },
   "outputs": [],
   "source": [
    "df = df[ (df['Service Category'] != 'Batteries') ]"
   ]
  },
  {
   "cell_type": "code",
   "execution_count": 8,
   "metadata": {
    "ExecuteTime": {
     "end_time": "2021-04-17T03:09:48.950107Z",
     "start_time": "2021-04-17T03:09:48.937142Z"
    }
   },
   "outputs": [
    {
     "data": {
      "text/plain": [
       "Minor Preventive Maintenance Service                                  4757\n",
       "Change Oil                                                            4173\n",
       "Major Preventive Maintenance Service                                  3992\n",
       "Brakes                                                                3765\n",
       "Engine Oil / Oil Filter                                               2860\n",
       "HVAC (Heating, Ventilation & Air Conditioning)                        1498\n",
       "Engine                                                                1433\n",
       "Transmission & Clutch                                                 1411\n",
       "Complete Vehicle Inspection                                           1273\n",
       "Fuel Filter / Air Filter                                              1065\n",
       "Electrical (Belts, Lighting, Starting & Charging Systems)             1040\n",
       "Cooling System                                                         890\n",
       "Tires & Wheels                                                         803\n",
       "Driveability (Fuel, Ignition & Emission Systems)                       796\n",
       "Accessories (Gauges, Power Accessories, Vision & Air Bag)              422\n",
       "Drive Train (Final Drive, Transaxle, Differential & Transfer Case)     214\n",
       "Name: Service Category, dtype: int64"
      ]
     },
     "execution_count": 8,
     "metadata": {},
     "output_type": "execute_result"
    }
   ],
   "source": [
    "df['Service Category'].value_counts()"
   ]
  },
  {
   "cell_type": "code",
   "execution_count": 9,
   "metadata": {
    "ExecuteTime": {
     "end_time": "2021-04-17T03:09:51.321156Z",
     "start_time": "2021-04-17T03:09:51.309194Z"
    },
    "scrolled": true
   },
   "outputs": [
    {
     "data": {
      "text/plain": [
       "Index(['Created', 'Mileage In', 'Work Order', 'Model', 'Line Type',\n",
       "       'Service Category', 'Service Package', 'Description', 'Definition',\n",
       "       'Price', 'Quantity', 'Total', 'Discount', 'Net Total', 'ContactID',\n",
       "       'ServiceItemID', 'InvoiceID', 'Make', 'Year', 'labels', 'is_same_label',\n",
       "       'body type'],\n",
       "      dtype='object')"
      ]
     },
     "execution_count": 9,
     "metadata": {},
     "output_type": "execute_result"
    }
   ],
   "source": [
    "df.columns"
   ]
  },
  {
   "cell_type": "code",
   "execution_count": 10,
   "metadata": {
    "ExecuteTime": {
     "end_time": "2021-04-17T03:09:54.212667Z",
     "start_time": "2021-04-17T03:09:54.200700Z"
    }
   },
   "outputs": [],
   "source": [
    "df2 = df[['Mileage In', 'Make', 'Model', 'Year', 'Service Category']]"
   ]
  },
  {
   "cell_type": "code",
   "execution_count": 14,
   "metadata": {
    "ExecuteTime": {
     "end_time": "2021-04-17T03:11:44.073229Z",
     "start_time": "2021-04-17T03:11:44.048275Z"
    }
   },
   "outputs": [
    {
     "data": {
      "text/html": [
       "<div>\n",
       "<style scoped>\n",
       "    .dataframe tbody tr th:only-of-type {\n",
       "        vertical-align: middle;\n",
       "    }\n",
       "\n",
       "    .dataframe tbody tr th {\n",
       "        vertical-align: top;\n",
       "    }\n",
       "\n",
       "    .dataframe thead th {\n",
       "        text-align: right;\n",
       "    }\n",
       "</style>\n",
       "<table border=\"1\" class=\"dataframe\">\n",
       "  <thead>\n",
       "    <tr style=\"text-align: right;\">\n",
       "      <th></th>\n",
       "      <th>Mileage In</th>\n",
       "      <th>Make</th>\n",
       "      <th>Model</th>\n",
       "      <th>Year</th>\n",
       "      <th>Service Category</th>\n",
       "    </tr>\n",
       "    <tr>\n",
       "      <th>Primary Key</th>\n",
       "      <th></th>\n",
       "      <th></th>\n",
       "      <th></th>\n",
       "      <th></th>\n",
       "      <th></th>\n",
       "    </tr>\n",
       "  </thead>\n",
       "  <tbody>\n",
       "    <tr>\n",
       "      <th>17</th>\n",
       "      <td>68624</td>\n",
       "      <td>hyundai</td>\n",
       "      <td>getz</td>\n",
       "      <td>2010</td>\n",
       "      <td>Engine</td>\n",
       "    </tr>\n",
       "    <tr>\n",
       "      <th>18</th>\n",
       "      <td>68624</td>\n",
       "      <td>hyundai</td>\n",
       "      <td>getz</td>\n",
       "      <td>2010</td>\n",
       "      <td>Engine</td>\n",
       "    </tr>\n",
       "    <tr>\n",
       "      <th>19</th>\n",
       "      <td>68624</td>\n",
       "      <td>hyundai</td>\n",
       "      <td>getz</td>\n",
       "      <td>2010</td>\n",
       "      <td>Engine</td>\n",
       "    </tr>\n",
       "    <tr>\n",
       "      <th>20</th>\n",
       "      <td>68624</td>\n",
       "      <td>hyundai</td>\n",
       "      <td>getz</td>\n",
       "      <td>2010</td>\n",
       "      <td>Engine</td>\n",
       "    </tr>\n",
       "    <tr>\n",
       "      <th>21</th>\n",
       "      <td>68624</td>\n",
       "      <td>hyundai</td>\n",
       "      <td>getz</td>\n",
       "      <td>2010</td>\n",
       "      <td>Engine</td>\n",
       "    </tr>\n",
       "    <tr>\n",
       "      <th>...</th>\n",
       "      <td>...</td>\n",
       "      <td>...</td>\n",
       "      <td>...</td>\n",
       "      <td>...</td>\n",
       "      <td>...</td>\n",
       "    </tr>\n",
       "    <tr>\n",
       "      <th>43003</th>\n",
       "      <td>24616</td>\n",
       "      <td>toyota</td>\n",
       "      <td>wigo</td>\n",
       "      <td>2019</td>\n",
       "      <td>Change Oil</td>\n",
       "    </tr>\n",
       "    <tr>\n",
       "      <th>43004</th>\n",
       "      <td>24616</td>\n",
       "      <td>toyota</td>\n",
       "      <td>wigo</td>\n",
       "      <td>2019</td>\n",
       "      <td>Change Oil</td>\n",
       "    </tr>\n",
       "    <tr>\n",
       "      <th>43005</th>\n",
       "      <td>24616</td>\n",
       "      <td>toyota</td>\n",
       "      <td>wigo</td>\n",
       "      <td>2019</td>\n",
       "      <td>Change Oil</td>\n",
       "    </tr>\n",
       "    <tr>\n",
       "      <th>43006</th>\n",
       "      <td>24616</td>\n",
       "      <td>toyota</td>\n",
       "      <td>wigo</td>\n",
       "      <td>2019</td>\n",
       "      <td>Change Oil</td>\n",
       "    </tr>\n",
       "    <tr>\n",
       "      <th>43007</th>\n",
       "      <td>24616</td>\n",
       "      <td>toyota</td>\n",
       "      <td>wigo</td>\n",
       "      <td>2019</td>\n",
       "      <td>Change Oil</td>\n",
       "    </tr>\n",
       "  </tbody>\n",
       "</table>\n",
       "<p>30392 rows × 5 columns</p>\n",
       "</div>"
      ],
      "text/plain": [
       "             Mileage In     Make Model  Year Service Category\n",
       "Primary Key                                                  \n",
       "17                68624  hyundai  getz  2010           Engine\n",
       "18                68624  hyundai  getz  2010           Engine\n",
       "19                68624  hyundai  getz  2010           Engine\n",
       "20                68624  hyundai  getz  2010           Engine\n",
       "21                68624  hyundai  getz  2010           Engine\n",
       "...                 ...      ...   ...   ...              ...\n",
       "43003             24616   toyota  wigo  2019       Change Oil\n",
       "43004             24616   toyota  wigo  2019       Change Oil\n",
       "43005             24616   toyota  wigo  2019       Change Oil\n",
       "43006             24616   toyota  wigo  2019       Change Oil\n",
       "43007             24616   toyota  wigo  2019       Change Oil\n",
       "\n",
       "[30392 rows x 5 columns]"
      ]
     },
     "execution_count": 14,
     "metadata": {},
     "output_type": "execute_result"
    }
   ],
   "source": [
    "df2"
   ]
  },
  {
   "cell_type": "code",
   "execution_count": 15,
   "metadata": {
    "ExecuteTime": {
     "end_time": "2021-04-17T03:12:19.709865Z",
     "start_time": "2021-04-17T03:12:19.554482Z"
    }
   },
   "outputs": [],
   "source": [
    "df3 = df2.groupby(['Make', 'Year','Model', 'Mileage In']).agg(list)"
   ]
  },
  {
   "cell_type": "code",
   "execution_count": 16,
   "metadata": {
    "ExecuteTime": {
     "end_time": "2021-04-17T03:12:24.162233Z",
     "start_time": "2021-04-17T03:12:24.137302Z"
    }
   },
   "outputs": [
    {
     "data": {
      "text/html": [
       "<div>\n",
       "<style scoped>\n",
       "    .dataframe tbody tr th:only-of-type {\n",
       "        vertical-align: middle;\n",
       "    }\n",
       "\n",
       "    .dataframe tbody tr th {\n",
       "        vertical-align: top;\n",
       "    }\n",
       "\n",
       "    .dataframe thead th {\n",
       "        text-align: right;\n",
       "    }\n",
       "</style>\n",
       "<table border=\"1\" class=\"dataframe\">\n",
       "  <thead>\n",
       "    <tr style=\"text-align: right;\">\n",
       "      <th></th>\n",
       "      <th></th>\n",
       "      <th></th>\n",
       "      <th></th>\n",
       "      <th>Service Category</th>\n",
       "    </tr>\n",
       "    <tr>\n",
       "      <th>Make</th>\n",
       "      <th>Year</th>\n",
       "      <th>Model</th>\n",
       "      <th>Mileage In</th>\n",
       "      <th></th>\n",
       "    </tr>\n",
       "  </thead>\n",
       "  <tbody>\n",
       "    <tr>\n",
       "      <th rowspan=\"5\" valign=\"top\">audi</th>\n",
       "      <th rowspan=\"2\" valign=\"top\">2000</th>\n",
       "      <th rowspan=\"2\" valign=\"top\">a6</th>\n",
       "      <th>660</th>\n",
       "      <td>[Transmission &amp; Clutch, Brakes, Driveability (...</td>\n",
       "    </tr>\n",
       "    <tr>\n",
       "      <th>710</th>\n",
       "      <td>[Complete Vehicle Inspection, Complete Vehicle...</td>\n",
       "    </tr>\n",
       "    <tr>\n",
       "      <th rowspan=\"3\" valign=\"top\">2008</th>\n",
       "      <th rowspan=\"2\" valign=\"top\">a8</th>\n",
       "      <th>84884</th>\n",
       "      <td>[HVAC (Heating, Ventilation &amp; Air Conditioning...</td>\n",
       "    </tr>\n",
       "    <tr>\n",
       "      <th>84898</th>\n",
       "      <td>[Accessories (Gauges, Power Accessories, Visio...</td>\n",
       "    </tr>\n",
       "    <tr>\n",
       "      <th>q7</th>\n",
       "      <th>118982</th>\n",
       "      <td>[Major Preventive Maintenance Service, Major P...</td>\n",
       "    </tr>\n",
       "    <tr>\n",
       "      <th>...</th>\n",
       "      <th>...</th>\n",
       "      <th>...</th>\n",
       "      <th>...</th>\n",
       "      <td>...</td>\n",
       "    </tr>\n",
       "    <tr>\n",
       "      <th rowspan=\"5\" valign=\"top\">volvo</th>\n",
       "      <th rowspan=\"5\" valign=\"top\">2011</th>\n",
       "      <th rowspan=\"5\" valign=\"top\">s80</th>\n",
       "      <th>20148</th>\n",
       "      <td>[Engine Oil / Oil Filter, Brakes, Brakes, Mino...</td>\n",
       "    </tr>\n",
       "    <tr>\n",
       "      <th>20795</th>\n",
       "      <td>[HVAC (Heating, Ventilation &amp; Air Conditioning...</td>\n",
       "    </tr>\n",
       "    <tr>\n",
       "      <th>21682</th>\n",
       "      <td>[Accessories (Gauges, Power Accessories, Visio...</td>\n",
       "    </tr>\n",
       "    <tr>\n",
       "      <th>24030</th>\n",
       "      <td>[Engine Oil / Oil Filter, Minor Preventive Mai...</td>\n",
       "    </tr>\n",
       "    <tr>\n",
       "      <th>24276</th>\n",
       "      <td>[Engine, Engine, Engine, Complete Vehicle Insp...</td>\n",
       "    </tr>\n",
       "  </tbody>\n",
       "</table>\n",
       "<p>4895 rows × 1 columns</p>\n",
       "</div>"
      ],
      "text/plain": [
       "                                                              Service Category\n",
       "Make  Year Model Mileage In                                                   \n",
       "audi  2000 a6    660         [Transmission & Clutch, Brakes, Driveability (...\n",
       "                 710         [Complete Vehicle Inspection, Complete Vehicle...\n",
       "      2008 a8    84884       [HVAC (Heating, Ventilation & Air Conditioning...\n",
       "                 84898       [Accessories (Gauges, Power Accessories, Visio...\n",
       "           q7    118982      [Major Preventive Maintenance Service, Major P...\n",
       "...                                                                        ...\n",
       "volvo 2011 s80   20148       [Engine Oil / Oil Filter, Brakes, Brakes, Mino...\n",
       "                 20795       [HVAC (Heating, Ventilation & Air Conditioning...\n",
       "                 21682       [Accessories (Gauges, Power Accessories, Visio...\n",
       "                 24030       [Engine Oil / Oil Filter, Minor Preventive Mai...\n",
       "                 24276       [Engine, Engine, Engine, Complete Vehicle Insp...\n",
       "\n",
       "[4895 rows x 1 columns]"
      ]
     },
     "execution_count": 16,
     "metadata": {},
     "output_type": "execute_result"
    }
   ],
   "source": [
    "df3"
   ]
  },
  {
   "cell_type": "code",
   "execution_count": 17,
   "metadata": {
    "ExecuteTime": {
     "end_time": "2021-04-17T03:12:29.476302Z",
     "start_time": "2021-04-17T03:12:29.465369Z"
    }
   },
   "outputs": [],
   "source": [
    "df3 = df3.reset_index()"
   ]
  },
  {
   "cell_type": "code",
   "execution_count": 18,
   "metadata": {
    "ExecuteTime": {
     "end_time": "2021-04-17T03:12:34.689425Z",
     "start_time": "2021-04-17T03:12:34.607892Z"
    }
   },
   "outputs": [],
   "source": [
    "df3['Service Category'] = df3['Service Category'].apply(np.unique)"
   ]
  },
  {
   "cell_type": "markdown",
   "metadata": {},
   "source": [
    "## ML Binarizer"
   ]
  },
  {
   "cell_type": "code",
   "execution_count": 20,
   "metadata": {
    "ExecuteTime": {
     "end_time": "2021-04-17T03:13:01.450252Z",
     "start_time": "2021-04-17T03:13:01.445310Z"
    }
   },
   "outputs": [],
   "source": [
    "mlb = MultiLabelBinarizer()"
   ]
  },
  {
   "cell_type": "code",
   "execution_count": 1,
   "metadata": {
    "ExecuteTime": {
     "end_time": "2021-04-17T03:13:05.197379Z",
     "start_time": "2021-04-17T03:13:05.163473Z"
    }
   },
   "outputs": [
    {
     "ename": "NameError",
     "evalue": "name 'df3' is not defined",
     "output_type": "error",
     "traceback": [
      "\u001b[1;31m---------------------------------------------------------------------------\u001b[0m",
      "\u001b[1;31mNameError\u001b[0m                                 Traceback (most recent call last)",
      "\u001b[1;32m<ipython-input-1-e554eebde5bd>\u001b[0m in \u001b[0;36m<module>\u001b[1;34m\u001b[0m\n\u001b[1;32m----> 1\u001b[1;33m df4 = df3.join(pd.DataFrame(mlb.fit_transform(df3.pop('Service Category')),\n\u001b[0m\u001b[0;32m      2\u001b[0m                           \u001b[0mcolumns\u001b[0m\u001b[1;33m=\u001b[0m\u001b[0mmlb\u001b[0m\u001b[1;33m.\u001b[0m\u001b[0mclasses_\u001b[0m\u001b[1;33m,\u001b[0m\u001b[1;33m\u001b[0m\u001b[1;33m\u001b[0m\u001b[0m\n\u001b[0;32m      3\u001b[0m                           index=df_.index))\n",
      "\u001b[1;31mNameError\u001b[0m: name 'df3' is not defined"
     ]
    }
   ],
   "source": [
    "df4 = df3.join(pd.DataFrame(mlb.fit_transform(df3.pop('Service Category')),\n",
    "                          columns=mlb.classes_,\n",
    "                          index=df3.index))"
   ]
  },
  {
   "cell_type": "code",
   "execution_count": 22,
   "metadata": {
    "ExecuteTime": {
     "end_time": "2021-04-17T03:13:14.752744Z",
     "start_time": "2021-04-17T03:13:14.711871Z"
    }
   },
   "outputs": [
    {
     "data": {
      "text/html": [
       "<div>\n",
       "<style scoped>\n",
       "    .dataframe tbody tr th:only-of-type {\n",
       "        vertical-align: middle;\n",
       "    }\n",
       "\n",
       "    .dataframe tbody tr th {\n",
       "        vertical-align: top;\n",
       "    }\n",
       "\n",
       "    .dataframe thead th {\n",
       "        text-align: right;\n",
       "    }\n",
       "</style>\n",
       "<table border=\"1\" class=\"dataframe\">\n",
       "  <thead>\n",
       "    <tr style=\"text-align: right;\">\n",
       "      <th></th>\n",
       "      <th>Make</th>\n",
       "      <th>Year</th>\n",
       "      <th>Model</th>\n",
       "      <th>Mileage In</th>\n",
       "      <th>Accessories (Gauges, Power Accessories, Vision &amp; Air Bag)</th>\n",
       "      <th>Brakes</th>\n",
       "      <th>Change Oil</th>\n",
       "      <th>Complete Vehicle Inspection</th>\n",
       "      <th>Cooling System</th>\n",
       "      <th>Drive Train (Final Drive, Transaxle, Differential &amp; Transfer Case)</th>\n",
       "      <th>Driveability (Fuel, Ignition &amp; Emission Systems)</th>\n",
       "      <th>Electrical (Belts, Lighting, Starting &amp; Charging Systems)</th>\n",
       "      <th>Engine</th>\n",
       "      <th>Engine Oil / Oil Filter</th>\n",
       "      <th>Fuel Filter / Air Filter</th>\n",
       "      <th>HVAC (Heating, Ventilation &amp; Air Conditioning)</th>\n",
       "      <th>Major Preventive Maintenance Service</th>\n",
       "      <th>Minor Preventive Maintenance Service</th>\n",
       "      <th>Tires &amp; Wheels</th>\n",
       "      <th>Transmission &amp; Clutch</th>\n",
       "    </tr>\n",
       "  </thead>\n",
       "  <tbody>\n",
       "    <tr>\n",
       "      <th>0</th>\n",
       "      <td>audi</td>\n",
       "      <td>2000</td>\n",
       "      <td>a6</td>\n",
       "      <td>660</td>\n",
       "      <td>1</td>\n",
       "      <td>1</td>\n",
       "      <td>1</td>\n",
       "      <td>1</td>\n",
       "      <td>0</td>\n",
       "      <td>1</td>\n",
       "      <td>1</td>\n",
       "      <td>0</td>\n",
       "      <td>0</td>\n",
       "      <td>0</td>\n",
       "      <td>0</td>\n",
       "      <td>0</td>\n",
       "      <td>0</td>\n",
       "      <td>0</td>\n",
       "      <td>0</td>\n",
       "      <td>1</td>\n",
       "    </tr>\n",
       "    <tr>\n",
       "      <th>1</th>\n",
       "      <td>audi</td>\n",
       "      <td>2000</td>\n",
       "      <td>a6</td>\n",
       "      <td>710</td>\n",
       "      <td>0</td>\n",
       "      <td>0</td>\n",
       "      <td>0</td>\n",
       "      <td>1</td>\n",
       "      <td>0</td>\n",
       "      <td>0</td>\n",
       "      <td>0</td>\n",
       "      <td>0</td>\n",
       "      <td>0</td>\n",
       "      <td>0</td>\n",
       "      <td>0</td>\n",
       "      <td>0</td>\n",
       "      <td>0</td>\n",
       "      <td>0</td>\n",
       "      <td>0</td>\n",
       "      <td>0</td>\n",
       "    </tr>\n",
       "    <tr>\n",
       "      <th>2</th>\n",
       "      <td>audi</td>\n",
       "      <td>2008</td>\n",
       "      <td>a8</td>\n",
       "      <td>84884</td>\n",
       "      <td>0</td>\n",
       "      <td>1</td>\n",
       "      <td>0</td>\n",
       "      <td>0</td>\n",
       "      <td>0</td>\n",
       "      <td>0</td>\n",
       "      <td>0</td>\n",
       "      <td>0</td>\n",
       "      <td>0</td>\n",
       "      <td>1</td>\n",
       "      <td>0</td>\n",
       "      <td>1</td>\n",
       "      <td>0</td>\n",
       "      <td>1</td>\n",
       "      <td>0</td>\n",
       "      <td>0</td>\n",
       "    </tr>\n",
       "    <tr>\n",
       "      <th>3</th>\n",
       "      <td>audi</td>\n",
       "      <td>2008</td>\n",
       "      <td>a8</td>\n",
       "      <td>84898</td>\n",
       "      <td>1</td>\n",
       "      <td>0</td>\n",
       "      <td>0</td>\n",
       "      <td>0</td>\n",
       "      <td>0</td>\n",
       "      <td>0</td>\n",
       "      <td>0</td>\n",
       "      <td>0</td>\n",
       "      <td>0</td>\n",
       "      <td>0</td>\n",
       "      <td>0</td>\n",
       "      <td>0</td>\n",
       "      <td>0</td>\n",
       "      <td>0</td>\n",
       "      <td>0</td>\n",
       "      <td>0</td>\n",
       "    </tr>\n",
       "    <tr>\n",
       "      <th>4</th>\n",
       "      <td>audi</td>\n",
       "      <td>2008</td>\n",
       "      <td>q7</td>\n",
       "      <td>118982</td>\n",
       "      <td>0</td>\n",
       "      <td>0</td>\n",
       "      <td>0</td>\n",
       "      <td>0</td>\n",
       "      <td>0</td>\n",
       "      <td>0</td>\n",
       "      <td>0</td>\n",
       "      <td>0</td>\n",
       "      <td>0</td>\n",
       "      <td>0</td>\n",
       "      <td>0</td>\n",
       "      <td>0</td>\n",
       "      <td>1</td>\n",
       "      <td>0</td>\n",
       "      <td>0</td>\n",
       "      <td>0</td>\n",
       "    </tr>\n",
       "    <tr>\n",
       "      <th>...</th>\n",
       "      <td>...</td>\n",
       "      <td>...</td>\n",
       "      <td>...</td>\n",
       "      <td>...</td>\n",
       "      <td>...</td>\n",
       "      <td>...</td>\n",
       "      <td>...</td>\n",
       "      <td>...</td>\n",
       "      <td>...</td>\n",
       "      <td>...</td>\n",
       "      <td>...</td>\n",
       "      <td>...</td>\n",
       "      <td>...</td>\n",
       "      <td>...</td>\n",
       "      <td>...</td>\n",
       "      <td>...</td>\n",
       "      <td>...</td>\n",
       "      <td>...</td>\n",
       "      <td>...</td>\n",
       "      <td>...</td>\n",
       "    </tr>\n",
       "    <tr>\n",
       "      <th>4890</th>\n",
       "      <td>volvo</td>\n",
       "      <td>2011</td>\n",
       "      <td>s80</td>\n",
       "      <td>20148</td>\n",
       "      <td>1</td>\n",
       "      <td>1</td>\n",
       "      <td>0</td>\n",
       "      <td>0</td>\n",
       "      <td>0</td>\n",
       "      <td>0</td>\n",
       "      <td>0</td>\n",
       "      <td>0</td>\n",
       "      <td>0</td>\n",
       "      <td>1</td>\n",
       "      <td>0</td>\n",
       "      <td>0</td>\n",
       "      <td>0</td>\n",
       "      <td>1</td>\n",
       "      <td>0</td>\n",
       "      <td>0</td>\n",
       "    </tr>\n",
       "    <tr>\n",
       "      <th>4891</th>\n",
       "      <td>volvo</td>\n",
       "      <td>2011</td>\n",
       "      <td>s80</td>\n",
       "      <td>20795</td>\n",
       "      <td>1</td>\n",
       "      <td>1</td>\n",
       "      <td>0</td>\n",
       "      <td>0</td>\n",
       "      <td>0</td>\n",
       "      <td>0</td>\n",
       "      <td>0</td>\n",
       "      <td>0</td>\n",
       "      <td>0</td>\n",
       "      <td>0</td>\n",
       "      <td>0</td>\n",
       "      <td>1</td>\n",
       "      <td>0</td>\n",
       "      <td>0</td>\n",
       "      <td>0</td>\n",
       "      <td>0</td>\n",
       "    </tr>\n",
       "    <tr>\n",
       "      <th>4892</th>\n",
       "      <td>volvo</td>\n",
       "      <td>2011</td>\n",
       "      <td>s80</td>\n",
       "      <td>21682</td>\n",
       "      <td>1</td>\n",
       "      <td>0</td>\n",
       "      <td>0</td>\n",
       "      <td>0</td>\n",
       "      <td>0</td>\n",
       "      <td>0</td>\n",
       "      <td>0</td>\n",
       "      <td>0</td>\n",
       "      <td>0</td>\n",
       "      <td>0</td>\n",
       "      <td>0</td>\n",
       "      <td>0</td>\n",
       "      <td>0</td>\n",
       "      <td>0</td>\n",
       "      <td>0</td>\n",
       "      <td>0</td>\n",
       "    </tr>\n",
       "    <tr>\n",
       "      <th>4893</th>\n",
       "      <td>volvo</td>\n",
       "      <td>2011</td>\n",
       "      <td>s80</td>\n",
       "      <td>24030</td>\n",
       "      <td>0</td>\n",
       "      <td>1</td>\n",
       "      <td>0</td>\n",
       "      <td>0</td>\n",
       "      <td>0</td>\n",
       "      <td>0</td>\n",
       "      <td>0</td>\n",
       "      <td>0</td>\n",
       "      <td>0</td>\n",
       "      <td>1</td>\n",
       "      <td>0</td>\n",
       "      <td>0</td>\n",
       "      <td>0</td>\n",
       "      <td>1</td>\n",
       "      <td>0</td>\n",
       "      <td>0</td>\n",
       "    </tr>\n",
       "    <tr>\n",
       "      <th>4894</th>\n",
       "      <td>volvo</td>\n",
       "      <td>2011</td>\n",
       "      <td>s80</td>\n",
       "      <td>24276</td>\n",
       "      <td>0</td>\n",
       "      <td>0</td>\n",
       "      <td>0</td>\n",
       "      <td>1</td>\n",
       "      <td>0</td>\n",
       "      <td>0</td>\n",
       "      <td>0</td>\n",
       "      <td>0</td>\n",
       "      <td>1</td>\n",
       "      <td>0</td>\n",
       "      <td>0</td>\n",
       "      <td>0</td>\n",
       "      <td>0</td>\n",
       "      <td>0</td>\n",
       "      <td>0</td>\n",
       "      <td>0</td>\n",
       "    </tr>\n",
       "  </tbody>\n",
       "</table>\n",
       "<p>4895 rows × 20 columns</p>\n",
       "</div>"
      ],
      "text/plain": [
       "       Make  Year Model  Mileage In  \\\n",
       "0      audi  2000    a6         660   \n",
       "1      audi  2000    a6         710   \n",
       "2      audi  2008    a8       84884   \n",
       "3      audi  2008    a8       84898   \n",
       "4      audi  2008    q7      118982   \n",
       "...     ...   ...   ...         ...   \n",
       "4890  volvo  2011   s80       20148   \n",
       "4891  volvo  2011   s80       20795   \n",
       "4892  volvo  2011   s80       21682   \n",
       "4893  volvo  2011   s80       24030   \n",
       "4894  volvo  2011   s80       24276   \n",
       "\n",
       "      Accessories (Gauges, Power Accessories, Vision & Air Bag)  Brakes  \\\n",
       "0                                                     1               1   \n",
       "1                                                     0               0   \n",
       "2                                                     0               1   \n",
       "3                                                     1               0   \n",
       "4                                                     0               0   \n",
       "...                                                 ...             ...   \n",
       "4890                                                  1               1   \n",
       "4891                                                  1               1   \n",
       "4892                                                  1               0   \n",
       "4893                                                  0               1   \n",
       "4894                                                  0               0   \n",
       "\n",
       "      Change Oil  Complete Vehicle Inspection  Cooling System  \\\n",
       "0              1                            1               0   \n",
       "1              0                            1               0   \n",
       "2              0                            0               0   \n",
       "3              0                            0               0   \n",
       "4              0                            0               0   \n",
       "...          ...                          ...             ...   \n",
       "4890           0                            0               0   \n",
       "4891           0                            0               0   \n",
       "4892           0                            0               0   \n",
       "4893           0                            0               0   \n",
       "4894           0                            1               0   \n",
       "\n",
       "      Drive Train (Final Drive, Transaxle, Differential & Transfer Case)  \\\n",
       "0                                                     1                    \n",
       "1                                                     0                    \n",
       "2                                                     0                    \n",
       "3                                                     0                    \n",
       "4                                                     0                    \n",
       "...                                                 ...                    \n",
       "4890                                                  0                    \n",
       "4891                                                  0                    \n",
       "4892                                                  0                    \n",
       "4893                                                  0                    \n",
       "4894                                                  0                    \n",
       "\n",
       "      Driveability (Fuel, Ignition & Emission Systems)  \\\n",
       "0                                                    1   \n",
       "1                                                    0   \n",
       "2                                                    0   \n",
       "3                                                    0   \n",
       "4                                                    0   \n",
       "...                                                ...   \n",
       "4890                                                 0   \n",
       "4891                                                 0   \n",
       "4892                                                 0   \n",
       "4893                                                 0   \n",
       "4894                                                 0   \n",
       "\n",
       "      Electrical (Belts, Lighting, Starting & Charging Systems)  Engine  \\\n",
       "0                                                     0               0   \n",
       "1                                                     0               0   \n",
       "2                                                     0               0   \n",
       "3                                                     0               0   \n",
       "4                                                     0               0   \n",
       "...                                                 ...             ...   \n",
       "4890                                                  0               0   \n",
       "4891                                                  0               0   \n",
       "4892                                                  0               0   \n",
       "4893                                                  0               0   \n",
       "4894                                                  0               1   \n",
       "\n",
       "      Engine Oil / Oil Filter  Fuel Filter / Air Filter  \\\n",
       "0                           0                         0   \n",
       "1                           0                         0   \n",
       "2                           1                         0   \n",
       "3                           0                         0   \n",
       "4                           0                         0   \n",
       "...                       ...                       ...   \n",
       "4890                        1                         0   \n",
       "4891                        0                         0   \n",
       "4892                        0                         0   \n",
       "4893                        1                         0   \n",
       "4894                        0                         0   \n",
       "\n",
       "      HVAC (Heating, Ventilation & Air Conditioning)  \\\n",
       "0                                                  0   \n",
       "1                                                  0   \n",
       "2                                                  1   \n",
       "3                                                  0   \n",
       "4                                                  0   \n",
       "...                                              ...   \n",
       "4890                                               0   \n",
       "4891                                               1   \n",
       "4892                                               0   \n",
       "4893                                               0   \n",
       "4894                                               0   \n",
       "\n",
       "      Major Preventive Maintenance Service  \\\n",
       "0                                        0   \n",
       "1                                        0   \n",
       "2                                        0   \n",
       "3                                        0   \n",
       "4                                        1   \n",
       "...                                    ...   \n",
       "4890                                     0   \n",
       "4891                                     0   \n",
       "4892                                     0   \n",
       "4893                                     0   \n",
       "4894                                     0   \n",
       "\n",
       "      Minor Preventive Maintenance Service  Tires & Wheels  \\\n",
       "0                                        0               0   \n",
       "1                                        0               0   \n",
       "2                                        1               0   \n",
       "3                                        0               0   \n",
       "4                                        0               0   \n",
       "...                                    ...             ...   \n",
       "4890                                     1               0   \n",
       "4891                                     0               0   \n",
       "4892                                     0               0   \n",
       "4893                                     1               0   \n",
       "4894                                     0               0   \n",
       "\n",
       "      Transmission & Clutch  \n",
       "0                         1  \n",
       "1                         0  \n",
       "2                         0  \n",
       "3                         0  \n",
       "4                         0  \n",
       "...                     ...  \n",
       "4890                      0  \n",
       "4891                      0  \n",
       "4892                      0  \n",
       "4893                      0  \n",
       "4894                      0  \n",
       "\n",
       "[4895 rows x 20 columns]"
      ]
     },
     "execution_count": 22,
     "metadata": {},
     "output_type": "execute_result"
    }
   ],
   "source": [
    "df4"
   ]
  },
  {
   "cell_type": "code",
   "execution_count": 23,
   "metadata": {
    "ExecuteTime": {
     "end_time": "2021-04-17T03:13:28.896271Z",
     "start_time": "2021-04-17T03:13:28.884302Z"
    }
   },
   "outputs": [],
   "source": [
    "X = df4[['Make', 'Year','Model', 'Mileage In']]"
   ]
  },
  {
   "cell_type": "code",
   "execution_count": 24,
   "metadata": {
    "ExecuteTime": {
     "end_time": "2021-04-17T03:13:42.780892Z",
     "start_time": "2021-04-17T03:13:42.763937Z"
    }
   },
   "outputs": [
    {
     "data": {
      "text/plain": [
       "16"
      ]
     },
     "execution_count": 24,
     "metadata": {},
     "output_type": "execute_result"
    }
   ],
   "source": [
    "num_categories = len(df['Service Category'].value_counts())\n",
    "num_categories"
   ]
  },
  {
   "cell_type": "code",
   "execution_count": 25,
   "metadata": {
    "ExecuteTime": {
     "end_time": "2021-04-17T03:13:47.592606Z",
     "start_time": "2021-04-17T03:13:47.573657Z"
    }
   },
   "outputs": [],
   "source": [
    "Y = df4.iloc[:,-num_categories:]"
   ]
  },
  {
   "cell_type": "code",
   "execution_count": 26,
   "metadata": {
    "ExecuteTime": {
     "end_time": "2021-04-17T03:14:02.854318Z",
     "start_time": "2021-04-17T03:14:02.801501Z"
    }
   },
   "outputs": [
    {
     "data": {
      "text/plain": [
       "Counter({(6, 15): 26,\n",
       "         (0, 2): 17,\n",
       "         (0, 5): 2,\n",
       "         (2, 2): 791,\n",
       "         (1, 6): 115,\n",
       "         (2, 5): 7,\n",
       "         (1, 3): 190,\n",
       "         (1, 15): 87,\n",
       "         (3, 3): 1111,\n",
       "         (5, 6): 8,\n",
       "         (3, 6): 65,\n",
       "         (3, 15): 44,\n",
       "         (0, 1): 93,\n",
       "         (5, 15): 8,\n",
       "         (1, 2): 113,\n",
       "         (1, 5): 21,\n",
       "         (3, 5): 17,\n",
       "         (5, 5): 62,\n",
       "         (0, 0): 216,\n",
       "         (1, 1): 2054,\n",
       "         (0, 3): 24,\n",
       "         (0, 6): 17,\n",
       "         (2, 3): 52,\n",
       "         (0, 15): 13,\n",
       "         (2, 6): 28,\n",
       "         (6, 6): 358,\n",
       "         (2, 15): 17,\n",
       "         (15, 15): 277,\n",
       "         (9, 13): 1053,\n",
       "         (9, 9): 1487,\n",
       "         (1, 11): 131,\n",
       "         (11, 13): 79,\n",
       "         (13, 13): 1181,\n",
       "         (1, 13): 1164,\n",
       "         (9, 11): 94,\n",
       "         (1, 9): 1466,\n",
       "         (11, 11): 322,\n",
       "         (12, 12): 444,\n",
       "         (8, 8): 304,\n",
       "         (7, 7): 508,\n",
       "         (3, 7): 96,\n",
       "         (7, 11): 40,\n",
       "         (3, 11): 61,\n",
       "         (8, 9): 62,\n",
       "         (0, 8): 20,\n",
       "         (6, 8): 32,\n",
       "         (0, 13): 72,\n",
       "         (1, 8): 106,\n",
       "         (6, 13): 65,\n",
       "         (0, 9): 68,\n",
       "         (8, 13): 49,\n",
       "         (6, 9): 77,\n",
       "         (4, 4): 291,\n",
       "         (13, 14): 28,\n",
       "         (14, 14): 263,\n",
       "         (1, 14): 43,\n",
       "         (9, 14): 29,\n",
       "         (9, 10): 549,\n",
       "         (10, 13): 390,\n",
       "         (10, 10): 665,\n",
       "         (1, 10): 614,\n",
       "         (1, 12): 60,\n",
       "         (8, 12): 26,\n",
       "         (7, 13): 145,\n",
       "         (0, 7): 36,\n",
       "         (7, 9): 210,\n",
       "         (1, 7): 279,\n",
       "         (7, 8): 49,\n",
       "         (6, 7): 44,\n",
       "         (3, 8): 72,\n",
       "         (3, 13): 69,\n",
       "         (3, 9): 79,\n",
       "         (4, 10): 59,\n",
       "         (4, 13): 86,\n",
       "         (4, 9): 90,\n",
       "         (1, 4): 116,\n",
       "         (3, 12): 46,\n",
       "         (6, 11): 41,\n",
       "         (10, 11): 55,\n",
       "         (6, 10): 26,\n",
       "         (4, 11): 33,\n",
       "         (9, 15): 51,\n",
       "         (7, 15): 26,\n",
       "         (13, 15): 49,\n",
       "         (0, 10): 46,\n",
       "         (2, 11): 16,\n",
       "         (3, 10): 74,\n",
       "         (10, 15): 38,\n",
       "         (7, 10): 130,\n",
       "         (2, 7): 39,\n",
       "         (4, 15): 31,\n",
       "         (0, 4): 17,\n",
       "         (7, 12): 25,\n",
       "         (11, 12): 19,\n",
       "         (4, 7): 39,\n",
       "         (8, 15): 35,\n",
       "         (2, 8): 28,\n",
       "         (3, 4): 74,\n",
       "         (0, 11): 16,\n",
       "         (4, 8): 36,\n",
       "         (8, 11): 25,\n",
       "         (11, 15): 19,\n",
       "         (2, 13): 69,\n",
       "         (6, 12): 26,\n",
       "         (5, 7): 10,\n",
       "         (5, 12): 6,\n",
       "         (4, 6): 22,\n",
       "         (2, 4): 16,\n",
       "         (2, 10): 27,\n",
       "         (8, 10): 49,\n",
       "         (10, 12): 40,\n",
       "         (3, 14): 12,\n",
       "         (4, 14): 3,\n",
       "         (4, 5): 7,\n",
       "         (8, 14): 7,\n",
       "         (10, 14): 13,\n",
       "         (2, 14): 11,\n",
       "         (0, 12): 12,\n",
       "         (5, 10): 6,\n",
       "         (5, 9): 10,\n",
       "         (5, 8): 16,\n",
       "         (5, 14): 2,\n",
       "         (2, 9): 8,\n",
       "         (4, 12): 15,\n",
       "         (12, 15): 19,\n",
       "         (5, 13): 7,\n",
       "         (0, 14): 5,\n",
       "         (2, 12): 8,\n",
       "         (7, 14): 8,\n",
       "         (5, 11): 6,\n",
       "         (14, 15): 9,\n",
       "         (11, 14): 3,\n",
       "         (12, 14): 4})"
      ]
     },
     "execution_count": 26,
     "metadata": {},
     "output_type": "execute_result"
    }
   ],
   "source": [
    "Counter(combination for row in get_combination_wise_output_matrix(Y.to_numpy(), order=2) for combination in row)"
   ]
  },
  {
   "cell_type": "markdown",
   "metadata": {},
   "source": [
    "## Split data"
   ]
  },
  {
   "cell_type": "code",
   "execution_count": 309,
   "metadata": {
    "ExecuteTime": {
     "end_time": "2021-04-18T13:49:47.602895Z",
     "start_time": "2021-04-18T13:49:47.321761Z"
    },
    "scrolled": true
   },
   "outputs": [],
   "source": [
    "X_train, Y_train, X_test, Y_test = iterative_train_test_split(X.to_numpy(), Y.to_numpy(), test_size = 0.2)"
   ]
  },
  {
   "cell_type": "code",
   "execution_count": 310,
   "metadata": {
    "ExecuteTime": {
     "end_time": "2021-04-18T13:49:48.198774Z",
     "start_time": "2021-04-18T13:49:48.088073Z"
    },
    "scrolled": true
   },
   "outputs": [
    {
     "data": {
      "text/html": [
       "<div>\n",
       "<style scoped>\n",
       "    .dataframe tbody tr th:only-of-type {\n",
       "        vertical-align: middle;\n",
       "    }\n",
       "\n",
       "    .dataframe tbody tr th {\n",
       "        vertical-align: top;\n",
       "    }\n",
       "\n",
       "    .dataframe thead th {\n",
       "        text-align: right;\n",
       "    }\n",
       "</style>\n",
       "<table border=\"1\" class=\"dataframe\">\n",
       "  <thead>\n",
       "    <tr style=\"text-align: right;\">\n",
       "      <th></th>\n",
       "      <th>(3, 3)</th>\n",
       "      <th>(9, 13)</th>\n",
       "      <th>(9, 9)</th>\n",
       "      <th>(1, 11)</th>\n",
       "      <th>(11, 13)</th>\n",
       "      <th>(1, 1)</th>\n",
       "      <th>(13, 13)</th>\n",
       "      <th>(1, 13)</th>\n",
       "      <th>(9, 11)</th>\n",
       "      <th>(1, 9)</th>\n",
       "      <th>...</th>\n",
       "      <th>(2, 12)</th>\n",
       "      <th>(5, 7)</th>\n",
       "      <th>(5, 13)</th>\n",
       "      <th>(5, 6)</th>\n",
       "      <th>(5, 11)</th>\n",
       "      <th>(14, 15)</th>\n",
       "      <th>(0, 5)</th>\n",
       "      <th>(12, 15)</th>\n",
       "      <th>(11, 14)</th>\n",
       "      <th>(12, 14)</th>\n",
       "    </tr>\n",
       "  </thead>\n",
       "  <tbody>\n",
       "    <tr>\n",
       "      <th>train</th>\n",
       "      <td>889.0</td>\n",
       "      <td>842.0</td>\n",
       "      <td>1187.0</td>\n",
       "      <td>105.0</td>\n",
       "      <td>63.0</td>\n",
       "      <td>1643.0</td>\n",
       "      <td>944.0</td>\n",
       "      <td>931.0</td>\n",
       "      <td>75.0</td>\n",
       "      <td>1173.0</td>\n",
       "      <td>...</td>\n",
       "      <td>6.0</td>\n",
       "      <td>8.0</td>\n",
       "      <td>6.0</td>\n",
       "      <td>6.0</td>\n",
       "      <td>5.0</td>\n",
       "      <td>7.0</td>\n",
       "      <td>1.0</td>\n",
       "      <td>15.0</td>\n",
       "      <td>2.0</td>\n",
       "      <td>3.0</td>\n",
       "    </tr>\n",
       "    <tr>\n",
       "      <th>test</th>\n",
       "      <td>222.0</td>\n",
       "      <td>211.0</td>\n",
       "      <td>300.0</td>\n",
       "      <td>26.0</td>\n",
       "      <td>16.0</td>\n",
       "      <td>411.0</td>\n",
       "      <td>237.0</td>\n",
       "      <td>233.0</td>\n",
       "      <td>19.0</td>\n",
       "      <td>293.0</td>\n",
       "      <td>...</td>\n",
       "      <td>2.0</td>\n",
       "      <td>2.0</td>\n",
       "      <td>1.0</td>\n",
       "      <td>2.0</td>\n",
       "      <td>1.0</td>\n",
       "      <td>2.0</td>\n",
       "      <td>1.0</td>\n",
       "      <td>4.0</td>\n",
       "      <td>1.0</td>\n",
       "      <td>1.0</td>\n",
       "    </tr>\n",
       "  </tbody>\n",
       "</table>\n",
       "<p>2 rows × 133 columns</p>\n",
       "</div>"
      ],
      "text/plain": [
       "       (3, 3)  (9, 13)  (9, 9)  (1, 11)  (11, 13)  (1, 1)  (13, 13)  (1, 13)  \\\n",
       "train   889.0    842.0  1187.0    105.0      63.0  1643.0     944.0    931.0   \n",
       "test    222.0    211.0   300.0     26.0      16.0   411.0     237.0    233.0   \n",
       "\n",
       "       (9, 11)  (1, 9)  ...  (2, 12)  (5, 7)  (5, 13)  (5, 6)  (5, 11)  \\\n",
       "train     75.0  1173.0  ...      6.0     8.0      6.0     6.0      5.0   \n",
       "test      19.0   293.0  ...      2.0     2.0      1.0     2.0      1.0   \n",
       "\n",
       "       (14, 15)  (0, 5)  (12, 15)  (11, 14)  (12, 14)  \n",
       "train       7.0     1.0      15.0       2.0       3.0  \n",
       "test        2.0     1.0       4.0       1.0       1.0  \n",
       "\n",
       "[2 rows x 133 columns]"
      ]
     },
     "execution_count": 310,
     "metadata": {},
     "output_type": "execute_result"
    }
   ],
   "source": [
    "split = pd.DataFrame({\n",
    "    'train': Counter(str(combination) for row in get_combination_wise_output_matrix(Y_train, order=2) for combination in row),\n",
    "    'test' : Counter(str(combination) for row in get_combination_wise_output_matrix(Y_test, order=2) for combination in row)\n",
    "}).T.fillna(0.0)\n",
    "\n",
    "split"
   ]
  },
  {
   "cell_type": "code",
   "execution_count": 311,
   "metadata": {
    "ExecuteTime": {
     "end_time": "2021-04-18T13:49:50.591640Z",
     "start_time": "2021-04-18T13:49:50.580669Z"
    }
   },
   "outputs": [
    {
     "name": "stdout",
     "output_type": "stream",
     "text": [
      "(3921, 4) (974, 4) (3921, 16) (974, 16)\n"
     ]
    }
   ],
   "source": [
    "print(X_train.shape, X_test.shape, Y_train.shape, Y_test.shape)"
   ]
  },
  {
   "cell_type": "code",
   "execution_count": 312,
   "metadata": {
    "ExecuteTime": {
     "end_time": "2021-04-18T13:49:52.004270Z",
     "start_time": "2021-04-18T13:49:51.985299Z"
    }
   },
   "outputs": [],
   "source": [
    "X_train = pd.DataFrame(X_train ,columns=X.columns)\n",
    "X_test = pd.DataFrame(X_test, columns=X.columns)\n",
    "\n",
    "Y_train = pd.DataFrame(Y_train, columns=Y.columns)\n",
    "Y_test = pd.DataFrame(Y_test, columns=Y.columns)"
   ]
  },
  {
   "cell_type": "code",
   "execution_count": 313,
   "metadata": {
    "ExecuteTime": {
     "end_time": "2021-04-18T13:49:56.231576Z",
     "start_time": "2021-04-18T13:49:56.217609Z"
    }
   },
   "outputs": [],
   "source": [
    "X_train['Mileage In'] = X_train['Mileage In'].astype(int)\n",
    "X_test['Mileage In'] = X_test['Mileage In'].astype(int)"
   ]
  },
  {
   "cell_type": "code",
   "execution_count": 158,
   "metadata": {
    "ExecuteTime": {
     "end_time": "2021-04-17T04:37:55.523810Z",
     "start_time": "2021-04-17T04:37:55.518824Z"
    }
   },
   "outputs": [],
   "source": [
    "jaccard = make_scorer(jaccard_score, average='samples')"
   ]
  },
  {
   "cell_type": "markdown",
   "metadata": {},
   "source": [
    "## Encoder"
   ]
  },
  {
   "cell_type": "code",
   "execution_count": 159,
   "metadata": {
    "ExecuteTime": {
     "end_time": "2021-04-17T04:37:56.784794Z",
     "start_time": "2021-04-17T04:37:56.774824Z"
    }
   },
   "outputs": [],
   "source": [
    "# instantiate encoder\n",
    "\n",
    "encoder = ce.count.CountEncoder(cols=['Make', 'Year', 'Model'])"
   ]
  },
  {
   "cell_type": "code",
   "execution_count": 160,
   "metadata": {
    "ExecuteTime": {
     "end_time": "2021-04-17T04:37:57.463211Z",
     "start_time": "2021-04-17T04:37:57.439310Z"
    }
   },
   "outputs": [
    {
     "name": "stderr",
     "output_type": "stream",
     "text": [
      "C:\\Users\\Nico\\anaconda3\\lib\\site-packages\\category_encoders\\utils.py:21: FutureWarning: is_categorical is deprecated and will be removed in a future version.  Use is_categorical_dtype instead\n",
      "  elif pd.api.types.is_categorical(cols):\n"
     ]
    },
    {
     "data": {
      "text/plain": [
       "CountEncoder(cols=['Make', 'Year', 'Model'], combine_min_nan_groups=True)"
      ]
     },
     "execution_count": 160,
     "metadata": {},
     "output_type": "execute_result"
    }
   ],
   "source": [
    "encoder.fit(X_train, Y_train)"
   ]
  },
  {
   "cell_type": "code",
   "execution_count": 161,
   "metadata": {
    "ExecuteTime": {
     "end_time": "2021-04-17T04:38:02.373994Z",
     "start_time": "2021-04-17T04:38:02.349052Z"
    }
   },
   "outputs": [],
   "source": [
    "# encode features\n",
    "\n",
    "X_train = encoder.transform(X_train)\n",
    "X_test = encoder.transform(X_test)"
   ]
  },
  {
   "cell_type": "code",
   "execution_count": 166,
   "metadata": {
    "ExecuteTime": {
     "end_time": "2021-04-17T04:39:37.940709Z",
     "start_time": "2021-04-17T04:39:37.927743Z"
    }
   },
   "outputs": [
    {
     "data": {
      "text/plain": [
       "Int64Index([2, 3, 4, 9, 10, 20, 48, 98, 587, 860, 878, 879, 938, 942], dtype='int64')"
      ]
     },
     "execution_count": 166,
     "metadata": {},
     "output_type": "execute_result"
    }
   ],
   "source": [
    "# rows to remove due to NaN values\n",
    "\n",
    "rem_rows = X_test[X_test.isnull().any(axis=1)]\n",
    "rem_rows.index"
   ]
  },
  {
   "cell_type": "code",
   "execution_count": 168,
   "metadata": {
    "ExecuteTime": {
     "end_time": "2021-04-17T04:40:34.616318Z",
     "start_time": "2021-04-17T04:40:34.595375Z"
    }
   },
   "outputs": [],
   "source": [
    "X_test.drop(index=rem_rows.index, inplace=True)"
   ]
  },
  {
   "cell_type": "code",
   "execution_count": 169,
   "metadata": {
    "ExecuteTime": {
     "end_time": "2021-04-17T04:40:44.386087Z",
     "start_time": "2021-04-17T04:40:44.378072Z"
    }
   },
   "outputs": [],
   "source": [
    "Y_test.drop(index=rem_rows.index, inplace=True)"
   ]
  },
  {
   "cell_type": "code",
   "execution_count": 170,
   "metadata": {
    "ExecuteTime": {
     "end_time": "2021-04-17T04:40:50.513785Z",
     "start_time": "2021-04-17T04:40:50.505806Z"
    }
   },
   "outputs": [
    {
     "data": {
      "text/plain": [
       "((964, 4), (964, 16))"
      ]
     },
     "execution_count": 170,
     "metadata": {},
     "output_type": "execute_result"
    }
   ],
   "source": [
    "X_test.shape, Y_test.shape"
   ]
  },
  {
   "cell_type": "code",
   "execution_count": 171,
   "metadata": {
    "ExecuteTime": {
     "end_time": "2021-04-17T04:41:04.873022Z",
     "start_time": "2021-04-17T04:41:04.862012Z"
    }
   },
   "outputs": [
    {
     "data": {
      "text/html": [
       "<div>\n",
       "<style scoped>\n",
       "    .dataframe tbody tr th:only-of-type {\n",
       "        vertical-align: middle;\n",
       "    }\n",
       "\n",
       "    .dataframe tbody tr th {\n",
       "        vertical-align: top;\n",
       "    }\n",
       "\n",
       "    .dataframe thead th {\n",
       "        text-align: right;\n",
       "    }\n",
       "</style>\n",
       "<table border=\"1\" class=\"dataframe\">\n",
       "  <thead>\n",
       "    <tr style=\"text-align: right;\">\n",
       "      <th></th>\n",
       "      <th>Make</th>\n",
       "      <th>Year</th>\n",
       "      <th>Model</th>\n",
       "      <th>Mileage In</th>\n",
       "    </tr>\n",
       "  </thead>\n",
       "  <tbody>\n",
       "  </tbody>\n",
       "</table>\n",
       "</div>"
      ],
      "text/plain": [
       "Empty DataFrame\n",
       "Columns: [Make, Year, Model, Mileage In]\n",
       "Index: []"
      ]
     },
     "execution_count": 171,
     "metadata": {},
     "output_type": "execute_result"
    }
   ],
   "source": [
    "X_test[X_test.isnull().any(axis=1)]\n"
   ]
  },
  {
   "cell_type": "markdown",
   "metadata": {},
   "source": [
    "## Classification"
   ]
  },
  {
   "cell_type": "markdown",
   "metadata": {},
   "source": [
    "### RF Classifier"
   ]
  },
  {
   "cell_type": "code",
   "execution_count": 172,
   "metadata": {
    "ExecuteTime": {
     "end_time": "2021-04-17T04:41:14.744252Z",
     "start_time": "2021-04-17T04:41:14.737272Z"
    }
   },
   "outputs": [],
   "source": [
    "model = RandomForestClassifier(random_state=13)"
   ]
  },
  {
   "cell_type": "code",
   "execution_count": 173,
   "metadata": {
    "ExecuteTime": {
     "end_time": "2021-04-17T04:41:22.227835Z",
     "start_time": "2021-04-17T04:41:15.158737Z"
    }
   },
   "outputs": [
    {
     "data": {
      "text/plain": [
       "0.11915409062578994"
      ]
     },
     "execution_count": 173,
     "metadata": {},
     "output_type": "execute_result"
    }
   ],
   "source": [
    "cv_score = cross_val_score(model, X_train, Y_train, cv=5, scoring=jaccard)\n",
    "cv_score.mean()"
   ]
  },
  {
   "cell_type": "code",
   "execution_count": 174,
   "metadata": {
    "ExecuteTime": {
     "end_time": "2021-04-17T04:41:23.939196Z",
     "start_time": "2021-04-17T04:41:22.229787Z"
    }
   },
   "outputs": [
    {
     "data": {
      "text/plain": [
       "RandomForestClassifier(random_state=13)"
      ]
     },
     "execution_count": 174,
     "metadata": {},
     "output_type": "execute_result"
    }
   ],
   "source": [
    "model.fit(X_train, Y_train)"
   ]
  },
  {
   "cell_type": "code",
   "execution_count": 175,
   "metadata": {
    "ExecuteTime": {
     "end_time": "2021-04-17T04:41:24.081200Z",
     "start_time": "2021-04-17T04:41:23.941191Z"
    }
   },
   "outputs": [],
   "source": [
    "y_pred = model.predict(X_test)"
   ]
  },
  {
   "cell_type": "code",
   "execution_count": 176,
   "metadata": {
    "ExecuteTime": {
     "end_time": "2021-04-17T04:41:24.097161Z",
     "start_time": "2021-04-17T04:41:24.084196Z"
    }
   },
   "outputs": [
    {
     "data": {
      "text/plain": [
       "0.17706769083843774"
      ]
     },
     "execution_count": 176,
     "metadata": {},
     "output_type": "execute_result"
    }
   ],
   "source": [
    "jaccard_score(Y_test, y_pred, average='samples')"
   ]
  },
  {
   "cell_type": "markdown",
   "metadata": {},
   "source": [
    "### Binary Relevance"
   ]
  },
  {
   "cell_type": "code",
   "execution_count": 177,
   "metadata": {
    "ExecuteTime": {
     "end_time": "2021-04-17T04:42:07.774332Z",
     "start_time": "2021-04-17T04:42:07.761404Z"
    }
   },
   "outputs": [
    {
     "data": {
      "text/plain": [
       "Meka(java_command='C:/Program Files (x86)/Java/jre1.8.0_281/bin/java -Xmx1024m',\n",
       "     meka_classifier='meka.classifiers.multilabel.BR',\n",
       "     meka_classpath='C:\\\\Users\\\\Nico\\\\scikit_ml_learn_data\\\\meka\\\\meka-release-1.9.2\\\\lib\\\\',\n",
       "     weka_classifier='weka.classifiers.trees.RandomForest')"
      ]
     },
     "execution_count": 177,
     "metadata": {},
     "output_type": "execute_result"
    }
   ],
   "source": [
    "meka = Meka(\n",
    "        meka_classifier = \"meka.classifiers.multilabel.BR\", # Binary Relevance\n",
    "        weka_classifier = \"weka.classifiers.trees.RandomForest\", # with Naive Bayes single-label classifier\n",
    "        meka_classpath = meka_classpath, #obtained via download_meka\n",
    "        java_command = 'C:/Program Files (x86)/Java/jre1.8.0_281/bin/java -Xmx1024m' # path to java executable\n",
    ")\n",
    "meka"
   ]
  },
  {
   "cell_type": "code",
   "execution_count": 178,
   "metadata": {
    "ExecuteTime": {
     "end_time": "2021-04-17T04:45:02.768701Z",
     "start_time": "2021-04-17T04:42:14.309995Z"
    },
    "scrolled": true
   },
   "outputs": [
    {
     "data": {
      "text/plain": [
       "0.21338358255027368"
      ]
     },
     "execution_count": 178,
     "metadata": {},
     "output_type": "execute_result"
    }
   ],
   "source": [
    "cv_score = cross_val_score(meka, X_train, Y_train, cv=5, scoring=jaccard)\n",
    "cv_score.mean()"
   ]
  },
  {
   "cell_type": "code",
   "execution_count": 179,
   "metadata": {
    "ExecuteTime": {
     "end_time": "2021-04-17T04:46:13.756347Z",
     "start_time": "2021-04-17T04:45:40.161154Z"
    }
   },
   "outputs": [
    {
     "data": {
      "text/plain": [
       "Meka(java_command='C:/Program Files (x86)/Java/jre1.8.0_281/bin/java -Xmx1024m',\n",
       "     meka_classifier='meka.classifiers.multilabel.BR',\n",
       "     meka_classpath='C:\\\\Users\\\\Nico\\\\scikit_ml_learn_data\\\\meka\\\\meka-release-1.9.2\\\\lib\\\\',\n",
       "     weka_classifier='weka.classifiers.trees.RandomForest')"
      ]
     },
     "execution_count": 179,
     "metadata": {},
     "output_type": "execute_result"
    }
   ],
   "source": [
    "meka.fit(X_train, Y_train)"
   ]
  },
  {
   "cell_type": "code",
   "execution_count": 180,
   "metadata": {
    "ExecuteTime": {
     "end_time": "2021-04-17T04:46:21.556804Z",
     "start_time": "2021-04-17T04:46:13.758322Z"
    }
   },
   "outputs": [],
   "source": [
    "y_pred = meka.predict(X_test)"
   ]
  },
  {
   "cell_type": "code",
   "execution_count": 181,
   "metadata": {
    "ExecuteTime": {
     "end_time": "2021-04-17T04:46:21.571969Z",
     "start_time": "2021-04-17T04:46:21.558977Z"
    }
   },
   "outputs": [
    {
     "data": {
      "text/plain": [
       "0.24072070737008497"
      ]
     },
     "execution_count": 181,
     "metadata": {},
     "output_type": "execute_result"
    }
   ],
   "source": [
    "jaccard_score(Y_test, y_pred, average='samples')"
   ]
  },
  {
   "cell_type": "markdown",
   "metadata": {},
   "source": [
    "### Classifier Chains"
   ]
  },
  {
   "cell_type": "code",
   "execution_count": 182,
   "metadata": {
    "ExecuteTime": {
     "end_time": "2021-04-17T04:46:37.681822Z",
     "start_time": "2021-04-17T04:46:37.662834Z"
    }
   },
   "outputs": [
    {
     "data": {
      "text/plain": [
       "Meka(java_command='C:/Program Files (x86)/Java/jre1.8.0_281/bin/java -Xmx1024m',\n",
       "     meka_classifier='meka.classifiers.multilabel.CC',\n",
       "     meka_classpath='C:\\\\Users\\\\Nico\\\\scikit_ml_learn_data\\\\meka\\\\meka-release-1.9.2\\\\lib\\\\',\n",
       "     weka_classifier='weka.classifiers.trees.RandomForest')"
      ]
     },
     "execution_count": 182,
     "metadata": {},
     "output_type": "execute_result"
    }
   ],
   "source": [
    "meka = Meka(\n",
    "        meka_classifier = \"meka.classifiers.multilabel.CC\", # Classifier Chains\n",
    "        weka_classifier = \"weka.classifiers.trees.RandomForest\",\n",
    "        meka_classpath = meka_classpath, #obtained via download_meka\n",
    "        java_command = 'C:/Program Files (x86)/Java/jre1.8.0_281/bin/java -Xmx1024m' # path to java executable\n",
    ")\n",
    "meka"
   ]
  },
  {
   "cell_type": "code",
   "execution_count": 183,
   "metadata": {
    "ExecuteTime": {
     "end_time": "2021-04-17T04:49:03.893998Z",
     "start_time": "2021-04-17T04:46:38.051797Z"
    },
    "scrolled": true
   },
   "outputs": [
    {
     "data": {
      "text/plain": [
       "0.20409173971845015"
      ]
     },
     "execution_count": 183,
     "metadata": {},
     "output_type": "execute_result"
    }
   ],
   "source": [
    "cv_score = cross_val_score(meka, X_train, Y_train, cv=5, scoring=jaccard)\n",
    "cv_score.mean()"
   ]
  },
  {
   "cell_type": "code",
   "execution_count": 184,
   "metadata": {
    "ExecuteTime": {
     "end_time": "2021-04-17T04:49:34.679826Z",
     "start_time": "2021-04-17T04:49:03.895951Z"
    }
   },
   "outputs": [
    {
     "data": {
      "text/plain": [
       "Meka(java_command='C:/Program Files (x86)/Java/jre1.8.0_281/bin/java -Xmx1024m',\n",
       "     meka_classifier='meka.classifiers.multilabel.CC',\n",
       "     meka_classpath='C:\\\\Users\\\\Nico\\\\scikit_ml_learn_data\\\\meka\\\\meka-release-1.9.2\\\\lib\\\\',\n",
       "     weka_classifier='weka.classifiers.trees.RandomForest')"
      ]
     },
     "execution_count": 184,
     "metadata": {},
     "output_type": "execute_result"
    }
   ],
   "source": [
    "meka.fit(X_train, Y_train)"
   ]
  },
  {
   "cell_type": "code",
   "execution_count": 185,
   "metadata": {
    "ExecuteTime": {
     "end_time": "2021-04-17T04:49:42.406411Z",
     "start_time": "2021-04-17T04:49:34.681821Z"
    }
   },
   "outputs": [],
   "source": [
    "y_pred = meka.predict(X_test)"
   ]
  },
  {
   "cell_type": "code",
   "execution_count": 186,
   "metadata": {
    "ExecuteTime": {
     "end_time": "2021-04-17T04:49:42.421578Z",
     "start_time": "2021-04-17T04:49:42.408553Z"
    }
   },
   "outputs": [
    {
     "data": {
      "text/plain": [
       "0.2379062932226833"
      ]
     },
     "execution_count": 186,
     "metadata": {},
     "output_type": "execute_result"
    }
   ],
   "source": [
    "jaccard_score(Y_test, y_pred, average='samples')"
   ]
  },
  {
   "cell_type": "markdown",
   "metadata": {},
   "source": [
    "### Classifier Trellis"
   ]
  },
  {
   "cell_type": "code",
   "execution_count": 66,
   "metadata": {
    "ExecuteTime": {
     "end_time": "2021-04-09T15:21:36.622154Z",
     "start_time": "2021-04-09T15:21:36.609189Z"
    }
   },
   "outputs": [
    {
     "data": {
      "text/plain": [
       "Meka(java_command='C:/Program Files (x86)/Java/jre1.8.0_281/bin/java',\n",
       "     meka_classifier='meka.classifiers.multilabel.CT',\n",
       "     meka_classpath='C:\\\\Users\\\\Nico\\\\scikit_ml_learn_data\\\\meka\\\\meka-release-1.9.2\\\\lib\\\\',\n",
       "     weka_classifier='weka.classifiers.trees.RandomForest')"
      ]
     },
     "execution_count": 66,
     "metadata": {},
     "output_type": "execute_result"
    }
   ],
   "source": [
    "meka = Meka(\n",
    "        meka_classifier = \"meka.classifiers.multilabel.CT\", # Classifier Trellis\n",
    "        weka_classifier = \"weka.classifiers.trees.RandomForest\",\n",
    "        meka_classpath = meka_classpath, #obtained via download_meka\n",
    "        java_command = 'C:/Program Files (x86)/Java/jre1.8.0_281/bin/java -Xmx1024m' # path to java executable\n",
    ")\n",
    "meka"
   ]
  },
  {
   "cell_type": "code",
   "execution_count": 67,
   "metadata": {
    "ExecuteTime": {
     "end_time": "2021-04-09T15:23:40.599585Z",
     "start_time": "2021-04-09T15:22:13.748849Z"
    },
    "scrolled": true
   },
   "outputs": [
    {
     "data": {
      "text/plain": [
       "0.14697472752313576"
      ]
     },
     "execution_count": 67,
     "metadata": {},
     "output_type": "execute_result"
    }
   ],
   "source": [
    "cv_score = cross_val_score(meka, X_train, Y_train, cv=5, scoring=jaccard)\n",
    "cv_score.mean()"
   ]
  },
  {
   "cell_type": "code",
   "execution_count": 68,
   "metadata": {
    "ExecuteTime": {
     "end_time": "2021-04-09T15:22:01.538508Z",
     "start_time": "2021-04-09T15:21:37.477864Z"
    }
   },
   "outputs": [
    {
     "data": {
      "text/plain": [
       "Meka(java_command='C:/Program Files (x86)/Java/jre1.8.0_281/bin/java',\n",
       "     meka_classifier='meka.classifiers.multilabel.CT',\n",
       "     meka_classpath='C:\\\\Users\\\\Nico\\\\scikit_ml_learn_data\\\\meka\\\\meka-release-1.9.2\\\\lib\\\\',\n",
       "     weka_classifier='weka.classifiers.trees.RandomForest')"
      ]
     },
     "execution_count": 68,
     "metadata": {},
     "output_type": "execute_result"
    }
   ],
   "source": [
    "meka.fit(X_train, Y_train)"
   ]
  },
  {
   "cell_type": "code",
   "execution_count": 69,
   "metadata": {
    "ExecuteTime": {
     "end_time": "2021-04-09T15:22:03.314759Z",
     "start_time": "2021-04-09T15:22:01.542499Z"
    }
   },
   "outputs": [],
   "source": [
    "y_pred = meka.predict(X_test)"
   ]
  },
  {
   "cell_type": "code",
   "execution_count": 70,
   "metadata": {
    "ExecuteTime": {
     "end_time": "2021-04-09T14:58:40.434486Z",
     "start_time": "2021-04-09T14:58:40.419525Z"
    }
   },
   "outputs": [
    {
     "data": {
      "text/plain": [
       "0.20182870706777115"
      ]
     },
     "execution_count": 70,
     "metadata": {},
     "output_type": "execute_result"
    }
   ],
   "source": [
    "jaccard_score(Y_test, y_pred, average='samples')"
   ]
  },
  {
   "cell_type": "markdown",
   "metadata": {},
   "source": [
    "### ECC (meta.BaggingML) [BEST MODEL]"
   ]
  },
  {
   "cell_type": "code",
   "execution_count": 243,
   "metadata": {
    "ExecuteTime": {
     "end_time": "2021-04-17T05:12:48.777741Z",
     "start_time": "2021-04-17T05:12:48.765744Z"
    }
   },
   "outputs": [
    {
     "data": {
      "text/plain": [
       "Meka(java_command='C:/Program Files (x86)/Java/jre1.8.0_281/bin/java -Xmx1024m',\n",
       "     meka_classifier='meka.classifiers.multilabel.meta.BaggingML -I 10 -P 100',\n",
       "     meka_classpath='C:\\\\Users\\\\Nico\\\\scikit_ml_learn_data\\\\meka\\\\meka-release-1.9.2\\\\lib\\\\')"
      ]
     },
     "execution_count": 243,
     "metadata": {},
     "output_type": "execute_result"
    }
   ],
   "source": [
    "meka = Meka(\n",
    "        meka_classifier = \"meka.classifiers.multilabel.meta.BaggingML -I 10 -P 100\", # Ensembles of Classifier Chains (ECC)\n",
    "#         weka_classifier = \"weka.classifiers.trees.RandomForest\",\n",
    "        meka_classpath = meka_classpath, #obtained via download_meka\n",
    "        java_command = 'C:/Program Files (x86)/Java/jre1.8.0_281/bin/java -Xmx1024m' # path to java executable\n",
    ")\n",
    "meka"
   ]
  },
  {
   "cell_type": "code",
   "execution_count": 240,
   "metadata": {
    "ExecuteTime": {
     "end_time": "2021-04-17T05:06:17.329860Z",
     "start_time": "2021-04-17T05:05:14.360903Z"
    },
    "scrolled": true
   },
   "outputs": [
    {
     "data": {
      "text/plain": [
       "0.26250769213146546"
      ]
     },
     "execution_count": 240,
     "metadata": {},
     "output_type": "execute_result"
    }
   ],
   "source": [
    "cv_score = cross_val_score(meka, X_train, Y_train, cv=5, scoring=jaccard)\n",
    "cv_score.mean()"
   ]
  },
  {
   "cell_type": "code",
   "execution_count": 244,
   "metadata": {
    "ExecuteTime": {
     "end_time": "2021-04-17T05:13:05.493445Z",
     "start_time": "2021-04-17T05:12:50.677534Z"
    }
   },
   "outputs": [
    {
     "data": {
      "text/plain": [
       "Meka(java_command='C:/Program Files (x86)/Java/jre1.8.0_281/bin/java -Xmx1024m',\n",
       "     meka_classifier='meka.classifiers.multilabel.meta.BaggingML -I 10 -P 100',\n",
       "     meka_classpath='C:\\\\Users\\\\Nico\\\\scikit_ml_learn_data\\\\meka\\\\meka-release-1.9.2\\\\lib\\\\')"
      ]
     },
     "execution_count": 244,
     "metadata": {},
     "output_type": "execute_result"
    }
   ],
   "source": [
    "meka.fit(X_train, Y_train)"
   ]
  },
  {
   "cell_type": "code",
   "execution_count": 245,
   "metadata": {
    "ExecuteTime": {
     "end_time": "2021-04-17T05:13:06.678784Z",
     "start_time": "2021-04-17T05:13:05.495439Z"
    }
   },
   "outputs": [],
   "source": [
    "y_pred = meka.predict(X_test)"
   ]
  },
  {
   "cell_type": "code",
   "execution_count": 246,
   "metadata": {
    "ExecuteTime": {
     "end_time": "2021-04-17T05:13:06.694059Z",
     "start_time": "2021-04-17T05:13:06.681095Z"
    }
   },
   "outputs": [
    {
     "data": {
      "text/plain": [
       "0.27104409536982155"
      ]
     },
     "execution_count": 246,
     "metadata": {},
     "output_type": "execute_result"
    }
   ],
   "source": [
    "jaccard_score(Y_test, y_pred, average='samples')"
   ]
  },
  {
   "cell_type": "markdown",
   "metadata": {},
   "source": [
    "### EPS (meta.EnsembleML)"
   ]
  },
  {
   "cell_type": "code",
   "execution_count": 192,
   "metadata": {
    "ExecuteTime": {
     "end_time": "2021-04-17T04:51:40.575102Z",
     "start_time": "2021-04-17T04:51:40.568121Z"
    }
   },
   "outputs": [
    {
     "data": {
      "text/plain": [
       "Meka(java_command='C:/Program Files (x86)/Java/jre1.8.0_281/bin/java -Xmx1024m',\n",
       "     meka_classifier='meka.classifiers.multilabel.meta.EnsembleML',\n",
       "     meka_classpath='C:\\\\Users\\\\Nico\\\\scikit_ml_learn_data\\\\meka\\\\meka-release-1.9.2\\\\lib\\\\')"
      ]
     },
     "execution_count": 192,
     "metadata": {},
     "output_type": "execute_result"
    }
   ],
   "source": [
    "meka = Meka(\n",
    "        meka_classifier = \"meka.classifiers.multilabel.meta.EnsembleML\", # Ensembles of Pruned Sets (EPS)\n",
    "#         weka_classifier = \"weka.classifiers.trees.RandomForest\",\n",
    "        meka_classpath = meka_classpath, #obtained via download_meka\n",
    "        java_command = 'C:/Program Files (x86)/Java/jre1.8.0_281/bin/java -Xmx1024m' # path to java executable\n",
    ")\n",
    "meka"
   ]
  },
  {
   "cell_type": "code",
   "execution_count": 193,
   "metadata": {
    "ExecuteTime": {
     "end_time": "2021-04-17T04:52:27.981552Z",
     "start_time": "2021-04-17T04:51:41.147382Z"
    },
    "scrolled": true
   },
   "outputs": [
    {
     "data": {
      "text/plain": [
       "0.2526419048736079"
      ]
     },
     "execution_count": 193,
     "metadata": {},
     "output_type": "execute_result"
    }
   ],
   "source": [
    "cv_score = cross_val_score(meka, np.matrix(X_train), np.matrix(Y_train), cv=5, scoring=jaccard)\n",
    "cv_score.mean()"
   ]
  },
  {
   "cell_type": "code",
   "execution_count": 194,
   "metadata": {
    "ExecuteTime": {
     "end_time": "2021-04-17T04:52:38.061002Z",
     "start_time": "2021-04-17T04:52:27.983508Z"
    }
   },
   "outputs": [
    {
     "data": {
      "text/plain": [
       "Meka(java_command='C:/Program Files (x86)/Java/jre1.8.0_281/bin/java -Xmx1024m',\n",
       "     meka_classifier='meka.classifiers.multilabel.meta.EnsembleML',\n",
       "     meka_classpath='C:\\\\Users\\\\Nico\\\\scikit_ml_learn_data\\\\meka\\\\meka-release-1.9.2\\\\lib\\\\')"
      ]
     },
     "execution_count": 194,
     "metadata": {},
     "output_type": "execute_result"
    }
   ],
   "source": [
    "meka.fit(np.matrix(X_train), np.matrix(Y_train))"
   ]
  },
  {
   "cell_type": "code",
   "execution_count": 195,
   "metadata": {
    "ExecuteTime": {
     "end_time": "2021-04-17T04:52:39.085652Z",
     "start_time": "2021-04-17T04:52:38.062000Z"
    }
   },
   "outputs": [],
   "source": [
    "y_pred = meka.predict(np.matrix(X_test))"
   ]
  },
  {
   "cell_type": "code",
   "execution_count": 196,
   "metadata": {
    "ExecuteTime": {
     "end_time": "2021-04-17T04:52:39.101431Z",
     "start_time": "2021-04-17T04:52:39.087408Z"
    }
   },
   "outputs": [
    {
     "data": {
      "text/plain": [
       "0.24436499703615883"
      ]
     },
     "execution_count": 196,
     "metadata": {},
     "output_type": "execute_result"
    }
   ],
   "source": [
    "jaccard_score(Y_test, y_pred, average='samples')"
   ]
  },
  {
   "cell_type": "markdown",
   "metadata": {},
   "source": [
    "### Subspace Ensembles of Classifier Chains (meta.RandomSubspaceML)"
   ]
  },
  {
   "cell_type": "code",
   "execution_count": 197,
   "metadata": {
    "ExecuteTime": {
     "end_time": "2021-04-17T04:54:47.698713Z",
     "start_time": "2021-04-17T04:54:47.687745Z"
    }
   },
   "outputs": [
    {
     "data": {
      "text/plain": [
       "Meka(java_command='C:/Program Files (x86)/Java/jre1.8.0_281/bin/java -Xmx1024m',\n",
       "     meka_classifier='meka.classifiers.multilabel.meta.RandomSubspaceML -I 10 '\n",
       "                     '-P 60 -A 50',\n",
       "     meka_classpath='C:\\\\Users\\\\Nico\\\\scikit_ml_learn_data\\\\meka\\\\meka-release-1.9.2\\\\lib\\\\')"
      ]
     },
     "execution_count": 197,
     "metadata": {},
     "output_type": "execute_result"
    }
   ],
   "source": [
    "meka = Meka(\n",
    "        meka_classifier = \"meka.classifiers.multilabel.meta.RandomSubspaceML -I 10 -P 60 -A 50\", # Subspace Ensembles of Classifier Chains\n",
    "#         weka_classifier = \"weka.classifiers.trees.RandomForest\",\n",
    "        meka_classpath = meka_classpath, #obtained via download_meka\n",
    "        java_command = 'C:/Program Files (x86)/Java/jre1.8.0_281/bin/java -Xmx1024m' # path to java executable\n",
    ")\n",
    "meka"
   ]
  },
  {
   "cell_type": "code",
   "execution_count": 201,
   "metadata": {
    "ExecuteTime": {
     "end_time": "2021-04-17T04:55:50.978358Z",
     "start_time": "2021-04-17T04:55:20.442440Z"
    },
    "scrolled": true
   },
   "outputs": [
    {
     "data": {
      "text/plain": [
       "0.2323584328215261"
      ]
     },
     "execution_count": 201,
     "metadata": {},
     "output_type": "execute_result"
    }
   ],
   "source": [
    "cv_score = cross_val_score(meka, np.matrix(X_train), np.matrix(Y_train), cv=5, scoring=jaccard)\n",
    "cv_score.mean()"
   ]
  },
  {
   "cell_type": "code",
   "execution_count": 198,
   "metadata": {
    "ExecuteTime": {
     "end_time": "2021-04-17T04:54:57.118939Z",
     "start_time": "2021-04-17T04:54:50.780420Z"
    }
   },
   "outputs": [
    {
     "data": {
      "text/plain": [
       "Meka(java_command='C:/Program Files (x86)/Java/jre1.8.0_281/bin/java -Xmx1024m',\n",
       "     meka_classifier='meka.classifiers.multilabel.meta.RandomSubspaceML -I 10 '\n",
       "                     '-P 60 -A 50',\n",
       "     meka_classpath='C:\\\\Users\\\\Nico\\\\scikit_ml_learn_data\\\\meka\\\\meka-release-1.9.2\\\\lib\\\\')"
      ]
     },
     "execution_count": 198,
     "metadata": {},
     "output_type": "execute_result"
    }
   ],
   "source": [
    "meka.fit(np.matrix(X_train), np.matrix(Y_train))"
   ]
  },
  {
   "cell_type": "code",
   "execution_count": 199,
   "metadata": {
    "ExecuteTime": {
     "end_time": "2021-04-17T04:55:11.257447Z",
     "start_time": "2021-04-17T04:55:10.267834Z"
    }
   },
   "outputs": [],
   "source": [
    "y_pred = meka.predict(np.matrix(X_test))"
   ]
  },
  {
   "cell_type": "code",
   "execution_count": 200,
   "metadata": {
    "ExecuteTime": {
     "end_time": "2021-04-17T04:55:12.971791Z",
     "start_time": "2021-04-17T04:55:12.956782Z"
    }
   },
   "outputs": [
    {
     "data": {
      "text/plain": [
       "0.26050640519001517"
      ]
     },
     "execution_count": 200,
     "metadata": {},
     "output_type": "execute_result"
    }
   ],
   "source": [
    "jaccard_score(Y_test, y_pred, average='samples')"
   ]
  },
  {
   "cell_type": "markdown",
   "metadata": {},
   "source": [
    "### Label Powerset - RF"
   ]
  },
  {
   "cell_type": "code",
   "execution_count": 202,
   "metadata": {
    "ExecuteTime": {
     "end_time": "2021-04-17T04:56:08.187404Z",
     "start_time": "2021-04-17T04:56:08.176434Z"
    }
   },
   "outputs": [],
   "source": [
    "classifier = LabelPowerset(RandomForestClassifier(random_state=13))"
   ]
  },
  {
   "cell_type": "code",
   "execution_count": 203,
   "metadata": {
    "ExecuteTime": {
     "end_time": "2021-04-17T04:56:30.188156Z",
     "start_time": "2021-04-17T04:56:16.258403Z"
    }
   },
   "outputs": [
    {
     "data": {
      "text/plain": [
       "0.19726985611187856"
      ]
     },
     "execution_count": 203,
     "metadata": {},
     "output_type": "execute_result"
    }
   ],
   "source": [
    "cv_score = cross_val_score(classifier, X_train, Y_train, cv=5, scoring=jaccard)\n",
    "cv_score.mean()"
   ]
  },
  {
   "cell_type": "code",
   "execution_count": 204,
   "metadata": {
    "ExecuteTime": {
     "end_time": "2021-04-17T04:56:34.357208Z",
     "start_time": "2021-04-17T04:56:30.190117Z"
    }
   },
   "outputs": [
    {
     "data": {
      "text/plain": [
       "LabelPowerset(classifier=RandomForestClassifier(random_state=13),\n",
       "              require_dense=[True, True])"
      ]
     },
     "execution_count": 204,
     "metadata": {},
     "output_type": "execute_result"
    }
   ],
   "source": [
    "classifier.fit(X_train, Y_train)"
   ]
  },
  {
   "cell_type": "code",
   "execution_count": 205,
   "metadata": {
    "ExecuteTime": {
     "end_time": "2021-04-17T04:56:34.817108Z",
     "start_time": "2021-04-17T04:56:34.359163Z"
    }
   },
   "outputs": [],
   "source": [
    "y_pred = classifier.predict(X_test)"
   ]
  },
  {
   "cell_type": "code",
   "execution_count": 206,
   "metadata": {
    "ExecuteTime": {
     "end_time": "2021-04-17T04:56:34.833066Z",
     "start_time": "2021-04-17T04:56:34.819102Z"
    }
   },
   "outputs": [
    {
     "data": {
      "text/plain": [
       "0.23855508253848504"
      ]
     },
     "execution_count": 206,
     "metadata": {},
     "output_type": "execute_result"
    }
   ],
   "source": [
    "jaccard_score(Y_test, y_pred, average='samples')"
   ]
  },
  {
   "cell_type": "markdown",
   "metadata": {},
   "source": [
    "### MLkNN"
   ]
  },
  {
   "cell_type": "code",
   "execution_count": 212,
   "metadata": {
    "ExecuteTime": {
     "end_time": "2021-04-17T04:57:48.340134Z",
     "start_time": "2021-04-17T04:57:48.336144Z"
    }
   },
   "outputs": [],
   "source": [
    "classifier = MLkNN(k=1)"
   ]
  },
  {
   "cell_type": "code",
   "execution_count": 213,
   "metadata": {
    "ExecuteTime": {
     "end_time": "2021-04-17T04:58:00.359841Z",
     "start_time": "2021-04-17T04:57:49.040095Z"
    }
   },
   "outputs": [
    {
     "name": "stderr",
     "output_type": "stream",
     "text": [
      "C:\\Users\\Nico\\anaconda3\\lib\\site-packages\\sklearn\\utils\\validation.py:70: FutureWarning: Pass n_neighbors=1 as keyword args. From version 1.0 (renaming of 0.25) passing these as positional arguments will result in an error\n",
      "  warnings.warn(f\"Pass {args_msg} as keyword args. From version \"\n",
      "C:\\Users\\Nico\\anaconda3\\lib\\site-packages\\sklearn\\utils\\validation.py:70: FutureWarning: Pass n_neighbors=1 as keyword args. From version 1.0 (renaming of 0.25) passing these as positional arguments will result in an error\n",
      "  warnings.warn(f\"Pass {args_msg} as keyword args. From version \"\n",
      "C:\\Users\\Nico\\anaconda3\\lib\\site-packages\\sklearn\\utils\\validation.py:70: FutureWarning: Pass n_neighbors=1 as keyword args. From version 1.0 (renaming of 0.25) passing these as positional arguments will result in an error\n",
      "  warnings.warn(f\"Pass {args_msg} as keyword args. From version \"\n",
      "C:\\Users\\Nico\\anaconda3\\lib\\site-packages\\sklearn\\utils\\validation.py:70: FutureWarning: Pass n_neighbors=1 as keyword args. From version 1.0 (renaming of 0.25) passing these as positional arguments will result in an error\n",
      "  warnings.warn(f\"Pass {args_msg} as keyword args. From version \"\n",
      "C:\\Users\\Nico\\anaconda3\\lib\\site-packages\\sklearn\\utils\\validation.py:70: FutureWarning: Pass n_neighbors=1 as keyword args. From version 1.0 (renaming of 0.25) passing these as positional arguments will result in an error\n",
      "  warnings.warn(f\"Pass {args_msg} as keyword args. From version \"\n"
     ]
    },
    {
     "data": {
      "text/plain": [
       "0.1715095352590954"
      ]
     },
     "execution_count": 213,
     "metadata": {},
     "output_type": "execute_result"
    }
   ],
   "source": [
    "cv_score = cross_val_score(classifier, X_train.to_numpy(), Y_train.to_numpy(), cv=5, scoring=jaccard)\n",
    "cv_score.mean()"
   ]
  },
  {
   "cell_type": "code",
   "execution_count": 214,
   "metadata": {
    "ExecuteTime": {
     "end_time": "2021-04-17T04:58:02.646679Z",
     "start_time": "2021-04-17T04:58:00.361794Z"
    }
   },
   "outputs": [
    {
     "name": "stderr",
     "output_type": "stream",
     "text": [
      "C:\\Users\\Nico\\anaconda3\\lib\\site-packages\\sklearn\\utils\\validation.py:70: FutureWarning: Pass n_neighbors=1 as keyword args. From version 1.0 (renaming of 0.25) passing these as positional arguments will result in an error\n",
      "  warnings.warn(f\"Pass {args_msg} as keyword args. From version \"\n"
     ]
    },
    {
     "data": {
      "text/plain": [
       "MLkNN(k=1)"
      ]
     },
     "execution_count": 214,
     "metadata": {},
     "output_type": "execute_result"
    }
   ],
   "source": [
    "classifier.fit(X_train.to_numpy(), Y_train.to_numpy())"
   ]
  },
  {
   "cell_type": "code",
   "execution_count": 215,
   "metadata": {
    "ExecuteTime": {
     "end_time": "2021-04-17T04:58:03.313451Z",
     "start_time": "2021-04-17T04:58:02.648412Z"
    }
   },
   "outputs": [],
   "source": [
    "y_pred = classifier.predict(X_test.to_numpy())"
   ]
  },
  {
   "cell_type": "code",
   "execution_count": 216,
   "metadata": {
    "ExecuteTime": {
     "end_time": "2021-04-17T04:58:03.328734Z",
     "start_time": "2021-04-17T04:58:03.315710Z"
    }
   },
   "outputs": [
    {
     "data": {
      "text/plain": [
       "0.1705748205229533"
      ]
     },
     "execution_count": 216,
     "metadata": {},
     "output_type": "execute_result"
    }
   ],
   "source": [
    "jaccard_score(Y_test, y_pred, average='samples')"
   ]
  },
  {
   "cell_type": "markdown",
   "metadata": {},
   "source": [
    "### RakelD"
   ]
  },
  {
   "cell_type": "code",
   "execution_count": 217,
   "metadata": {
    "ExecuteTime": {
     "end_time": "2021-04-17T04:58:22.506259Z",
     "start_time": "2021-04-17T04:58:22.487274Z"
    }
   },
   "outputs": [],
   "source": [
    "classifier = RakelD(\n",
    "    base_classifier=RandomForestClassifier(random_state=13),\n",
    "    base_classifier_require_dense=[True, True],\n",
    "    labelset_size=3\n",
    ")"
   ]
  },
  {
   "cell_type": "code",
   "execution_count": 218,
   "metadata": {
    "ExecuteTime": {
     "end_time": "2021-04-17T04:58:43.377678Z",
     "start_time": "2021-04-17T04:58:28.102032Z"
    }
   },
   "outputs": [
    {
     "name": "stderr",
     "output_type": "stream",
     "text": [
      "C:\\Users\\Nico\\anaconda3\\lib\\site-packages\\skmultilearn\\cluster\\random.py:129: VisibleDeprecationWarning: Creating an ndarray from ragged nested sequences (which is a list-or-tuple of lists-or-tuples-or ndarrays with different lengths or shapes) is deprecated. If you meant to do this, you must specify 'dtype=object' when creating the ndarray\n",
      "  return np.array(label_sets)\n",
      "C:\\Users\\Nico\\anaconda3\\lib\\site-packages\\skmultilearn\\cluster\\random.py:129: VisibleDeprecationWarning: Creating an ndarray from ragged nested sequences (which is a list-or-tuple of lists-or-tuples-or ndarrays with different lengths or shapes) is deprecated. If you meant to do this, you must specify 'dtype=object' when creating the ndarray\n",
      "  return np.array(label_sets)\n",
      "C:\\Users\\Nico\\anaconda3\\lib\\site-packages\\skmultilearn\\cluster\\random.py:129: VisibleDeprecationWarning: Creating an ndarray from ragged nested sequences (which is a list-or-tuple of lists-or-tuples-or ndarrays with different lengths or shapes) is deprecated. If you meant to do this, you must specify 'dtype=object' when creating the ndarray\n",
      "  return np.array(label_sets)\n",
      "C:\\Users\\Nico\\anaconda3\\lib\\site-packages\\skmultilearn\\cluster\\random.py:129: VisibleDeprecationWarning: Creating an ndarray from ragged nested sequences (which is a list-or-tuple of lists-or-tuples-or ndarrays with different lengths or shapes) is deprecated. If you meant to do this, you must specify 'dtype=object' when creating the ndarray\n",
      "  return np.array(label_sets)\n",
      "C:\\Users\\Nico\\anaconda3\\lib\\site-packages\\skmultilearn\\cluster\\random.py:129: VisibleDeprecationWarning: Creating an ndarray from ragged nested sequences (which is a list-or-tuple of lists-or-tuples-or ndarrays with different lengths or shapes) is deprecated. If you meant to do this, you must specify 'dtype=object' when creating the ndarray\n",
      "  return np.array(label_sets)\n"
     ]
    },
    {
     "data": {
      "text/plain": [
       "0.14210079535219794"
      ]
     },
     "execution_count": 218,
     "metadata": {},
     "output_type": "execute_result"
    }
   ],
   "source": [
    "cv_score = cross_val_score(classifier, X_train, Y_train, cv=5, scoring=jaccard)\n",
    "cv_score.mean()"
   ]
  },
  {
   "cell_type": "code",
   "execution_count": 219,
   "metadata": {
    "ExecuteTime": {
     "end_time": "2021-04-17T04:58:54.822303Z",
     "start_time": "2021-04-17T04:58:51.572004Z"
    }
   },
   "outputs": [
    {
     "name": "stderr",
     "output_type": "stream",
     "text": [
      "C:\\Users\\Nico\\anaconda3\\lib\\site-packages\\skmultilearn\\cluster\\random.py:129: VisibleDeprecationWarning: Creating an ndarray from ragged nested sequences (which is a list-or-tuple of lists-or-tuples-or ndarrays with different lengths or shapes) is deprecated. If you meant to do this, you must specify 'dtype=object' when creating the ndarray\n",
      "  return np.array(label_sets)\n"
     ]
    },
    {
     "data": {
      "text/plain": [
       "LabelSpacePartitioningClassifier(classifier=LabelPowerset(classifier=RandomForestClassifier(random_state=13),\n",
       "                                                          require_dense=[True,\n",
       "                                                                         True]),\n",
       "                                 clusterer=RandomLabelSpaceClusterer(allow_overlap=False,\n",
       "                                                                     cluster_count=6,\n",
       "                                                                     cluster_size=3),\n",
       "                                 require_dense=[False, False])"
      ]
     },
     "execution_count": 219,
     "metadata": {},
     "output_type": "execute_result"
    }
   ],
   "source": [
    "classifier.fit(X_train.to_numpy(), Y_train.to_numpy())"
   ]
  },
  {
   "cell_type": "code",
   "execution_count": 220,
   "metadata": {
    "ExecuteTime": {
     "end_time": "2021-04-17T04:59:05.209694Z",
     "start_time": "2021-04-17T04:59:04.556177Z"
    }
   },
   "outputs": [],
   "source": [
    "y_pred = classifier.predict(X_test.to_numpy())"
   ]
  },
  {
   "cell_type": "code",
   "execution_count": 221,
   "metadata": {
    "ExecuteTime": {
     "end_time": "2021-04-17T04:59:05.225657Z",
     "start_time": "2021-04-17T04:59:05.211694Z"
    }
   },
   "outputs": [
    {
     "data": {
      "text/plain": [
       "0.18975581242178755"
      ]
     },
     "execution_count": 221,
     "metadata": {},
     "output_type": "execute_result"
    }
   ],
   "source": [
    "jaccard_score(Y_test, y_pred, average='samples')"
   ]
  },
  {
   "cell_type": "markdown",
   "metadata": {},
   "source": [
    "### kNN"
   ]
  },
  {
   "cell_type": "code",
   "execution_count": 222,
   "metadata": {
    "ExecuteTime": {
     "end_time": "2021-04-17T04:59:16.338399Z",
     "start_time": "2021-04-17T04:59:16.334411Z"
    }
   },
   "outputs": [],
   "source": [
    "model = KNeighborsClassifier(n_neighbors=1)"
   ]
  },
  {
   "cell_type": "code",
   "execution_count": 223,
   "metadata": {
    "ExecuteTime": {
     "end_time": "2021-04-17T04:59:16.874210Z",
     "start_time": "2021-04-17T04:59:16.850231Z"
    }
   },
   "outputs": [
    {
     "data": {
      "text/plain": [
       "KNeighborsClassifier(n_neighbors=1)"
      ]
     },
     "execution_count": 223,
     "metadata": {},
     "output_type": "execute_result"
    }
   ],
   "source": [
    "model.fit(X_train, Y_train)"
   ]
  },
  {
   "cell_type": "code",
   "execution_count": 224,
   "metadata": {
    "ExecuteTime": {
     "end_time": "2021-04-17T04:59:20.049033Z",
     "start_time": "2021-04-17T04:59:19.657458Z"
    }
   },
   "outputs": [],
   "source": [
    "y_pred = model.predict(X_test)"
   ]
  },
  {
   "cell_type": "code",
   "execution_count": 225,
   "metadata": {
    "ExecuteTime": {
     "end_time": "2021-04-17T04:59:20.583516Z",
     "start_time": "2021-04-17T04:59:20.561611Z"
    }
   },
   "outputs": [
    {
     "data": {
      "text/plain": [
       "0.1705748205229533"
      ]
     },
     "execution_count": 225,
     "metadata": {},
     "output_type": "execute_result"
    }
   ],
   "source": [
    "jaccard_score(Y_test, y_pred, average='samples')"
   ]
  },
  {
   "cell_type": "markdown",
   "metadata": {},
   "source": [
    "### Classifier Chains with graph"
   ]
  },
  {
   "cell_type": "code",
   "execution_count": 118,
   "metadata": {
    "ExecuteTime": {
     "end_time": "2021-04-16T17:41:26.989426Z",
     "start_time": "2021-04-16T17:41:26.983442Z"
    }
   },
   "outputs": [],
   "source": [
    "base_rf = RandomForestClassifier(random_state=13)"
   ]
  },
  {
   "cell_type": "code",
   "execution_count": 119,
   "metadata": {
    "ExecuteTime": {
     "end_time": "2021-04-16T17:41:27.933980Z",
     "start_time": "2021-04-16T17:41:27.915033Z"
    }
   },
   "outputs": [],
   "source": [
    "ovr = OneVsRestClassifier(base_rf)"
   ]
  },
  {
   "cell_type": "code",
   "execution_count": 120,
   "metadata": {
    "ExecuteTime": {
     "end_time": "2021-04-16T17:41:34.895619Z",
     "start_time": "2021-04-16T17:41:28.202456Z"
    }
   },
   "outputs": [
    {
     "data": {
      "text/plain": [
       "OneVsRestClassifier(estimator=RandomForestClassifier(random_state=13))"
      ]
     },
     "execution_count": 120,
     "metadata": {},
     "output_type": "execute_result"
    }
   ],
   "source": [
    "ovr.fit(X_train, Y_train)"
   ]
  },
  {
   "cell_type": "code",
   "execution_count": 121,
   "metadata": {
    "ExecuteTime": {
     "end_time": "2021-04-16T17:41:35.307146Z",
     "start_time": "2021-04-16T17:41:34.897588Z"
    }
   },
   "outputs": [],
   "source": [
    "Y_pred_ovr = ovr.predict(X_test)"
   ]
  },
  {
   "cell_type": "code",
   "execution_count": 122,
   "metadata": {
    "ExecuteTime": {
     "end_time": "2021-04-16T17:41:35.322379Z",
     "start_time": "2021-04-16T17:41:35.309145Z"
    }
   },
   "outputs": [
    {
     "data": {
      "text/plain": [
       "0.19083011583011583"
      ]
     },
     "execution_count": 122,
     "metadata": {},
     "output_type": "execute_result"
    }
   ],
   "source": [
    "ovr_jaccard_score = jaccard_score(Y_test, Y_pred_ovr, average='samples')\n",
    "ovr_jaccard_score"
   ]
  },
  {
   "cell_type": "code",
   "execution_count": 123,
   "metadata": {
    "ExecuteTime": {
     "end_time": "2021-04-16T17:41:35.338068Z",
     "start_time": "2021-04-16T17:41:35.324105Z"
    }
   },
   "outputs": [],
   "source": [
    "# Fit an ensemble of RF classifier chains and take the\n",
    "# take the average prediction of all the chains.\n",
    "chains = [ClassifierChain(base_rf, order='random', random_state=i) for i in range(10)]"
   ]
  },
  {
   "cell_type": "code",
   "execution_count": 124,
   "metadata": {
    "ExecuteTime": {
     "end_time": "2021-04-16T17:42:36.670478Z",
     "start_time": "2021-04-16T17:41:35.340062Z"
    }
   },
   "outputs": [],
   "source": [
    "for chain in chains:\n",
    "    chain.fit(X_train, Y_train)"
   ]
  },
  {
   "cell_type": "code",
   "execution_count": 125,
   "metadata": {
    "ExecuteTime": {
     "end_time": "2021-04-16T17:42:40.259302Z",
     "start_time": "2021-04-16T17:42:36.675472Z"
    }
   },
   "outputs": [],
   "source": [
    "Y_pred_chains = np.array([chain.predict(X_test) for chain in chains])"
   ]
  },
  {
   "cell_type": "code",
   "execution_count": 126,
   "metadata": {
    "ExecuteTime": {
     "end_time": "2021-04-16T17:42:40.321666Z",
     "start_time": "2021-04-16T17:42:40.261301Z"
    }
   },
   "outputs": [],
   "source": [
    "chain_jaccard_scores = [jaccard_score(Y_test, Y_pred_chain >= .5,\n",
    "                                      average='samples')\n",
    "                        for Y_pred_chain in Y_pred_chains]"
   ]
  },
  {
   "cell_type": "code",
   "execution_count": 127,
   "metadata": {
    "ExecuteTime": {
     "end_time": "2021-04-16T17:42:40.352707Z",
     "start_time": "2021-04-16T17:42:40.327693Z"
    }
   },
   "outputs": [],
   "source": [
    "Y_pred_ensemble = Y_pred_chains.mean(axis=0)\n",
    "ensemble_jaccard_score = jaccard_score(Y_test,\n",
    "                                       Y_pred_ensemble >= .5,\n",
    "                                       average='samples')"
   ]
  },
  {
   "cell_type": "code",
   "execution_count": 128,
   "metadata": {
    "ExecuteTime": {
     "end_time": "2021-04-16T17:42:40.368752Z",
     "start_time": "2021-04-16T17:42:40.356745Z"
    }
   },
   "outputs": [],
   "source": [
    "model_scores = [ovr_jaccard_score] + chain_jaccard_scores\n",
    "model_scores.append(ensemble_jaccard_score)"
   ]
  },
  {
   "cell_type": "code",
   "execution_count": 129,
   "metadata": {
    "ExecuteTime": {
     "end_time": "2021-04-16T17:42:40.384708Z",
     "start_time": "2021-04-16T17:42:40.372742Z"
    }
   },
   "outputs": [],
   "source": [
    "model_names = ('Independent',\n",
    "               'Chain 1',\n",
    "               'Chain 2',\n",
    "               'Chain 3',\n",
    "               'Chain 4',\n",
    "               'Chain 5',\n",
    "               'Chain 6',\n",
    "               'Chain 7',\n",
    "               'Chain 8',\n",
    "               'Chain 9',\n",
    "               'Chain 10',\n",
    "               'Ensemble')"
   ]
  },
  {
   "cell_type": "code",
   "execution_count": 130,
   "metadata": {
    "ExecuteTime": {
     "end_time": "2021-04-16T17:42:40.400668Z",
     "start_time": "2021-04-16T17:42:40.389697Z"
    }
   },
   "outputs": [],
   "source": [
    "x_pos = np.arange(len(model_names))"
   ]
  },
  {
   "cell_type": "code",
   "execution_count": 131,
   "metadata": {
    "ExecuteTime": {
     "end_time": "2021-04-16T17:42:40.919148Z",
     "start_time": "2021-04-16T17:42:40.405697Z"
    }
   },
   "outputs": [
    {
     "data": {
      "image/png": "[encoded data removed]",
      "text/plain": [
       "<Figure size 720x504 with 1 Axes>"
      ]
     },
     "metadata": {
      "needs_background": "light"
     },
     "output_type": "display_data"
    }
   ],
   "source": [
    "# Plot the Jaccard similarity scores for the independent model, each of the\n",
    "# chains, and the ensemble (note that the vertical axis on this plot does\n",
    "# not begin at 0).\n",
    "\n",
    "fig, ax = plt.subplots(figsize=(10, 7))\n",
    "ax.grid(True)\n",
    "ax.set_title('Classifier Chain Ensemble Performance Comparison')\n",
    "ax.set_xticks(x_pos)\n",
    "ax.set_xticklabels(model_names, rotation='vertical')\n",
    "ax.set_ylabel('Jaccard Similarity Score')\n",
    "ax.set_ylim([min(model_scores) * .9, max(model_scores) * 1.1])\n",
    "colors = ['r'] + ['b'] * len(chain_jaccard_scores) + ['g']\n",
    "ax.bar(x_pos, model_scores, alpha=0.5, color=colors)\n",
    "plt.tight_layout()\n",
    "plt.show()"
   ]
  },
  {
   "cell_type": "code",
   "execution_count": 359,
   "metadata": {
    "ExecuteTime": {
     "end_time": "2021-04-09T04:10:02.632565Z",
     "start_time": "2021-04-09T04:10:02.597658Z"
    }
   },
   "outputs": [
    {
     "data": {
      "text/plain": [
       "Int64Index([], dtype='int64')"
      ]
     },
     "execution_count": 359,
     "metadata": {},
     "output_type": "execute_result"
    }
   ],
   "source": [
    "# X_test_encoded[ (X_test_encoded['Make_0']==0) & \\\n",
    "#               (X_test_encoded['Make_1']==0) & \\\n",
    "#               (X_test_encoded['Make_2']==0) & \\\n",
    "#               (X_test_encoded['Make_3']==0) & \\\n",
    "#               (X_test_encoded['Make_4']==0) & \\\n",
    "#               (X_test_encoded['Make_5']==0) ].index"
   ]
  },
  {
   "cell_type": "code",
   "execution_count": 360,
   "metadata": {
    "ExecuteTime": {
     "end_time": "2021-04-09T04:10:03.489028Z",
     "start_time": "2021-04-09T04:10:03.464054Z"
    }
   },
   "outputs": [
    {
     "data": {
      "text/plain": [
       "Int64Index([], dtype='int64')"
      ]
     },
     "execution_count": 360,
     "metadata": {},
     "output_type": "execute_result"
    }
   ],
   "source": [
    "# X_train_encoded[ (X_train_encoded['Make_0']==0) & \\\n",
    "#               (X_train_encoded['Make_1']==0) & \\\n",
    "#               (X_train_encoded['Make_2']==0) & \\\n",
    "#               (X_train_encoded['Make_3']==0) & \\\n",
    "#               (X_train_encoded['Make_4']==0) & \\\n",
    "#               (X_train_encoded['Make_5']==0) ].index"
   ]
  },
  {
   "cell_type": "code",
   "execution_count": 361,
   "metadata": {
    "ExecuteTime": {
     "end_time": "2021-04-09T04:10:05.277832Z",
     "start_time": "2021-04-09T04:10:05.243894Z"
    }
   },
   "outputs": [
    {
     "data": {
      "text/plain": [
       "Int64Index([], dtype='int64')"
      ]
     },
     "execution_count": 361,
     "metadata": {},
     "output_type": "execute_result"
    }
   ],
   "source": [
    "# X_test_encoded[ (X_test_encoded['Year_0']==0) & \\\n",
    "#               (X_test_encoded['Year_1']==0) & \\\n",
    "#               (X_test_encoded['Year_2']==0) & \\\n",
    "#               (X_test_encoded['Year_3']==0) & \\\n",
    "#               (X_test_encoded['Year_4']==0) & \\\n",
    "#               (X_test_encoded['Year_5']==0) ].index"
   ]
  },
  {
   "cell_type": "code",
   "execution_count": 362,
   "metadata": {
    "ExecuteTime": {
     "end_time": "2021-04-09T04:10:06.151590Z",
     "start_time": "2021-04-09T04:10:06.117640Z"
    }
   },
   "outputs": [
    {
     "data": {
      "text/plain": [
       "Int64Index([], dtype='int64')"
      ]
     },
     "execution_count": 362,
     "metadata": {},
     "output_type": "execute_result"
    }
   ],
   "source": [
    "# X_train_encoded[ (X_train_encoded['Year_0']==0) & \\\n",
    "#               (X_train_encoded['Year_1']==0) & \\\n",
    "#               (X_train_encoded['Year_2']==0) & \\\n",
    "#               (X_train_encoded['Year_3']==0) & \\\n",
    "#               (X_train_encoded['Year_4']==0) & \\\n",
    "#               (X_train_encoded['Year_5']==0) ].index"
   ]
  },
  {
   "cell_type": "code",
   "execution_count": 363,
   "metadata": {
    "ExecuteTime": {
     "end_time": "2021-04-09T04:10:08.517893Z",
     "start_time": "2021-04-09T04:10:08.487974Z"
    }
   },
   "outputs": [
    {
     "data": {
      "text/plain": [
       "Int64Index([29, 91, 146, 147, 243, 326, 374, 588], dtype='int64')"
      ]
     },
     "execution_count": 363,
     "metadata": {},
     "output_type": "execute_result"
    }
   ],
   "source": [
    "# X_test_encoded[ (X_test_encoded['Model_0']==0) & \\\n",
    "#               (X_test_encoded['Model_1']==0) & \\\n",
    "#               (X_test_encoded['Model_2']==0) & \\\n",
    "#               (X_test_encoded['Model_3']==0) & \\\n",
    "#               (X_test_encoded['Model_4']==0) & \\\n",
    "#               (X_test_encoded['Model_5']==0) & \\\n",
    "#                 (X_test_encoded['Model_6']==0) & \\\n",
    "#                (X_test_encoded['Model_7']==0) & \\\n",
    "#               (X_test_encoded['Model_8']==0) ].index"
   ]
  },
  {
   "cell_type": "code",
   "execution_count": 364,
   "metadata": {
    "ExecuteTime": {
     "end_time": "2021-04-09T04:10:21.635861Z",
     "start_time": "2021-04-09T04:10:21.612961Z"
    }
   },
   "outputs": [
    {
     "data": {
      "text/plain": [
       "Int64Index([], dtype='int64')"
      ]
     },
     "execution_count": 364,
     "metadata": {},
     "output_type": "execute_result"
    }
   ],
   "source": [
    "# X_train_encoded[ (X_train_encoded['Model_0']==0) & \\\n",
    "#               (X_train_encoded['Model_1']==0) & \\\n",
    "#               (X_train_encoded['Model_2']==0) & \\\n",
    "#               (X_train_encoded['Model_3']==0) & \\\n",
    "#               (X_train_encoded['Model_4']==0) & \\\n",
    "#               (X_train_encoded['Model_5']==0) & \\\n",
    "#                 (X_train_encoded['Model_6']==0) & \\\n",
    "#                (X_train_encoded['Model_7']==0) & \\\n",
    "#               (X_train_encoded['Model_8']==0) ].index"
   ]
  },
  {
   "cell_type": "markdown",
   "metadata": {},
   "source": [
    "## Post EDA"
   ]
  },
  {
   "cell_type": "code",
   "execution_count": 247,
   "metadata": {
    "ExecuteTime": {
     "end_time": "2021-04-17T05:13:24.816027Z",
     "start_time": "2021-04-17T05:13:24.800070Z"
    }
   },
   "outputs": [],
   "source": [
    "plt.rc('grid', linestyle=\"--\", color='grey')"
   ]
  },
  {
   "cell_type": "code",
   "execution_count": 249,
   "metadata": {
    "ExecuteTime": {
     "end_time": "2021-04-17T05:13:50.758830Z",
     "start_time": "2021-04-17T05:13:50.726878Z"
    }
   },
   "outputs": [
    {
     "data": {
      "text/html": [
       "<div>\n",
       "<style scoped>\n",
       "    .dataframe tbody tr th:only-of-type {\n",
       "        vertical-align: middle;\n",
       "    }\n",
       "\n",
       "    .dataframe tbody tr th {\n",
       "        vertical-align: top;\n",
       "    }\n",
       "\n",
       "    .dataframe thead th {\n",
       "        text-align: right;\n",
       "    }\n",
       "</style>\n",
       "<table border=\"1\" class=\"dataframe\">\n",
       "  <thead>\n",
       "    <tr style=\"text-align: right;\">\n",
       "      <th></th>\n",
       "      <th>Accessories (Gauges, Power Accessories, Vision &amp; Air Bag)</th>\n",
       "      <th>Brakes</th>\n",
       "      <th>Change Oil</th>\n",
       "      <th>Complete Vehicle Inspection</th>\n",
       "      <th>Cooling System</th>\n",
       "      <th>Drive Train (Final Drive, Transaxle, Differential &amp; Transfer Case)</th>\n",
       "      <th>Driveability (Fuel, Ignition &amp; Emission Systems)</th>\n",
       "      <th>Electrical (Belts, Lighting, Starting &amp; Charging Systems)</th>\n",
       "      <th>Engine</th>\n",
       "      <th>Engine Oil / Oil Filter</th>\n",
       "      <th>Fuel Filter / Air Filter</th>\n",
       "      <th>HVAC (Heating, Ventilation &amp; Air Conditioning)</th>\n",
       "      <th>Major Preventive Maintenance Service</th>\n",
       "      <th>Minor Preventive Maintenance Service</th>\n",
       "      <th>Tires &amp; Wheels</th>\n",
       "      <th>Transmission &amp; Clutch</th>\n",
       "    </tr>\n",
       "  </thead>\n",
       "  <tbody>\n",
       "    <tr>\n",
       "      <th>0</th>\n",
       "      <td>1</td>\n",
       "      <td>0</td>\n",
       "      <td>0</td>\n",
       "      <td>1</td>\n",
       "      <td>0</td>\n",
       "      <td>0</td>\n",
       "      <td>0</td>\n",
       "      <td>0</td>\n",
       "      <td>0</td>\n",
       "      <td>0</td>\n",
       "      <td>0</td>\n",
       "      <td>0</td>\n",
       "      <td>0</td>\n",
       "      <td>0</td>\n",
       "      <td>0</td>\n",
       "      <td>0</td>\n",
       "    </tr>\n",
       "    <tr>\n",
       "      <th>1</th>\n",
       "      <td>0</td>\n",
       "      <td>0</td>\n",
       "      <td>1</td>\n",
       "      <td>0</td>\n",
       "      <td>0</td>\n",
       "      <td>0</td>\n",
       "      <td>0</td>\n",
       "      <td>0</td>\n",
       "      <td>1</td>\n",
       "      <td>0</td>\n",
       "      <td>0</td>\n",
       "      <td>1</td>\n",
       "      <td>0</td>\n",
       "      <td>0</td>\n",
       "      <td>0</td>\n",
       "      <td>0</td>\n",
       "    </tr>\n",
       "    <tr>\n",
       "      <th>5</th>\n",
       "      <td>0</td>\n",
       "      <td>0</td>\n",
       "      <td>0</td>\n",
       "      <td>1</td>\n",
       "      <td>0</td>\n",
       "      <td>0</td>\n",
       "      <td>0</td>\n",
       "      <td>0</td>\n",
       "      <td>0</td>\n",
       "      <td>0</td>\n",
       "      <td>0</td>\n",
       "      <td>1</td>\n",
       "      <td>0</td>\n",
       "      <td>0</td>\n",
       "      <td>0</td>\n",
       "      <td>0</td>\n",
       "    </tr>\n",
       "    <tr>\n",
       "      <th>6</th>\n",
       "      <td>1</td>\n",
       "      <td>0</td>\n",
       "      <td>0</td>\n",
       "      <td>0</td>\n",
       "      <td>0</td>\n",
       "      <td>0</td>\n",
       "      <td>0</td>\n",
       "      <td>0</td>\n",
       "      <td>0</td>\n",
       "      <td>0</td>\n",
       "      <td>0</td>\n",
       "      <td>1</td>\n",
       "      <td>0</td>\n",
       "      <td>0</td>\n",
       "      <td>0</td>\n",
       "      <td>0</td>\n",
       "    </tr>\n",
       "    <tr>\n",
       "      <th>7</th>\n",
       "      <td>1</td>\n",
       "      <td>0</td>\n",
       "      <td>0</td>\n",
       "      <td>0</td>\n",
       "      <td>0</td>\n",
       "      <td>0</td>\n",
       "      <td>0</td>\n",
       "      <td>0</td>\n",
       "      <td>0</td>\n",
       "      <td>0</td>\n",
       "      <td>0</td>\n",
       "      <td>1</td>\n",
       "      <td>0</td>\n",
       "      <td>0</td>\n",
       "      <td>0</td>\n",
       "      <td>0</td>\n",
       "    </tr>\n",
       "    <tr>\n",
       "      <th>...</th>\n",
       "      <td>...</td>\n",
       "      <td>...</td>\n",
       "      <td>...</td>\n",
       "      <td>...</td>\n",
       "      <td>...</td>\n",
       "      <td>...</td>\n",
       "      <td>...</td>\n",
       "      <td>...</td>\n",
       "      <td>...</td>\n",
       "      <td>...</td>\n",
       "      <td>...</td>\n",
       "      <td>...</td>\n",
       "      <td>...</td>\n",
       "      <td>...</td>\n",
       "      <td>...</td>\n",
       "      <td>...</td>\n",
       "    </tr>\n",
       "    <tr>\n",
       "      <th>973</th>\n",
       "      <td>0</td>\n",
       "      <td>1</td>\n",
       "      <td>0</td>\n",
       "      <td>1</td>\n",
       "      <td>0</td>\n",
       "      <td>0</td>\n",
       "      <td>0</td>\n",
       "      <td>0</td>\n",
       "      <td>0</td>\n",
       "      <td>1</td>\n",
       "      <td>0</td>\n",
       "      <td>1</td>\n",
       "      <td>0</td>\n",
       "      <td>0</td>\n",
       "      <td>0</td>\n",
       "      <td>0</td>\n",
       "    </tr>\n",
       "    <tr>\n",
       "      <th>974</th>\n",
       "      <td>0</td>\n",
       "      <td>0</td>\n",
       "      <td>0</td>\n",
       "      <td>0</td>\n",
       "      <td>0</td>\n",
       "      <td>0</td>\n",
       "      <td>0</td>\n",
       "      <td>0</td>\n",
       "      <td>0</td>\n",
       "      <td>0</td>\n",
       "      <td>0</td>\n",
       "      <td>1</td>\n",
       "      <td>0</td>\n",
       "      <td>0</td>\n",
       "      <td>1</td>\n",
       "      <td>1</td>\n",
       "    </tr>\n",
       "    <tr>\n",
       "      <th>975</th>\n",
       "      <td>0</td>\n",
       "      <td>1</td>\n",
       "      <td>1</td>\n",
       "      <td>0</td>\n",
       "      <td>0</td>\n",
       "      <td>0</td>\n",
       "      <td>0</td>\n",
       "      <td>0</td>\n",
       "      <td>0</td>\n",
       "      <td>1</td>\n",
       "      <td>0</td>\n",
       "      <td>0</td>\n",
       "      <td>0</td>\n",
       "      <td>0</td>\n",
       "      <td>0</td>\n",
       "      <td>0</td>\n",
       "    </tr>\n",
       "    <tr>\n",
       "      <th>976</th>\n",
       "      <td>0</td>\n",
       "      <td>1</td>\n",
       "      <td>0</td>\n",
       "      <td>1</td>\n",
       "      <td>0</td>\n",
       "      <td>0</td>\n",
       "      <td>0</td>\n",
       "      <td>0</td>\n",
       "      <td>0</td>\n",
       "      <td>1</td>\n",
       "      <td>0</td>\n",
       "      <td>0</td>\n",
       "      <td>0</td>\n",
       "      <td>1</td>\n",
       "      <td>0</td>\n",
       "      <td>0</td>\n",
       "    </tr>\n",
       "    <tr>\n",
       "      <th>977</th>\n",
       "      <td>0</td>\n",
       "      <td>1</td>\n",
       "      <td>1</td>\n",
       "      <td>1</td>\n",
       "      <td>0</td>\n",
       "      <td>0</td>\n",
       "      <td>0</td>\n",
       "      <td>0</td>\n",
       "      <td>0</td>\n",
       "      <td>1</td>\n",
       "      <td>0</td>\n",
       "      <td>0</td>\n",
       "      <td>1</td>\n",
       "      <td>1</td>\n",
       "      <td>0</td>\n",
       "      <td>0</td>\n",
       "    </tr>\n",
       "  </tbody>\n",
       "</table>\n",
       "<p>964 rows × 16 columns</p>\n",
       "</div>"
      ],
      "text/plain": [
       "     Accessories (Gauges, Power Accessories, Vision & Air Bag)  Brakes  \\\n",
       "0                                                    1               0   \n",
       "1                                                    0               0   \n",
       "5                                                    0               0   \n",
       "6                                                    1               0   \n",
       "7                                                    1               0   \n",
       "..                                                 ...             ...   \n",
       "973                                                  0               1   \n",
       "974                                                  0               0   \n",
       "975                                                  0               1   \n",
       "976                                                  0               1   \n",
       "977                                                  0               1   \n",
       "\n",
       "     Change Oil  Complete Vehicle Inspection  Cooling System  \\\n",
       "0             0                            1               0   \n",
       "1             1                            0               0   \n",
       "5             0                            1               0   \n",
       "6             0                            0               0   \n",
       "7             0                            0               0   \n",
       "..          ...                          ...             ...   \n",
       "973           0                            1               0   \n",
       "974           0                            0               0   \n",
       "975           1                            0               0   \n",
       "976           0                            1               0   \n",
       "977           1                            1               0   \n",
       "\n",
       "     Drive Train (Final Drive, Transaxle, Differential & Transfer Case)  \\\n",
       "0                                                    0                    \n",
       "1                                                    0                    \n",
       "5                                                    0                    \n",
       "6                                                    0                    \n",
       "7                                                    0                    \n",
       "..                                                 ...                    \n",
       "973                                                  0                    \n",
       "974                                                  0                    \n",
       "975                                                  0                    \n",
       "976                                                  0                    \n",
       "977                                                  0                    \n",
       "\n",
       "     Driveability (Fuel, Ignition & Emission Systems)  \\\n",
       "0                                                   0   \n",
       "1                                                   0   \n",
       "5                                                   0   \n",
       "6                                                   0   \n",
       "7                                                   0   \n",
       "..                                                ...   \n",
       "973                                                 0   \n",
       "974                                                 0   \n",
       "975                                                 0   \n",
       "976                                                 0   \n",
       "977                                                 0   \n",
       "\n",
       "     Electrical (Belts, Lighting, Starting & Charging Systems)  Engine  \\\n",
       "0                                                    0               0   \n",
       "1                                                    0               1   \n",
       "5                                                    0               0   \n",
       "6                                                    0               0   \n",
       "7                                                    0               0   \n",
       "..                                                 ...             ...   \n",
       "973                                                  0               0   \n",
       "974                                                  0               0   \n",
       "975                                                  0               0   \n",
       "976                                                  0               0   \n",
       "977                                                  0               0   \n",
       "\n",
       "     Engine Oil / Oil Filter  Fuel Filter / Air Filter  \\\n",
       "0                          0                         0   \n",
       "1                          0                         0   \n",
       "5                          0                         0   \n",
       "6                          0                         0   \n",
       "7                          0                         0   \n",
       "..                       ...                       ...   \n",
       "973                        1                         0   \n",
       "974                        0                         0   \n",
       "975                        1                         0   \n",
       "976                        1                         0   \n",
       "977                        1                         0   \n",
       "\n",
       "     HVAC (Heating, Ventilation & Air Conditioning)  \\\n",
       "0                                                 0   \n",
       "1                                                 1   \n",
       "5                                                 1   \n",
       "6                                                 1   \n",
       "7                                                 1   \n",
       "..                                              ...   \n",
       "973                                               1   \n",
       "974                                               1   \n",
       "975                                               0   \n",
       "976                                               0   \n",
       "977                                               0   \n",
       "\n",
       "     Major Preventive Maintenance Service  \\\n",
       "0                                       0   \n",
       "1                                       0   \n",
       "5                                       0   \n",
       "6                                       0   \n",
       "7                                       0   \n",
       "..                                    ...   \n",
       "973                                     0   \n",
       "974                                     0   \n",
       "975                                     0   \n",
       "976                                     0   \n",
       "977                                     1   \n",
       "\n",
       "     Minor Preventive Maintenance Service  Tires & Wheels  \\\n",
       "0                                       0               0   \n",
       "1                                       0               0   \n",
       "5                                       0               0   \n",
       "6                                       0               0   \n",
       "7                                       0               0   \n",
       "..                                    ...             ...   \n",
       "973                                     0               0   \n",
       "974                                     0               1   \n",
       "975                                     0               0   \n",
       "976                                     1               0   \n",
       "977                                     1               0   \n",
       "\n",
       "     Transmission & Clutch  \n",
       "0                        0  \n",
       "1                        0  \n",
       "5                        0  \n",
       "6                        0  \n",
       "7                        0  \n",
       "..                     ...  \n",
       "973                      0  \n",
       "974                      1  \n",
       "975                      0  \n",
       "976                      0  \n",
       "977                      0  \n",
       "\n",
       "[964 rows x 16 columns]"
      ]
     },
     "execution_count": 249,
     "metadata": {},
     "output_type": "execute_result"
    }
   ],
   "source": [
    "Y_pred = pd.DataFrame(y_pred.todense(), index=Y_test.index, columns=Y_test.columns)\n",
    "Y_pred"
   ]
  },
  {
   "cell_type": "code",
   "execution_count": 250,
   "metadata": {
    "ExecuteTime": {
     "end_time": "2021-04-17T05:13:53.960833Z",
     "start_time": "2021-04-17T05:13:53.432696Z"
    }
   },
   "outputs": [
    {
     "data": {
      "text/plain": [
       "Text(0.5, 0.98, 'Predicted vs Test set')"
      ]
     },
     "execution_count": 250,
     "metadata": {},
     "output_type": "execute_result"
    },
    {
     "data": {
      "image/png": "[encoded data removed]",
      "text/plain": [
       "<Figure size 1080x720 with 2 Axes>"
      ]
     },
     "metadata": {
      "needs_background": "light"
     },
     "output_type": "display_data"
    }
   ],
   "source": [
    "fig, axes = plt.subplots(2, 1, sharex=True, figsize=(15,10))\n",
    "\n",
    "sns.barplot(x=Y_test.sum().sort_values().index, y=Y_test.sum().sort_values().values, ax=axes[0] )\n",
    "sns.barplot(x=Y_pred.sum().sort_values().index, y=Y_pred.sum().sort_values().values, \\\n",
    "            order=list(Y_test.sum().sort_values().index), ax=axes[1] )\n",
    "\n",
    "plt.xticks(rotation=90)\n",
    "axes[0].grid(True, axis='y')\n",
    "axes[1].grid(True, axis='y')\n",
    "axes[0].set_title('Y test')\n",
    "axes[1].set_title('Y pred')\n",
    "\n",
    "fig.suptitle('Predicted vs Test set', size=18)"
   ]
  },
  {
   "cell_type": "code",
   "execution_count": 251,
   "metadata": {
    "ExecuteTime": {
     "end_time": "2021-04-17T05:14:16.198680Z",
     "start_time": "2021-04-17T05:14:15.872086Z"
    }
   },
   "outputs": [
    {
     "data": {
      "image/png": "[encoded data removed]",
      "text/plain": [
       "<Figure size 1080x360 with 1 Axes>"
      ]
     },
     "metadata": {
      "needs_background": "light"
     },
     "output_type": "display_data"
    }
   ],
   "source": [
    "plt.figure(figsize=(15,5))\n",
    "sns.barplot(x=Y_pred.sum().sort_values().index, y=Y_pred.sum().sort_values().values )\n",
    "plt.xticks(rotation=90)\n",
    "plt.grid(True, axis='y')\n",
    "plt.title('Predicted set')\n",
    "plt.show()"
   ]
  },
  {
   "cell_type": "code",
   "execution_count": 265,
   "metadata": {
    "ExecuteTime": {
     "end_time": "2021-04-17T05:25:17.387813Z",
     "start_time": "2021-04-17T05:25:16.780438Z"
    }
   },
   "outputs": [
    {
     "data": {
      "text/plain": [
       "Text(0.5, 0.98, 'Train vs Test set')"
      ]
     },
     "execution_count": 265,
     "metadata": {},
     "output_type": "execute_result"
    },
    {
     "data": {
      "image/png": "[encoded data removed]",
      "text/plain": [
       "<Figure size 1080x720 with 2 Axes>"
      ]
     },
     "metadata": {
      "needs_background": "light"
     },
     "output_type": "display_data"
    }
   ],
   "source": [
    "fig, axes = plt.subplots(2, 1, sharex=True, figsize=(15,10))\n",
    "\n",
    "sns.barplot(x=Y_test.sum().sort_values().index, y=Y_test.sum().sort_values().values, ax=axes[1] )\n",
    "sns.barplot(x=Y_train.sum().sort_values().index, y=Y_train.sum().sort_values().values, \\\n",
    "            order=list(Y_test.sum().sort_values().index), ax=axes[0] )\n",
    "\n",
    "plt.xticks(rotation=90)\n",
    "axes[0].grid(True, axis='y')\n",
    "axes[1].grid(True, axis='y')\n",
    "axes[1].set_title('Y test')\n",
    "axes[0].set_title('Y train')\n",
    "\n",
    "fig.suptitle('Train vs Test set', size=18)"
   ]
  },
  {
   "cell_type": "code",
   "execution_count": 262,
   "metadata": {
    "ExecuteTime": {
     "end_time": "2021-04-17T05:21:01.686363Z",
     "start_time": "2021-04-17T05:21:01.680372Z"
    }
   },
   "outputs": [
    {
     "data": {
      "text/plain": [
       "array(['Accessories (Gauges, Power Accessories, Vision & Air Bag)',\n",
       "       'Brakes', 'Change Oil', 'Complete Vehicle Inspection',\n",
       "       'Cooling System',\n",
       "       'Drive Train (Final Drive, Transaxle, Differential & Transfer Case)',\n",
       "       'Driveability (Fuel, Ignition & Emission Systems)',\n",
       "       'Electrical (Belts, Lighting, Starting & Charging Systems)',\n",
       "       'Engine', 'Engine Oil / Oil Filter', 'Fuel Filter / Air Filter',\n",
       "       'HVAC (Heating, Ventilation & Air Conditioning)',\n",
       "       'Major Preventive Maintenance Service',\n",
       "       'Minor Preventive Maintenance Service', 'Tires & Wheels',\n",
       "       'Transmission & Clutch'], dtype='<U66')"
      ]
     },
     "execution_count": 262,
     "metadata": {},
     "output_type": "execute_result"
    }
   ],
   "source": [
    "labels = list(Y_test.columns)\n",
    "labels = np.array(labels)\n",
    "labels"
   ]
  },
  {
   "cell_type": "markdown",
   "metadata": {},
   "source": [
    "<img src=\"cm.JPG\">"
   ]
  },
  {
   "cell_type": "code",
   "execution_count": 255,
   "metadata": {
    "ExecuteTime": {
     "end_time": "2021-04-17T05:14:50.473372Z",
     "start_time": "2021-04-17T05:14:50.458413Z"
    },
    "scrolled": true
   },
   "outputs": [
    {
     "data": {
      "text/plain": [
       "(16, 2, 2)"
      ]
     },
     "execution_count": 255,
     "metadata": {},
     "output_type": "execute_result"
    }
   ],
   "source": [
    "multilabel_confusion_matrix(Y_test, y_pred).shape"
   ]
  },
  {
   "cell_type": "code",
   "execution_count": 256,
   "metadata": {
    "ExecuteTime": {
     "end_time": "2021-04-17T05:14:55.660592Z",
     "start_time": "2021-04-17T05:14:52.789659Z"
    },
    "scrolled": true
   },
   "outputs": [
    {
     "data": {
      "image/png": "[encoded data removed]",
      "text/plain": [
       "<Figure size 432x288 with 2 Axes>"
      ]
     },
     "metadata": {
      "needs_background": "light"
     },
     "output_type": "display_data"
    },
    {
     "data": {
      "image/png": "[encoded data removed]",
      "text/plain": [
       "<Figure size 432x288 with 2 Axes>"
      ]
     },
     "metadata": {
      "needs_background": "light"
     },
     "output_type": "display_data"
    },
    {
     "data": {
      "image/png": "[encoded data removed]",
      "text/plain": [
       "<Figure size 432x288 with 2 Axes>"
      ]
     },
     "metadata": {
      "needs_background": "light"
     },
     "output_type": "display_data"
    },
    {
     "data": {
      "image/png": "[encoded data removed]",
      "text/plain": [
       "<Figure size 432x288 with 2 Axes>"
      ]
     },
     "metadata": {
      "needs_background": "light"
     },
     "output_type": "display_data"
    },
    {
     "data": {
      "image/png": "[encoded data removed]",
      "text/plain": [
       "<Figure size 432x288 with 2 Axes>"
      ]
     },
     "metadata": {
      "needs_background": "light"
     },
     "output_type": "display_data"
    },
    {
     "data": {
      "image/png": "[encoded data removed]",
      "text/plain": [
       "<Figure size 432x288 with 2 Axes>"
      ]
     },
     "metadata": {
      "needs_background": "light"
     },
     "output_type": "display_data"
    },
    {
     "data": {
      "image/png": "[encoded data removed]",
      "text/plain": [
       "<Figure size 432x288 with 2 Axes>"
      ]
     },
     "metadata": {
      "needs_background": "light"
     },
     "output_type": "display_data"
    },
    {
     "data": {
      "image/png": "[encoded data removed]",
      "text/plain": [
       "<Figure size 432x288 with 2 Axes>"
      ]
     },
     "metadata": {
      "needs_background": "light"
     },
     "output_type": "display_data"
    },
    {
     "data": {
      "image/png": "[encoded data removed]",
      "text/plain": [
       "<Figure size 432x288 with 2 Axes>"
      ]
     },
     "metadata": {
      "needs_background": "light"
     },
     "output_type": "display_data"
    },
    {
     "data": {
      "image/png": "[encoded data removed]",
      "text/plain": [
       "<Figure size 432x288 with 2 Axes>"
      ]
     },
     "metadata": {
      "needs_background": "light"
     },
     "output_type": "display_data"
    },
    {
     "data": {
      "image/png": "[encoded data removed]",
      "text/plain": [
       "<Figure size 432x288 with 2 Axes>"
      ]
     },
     "metadata": {
      "needs_background": "light"
     },
     "output_type": "display_data"
    },
    {
     "data": {
      "image/png": "[encoded data removed]",
      "text/plain": [
       "<Figure size 432x288 with 2 Axes>"
      ]
     },
     "metadata": {
      "needs_background": "light"
     },
     "output_type": "display_data"
    },
    {
     "data": {
      "image/png": "[encoded data removed]",
      "text/plain": [
       "<Figure size 432x288 with 2 Axes>"
      ]
     },
     "metadata": {
      "needs_background": "light"
     },
     "output_type": "display_data"
    },
    {
     "data": {
      "image/png": "[encoded data removed]",
      "text/plain": [
       "<Figure size 432x288 with 2 Axes>"
      ]
     },
     "metadata": {
      "needs_background": "light"
     },
     "output_type": "display_data"
    },
    {
     "data": {
      "image/png": "[encoded data removed]",
      "text/plain": [
       "<Figure size 432x288 with 2 Axes>"
      ]
     },
     "metadata": {
      "needs_background": "light"
     },
     "output_type": "display_data"
    },
    {
     "data": {
      "image/png": "[encoded data removed]",
      "text/plain": [
       "<Figure size 432x288 with 2 Axes>"
      ]
     },
     "metadata": {
      "needs_background": "light"
     },
     "output_type": "display_data"
    }
   ],
   "source": [
    "for i in range(16):\n",
    "    cm = multilabel_confusion_matrix(Y_test, y_pred)[i]\n",
    "    sns.heatmap(cm, annot=True, fmt='d', annot_kws={\"fontsize\":15})\n",
    "    plt.title(labels[i])\n",
    "    plt.ylabel('actual')\n",
    "    plt.xlabel('predicted')\n",
    "    plt.show()"
   ]
  },
  {
   "cell_type": "code",
   "execution_count": 257,
   "metadata": {
    "ExecuteTime": {
     "end_time": "2021-04-17T05:14:57.913634Z",
     "start_time": "2021-04-17T05:14:57.893690Z"
    },
    "scrolled": false
   },
   "outputs": [
    {
     "name": "stdout",
     "output_type": "stream",
     "text": [
      "                                                                    precision    recall  f1-score   support\n",
      "\n",
      "         Accessories (Gauges, Power Accessories, Vision & Air Bag)       0.40      0.09      0.15        43\n",
      "                                                            Brakes       0.45      0.90      0.60       406\n",
      "                                                        Change Oil       0.22      0.32      0.26       157\n",
      "                                       Complete Vehicle Inspection       0.30      0.78      0.44       221\n",
      "                                                    Cooling System       0.00      0.00      0.00        57\n",
      "Drive Train (Final Drive, Transaxle, Differential & Transfer Case)       0.00      0.00      0.00        12\n",
      "                  Driveability (Fuel, Ignition & Emission Systems)       0.11      0.02      0.03        66\n",
      "         Electrical (Belts, Lighting, Starting & Charging Systems)       0.19      0.12      0.15       101\n",
      "                                                            Engine       0.08      0.05      0.06        59\n",
      "                                           Engine Oil / Oil Filter       0.39      0.69      0.50       299\n",
      "                                          Fuel Filter / Air Filter       0.24      0.15      0.19       125\n",
      "                    HVAC (Heating, Ventilation & Air Conditioning)       0.05      0.24      0.08        63\n",
      "                              Major Preventive Maintenance Service       0.20      0.44      0.28        88\n",
      "                              Minor Preventive Maintenance Service       0.35      0.62      0.45       236\n",
      "                                                    Tires & Wheels       0.31      0.08      0.12        52\n",
      "                                             Transmission & Clutch       0.62      0.09      0.16        55\n",
      "\n",
      "                                                         micro avg       0.32      0.51      0.39      2040\n",
      "                                                         macro avg       0.25      0.29      0.22      2040\n",
      "                                                      weighted avg       0.31      0.51      0.36      2040\n",
      "                                                       samples avg       0.33      0.49      0.36      2040\n",
      "\n"
     ]
    },
    {
     "name": "stderr",
     "output_type": "stream",
     "text": [
      "C:\\Users\\Nico\\anaconda3\\lib\\site-packages\\sklearn\\metrics\\_classification.py:1245: UndefinedMetricWarning: Precision and F-score are ill-defined and being set to 0.0 in labels with no predicted samples. Use `zero_division` parameter to control this behavior.\n",
      "  _warn_prf(average, modifier, msg_start, len(result))\n"
     ]
    }
   ],
   "source": [
    "print(classification_report(Y_test, y_pred, target_names=labels))"
   ]
  },
  {
   "cell_type": "markdown",
   "metadata": {},
   "source": [
    "## Pickling the model"
   ]
  },
  {
   "cell_type": "code",
   "execution_count": 289,
   "metadata": {
    "ExecuteTime": {
     "end_time": "2021-04-18T13:31:54.335629Z",
     "start_time": "2021-04-18T13:31:54.324659Z"
    }
   },
   "outputs": [],
   "source": [
    "from joblib import dump\n",
    "from sklearn.pipeline import Pipeline\n",
    "from sklearn.preprocessing import StandardScaler"
   ]
  },
  {
   "cell_type": "code",
   "execution_count": 290,
   "metadata": {
    "ExecuteTime": {
     "end_time": "2021-04-18T13:32:01.051699Z",
     "start_time": "2021-04-18T13:32:01.039687Z"
    }
   },
   "outputs": [],
   "source": [
    "# instantiate scaler\n",
    "\n",
    "scaler = StandardScaler()"
   ]
  },
  {
   "cell_type": "code",
   "execution_count": 291,
   "metadata": {
    "ExecuteTime": {
     "end_time": "2021-04-18T13:32:02.320901Z",
     "start_time": "2021-04-18T13:32:02.308934Z"
    }
   },
   "outputs": [
    {
     "data": {
      "text/plain": [
       "StandardScaler()"
      ]
     },
     "execution_count": 291,
     "metadata": {},
     "output_type": "execute_result"
    }
   ],
   "source": [
    "scaler.fit(X_train)"
   ]
  },
  {
   "cell_type": "code",
   "execution_count": 292,
   "metadata": {
    "ExecuteTime": {
     "end_time": "2021-04-18T13:32:06.393306Z",
     "start_time": "2021-04-18T13:32:06.373399Z"
    }
   },
   "outputs": [],
   "source": [
    "# scale features\n",
    "\n",
    "X_train_scaled = scaler.transform(X_train)\n",
    "X_test_scaled = scaler.transform(X_test)"
   ]
  },
  {
   "cell_type": "code",
   "execution_count": 293,
   "metadata": {
    "ExecuteTime": {
     "end_time": "2021-04-18T13:32:06.922259Z",
     "start_time": "2021-04-18T13:32:06.903251Z"
    }
   },
   "outputs": [],
   "source": [
    "X_train_scaled = pd.DataFrame(X_train_scaled, index=X_train.index, columns=X_train.columns)\n",
    "X_test_scaled = pd.DataFrame(X_test_scaled, index=X_test.index, columns=X_test.columns)"
   ]
  },
  {
   "cell_type": "code",
   "execution_count": 294,
   "metadata": {
    "ExecuteTime": {
     "end_time": "2021-04-18T13:33:19.574944Z",
     "start_time": "2021-04-18T13:32:14.992814Z"
    }
   },
   "outputs": [
    {
     "data": {
      "text/plain": [
       "0.26250769213146546"
      ]
     },
     "execution_count": 294,
     "metadata": {},
     "output_type": "execute_result"
    }
   ],
   "source": [
    "cv_score = cross_val_score(meka, X_train_scaled, Y_train, cv=5, scoring=jaccard)\n",
    "cv_score.mean()"
   ]
  },
  {
   "cell_type": "code",
   "execution_count": 295,
   "metadata": {
    "ExecuteTime": {
     "end_time": "2021-04-18T13:33:34.847066Z",
     "start_time": "2021-04-18T13:33:19.576884Z"
    }
   },
   "outputs": [
    {
     "data": {
      "text/plain": [
       "Meka(java_command='C:/Program Files (x86)/Java/jre1.8.0_281/bin/java -Xmx1024m',\n",
       "     meka_classifier='meka.classifiers.multilabel.meta.BaggingML -I 10 -P 100',\n",
       "     meka_classpath='C:\\\\Users\\\\Nico\\\\scikit_ml_learn_data\\\\meka\\\\meka-release-1.9.2\\\\lib\\\\')"
      ]
     },
     "execution_count": 295,
     "metadata": {},
     "output_type": "execute_result"
    }
   ],
   "source": [
    "meka.fit(X_train_scaled, Y_train)"
   ]
  },
  {
   "cell_type": "code",
   "execution_count": 296,
   "metadata": {
    "ExecuteTime": {
     "end_time": "2021-04-18T13:33:36.075842Z",
     "start_time": "2021-04-18T13:33:34.849042Z"
    }
   },
   "outputs": [],
   "source": [
    "y_pred = meka.predict(X_test_scaled)"
   ]
  },
  {
   "cell_type": "code",
   "execution_count": 297,
   "metadata": {
    "ExecuteTime": {
     "end_time": "2021-04-18T13:33:36.090850Z",
     "start_time": "2021-04-18T13:33:36.077837Z"
    }
   },
   "outputs": [
    {
     "data": {
      "text/plain": [
       "0.27104409536982155"
      ]
     },
     "execution_count": 297,
     "metadata": {},
     "output_type": "execute_result"
    }
   ],
   "source": [
    "jaccard_score(Y_test, y_pred, average='samples')"
   ]
  },
  {
   "cell_type": "code",
   "execution_count": 316,
   "metadata": {
    "ExecuteTime": {
     "end_time": "2021-04-18T13:50:25.473794Z",
     "start_time": "2021-04-18T13:50:25.469806Z"
    }
   },
   "outputs": [],
   "source": [
    "# make pipeline\n",
    "\n",
    "pipe = Pipeline([('encoder', encoder), ('scaler', scaler), ('meka', meka)])"
   ]
  },
  {
   "cell_type": "code",
   "execution_count": 317,
   "metadata": {
    "ExecuteTime": {
     "end_time": "2021-04-18T13:50:41.864332Z",
     "start_time": "2021-04-18T13:50:26.685263Z"
    }
   },
   "outputs": [
    {
     "name": "stderr",
     "output_type": "stream",
     "text": [
      "C:\\Users\\Nico\\anaconda3\\lib\\site-packages\\category_encoders\\utils.py:21: FutureWarning: is_categorical is deprecated and will be removed in a future version.  Use is_categorical_dtype instead\n",
      "  elif pd.api.types.is_categorical(cols):\n"
     ]
    },
    {
     "data": {
      "text/plain": [
       "Pipeline(steps=[('encoder',\n",
       "                 CountEncoder(cols=['Make', 'Year', 'Model'],\n",
       "                              combine_min_nan_groups=True)),\n",
       "                ('scaler', StandardScaler()),\n",
       "                ('meka',\n",
       "                 Meka(java_command='C:/Program Files '\n",
       "                                   '(x86)/Java/jre1.8.0_281/bin/java -Xmx1024m',\n",
       "                      meka_classifier='meka.classifiers.multilabel.meta.BaggingML '\n",
       "                                      '-I 10 -P 100',\n",
       "                      meka_classpath='C:\\\\Users\\\\Nico\\\\scikit_ml_learn_data\\\\meka\\\\meka-release-1.9.2\\\\lib\\\\'))])"
      ]
     },
     "execution_count": 317,
     "metadata": {},
     "output_type": "execute_result"
    }
   ],
   "source": [
    "pipe.fit(X_train, Y_train)"
   ]
  },
  {
   "cell_type": "code",
   "execution_count": 340,
   "metadata": {
    "ExecuteTime": {
     "end_time": "2021-04-19T12:57:46.177167Z",
     "start_time": "2021-04-19T12:57:44.126993Z"
    }
   },
   "outputs": [],
   "source": [
    "y_pred = pipe.predict(X_test)"
   ]
  },
  {
   "cell_type": "code",
   "execution_count": 341,
   "metadata": {
    "ExecuteTime": {
     "end_time": "2021-04-19T12:57:47.547625Z",
     "start_time": "2021-04-19T12:57:47.504710Z"
    }
   },
   "outputs": [
    {
     "data": {
      "text/plain": [
       "0.2786728757211303"
      ]
     },
     "execution_count": 341,
     "metadata": {},
     "output_type": "execute_result"
    }
   ],
   "source": [
    "jaccard_score(Y_test, y_pred, average='samples')"
   ]
  },
  {
   "cell_type": "code",
   "execution_count": 323,
   "metadata": {
    "ExecuteTime": {
     "end_time": "2021-04-18T13:52:56.940677Z",
     "start_time": "2021-04-18T13:52:56.898790Z"
    }
   },
   "outputs": [
    {
     "data": {
      "text/plain": [
       "['ml_classifier.joblib']"
      ]
     },
     "execution_count": 323,
     "metadata": {},
     "output_type": "execute_result"
    }
   ],
   "source": [
    "# pickle the model\n",
    "\n",
    "dump(pipe, 'ml_classifier.joblib')"
   ]
  },
  {
   "cell_type": "markdown",
   "metadata": {},
   "source": [
    "## Pre-processing for Flask"
   ]
  },
  {
   "cell_type": "code",
   "execution_count": 542,
   "metadata": {
    "ExecuteTime": {
     "end_time": "2021-04-19T13:59:25.685131Z",
     "start_time": "2021-04-19T13:59:25.667223Z"
    }
   },
   "outputs": [
    {
     "data": {
      "text/plain": [
       "['ford', 2014, 'ranger', 114453]"
      ]
     },
     "execution_count": 542,
     "metadata": {},
     "output_type": "execute_result"
    }
   ],
   "source": [
    "input = list(X_test.iloc[270].values)\n",
    "input"
   ]
  },
  {
   "cell_type": "code",
   "execution_count": 543,
   "metadata": {
    "ExecuteTime": {
     "end_time": "2021-04-19T13:59:25.887628Z",
     "start_time": "2021-04-19T13:59:25.873627Z"
    }
   },
   "outputs": [
    {
     "data": {
      "text/plain": [
       "Make            ford\n",
       "Year            2014\n",
       "Model         ranger\n",
       "Mileage In    114453\n",
       "dtype: object"
      ]
     },
     "execution_count": 543,
     "metadata": {},
     "output_type": "execute_result"
    }
   ],
   "source": [
    "input_series = pd.Series(input, index=['Make', 'Year', 'Model', 'Mileage In'])\n",
    "input_series"
   ]
  },
  {
   "cell_type": "code",
   "execution_count": 544,
   "metadata": {
    "ExecuteTime": {
     "end_time": "2021-04-19T13:59:26.015248Z",
     "start_time": "2021-04-19T13:59:25.988362Z"
    }
   },
   "outputs": [
    {
     "data": {
      "text/html": [
       "<div>\n",
       "<style scoped>\n",
       "    .dataframe tbody tr th:only-of-type {\n",
       "        vertical-align: middle;\n",
       "    }\n",
       "\n",
       "    .dataframe tbody tr th {\n",
       "        vertical-align: top;\n",
       "    }\n",
       "\n",
       "    .dataframe thead th {\n",
       "        text-align: right;\n",
       "    }\n",
       "</style>\n",
       "<table border=\"1\" class=\"dataframe\">\n",
       "  <thead>\n",
       "    <tr style=\"text-align: right;\">\n",
       "      <th></th>\n",
       "      <th>Make</th>\n",
       "      <th>Year</th>\n",
       "      <th>Model</th>\n",
       "      <th>Mileage In</th>\n",
       "    </tr>\n",
       "  </thead>\n",
       "  <tbody>\n",
       "    <tr>\n",
       "      <th>0</th>\n",
       "      <td>ford</td>\n",
       "      <td>2014</td>\n",
       "      <td>ranger</td>\n",
       "      <td>114453</td>\n",
       "    </tr>\n",
       "  </tbody>\n",
       "</table>\n",
       "</div>"
      ],
      "text/plain": [
       "   Make  Year   Model Mileage In\n",
       "0  ford  2014  ranger     114453"
      ]
     },
     "execution_count": 544,
     "metadata": {},
     "output_type": "execute_result"
    }
   ],
   "source": [
    "input_to_df = input_series.values.reshape(1,4)\n",
    "input_df = pd.DataFrame(input_to_df, columns=['Make', 'Year', 'Model', 'Mileage In'])\n",
    "input_df"
   ]
  },
  {
   "cell_type": "code",
   "execution_count": 545,
   "metadata": {
    "ExecuteTime": {
     "end_time": "2021-04-19T13:59:26.845220Z",
     "start_time": "2021-04-19T13:59:26.111027Z"
    }
   },
   "outputs": [
    {
     "data": {
      "text/plain": [
       "[[0, 1, 0, 0, 0, 0, 0, 0, 0, 1, 0, 0, 0, 1, 0, 0]]"
      ]
     },
     "execution_count": 545,
     "metadata": {},
     "output_type": "execute_result"
    }
   ],
   "source": [
    "pipe.predict(input_df).todense().tolist()"
   ]
  },
  {
   "cell_type": "code",
   "execution_count": 546,
   "metadata": {
    "ExecuteTime": {
     "end_time": "2021-04-19T13:59:32.018538Z",
     "start_time": "2021-04-19T13:59:31.207658Z"
    }
   },
   "outputs": [
    {
     "data": {
      "text/plain": [
       "array([0, 1, 0, 0, 0, 0, 0, 0, 0, 1, 0, 0, 0, 1, 0, 0])"
      ]
     },
     "execution_count": 546,
     "metadata": {},
     "output_type": "execute_result"
    }
   ],
   "source": [
    "binar = np.array(pipe.predict(input_df).todense().tolist()).reshape(-1)\n",
    "binar"
   ]
  },
  {
   "cell_type": "code",
   "execution_count": 547,
   "metadata": {
    "ExecuteTime": {
     "end_time": "2021-04-19T13:59:32.034496Z",
     "start_time": "2021-04-19T13:59:32.021490Z"
    }
   },
   "outputs": [
    {
     "data": {
      "text/html": [
       "<div>\n",
       "<style scoped>\n",
       "    .dataframe tbody tr th:only-of-type {\n",
       "        vertical-align: middle;\n",
       "    }\n",
       "\n",
       "    .dataframe tbody tr th {\n",
       "        vertical-align: top;\n",
       "    }\n",
       "\n",
       "    .dataframe thead th {\n",
       "        text-align: right;\n",
       "    }\n",
       "</style>\n",
       "<table border=\"1\" class=\"dataframe\">\n",
       "  <thead>\n",
       "    <tr style=\"text-align: right;\">\n",
       "      <th></th>\n",
       "      <th>binar</th>\n",
       "      <th>serv_cats</th>\n",
       "    </tr>\n",
       "  </thead>\n",
       "  <tbody>\n",
       "    <tr>\n",
       "      <th>0</th>\n",
       "      <td>0</td>\n",
       "      <td>Accessories (Gauges, Power Accessories, Vision...</td>\n",
       "    </tr>\n",
       "    <tr>\n",
       "      <th>1</th>\n",
       "      <td>1</td>\n",
       "      <td>Brakes</td>\n",
       "    </tr>\n",
       "    <tr>\n",
       "      <th>2</th>\n",
       "      <td>0</td>\n",
       "      <td>Change Oil</td>\n",
       "    </tr>\n",
       "    <tr>\n",
       "      <th>3</th>\n",
       "      <td>0</td>\n",
       "      <td>Complete Vehicle Inspection</td>\n",
       "    </tr>\n",
       "    <tr>\n",
       "      <th>4</th>\n",
       "      <td>0</td>\n",
       "      <td>Cooling System</td>\n",
       "    </tr>\n",
       "    <tr>\n",
       "      <th>5</th>\n",
       "      <td>0</td>\n",
       "      <td>Drive Train (Final Drive, Transaxle, Different...</td>\n",
       "    </tr>\n",
       "    <tr>\n",
       "      <th>6</th>\n",
       "      <td>0</td>\n",
       "      <td>Driveability (Fuel, Ignition &amp; Emission Systems)</td>\n",
       "    </tr>\n",
       "    <tr>\n",
       "      <th>7</th>\n",
       "      <td>0</td>\n",
       "      <td>Electrical (Belts, Lighting, Starting &amp; Chargi...</td>\n",
       "    </tr>\n",
       "    <tr>\n",
       "      <th>8</th>\n",
       "      <td>0</td>\n",
       "      <td>Engine</td>\n",
       "    </tr>\n",
       "    <tr>\n",
       "      <th>9</th>\n",
       "      <td>1</td>\n",
       "      <td>Engine Oil / Oil Filter</td>\n",
       "    </tr>\n",
       "    <tr>\n",
       "      <th>10</th>\n",
       "      <td>0</td>\n",
       "      <td>Fuel Filter / Air Filter</td>\n",
       "    </tr>\n",
       "    <tr>\n",
       "      <th>11</th>\n",
       "      <td>0</td>\n",
       "      <td>HVAC (Heating, Ventilation &amp; Air Conditioning)</td>\n",
       "    </tr>\n",
       "    <tr>\n",
       "      <th>12</th>\n",
       "      <td>0</td>\n",
       "      <td>Major Preventive Maintenance Service</td>\n",
       "    </tr>\n",
       "    <tr>\n",
       "      <th>13</th>\n",
       "      <td>1</td>\n",
       "      <td>Minor Preventive Maintenance Service</td>\n",
       "    </tr>\n",
       "    <tr>\n",
       "      <th>14</th>\n",
       "      <td>0</td>\n",
       "      <td>Tires &amp; Wheels</td>\n",
       "    </tr>\n",
       "    <tr>\n",
       "      <th>15</th>\n",
       "      <td>0</td>\n",
       "      <td>Transmission &amp; Clutch</td>\n",
       "    </tr>\n",
       "  </tbody>\n",
       "</table>\n",
       "</div>"
      ],
      "text/plain": [
       "    binar                                          serv_cats\n",
       "0       0  Accessories (Gauges, Power Accessories, Vision...\n",
       "1       1                                             Brakes\n",
       "2       0                                         Change Oil\n",
       "3       0                        Complete Vehicle Inspection\n",
       "4       0                                     Cooling System\n",
       "5       0  Drive Train (Final Drive, Transaxle, Different...\n",
       "6       0   Driveability (Fuel, Ignition & Emission Systems)\n",
       "7       0  Electrical (Belts, Lighting, Starting & Chargi...\n",
       "8       0                                             Engine\n",
       "9       1                            Engine Oil / Oil Filter\n",
       "10      0                           Fuel Filter / Air Filter\n",
       "11      0     HVAC (Heating, Ventilation & Air Conditioning)\n",
       "12      0               Major Preventive Maintenance Service\n",
       "13      1               Minor Preventive Maintenance Service\n",
       "14      0                                     Tires & Wheels\n",
       "15      0                              Transmission & Clutch"
      ]
     },
     "execution_count": 547,
     "metadata": {},
     "output_type": "execute_result"
    }
   ],
   "source": [
    "result_df = pd.DataFrame({\"binar\":binar, \"serv_cats\":Y_train.columns})\n",
    "result_df"
   ]
  },
  {
   "cell_type": "code",
   "execution_count": 548,
   "metadata": {
    "ExecuteTime": {
     "end_time": "2021-04-19T13:59:32.065413Z",
     "start_time": "2021-04-19T13:59:32.036450Z"
    }
   },
   "outputs": [
    {
     "data": {
      "text/html": [
       "<div>\n",
       "<style scoped>\n",
       "    .dataframe tbody tr th:only-of-type {\n",
       "        vertical-align: middle;\n",
       "    }\n",
       "\n",
       "    .dataframe tbody tr th {\n",
       "        vertical-align: top;\n",
       "    }\n",
       "\n",
       "    .dataframe thead th {\n",
       "        text-align: right;\n",
       "    }\n",
       "</style>\n",
       "<table border=\"1\" class=\"dataframe\">\n",
       "  <thead>\n",
       "    <tr style=\"text-align: right;\">\n",
       "      <th></th>\n",
       "      <th>binar</th>\n",
       "      <th>serv_cats</th>\n",
       "    </tr>\n",
       "  </thead>\n",
       "  <tbody>\n",
       "    <tr>\n",
       "      <th>1</th>\n",
       "      <td>1</td>\n",
       "      <td>Brakes</td>\n",
       "    </tr>\n",
       "    <tr>\n",
       "      <th>9</th>\n",
       "      <td>1</td>\n",
       "      <td>Engine Oil / Oil Filter</td>\n",
       "    </tr>\n",
       "    <tr>\n",
       "      <th>13</th>\n",
       "      <td>1</td>\n",
       "      <td>Minor Preventive Maintenance Service</td>\n",
       "    </tr>\n",
       "  </tbody>\n",
       "</table>\n",
       "</div>"
      ],
      "text/plain": [
       "    binar                             serv_cats\n",
       "1       1                                Brakes\n",
       "9       1               Engine Oil / Oil Filter\n",
       "13      1  Minor Preventive Maintenance Service"
      ]
     },
     "execution_count": 548,
     "metadata": {},
     "output_type": "execute_result"
    }
   ],
   "source": [
    "result_df[ result_df['binar']==1 ]"
   ]
  },
  {
   "cell_type": "code",
   "execution_count": 549,
   "metadata": {
    "ExecuteTime": {
     "end_time": "2021-04-19T13:59:32.674831Z",
     "start_time": "2021-04-19T13:59:32.663860Z"
    }
   },
   "outputs": [
    {
     "data": {
      "text/plain": [
       "['Brakes', 'Engine Oil / Oil Filter', 'Minor Preventive Maintenance Service']"
      ]
     },
     "execution_count": 549,
     "metadata": {},
     "output_type": "execute_result"
    }
   ],
   "source": [
    "result_df[ result_df['binar']==1 ]['serv_cats'].values.tolist()"
   ]
  }
 ],
 "metadata": {
  "kernelspec": {
   "display_name": "Python 3",
   "language": "python",
   "name": "python3"
  },
  "language_info": {
   "codemirror_mode": {
    "name": "ipython",
    "version": 3
   },
   "file_extension": ".py",
   "mimetype": "text/x-python",
   "name": "python",
   "nbconvert_exporter": "python",
   "pygments_lexer": "ipython3",
   "version": "3.8.8"
  },
  "toc": {
   "base_numbering": 1,
   "nav_menu": {},
   "number_sections": true,
   "sideBar": true,
   "skip_h1_title": false,
   "title_cell": "Table of Contents",
   "title_sidebar": "Contents",
   "toc_cell": false,
   "toc_position": {
    "height": "calc(100% - 180px)",
    "left": "10px",
    "top": "150px",
    "width": "341.333px"
   },
   "toc_section_display": true,
   "toc_window_display": true
  }
 },
 "nbformat": 4,
 "nbformat_minor": 4
}
