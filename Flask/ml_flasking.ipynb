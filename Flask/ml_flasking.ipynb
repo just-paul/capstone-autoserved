{
 "cells": [
  {
   "cell_type": "code",
   "execution_count": 1,
   "metadata": {
    "ExecuteTime": {
     "end_time": "2021-04-18T13:46:51.035828Z",
     "start_time": "2021-04-18T13:46:50.470857Z"
    }
   },
   "outputs": [],
   "source": [
    "from flask import Flask, request\n",
    "from joblib import load"
   ]
  },
  {
   "cell_type": "code",
   "execution_count": 4,
   "metadata": {
    "ExecuteTime": {
     "end_time": "2021-04-18T13:53:15.390782Z",
     "start_time": "2021-04-18T13:53:15.347796Z"
    }
   },
   "outputs": [],
   "source": [
    "pipe = load('ml_classifier.joblib')"
   ]
  },
  {
   "cell_type": "code",
   "execution_count": 5,
   "metadata": {
    "ExecuteTime": {
     "end_time": "2021-04-18T13:53:17.700558Z",
     "start_time": "2021-04-18T13:53:17.692579Z"
    }
   },
   "outputs": [
    {
     "data": {
      "text/plain": [
       "Pipeline(steps=[('encoder',\n",
       "                 CountEncoder(cols=['Make', 'Year', 'Model'],\n",
       "                              combine_min_nan_groups=True)),\n",
       "                ('scaler', StandardScaler()),\n",
       "                ('meka',\n",
       "                 Meka(java_command='C:/Program Files '\n",
       "                                   '(x86)/Java/jre1.8.0_281/bin/java -Xmx1024m',\n",
       "                      meka_classifier='meka.classifiers.multilabel.meta.BaggingML '\n",
       "                                      '-I 10 -P 100',\n",
       "                      meka_classpath='C:\\\\Users\\\\Nico\\\\scikit_ml_learn_data\\\\meka\\\\meka-release-1.9.2\\\\lib\\\\'))])"
      ]
     },
     "execution_count": 5,
     "metadata": {},
     "output_type": "execute_result"
    }
   ],
   "source": [
    "pipe"
   ]
  },
  {
   "cell_type": "code",
   "execution_count": 36,
   "metadata": {
    "ExecuteTime": {
     "end_time": "2021-04-20T11:09:27.963062Z",
     "start_time": "2021-04-20T11:07:13.014712Z"
    }
   },
   "outputs": [
    {
     "name": "stdout",
     "output_type": "stream",
     "text": [
      " * Serving Flask app \"__main__\" (lazy loading)\n",
      " * Environment: production\n",
      "   WARNING: This is a development server. Do not use it in a production deployment.\n",
      "   Use a production WSGI server instead.\n",
      " * Debug mode: off\n"
     ]
    },
    {
     "name": "stderr",
     "output_type": "stream",
     "text": [
      " * Running on http://127.0.0.1:5000/ (Press CTRL+C to quit)\n",
      "127.0.0.1 - - [20/Apr/2021 19:07:16] \"\u001b[37mGET / HTTP/1.1\u001b[0m\" 200 -\n",
      "127.0.0.1 - - [20/Apr/2021 19:07:44] \"\u001b[37mPOST /recommend HTTP/1.1\u001b[0m\" 200 -\n",
      "127.0.0.1 - - [20/Apr/2021 19:07:56] \"\u001b[37mPOST /recommend HTTP/1.1\u001b[0m\" 200 -\n"
     ]
    }
   ],
   "source": [
    "app = Flask(__name__)\n",
    "\n",
    "PORT=5000\n",
    "\n",
    "@app.route(\"/\")\n",
    "def hello():\n",
    "    return \"Hello, World!\"\n",
    "\n",
    "@app.route(\"/recommend\", methods=[\"POST\"])\n",
    "def score_inputs():\n",
    "    serv_cats = ['Accessories (Gauges, Power Accessories, Vision & Air Bag)', 'Brakes',\n",
    "       'Change Oil', 'Complete Vehicle Inspection', 'Cooling System',\n",
    "       'Drive Train (Final Drive, Transaxle, Differential & Transfer Case)',\n",
    "       'Driveability (Fuel, Ignition & Emission Systems)',\n",
    "       'Electrical (Belts, Lighting, Starting & Charging Systems)', 'Engine',\n",
    "       'Engine Oil / Oil Filter', 'Fuel Filter / Air Filter',\n",
    "       'HVAC (Heating, Ventilation & Air Conditioning)',\n",
    "       'Major Preventive Maintenance Service',\n",
    "       'Minor Preventive Maintenance Service', 'Tires & Wheels',\n",
    "       'Transmission & Clutch']\n",
    "    \n",
    "    content = request.json\n",
    "    samp = content[\"values\"]\n",
    "    input_series = pd.Series(samp, index=['Make', 'Year', 'Model', 'Mileage In'])\n",
    "    input_to_df = input_series.values.reshape(1,4)\n",
    "    input_df = pd.DataFrame(input_to_df, columns=['Make', 'Year', 'Model', 'Mileage In'])\n",
    "    \n",
    "    result = pipe.predict(input_df).todense().tolist()\n",
    "    binar = np.array(result).reshape(-1)\n",
    "    result_df = pd.DataFrame({\"binar\":binar, \"serv_cats\":serv_cats})\n",
    "    recomms = result_df[ result_df['binar']==1 ]['serv_cats'].values.tolist()\n",
    "    \n",
    "    return {\"result\": recomms}\n",
    "\n",
    "if __name__ == '__main__':\n",
    "  app.run(port=PORT)"
   ]
  }
 ],
 "metadata": {
  "kernelspec": {
   "display_name": "Python 3",
   "language": "python",
   "name": "python3"
  },
  "language_info": {
   "codemirror_mode": {
    "name": "ipython",
    "version": 3
   },
   "file_extension": ".py",
   "mimetype": "text/x-python",
   "name": "python",
   "nbconvert_exporter": "python",
   "pygments_lexer": "ipython3",
   "version": "3.8.5"
  },
  "toc": {
   "base_numbering": 1,
   "nav_menu": {},
   "number_sections": true,
   "sideBar": true,
   "skip_h1_title": false,
   "title_cell": "Table of Contents",
   "title_sidebar": "Contents",
   "toc_cell": false,
   "toc_position": {},
   "toc_section_display": true,
   "toc_window_display": false
  }
 },
 "nbformat": 4,
 "nbformat_minor": 4
}
