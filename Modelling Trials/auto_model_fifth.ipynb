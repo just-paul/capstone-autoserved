{
 "cells": [
  {
   "cell_type": "code",
   "execution_count": 1,
   "metadata": {},
   "outputs": [],
   "source": [
    "import pandas as pd\n",
    "import numpy as np \n",
    "import matplotlib.pyplot as plt\n",
    "import seaborn as sns\n",
    "\n",
    "from sklearn.model_selection import train_test_split, StratifiedKFold\n",
    "from sklearn.ensemble import RandomForestClassifier, ExtraTreesClassifier, BaggingClassifier, AdaBoostClassifier\n",
    "from sklearn.metrics import accuracy_score, classification_report, plot_confusion_matrix, precision_score, roc_auc_score\n",
    "from sklearn.pipeline import Pipeline"
   ]
  },
  {
   "cell_type": "code",
   "execution_count": 2,
   "metadata": {},
   "outputs": [],
   "source": [
    "master_df = pd.read_csv('SAMPLE2.csv')"
   ]
  },
  {
   "cell_type": "code",
   "execution_count": 3,
   "metadata": {},
   "outputs": [
    {
     "data": {
      "text/html": [
       "<div>\n",
       "<style scoped>\n",
       "    .dataframe tbody tr th:only-of-type {\n",
       "        vertical-align: middle;\n",
       "    }\n",
       "\n",
       "    .dataframe tbody tr th {\n",
       "        vertical-align: top;\n",
       "    }\n",
       "\n",
       "    .dataframe thead th {\n",
       "        text-align: right;\n",
       "    }\n",
       "</style>\n",
       "<table border=\"1\" class=\"dataframe\">\n",
       "  <thead>\n",
       "    <tr style=\"text-align: right;\">\n",
       "      <th></th>\n",
       "      <th>Primary Key</th>\n",
       "      <th>Created</th>\n",
       "      <th>Mileage In</th>\n",
       "      <th>Work Order</th>\n",
       "      <th>Model</th>\n",
       "      <th>Line Type</th>\n",
       "      <th>Service Category</th>\n",
       "      <th>Service Package</th>\n",
       "      <th>Description</th>\n",
       "      <th>Definition</th>\n",
       "      <th>...</th>\n",
       "      <th>Quantity</th>\n",
       "      <th>Total</th>\n",
       "      <th>Discount</th>\n",
       "      <th>Net Total</th>\n",
       "      <th>ContactID</th>\n",
       "      <th>ServiceItemID</th>\n",
       "      <th>InvoiceID</th>\n",
       "      <th>labels</th>\n",
       "      <th>Make</th>\n",
       "      <th>Year</th>\n",
       "    </tr>\n",
       "  </thead>\n",
       "  <tbody>\n",
       "    <tr>\n",
       "      <th>0</th>\n",
       "      <td>1</td>\n",
       "      <td>12/28/2018 10:18</td>\n",
       "      <td>33320</td>\n",
       "      <td>49</td>\n",
       "      <td>civic</td>\n",
       "      <td>Material</td>\n",
       "      <td>Oil, Lube &amp; Preventive Maintenance Service</td>\n",
       "      <td>MINOR Preventive Maintenance Service (MEDIUM S...</td>\n",
       "      <td>OIL FILTER HONDA</td>\n",
       "      <td>Engine Oil Filter</td>\n",
       "      <td>...</td>\n",
       "      <td>1.0</td>\n",
       "      <td>696.43</td>\n",
       "      <td>0.0</td>\n",
       "      <td>696.43</td>\n",
       "      <td>a271834a-1afc-4e62-8c71-638025174c1f</td>\n",
       "      <td>ff01e2a4-d2d5-48ff-8ccc-d5605a653df4</td>\n",
       "      <td>99833bf9-865b-4e2c-9bd1-a0ed0cebea8e</td>\n",
       "      <td>preventive maintenance</td>\n",
       "      <td>honda</td>\n",
       "      <td>2012</td>\n",
       "    </tr>\n",
       "    <tr>\n",
       "      <th>1</th>\n",
       "      <td>2</td>\n",
       "      <td>12/28/2018 10:18</td>\n",
       "      <td>33320</td>\n",
       "      <td>49</td>\n",
       "      <td>civic</td>\n",
       "      <td>Material</td>\n",
       "      <td>Oil, Lube &amp; Preventive Maintenance Service</td>\n",
       "      <td>MINOR Preventive Maintenance Service (MEDIUM S...</td>\n",
       "      <td>ENGINE FLUSHING</td>\n",
       "      <td>NaN</td>\n",
       "      <td>...</td>\n",
       "      <td>1.0</td>\n",
       "      <td>142.86</td>\n",
       "      <td>0.0</td>\n",
       "      <td>142.86</td>\n",
       "      <td>a271834a-1afc-4e62-8c71-638025174c1f</td>\n",
       "      <td>ff01e2a4-d2d5-48ff-8ccc-d5605a653df4</td>\n",
       "      <td>99833bf9-865b-4e2c-9bd1-a0ed0cebea8e</td>\n",
       "      <td>preventive maintenance</td>\n",
       "      <td>honda</td>\n",
       "      <td>2012</td>\n",
       "    </tr>\n",
       "    <tr>\n",
       "      <th>2</th>\n",
       "      <td>3</td>\n",
       "      <td>12/28/2018 10:18</td>\n",
       "      <td>33320</td>\n",
       "      <td>49</td>\n",
       "      <td>civic</td>\n",
       "      <td>Material</td>\n",
       "      <td>Oil, Lube &amp; Preventive Maintenance Service</td>\n",
       "      <td>MINOR Preventive Maintenance Service (MEDIUM S...</td>\n",
       "      <td>BRAKE CLEANER 14oz</td>\n",
       "      <td>NaN</td>\n",
       "      <td>...</td>\n",
       "      <td>1.0</td>\n",
       "      <td>227.68</td>\n",
       "      <td>0.0</td>\n",
       "      <td>227.68</td>\n",
       "      <td>a271834a-1afc-4e62-8c71-638025174c1f</td>\n",
       "      <td>ff01e2a4-d2d5-48ff-8ccc-d5605a653df4</td>\n",
       "      <td>99833bf9-865b-4e2c-9bd1-a0ed0cebea8e</td>\n",
       "      <td>preventive maintenance</td>\n",
       "      <td>honda</td>\n",
       "      <td>2012</td>\n",
       "    </tr>\n",
       "    <tr>\n",
       "      <th>3</th>\n",
       "      <td>4</td>\n",
       "      <td>12/28/2018 10:18</td>\n",
       "      <td>33320</td>\n",
       "      <td>49</td>\n",
       "      <td>civic</td>\n",
       "      <td>Labor</td>\n",
       "      <td>Oil, Lube &amp; Preventive Maintenance Service</td>\n",
       "      <td>MINOR Preventive Maintenance Service (MEDIUM S...</td>\n",
       "      <td>Labor</td>\n",
       "      <td>NaN</td>\n",
       "      <td>...</td>\n",
       "      <td>3.0</td>\n",
       "      <td>1339.29</td>\n",
       "      <td>0.0</td>\n",
       "      <td>1339.29</td>\n",
       "      <td>a271834a-1afc-4e62-8c71-638025174c1f</td>\n",
       "      <td>ff01e2a4-d2d5-48ff-8ccc-d5605a653df4</td>\n",
       "      <td>99833bf9-865b-4e2c-9bd1-a0ed0cebea8e</td>\n",
       "      <td>preventive maintenance</td>\n",
       "      <td>honda</td>\n",
       "      <td>2012</td>\n",
       "    </tr>\n",
       "    <tr>\n",
       "      <th>4</th>\n",
       "      <td>5</td>\n",
       "      <td>12/28/2018 10:18</td>\n",
       "      <td>33320</td>\n",
       "      <td>49</td>\n",
       "      <td>civic</td>\n",
       "      <td>Material</td>\n",
       "      <td>Oil, Lube &amp; Preventive Maintenance Service</td>\n",
       "      <td>MINOR Preventive Maintenance Service (MEDIUM S...</td>\n",
       "      <td>REPSOL ELITE INJECTION 10W40 1L - GAS/DIESEL</td>\n",
       "      <td>Engine Oil</td>\n",
       "      <td>...</td>\n",
       "      <td>4.0</td>\n",
       "      <td>1178.56</td>\n",
       "      <td>0.0</td>\n",
       "      <td>1178.56</td>\n",
       "      <td>a271834a-1afc-4e62-8c71-638025174c1f</td>\n",
       "      <td>ff01e2a4-d2d5-48ff-8ccc-d5605a653df4</td>\n",
       "      <td>99833bf9-865b-4e2c-9bd1-a0ed0cebea8e</td>\n",
       "      <td>preventive maintenance</td>\n",
       "      <td>honda</td>\n",
       "      <td>2012</td>\n",
       "    </tr>\n",
       "  </tbody>\n",
       "</table>\n",
       "<p>5 rows × 21 columns</p>\n",
       "</div>"
      ],
      "text/plain": [
       "   Primary Key           Created  Mileage In  Work Order  Model Line Type  \\\n",
       "0            1  12/28/2018 10:18       33320          49  civic  Material   \n",
       "1            2  12/28/2018 10:18       33320          49  civic  Material   \n",
       "2            3  12/28/2018 10:18       33320          49  civic  Material   \n",
       "3            4  12/28/2018 10:18       33320          49  civic     Labor   \n",
       "4            5  12/28/2018 10:18       33320          49  civic  Material   \n",
       "\n",
       "                             Service Category  \\\n",
       "0  Oil, Lube & Preventive Maintenance Service   \n",
       "1  Oil, Lube & Preventive Maintenance Service   \n",
       "2  Oil, Lube & Preventive Maintenance Service   \n",
       "3  Oil, Lube & Preventive Maintenance Service   \n",
       "4  Oil, Lube & Preventive Maintenance Service   \n",
       "\n",
       "                                     Service Package  \\\n",
       "0  MINOR Preventive Maintenance Service (MEDIUM S...   \n",
       "1  MINOR Preventive Maintenance Service (MEDIUM S...   \n",
       "2  MINOR Preventive Maintenance Service (MEDIUM S...   \n",
       "3  MINOR Preventive Maintenance Service (MEDIUM S...   \n",
       "4  MINOR Preventive Maintenance Service (MEDIUM S...   \n",
       "\n",
       "                                    Description         Definition  ...  \\\n",
       "0                              OIL FILTER HONDA  Engine Oil Filter  ...   \n",
       "1                               ENGINE FLUSHING                NaN  ...   \n",
       "2                            BRAKE CLEANER 14oz                NaN  ...   \n",
       "3                                         Labor                NaN  ...   \n",
       "4  REPSOL ELITE INJECTION 10W40 1L - GAS/DIESEL         Engine Oil  ...   \n",
       "\n",
       "   Quantity    Total  Discount  Net Total  \\\n",
       "0       1.0   696.43       0.0     696.43   \n",
       "1       1.0   142.86       0.0     142.86   \n",
       "2       1.0   227.68       0.0     227.68   \n",
       "3       3.0  1339.29       0.0    1339.29   \n",
       "4       4.0  1178.56       0.0    1178.56   \n",
       "\n",
       "                              ContactID                         ServiceItemID  \\\n",
       "0  a271834a-1afc-4e62-8c71-638025174c1f  ff01e2a4-d2d5-48ff-8ccc-d5605a653df4   \n",
       "1  a271834a-1afc-4e62-8c71-638025174c1f  ff01e2a4-d2d5-48ff-8ccc-d5605a653df4   \n",
       "2  a271834a-1afc-4e62-8c71-638025174c1f  ff01e2a4-d2d5-48ff-8ccc-d5605a653df4   \n",
       "3  a271834a-1afc-4e62-8c71-638025174c1f  ff01e2a4-d2d5-48ff-8ccc-d5605a653df4   \n",
       "4  a271834a-1afc-4e62-8c71-638025174c1f  ff01e2a4-d2d5-48ff-8ccc-d5605a653df4   \n",
       "\n",
       "                              InvoiceID                  labels   Make  Year  \n",
       "0  99833bf9-865b-4e2c-9bd1-a0ed0cebea8e  preventive maintenance  honda  2012  \n",
       "1  99833bf9-865b-4e2c-9bd1-a0ed0cebea8e  preventive maintenance  honda  2012  \n",
       "2  99833bf9-865b-4e2c-9bd1-a0ed0cebea8e  preventive maintenance  honda  2012  \n",
       "3  99833bf9-865b-4e2c-9bd1-a0ed0cebea8e  preventive maintenance  honda  2012  \n",
       "4  99833bf9-865b-4e2c-9bd1-a0ed0cebea8e  preventive maintenance  honda  2012  \n",
       "\n",
       "[5 rows x 21 columns]"
      ]
     },
     "execution_count": 3,
     "metadata": {},
     "output_type": "execute_result"
    }
   ],
   "source": [
    "master_df.head()"
   ]
  },
  {
   "cell_type": "code",
   "execution_count": 4,
   "metadata": {},
   "outputs": [
    {
     "name": "stdout",
     "output_type": "stream",
     "text": [
      "<class 'pandas.core.frame.DataFrame'>\n",
      "RangeIndex: 37548 entries, 0 to 37547\n",
      "Data columns (total 21 columns):\n",
      " #   Column            Non-Null Count  Dtype  \n",
      "---  ------            --------------  -----  \n",
      " 0   Primary Key       37548 non-null  int64  \n",
      " 1   Created           37548 non-null  object \n",
      " 2   Mileage In        37548 non-null  int64  \n",
      " 3   Work Order        37548 non-null  int64  \n",
      " 4   Model             37548 non-null  object \n",
      " 5   Line Type         37548 non-null  object \n",
      " 6   Service Category  37548 non-null  object \n",
      " 7   Service Package   37525 non-null  object \n",
      " 8   Description       37548 non-null  object \n",
      " 9   Definition        15582 non-null  object \n",
      " 10  Price             37548 non-null  float64\n",
      " 11  Quantity          37548 non-null  float64\n",
      " 12  Total             37548 non-null  float64\n",
      " 13  Discount          37548 non-null  float64\n",
      " 14  Net Total         37548 non-null  float64\n",
      " 15  ContactID         37548 non-null  object \n",
      " 16  ServiceItemID     37548 non-null  object \n",
      " 17  InvoiceID         37548 non-null  object \n",
      " 18  labels            37548 non-null  object \n",
      " 19  Make              37548 non-null  object \n",
      " 20  Year              37548 non-null  int64  \n",
      "dtypes: float64(5), int64(4), object(12)\n",
      "memory usage: 6.0+ MB\n"
     ]
    }
   ],
   "source": [
    "master_df.info()"
   ]
  },
  {
   "cell_type": "code",
   "execution_count": 5,
   "metadata": {},
   "outputs": [
    {
     "data": {
      "text/plain": [
       "preventive maintenance                          15899\n",
       "change oil, lube and flushing                    4957\n",
       "complete vehicle inspection                      2799\n",
       "steering and wheel alignment                     1962\n",
       "Brakes                                           1590\n",
       "suspension                                       1252\n",
       "Air Conditioner General Cleaning Service         1131\n",
       "Ignition and fuel general services                988\n",
       "clutch general services                           978\n",
       "Engine                                            928\n",
       "tire general services and repair                  851\n",
       "electrical general services and replacement       625\n",
       "Valve Cover Gasket                                545\n",
       "Cooling Repair, charging and replacement          515\n",
       "Transmission general services                     430\n",
       "Vacuum/Charging Service                           369\n",
       "Radiator general services                         349\n",
       "Wheel Bearing                                     230\n",
       "Drive train general services and replacement      223\n",
       "Engine Detailing                                  190\n",
       "Windshield Wiper Servicing                        163\n",
       "Alternator Diagnosis / Component Repair           148\n",
       "Other Accessories Services                        123\n",
       "Door Servicing                                     76\n",
       "Counter / Cash Sale                                52\n",
       "Body Repair and Paint Works                        33\n",
       "Accessories General Service                        30\n",
       "Other Sublet Services (Machine Shop)               27\n",
       "Car Horn Repair & Services                         27\n",
       "Car Hood Services                                  24\n",
       "Towing                                             19\n",
       "Exhaust General Service                             9\n",
       "electrical general services                         4\n",
       "Car Seat Services                                   2\n",
       "Name: labels, dtype: int64"
      ]
     },
     "execution_count": 5,
     "metadata": {},
     "output_type": "execute_result"
    }
   ],
   "source": [
    "master_df['labels'].value_counts()"
   ]
  },
  {
   "cell_type": "code",
   "execution_count": 6,
   "metadata": {},
   "outputs": [
    {
     "data": {
      "text/plain": [
       "['Other Accessories Services',\n",
       " 'Door Servicing',\n",
       " 'Counter / Cash Sale',\n",
       " 'Body Repair and Paint Works',\n",
       " 'Accessories General Service',\n",
       " 'Other Sublet Services (Machine Shop)',\n",
       " 'Car Horn Repair & Services',\n",
       " 'Car Hood Services',\n",
       " 'Towing',\n",
       " 'Exhaust General Service',\n",
       " 'electrical general services',\n",
       " 'Car Seat Services']"
      ]
     },
     "execution_count": 6,
     "metadata": {},
     "output_type": "execute_result"
    }
   ],
   "source": [
    "# car labels; getting only the entries with greater than 250\n",
    "label_list = master_df['labels'].value_counts().to_frame()\n",
    "label_list = label_list[label_list['labels'] <= 140]\n",
    "label_list = list(label_list.index)\n",
    "label_list"
   ]
  },
  {
   "cell_type": "code",
   "execution_count": 7,
   "metadata": {},
   "outputs": [],
   "source": [
    "master_df = master_df[~master_df['labels'].isin(label_list)]"
   ]
  },
  {
   "cell_type": "code",
   "execution_count": 8,
   "metadata": {},
   "outputs": [
    {
     "data": {
      "text/plain": [
       "['audi',\n",
       " 'mercedes benz',\n",
       " 'lexus',\n",
       " 'volvo',\n",
       " 'volkswagen',\n",
       " 'dodge',\n",
       " 'lincoln',\n",
       " 'foton',\n",
       " 'chrysler',\n",
       " 'peugeot',\n",
       " 'jeep',\n",
       " 'mg']"
      ]
     },
     "execution_count": 8,
     "metadata": {},
     "output_type": "execute_result"
    }
   ],
   "source": [
    "# car make; getting only the entries with greater than 100 \n",
    "car_list = master_df['Make'].value_counts().to_frame()\n",
    "car_list = car_list[car_list['Make'] <= 100]\n",
    "car_list = list(car_list.index)\n",
    "car_list"
   ]
  },
  {
   "cell_type": "code",
   "execution_count": 9,
   "metadata": {},
   "outputs": [],
   "source": [
    "master_df = master_df[~master_df['Make'].isin(car_list)]"
   ]
  },
  {
   "cell_type": "code",
   "execution_count": 10,
   "metadata": {},
   "outputs": [],
   "source": [
    "master_df = master_df[master_df['Service Category'] != 'Accessories (Gauges, Power Accessories, Vision & Air Bag)']"
   ]
  },
  {
   "cell_type": "code",
   "execution_count": 11,
   "metadata": {},
   "outputs": [],
   "source": [
    "master_df = master_df[master_df['labels'] != 'preventive maintenance']\n",
    "master_df = master_df[master_df['labels'] != 'Engine Detailing']\n",
    "\n",
    "# \n",
    "master_df = master_df[master_df['labels'] != 'Drive train general services and replacement']\n",
    "master_df = master_df[master_df['labels'] != 'filter and sensor (air and fuel)']"
   ]
  },
  {
   "cell_type": "code",
   "execution_count": 12,
   "metadata": {},
   "outputs": [
    {
     "data": {
      "text/html": [
       "<div>\n",
       "<style scoped>\n",
       "    .dataframe tbody tr th:only-of-type {\n",
       "        vertical-align: middle;\n",
       "    }\n",
       "\n",
       "    .dataframe tbody tr th {\n",
       "        vertical-align: top;\n",
       "    }\n",
       "\n",
       "    .dataframe thead th {\n",
       "        text-align: right;\n",
       "    }\n",
       "</style>\n",
       "<table border=\"1\" class=\"dataframe\">\n",
       "  <thead>\n",
       "    <tr style=\"text-align: right;\">\n",
       "      <th></th>\n",
       "      <th>labels</th>\n",
       "    </tr>\n",
       "  </thead>\n",
       "  <tbody>\n",
       "    <tr>\n",
       "      <th>change oil, lube and flushing</th>\n",
       "      <td>4924</td>\n",
       "    </tr>\n",
       "    <tr>\n",
       "      <th>complete vehicle inspection</th>\n",
       "      <td>2766</td>\n",
       "    </tr>\n",
       "    <tr>\n",
       "      <th>steering and wheel alignment</th>\n",
       "      <td>1930</td>\n",
       "    </tr>\n",
       "    <tr>\n",
       "      <th>Brakes</th>\n",
       "      <td>1575</td>\n",
       "    </tr>\n",
       "    <tr>\n",
       "      <th>suspension</th>\n",
       "      <td>1238</td>\n",
       "    </tr>\n",
       "    <tr>\n",
       "      <th>Air Conditioner General Cleaning Service</th>\n",
       "      <td>1103</td>\n",
       "    </tr>\n",
       "    <tr>\n",
       "      <th>clutch general services</th>\n",
       "      <td>978</td>\n",
       "    </tr>\n",
       "    <tr>\n",
       "      <th>Ignition and fuel general services</th>\n",
       "      <td>941</td>\n",
       "    </tr>\n",
       "    <tr>\n",
       "      <th>Engine</th>\n",
       "      <td>918</td>\n",
       "    </tr>\n",
       "    <tr>\n",
       "      <th>tire general services and repair</th>\n",
       "      <td>840</td>\n",
       "    </tr>\n",
       "    <tr>\n",
       "      <th>electrical general services and replacement</th>\n",
       "      <td>616</td>\n",
       "    </tr>\n",
       "    <tr>\n",
       "      <th>Valve Cover Gasket</th>\n",
       "      <td>539</td>\n",
       "    </tr>\n",
       "    <tr>\n",
       "      <th>Cooling Repair, charging and replacement</th>\n",
       "      <td>515</td>\n",
       "    </tr>\n",
       "    <tr>\n",
       "      <th>Transmission general services</th>\n",
       "      <td>427</td>\n",
       "    </tr>\n",
       "    <tr>\n",
       "      <th>Vacuum/Charging Service</th>\n",
       "      <td>362</td>\n",
       "    </tr>\n",
       "    <tr>\n",
       "      <th>Radiator general services</th>\n",
       "      <td>349</td>\n",
       "    </tr>\n",
       "    <tr>\n",
       "      <th>Wheel Bearing</th>\n",
       "      <td>230</td>\n",
       "    </tr>\n",
       "    <tr>\n",
       "      <th>Alternator Diagnosis / Component Repair</th>\n",
       "      <td>146</td>\n",
       "    </tr>\n",
       "  </tbody>\n",
       "</table>\n",
       "</div>"
      ],
      "text/plain": [
       "                                             labels\n",
       "change oil, lube and flushing                  4924\n",
       "complete vehicle inspection                    2766\n",
       "steering and wheel alignment                   1930\n",
       "Brakes                                         1575\n",
       "suspension                                     1238\n",
       "Air Conditioner General Cleaning Service       1103\n",
       "clutch general services                         978\n",
       "Ignition and fuel general services              941\n",
       "Engine                                          918\n",
       "tire general services and repair                840\n",
       "electrical general services and replacement     616\n",
       "Valve Cover Gasket                              539\n",
       "Cooling Repair, charging and replacement        515\n",
       "Transmission general services                   427\n",
       "Vacuum/Charging Service                         362\n",
       "Radiator general services                       349\n",
       "Wheel Bearing                                   230\n",
       "Alternator Diagnosis / Component Repair         146"
      ]
     },
     "execution_count": 12,
     "metadata": {},
     "output_type": "execute_result"
    }
   ],
   "source": [
    "labl = master_df['labels'].value_counts().to_frame()\n",
    "labl"
   ]
  },
  {
   "cell_type": "code",
   "execution_count": 13,
   "metadata": {},
   "outputs": [
    {
     "name": "stdout",
     "output_type": "stream",
     "text": [
      "<class 'pandas.core.frame.DataFrame'>\n",
      "Int64Index: 20397 entries, 13 to 37547\n",
      "Data columns (total 21 columns):\n",
      " #   Column            Non-Null Count  Dtype  \n",
      "---  ------            --------------  -----  \n",
      " 0   Primary Key       20397 non-null  int64  \n",
      " 1   Created           20397 non-null  object \n",
      " 2   Mileage In        20397 non-null  int64  \n",
      " 3   Work Order        20397 non-null  int64  \n",
      " 4   Model             20397 non-null  object \n",
      " 5   Line Type         20397 non-null  object \n",
      " 6   Service Category  20397 non-null  object \n",
      " 7   Service Package   20375 non-null  object \n",
      " 8   Description       20397 non-null  object \n",
      " 9   Definition        7957 non-null   object \n",
      " 10  Price             20397 non-null  float64\n",
      " 11  Quantity          20397 non-null  float64\n",
      " 12  Total             20397 non-null  float64\n",
      " 13  Discount          20397 non-null  float64\n",
      " 14  Net Total         20397 non-null  float64\n",
      " 15  ContactID         20397 non-null  object \n",
      " 16  ServiceItemID     20397 non-null  object \n",
      " 17  InvoiceID         20397 non-null  object \n",
      " 18  labels            20397 non-null  object \n",
      " 19  Make              20397 non-null  object \n",
      " 20  Year              20397 non-null  int64  \n",
      "dtypes: float64(5), int64(4), object(12)\n",
      "memory usage: 3.4+ MB\n"
     ]
    }
   ],
   "source": [
    "master_df.info()"
   ]
  },
  {
   "cell_type": "code",
   "execution_count": 14,
   "metadata": {},
   "outputs": [],
   "source": [
    "X = master_df[['Year', 'Make', 'Model','Mileage In']]\n",
    "Y = master_df['labels']"
   ]
  },
  {
   "cell_type": "code",
   "execution_count": 15,
   "metadata": {},
   "outputs": [],
   "source": [
    "# category encoding\n",
    "# !pip install category_encoders\n",
    "\n",
    "import category_encoders as ce\n",
    "encoder = ce.BinaryEncoder(cols=['Year', 'Make', 'Model'], return_df = True)"
   ]
  },
  {
   "cell_type": "code",
   "execution_count": 16,
   "metadata": {},
   "outputs": [
    {
     "data": {
      "text/plain": [
       "BinaryEncoder(cols=['Year', 'Make', 'Model'])"
      ]
     },
     "execution_count": 16,
     "metadata": {},
     "output_type": "execute_result"
    }
   ],
   "source": [
    "encoder.fit(X)"
   ]
  },
  {
   "cell_type": "markdown",
   "metadata": {},
   "source": [
    "# Splitting of Dataset"
   ]
  },
  {
   "cell_type": "code",
   "execution_count": 17,
   "metadata": {},
   "outputs": [],
   "source": [
    "x_train, x_test, y_train, y_test = train_test_split(X, Y, random_state = 4244, test_size = 0.20, stratify = Y)"
   ]
  },
  {
   "cell_type": "code",
   "execution_count": 18,
   "metadata": {},
   "outputs": [],
   "source": [
    "X_train_encoded = encoder.transform(x_train)\n",
    "X_test_encoded = encoder.transform(x_test)"
   ]
  },
  {
   "cell_type": "code",
   "execution_count": 19,
   "metadata": {},
   "outputs": [
    {
     "name": "stdout",
     "output_type": "stream",
     "text": [
      "(16317, 22) (4080, 22)\n"
     ]
    }
   ],
   "source": [
    "print(X_train_encoded.shape, X_test_encoded.shape)"
   ]
  },
  {
   "cell_type": "markdown",
   "metadata": {},
   "source": [
    "# Random Forest Classifier"
   ]
  },
  {
   "cell_type": "code",
   "execution_count": 20,
   "metadata": {},
   "outputs": [],
   "source": [
    "model_ = RandomForestClassifier(random_state = 4244)"
   ]
  },
  {
   "cell_type": "code",
   "execution_count": 21,
   "metadata": {},
   "outputs": [
    {
     "data": {
      "text/plain": [
       "Pipeline(steps=[('model', RandomForestClassifier(random_state=4244))])"
      ]
     },
     "execution_count": 21,
     "metadata": {},
     "output_type": "execute_result"
    }
   ],
   "source": [
    "pipeline = Pipeline([('model', model_)])\n",
    "pipeline.fit(X_train_encoded, y_train.values.ravel())"
   ]
  },
  {
   "cell_type": "code",
   "execution_count": 22,
   "metadata": {},
   "outputs": [
    {
     "name": "stdout",
     "output_type": "stream",
     "text": [
      "Precision score: 0.642\n",
      "Accuracy Score:0.702\n",
      "Classification Report: \n",
      "                                              precision    recall  f1-score   support\n",
      "\n",
      "   Air Conditioner General Cleaning Service       0.71      0.81      0.76       221\n",
      "    Alternator Diagnosis / Component Repair       0.59      0.55      0.57        29\n",
      "                                     Brakes       0.63      0.64      0.64       315\n",
      "   Cooling Repair, charging and replacement       0.65      0.65      0.65       103\n",
      "                                     Engine       0.62      0.67      0.65       184\n",
      "         Ignition and fuel general services       0.60      0.48      0.53       188\n",
      "                  Radiator general services       0.59      0.57      0.58        70\n",
      "              Transmission general services       0.75      0.59      0.66        85\n",
      "                    Vacuum/Charging Service       0.58      0.56      0.57        72\n",
      "                         Valve Cover Gasket       0.49      0.53      0.51       108\n",
      "                              Wheel Bearing       0.61      0.65      0.63        46\n",
      "              change oil, lube and flushing       0.83      0.95      0.89       985\n",
      "                    clutch general services       0.68      0.81      0.74       196\n",
      "                complete vehicle inspection       0.79      0.63      0.70       553\n",
      "electrical general services and replacement       0.57      0.49      0.53       123\n",
      "               steering and wheel alignment       0.63      0.52      0.57       386\n",
      "                                 suspension       0.56      0.57      0.56       248\n",
      "           tire general services and repair       0.67      0.76      0.71       168\n",
      "\n",
      "                                   accuracy                           0.70      4080\n",
      "                                  macro avg       0.64      0.63      0.64      4080\n",
      "                               weighted avg       0.70      0.70      0.70      4080\n",
      "\n"
     ]
    }
   ],
   "source": [
    "y_pred = pipeline.predict(X_test_encoded)\n",
    "\n",
    "print(\"Precision score: {:.3f}\".format(precision_score(y_test,y_pred , average='macro')))\n",
    "print(\"Accuracy Score:{:.3f}\".format(accuracy_score(y_test, y_pred)))\n",
    "print(\"Classification Report: \\n\", classification_report(y_test, y_pred))"
   ]
  },
  {
   "cell_type": "code",
   "execution_count": 23,
   "metadata": {},
   "outputs": [],
   "source": [
    "# fig, ax = plt.subplots(figsize = (15,15))\n",
    "# plot_confusion_matrix(pipeline, X_test_encoded, y_test, ax = ax, cmap='Greys')\n",
    "# plt.xticks(rotation=90)"
   ]
  },
  {
   "cell_type": "markdown",
   "metadata": {},
   "source": [
    "# AdaBoost Classifier"
   ]
  },
  {
   "cell_type": "code",
   "execution_count": 24,
   "metadata": {},
   "outputs": [],
   "source": [
    "model_ = AdaBoostClassifier(base_estimator = RandomForestClassifier(), random_state = 4244)"
   ]
  },
  {
   "cell_type": "code",
   "execution_count": 25,
   "metadata": {},
   "outputs": [
    {
     "data": {
      "text/plain": [
       "Pipeline(steps=[('model',\n",
       "                 AdaBoostClassifier(base_estimator=RandomForestClassifier(),\n",
       "                                    random_state=4244))])"
      ]
     },
     "execution_count": 25,
     "metadata": {},
     "output_type": "execute_result"
    }
   ],
   "source": [
    "pipeline = Pipeline([('model', model_)])\n",
    "pipeline.fit(X_train_encoded, y_train.values.ravel())"
   ]
  },
  {
   "cell_type": "code",
   "execution_count": 26,
   "metadata": {},
   "outputs": [
    {
     "name": "stdout",
     "output_type": "stream",
     "text": [
      "Precision score: 0.644\n",
      "Accuracy Score:0.695\n",
      "Classification Report: \n",
      "                                              precision    recall  f1-score   support\n",
      "\n",
      "   Air Conditioner General Cleaning Service       0.72      0.81      0.76       221\n",
      "    Alternator Diagnosis / Component Repair       0.67      0.48      0.56        29\n",
      "                                     Brakes       0.65      0.65      0.65       315\n",
      "   Cooling Repair, charging and replacement       0.65      0.60      0.62       103\n",
      "                                     Engine       0.67      0.64      0.65       184\n",
      "         Ignition and fuel general services       0.59      0.48      0.53       188\n",
      "                  Radiator general services       0.61      0.50      0.55        70\n",
      "              Transmission general services       0.75      0.52      0.61        85\n",
      "                    Vacuum/Charging Service       0.56      0.56      0.56        72\n",
      "                         Valve Cover Gasket       0.49      0.44      0.47       108\n",
      "                              Wheel Bearing       0.64      0.59      0.61        46\n",
      "              change oil, lube and flushing       0.86      0.94      0.90       985\n",
      "                    clutch general services       0.66      0.84      0.74       196\n",
      "                complete vehicle inspection       0.66      0.66      0.66       553\n",
      "electrical general services and replacement       0.58      0.43      0.49       123\n",
      "               steering and wheel alignment       0.57      0.53      0.55       386\n",
      "                                 suspension       0.55      0.56      0.55       248\n",
      "           tire general services and repair       0.72      0.70      0.71       168\n",
      "\n",
      "                                   accuracy                           0.69      4080\n",
      "                                  macro avg       0.64      0.61      0.62      4080\n",
      "                               weighted avg       0.69      0.69      0.69      4080\n",
      "\n"
     ]
    }
   ],
   "source": [
    "y_pred = pipeline.predict(X_test_encoded)\n",
    "\n",
    "print(\"Precision score: {:.3f}\".format(precision_score(y_test,y_pred , average='macro')))\n",
    "print(\"Accuracy Score:{:.3f}\".format(accuracy_score(y_test, y_pred)))\n",
    "print(\"Classification Report: \\n\", classification_report(y_test, y_pred))"
   ]
  },
  {
   "cell_type": "code",
   "execution_count": 27,
   "metadata": {},
   "outputs": [],
   "source": [
    "# fig, ax = plt.subplots(figsize = (15,15))\n",
    "# plot_confusion_matrix(pipeline, X_test_encoded, y_test, ax = ax, cmap='Greys')\n",
    "# plt.xticks(rotation=90)"
   ]
  },
  {
   "cell_type": "markdown",
   "metadata": {},
   "source": [
    "# Bagging Classifier"
   ]
  },
  {
   "cell_type": "code",
   "execution_count": 28,
   "metadata": {},
   "outputs": [],
   "source": [
    "model_ = BaggingClassifier(RandomForestClassifier(), random_state = 4244)"
   ]
  },
  {
   "cell_type": "code",
   "execution_count": 29,
   "metadata": {},
   "outputs": [
    {
     "data": {
      "text/plain": [
       "Pipeline(steps=[('model',\n",
       "                 BaggingClassifier(base_estimator=RandomForestClassifier(),\n",
       "                                   random_state=4244))])"
      ]
     },
     "execution_count": 29,
     "metadata": {},
     "output_type": "execute_result"
    }
   ],
   "source": [
    "pipeline = Pipeline([('model', model_)])\n",
    "\n",
    "pipeline.fit(X_train_encoded, y_train.values.ravel())"
   ]
  },
  {
   "cell_type": "code",
   "execution_count": 30,
   "metadata": {},
   "outputs": [
    {
     "name": "stdout",
     "output_type": "stream",
     "text": [
      "Precision score: 0.627\n",
      "Accuracy Score:0.689\n",
      "Classification Report: \n",
      "                                              precision    recall  f1-score   support\n",
      "\n",
      "   Air Conditioner General Cleaning Service       0.74      0.80      0.77       221\n",
      "    Alternator Diagnosis / Component Repair       0.62      0.45      0.52        29\n",
      "                                     Brakes       0.64      0.65      0.64       315\n",
      "   Cooling Repair, charging and replacement       0.61      0.57      0.59       103\n",
      "                                     Engine       0.58      0.67      0.62       184\n",
      "         Ignition and fuel general services       0.55      0.44      0.49       188\n",
      "                  Radiator general services       0.60      0.56      0.58        70\n",
      "              Transmission general services       0.62      0.53      0.57        85\n",
      "                    Vacuum/Charging Service       0.57      0.56      0.56        72\n",
      "                         Valve Cover Gasket       0.48      0.54      0.50       108\n",
      "                              Wheel Bearing       0.57      0.54      0.56        46\n",
      "              change oil, lube and flushing       0.80      0.95      0.87       985\n",
      "                    clutch general services       0.68      0.83      0.75       196\n",
      "                complete vehicle inspection       0.78      0.61      0.68       553\n",
      "electrical general services and replacement       0.56      0.46      0.51       123\n",
      "               steering and wheel alignment       0.61      0.49      0.54       386\n",
      "                                 suspension       0.57      0.56      0.56       248\n",
      "           tire general services and repair       0.70      0.74      0.72       168\n",
      "\n",
      "                                   accuracy                           0.69      4080\n",
      "                                  macro avg       0.63      0.61      0.61      4080\n",
      "                               weighted avg       0.68      0.69      0.68      4080\n",
      "\n"
     ]
    }
   ],
   "source": [
    "y_pred = pipeline.predict(X_test_encoded)\n",
    "\n",
    "print(\"Precision score: {:.3f}\".format(precision_score(y_test,y_pred , average='macro')))\n",
    "print(\"Accuracy Score:{:.3f}\".format(accuracy_score(y_test, y_pred)))\n",
    "print(\"Classification Report: \\n\", classification_report(y_test, y_pred))"
   ]
  },
  {
   "cell_type": "code",
   "execution_count": 31,
   "metadata": {},
   "outputs": [],
   "source": [
    "# fig, ax = plt.subplots(figsize = (15,15))\n",
    "# plot_confusion_matrix(pipeline, X_test_encoded, y_test, ax = ax, cmap='Greys')\n",
    "# plt.xticks(rotation=90)"
   ]
  },
  {
   "cell_type": "markdown",
   "metadata": {},
   "source": [
    "# ExtraTreesClassifier"
   ]
  },
  {
   "cell_type": "code",
   "execution_count": 32,
   "metadata": {},
   "outputs": [],
   "source": [
    "model_ = ExtraTreesClassifier(random_state = 4244)"
   ]
  },
  {
   "cell_type": "code",
   "execution_count": 33,
   "metadata": {},
   "outputs": [
    {
     "data": {
      "text/plain": [
       "Pipeline(steps=[('model', ExtraTreesClassifier(random_state=4244))])"
      ]
     },
     "execution_count": 33,
     "metadata": {},
     "output_type": "execute_result"
    }
   ],
   "source": [
    "pipeline = Pipeline([('model', model_)])\n",
    "\n",
    "pipeline.fit(X_train_encoded, y_train.values.ravel())"
   ]
  },
  {
   "cell_type": "code",
   "execution_count": 34,
   "metadata": {},
   "outputs": [
    {
     "name": "stdout",
     "output_type": "stream",
     "text": [
      "Precision score: 0.643\n",
      "Accuracy Score:0.706\n",
      "Classification Report: \n",
      "                                              precision    recall  f1-score   support\n",
      "\n",
      "   Air Conditioner General Cleaning Service       0.70      0.84      0.76       221\n",
      "    Alternator Diagnosis / Component Repair       0.60      0.62      0.61        29\n",
      "                                     Brakes       0.62      0.69      0.65       315\n",
      "   Cooling Repair, charging and replacement       0.64      0.68      0.66       103\n",
      "                                     Engine       0.62      0.74      0.67       184\n",
      "         Ignition and fuel general services       0.60      0.53      0.56       188\n",
      "                  Radiator general services       0.60      0.59      0.59        70\n",
      "              Transmission general services       0.69      0.53      0.60        85\n",
      "                    Vacuum/Charging Service       0.51      0.56      0.53        72\n",
      "                         Valve Cover Gasket       0.52      0.49      0.51       108\n",
      "                              Wheel Bearing       0.61      0.65      0.63        46\n",
      "              change oil, lube and flushing       0.84      0.95      0.89       985\n",
      "                    clutch general services       0.68      0.83      0.75       196\n",
      "                complete vehicle inspection       0.80      0.61      0.69       553\n",
      "electrical general services and replacement       0.60      0.43      0.50       123\n",
      "               steering and wheel alignment       0.64      0.52      0.58       386\n",
      "                                 suspension       0.57      0.52      0.55       248\n",
      "           tire general services and repair       0.74      0.75      0.75       168\n",
      "\n",
      "                                   accuracy                           0.71      4080\n",
      "                                  macro avg       0.64      0.64      0.64      4080\n",
      "                               weighted avg       0.70      0.71      0.70      4080\n",
      "\n"
     ]
    }
   ],
   "source": [
    "y_pred = pipeline.predict(X_test_encoded)\n",
    "\n",
    "print(\"Precision score: {:.3f}\".format(precision_score(y_test,y_pred , average='macro')))\n",
    "print(\"Accuracy Score:{:.3f}\".format(accuracy_score(y_test, y_pred)))\n",
    "print(\"Classification Report: \\n\", classification_report(y_test, y_pred))"
   ]
  },
  {
   "cell_type": "code",
   "execution_count": 35,
   "metadata": {},
   "outputs": [],
   "source": [
    "# fig, ax = plt.subplots(figsize = (15,15))\n",
    "# plot_confusion_matrix(pipeline, X_test_encoded, y_test, ax = ax, cmap='Greys')\n",
    "# plt.xticks(rotation=90)"
   ]
  },
  {
   "cell_type": "markdown",
   "metadata": {},
   "source": [
    "# ExtraTreesClassifier with AdaBoostClassifier"
   ]
  },
  {
   "cell_type": "code",
   "execution_count": 36,
   "metadata": {},
   "outputs": [],
   "source": [
    "model_ = AdaBoostClassifier(base_estimator = ExtraTreesClassifier(), random_state = 4244)"
   ]
  },
  {
   "cell_type": "code",
   "execution_count": 37,
   "metadata": {},
   "outputs": [
    {
     "data": {
      "text/plain": [
       "Pipeline(steps=[('model',\n",
       "                 AdaBoostClassifier(base_estimator=ExtraTreesClassifier(),\n",
       "                                    random_state=4244))])"
      ]
     },
     "execution_count": 37,
     "metadata": {},
     "output_type": "execute_result"
    }
   ],
   "source": [
    "pipeline = Pipeline([('model', model_)])\n",
    "\n",
    "pipeline.fit(X_train_encoded, y_train.values.ravel())"
   ]
  },
  {
   "cell_type": "code",
   "execution_count": 38,
   "metadata": {},
   "outputs": [
    {
     "name": "stdout",
     "output_type": "stream",
     "text": [
      "Precision score: 0.640\n",
      "Accuracy Score:0.690\n",
      "Classification Report: \n",
      "                                              precision    recall  f1-score   support\n",
      "\n",
      "   Air Conditioner General Cleaning Service       0.72      0.77      0.75       221\n",
      "    Alternator Diagnosis / Component Repair       0.68      0.52      0.59        29\n",
      "                                     Brakes       0.62      0.66      0.64       315\n",
      "   Cooling Repair, charging and replacement       0.64      0.61      0.63       103\n",
      "                                     Engine       0.61      0.64      0.62       184\n",
      "         Ignition and fuel general services       0.53      0.51      0.52       188\n",
      "                  Radiator general services       0.61      0.49      0.54        70\n",
      "              Transmission general services       0.70      0.46      0.55        85\n",
      "                    Vacuum/Charging Service       0.60      0.51      0.55        72\n",
      "                         Valve Cover Gasket       0.49      0.54      0.51       108\n",
      "                              Wheel Bearing       0.63      0.57      0.60        46\n",
      "              change oil, lube and flushing       0.85      0.94      0.89       985\n",
      "                    clutch general services       0.72      0.80      0.76       196\n",
      "                complete vehicle inspection       0.73      0.63      0.68       553\n",
      "electrical general services and replacement       0.57      0.46      0.50       123\n",
      "               steering and wheel alignment       0.56      0.57      0.57       386\n",
      "                                 suspension       0.53      0.58      0.55       248\n",
      "           tire general services and repair       0.72      0.62      0.67       168\n",
      "\n",
      "                                   accuracy                           0.69      4080\n",
      "                                  macro avg       0.64      0.60      0.62      4080\n",
      "                               weighted avg       0.69      0.69      0.69      4080\n",
      "\n"
     ]
    }
   ],
   "source": [
    "y_pred = pipeline.predict(X_test_encoded)\n",
    "\n",
    "print(\"Precision score: {:.3f}\".format(precision_score(y_test,y_pred , average='macro')))\n",
    "print(\"Accuracy Score:{:.3f}\".format(accuracy_score(y_test, y_pred)))\n",
    "print(\"Classification Report: \\n\", classification_report(y_test, y_pred))"
   ]
  },
  {
   "cell_type": "code",
   "execution_count": 39,
   "metadata": {},
   "outputs": [],
   "source": [
    "# fig, ax = plt.subplots(figsize = (15,15))\n",
    "# plot_confusion_matrix(pipeline, X_test_encoded, y_test, ax = ax, cmap='Greys')\n",
    "# plt.xticks(rotation=90)"
   ]
  },
  {
   "cell_type": "markdown",
   "metadata": {},
   "source": [
    "# ExtraTreesClassifier with BaggingClassifier"
   ]
  },
  {
   "cell_type": "code",
   "execution_count": 40,
   "metadata": {},
   "outputs": [],
   "source": [
    "model_ = BaggingClassifier(base_estimator = ExtraTreesClassifier(), random_state = 4244)"
   ]
  },
  {
   "cell_type": "code",
   "execution_count": 41,
   "metadata": {},
   "outputs": [
    {
     "data": {
      "text/plain": [
       "Pipeline(steps=[('model',\n",
       "                 BaggingClassifier(base_estimator=ExtraTreesClassifier(),\n",
       "                                   random_state=4244))])"
      ]
     },
     "execution_count": 41,
     "metadata": {},
     "output_type": "execute_result"
    }
   ],
   "source": [
    "pipeline = Pipeline([('model', model_)])\n",
    "\n",
    "pipeline.fit(X_train_encoded, y_train.values.ravel())"
   ]
  },
  {
   "cell_type": "code",
   "execution_count": 42,
   "metadata": {},
   "outputs": [
    {
     "name": "stdout",
     "output_type": "stream",
     "text": [
      "Precision score: 0.645\n",
      "Accuracy Score:0.703\n",
      "Classification Report: \n",
      "                                              precision    recall  f1-score   support\n",
      "\n",
      "   Air Conditioner General Cleaning Service       0.74      0.81      0.77       221\n",
      "    Alternator Diagnosis / Component Repair       0.67      0.62      0.64        29\n",
      "                                     Brakes       0.64      0.67      0.66       315\n",
      "   Cooling Repair, charging and replacement       0.65      0.64      0.64       103\n",
      "                                     Engine       0.63      0.73      0.68       184\n",
      "         Ignition and fuel general services       0.57      0.48      0.52       188\n",
      "                  Radiator general services       0.61      0.57      0.59        70\n",
      "              Transmission general services       0.66      0.60      0.63        85\n",
      "                    Vacuum/Charging Service       0.56      0.56      0.56        72\n",
      "                         Valve Cover Gasket       0.51      0.55      0.53       108\n",
      "                              Wheel Bearing       0.60      0.63      0.62        46\n",
      "              change oil, lube and flushing       0.83      0.95      0.89       985\n",
      "                    clutch general services       0.70      0.82      0.76       196\n",
      "                complete vehicle inspection       0.78      0.62      0.69       553\n",
      "electrical general services and replacement       0.57      0.49      0.52       123\n",
      "               steering and wheel alignment       0.62      0.50      0.55       386\n",
      "                                 suspension       0.58      0.56      0.57       248\n",
      "           tire general services and repair       0.69      0.76      0.73       168\n",
      "\n",
      "                                   accuracy                           0.70      4080\n",
      "                                  macro avg       0.64      0.64      0.64      4080\n",
      "                               weighted avg       0.70      0.70      0.70      4080\n",
      "\n"
     ]
    }
   ],
   "source": [
    "y_pred = pipeline.predict(X_test_encoded)\n",
    "\n",
    "print(\"Precision score: {:.3f}\".format(precision_score(y_test,y_pred , average='macro')))\n",
    "print(\"Accuracy Score:{:.3f}\".format(accuracy_score(y_test, y_pred)))\n",
    "print(\"Classification Report: \\n\", classification_report(y_test, y_pred))"
   ]
  },
  {
   "cell_type": "code",
   "execution_count": 43,
   "metadata": {},
   "outputs": [],
   "source": [
    "# fig, ax = plt.subplots(figsize = (15,15))\n",
    "# plot_confusion_matrix(pipeline, X_test_encoded, y_test, ax = ax, cmap='Greys')\n",
    "# plt.xticks(rotation=90)"
   ]
  }
 ],
 "metadata": {
  "kernelspec": {
   "display_name": "Python 3",
   "language": "python",
   "name": "python3"
  },
  "language_info": {
   "codemirror_mode": {
    "name": "ipython",
    "version": 3
   },
   "file_extension": ".py",
   "mimetype": "text/x-python",
   "name": "python",
   "nbconvert_exporter": "python",
   "pygments_lexer": "ipython3",
   "version": "3.8.8"
  }
 },
 "nbformat": 4,
 "nbformat_minor": 4
}
