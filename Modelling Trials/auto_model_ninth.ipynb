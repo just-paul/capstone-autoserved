{
 "cells": [
  {
   "cell_type": "code",
   "execution_count": 1,
   "id": "described-building",
   "metadata": {},
   "outputs": [],
   "source": [
    "import pandas as pd\n",
    "import numpy as np \n",
    "import matplotlib.pyplot as plt\n",
    "import seaborn as sns\n",
    "\n",
    "from sklearn.model_selection import train_test_split, StratifiedKFold, GridSearchCV, RandomizedSearchCV\n",
    "from sklearn.ensemble import RandomForestClassifier, ExtraTreesClassifier, BaggingClassifier, AdaBoostClassifier, GradientBoostingClassifier \n",
    "from sklearn.metrics import accuracy_score, classification_report, plot_confusion_matrix, precision_score, roc_auc_score\n",
    "from sklearn.pipeline import Pipeline\n",
    "\n",
    "import category_encoders as ce"
   ]
  },
  {
   "cell_type": "code",
   "execution_count": 2,
   "id": "treated-nepal",
   "metadata": {},
   "outputs": [],
   "source": [
    "master_df = pd.read_csv('FINAL3.csv')"
   ]
  },
  {
   "cell_type": "code",
   "execution_count": 3,
   "id": "neither-michigan",
   "metadata": {},
   "outputs": [
    {
     "data": {
      "text/plain": [
       "4561"
      ]
     },
     "execution_count": 3,
     "metadata": {},
     "output_type": "execute_result"
    }
   ],
   "source": [
    "master_df['Work Order'].nunique()"
   ]
  },
  {
   "cell_type": "code",
   "execution_count": 4,
   "id": "received-supplement",
   "metadata": {},
   "outputs": [
    {
     "data": {
      "text/plain": [
       "Primary Key             0\n",
       "Created                 0\n",
       "Mileage In              0\n",
       "Work Order              0\n",
       "Model                   0\n",
       "Line Type               0\n",
       "Service Category        0\n",
       "Service Package        23\n",
       "Description             0\n",
       "Definition          21966\n",
       "Price                   0\n",
       "Quantity                0\n",
       "Total                   0\n",
       "Discount                0\n",
       "Net Total               0\n",
       "ContactID               0\n",
       "ServiceItemID           0\n",
       "InvoiceID               0\n",
       "labels                  0\n",
       "Make                    0\n",
       "Year                    0\n",
       "dtype: int64"
      ]
     },
     "execution_count": 4,
     "metadata": {},
     "output_type": "execute_result"
    }
   ],
   "source": [
    "master_df.isna().sum()"
   ]
  },
  {
   "cell_type": "code",
   "execution_count": 5,
   "id": "acceptable-salem",
   "metadata": {},
   "outputs": [
    {
     "data": {
      "text/plain": [
       "Oil, Lube & Preventive Maintenance Service                            23617\n",
       "Steering & Suspension                                                  3214\n",
       "Brakes                                                                 1820\n",
       "HVAC (Heating, Ventilation & Air Conditioning)                         1500\n",
       "Engine                                                                 1473\n",
       "Transmission & Clutch                                                  1416\n",
       "Cooling System                                                          853\n",
       "Tires & Wheels                                                          851\n",
       "Driveability (Fuel, Ignition & Emission Systems)                        811\n",
       "Electrical (Belts, Lighting, Starting & Charging Systems)               796\n",
       "Accessories (Gauges, Power Accessories, Vision & Air Bag)               445\n",
       "Drive Train (Final Drive, Transaxle, Differential & Transfer Case)      223\n",
       "Batteries                                                               199\n",
       "Car Detailing Services                                                  190\n",
       "Sublet & Towing                                                          79\n",
       "Counter / Cash Sale                                                      52\n",
       "Exhaust                                                                   9\n",
       "Name: Service Category, dtype: int64"
      ]
     },
     "execution_count": 5,
     "metadata": {},
     "output_type": "execute_result"
    }
   ],
   "source": [
    "master_df['Service Category'].value_counts()"
   ]
  },
  {
   "cell_type": "code",
   "execution_count": 6,
   "id": "outstanding-ballot",
   "metadata": {},
   "outputs": [],
   "source": [
    "master_df = master_df[master_df['Service Category'] != 'Accessories (Gauges, Power Accessories, Vision & Air Bag)']\n",
    "master_df = master_df[master_df['labels'] != 'Engine Detailing']"
   ]
  },
  {
   "cell_type": "code",
   "execution_count": 7,
   "id": "tough-least",
   "metadata": {},
   "outputs": [],
   "source": [
    "car_list = master_df['Make'].value_counts().to_frame()\n",
    "car_list = car_list[car_list['Make'] <= 100]\n",
    "car_list = list(car_list.index)\n",
    "\n",
    "master_df = master_df[~master_df['Make'].isin(car_list)]"
   ]
  },
  {
   "cell_type": "code",
   "execution_count": 8,
   "id": "celtic-dispatch",
   "metadata": {},
   "outputs": [],
   "source": [
    "label_list = master_df['labels'].value_counts().to_frame()\n",
    "label_list = label_list[label_list['labels'] <= 100]\n",
    "label_list = list(label_list.index)\n",
    "\n",
    "master_df = master_df[~master_df['labels'].isin(label_list)]"
   ]
  },
  {
   "cell_type": "code",
   "execution_count": 9,
   "id": "owned-power",
   "metadata": {},
   "outputs": [
    {
     "data": {
      "text/plain": [
       "preventive maintenance                                       15758\n",
       "change oil, lube and flushing                                 4924\n",
       "complete vehicle inspection                                   2766\n",
       "Brakes                                                        1575\n",
       "suspension                                                    1238\n",
       "wheel alignment                                                968\n",
       "steering                                                       962\n",
       "Engine                                                         918\n",
       "Air Conditioner General Cleaning Service                       808\n",
       "Mount, Install, & Balance                                      727\n",
       "Clutch General Service (Replacement of Clutch Components)      646\n",
       "Valve Cover Gasket                                             539\n",
       "Vacuum/Charging Service                                        362\n",
       "Clutch Repair                                                  294\n",
       "Drive Belt / Tensioner                                         289\n",
       "Transmission Fluid Replacement & Filter Service                272\n",
       "Replacement of Aux Fan Motor                                   236\n",
       "Wheel Bearing                                                  230\n",
       "Engine, Radiator Coolant / Hose                                223\n",
       "Ignition Coil Assembly / Spark Plugs                           181\n",
       "Lighting Service / Light bulb replacement                      178\n",
       "Fuel Filter / Air Filter                                       147\n",
       "Alternator Diagnosis / Component Repair                        146\n",
       "Battery Replacement                                            145\n",
       "Radiator Assembly                                              128\n",
       "Scan Computerized Engine Controls                              126\n",
       "Servicing of Drive Shaft                                       124\n",
       "EGR Valve Motor CLEANING                                       119\n",
       "Name: labels, dtype: int64"
      ]
     },
     "execution_count": 9,
     "metadata": {},
     "output_type": "execute_result"
    }
   ],
   "source": [
    "master_df['labels'].value_counts()"
   ]
  },
  {
   "cell_type": "code",
   "execution_count": 10,
   "id": "chemical-humanity",
   "metadata": {},
   "outputs": [],
   "source": [
    "# taking only the unique values\n",
    "\n",
    "master_df = master_df[['Work Order','Make','Model','Year','Mileage In','labels']]"
   ]
  },
  {
   "cell_type": "code",
   "execution_count": 11,
   "id": "active-dominant",
   "metadata": {},
   "outputs": [],
   "source": [
    "# to get only the unique values when sampling\n",
    "\n",
    "master_df = master_df.drop_duplicates()"
   ]
  },
  {
   "cell_type": "code",
   "execution_count": 12,
   "id": "accurate-columbia",
   "metadata": {},
   "outputs": [],
   "source": [
    "master_df['labels'] = master_df['labels'].apply(lambda x: x.lower())"
   ]
  },
  {
   "cell_type": "code",
   "execution_count": 13,
   "id": "younger-thanks",
   "metadata": {},
   "outputs": [],
   "source": [
    "master_df = master_df.reset_index().drop('index', axis = 'columns')"
   ]
  },
  {
   "cell_type": "code",
   "execution_count": 14,
   "id": "fantastic-calculation",
   "metadata": {},
   "outputs": [
    {
     "data": {
      "text/html": [
       "<div>\n",
       "<style scoped>\n",
       "    .dataframe tbody tr th:only-of-type {\n",
       "        vertical-align: middle;\n",
       "    }\n",
       "\n",
       "    .dataframe tbody tr th {\n",
       "        vertical-align: top;\n",
       "    }\n",
       "\n",
       "    .dataframe thead th {\n",
       "        text-align: right;\n",
       "    }\n",
       "</style>\n",
       "<table border=\"1\" class=\"dataframe\">\n",
       "  <thead>\n",
       "    <tr style=\"text-align: right;\">\n",
       "      <th></th>\n",
       "      <th>Work Order</th>\n",
       "      <th>Make</th>\n",
       "      <th>Model</th>\n",
       "      <th>Year</th>\n",
       "      <th>Mileage In</th>\n",
       "      <th>labels</th>\n",
       "    </tr>\n",
       "  </thead>\n",
       "  <tbody>\n",
       "    <tr>\n",
       "      <th>0</th>\n",
       "      <td>49</td>\n",
       "      <td>honda</td>\n",
       "      <td>civic</td>\n",
       "      <td>2012</td>\n",
       "      <td>33320</td>\n",
       "      <td>preventive maintenance</td>\n",
       "    </tr>\n",
       "    <tr>\n",
       "      <th>1</th>\n",
       "      <td>63</td>\n",
       "      <td>honda</td>\n",
       "      <td>city</td>\n",
       "      <td>2012</td>\n",
       "      <td>68598</td>\n",
       "      <td>preventive maintenance</td>\n",
       "    </tr>\n",
       "    <tr>\n",
       "      <th>2</th>\n",
       "      <td>33</td>\n",
       "      <td>hyundai</td>\n",
       "      <td>getz</td>\n",
       "      <td>2010</td>\n",
       "      <td>68624</td>\n",
       "      <td>engine</td>\n",
       "    </tr>\n",
       "    <tr>\n",
       "      <th>3</th>\n",
       "      <td>33</td>\n",
       "      <td>hyundai</td>\n",
       "      <td>getz</td>\n",
       "      <td>2010</td>\n",
       "      <td>68624</td>\n",
       "      <td>change oil, lube and flushing</td>\n",
       "    </tr>\n",
       "    <tr>\n",
       "      <th>4</th>\n",
       "      <td>36</td>\n",
       "      <td>hyundai</td>\n",
       "      <td>getz</td>\n",
       "      <td>2010</td>\n",
       "      <td>61548</td>\n",
       "      <td>engine</td>\n",
       "    </tr>\n",
       "    <tr>\n",
       "      <th>...</th>\n",
       "      <td>...</td>\n",
       "      <td>...</td>\n",
       "      <td>...</td>\n",
       "      <td>...</td>\n",
       "      <td>...</td>\n",
       "      <td>...</td>\n",
       "    </tr>\n",
       "    <tr>\n",
       "      <th>7923</th>\n",
       "      <td>2041</td>\n",
       "      <td>isuzu</td>\n",
       "      <td>sportivo</td>\n",
       "      <td>2013</td>\n",
       "      <td>71511</td>\n",
       "      <td>wheel alignment</td>\n",
       "    </tr>\n",
       "    <tr>\n",
       "      <th>7924</th>\n",
       "      <td>2292</td>\n",
       "      <td>mitsubishi</td>\n",
       "      <td>strada</td>\n",
       "      <td>2015</td>\n",
       "      <td>34068</td>\n",
       "      <td>egr valve motor cleaning</td>\n",
       "    </tr>\n",
       "    <tr>\n",
       "      <th>7925</th>\n",
       "      <td>2306</td>\n",
       "      <td>toyota</td>\n",
       "      <td>wigo</td>\n",
       "      <td>2019</td>\n",
       "      <td>24616</td>\n",
       "      <td>change oil, lube and flushing</td>\n",
       "    </tr>\n",
       "    <tr>\n",
       "      <th>7926</th>\n",
       "      <td>2308</td>\n",
       "      <td>mitsubishi</td>\n",
       "      <td>montero</td>\n",
       "      <td>2015</td>\n",
       "      <td>104214</td>\n",
       "      <td>brakes</td>\n",
       "    </tr>\n",
       "    <tr>\n",
       "      <th>7927</th>\n",
       "      <td>2141</td>\n",
       "      <td>toyota</td>\n",
       "      <td>rav4</td>\n",
       "      <td>2004</td>\n",
       "      <td>145542</td>\n",
       "      <td>air conditioner general cleaning service</td>\n",
       "    </tr>\n",
       "  </tbody>\n",
       "</table>\n",
       "<p>7928 rows × 6 columns</p>\n",
       "</div>"
      ],
      "text/plain": [
       "      Work Order        Make     Model  Year  Mileage In  \\\n",
       "0             49       honda     civic  2012       33320   \n",
       "1             63       honda      city  2012       68598   \n",
       "2             33     hyundai      getz  2010       68624   \n",
       "3             33     hyundai      getz  2010       68624   \n",
       "4             36     hyundai      getz  2010       61548   \n",
       "...          ...         ...       ...   ...         ...   \n",
       "7923        2041       isuzu  sportivo  2013       71511   \n",
       "7924        2292  mitsubishi    strada  2015       34068   \n",
       "7925        2306      toyota      wigo  2019       24616   \n",
       "7926        2308  mitsubishi   montero  2015      104214   \n",
       "7927        2141      toyota      rav4  2004      145542   \n",
       "\n",
       "                                        labels  \n",
       "0                       preventive maintenance  \n",
       "1                       preventive maintenance  \n",
       "2                                       engine  \n",
       "3                change oil, lube and flushing  \n",
       "4                                       engine  \n",
       "...                                        ...  \n",
       "7923                           wheel alignment  \n",
       "7924                  egr valve motor cleaning  \n",
       "7925             change oil, lube and flushing  \n",
       "7926                                    brakes  \n",
       "7927  air conditioner general cleaning service  \n",
       "\n",
       "[7928 rows x 6 columns]"
      ]
     },
     "execution_count": 14,
     "metadata": {},
     "output_type": "execute_result"
    }
   ],
   "source": [
    "master_df"
   ]
  },
  {
   "cell_type": "code",
   "execution_count": 15,
   "id": "finished-favor",
   "metadata": {},
   "outputs": [
    {
     "data": {
      "text/plain": [
       "preventive maintenance                                       1995\n",
       "complete vehicle inspection                                  1301\n",
       "change oil, lube and flushing                                 902\n",
       "wheel alignment                                               693\n",
       "brakes                                                        482\n",
       "suspension                                                    323\n",
       "steering                                                      263\n",
       "mount, install, & balance                                     229\n",
       "engine                                                        190\n",
       "valve cover gasket                                            148\n",
       "scan computerized engine controls                             118\n",
       "drive belt / tensioner                                        118\n",
       "battery replacement                                           115\n",
       "clutch general service (replacement of clutch components)     109\n",
       "vacuum/charging service                                       104\n",
       "air conditioner general cleaning service                       94\n",
       "fuel filter / air filter                                       89\n",
       "lighting service / light bulb replacement                      84\n",
       "ignition coil assembly / spark plugs                           82\n",
       "transmission fluid replacement & filter service                80\n",
       "replacement of aux fan motor                                   72\n",
       "engine, radiator coolant / hose                                71\n",
       "wheel bearing                                                  58\n",
       "alternator diagnosis / component repair                        56\n",
       "clutch repair                                                  44\n",
       "egr valve motor cleaning                                       40\n",
       "servicing of drive shaft                                       34\n",
       "radiator assembly                                              34\n",
       "Name: labels, dtype: int64"
      ]
     },
     "execution_count": 15,
     "metadata": {},
     "output_type": "execute_result"
    }
   ],
   "source": [
    "master_df['labels'].value_counts()"
   ]
  },
  {
   "cell_type": "code",
   "execution_count": 16,
   "id": "connected-roots",
   "metadata": {},
   "outputs": [],
   "source": [
    "# rebalancing all the labels\n",
    "\n",
    "# preventive maintenance\n",
    "preventive_maintenance = master_df[master_df['labels'] == 'preventive maintenance'].sample(n = 2000, replace = True, random_state = 4244)\n",
    "cvi = master_df[master_df['labels'] == 'complete vehicle inspection'].sample(n = 2000, replace = True, random_state = 4244)\n",
    "change_oil = master_df[master_df['labels'] == 'change oil, lube and flushing'].sample(n = 2000, replace = True, random_state = 4244)\n",
    "alignment = master_df[master_df['labels'] == 'wheel alignment'].sample(n=2000, replace = True, random_state = 4244)\n",
    "brakes = master_df[master_df['labels'] == 'brakes'].sample(n=2000, replace=True, random_state = 4244)\n",
    "suspension = master_df[master_df['labels'] == 'suspension'].sample(n=2000, replace = True, random_state = 4244)\n",
    "steering = master_df[master_df['labels'] == 'steering'].sample(n=2000, replace = True, random_state = 4244)\n",
    "mib = master_df[master_df['labels'] == 'mount, install, & balance'].sample(n=2000, replace = True, random_state=4244)\n",
    "engine = master_df[master_df['labels'] == 'engine'].sample(n=2000, replace = True, random_state=42444)\n",
    "valve_cover = master_df[master_df['labels'] == 'valve cover gasket'].sample(n=2000, replace = True, random_state=4244)\n",
    "scec = master_df[master_df['labels'] == 'scan computerized engine controls'].sample(n=2000, replace = True, random_state=4244)\n",
    "drive_belt = master_df[master_df['labels'] == 'drive belt / tensioner'].sample(n=2000, replace=True, random_state=4244)\n",
    "battery_replacement = master_df[master_df['labels'] == 'battery replacement'].sample(n=2000, replace=True, random_state=4244)\n",
    "clutch = master_df[master_df['labels'] == 'clutch general service (replacement of clutch components)'].sample(n=2000, replace = True, random_state = 4244)\n",
    "vacuum = master_df[master_df['labels'] == 'vacuum/charging service'].sample(n=2000, replace = True, random_state=4244)\n",
    "aircon = master_df[master_df['labels'] == 'air conditioner general cleaning service'].sample(n=2000, replace = True, random_state=4244)\n",
    "filter_fuel = master_df[master_df['labels'] == 'fuel filter / air filter'].sample(n=2000, replace=True, random_state=4244)\n",
    "lighting = master_df[master_df['labels'] == 'lighting service / light bulb replacement'].sample(n=2000, replace=True, random_state=4244)\n",
    "ignition = master_df[master_df['labels'] == 'ignition coil assembly / spark plugs'].sample(n=2000, replace=True, random_state=4244)\n",
    "transmission = master_df[master_df['labels'] == 'transmission fluid replacement & filter service'].sample(n=2000, replace=True, random_state=4244)\n",
    "aux_motor = master_df[master_df['labels'] == 'replacement of aux fan motor'].sample(n=2000, replace=True, random_state=4244)\n",
    "engine_coolant = master_df[master_df['labels'] == 'engine, radiator coolant / hose'].sample(n=2000, replace=True, random_state=4244)\n",
    "bearing = master_df[master_df['labels'] == 'wheel bearing'].sample(n=2000, replace=True, random_state=4244)\n",
    "alternator = master_df[master_df['labels'] == 'alternator diagnosis / component repair'].sample(n=2000, replace=True, random_state=4244)\n",
    "clutch_repair = master_df[master_df['labels'] == 'clutch repair'].sample(n=2000, replace=True, random_state=4244)\n",
    "egr = master_df[master_df['labels'] == 'egr valve motor cleaning'].sample(n=2000, replace=True, random_state=4244)\n",
    "drive_shaft = master_df[master_df['labels'] == 'servicing of drive shaft'].sample(n=2000, replace = True, random_state = 4244)\n",
    "rad_assembly = master_df[master_df['labels'] == 'radiator assembly'].sample(n=2000, replace=True, random_state=4244)"
   ]
  },
  {
   "cell_type": "code",
   "execution_count": 17,
   "id": "signal-surgeon",
   "metadata": {},
   "outputs": [],
   "source": [
    "new_df = pd.concat([preventive_maintenance, cvi, change_oil, alignment, brakes, suspension, steering, mib, engine, valve_cover, scec, drive_belt, battery_replacement, clutch, vacuum, aircon, filter_fuel, lighting, ignition, transmission, aux_motor, engine_coolant, bearing, alternator, clutch_repair, egr, drive_shaft, rad_assembly], axis = 0)"
   ]
  },
  {
   "cell_type": "code",
   "execution_count": 18,
   "id": "inner-heating",
   "metadata": {},
   "outputs": [
    {
     "data": {
      "text/plain": [
       "vacuum/charging service                                      2000\n",
       "transmission fluid replacement & filter service              2000\n",
       "engine                                                       2000\n",
       "drive belt / tensioner                                       2000\n",
       "lighting service / light bulb replacement                    2000\n",
       "battery replacement                                          2000\n",
       "engine, radiator coolant / hose                              2000\n",
       "fuel filter / air filter                                     2000\n",
       "ignition coil assembly / spark plugs                         2000\n",
       "egr valve motor cleaning                                     2000\n",
       "servicing of drive shaft                                     2000\n",
       "wheel alignment                                              2000\n",
       "steering                                                     2000\n",
       "radiator assembly                                            2000\n",
       "clutch repair                                                2000\n",
       "suspension                                                   2000\n",
       "brakes                                                       2000\n",
       "complete vehicle inspection                                  2000\n",
       "valve cover gasket                                           2000\n",
       "wheel bearing                                                2000\n",
       "scan computerized engine controls                            2000\n",
       "preventive maintenance                                       2000\n",
       "alternator diagnosis / component repair                      2000\n",
       "replacement of aux fan motor                                 2000\n",
       "mount, install, & balance                                    2000\n",
       "change oil, lube and flushing                                2000\n",
       "clutch general service (replacement of clutch components)    2000\n",
       "air conditioner general cleaning service                     2000\n",
       "Name: labels, dtype: int64"
      ]
     },
     "execution_count": 18,
     "metadata": {},
     "output_type": "execute_result"
    }
   ],
   "source": [
    "new_df = new_df[['Year','Make','Model','Mileage In','labels']]\n",
    "new_df['labels'].value_counts()"
   ]
  },
  {
   "cell_type": "code",
   "execution_count": 19,
   "id": "frequent-fraud",
   "metadata": {},
   "outputs": [],
   "source": [
    "# encoding \n",
    "\n",
    "X = new_df[['Year', 'Make', 'Model','Mileage In']]\n",
    "Y = new_df['labels']"
   ]
  },
  {
   "cell_type": "code",
   "execution_count": 20,
   "id": "trying-skating",
   "metadata": {},
   "outputs": [],
   "source": [
    "encoder = ce.BinaryEncoder(cols=['Year', 'Make', 'Model'], return_df = True)"
   ]
  },
  {
   "cell_type": "code",
   "execution_count": 21,
   "id": "varying-charles",
   "metadata": {},
   "outputs": [
    {
     "data": {
      "text/plain": [
       "BinaryEncoder(cols=['Year', 'Make', 'Model'])"
      ]
     },
     "execution_count": 21,
     "metadata": {},
     "output_type": "execute_result"
    }
   ],
   "source": [
    "encoder.fit(X)"
   ]
  },
  {
   "cell_type": "code",
   "execution_count": 22,
   "id": "pleased-guidance",
   "metadata": {},
   "outputs": [],
   "source": [
    "# train test splitting of the dataset\n",
    "\n",
    "x_train, x_test, y_train, y_test = train_test_split(X, Y, random_state = 4244, test_size = 0.20, stratify = Y)"
   ]
  },
  {
   "cell_type": "code",
   "execution_count": 23,
   "id": "chicken-bleeding",
   "metadata": {},
   "outputs": [],
   "source": [
    "X_train_encoded = encoder.transform(x_train)\n",
    "X_test_encoded = encoder.transform(x_test)"
   ]
  },
  {
   "cell_type": "code",
   "execution_count": 24,
   "id": "functional-resolution",
   "metadata": {},
   "outputs": [],
   "source": [
    "# using RandomForestClassifier\n",
    "model_ = RandomForestClassifier(n_jobs = 4)"
   ]
  },
  {
   "cell_type": "code",
   "execution_count": 25,
   "id": "wrapped-bedroom",
   "metadata": {},
   "outputs": [
    {
     "data": {
      "text/plain": [
       "RandomForestClassifier(n_jobs=4)"
      ]
     },
     "execution_count": 25,
     "metadata": {},
     "output_type": "execute_result"
    }
   ],
   "source": [
    "model_.fit(X_train_encoded, y_train)"
   ]
  },
  {
   "cell_type": "code",
   "execution_count": 26,
   "id": "familiar-sampling",
   "metadata": {},
   "outputs": [],
   "source": [
    "y_pred = model_.predict(X_test_encoded)"
   ]
  },
  {
   "cell_type": "code",
   "execution_count": 27,
   "id": "fixed-soundtrack",
   "metadata": {},
   "outputs": [
    {
     "name": "stdout",
     "output_type": "stream",
     "text": [
      "Precision score: 0.765\n",
      "Accuracy Score:0.763\n",
      "Classification Report: \n",
      "                                                            precision    recall  f1-score   support\n",
      "\n",
      "                 air conditioner general cleaning service       0.73      0.85      0.79       400\n",
      "                  alternator diagnosis / component repair       0.85      0.94      0.89       400\n",
      "                                      battery replacement       0.88      0.94      0.91       400\n",
      "                                                   brakes       0.75      0.57      0.64       400\n",
      "                            change oil, lube and flushing       0.82      0.72      0.77       400\n",
      "clutch general service (replacement of clutch components)       0.79      0.78      0.79       400\n",
      "                                            clutch repair       0.82      1.00      0.90       400\n",
      "                              complete vehicle inspection       0.80      0.49      0.61       400\n",
      "                                   drive belt / tensioner       0.71      0.63      0.67       400\n",
      "                                 egr valve motor cleaning       0.76      0.98      0.86       400\n",
      "                                                   engine       0.77      0.54      0.64       400\n",
      "                          engine, radiator coolant / hose       0.66      0.93      0.78       400\n",
      "                                 fuel filter / air filter       0.66      0.77      0.71       400\n",
      "                     ignition coil assembly / spark plugs       0.73      0.74      0.74       400\n",
      "                lighting service / light bulb replacement       0.77      0.80      0.78       400\n",
      "                                mount, install, & balance       0.84      0.85      0.85       400\n",
      "                                   preventive maintenance       0.80      0.49      0.61       400\n",
      "                                        radiator assembly       0.83      0.97      0.90       400\n",
      "                             replacement of aux fan motor       0.70      0.92      0.79       400\n",
      "                        scan computerized engine controls       0.90      0.82      0.85       400\n",
      "                                 servicing of drive shaft       0.74      1.00      0.85       400\n",
      "                                                 steering       0.59      0.54      0.56       400\n",
      "                                               suspension       0.64      0.47      0.54       400\n",
      "          transmission fluid replacement & filter service       0.72      0.78      0.74       400\n",
      "                                  vacuum/charging service       0.89      0.79      0.84       400\n",
      "                                       valve cover gasket       0.68      0.58      0.63       400\n",
      "                                          wheel alignment       0.76      0.53      0.62       400\n",
      "                                            wheel bearing       0.81      0.94      0.87       400\n",
      "\n",
      "                                                 accuracy                           0.76     11200\n",
      "                                                macro avg       0.76      0.76      0.75     11200\n",
      "                                             weighted avg       0.76      0.76      0.75     11200\n",
      "\n"
     ]
    }
   ],
   "source": [
    "print(\"Precision score: {:.3f}\".format(precision_score(y_test,y_pred , average='macro')))\n",
    "print(\"Accuracy Score:{:.3f}\".format(accuracy_score(y_test, y_pred)))\n",
    "print(\"Classification Report: \\n\", classification_report(y_test, y_pred))"
   ]
  },
  {
   "cell_type": "code",
   "execution_count": 28,
   "id": "published-newton",
   "metadata": {},
   "outputs": [],
   "source": [
    "# getting the optimum hyperparameter\n",
    "\n",
    "param1 = {\n",
    "    'n_estimators': [50, 100, 150, 200],\n",
    "    'criterion': ['gini','entropy'],\n",
    "    'max_depth': [5, 10, 15, 20, 25],\n",
    "    'max_features': ['auto', 'sqrt'],\n",
    "    'bootstrap': [True, False],\n",
    "    'min_samples_split': [2, 5, 10],\n",
    "    'min_samples_leaf' : [1, 2, 4]    \n",
    "}"
   ]
  },
  {
   "cell_type": "code",
   "execution_count": 29,
   "id": "athletic-wrapping",
   "metadata": {},
   "outputs": [],
   "source": [
    "grid_model = GridSearchCV(model_, param1, cv = 5)"
   ]
  },
  {
   "cell_type": "code",
   "execution_count": 30,
   "id": "retired-island",
   "metadata": {},
   "outputs": [
    {
     "data": {
      "text/plain": [
       "GridSearchCV(cv=5, estimator=RandomForestClassifier(n_jobs=4),\n",
       "             param_grid={'bootstrap': [True, False],\n",
       "                         'criterion': ['gini', 'entropy'],\n",
       "                         'max_depth': [5, 10, 15, 20, 25],\n",
       "                         'max_features': ['auto', 'sqrt'],\n",
       "                         'min_samples_leaf': [1, 2, 4],\n",
       "                         'min_samples_split': [2, 5, 10],\n",
       "                         'n_estimators': [50, 100, 150, 200]})"
      ]
     },
     "execution_count": 30,
     "metadata": {},
     "output_type": "execute_result"
    }
   ],
   "source": [
    "grid_model.fit(X_train_encoded, y_train)"
   ]
  },
  {
   "cell_type": "code",
   "execution_count": 31,
   "id": "embedded-borough",
   "metadata": {},
   "outputs": [
    {
     "name": "stdout",
     "output_type": "stream",
     "text": [
      "{'bootstrap': False, 'criterion': 'entropy', 'max_depth': 25, 'max_features': 'auto', 'min_samples_leaf': 1, 'min_samples_split': 2, 'n_estimators': 150}\n"
     ]
    }
   ],
   "source": [
    "print(grid_model.best_params_)"
   ]
  },
  {
   "cell_type": "code",
   "execution_count": 32,
   "id": "offensive-despite",
   "metadata": {},
   "outputs": [],
   "source": [
    "y_pred = grid_model.predict(X_test_encoded)"
   ]
  },
  {
   "cell_type": "code",
   "execution_count": 33,
   "id": "naughty-baseball",
   "metadata": {},
   "outputs": [
    {
     "name": "stdout",
     "output_type": "stream",
     "text": [
      "Precision score: 0.767\n",
      "Accuracy Score:0.765\n",
      "Classification Report: \n",
      "                                                            precision    recall  f1-score   support\n",
      "\n",
      "                 air conditioner general cleaning service       0.73      0.88      0.80       400\n",
      "                  alternator diagnosis / component repair       0.85      0.94      0.89       400\n",
      "                                      battery replacement       0.88      0.94      0.91       400\n",
      "                                                   brakes       0.74      0.59      0.65       400\n",
      "                            change oil, lube and flushing       0.80      0.74      0.77       400\n",
      "clutch general service (replacement of clutch components)       0.79      0.78      0.79       400\n",
      "                                            clutch repair       0.82      1.00      0.90       400\n",
      "                              complete vehicle inspection       0.80      0.49      0.61       400\n",
      "                                   drive belt / tensioner       0.71      0.65      0.68       400\n",
      "                                 egr valve motor cleaning       0.77      0.98      0.86       400\n",
      "                                                   engine       0.76      0.55      0.64       400\n",
      "                          engine, radiator coolant / hose       0.67      0.92      0.77       400\n",
      "                                 fuel filter / air filter       0.66      0.79      0.72       400\n",
      "                     ignition coil assembly / spark plugs       0.75      0.73      0.74       400\n",
      "                lighting service / light bulb replacement       0.77      0.80      0.78       400\n",
      "                                mount, install, & balance       0.84      0.86      0.85       400\n",
      "                                   preventive maintenance       0.81      0.49      0.61       400\n",
      "                                        radiator assembly       0.83      0.97      0.90       400\n",
      "                             replacement of aux fan motor       0.70      0.92      0.79       400\n",
      "                        scan computerized engine controls       0.90      0.82      0.86       400\n",
      "                                 servicing of drive shaft       0.74      1.00      0.85       400\n",
      "                                                 steering       0.59      0.55      0.57       400\n",
      "                                               suspension       0.68      0.47      0.55       400\n",
      "          transmission fluid replacement & filter service       0.72      0.78      0.74       400\n",
      "                                  vacuum/charging service       0.89      0.79      0.84       400\n",
      "                                       valve cover gasket       0.69      0.58      0.63       400\n",
      "                                          wheel alignment       0.79      0.49      0.61       400\n",
      "                                            wheel bearing       0.81      0.94      0.87       400\n",
      "\n",
      "                                                 accuracy                           0.76     11200\n",
      "                                                macro avg       0.77      0.76      0.76     11200\n",
      "                                             weighted avg       0.77      0.76      0.76     11200\n",
      "\n"
     ]
    }
   ],
   "source": [
    "print(\"Precision score: {:.3f}\".format(precision_score(y_test,y_pred , average='macro')))\n",
    "print(\"Accuracy Score:{:.3f}\".format(accuracy_score(y_test, y_pred)))\n",
    "print(\"Classification Report: \\n\", classification_report(y_test, y_pred))"
   ]
  },
  {
   "cell_type": "code",
   "execution_count": null,
   "id": "beautiful-profession",
   "metadata": {},
   "outputs": [],
   "source": []
  }
 ],
 "metadata": {
  "kernelspec": {
   "display_name": "Python 3",
   "language": "python",
   "name": "python3"
  },
  "language_info": {
   "codemirror_mode": {
    "name": "ipython",
    "version": 3
   },
   "file_extension": ".py",
   "mimetype": "text/x-python",
   "name": "python",
   "nbconvert_exporter": "python",
   "pygments_lexer": "ipython3",
   "version": "3.8.8"
  }
 },
 "nbformat": 4,
 "nbformat_minor": 5
}
