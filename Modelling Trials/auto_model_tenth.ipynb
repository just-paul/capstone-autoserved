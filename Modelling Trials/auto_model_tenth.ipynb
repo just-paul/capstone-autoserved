{
 "cells": [
  {
   "cell_type": "markdown",
   "id": "wooden-level",
   "metadata": {},
   "source": [
    "# Gradient Boosting Classifier Hyper Parameter Tuning using GridSearchCV"
   ]
  },
  {
   "cell_type": "code",
   "execution_count": 1,
   "id": "played-horizon",
   "metadata": {},
   "outputs": [],
   "source": [
    "import pandas as pd\n",
    "import numpy as np \n",
    "import matplotlib.pyplot as plt\n",
    "import seaborn as sns\n",
    "\n",
    "from sklearn.model_selection import train_test_split, StratifiedKFold, GridSearchCV, RandomizedSearchCV\n",
    "from sklearn.ensemble import RandomForestClassifier, ExtraTreesClassifier, BaggingClassifier, AdaBoostClassifier, GradientBoostingClassifier \n",
    "from sklearn.metrics import accuracy_score, classification_report, plot_confusion_matrix, precision_score, roc_auc_score\n",
    "from sklearn.pipeline import Pipeline\n",
    "\n",
    "import category_encoders as ce"
   ]
  },
  {
   "cell_type": "code",
   "execution_count": 2,
   "id": "lucky-discharge",
   "metadata": {},
   "outputs": [],
   "source": [
    "master_df = pd.read_csv('FINAL3.csv')"
   ]
  },
  {
   "cell_type": "code",
   "execution_count": 3,
   "id": "streaming-message",
   "metadata": {},
   "outputs": [
    {
     "data": {
      "text/plain": [
       "4561"
      ]
     },
     "execution_count": 3,
     "metadata": {},
     "output_type": "execute_result"
    }
   ],
   "source": [
    "master_df['Work Order'].nunique()"
   ]
  },
  {
   "cell_type": "code",
   "execution_count": 4,
   "id": "pointed-bread",
   "metadata": {},
   "outputs": [
    {
     "data": {
      "text/plain": [
       "Primary Key             0\n",
       "Created                 0\n",
       "Mileage In              0\n",
       "Work Order              0\n",
       "Model                   0\n",
       "Line Type               0\n",
       "Service Category        0\n",
       "Service Package        23\n",
       "Description             0\n",
       "Definition          21966\n",
       "Price                   0\n",
       "Quantity                0\n",
       "Total                   0\n",
       "Discount                0\n",
       "Net Total               0\n",
       "ContactID               0\n",
       "ServiceItemID           0\n",
       "InvoiceID               0\n",
       "labels                  0\n",
       "Make                    0\n",
       "Year                    0\n",
       "dtype: int64"
      ]
     },
     "execution_count": 4,
     "metadata": {},
     "output_type": "execute_result"
    }
   ],
   "source": [
    "master_df.isna().sum()"
   ]
  },
  {
   "cell_type": "code",
   "execution_count": 5,
   "id": "absolute-acrylic",
   "metadata": {},
   "outputs": [
    {
     "data": {
      "text/plain": [
       "Oil, Lube & Preventive Maintenance Service                            23617\n",
       "Steering & Suspension                                                  3214\n",
       "Brakes                                                                 1820\n",
       "HVAC (Heating, Ventilation & Air Conditioning)                         1500\n",
       "Engine                                                                 1473\n",
       "Transmission & Clutch                                                  1416\n",
       "Cooling System                                                          853\n",
       "Tires & Wheels                                                          851\n",
       "Driveability (Fuel, Ignition & Emission Systems)                        811\n",
       "Electrical (Belts, Lighting, Starting & Charging Systems)               796\n",
       "Accessories (Gauges, Power Accessories, Vision & Air Bag)               445\n",
       "Drive Train (Final Drive, Transaxle, Differential & Transfer Case)      223\n",
       "Batteries                                                               199\n",
       "Car Detailing Services                                                  190\n",
       "Sublet & Towing                                                          79\n",
       "Counter / Cash Sale                                                      52\n",
       "Exhaust                                                                   9\n",
       "Name: Service Category, dtype: int64"
      ]
     },
     "execution_count": 5,
     "metadata": {},
     "output_type": "execute_result"
    }
   ],
   "source": [
    "master_df['Service Category'].value_counts()"
   ]
  },
  {
   "cell_type": "code",
   "execution_count": 6,
   "id": "applied-origin",
   "metadata": {},
   "outputs": [],
   "source": [
    "master_df = master_df[master_df['Service Category'] != 'Accessories (Gauges, Power Accessories, Vision & Air Bag)']\n",
    "master_df = master_df[master_df['labels'] != 'Engine Detailing']"
   ]
  },
  {
   "cell_type": "code",
   "execution_count": 7,
   "id": "ethical-objective",
   "metadata": {},
   "outputs": [],
   "source": [
    "car_list = master_df['Make'].value_counts().to_frame()\n",
    "car_list = car_list[car_list['Make'] <= 100]\n",
    "car_list = list(car_list.index)\n",
    "\n",
    "master_df = master_df[~master_df['Make'].isin(car_list)]"
   ]
  },
  {
   "cell_type": "code",
   "execution_count": 8,
   "id": "southeast-tournament",
   "metadata": {},
   "outputs": [],
   "source": [
    "label_list = master_df['labels'].value_counts().to_frame()\n",
    "label_list = label_list[label_list['labels'] <= 100]\n",
    "label_list = list(label_list.index)\n",
    "\n",
    "master_df = master_df[~master_df['labels'].isin(label_list)]"
   ]
  },
  {
   "cell_type": "code",
   "execution_count": 9,
   "id": "aggregate-solomon",
   "metadata": {},
   "outputs": [
    {
     "data": {
      "text/plain": [
       "preventive maintenance                                       15758\n",
       "change oil, lube and flushing                                 4924\n",
       "complete vehicle inspection                                   2766\n",
       "Brakes                                                        1575\n",
       "suspension                                                    1238\n",
       "wheel alignment                                                968\n",
       "steering                                                       962\n",
       "Engine                                                         918\n",
       "Air Conditioner General Cleaning Service                       808\n",
       "Mount, Install, & Balance                                      727\n",
       "Clutch General Service (Replacement of Clutch Components)      646\n",
       "Valve Cover Gasket                                             539\n",
       "Vacuum/Charging Service                                        362\n",
       "Clutch Repair                                                  294\n",
       "Drive Belt / Tensioner                                         289\n",
       "Transmission Fluid Replacement & Filter Service                272\n",
       "Replacement of Aux Fan Motor                                   236\n",
       "Wheel Bearing                                                  230\n",
       "Engine, Radiator Coolant / Hose                                223\n",
       "Ignition Coil Assembly / Spark Plugs                           181\n",
       "Lighting Service / Light bulb replacement                      178\n",
       "Fuel Filter / Air Filter                                       147\n",
       "Alternator Diagnosis / Component Repair                        146\n",
       "Battery Replacement                                            145\n",
       "Radiator Assembly                                              128\n",
       "Scan Computerized Engine Controls                              126\n",
       "Servicing of Drive Shaft                                       124\n",
       "EGR Valve Motor CLEANING                                       119\n",
       "Name: labels, dtype: int64"
      ]
     },
     "execution_count": 9,
     "metadata": {},
     "output_type": "execute_result"
    }
   ],
   "source": [
    "master_df['labels'].value_counts()"
   ]
  },
  {
   "cell_type": "code",
   "execution_count": 10,
   "id": "owned-philosophy",
   "metadata": {},
   "outputs": [],
   "source": [
    "# taking only the unique values\n",
    "\n",
    "master_df = master_df[['Work Order','Make','Model','Year','Mileage In','labels']]"
   ]
  },
  {
   "cell_type": "code",
   "execution_count": 11,
   "id": "tired-persian",
   "metadata": {},
   "outputs": [],
   "source": [
    "# to get only the unique values when sampling\n",
    "\n",
    "master_df = master_df.drop_duplicates()"
   ]
  },
  {
   "cell_type": "code",
   "execution_count": 12,
   "id": "seeing-announcement",
   "metadata": {},
   "outputs": [],
   "source": [
    "master_df['labels'] = master_df['labels'].apply(lambda x: x.lower())"
   ]
  },
  {
   "cell_type": "code",
   "execution_count": 13,
   "id": "prospective-article",
   "metadata": {},
   "outputs": [],
   "source": [
    "master_df = master_df.reset_index().drop('index', axis = 'columns')"
   ]
  },
  {
   "cell_type": "code",
   "execution_count": 14,
   "id": "increasing-detroit",
   "metadata": {},
   "outputs": [
    {
     "data": {
      "text/html": [
       "<div>\n",
       "<style scoped>\n",
       "    .dataframe tbody tr th:only-of-type {\n",
       "        vertical-align: middle;\n",
       "    }\n",
       "\n",
       "    .dataframe tbody tr th {\n",
       "        vertical-align: top;\n",
       "    }\n",
       "\n",
       "    .dataframe thead th {\n",
       "        text-align: right;\n",
       "    }\n",
       "</style>\n",
       "<table border=\"1\" class=\"dataframe\">\n",
       "  <thead>\n",
       "    <tr style=\"text-align: right;\">\n",
       "      <th></th>\n",
       "      <th>Work Order</th>\n",
       "      <th>Make</th>\n",
       "      <th>Model</th>\n",
       "      <th>Year</th>\n",
       "      <th>Mileage In</th>\n",
       "      <th>labels</th>\n",
       "    </tr>\n",
       "  </thead>\n",
       "  <tbody>\n",
       "    <tr>\n",
       "      <th>0</th>\n",
       "      <td>49</td>\n",
       "      <td>honda</td>\n",
       "      <td>civic</td>\n",
       "      <td>2012</td>\n",
       "      <td>33320</td>\n",
       "      <td>preventive maintenance</td>\n",
       "    </tr>\n",
       "    <tr>\n",
       "      <th>1</th>\n",
       "      <td>63</td>\n",
       "      <td>honda</td>\n",
       "      <td>city</td>\n",
       "      <td>2012</td>\n",
       "      <td>68598</td>\n",
       "      <td>preventive maintenance</td>\n",
       "    </tr>\n",
       "    <tr>\n",
       "      <th>2</th>\n",
       "      <td>33</td>\n",
       "      <td>hyundai</td>\n",
       "      <td>getz</td>\n",
       "      <td>2010</td>\n",
       "      <td>68624</td>\n",
       "      <td>engine</td>\n",
       "    </tr>\n",
       "    <tr>\n",
       "      <th>3</th>\n",
       "      <td>33</td>\n",
       "      <td>hyundai</td>\n",
       "      <td>getz</td>\n",
       "      <td>2010</td>\n",
       "      <td>68624</td>\n",
       "      <td>change oil, lube and flushing</td>\n",
       "    </tr>\n",
       "    <tr>\n",
       "      <th>4</th>\n",
       "      <td>36</td>\n",
       "      <td>hyundai</td>\n",
       "      <td>getz</td>\n",
       "      <td>2010</td>\n",
       "      <td>61548</td>\n",
       "      <td>engine</td>\n",
       "    </tr>\n",
       "    <tr>\n",
       "      <th>...</th>\n",
       "      <td>...</td>\n",
       "      <td>...</td>\n",
       "      <td>...</td>\n",
       "      <td>...</td>\n",
       "      <td>...</td>\n",
       "      <td>...</td>\n",
       "    </tr>\n",
       "    <tr>\n",
       "      <th>7923</th>\n",
       "      <td>2041</td>\n",
       "      <td>isuzu</td>\n",
       "      <td>sportivo</td>\n",
       "      <td>2013</td>\n",
       "      <td>71511</td>\n",
       "      <td>wheel alignment</td>\n",
       "    </tr>\n",
       "    <tr>\n",
       "      <th>7924</th>\n",
       "      <td>2292</td>\n",
       "      <td>mitsubishi</td>\n",
       "      <td>strada</td>\n",
       "      <td>2015</td>\n",
       "      <td>34068</td>\n",
       "      <td>egr valve motor cleaning</td>\n",
       "    </tr>\n",
       "    <tr>\n",
       "      <th>7925</th>\n",
       "      <td>2306</td>\n",
       "      <td>toyota</td>\n",
       "      <td>wigo</td>\n",
       "      <td>2019</td>\n",
       "      <td>24616</td>\n",
       "      <td>change oil, lube and flushing</td>\n",
       "    </tr>\n",
       "    <tr>\n",
       "      <th>7926</th>\n",
       "      <td>2308</td>\n",
       "      <td>mitsubishi</td>\n",
       "      <td>montero</td>\n",
       "      <td>2015</td>\n",
       "      <td>104214</td>\n",
       "      <td>brakes</td>\n",
       "    </tr>\n",
       "    <tr>\n",
       "      <th>7927</th>\n",
       "      <td>2141</td>\n",
       "      <td>toyota</td>\n",
       "      <td>rav4</td>\n",
       "      <td>2004</td>\n",
       "      <td>145542</td>\n",
       "      <td>air conditioner general cleaning service</td>\n",
       "    </tr>\n",
       "  </tbody>\n",
       "</table>\n",
       "<p>7928 rows × 6 columns</p>\n",
       "</div>"
      ],
      "text/plain": [
       "      Work Order        Make     Model  Year  Mileage In  \\\n",
       "0             49       honda     civic  2012       33320   \n",
       "1             63       honda      city  2012       68598   \n",
       "2             33     hyundai      getz  2010       68624   \n",
       "3             33     hyundai      getz  2010       68624   \n",
       "4             36     hyundai      getz  2010       61548   \n",
       "...          ...         ...       ...   ...         ...   \n",
       "7923        2041       isuzu  sportivo  2013       71511   \n",
       "7924        2292  mitsubishi    strada  2015       34068   \n",
       "7925        2306      toyota      wigo  2019       24616   \n",
       "7926        2308  mitsubishi   montero  2015      104214   \n",
       "7927        2141      toyota      rav4  2004      145542   \n",
       "\n",
       "                                        labels  \n",
       "0                       preventive maintenance  \n",
       "1                       preventive maintenance  \n",
       "2                                       engine  \n",
       "3                change oil, lube and flushing  \n",
       "4                                       engine  \n",
       "...                                        ...  \n",
       "7923                           wheel alignment  \n",
       "7924                  egr valve motor cleaning  \n",
       "7925             change oil, lube and flushing  \n",
       "7926                                    brakes  \n",
       "7927  air conditioner general cleaning service  \n",
       "\n",
       "[7928 rows x 6 columns]"
      ]
     },
     "execution_count": 14,
     "metadata": {},
     "output_type": "execute_result"
    }
   ],
   "source": [
    "master_df"
   ]
  },
  {
   "cell_type": "code",
   "execution_count": 15,
   "id": "bright-giant",
   "metadata": {},
   "outputs": [
    {
     "data": {
      "text/plain": [
       "preventive maintenance                                       1995\n",
       "complete vehicle inspection                                  1301\n",
       "change oil, lube and flushing                                 902\n",
       "wheel alignment                                               693\n",
       "brakes                                                        482\n",
       "suspension                                                    323\n",
       "steering                                                      263\n",
       "mount, install, & balance                                     229\n",
       "engine                                                        190\n",
       "valve cover gasket                                            148\n",
       "scan computerized engine controls                             118\n",
       "drive belt / tensioner                                        118\n",
       "battery replacement                                           115\n",
       "clutch general service (replacement of clutch components)     109\n",
       "vacuum/charging service                                       104\n",
       "air conditioner general cleaning service                       94\n",
       "fuel filter / air filter                                       89\n",
       "lighting service / light bulb replacement                      84\n",
       "ignition coil assembly / spark plugs                           82\n",
       "transmission fluid replacement & filter service                80\n",
       "replacement of aux fan motor                                   72\n",
       "engine, radiator coolant / hose                                71\n",
       "wheel bearing                                                  58\n",
       "alternator diagnosis / component repair                        56\n",
       "clutch repair                                                  44\n",
       "egr valve motor cleaning                                       40\n",
       "radiator assembly                                              34\n",
       "servicing of drive shaft                                       34\n",
       "Name: labels, dtype: int64"
      ]
     },
     "execution_count": 15,
     "metadata": {},
     "output_type": "execute_result"
    }
   ],
   "source": [
    "master_df['labels'].value_counts()"
   ]
  },
  {
   "cell_type": "code",
   "execution_count": 16,
   "id": "infectious-function",
   "metadata": {},
   "outputs": [],
   "source": [
    "# rebalancing all the labels\n",
    "\n",
    "# preventive maintenance\n",
    "preventive_maintenance = master_df[master_df['labels'] == 'preventive maintenance'].sample(n = 1000, replace = True, random_state = 4244)\n",
    "cvi = master_df[master_df['labels'] == 'complete vehicle inspection'].sample(n = 1000, replace = True, random_state = 4244)\n",
    "change_oil = master_df[master_df['labels'] == 'change oil, lube and flushing'].sample(n = 1000, replace = True, random_state = 4244)\n",
    "alignment = master_df[master_df['labels'] == 'wheel alignment'].sample(n=1000, replace = True, random_state = 4244)\n",
    "brakes = master_df[master_df['labels'] == 'brakes'].sample(n=1000, replace=True, random_state = 4244)\n",
    "suspension = master_df[master_df['labels'] == 'suspension'].sample(n=1000, replace = True, random_state = 4244)\n",
    "steering = master_df[master_df['labels'] == 'steering'].sample(n=1000, replace = True, random_state = 4244)\n",
    "mib = master_df[master_df['labels'] == 'mount, install, & balance'].sample(n=1000, replace = True, random_state=4244)\n",
    "engine = master_df[master_df['labels'] == 'engine'].sample(n=1000, replace = True, random_state=42444)\n",
    "valve_cover = master_df[master_df['labels'] == 'valve cover gasket'].sample(n=1000, replace = True, random_state=4244)\n",
    "scec = master_df[master_df['labels'] == 'scan computerized engine controls'].sample(n=1000, replace = True, random_state=4244)\n",
    "drive_belt = master_df[master_df['labels'] == 'drive belt / tensioner'].sample(n=1000, replace=True, random_state=4244)\n",
    "battery_replacement = master_df[master_df['labels'] == 'battery replacement'].sample(n=1000, replace=True, random_state=4244)\n",
    "clutch = master_df[master_df['labels'] == 'clutch general service (replacement of clutch components)'].sample(n=1000, replace = True, random_state = 4244)\n",
    "vacuum = master_df[master_df['labels'] == 'vacuum/charging service'].sample(n=1000, replace = True, random_state=4244)\n",
    "aircon = master_df[master_df['labels'] == 'air conditioner general cleaning service'].sample(n=1000, replace = True, random_state=4244)\n",
    "filter_fuel = master_df[master_df['labels'] == 'fuel filter / air filter'].sample(n=1000, replace=True, random_state=4244)\n",
    "lighting = master_df[master_df['labels'] == 'lighting service / light bulb replacement'].sample(n=1000, replace=True, random_state=4244)\n",
    "ignition = master_df[master_df['labels'] == 'ignition coil assembly / spark plugs'].sample(n=1000, replace=True, random_state=4244)\n",
    "transmission = master_df[master_df['labels'] == 'transmission fluid replacement & filter service'].sample(n=1000, replace=True, random_state=4244)\n",
    "aux_motor = master_df[master_df['labels'] == 'replacement of aux fan motor'].sample(n=1000, replace=True, random_state=4244)\n",
    "engine_coolant = master_df[master_df['labels'] == 'engine, radiator coolant / hose'].sample(n=1000, replace=True, random_state=4244)\n",
    "bearing = master_df[master_df['labels'] == 'wheel bearing'].sample(n=1000, replace=True, random_state=4244)\n",
    "alternator = master_df[master_df['labels'] == 'alternator diagnosis / component repair'].sample(n=1000, replace=True, random_state=4244)\n",
    "clutch_repair = master_df[master_df['labels'] == 'clutch repair'].sample(n=1000, replace=True, random_state=4244)\n",
    "egr = master_df[master_df['labels'] == 'egr valve motor cleaning'].sample(n=1000, replace=True, random_state=4244)\n",
    "drive_shaft = master_df[master_df['labels'] == 'servicing of drive shaft'].sample(n=1000, replace = True, random_state = 4244)\n",
    "rad_assembly = master_df[master_df['labels'] == 'radiator assembly'].sample(n=1000, replace=True, random_state=4244)"
   ]
  },
  {
   "cell_type": "code",
   "execution_count": 17,
   "id": "shared-ordinary",
   "metadata": {},
   "outputs": [],
   "source": [
    "new_df = pd.concat([preventive_maintenance, cvi, change_oil, alignment, brakes, suspension, steering, mib, engine, valve_cover, scec, drive_belt, battery_replacement, clutch, vacuum, aircon, filter_fuel, lighting, ignition, transmission, aux_motor, engine_coolant, bearing, alternator, clutch_repair, egr, drive_shaft, rad_assembly], axis = 0)"
   ]
  },
  {
   "cell_type": "code",
   "execution_count": 18,
   "id": "determined-exception",
   "metadata": {},
   "outputs": [
    {
     "data": {
      "text/plain": [
       "steering                                                     1000\n",
       "drive belt / tensioner                                       1000\n",
       "servicing of drive shaft                                     1000\n",
       "engine, radiator coolant / hose                              1000\n",
       "brakes                                                       1000\n",
       "replacement of aux fan motor                                 1000\n",
       "wheel alignment                                              1000\n",
       "transmission fluid replacement & filter service              1000\n",
       "clutch repair                                                1000\n",
       "clutch general service (replacement of clutch components)    1000\n",
       "fuel filter / air filter                                     1000\n",
       "engine                                                       1000\n",
       "battery replacement                                          1000\n",
       "air conditioner general cleaning service                     1000\n",
       "suspension                                                   1000\n",
       "egr valve motor cleaning                                     1000\n",
       "change oil, lube and flushing                                1000\n",
       "mount, install, & balance                                    1000\n",
       "scan computerized engine controls                            1000\n",
       "complete vehicle inspection                                  1000\n",
       "lighting service / light bulb replacement                    1000\n",
       "wheel bearing                                                1000\n",
       "alternator diagnosis / component repair                      1000\n",
       "vacuum/charging service                                      1000\n",
       "radiator assembly                                            1000\n",
       "valve cover gasket                                           1000\n",
       "preventive maintenance                                       1000\n",
       "ignition coil assembly / spark plugs                         1000\n",
       "Name: labels, dtype: int64"
      ]
     },
     "execution_count": 18,
     "metadata": {},
     "output_type": "execute_result"
    }
   ],
   "source": [
    "new_df = new_df[['Year','Make','Model','Mileage In','labels']]\n",
    "new_df['labels'].value_counts()"
   ]
  },
  {
   "cell_type": "code",
   "execution_count": 19,
   "id": "minus-device",
   "metadata": {},
   "outputs": [],
   "source": [
    "# encoding \n",
    "\n",
    "X = new_df[['Year', 'Make', 'Model','Mileage In']]\n",
    "Y = new_df['labels']"
   ]
  },
  {
   "cell_type": "code",
   "execution_count": 20,
   "id": "finished-exception",
   "metadata": {},
   "outputs": [],
   "source": [
    "encoder = ce.BinaryEncoder(cols=['Year', 'Make', 'Model'], return_df = True)"
   ]
  },
  {
   "cell_type": "code",
   "execution_count": 21,
   "id": "musical-suite",
   "metadata": {},
   "outputs": [
    {
     "data": {
      "text/plain": [
       "BinaryEncoder(cols=['Year', 'Make', 'Model'])"
      ]
     },
     "execution_count": 21,
     "metadata": {},
     "output_type": "execute_result"
    }
   ],
   "source": [
    "encoder.fit(X)"
   ]
  },
  {
   "cell_type": "code",
   "execution_count": 22,
   "id": "private-bridal",
   "metadata": {},
   "outputs": [],
   "source": [
    "# train test splitting of the dataset\n",
    "\n",
    "x_train, x_test, y_train, y_test = train_test_split(X, Y, random_state = 4244, test_size = 0.20, stratify = Y)"
   ]
  },
  {
   "cell_type": "code",
   "execution_count": 23,
   "id": "equal-breach",
   "metadata": {},
   "outputs": [],
   "source": [
    "X_train_encoded = encoder.transform(x_train)\n",
    "X_test_encoded = encoder.transform(x_test)"
   ]
  },
  {
   "cell_type": "code",
   "execution_count": 24,
   "id": "finite-decade",
   "metadata": {},
   "outputs": [],
   "source": [
    "# using RandomForestClassifier\n",
    "model_ = RandomForestClassifier(n_jobs = 4)"
   ]
  },
  {
   "cell_type": "code",
   "execution_count": 25,
   "id": "surprising-assessment",
   "metadata": {},
   "outputs": [
    {
     "data": {
      "text/plain": [
       "RandomForestClassifier(n_jobs=4)"
      ]
     },
     "execution_count": 25,
     "metadata": {},
     "output_type": "execute_result"
    }
   ],
   "source": [
    "model_.fit(X_train_encoded, y_train)"
   ]
  },
  {
   "cell_type": "code",
   "execution_count": 26,
   "id": "interracial-christmas",
   "metadata": {},
   "outputs": [],
   "source": [
    "y_pred = model_.predict(X_test_encoded)"
   ]
  },
  {
   "cell_type": "code",
   "execution_count": 27,
   "id": "adjacent-glenn",
   "metadata": {},
   "outputs": [
    {
     "name": "stdout",
     "output_type": "stream",
     "text": [
      "Precision score: 0.722\n",
      "Accuracy Score:0.731\n",
      "Classification Report: \n",
      "                                                            precision    recall  f1-score   support\n",
      "\n",
      "                 air conditioner general cleaning service       0.82      0.82      0.82       200\n",
      "                  alternator diagnosis / component repair       0.79      0.97      0.87       200\n",
      "                                      battery replacement       0.90      0.92      0.91       200\n",
      "                                                   brakes       0.69      0.47      0.56       200\n",
      "                            change oil, lube and flushing       0.69      0.59      0.64       200\n",
      "clutch general service (replacement of clutch components)       0.77      0.80      0.78       200\n",
      "                                            clutch repair       0.85      1.00      0.92       200\n",
      "                              complete vehicle inspection       0.62      0.36      0.46       200\n",
      "                                   drive belt / tensioner       0.65      0.66      0.65       200\n",
      "                                 egr valve motor cleaning       0.73      0.97      0.84       200\n",
      "                                                   engine       0.67      0.56      0.61       200\n",
      "                          engine, radiator coolant / hose       0.67      0.84      0.74       200\n",
      "                                 fuel filter / air filter       0.70      0.69      0.70       200\n",
      "                     ignition coil assembly / spark plugs       0.69      0.78      0.73       200\n",
      "                lighting service / light bulb replacement       0.77      0.77      0.77       200\n",
      "                                mount, install, & balance       0.78      0.82      0.80       200\n",
      "                                   preventive maintenance       0.64      0.39      0.48       200\n",
      "                                        radiator assembly       0.81      1.00      0.89       200\n",
      "                             replacement of aux fan motor       0.69      0.86      0.77       200\n",
      "                        scan computerized engine controls       0.88      0.82      0.85       200\n",
      "                                 servicing of drive shaft       0.73      0.93      0.82       200\n",
      "                                                 steering       0.61      0.46      0.52       200\n",
      "                                               suspension       0.53      0.44      0.48       200\n",
      "          transmission fluid replacement & filter service       0.72      0.78      0.75       200\n",
      "                                  vacuum/charging service       0.79      0.82      0.81       200\n",
      "                                       valve cover gasket       0.68      0.59      0.63       200\n",
      "                                          wheel alignment       0.60      0.41      0.48       200\n",
      "                                            wheel bearing       0.75      0.95      0.84       200\n",
      "\n",
      "                                                 accuracy                           0.73      5600\n",
      "                                                macro avg       0.72      0.73      0.72      5600\n",
      "                                             weighted avg       0.72      0.73      0.72      5600\n",
      "\n"
     ]
    }
   ],
   "source": [
    "print(\"Precision score: {:.3f}\".format(precision_score(y_test,y_pred , average='macro')))\n",
    "print(\"Accuracy Score:{:.3f}\".format(accuracy_score(y_test, y_pred)))\n",
    "print(\"Classification Report: \\n\", classification_report(y_test, y_pred))"
   ]
  },
  {
   "cell_type": "code",
   "execution_count": 28,
   "id": "leading-failure",
   "metadata": {},
   "outputs": [],
   "source": [
    "# getting the optimum hyperparameter\n",
    "\n",
    "param1 = {\n",
    "    'n_estimators': [50, 100, 150, 200],\n",
    "    'criterion': ['gini','entropy'],\n",
    "    'max_depth': [5, 10, 15, 20, 25],\n",
    "    'max_features': ['auto', 'sqrt'],\n",
    "    'bootstrap': [True, False],\n",
    "    'min_samples_split': [2, 5, 10],\n",
    "    'min_samples_leaf' : [1, 2, 4]    \n",
    "}"
   ]
  },
  {
   "cell_type": "code",
   "execution_count": 29,
   "id": "peaceful-natural",
   "metadata": {},
   "outputs": [],
   "source": [
    "grid_model = GridSearchCV(model_, param1, cv = 5)"
   ]
  },
  {
   "cell_type": "code",
   "execution_count": 30,
   "id": "neutral-marketing",
   "metadata": {},
   "outputs": [
    {
     "data": {
      "text/plain": [
       "GridSearchCV(cv=5, estimator=RandomForestClassifier(n_jobs=4),\n",
       "             param_grid={'bootstrap': [True, False],\n",
       "                         'criterion': ['gini', 'entropy'],\n",
       "                         'max_depth': [5, 10, 15, 20, 25],\n",
       "                         'max_features': ['auto', 'sqrt'],\n",
       "                         'min_samples_leaf': [1, 2, 4],\n",
       "                         'min_samples_split': [2, 5, 10],\n",
       "                         'n_estimators': [50, 100, 150, 200]})"
      ]
     },
     "execution_count": 30,
     "metadata": {},
     "output_type": "execute_result"
    }
   ],
   "source": [
    "grid_model.fit(X_train_encoded, y_train)"
   ]
  },
  {
   "cell_type": "code",
   "execution_count": 31,
   "id": "planned-guitar",
   "metadata": {},
   "outputs": [
    {
     "name": "stdout",
     "output_type": "stream",
     "text": [
      "{'bootstrap': False, 'criterion': 'entropy', 'max_depth': 25, 'max_features': 'sqrt', 'min_samples_leaf': 1, 'min_samples_split': 2, 'n_estimators': 50}\n"
     ]
    }
   ],
   "source": [
    "print(grid_model.best_params_)"
   ]
  },
  {
   "cell_type": "code",
   "execution_count": 32,
   "id": "horizontal-classification",
   "metadata": {},
   "outputs": [],
   "source": [
    "y_pred = grid_model.predict(X_test_encoded)"
   ]
  },
  {
   "cell_type": "code",
   "execution_count": 33,
   "id": "herbal-judgment",
   "metadata": {},
   "outputs": [
    {
     "name": "stdout",
     "output_type": "stream",
     "text": [
      "Precision score: 0.723\n",
      "Accuracy Score:0.732\n",
      "Classification Report: \n",
      "                                                            precision    recall  f1-score   support\n",
      "\n",
      "                 air conditioner general cleaning service       0.81      0.84      0.83       200\n",
      "                  alternator diagnosis / component repair       0.79      0.98      0.88       200\n",
      "                                      battery replacement       0.90      0.92      0.91       200\n",
      "                                                   brakes       0.69      0.51      0.59       200\n",
      "                            change oil, lube and flushing       0.69      0.61      0.65       200\n",
      "clutch general service (replacement of clutch components)       0.77      0.80      0.78       200\n",
      "                                            clutch repair       0.85      1.00      0.92       200\n",
      "                              complete vehicle inspection       0.61      0.38      0.46       200\n",
      "                                   drive belt / tensioner       0.65      0.66      0.65       200\n",
      "                                 egr valve motor cleaning       0.73      0.97      0.84       200\n",
      "                                                   engine       0.65      0.57      0.61       200\n",
      "                          engine, radiator coolant / hose       0.67      0.89      0.76       200\n",
      "                                 fuel filter / air filter       0.69      0.70      0.70       200\n",
      "                     ignition coil assembly / spark plugs       0.67      0.79      0.72       200\n",
      "                lighting service / light bulb replacement       0.80      0.74      0.77       200\n",
      "                                mount, install, & balance       0.79      0.83      0.81       200\n",
      "                                   preventive maintenance       0.63      0.38      0.48       200\n",
      "                                        radiator assembly       0.81      1.00      0.89       200\n",
      "                             replacement of aux fan motor       0.71      0.83      0.76       200\n",
      "                        scan computerized engine controls       0.89      0.82      0.85       200\n",
      "                                 servicing of drive shaft       0.73      0.93      0.82       200\n",
      "                                                 steering       0.59      0.47      0.53       200\n",
      "                                               suspension       0.54      0.42      0.48       200\n",
      "          transmission fluid replacement & filter service       0.73      0.77      0.74       200\n",
      "                                  vacuum/charging service       0.79      0.81      0.80       200\n",
      "                                       valve cover gasket       0.70      0.56      0.63       200\n",
      "                                          wheel alignment       0.61      0.38      0.47       200\n",
      "                                            wheel bearing       0.75      0.95      0.84       200\n",
      "\n",
      "                                                 accuracy                           0.73      5600\n",
      "                                                macro avg       0.72      0.73      0.72      5600\n",
      "                                             weighted avg       0.72      0.73      0.72      5600\n",
      "\n"
     ]
    }
   ],
   "source": [
    "print(\"Precision score: {:.3f}\".format(precision_score(y_test,y_pred , average='macro')))\n",
    "print(\"Accuracy Score:{:.3f}\".format(accuracy_score(y_test, y_pred)))\n",
    "print(\"Classification Report: \\n\", classification_report(y_test, y_pred))"
   ]
  },
  {
   "cell_type": "code",
   "execution_count": null,
   "id": "encouraging-preservation",
   "metadata": {},
   "outputs": [],
   "source": []
  }
 ],
 "metadata": {
  "kernelspec": {
   "display_name": "Python 3",
   "language": "python",
   "name": "python3"
  },
  "language_info": {
   "codemirror_mode": {
    "name": "ipython",
    "version": 3
   },
   "file_extension": ".py",
   "mimetype": "text/x-python",
   "name": "python",
   "nbconvert_exporter": "python",
   "pygments_lexer": "ipython3",
   "version": "3.8.8"
  }
 },
 "nbformat": 4,
 "nbformat_minor": 5
}
