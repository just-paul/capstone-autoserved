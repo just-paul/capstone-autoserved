{
 "cells": [
  {
   "cell_type": "code",
   "execution_count": 39,
   "id": "worldwide-mayor",
   "metadata": {},
   "outputs": [],
   "source": [
    "import pandas as pd\n",
    "import numpy as np \n",
    "import matplotlib.pyplot as plt\n",
    "import seaborn as sns\n",
    "\n",
    "from sklearn.model_selection import train_test_split, StratifiedKFold, GridSearchCV, RandomizedSearchCV, cross_val_score, cross_val_predict\n",
    "from sklearn.ensemble import RandomForestClassifier, ExtraTreesClassifier, BaggingClassifier, AdaBoostClassifier, GradientBoostingClassifier \n",
    "from sklearn.metrics import accuracy_score, classification_report, plot_confusion_matrix, precision_score, roc_auc_score, confusion_matrix\n",
    "from sklearn.pipeline import Pipeline\n",
    "\n",
    "import category_encoders as ce"
   ]
  },
  {
   "cell_type": "code",
   "execution_count": 40,
   "id": "complicated-snowboard",
   "metadata": {},
   "outputs": [],
   "source": [
    "master_df = pd.read_csv('FINAL3.csv')"
   ]
  },
  {
   "cell_type": "code",
   "execution_count": 41,
   "id": "demographic-editing",
   "metadata": {},
   "outputs": [],
   "source": [
    "# master_df = master_df[['Make','Year','Model','Service Category','Work Order']]\n",
    "\n",
    "master_df = master_df[['Work Order','Make','Year','Model','Service Category','Mileage In']]"
   ]
  },
  {
   "cell_type": "code",
   "execution_count": 42,
   "id": "saved-father",
   "metadata": {},
   "outputs": [],
   "source": [
    "master_df = master_df.drop_duplicates()"
   ]
  },
  {
   "cell_type": "code",
   "execution_count": 43,
   "id": "preliminary-shipping",
   "metadata": {
    "scrolled": true
   },
   "outputs": [
    {
     "data": {
      "text/plain": [
       "2014    1059\n",
       "2015     946\n",
       "2016     816\n",
       "2013     692\n",
       "2017     677\n",
       "2010     550\n",
       "2011     538\n",
       "2012     509\n",
       "2008     380\n",
       "2018     319\n",
       "2009     272\n",
       "2005     235\n",
       "2007     204\n",
       "2006     195\n",
       "2004     149\n",
       "2019     145\n",
       "2003     111\n",
       "2002     105\n",
       "2000      69\n",
       "2020      62\n",
       "1997      45\n",
       "2001      34\n",
       "1996      25\n",
       "1998      24\n",
       "1995      23\n",
       "1999      20\n",
       "1994      11\n",
       "1992      10\n",
       "1987       7\n",
       "1991       6\n",
       "2021       3\n",
       "1969       3\n",
       "1993       2\n",
       "1973       2\n",
       "1990       1\n",
       "1989       1\n",
       "Name: Year, dtype: int64"
      ]
     },
     "execution_count": 43,
     "metadata": {},
     "output_type": "execute_result"
    }
   ],
   "source": [
    "master_df['Year'].value_counts()"
   ]
  },
  {
   "cell_type": "code",
   "execution_count": 44,
   "id": "absent-programming",
   "metadata": {},
   "outputs": [],
   "source": [
    "# car year\n",
    "\n",
    "year_list = master_df['Year'].value_counts().to_frame()\n",
    "year_list = year_list[year_list['Year'] <= 100]\n",
    "year_list = list(year_list.index)\n",
    "\n",
    "master_df = master_df[~master_df['Year'].isin(year_list)]"
   ]
  },
  {
   "cell_type": "code",
   "execution_count": 45,
   "id": "pressed-compatibility",
   "metadata": {},
   "outputs": [
    {
     "data": {
      "text/plain": [
       "2014    1059\n",
       "2015     946\n",
       "2016     816\n",
       "2013     692\n",
       "2017     677\n",
       "2010     550\n",
       "2011     538\n",
       "2012     509\n",
       "2008     380\n",
       "2018     319\n",
       "2009     272\n",
       "2005     235\n",
       "2007     204\n",
       "2006     195\n",
       "2004     149\n",
       "2019     145\n",
       "2003     111\n",
       "2002     105\n",
       "Name: Year, dtype: int64"
      ]
     },
     "execution_count": 45,
     "metadata": {},
     "output_type": "execute_result"
    }
   ],
   "source": [
    "# checking the number of unique transaction per Year\n",
    "\n",
    "master_df['Year'].value_counts()"
   ]
  },
  {
   "cell_type": "code",
   "execution_count": 46,
   "id": "acting-relation",
   "metadata": {},
   "outputs": [],
   "source": [
    "# Removing the exhaust, counter / cash sale, sublet & towing and car detailing services\n",
    "\n",
    "master_df = master_df[(master_df['Service Category'] != 'Exhaust') &\n",
    "                      (master_df['Service Category'] != 'Counter / Cash Sale') &\n",
    "                      (master_df['Service Category'] != 'Sublet & Towing') &\n",
    "                      (master_df['Service Category'] != 'Car Detailing Services')]\n",
    "\n",
    "# filtering the accessories category\n",
    "\n",
    "master_df = master_df[master_df['Service Category'] != 'Accessories (Gauges, Power Accessories, Vision & Air Bag)']\n",
    "master_df = master_df[master_df['Service Category'] != 'Drive Train (Final Drive, Transaxle, Differential & Transfer Case)']"
   ]
  },
  {
   "cell_type": "code",
   "execution_count": 47,
   "id": "alert-daisy",
   "metadata": {},
   "outputs": [
    {
     "data": {
      "text/plain": [
       "Oil, Lube & Preventive Maintenance Service                   3746\n",
       "Steering & Suspension                                         947\n",
       "Brakes                                                        518\n",
       "Driveability (Fuel, Ignition & Emission Systems)              359\n",
       "Engine                                                        300\n",
       "Electrical (Belts, Lighting, Starting & Charging Systems)     298\n",
       "Tires & Wheels                                                284\n",
       "HVAC (Heating, Ventilation & Air Conditioning)                283\n",
       "Transmission & Clutch                                         263\n",
       "Cooling System                                                230\n",
       "Batteries                                                     140\n",
       "Name: Service Category, dtype: int64"
      ]
     },
     "execution_count": 47,
     "metadata": {},
     "output_type": "execute_result"
    }
   ],
   "source": [
    "# checking the number of unique transaction per Service Category\n",
    "\n",
    "master_df['Service Category'].value_counts()"
   ]
  },
  {
   "cell_type": "code",
   "execution_count": 48,
   "id": "renewable-figure",
   "metadata": {},
   "outputs": [],
   "source": [
    "# car make\n",
    "\n",
    "car_list = master_df['Make'].value_counts().to_frame()\n",
    "car_list = car_list[car_list['Make'] <= 100]\n",
    "car_list = list(car_list.index)\n",
    "\n",
    "master_df = master_df[~master_df['Make'].isin(car_list)]"
   ]
  },
  {
   "cell_type": "code",
   "execution_count": 49,
   "id": "positive-magnitude",
   "metadata": {},
   "outputs": [
    {
     "data": {
      "text/plain": [
       "toyota        2657\n",
       "mitsubishi    1141\n",
       "honda          848\n",
       "ford           815\n",
       "hyundai        671\n",
       "nissan         245\n",
       "chevrolet      212\n",
       "isuzu          195\n",
       "mazda          169\n",
       "suzuki         141\n",
       "kia            105\n",
       "Name: Make, dtype: int64"
      ]
     },
     "execution_count": 49,
     "metadata": {},
     "output_type": "execute_result"
    }
   ],
   "source": [
    "# checking the number of unique transaction per car make\n",
    "\n",
    "master_df['Make'].value_counts()"
   ]
  },
  {
   "cell_type": "code",
   "execution_count": 50,
   "id": "graphic-picnic",
   "metadata": {},
   "outputs": [],
   "source": [
    "# Balancing the dataset\n",
    "\n",
    "oipms = master_df[master_df['Service Category'] == 'Oil, Lube & Preventive Maintenance Service'].sample(n = 3800, replace = True, random_state = 4244)\n",
    "steer_sus = master_df[master_df['Service Category'] == 'Steering & Suspension'].sample(n = 3800, replace = True, random_state = 4244)\n",
    "brakes = master_df[master_df['Service Category'] == 'Brakes'].sample(n = 3800, replace = True, random_state = 4244)\n",
    "driveability = master_df[master_df['Service Category'] == 'Driveability (Fuel, Ignition & Emission Systems)'].sample(n = 3800, replace = True, random_state = 4244)\n",
    "engine = master_df[master_df['Service Category'] == 'Engine'].sample(n = 3800, replace = True, random_state = 4244)\n",
    "electrical = master_df[master_df['Service Category'] == 'Electrical (Belts, Lighting, Starting & Charging Systems)'].sample(n = 3800, replace = True, random_state = 4244)\n",
    "tires_wheels = master_df[master_df['Service Category'] == 'Tires & Wheels'].sample(n = 3800, replace = True, random_state = 4244)\n",
    "hvac =  master_df[master_df['Service Category'] == 'HVAC (Heating, Ventilation & Air Conditioning)'].sample(n = 3800, replace = True, random_state = 4244)\n",
    "trans_clutch = master_df[master_df['Service Category'] == 'Transmission & Clutch'].sample(n = 3800, replace = True, random_state = 4244)\n",
    "cooling = master_df[master_df['Service Category'] == 'Cooling System'].sample(n = 3800, replace = True, random_state = 4244)\n",
    "battery = master_df[master_df['Service Category'] == 'Batteries'].sample(n = 3800, replace = True, random_state = 4244)\n"
   ]
  },
  {
   "cell_type": "code",
   "execution_count": 51,
   "id": "desperate-seller",
   "metadata": {},
   "outputs": [
    {
     "name": "stdout",
     "output_type": "stream",
     "text": [
      "<class 'pandas.core.frame.DataFrame'>\n",
      "Int64Index: 41800 entries, 20201 to 2651\n",
      "Data columns (total 6 columns):\n",
      " #   Column            Non-Null Count  Dtype \n",
      "---  ------            --------------  ----- \n",
      " 0   Work Order        41800 non-null  int64 \n",
      " 1   Make              41800 non-null  object\n",
      " 2   Year              41800 non-null  int64 \n",
      " 3   Model             41800 non-null  object\n",
      " 4   Service Category  41800 non-null  object\n",
      " 5   Mileage In        41800 non-null  int64 \n",
      "dtypes: int64(3), object(3)\n",
      "memory usage: 2.2+ MB\n"
     ]
    }
   ],
   "source": [
    "master_df = pd.concat([oipms, steer_sus, brakes, driveability, engine, electrical, tires_wheels, hvac, trans_clutch, cooling, battery])\n",
    "master_df.info()"
   ]
  },
  {
   "cell_type": "code",
   "execution_count": 52,
   "id": "wrapped-transcript",
   "metadata": {},
   "outputs": [],
   "source": [
    "# optional bucketing the Mileage In\n",
    "\n",
    "def mileage_func(x):\n",
    "    if x <= 10000:\n",
    "        return '10k'\n",
    "    if 10001 <= x <= 20000:\n",
    "        return '20k'\n",
    "    if 20001 <= x <= 30000:\n",
    "        return '30k'\n",
    "    if 30001 <= x <= 40000:\n",
    "        return '40k'\n",
    "    if 40001 <= x <= 50000:\n",
    "        return '50k'\n",
    "    if 50001 <= x <= 60000:\n",
    "        return '60k'\n",
    "    if 60001 <= x <= 70000:\n",
    "        return '70k'\n",
    "    if 70001 <= x <= 80000:\n",
    "        return '80k'\n",
    "    if 80001 <= x <= 90000:\n",
    "        return '90k'\n",
    "    if 90001 <= x <= 100000:\n",
    "        return '100k'\n",
    "    if 100001 <= x <= 150000:\n",
    "        return '150k'\n",
    "    if 150001 <= x <= 200000:\n",
    "        return '200k'\n",
    "    else:\n",
    "        return 'above 200k'"
   ]
  },
  {
   "cell_type": "code",
   "execution_count": 53,
   "id": "traditional-envelope",
   "metadata": {},
   "outputs": [],
   "source": [
    "master_df['Mileage In_'] = master_df['Mileage In'].apply(mileage_func)"
   ]
  },
  {
   "cell_type": "code",
   "execution_count": 54,
   "id": "sapphire-blink",
   "metadata": {},
   "outputs": [
    {
     "data": {
      "text/plain": [
       "Brakes                                                       3800\n",
       "Oil, Lube & Preventive Maintenance Service                   3800\n",
       "Transmission & Clutch                                        3800\n",
       "Cooling System                                               3800\n",
       "Electrical (Belts, Lighting, Starting & Charging Systems)    3800\n",
       "Engine                                                       3800\n",
       "Steering & Suspension                                        3800\n",
       "HVAC (Heating, Ventilation & Air Conditioning)               3800\n",
       "Driveability (Fuel, Ignition & Emission Systems)             3800\n",
       "Tires & Wheels                                               3800\n",
       "Batteries                                                    3800\n",
       "Name: Service Category, dtype: int64"
      ]
     },
     "execution_count": 54,
     "metadata": {},
     "output_type": "execute_result"
    }
   ],
   "source": [
    "master_df['Service Category'].value_counts()"
   ]
  },
  {
   "cell_type": "code",
   "execution_count": 55,
   "id": "driven-stevens",
   "metadata": {},
   "outputs": [],
   "source": [
    "# Encoding the dataset\n",
    "\n",
    "master_df = master_df[['Make','Year','Model','Service Category','Mileage In_']]"
   ]
  },
  {
   "cell_type": "code",
   "execution_count": 56,
   "id": "chicken-planner",
   "metadata": {},
   "outputs": [],
   "source": [
    "X = master_df[['Year', 'Make', 'Model','Mileage In_']]\n",
    "Y = master_df['Service Category']"
   ]
  },
  {
   "cell_type": "code",
   "execution_count": 57,
   "id": "hearing-ceramic",
   "metadata": {},
   "outputs": [
    {
     "data": {
      "text/plain": [
       "BinaryEncoder(cols=['Year', 'Make', 'Model', 'Mileage In_'])"
      ]
     },
     "execution_count": 57,
     "metadata": {},
     "output_type": "execute_result"
    }
   ],
   "source": [
    "encoder = ce.BinaryEncoder(cols=['Year', 'Make', 'Model','Mileage In_'], return_df = True)\n",
    "encoder.fit(X)"
   ]
  },
  {
   "cell_type": "code",
   "execution_count": 58,
   "id": "alpha-vanilla",
   "metadata": {},
   "outputs": [],
   "source": [
    "x_train, x_test, y_train, y_test = train_test_split(X, Y, random_state = 4244, test_size = 0.20, stratify = Y)"
   ]
  },
  {
   "cell_type": "code",
   "execution_count": 59,
   "id": "sitting-alexandria",
   "metadata": {},
   "outputs": [
    {
     "name": "stdout",
     "output_type": "stream",
     "text": [
      "(33440, 25) (8360, 25)\n"
     ]
    }
   ],
   "source": [
    "X_train_encoded = encoder.transform(x_train)\n",
    "X_test_encoded = encoder.transform(x_test)\n",
    "\n",
    "print(X_train_encoded.shape, X_test_encoded.shape)"
   ]
  },
  {
   "cell_type": "code",
   "execution_count": 61,
   "id": "pursuant-twenty",
   "metadata": {},
   "outputs": [],
   "source": [
    "model_ = RandomForestClassifier(bootstrap = True, criterion = 'entropy', max_depth =25, max_features = 'auto', min_samples_leaf = 1, min_samples_split = 2, n_estimators = 150, random_state = 4244)"
   ]
  },
  {
   "cell_type": "code",
   "execution_count": 62,
   "id": "figured-obligation",
   "metadata": {},
   "outputs": [
    {
     "data": {
      "text/plain": [
       "RandomForestClassifier(criterion='entropy', max_depth=25, n_estimators=150,\n",
       "                       random_state=4244)"
      ]
     },
     "execution_count": 62,
     "metadata": {},
     "output_type": "execute_result"
    }
   ],
   "source": [
    "model_.fit(X_train_encoded, y_train)"
   ]
  },
  {
   "cell_type": "code",
   "execution_count": 63,
   "id": "dirty-people",
   "metadata": {},
   "outputs": [],
   "source": [
    "y_pred = model_.predict(X_test_encoded)"
   ]
  },
  {
   "cell_type": "code",
   "execution_count": 64,
   "id": "ranging-bracket",
   "metadata": {},
   "outputs": [
    {
     "name": "stdout",
     "output_type": "stream",
     "text": [
      "Precision score: 0.545\n",
      "Accuracy Score:0.516\n",
      "Classification Report: \n",
      "                                                            precision    recall  f1-score   support\n",
      "\n",
      "                                                Batteries       0.46      0.83      0.60       760\n",
      "                                                   Brakes       0.56      0.43      0.49       760\n",
      "                                           Cooling System       0.47      0.62      0.54       760\n",
      "         Driveability (Fuel, Ignition & Emission Systems)       0.59      0.47      0.52       760\n",
      "Electrical (Belts, Lighting, Starting & Charging Systems)       0.52      0.54      0.53       760\n",
      "                                                   Engine       0.45      0.59      0.51       760\n",
      "           HVAC (Heating, Ventilation & Air Conditioning)       0.48      0.55      0.51       760\n",
      "               Oil, Lube & Preventive Maintenance Service       0.76      0.26      0.39       760\n",
      "                                    Steering & Suspension       0.60      0.34      0.43       760\n",
      "                                           Tires & Wheels       0.63      0.54      0.58       760\n",
      "                                    Transmission & Clutch       0.47      0.50      0.49       760\n",
      "\n",
      "                                                 accuracy                           0.52      8360\n",
      "                                                macro avg       0.54      0.52      0.51      8360\n",
      "                                             weighted avg       0.54      0.52      0.51      8360\n",
      "\n"
     ]
    }
   ],
   "source": [
    "print(\"Precision score: {:.3f}\".format(precision_score(y_test,y_pred , average='macro')))\n",
    "print(\"Accuracy Score:{:.3f}\".format(accuracy_score(y_test, y_pred)))\n",
    "print(\"Classification Report: \\n\", classification_report(y_test, y_pred))"
   ]
  },
  {
   "cell_type": "code",
   "execution_count": 65,
   "id": "outer-biology",
   "metadata": {},
   "outputs": [
    {
     "data": {
      "text/plain": [
       "<matplotlib.image.AxesImage at 0x27aab1ea2b0>"
      ]
     },
     "execution_count": 65,
     "metadata": {},
     "output_type": "execute_result"
    },
    {
     "data": {
      "text/plain": [
       "<Figure size 1080x1080 with 0 Axes>"
      ]
     },
     "metadata": {},
     "output_type": "display_data"
    },
    {
     "data": {
      "image/png": "[encoded data removed]",
      "text/plain": [
       "<Figure size 288x288 with 1 Axes>"
      ]
     },
     "metadata": {
      "needs_background": "light"
     },
     "output_type": "display_data"
    }
   ],
   "source": [
    "# confusion matrix\n",
    "conf_matrix = confusion_matrix(y_test, y_pred)\n",
    "\n",
    "plt.figure(figsize=(15,15))\n",
    "plt.matshow(conf_matrix, cmap = plt.cm.gray)"
   ]
  },
  {
   "cell_type": "code",
   "execution_count": 66,
   "id": "rural-wrong",
   "metadata": {},
   "outputs": [],
   "source": [
    "# Using the AdaboostClassifier\n",
    "model_ = RandomForestClassifier(bootstrap = True, criterion = 'entropy', max_depth =25, max_features = 'auto', min_samples_leaf = 1, min_samples_split = 2, n_estimators = 150, random_state = 4244)"
   ]
  },
  {
   "cell_type": "code",
   "execution_count": 67,
   "id": "liberal-legislation",
   "metadata": {},
   "outputs": [],
   "source": [
    "abc_model = AdaBoostClassifier(base_estimator = model_, random_state = 4244, learning_rate = 0.1)"
   ]
  },
  {
   "cell_type": "code",
   "execution_count": 68,
   "id": "extra-edgar",
   "metadata": {},
   "outputs": [
    {
     "data": {
      "text/plain": [
       "AdaBoostClassifier(base_estimator=RandomForestClassifier(criterion='entropy',\n",
       "                                                         max_depth=25,\n",
       "                                                         n_estimators=150,\n",
       "                                                         random_state=4244),\n",
       "                   learning_rate=0.1, random_state=4244)"
      ]
     },
     "execution_count": 68,
     "metadata": {},
     "output_type": "execute_result"
    }
   ],
   "source": [
    "abc_model.fit(X_train_encoded, y_train)"
   ]
  },
  {
   "cell_type": "code",
   "execution_count": 69,
   "id": "entire-referral",
   "metadata": {},
   "outputs": [],
   "source": [
    "y_pred = abc_model.predict(X_test_encoded)"
   ]
  },
  {
   "cell_type": "code",
   "execution_count": 70,
   "id": "frank-calibration",
   "metadata": {},
   "outputs": [
    {
     "name": "stdout",
     "output_type": "stream",
     "text": [
      "Precision score: 0.527\n",
      "Accuracy Score:0.511\n",
      "Classification Report: \n",
      "                                                            precision    recall  f1-score   support\n",
      "\n",
      "                                                Batteries       0.47      0.83      0.60       760\n",
      "                                                   Brakes       0.56      0.40      0.47       760\n",
      "                                           Cooling System       0.47      0.62      0.54       760\n",
      "         Driveability (Fuel, Ignition & Emission Systems)       0.59      0.46      0.52       760\n",
      "Electrical (Belts, Lighting, Starting & Charging Systems)       0.50      0.51      0.50       760\n",
      "                                                   Engine       0.46      0.57      0.51       760\n",
      "           HVAC (Heating, Ventilation & Air Conditioning)       0.49      0.54      0.51       760\n",
      "               Oil, Lube & Preventive Maintenance Service       0.56      0.33      0.42       760\n",
      "                                    Steering & Suspension       0.60      0.32      0.42       760\n",
      "                                           Tires & Wheels       0.64      0.54      0.58       760\n",
      "                                    Transmission & Clutch       0.47      0.51      0.49       760\n",
      "\n",
      "                                                 accuracy                           0.51      8360\n",
      "                                                macro avg       0.53      0.51      0.50      8360\n",
      "                                             weighted avg       0.53      0.51      0.50      8360\n",
      "\n"
     ]
    }
   ],
   "source": [
    "print(\"Precision score: {:.3f}\".format(precision_score(y_test,y_pred , average='macro')))\n",
    "print(\"Accuracy Score:{:.3f}\".format(accuracy_score(y_test, y_pred)))\n",
    "print(\"Classification Report: \\n\", classification_report(y_test, y_pred))"
   ]
  },
  {
   "cell_type": "code",
   "execution_count": 71,
   "id": "rural-sitting",
   "metadata": {},
   "outputs": [
    {
     "data": {
      "text/plain": [
       "<matplotlib.image.AxesImage at 0x279f65fc940>"
      ]
     },
     "execution_count": 71,
     "metadata": {},
     "output_type": "execute_result"
    },
    {
     "data": {
      "text/plain": [
       "<Figure size 1080x1080 with 0 Axes>"
      ]
     },
     "metadata": {},
     "output_type": "display_data"
    },
    {
     "data": {
      "image/png": "[encoded data removed]",
      "text/plain": [
       "<Figure size 288x288 with 1 Axes>"
      ]
     },
     "metadata": {
      "needs_background": "light"
     },
     "output_type": "display_data"
    }
   ],
   "source": [
    "conf_matrix = confusion_matrix(y_test, y_pred)\n",
    "\n",
    "plt.figure(figsize=(15,15))\n",
    "plt.matshow(conf_matrix, cmap = plt.cm.gray)"
   ]
  },
  {
   "cell_type": "code",
   "execution_count": 72,
   "id": "approximate-injury",
   "metadata": {},
   "outputs": [],
   "source": [
    "# OneVsOneClassifier "
   ]
  },
  {
   "cell_type": "code",
   "execution_count": 73,
   "id": "dramatic-provider",
   "metadata": {},
   "outputs": [],
   "source": [
    "from sklearn.multiclass import OneVsOneClassifier, OneVsRestClassifier"
   ]
  },
  {
   "cell_type": "code",
   "execution_count": 74,
   "id": "reserved-recipe",
   "metadata": {},
   "outputs": [],
   "source": [
    "clf = OneVsOneClassifier(model_, n_jobs = 4).fit(X_train_encoded, y_train)"
   ]
  },
  {
   "cell_type": "code",
   "execution_count": 75,
   "id": "surrounded-period",
   "metadata": {},
   "outputs": [],
   "source": [
    "y_pred = clf.predict(X_test_encoded)"
   ]
  },
  {
   "cell_type": "code",
   "execution_count": 76,
   "id": "viral-visiting",
   "metadata": {},
   "outputs": [
    {
     "name": "stdout",
     "output_type": "stream",
     "text": [
      "Precision score: 0.542\n",
      "Accuracy Score:0.514\n",
      "Classification Report: \n",
      "                                                            precision    recall  f1-score   support\n",
      "\n",
      "                                                Batteries       0.46      0.84      0.60       760\n",
      "                                                   Brakes       0.57      0.42      0.48       760\n",
      "                                           Cooling System       0.47      0.62      0.53       760\n",
      "         Driveability (Fuel, Ignition & Emission Systems)       0.58      0.46      0.51       760\n",
      "Electrical (Belts, Lighting, Starting & Charging Systems)       0.54      0.53      0.53       760\n",
      "                                                   Engine       0.45      0.57      0.50       760\n",
      "           HVAC (Heating, Ventilation & Air Conditioning)       0.48      0.55      0.51       760\n",
      "               Oil, Lube & Preventive Maintenance Service       0.75      0.27      0.40       760\n",
      "                                    Steering & Suspension       0.59      0.34      0.43       760\n",
      "                                           Tires & Wheels       0.64      0.53      0.58       760\n",
      "                                    Transmission & Clutch       0.44      0.53      0.48       760\n",
      "\n",
      "                                                 accuracy                           0.51      8360\n",
      "                                                macro avg       0.54      0.51      0.51      8360\n",
      "                                             weighted avg       0.54      0.51      0.51      8360\n",
      "\n"
     ]
    }
   ],
   "source": [
    "print(\"Precision score: {:.3f}\".format(precision_score(y_test,y_pred , average='macro')))\n",
    "print(\"Accuracy Score:{:.3f}\".format(accuracy_score(y_test, y_pred)))\n",
    "print(\"Classification Report: \\n\", classification_report(y_test, y_pred))"
   ]
  },
  {
   "cell_type": "code",
   "execution_count": 77,
   "id": "incorrect-lesbian",
   "metadata": {},
   "outputs": [
    {
     "data": {
      "text/plain": [
       "<matplotlib.image.AxesImage at 0x279f643e790>"
      ]
     },
     "execution_count": 77,
     "metadata": {},
     "output_type": "execute_result"
    },
    {
     "data": {
      "image/png": "[encoded data removed]",
      "text/plain": [
       "<Figure size 288x288 with 1 Axes>"
      ]
     },
     "metadata": {
      "needs_background": "light"
     },
     "output_type": "display_data"
    }
   ],
   "source": [
    "# confusion matrix\n",
    "conf_matrix = confusion_matrix(y_test, y_pred)\n",
    "plt.matshow(conf_matrix, cmap = plt.cm.gray)"
   ]
  }
 ],
 "metadata": {
  "kernelspec": {
   "display_name": "Python 3",
   "language": "python",
   "name": "python3"
  },
  "language_info": {
   "codemirror_mode": {
    "name": "ipython",
    "version": 3
   },
   "file_extension": ".py",
   "mimetype": "text/x-python",
   "name": "python",
   "nbconvert_exporter": "python",
   "pygments_lexer": "ipython3",
   "version": "3.8.8"
  }
 },
 "nbformat": 4,
 "nbformat_minor": 5
}
