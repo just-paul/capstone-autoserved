{
 "cells": [
  {
   "cell_type": "code",
   "execution_count": 101,
   "id": "incident-thomas",
   "metadata": {},
   "outputs": [],
   "source": [
    "import pandas as pd\n",
    "import numpy as np \n",
    "import matplotlib.pyplot as plt\n",
    "import seaborn as sns\n",
    "\n",
    "from sklearn.model_selection import train_test_split, StratifiedKFold, GridSearchCV, RandomizedSearchCV, cross_val_score, cross_val_predict\n",
    "from sklearn.ensemble import RandomForestClassifier, ExtraTreesClassifier, BaggingClassifier, AdaBoostClassifier, GradientBoostingClassifier \n",
    "from sklearn.metrics import accuracy_score, classification_report, plot_confusion_matrix, precision_score, roc_auc_score, confusion_matrix\n",
    "from sklearn.pipeline import Pipeline\n",
    "\n",
    "import category_encoders as ce"
   ]
  },
  {
   "cell_type": "code",
   "execution_count": 102,
   "id": "administrative-drinking",
   "metadata": {},
   "outputs": [],
   "source": [
    "master_df = pd.read_csv('FINAL3.csv')"
   ]
  },
  {
   "cell_type": "code",
   "execution_count": 103,
   "id": "attempted-blood",
   "metadata": {},
   "outputs": [],
   "source": [
    "# master_df = master_df[['Make','Year','Model','Service Category','Work Order']]\n",
    "\n",
    "master_df = master_df[['Work Order','Make','Year','Model','Service Category','Mileage In']]"
   ]
  },
  {
   "cell_type": "code",
   "execution_count": 104,
   "id": "creative-region",
   "metadata": {},
   "outputs": [],
   "source": [
    "master_df = master_df.drop_duplicates()"
   ]
  },
  {
   "cell_type": "code",
   "execution_count": 105,
   "id": "looking-signal",
   "metadata": {
    "scrolled": true
   },
   "outputs": [
    {
     "data": {
      "text/plain": [
       "2014    1059\n",
       "2015     946\n",
       "2016     816\n",
       "2013     692\n",
       "2017     677\n",
       "2010     550\n",
       "2011     538\n",
       "2012     509\n",
       "2008     380\n",
       "2018     319\n",
       "2009     272\n",
       "2005     235\n",
       "2007     204\n",
       "2006     195\n",
       "2004     149\n",
       "2019     145\n",
       "2003     111\n",
       "2002     105\n",
       "2000      69\n",
       "2020      62\n",
       "1997      45\n",
       "2001      34\n",
       "1996      25\n",
       "1998      24\n",
       "1995      23\n",
       "1999      20\n",
       "1994      11\n",
       "1992      10\n",
       "1987       7\n",
       "1991       6\n",
       "2021       3\n",
       "1969       3\n",
       "1993       2\n",
       "1973       2\n",
       "1990       1\n",
       "1989       1\n",
       "Name: Year, dtype: int64"
      ]
     },
     "execution_count": 105,
     "metadata": {},
     "output_type": "execute_result"
    }
   ],
   "source": [
    "master_df['Year'].value_counts()"
   ]
  },
  {
   "cell_type": "code",
   "execution_count": 106,
   "id": "hindu-draft",
   "metadata": {},
   "outputs": [],
   "source": [
    "# car year\n",
    "\n",
    "year_list = master_df['Year'].value_counts().to_frame()\n",
    "year_list = year_list[year_list['Year'] <= 100]\n",
    "year_list = list(year_list.index)\n",
    "\n",
    "master_df = master_df[~master_df['Year'].isin(year_list)]"
   ]
  },
  {
   "cell_type": "code",
   "execution_count": 107,
   "id": "coupled-medicine",
   "metadata": {},
   "outputs": [
    {
     "data": {
      "text/plain": [
       "2014    1059\n",
       "2015     946\n",
       "2016     816\n",
       "2013     692\n",
       "2017     677\n",
       "2010     550\n",
       "2011     538\n",
       "2012     509\n",
       "2008     380\n",
       "2018     319\n",
       "2009     272\n",
       "2005     235\n",
       "2007     204\n",
       "2006     195\n",
       "2004     149\n",
       "2019     145\n",
       "2003     111\n",
       "2002     105\n",
       "Name: Year, dtype: int64"
      ]
     },
     "execution_count": 107,
     "metadata": {},
     "output_type": "execute_result"
    }
   ],
   "source": [
    "# checking the number of unique transaction per Year\n",
    "\n",
    "master_df['Year'].value_counts()"
   ]
  },
  {
   "cell_type": "code",
   "execution_count": 108,
   "id": "coordinate-chair",
   "metadata": {},
   "outputs": [],
   "source": [
    "# Removing the exhaust, counter / cash sale, sublet & towing and car detailing services\n",
    "\n",
    "master_df = master_df[(master_df['Service Category'] != 'Exhaust') &\n",
    "                      (master_df['Service Category'] != 'Counter / Cash Sale') &\n",
    "                      (master_df['Service Category'] != 'Sublet & Towing') &\n",
    "                      (master_df['Service Category'] != 'Car Detailing Services')]\n",
    "\n",
    "# filtering the accessories category\n",
    "\n",
    "master_df = master_df[master_df['Service Category'] != 'Accessories (Gauges, Power Accessories, Vision & Air Bag)']\n",
    "master_df = master_df[master_df['Service Category'] != 'Drive Train (Final Drive, Transaxle, Differential & Transfer Case)']"
   ]
  },
  {
   "cell_type": "code",
   "execution_count": 109,
   "id": "short-savannah",
   "metadata": {},
   "outputs": [
    {
     "data": {
      "text/plain": [
       "Oil, Lube & Preventive Maintenance Service                   3746\n",
       "Steering & Suspension                                         947\n",
       "Brakes                                                        518\n",
       "Driveability (Fuel, Ignition & Emission Systems)              359\n",
       "Engine                                                        300\n",
       "Electrical (Belts, Lighting, Starting & Charging Systems)     298\n",
       "Tires & Wheels                                                284\n",
       "HVAC (Heating, Ventilation & Air Conditioning)                283\n",
       "Transmission & Clutch                                         263\n",
       "Cooling System                                                230\n",
       "Batteries                                                     140\n",
       "Name: Service Category, dtype: int64"
      ]
     },
     "execution_count": 109,
     "metadata": {},
     "output_type": "execute_result"
    }
   ],
   "source": [
    "# checking the number of unique transaction per Service Category\n",
    "\n",
    "master_df['Service Category'].value_counts()"
   ]
  },
  {
   "cell_type": "code",
   "execution_count": 110,
   "id": "stainless-dylan",
   "metadata": {},
   "outputs": [],
   "source": [
    "# car make\n",
    "\n",
    "car_list = master_df['Make'].value_counts().to_frame()\n",
    "car_list = car_list[car_list['Make'] <= 100]\n",
    "car_list = list(car_list.index)\n",
    "\n",
    "master_df = master_df[~master_df['Make'].isin(car_list)]"
   ]
  },
  {
   "cell_type": "code",
   "execution_count": 111,
   "id": "complimentary-buddy",
   "metadata": {},
   "outputs": [
    {
     "data": {
      "text/plain": [
       "toyota        2657\n",
       "mitsubishi    1141\n",
       "honda          848\n",
       "ford           815\n",
       "hyundai        671\n",
       "nissan         245\n",
       "chevrolet      212\n",
       "isuzu          195\n",
       "mazda          169\n",
       "suzuki         141\n",
       "kia            105\n",
       "Name: Make, dtype: int64"
      ]
     },
     "execution_count": 111,
     "metadata": {},
     "output_type": "execute_result"
    }
   ],
   "source": [
    "# checking the number of unique transaction per car make\n",
    "\n",
    "master_df['Make'].value_counts()"
   ]
  },
  {
   "cell_type": "code",
   "execution_count": 112,
   "id": "english-privacy",
   "metadata": {},
   "outputs": [],
   "source": [
    "# Balancing the dataset\n",
    "\n",
    "oipms = master_df[master_df['Service Category'] == 'Oil, Lube & Preventive Maintenance Service'].sample(n = 3800, replace = True, random_state = 4244)\n",
    "steer_sus = master_df[master_df['Service Category'] == 'Steering & Suspension'].sample(n = 3800, replace = True, random_state = 4244)\n",
    "brakes = master_df[master_df['Service Category'] == 'Brakes'].sample(n = 3800, replace = True, random_state = 4244)\n",
    "driveability = master_df[master_df['Service Category'] == 'Driveability (Fuel, Ignition & Emission Systems)'].sample(n = 3800, replace = True, random_state = 4244)\n",
    "engine = master_df[master_df['Service Category'] == 'Engine'].sample(n = 3800, replace = True, random_state = 4244)\n",
    "electrical = master_df[master_df['Service Category'] == 'Electrical (Belts, Lighting, Starting & Charging Systems)'].sample(n = 3800, replace = True, random_state = 4244)\n",
    "tires_wheels = master_df[master_df['Service Category'] == 'Tires & Wheels'].sample(n = 3800, replace = True, random_state = 4244)\n",
    "hvac =  master_df[master_df['Service Category'] == 'HVAC (Heating, Ventilation & Air Conditioning)'].sample(n = 3800, replace = True, random_state = 4244)\n",
    "trans_clutch = master_df[master_df['Service Category'] == 'Transmission & Clutch'].sample(n = 3800, replace = True, random_state = 4244)\n",
    "cooling = master_df[master_df['Service Category'] == 'Cooling System'].sample(n = 3800, replace = True, random_state = 4244)\n",
    "battery = master_df[master_df['Service Category'] == 'Batteries'].sample(n = 3800, replace = True, random_state = 4244)\n"
   ]
  },
  {
   "cell_type": "code",
   "execution_count": 113,
   "id": "sought-charter",
   "metadata": {},
   "outputs": [
    {
     "name": "stdout",
     "output_type": "stream",
     "text": [
      "<class 'pandas.core.frame.DataFrame'>\n",
      "Int64Index: 41800 entries, 20201 to 2651\n",
      "Data columns (total 6 columns):\n",
      " #   Column            Non-Null Count  Dtype \n",
      "---  ------            --------------  ----- \n",
      " 0   Work Order        41800 non-null  int64 \n",
      " 1   Make              41800 non-null  object\n",
      " 2   Year              41800 non-null  int64 \n",
      " 3   Model             41800 non-null  object\n",
      " 4   Service Category  41800 non-null  object\n",
      " 5   Mileage In        41800 non-null  int64 \n",
      "dtypes: int64(3), object(3)\n",
      "memory usage: 2.2+ MB\n"
     ]
    }
   ],
   "source": [
    "master_df = pd.concat([oipms, steer_sus, brakes, driveability, engine, electrical, tires_wheels, hvac, trans_clutch, cooling, battery])\n",
    "master_df.info()"
   ]
  },
  {
   "cell_type": "code",
   "execution_count": 114,
   "id": "blank-translator",
   "metadata": {},
   "outputs": [],
   "source": [
    "# optional bucketing the Mileage In\n",
    "\n",
    "def mileage_func(x):\n",
    "    if x <= 10000:\n",
    "        return '10k'\n",
    "    if 10001 <= x <= 20000:\n",
    "        return '20k'\n",
    "    if 20001 <= x <= 30000:\n",
    "        return '30k'\n",
    "    if 30001 <= x <= 40000:\n",
    "        return '40k'\n",
    "    if 40001 <= x <= 50000:\n",
    "        return '50k'\n",
    "    if 50001 <= x <= 60000:\n",
    "        return '60k'\n",
    "    if 60001 <= x <= 70000:\n",
    "        return '70k'\n",
    "    if 70001 <= x <= 80000:\n",
    "        return '80k'\n",
    "    if 80001 <= x <= 90000:\n",
    "        return '90k'\n",
    "    if 90001 <= x <= 100000:\n",
    "        return '100k'\n",
    "    if 100001 <= x <= 150000:\n",
    "        return '150k'\n",
    "    if 150001 <= x <= 200000:\n",
    "        return '200k'\n",
    "    else:\n",
    "        return 'above 200k'"
   ]
  },
  {
   "cell_type": "code",
   "execution_count": 115,
   "id": "backed-hands",
   "metadata": {},
   "outputs": [],
   "source": [
    "master_df['Mileage In_'] = master_df['Mileage In'].apply(mileage_func)"
   ]
  },
  {
   "cell_type": "code",
   "execution_count": 116,
   "id": "unknown-privacy",
   "metadata": {},
   "outputs": [
    {
     "data": {
      "text/plain": [
       "Oil, Lube & Preventive Maintenance Service                   3800\n",
       "Steering & Suspension                                        3800\n",
       "Driveability (Fuel, Ignition & Emission Systems)             3800\n",
       "Cooling System                                               3800\n",
       "Batteries                                                    3800\n",
       "Electrical (Belts, Lighting, Starting & Charging Systems)    3800\n",
       "Tires & Wheels                                               3800\n",
       "Engine                                                       3800\n",
       "Transmission & Clutch                                        3800\n",
       "Brakes                                                       3800\n",
       "HVAC (Heating, Ventilation & Air Conditioning)               3800\n",
       "Name: Service Category, dtype: int64"
      ]
     },
     "execution_count": 116,
     "metadata": {},
     "output_type": "execute_result"
    }
   ],
   "source": [
    "master_df['Service Category'].value_counts()"
   ]
  },
  {
   "cell_type": "code",
   "execution_count": 117,
   "id": "preceding-journalism",
   "metadata": {},
   "outputs": [],
   "source": [
    "# Encoding the dataset\n",
    "\n",
    "master_df = master_df[['Make','Year','Model','Service Category','Mileage In']]"
   ]
  },
  {
   "cell_type": "code",
   "execution_count": 118,
   "id": "republican-rider",
   "metadata": {},
   "outputs": [],
   "source": [
    "X = master_df[['Year', 'Make', 'Model','Mileage In']]\n",
    "Y = master_df['Service Category']"
   ]
  },
  {
   "cell_type": "code",
   "execution_count": 119,
   "id": "tribal-mining",
   "metadata": {},
   "outputs": [
    {
     "data": {
      "text/plain": [
       "BinaryEncoder(cols=['Year', 'Make', 'Model'])"
      ]
     },
     "execution_count": 119,
     "metadata": {},
     "output_type": "execute_result"
    }
   ],
   "source": [
    "encoder = ce.BinaryEncoder(cols=['Year', 'Make', 'Model'], return_df = True)\n",
    "encoder.fit(X)"
   ]
  },
  {
   "cell_type": "code",
   "execution_count": 120,
   "id": "previous-familiar",
   "metadata": {},
   "outputs": [],
   "source": [
    "x_train, x_test, y_train, y_test = train_test_split(X, Y, random_state = 4244, test_size = 0.20, stratify = Y)"
   ]
  },
  {
   "cell_type": "code",
   "execution_count": 121,
   "id": "dimensional-hampshire",
   "metadata": {},
   "outputs": [
    {
     "name": "stdout",
     "output_type": "stream",
     "text": [
      "(33440, 21) (8360, 21)\n"
     ]
    }
   ],
   "source": [
    "X_train_encoded = encoder.transform(x_train)\n",
    "X_test_encoded = encoder.transform(x_test)\n",
    "\n",
    "print(X_train_encoded.shape, X_test_encoded.shape)"
   ]
  },
  {
   "cell_type": "code",
   "execution_count": 122,
   "id": "metric-weapon",
   "metadata": {},
   "outputs": [],
   "source": [
    "model_ = RandomForestClassifier(bootstrap = True, criterion = 'entropy', max_depth =25, max_features = 'auto', min_samples_leaf = 1, min_samples_split = 2, n_estimators = 150, random_state = 4244)"
   ]
  },
  {
   "cell_type": "code",
   "execution_count": 123,
   "id": "republican-country",
   "metadata": {},
   "outputs": [
    {
     "data": {
      "text/plain": [
       "RandomForestClassifier(criterion='entropy', max_depth=25, n_estimators=150,\n",
       "                       random_state=4244)"
      ]
     },
     "execution_count": 123,
     "metadata": {},
     "output_type": "execute_result"
    }
   ],
   "source": [
    "model_.fit(X_train_encoded, y_train)"
   ]
  },
  {
   "cell_type": "code",
   "execution_count": 124,
   "id": "respiratory-cherry",
   "metadata": {},
   "outputs": [],
   "source": [
    "y_pred = model_.predict(X_test_encoded)"
   ]
  },
  {
   "cell_type": "code",
   "execution_count": 125,
   "id": "geographic-munich",
   "metadata": {},
   "outputs": [
    {
     "name": "stdout",
     "output_type": "stream",
     "text": [
      "Precision score: 0.762\n",
      "Accuracy Score:0.753\n",
      "Classification Report: \n",
      "                                                            precision    recall  f1-score   support\n",
      "\n",
      "                                                Batteries       0.85      0.98      0.91       760\n",
      "                                                   Brakes       0.77      0.61      0.68       760\n",
      "                                           Cooling System       0.68      0.84      0.75       760\n",
      "         Driveability (Fuel, Ignition & Emission Systems)       0.73      0.68      0.70       760\n",
      "Electrical (Belts, Lighting, Starting & Charging Systems)       0.70      0.80      0.75       760\n",
      "                                                   Engine       0.68      0.71      0.69       760\n",
      "           HVAC (Heating, Ventilation & Air Conditioning)       0.73      0.82      0.77       760\n",
      "               Oil, Lube & Preventive Maintenance Service       0.90      0.51      0.65       760\n",
      "                                    Steering & Suspension       0.84      0.61      0.70       760\n",
      "                                           Tires & Wheels       0.83      0.89      0.86       760\n",
      "                                    Transmission & Clutch       0.69      0.83      0.75       760\n",
      "\n",
      "                                                 accuracy                           0.75      8360\n",
      "                                                macro avg       0.76      0.75      0.75      8360\n",
      "                                             weighted avg       0.76      0.75      0.75      8360\n",
      "\n"
     ]
    }
   ],
   "source": [
    "print(\"Precision score: {:.3f}\".format(precision_score(y_test,y_pred , average='macro')))\n",
    "print(\"Accuracy Score:{:.3f}\".format(accuracy_score(y_test, y_pred)))\n",
    "print(\"Classification Report: \\n\", classification_report(y_test, y_pred))"
   ]
  },
  {
   "cell_type": "code",
   "execution_count": 126,
   "id": "intensive-chester",
   "metadata": {},
   "outputs": [
    {
     "data": {
      "text/plain": [
       "<matplotlib.image.AxesImage at 0x1fb4b5dd9d0>"
      ]
     },
     "execution_count": 126,
     "metadata": {},
     "output_type": "execute_result"
    },
    {
     "data": {
      "text/plain": [
       "<Figure size 1080x1080 with 0 Axes>"
      ]
     },
     "metadata": {},
     "output_type": "display_data"
    },
    {
     "data": {
      "image/png": "[encoded data removed]",
      "text/plain": [
       "<Figure size 288x288 with 1 Axes>"
      ]
     },
     "metadata": {
      "needs_background": "light"
     },
     "output_type": "display_data"
    }
   ],
   "source": [
    "# confusion matrix\n",
    "conf_matrix = confusion_matrix(y_test, y_pred)\n",
    "\n",
    "plt.figure(figsize=(15,15))\n",
    "plt.matshow(conf_matrix, cmap = plt.cm.gray)"
   ]
  },
  {
   "cell_type": "code",
   "execution_count": 127,
   "id": "olive-notion",
   "metadata": {},
   "outputs": [],
   "source": [
    "# Using the AdaboostClassifier\n",
    "model_ = RandomForestClassifier(bootstrap = True, criterion = 'entropy', max_depth =25, max_features = 'auto', min_samples_leaf = 1, min_samples_split = 2, n_estimators = 150, random_state = 4244)"
   ]
  },
  {
   "cell_type": "code",
   "execution_count": 128,
   "id": "similar-opportunity",
   "metadata": {},
   "outputs": [],
   "source": [
    "abc_model = AdaBoostClassifier(base_estimator = model_, random_state = 4244, learning_rate = 0.1)"
   ]
  },
  {
   "cell_type": "code",
   "execution_count": 129,
   "id": "improved-works",
   "metadata": {},
   "outputs": [
    {
     "data": {
      "text/plain": [
       "AdaBoostClassifier(base_estimator=RandomForestClassifier(criterion='entropy',\n",
       "                                                         max_depth=25,\n",
       "                                                         n_estimators=150,\n",
       "                                                         random_state=4244),\n",
       "                   learning_rate=0.1, random_state=4244)"
      ]
     },
     "execution_count": 129,
     "metadata": {},
     "output_type": "execute_result"
    }
   ],
   "source": [
    "abc_model.fit(X_train_encoded, y_train)"
   ]
  },
  {
   "cell_type": "code",
   "execution_count": 130,
   "id": "naked-minutes",
   "metadata": {},
   "outputs": [],
   "source": [
    "y_pred = abc_model.predict(X_test_encoded)"
   ]
  },
  {
   "cell_type": "code",
   "execution_count": 131,
   "id": "frequent-hobby",
   "metadata": {},
   "outputs": [
    {
     "name": "stdout",
     "output_type": "stream",
     "text": [
      "Precision score: 0.757\n",
      "Accuracy Score:0.751\n",
      "Classification Report: \n",
      "                                                            precision    recall  f1-score   support\n",
      "\n",
      "                                                Batteries       0.85      0.98      0.91       760\n",
      "                                                   Brakes       0.76      0.60      0.67       760\n",
      "                                           Cooling System       0.70      0.83      0.76       760\n",
      "         Driveability (Fuel, Ignition & Emission Systems)       0.74      0.68      0.71       760\n",
      "Electrical (Belts, Lighting, Starting & Charging Systems)       0.70      0.78      0.74       760\n",
      "                                                   Engine       0.67      0.72      0.69       760\n",
      "           HVAC (Heating, Ventilation & Air Conditioning)       0.73      0.82      0.77       760\n",
      "               Oil, Lube & Preventive Maintenance Service       0.84      0.53      0.65       760\n",
      "                                    Steering & Suspension       0.82      0.60      0.69       760\n",
      "                                           Tires & Wheels       0.83      0.88      0.86       760\n",
      "                                    Transmission & Clutch       0.68      0.83      0.75       760\n",
      "\n",
      "                                                 accuracy                           0.75      8360\n",
      "                                                macro avg       0.76      0.75      0.75      8360\n",
      "                                             weighted avg       0.76      0.75      0.75      8360\n",
      "\n"
     ]
    }
   ],
   "source": [
    "print(\"Precision score: {:.3f}\".format(precision_score(y_test,y_pred , average='macro')))\n",
    "print(\"Accuracy Score:{:.3f}\".format(accuracy_score(y_test, y_pred)))\n",
    "print(\"Classification Report: \\n\", classification_report(y_test, y_pred))"
   ]
  },
  {
   "cell_type": "code",
   "execution_count": 132,
   "id": "formal-hospital",
   "metadata": {},
   "outputs": [
    {
     "data": {
      "text/plain": [
       "<matplotlib.image.AxesImage at 0x1fb4bf91df0>"
      ]
     },
     "execution_count": 132,
     "metadata": {},
     "output_type": "execute_result"
    },
    {
     "data": {
      "text/plain": [
       "<Figure size 1080x1080 with 0 Axes>"
      ]
     },
     "metadata": {},
     "output_type": "display_data"
    },
    {
     "data": {
      "image/png": "[encoded data removed]",
      "text/plain": [
       "<Figure size 288x288 with 1 Axes>"
      ]
     },
     "metadata": {
      "needs_background": "light"
     },
     "output_type": "display_data"
    }
   ],
   "source": [
    "conf_matrix = confusion_matrix(y_test, y_pred)\n",
    "\n",
    "plt.figure(figsize=(15,15))\n",
    "plt.matshow(conf_matrix, cmap = plt.cm.gray)"
   ]
  },
  {
   "cell_type": "code",
   "execution_count": 133,
   "id": "monthly-johns",
   "metadata": {},
   "outputs": [],
   "source": [
    "# OneVsOneClassifier "
   ]
  },
  {
   "cell_type": "code",
   "execution_count": 134,
   "id": "familiar-karen",
   "metadata": {},
   "outputs": [],
   "source": [
    "from sklearn.multiclass import OneVsOneClassifier, OneVsRestClassifier"
   ]
  },
  {
   "cell_type": "code",
   "execution_count": 135,
   "id": "underlying-packing",
   "metadata": {},
   "outputs": [],
   "source": [
    "clf = OneVsOneClassifier(model_, n_jobs = 4).fit(X_train_encoded, y_train)"
   ]
  },
  {
   "cell_type": "code",
   "execution_count": 136,
   "id": "superb-handy",
   "metadata": {},
   "outputs": [],
   "source": [
    "y_pred = clf.predict(X_test_encoded)"
   ]
  },
  {
   "cell_type": "code",
   "execution_count": 137,
   "id": "induced-ontario",
   "metadata": {},
   "outputs": [
    {
     "name": "stdout",
     "output_type": "stream",
     "text": [
      "Precision score: 0.763\n",
      "Accuracy Score:0.753\n",
      "Classification Report: \n",
      "                                                            precision    recall  f1-score   support\n",
      "\n",
      "                                                Batteries       0.85      0.98      0.91       760\n",
      "                                                   Brakes       0.75      0.62      0.68       760\n",
      "                                           Cooling System       0.70      0.82      0.76       760\n",
      "         Driveability (Fuel, Ignition & Emission Systems)       0.74      0.68      0.70       760\n",
      "Electrical (Belts, Lighting, Starting & Charging Systems)       0.70      0.80      0.75       760\n",
      "                                                   Engine       0.68      0.72      0.70       760\n",
      "           HVAC (Heating, Ventilation & Air Conditioning)       0.72      0.82      0.77       760\n",
      "               Oil, Lube & Preventive Maintenance Service       0.90      0.52      0.66       760\n",
      "                                    Steering & Suspension       0.83      0.62      0.71       760\n",
      "                                           Tires & Wheels       0.84      0.88      0.86       760\n",
      "                                    Transmission & Clutch       0.68      0.83      0.75       760\n",
      "\n",
      "                                                 accuracy                           0.75      8360\n",
      "                                                macro avg       0.76      0.75      0.75      8360\n",
      "                                             weighted avg       0.76      0.75      0.75      8360\n",
      "\n"
     ]
    }
   ],
   "source": [
    "print(\"Precision score: {:.3f}\".format(precision_score(y_test,y_pred , average='macro')))\n",
    "print(\"Accuracy Score:{:.3f}\".format(accuracy_score(y_test, y_pred)))\n",
    "print(\"Classification Report: \\n\", classification_report(y_test, y_pred))"
   ]
  },
  {
   "cell_type": "code",
   "execution_count": 138,
   "id": "unexpected-refrigerator",
   "metadata": {},
   "outputs": [
    {
     "data": {
      "text/plain": [
       "<matplotlib.image.AxesImage at 0x1fb4bb43ee0>"
      ]
     },
     "execution_count": 138,
     "metadata": {},
     "output_type": "execute_result"
    },
    {
     "data": {
      "image/png": "[encoded data removed]",
      "text/plain": [
       "<Figure size 288x288 with 1 Axes>"
      ]
     },
     "metadata": {
      "needs_background": "light"
     },
     "output_type": "display_data"
    }
   ],
   "source": [
    "# confusion matrix\n",
    "conf_matrix = confusion_matrix(y_test, y_pred)\n",
    "plt.matshow(conf_matrix, cmap = plt.cm.gray)"
   ]
  },
  {
   "cell_type": "code",
   "execution_count": null,
   "id": "tired-keyboard",
   "metadata": {},
   "outputs": [],
   "source": []
  }
 ],
 "metadata": {
  "kernelspec": {
   "display_name": "Python 3",
   "language": "python",
   "name": "python3"
  },
  "language_info": {
   "codemirror_mode": {
    "name": "ipython",
    "version": 3
   },
   "file_extension": ".py",
   "mimetype": "text/x-python",
   "name": "python",
   "nbconvert_exporter": "python",
   "pygments_lexer": "ipython3",
   "version": "3.8.8"
  }
 },
 "nbformat": 4,
 "nbformat_minor": 5
}
