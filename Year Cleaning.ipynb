{
 "cells": [
  {
   "cell_type": "code",
   "execution_count": 128,
   "id": "casual-polymer",
   "metadata": {
    "execution": {
     "iopub.execute_input": "2021-03-25T10:14:15.536087Z",
     "iopub.status.busy": "2021-03-25T10:14:15.535056Z",
     "iopub.status.idle": "2021-03-25T10:14:15.554005Z",
     "shell.execute_reply": "2021-03-25T10:14:15.552165Z",
     "shell.execute_reply.started": "2021-03-25T10:14:15.536087Z"
    },
    "tags": []
   },
   "outputs": [],
   "source": [
    "import pandas as pd\n",
    "import warnings\n",
    "warnings.filterwarnings('ignore')"
   ]
  },
  {
   "cell_type": "code",
   "execution_count": 129,
   "id": "alike-homework",
   "metadata": {
    "execution": {
     "iopub.execute_input": "2021-03-25T10:14:15.557995Z",
     "iopub.status.busy": "2021-03-25T10:14:15.556998Z",
     "iopub.status.idle": "2021-03-25T10:14:16.526180Z",
     "shell.execute_reply": "2021-03-25T10:14:16.524308Z",
     "shell.execute_reply.started": "2021-03-25T10:14:15.557995Z"
    },
    "tags": []
   },
   "outputs": [],
   "source": [
    "# Input the dataset here\n",
    "df = pd.read_csv(\"Compiled Dataset (For Modelling).csv\", low_memory = False)"
   ]
  },
  {
   "cell_type": "code",
   "execution_count": 130,
   "id": "applied-mainland",
   "metadata": {
    "execution": {
     "iopub.execute_input": "2021-03-25T10:14:16.533115Z",
     "iopub.status.busy": "2021-03-25T10:14:16.532118Z",
     "iopub.status.idle": "2021-03-25T10:14:16.558084Z",
     "shell.execute_reply": "2021-03-25T10:14:16.556055Z",
     "shell.execute_reply.started": "2021-03-25T10:14:16.533115Z"
    },
    "tags": []
   },
   "outputs": [
    {
     "data": {
      "text/plain": [
       "(43020, 33)"
      ]
     },
     "execution_count": 130,
     "metadata": {},
     "output_type": "execute_result"
    }
   ],
   "source": [
    "df.shape"
   ]
  },
  {
   "cell_type": "code",
   "execution_count": 131,
   "id": "operational-remains",
   "metadata": {
    "execution": {
     "iopub.execute_input": "2021-03-25T10:14:16.564038Z",
     "iopub.status.busy": "2021-03-25T10:14:16.563041Z",
     "iopub.status.idle": "2021-03-25T10:14:16.983078Z",
     "shell.execute_reply": "2021-03-25T10:14:16.980757Z",
     "shell.execute_reply.started": "2021-03-25T10:14:16.564038Z"
    },
    "tags": []
   },
   "outputs": [],
   "source": [
    "def dataset_year_zero(dataset):\n",
    "  \"\"\"\n",
    "  This function locates the values with year = 0 and drops the null values under the VIN.\n",
    "  \"\"\"\n",
    "  dataset = dataset.loc[dataset['Year'] == 0,:]\n",
    "  dataset.dropna(subset = ['VIN'], inplace = True)\n",
    "\n",
    "  # KMFZBX7BAEU009739 is 2013 Hyundai H100\n",
    "  dataset.loc[dataset['VIN'] == 'KMFZBX7BAEU009739','Year'] = 2013\n",
    "\n",
    "  # MR053HY4109007212 is 2005 Toyota Suluna Vios\n",
    "  dataset.loc[dataset['VIN'] == 'MR053HY4109007212','Year'] = 2005\n",
    "\n",
    "  # MMBGRKG40BF020071 is 2011 Mitsubishi Vativa/ Paj Sport\n",
    "  dataset.loc[dataset['VIN'] == 'MMBGRKG40BF020071','Year'] = 2011\n",
    "\n",
    "  # MRHCP26209P020051 is 2009 Honda\n",
    "  dataset.loc[dataset['VIN'] == 'MRHCP26209P020051','Year'] = 2009\n",
    "\n",
    "  # JF1SHSLS59G019887 is 2009 Subaru\n",
    "  dataset.loc[dataset['VIN'] == 'JF1SHSLS59G019887','Year'] = 2009\n",
    "\n",
    "  # MMMA69B1EH7054733 is 1987\n",
    "  dataset.loc[dataset['VIN'] == 'MMMA69B1EH7054733','Year'] = 1987\n",
    "\n",
    "  # JMYLYV98WDJ000492 is 2013 Pajero\n",
    "  dataset.loc[dataset['VIN'] == 'JMYLYV98WDJ000492','Year'] = 2013\n",
    "\n",
    "  # JTMZD31V405085757 is 2008 Toyota Rav 4\n",
    "  dataset.loc[dataset['VIN'] == 'JMYLYV98WDJ000492','Year'] = 2008\n",
    "\n",
    "  #PAEL65MYEDB010311 is 2013 Mitsubishi\n",
    "  dataset.loc[dataset['VIN'] == 'PAEL65MYEDB010311','Year'] = 2013\n",
    "\n",
    "  #KMHBT51DP8U838103 is 2008 Hyundai Getz\n",
    "  dataset.loc[dataset['VIN'] == 'KMHBT51DP8U838103','Year'] = 2008\n",
    "\n",
    "  #PADGM663OEV002809 is 2014 Honda\n",
    "  dataset.loc[dataset['VIN'] == 'PADGM663OEV002809','Year'] = 2014\n",
    "\n",
    "  # MR0ES12G003041038 is 2012 Hilux\n",
    "  dataset.loc[dataset['VIN'] == 'MR0ES12G003041038','Year'] = 2012\n",
    "\n",
    "  # MPBSXXMXKSEB87874 - 1995 Ford Ecosport\n",
    "  dataset.loc[dataset['VIN'] == 'MPBSXXMXKSEB87874','Year'] = 1995\n",
    "\n",
    "  # MPAUCR85H81100056 - 2008 Chevrolet\n",
    "  dataset.loc[dataset['VIN'] == 'MPAUCR85H81100056','Year'] = 2008\n",
    "\n",
    "  # MPBSXXMXKSGR39030 - 1995 Ford Ecosport\n",
    "  dataset.loc[dataset['VIN'] == 'MPBSXXMXKSGR39030','Year'] = 1995\n",
    "\n",
    "  # MMBXTA03AGH007599 - 2016 Mitsubishi Mirage\n",
    "  dataset.loc[dataset['VIN'] == 'MMBXTA03AGH007599','Year'] = 2016\n",
    "\n",
    "  # MMBJNKA40AD000947 - 2000 Mitsubishi \n",
    "  dataset.loc[dataset['VIN'] == 'MMBJNKA40AD000947','Year'] = 2000\n",
    "\n",
    "  # PAEL35MYFFB024336 - 2015 Mitsubishi\n",
    "  dataset.loc[dataset['VIN'] == 'PAEL35MYFFB024336','Year'] = 2015\n",
    "\n",
    "  # MHKA4D4E3F05002474 - 2015 Daihatsu\n",
    "  dataset.loc[dataset['VIN'] == 'MHKA4D4E3F05002474','Year'] = 2015\n",
    "\n",
    "  # PADGM26509V002527 - 2009 Honda\n",
    "  dataset.loc[dataset['VIN'] == 'PADGM26509V002527','Year'] = 2009\n",
    "\n",
    "  # MHFMICF3F8K002745 - 2008 Toyota Avanze\n",
    "  dataset.loc[dataset['VIN'] == 'MHFMICF3F8K002745','Year'] = 2008\n",
    "\n",
    "  # MR0RER32G506012818 - 2005 Toyota\n",
    "  dataset.loc[dataset['VIN'] == 'MR0RER32G506012818','Year'] = 2005\n",
    "\n",
    "  # KL1SF6971AH200854 - 2010 Chevrolet\n",
    "  dataset.loc[dataset['VIN'] == 'KL1SF6971AH200854','Year'] = 2010\n",
    "\n",
    "  # MNCUMFF50FW452634 - 2015 Ford Ranger\n",
    "  dataset.loc[dataset['VIN'] == 'MNCUMFF50FW452634','Year'] = 2015\n",
    "\n",
    "  # MMM156MH0DHB63080 - 2013 Chevrolet\n",
    "  dataset.loc[dataset['VIN'] == 'MMM156MH0DHB63080','Year'] = 2013\n",
    "\n",
    "  # MPBSXXMXKSES62788 - 1995 Ford Ecosport\n",
    "  dataset.loc[dataset['VIN'] == 'MPBSXXMXKSES62788','Year'] = 1995\n",
    "  \n",
    "  df.update(dataset)\n",
    "\n",
    "dataset_year_zero(df)\n",
    "\n",
    "# Dropped the values of 0, lesser than 1000 and greater than 3000 because we cannot impute the values and the VINs are not available\n",
    "df.drop(df.loc[(df['Year'] == 0) | (df['Year'] < 1000) | (df['Year'] > 3000)].index, inplace = True)"
   ]
  },
  {
   "cell_type": "code",
   "execution_count": 132,
   "id": "closing-grove",
   "metadata": {
    "execution": {
     "iopub.execute_input": "2021-03-25T10:14:16.988065Z",
     "iopub.status.busy": "2021-03-25T10:14:16.987109Z",
     "iopub.status.idle": "2021-03-25T10:14:17.015135Z",
     "shell.execute_reply": "2021-03-25T10:14:17.012337Z",
     "shell.execute_reply.started": "2021-03-25T10:14:16.988065Z"
    },
    "tags": []
   },
   "outputs": [
    {
     "data": {
      "text/plain": [
       "40722"
      ]
     },
     "execution_count": 132,
     "metadata": {},
     "output_type": "execute_result"
    }
   ],
   "source": [
    "len(df['Year'] == 0)"
   ]
  },
  {
   "cell_type": "code",
   "execution_count": 133,
   "id": "ongoing-rating",
   "metadata": {
    "execution": {
     "iopub.execute_input": "2021-03-25T10:14:17.020121Z",
     "iopub.status.busy": "2021-03-25T10:14:17.019162Z",
     "iopub.status.idle": "2021-03-25T10:14:19.688234Z",
     "shell.execute_reply": "2021-03-25T10:14:19.686263Z",
     "shell.execute_reply.started": "2021-03-25T10:14:17.020121Z"
    }
   },
   "outputs": [],
   "source": [
    "df.to_csv(\"Compiled Dataset (For Modelling).csv\")"
   ]
  },
  {
   "cell_type": "code",
   "execution_count": null,
   "id": "positive-germany",
   "metadata": {},
   "outputs": [],
   "source": []
  }
 ],
 "metadata": {
  "kernelspec": {
   "display_name": "Python 3",
   "language": "python",
   "name": "python3"
  },
  "language_info": {
   "codemirror_mode": {
    "name": "ipython",
    "version": 3
   },
   "file_extension": ".py",
   "mimetype": "text/x-python",
   "name": "python",
   "nbconvert_exporter": "python",
   "pygments_lexer": "ipython3",
   "version": "3.8.8"
  }
 },
 "nbformat": 4,
 "nbformat_minor": 5
}
